{
 "cells": [
  {
   "cell_type": "markdown",
   "metadata": {},
   "source": [
    "# Plynty Bureau of Labor Statistics Consumer Expenditure Analysis\n",
    "\n",
    "[BLS Comsumer Expenditure Survey](https://www.bls.gov/cex/home.htm)\n",
    "\n",
    "[Interview Data Dictionary](https://www.bls.gov/cex/2015/csxintvwdata.pdf)\n",
    "\n",
    "[Diary Data Dictionary](https://www.bls.gov/cex/2015/csxdiarydata.pdf)\n",
    "\n",
    "### Where to download the BLS CE PUMD\n",
    "- The zip files download automatically\n",
    "- To download the Stub files open the links then right click and choose \"Save As...\"\n",
    "\n",
    "[2015 interview zip file](https://www.bls.gov/cex/pumd/data/comma/intrvw15.zip)\n",
    "\n",
    "[2015 diary zip file](https://www.bls.gov/cex/pumd/data/comma/diary15.zip)\n",
    "\n",
    "[2015 IntStub file](https://www.bls.gov/cex/pumd/2014/csxintstub.txt)\n",
    "\n",
    "[2015 IStub file](https://www.bls.gov/cex/pumd/2014/csxistub.txt)\n",
    "\n",
    "[2015 DStub file](https://www.bls.gov/cex/pumd/2014/csxdstub.txt)\n",
    "\n",
    "### This Scripts Goals for Plynty\n",
    "- Create an easy to use analysis script for the BLS CE PUMD \n",
    "- Create a csv files that has average percentages spent on plynty categories for certain income classes\n",
    "- Create incomeclasses that are stastically significant"
   ]
  },
  {
   "cell_type": "markdown",
   "metadata": {},
   "source": [
    "##### Importing Libraries "
   ]
  },
  {
   "cell_type": "code",
   "execution_count": 1,
   "metadata": {
    "collapsed": false
   },
   "outputs": [],
   "source": [
    "import pandas as pd\n",
    "import numpy as np\n",
    "import os\n",
    "import subprocess\n",
    "import math\n",
    "import matplotlib.pyplot as plt\n",
    "from plyntywidgets import *\n",
    "from blsFunctions import *"
   ]
  },
  {
   "cell_type": "markdown",
   "metadata": {},
   "source": [
    "### Setting Parameters\n",
    "- year: the last two number associated with the year of the data\n",
    "    for example for data from 2015: year = \"15\"\n",
    "- minAge: the low bound (inclusive) of the age range you wish to subset by\n",
    "- maxAge: the high bound (inclusive) of the age range you wish to subset by\n",
    "- incomeBrackets: array of numbers that you wish to create the new income classes\n",
    "    the bracketing works as follows (1,2], (2,3], (3,4]\n",
    "- filesToRead: the strings of the abbreviations associated with the files you wish to read\n",
    "    options are: \"all\", \"diary\", \"interview\", \"dtbd\", \"expd\", \"fmld\", \"memd\", \"fmli\", \"itbi\", \"memi\", \"mtbi\", \"ntaxi\""
   ]
  },
  {
   "cell_type": "code",
   "execution_count": 2,
   "metadata": {
    "collapsed": false
   },
   "outputs": [],
   "source": [
    "year = \"15\"\n",
    "# hard coding ages\n",
    "# minAge = 55\n",
    "# maxAge = 64\n",
    "# filesToRead = [\"fmli\", \"mtbi\"]\n",
    "incomeBrackets = [-math.inf,11000,20000,30000,43000,55000,69000,80000,100000,120000,150000,200000,250000,300000,math.inf]\n",
    "\n",
    "# Display Cool widgets\n",
    "display(ageRange, readFiles)"
   ]
  },
  {
   "cell_type": "markdown",
   "metadata": {},
   "source": [
    "### Using the widgets to set values"
   ]
  },
  {
   "cell_type": "code",
   "execution_count": 3,
   "metadata": {
    "collapsed": false
   },
   "outputs": [],
   "source": [
    "# setting age range using the cool widget\n",
    "minAge = ageRange.value[0]\n",
    "maxAge = ageRange.value[1]\n",
    "# setting the filesToRead using the cool widget\n",
    "filesToRead = readFiles.value"
   ]
  },
  {
   "cell_type": "markdown",
   "metadata": {},
   "source": [
    "### Setting Directory locations and FileNames on your Local Machine"
   ]
  },
  {
   "cell_type": "code",
   "execution_count": 4,
   "metadata": {
    "collapsed": false
   },
   "outputs": [],
   "source": [
    "# directory in which the diary and interview folders are held is located\n",
    "diaryDir = \"/Users/adyke/Vizuri/CE_PUMD/diary15/\"\n",
    "interviewDir = \"/Users/adyke/Vizuri/CE_PUMD/intrvw15/\"\n",
    "\n",
    "# Directory where stubfiles are located\n",
    "pathToStubFileDir = \"/Users/adyke/Vizuri/Stubfiles/\"\n",
    "rScriptStubfilePathAndName = \"/Users/adyke/Vizuri/BLS_Python_Analysis/creatingStubCsvs.R\"\n",
    "\n",
    "# Filenames of the Stubfiles\n",
    "IStubFileName = \"IStub2015.txt\"\n",
    "DStubFileName = \"DStub2015.txt\"\n",
    "IntStubFileName = \"IntStub2015.txt\"\n",
    "\n",
    "# name of interview dir within the interview dir\n",
    "insideIntrvwDirName = \"intrvw\"\n",
    "\n",
    "# name of the directory where you want the output percentages csv\n",
    "outputDir = \"/Users/adyke/Vizuri/outputFiles/\""
   ]
  },
  {
   "cell_type": "markdown",
   "metadata": {},
   "source": [
    "### Reading in the files specified by FilesToRead"
   ]
  },
  {
   "cell_type": "code",
   "execution_count": 5,
   "metadata": {
    "collapsed": false
   },
   "outputs": [],
   "source": [
    "if(len(filesToRead)==0):\n",
    "\tprint(\"The files to read variable is empty.\")\n",
    "\n",
    "# looping through each file to read\n",
    "for file in filesToRead:\n",
    "\tif file == \"dtbd\" or file == \"all\" or file == \"diary\":\n",
    "\t\tdtbd = readFileSet(\"dtbd\", diaryDir)\n",
    "\tif file == \"expd\" or file == \"all\" or file == \"diary\":\n",
    "\t\texpd = readFileSet(\"expd\", diaryDir)\n",
    "\tif file == \"fmld\" or file == \"all\" or file == \"diary\":\n",
    "\t\tfmld = readFileSet(\"fmld\", diaryDir)\n",
    "\tif file == \"memd\" or file == \"all\" or file == \"diary\":\n",
    "\t\tmemd = readFileSet(\"memd\", diaryDir)\n",
    "\tif file == \"fmli\" or file == \"all\" or file == \"interview\":\n",
    "\t\tfmli = readFileSet(\"fmli\", interviewDir+insideIntrvwDirName+year+\"/\")\n",
    "\tif file == \"itbi\" or file == \"all\" or file == \"interview\":\n",
    "\t\titbi = readFileSet(\"itbi\", interviewDir+insideIntrvwDirName+year+\"/\")\n",
    "\tif file == \"itii\" or file == \"all\" or file == \"interview\":\n",
    "\t\titii = readFileSet(\"itii\", interviewDir+insideIntrvwDirName+year+\"/\")\n",
    "\tif file == \"memi\" or file == \"all\" or file == \"interview\":\n",
    "\t\tmemi = readFileSet(\"memi\", interviewDir+insideIntrvwDirName+year+\"/\")\n",
    "\tif file == \"mtbi\" or file == \"all\" or file == \"interview\":\n",
    "\t\tmtbi = readFileSet(\"mtbi\", interviewDir+insideIntrvwDirName+year+\"/\")\n",
    "\tif file == \"ntaxi\" or file == \"all\" or file == \"interview\":\n",
    "\t\tntaxi = readFileSet(\"ntaxi\", interviewDir+insideIntrvwDirName+year+\"/\")\n",
    "\t# does not read form the expn or para subdirectories\n"
   ]
  },
  {
   "cell_type": "markdown",
   "metadata": {},
   "source": [
    "### Using R to convert the Stub files into csv files"
   ]
  },
  {
   "cell_type": "code",
   "execution_count": 6,
   "metadata": {
    "collapsed": false
   },
   "outputs": [
    {
     "name": "stdout",
     "output_type": "stream",
     "text": [
      "Stubfile Csvs created in /Users/adyke/Vizuri/Stubfiles/\n"
     ]
    }
   ],
   "source": [
    "if os.path.isfile(pathToStubFileDir+\"DStub.csv\") and os.path.isfile(pathToStubFileDir+\"IStub.csv\") and os.path.isfile(pathToStubFileDir+\"IntStub.csv\"):\n",
    "    print(\"Stubfiles Exist\")\n",
    "else:\n",
    "    # converting the stub files via R \n",
    "    subprocess.call(\"Rscript \"+rScriptStubfilePathAndName+\" \"+pathToStubFileDir+\" \"+IStubFileName+\" \"+DStubFileName+\" \"+IntStubFileName, shell=True)\n",
    "    print(\"Stubfile Csvs created in \"+pathToStubFileDir)"
   ]
  },
  {
   "cell_type": "markdown",
   "metadata": {},
   "source": [
    "### Reading and Cleaning the stubfile CSVs into pandas dataframes"
   ]
  },
  {
   "cell_type": "code",
   "execution_count": 7,
   "metadata": {
    "collapsed": false
   },
   "outputs": [],
   "source": [
    "# reading in the stubfiles\n",
    "DStub = pd.read_csv(pathToStubFileDir+\"DStub.csv\")\n",
    "IStub = pd.read_csv(pathToStubFileDir+\"IStub.csv\")\n",
    "IntStub = pd.read_csv(pathToStubFileDir+\"IntStub.csv\")\n",
    "\n",
    "# removing the index from the stufile\n",
    "DStub = DStub.drop(DStub.columns[0], axis=1)\n",
    "IStub = IStub.drop(IStub.columns[0], axis=1)\n",
    "IntStub = IntStub.drop(IntStub.columns[0], axis=1)\n",
    "\n",
    "# replacing * with 0 in the level columns\n",
    "DStub.loc[DStub.level == \"*\", 'level'] = 0\n",
    "IStub.loc[IStub.level == \"*\", 'level'] = 0\n",
    "IntStub.loc[IntStub.level == \"*\", 'level'] = 0"
   ]
  },
  {
   "cell_type": "markdown",
   "metadata": {},
   "source": [
    "### Creating the UCC roll ups for Plynty"
   ]
  },
  {
   "cell_type": "code",
   "execution_count": 8,
   "metadata": {
    "collapsed": false
   },
   "outputs": [],
   "source": [
    "# creating UCC rollups for the interview files for plynty categories\n",
    "iTotalExp = categoricalUCCRollUp(IStub,[\"TOTALE\"])\n",
    "iFoodAtHome = categoricalUCCRollUp(IStub, [\"FOODHO\", \"ALCHOM\"])\n",
    "iFoodAway = categoricalUCCRollUp(IStub, [\"FOODAW\", \"ALCAWA\"])\n",
    "iHousing = categoricalUCCRollUp(IStub, [\"HOUSIN\"], ignoreUCCs = categoricalUCCRollUp(IStub, [\"UTILS\"]))\n",
    "iUtilites = categoricalUCCRollUp(IStub, [\"UTILS\"])\n",
    "iClothingAndBeauty = categoricalUCCRollUp(IStub, [\"APPARE\",\"PERSCA\"])\n",
    "iTransportation = categoricalUCCRollUp(IStub, [\"TRANS\"])\n",
    "iHealthcare = categoricalUCCRollUp(IStub, [\"HEALTH\"])\n",
    "iEntertainment = categoricalUCCRollUp(IStub, [\"ENTRTA\",\"READIN\"])\n",
    "iMiscellaneous = categoricalUCCRollUp(IStub, [\"MISC\",\"TOBACC\"])\n",
    "iCharitableAndFamilyGiving = categoricalUCCRollUp(IStub, [\"CASHCO\"])\n",
    "iInsurance = categoricalUCCRollUp(IStub, [\"LIFEIN\"])\n",
    "iEducation = categoricalUCCRollUp(IStub, [\"EDUCAT\"])\n",
    "iHousingPrinciple = categoricalUCCRollUp(IStub,[\"MRTPRI\"])"
   ]
  },
  {
   "cell_type": "markdown",
   "metadata": {},
   "source": [
    "### Cleaning and reseting the indecies of the MTBI file"
   ]
  },
  {
   "cell_type": "code",
   "execution_count": 9,
   "metadata": {
    "collapsed": false
   },
   "outputs": [],
   "source": [
    "# restting the index\n",
    "# mtbi.reset_index()\n",
    "\n",
    "# Change mtbi UCC column to string\n",
    "# needed for the loop through rollups\n",
    "mtbi.UCC = mtbi.UCC.astype(str)"
   ]
  },
  {
   "cell_type": "markdown",
   "metadata": {},
   "source": [
    "### Adding and Rolling up the MTBI Categories into mtbiRolledUp"
   ]
  },
  {
   "cell_type": "code",
   "execution_count": 10,
   "metadata": {
    "collapsed": false
   },
   "outputs": [
    {
     "name": "stdout",
     "output_type": "stream",
     "text": [
      "I found a negative -4\n"
     ]
    }
   ],
   "source": [
    "rollupNames = [\"iTotalExp\",\"iFoodAtHome\",\"iFoodAway\",\"iHousing\",\"iUtilites\",\"iClothingAndBeauty\",\"iTransportation\",\"iHealthcare\",\"iEntertainment\",\"iMiscellaneous\",\"iCharitableAndFamilyGiving\",\"iInsurance\",\"iEducation\",\"iHousingPrinciple\"]\n",
    "rollups = [iTotalExp,iFoodAtHome,iFoodAway,iHousing,iUtilites,iClothingAndBeauty,iTransportation,iHealthcare,iEntertainment,iMiscellaneous,iCharitableAndFamilyGiving,iInsurance,iEducation,iHousingPrinciple]\n",
    "\n",
    "mtbiRolledUp = rollUpDataframe(mtbi, rollupNames, rollups, negativeColumns=[\"iHousingPrinciple\"], multiple=4)\n",
    "\n",
    "mtbiTrimmed = mtbiRolledUp.loc[: , ['NEWID','iTotalExp','iFoodAtHome','iFoodAway','iHousing','iUtilites','iClothingAndBeauty','iTransportation','iHealthcare','iEntertainment','iMiscellaneous','iCharitableAndFamilyGiving','iInsurance','iEducation','iHousingPrinciple']]"
   ]
  },
  {
   "cell_type": "markdown",
   "metadata": {},
   "source": [
    "### Creating the Sum for all expenditure category columns for each NEWID\n",
    "Testing removing the rows that have 0 response for columns that we think are important"
   ]
  },
  {
   "cell_type": "code",
   "execution_count": 11,
   "metadata": {
    "collapsed": false
   },
   "outputs": [],
   "source": [
    "# adding up all columns for each new id\n",
    "iExpensesByNewID = mtbiTrimmed.groupby(['NEWID'],as_index=False).sum()\n",
    "# removing rows with zero values in key categories\n",
    "nonZeroColumns = ['iFoodAtHome','iFoodAway','iHousing','iUtilites']\n",
    "for column in nonZeroColumns:\n",
    "    iExpensesByNewID = iExpensesByNewID[iExpensesByNewID[column] != 0]\n",
    "iExpensesByNewID['iHousing'] = iExpensesByNewID['iHousing']+iExpensesByNewID['iHousingPrinciple']"
   ]
  },
  {
   "cell_type": "markdown",
   "metadata": {},
   "source": [
    "### Subestting FMLI for age and recoding the incomebrackets"
   ]
  },
  {
   "cell_type": "code",
   "execution_count": 12,
   "metadata": {
    "collapsed": false,
    "scrolled": true
   },
   "outputs": [],
   "source": [
    "# subsetting for the age bracket\n",
    "fmliAge = subsetDataframe(dataframe=fmli, columnName=\"AGE_REF\", minValue=minAge, maxValue=maxAge)\n",
    "fmliAge = fmliAge.reset_index()\n",
    "\n",
    "# recoding the income brackets\n",
    "fmliRecoded = binColumn(dataframe=fmliAge, toBinColumnName=\"FINCBTXM\", binValues=incomeBrackets, binnedColumnName=\"INCLASS\", labels=range(1,len(incomeBrackets)))"
   ]
  },
  {
   "cell_type": "markdown",
   "metadata": {},
   "source": [
    "### Adding the Income class colum to the ExpensesByNewID dataframe"
   ]
  },
  {
   "cell_type": "code",
   "execution_count": 13,
   "metadata": {
    "collapsed": false
   },
   "outputs": [],
   "source": [
    "# combining the fmli and iExpensesByNewID\n",
    "inclassExpenses = pd.merge(left=fmliRecoded[['NEWID','INCLASS']],right=iExpensesByNewID, on=['NEWID'])"
   ]
  },
  {
   "cell_type": "markdown",
   "metadata": {
    "collapsed": false
   },
   "source": [
    "### Averaging the expenditures based on incomebrackets"
   ]
  },
  {
   "cell_type": "code",
   "execution_count": 14,
   "metadata": {
    "collapsed": false,
    "scrolled": false
   },
   "outputs": [],
   "source": [
    "# getting mean for all columns with the same income class besides newId and creating new dataframe\n",
    "inclassAverages = round(inclassExpenses.ix[: ,inclassExpenses.columns != 'NEWID'].groupby(['INCLASS'],as_index=False).mean(),2)\n",
    "\n",
    "# inclassAverages\n"
   ]
  },
  {
   "cell_type": "markdown",
   "metadata": {},
   "source": [
    "### Median of the expenditures based on income brackets"
   ]
  },
  {
   "cell_type": "code",
   "execution_count": 15,
   "metadata": {
    "collapsed": false
   },
   "outputs": [],
   "source": [
    "inclassMedians = round(inclassExpenses.ix[:,inclassExpenses.columns != 'NEWID'].groupby(['INCLASS'],as_index=False).median(),2)\n",
    "# inclassMedians"
   ]
  },
  {
   "cell_type": "markdown",
   "metadata": {},
   "source": [
    "### Converting the Average expenditures for income classes into percentages of expenditures"
   ]
  },
  {
   "cell_type": "code",
   "execution_count": 16,
   "metadata": {
    "collapsed": false
   },
   "outputs": [
    {
     "data": {
      "text/html": [
       "<div>\n",
       "<table border=\"1\" class=\"dataframe\">\n",
       "  <thead>\n",
       "    <tr style=\"text-align: right;\">\n",
       "      <th></th>\n",
       "      <th>iFoodAtHome</th>\n",
       "      <th>iFoodAway</th>\n",
       "      <th>iHousing</th>\n",
       "      <th>iUtilites</th>\n",
       "      <th>iClothingAndBeauty</th>\n",
       "      <th>iTransportation</th>\n",
       "      <th>iHealthcare</th>\n",
       "      <th>iEntertainment</th>\n",
       "      <th>iMiscellaneous</th>\n",
       "      <th>iCharitableAndFamilyGiving</th>\n",
       "      <th>iInsurance</th>\n",
       "      <th>iEducation</th>\n",
       "      <th>iHousingPrinciple</th>\n",
       "    </tr>\n",
       "  </thead>\n",
       "  <tbody>\n",
       "    <tr>\n",
       "      <th>0</th>\n",
       "      <td>0.131886</td>\n",
       "      <td>0.066590</td>\n",
       "      <td>0.290843</td>\n",
       "      <td>0.101500</td>\n",
       "      <td>0.026746</td>\n",
       "      <td>0.168671</td>\n",
       "      <td>0.106250</td>\n",
       "      <td>0.057058</td>\n",
       "      <td>0.021890</td>\n",
       "      <td>0.046355</td>\n",
       "      <td>0.002804</td>\n",
       "      <td>0.001114</td>\n",
       "      <td>0.021706</td>\n",
       "    </tr>\n",
       "    <tr>\n",
       "      <th>1</th>\n",
       "      <td>0.139287</td>\n",
       "      <td>0.058106</td>\n",
       "      <td>0.306757</td>\n",
       "      <td>0.113760</td>\n",
       "      <td>0.027570</td>\n",
       "      <td>0.167590</td>\n",
       "      <td>0.089041</td>\n",
       "      <td>0.053154</td>\n",
       "      <td>0.016914</td>\n",
       "      <td>0.033781</td>\n",
       "      <td>0.004308</td>\n",
       "      <td>0.015016</td>\n",
       "      <td>0.025284</td>\n",
       "    </tr>\n",
       "    <tr>\n",
       "      <th>2</th>\n",
       "      <td>0.139203</td>\n",
       "      <td>0.062098</td>\n",
       "      <td>0.276772</td>\n",
       "      <td>0.103323</td>\n",
       "      <td>0.025925</td>\n",
       "      <td>0.182569</td>\n",
       "      <td>0.108871</td>\n",
       "      <td>0.062340</td>\n",
       "      <td>0.026186</td>\n",
       "      <td>0.026102</td>\n",
       "      <td>0.004636</td>\n",
       "      <td>0.006261</td>\n",
       "      <td>0.024287</td>\n",
       "    </tr>\n",
       "    <tr>\n",
       "      <th>3</th>\n",
       "      <td>0.129805</td>\n",
       "      <td>0.064351</td>\n",
       "      <td>0.279114</td>\n",
       "      <td>0.094477</td>\n",
       "      <td>0.029280</td>\n",
       "      <td>0.175372</td>\n",
       "      <td>0.112486</td>\n",
       "      <td>0.063223</td>\n",
       "      <td>0.027639</td>\n",
       "      <td>0.043683</td>\n",
       "      <td>0.005953</td>\n",
       "      <td>0.002715</td>\n",
       "      <td>0.028098</td>\n",
       "    </tr>\n",
       "    <tr>\n",
       "      <th>4</th>\n",
       "      <td>0.126034</td>\n",
       "      <td>0.063207</td>\n",
       "      <td>0.272018</td>\n",
       "      <td>0.097737</td>\n",
       "      <td>0.026748</td>\n",
       "      <td>0.212470</td>\n",
       "      <td>0.106827</td>\n",
       "      <td>0.058538</td>\n",
       "      <td>0.017832</td>\n",
       "      <td>0.038724</td>\n",
       "      <td>0.006247</td>\n",
       "      <td>0.005881</td>\n",
       "      <td>0.032262</td>\n",
       "    </tr>\n",
       "    <tr>\n",
       "      <th>5</th>\n",
       "      <td>0.116602</td>\n",
       "      <td>0.059898</td>\n",
       "      <td>0.286347</td>\n",
       "      <td>0.094286</td>\n",
       "      <td>0.031239</td>\n",
       "      <td>0.194396</td>\n",
       "      <td>0.119756</td>\n",
       "      <td>0.051148</td>\n",
       "      <td>0.023404</td>\n",
       "      <td>0.038399</td>\n",
       "      <td>0.007093</td>\n",
       "      <td>0.018212</td>\n",
       "      <td>0.040780</td>\n",
       "    </tr>\n",
       "    <tr>\n",
       "      <th>6</th>\n",
       "      <td>0.115605</td>\n",
       "      <td>0.059821</td>\n",
       "      <td>0.293193</td>\n",
       "      <td>0.085030</td>\n",
       "      <td>0.030774</td>\n",
       "      <td>0.201864</td>\n",
       "      <td>0.121270</td>\n",
       "      <td>0.057424</td>\n",
       "      <td>0.013061</td>\n",
       "      <td>0.037266</td>\n",
       "      <td>0.009924</td>\n",
       "      <td>0.015833</td>\n",
       "      <td>0.041066</td>\n",
       "    </tr>\n",
       "    <tr>\n",
       "      <th>7</th>\n",
       "      <td>0.109720</td>\n",
       "      <td>0.060312</td>\n",
       "      <td>0.307076</td>\n",
       "      <td>0.086876</td>\n",
       "      <td>0.027628</td>\n",
       "      <td>0.210327</td>\n",
       "      <td>0.107145</td>\n",
       "      <td>0.061942</td>\n",
       "      <td>0.016551</td>\n",
       "      <td>0.046634</td>\n",
       "      <td>0.010414</td>\n",
       "      <td>0.010902</td>\n",
       "      <td>0.055529</td>\n",
       "    </tr>\n",
       "    <tr>\n",
       "      <th>8</th>\n",
       "      <td>0.107397</td>\n",
       "      <td>0.066736</td>\n",
       "      <td>0.313717</td>\n",
       "      <td>0.085637</td>\n",
       "      <td>0.030373</td>\n",
       "      <td>0.198535</td>\n",
       "      <td>0.106032</td>\n",
       "      <td>0.064497</td>\n",
       "      <td>0.017613</td>\n",
       "      <td>0.045534</td>\n",
       "      <td>0.010484</td>\n",
       "      <td>0.014313</td>\n",
       "      <td>0.060869</td>\n",
       "    </tr>\n",
       "    <tr>\n",
       "      <th>9</th>\n",
       "      <td>0.100842</td>\n",
       "      <td>0.068627</td>\n",
       "      <td>0.345528</td>\n",
       "      <td>0.079308</td>\n",
       "      <td>0.033725</td>\n",
       "      <td>0.185834</td>\n",
       "      <td>0.091287</td>\n",
       "      <td>0.064782</td>\n",
       "      <td>0.015257</td>\n",
       "      <td>0.048297</td>\n",
       "      <td>0.007269</td>\n",
       "      <td>0.024916</td>\n",
       "      <td>0.065672</td>\n",
       "    </tr>\n",
       "    <tr>\n",
       "      <th>10</th>\n",
       "      <td>0.101237</td>\n",
       "      <td>0.068184</td>\n",
       "      <td>0.320021</td>\n",
       "      <td>0.073801</td>\n",
       "      <td>0.036754</td>\n",
       "      <td>0.186680</td>\n",
       "      <td>0.101788</td>\n",
       "      <td>0.062202</td>\n",
       "      <td>0.015872</td>\n",
       "      <td>0.030188</td>\n",
       "      <td>0.030839</td>\n",
       "      <td>0.034981</td>\n",
       "      <td>0.062548</td>\n",
       "    </tr>\n",
       "    <tr>\n",
       "      <th>11</th>\n",
       "      <td>0.078604</td>\n",
       "      <td>0.064070</td>\n",
       "      <td>0.338757</td>\n",
       "      <td>0.060620</td>\n",
       "      <td>0.030834</td>\n",
       "      <td>0.185243</td>\n",
       "      <td>0.074954</td>\n",
       "      <td>0.058444</td>\n",
       "      <td>0.008119</td>\n",
       "      <td>0.075214</td>\n",
       "      <td>0.007027</td>\n",
       "      <td>0.080266</td>\n",
       "      <td>0.062153</td>\n",
       "    </tr>\n",
       "    <tr>\n",
       "      <th>12</th>\n",
       "      <td>0.083516</td>\n",
       "      <td>0.064143</td>\n",
       "      <td>0.319425</td>\n",
       "      <td>0.064118</td>\n",
       "      <td>0.035603</td>\n",
       "      <td>0.178357</td>\n",
       "      <td>0.084361</td>\n",
       "      <td>0.091924</td>\n",
       "      <td>0.011866</td>\n",
       "      <td>0.063354</td>\n",
       "      <td>0.008750</td>\n",
       "      <td>0.049716</td>\n",
       "      <td>0.055134</td>\n",
       "    </tr>\n",
       "    <tr>\n",
       "      <th>13</th>\n",
       "      <td>0.065370</td>\n",
       "      <td>0.066162</td>\n",
       "      <td>0.299111</td>\n",
       "      <td>0.048341</td>\n",
       "      <td>0.039299</td>\n",
       "      <td>0.201889</td>\n",
       "      <td>0.076152</td>\n",
       "      <td>0.068353</td>\n",
       "      <td>0.022796</td>\n",
       "      <td>0.101466</td>\n",
       "      <td>0.009768</td>\n",
       "      <td>0.039779</td>\n",
       "      <td>0.038485</td>\n",
       "    </tr>\n",
       "  </tbody>\n",
       "</table>\n",
       "</div>"
      ],
      "text/plain": [
       "    iFoodAtHome  iFoodAway  iHousing  iUtilites  iClothingAndBeauty  \\\n",
       "0      0.131886   0.066590  0.290843   0.101500            0.026746   \n",
       "1      0.139287   0.058106  0.306757   0.113760            0.027570   \n",
       "2      0.139203   0.062098  0.276772   0.103323            0.025925   \n",
       "3      0.129805   0.064351  0.279114   0.094477            0.029280   \n",
       "4      0.126034   0.063207  0.272018   0.097737            0.026748   \n",
       "5      0.116602   0.059898  0.286347   0.094286            0.031239   \n",
       "6      0.115605   0.059821  0.293193   0.085030            0.030774   \n",
       "7      0.109720   0.060312  0.307076   0.086876            0.027628   \n",
       "8      0.107397   0.066736  0.313717   0.085637            0.030373   \n",
       "9      0.100842   0.068627  0.345528   0.079308            0.033725   \n",
       "10     0.101237   0.068184  0.320021   0.073801            0.036754   \n",
       "11     0.078604   0.064070  0.338757   0.060620            0.030834   \n",
       "12     0.083516   0.064143  0.319425   0.064118            0.035603   \n",
       "13     0.065370   0.066162  0.299111   0.048341            0.039299   \n",
       "\n",
       "    iTransportation  iHealthcare  iEntertainment  iMiscellaneous  \\\n",
       "0          0.168671     0.106250        0.057058        0.021890   \n",
       "1          0.167590     0.089041        0.053154        0.016914   \n",
       "2          0.182569     0.108871        0.062340        0.026186   \n",
       "3          0.175372     0.112486        0.063223        0.027639   \n",
       "4          0.212470     0.106827        0.058538        0.017832   \n",
       "5          0.194396     0.119756        0.051148        0.023404   \n",
       "6          0.201864     0.121270        0.057424        0.013061   \n",
       "7          0.210327     0.107145        0.061942        0.016551   \n",
       "8          0.198535     0.106032        0.064497        0.017613   \n",
       "9          0.185834     0.091287        0.064782        0.015257   \n",
       "10         0.186680     0.101788        0.062202        0.015872   \n",
       "11         0.185243     0.074954        0.058444        0.008119   \n",
       "12         0.178357     0.084361        0.091924        0.011866   \n",
       "13         0.201889     0.076152        0.068353        0.022796   \n",
       "\n",
       "    iCharitableAndFamilyGiving  iInsurance  iEducation  iHousingPrinciple  \n",
       "0                     0.046355    0.002804    0.001114           0.021706  \n",
       "1                     0.033781    0.004308    0.015016           0.025284  \n",
       "2                     0.026102    0.004636    0.006261           0.024287  \n",
       "3                     0.043683    0.005953    0.002715           0.028098  \n",
       "4                     0.038724    0.006247    0.005881           0.032262  \n",
       "5                     0.038399    0.007093    0.018212           0.040780  \n",
       "6                     0.037266    0.009924    0.015833           0.041066  \n",
       "7                     0.046634    0.010414    0.010902           0.055529  \n",
       "8                     0.045534    0.010484    0.014313           0.060869  \n",
       "9                     0.048297    0.007269    0.024916           0.065672  \n",
       "10                    0.030188    0.030839    0.034981           0.062548  \n",
       "11                    0.075214    0.007027    0.080266           0.062153  \n",
       "12                    0.063354    0.008750    0.049716           0.055134  \n",
       "13                    0.101466    0.009768    0.039779           0.038485  "
      ]
     },
     "execution_count": 16,
     "metadata": {},
     "output_type": "execute_result"
    }
   ],
   "source": [
    "# creating new dataframe for the percentages that only includes the plynty categories\n",
    "percentages = inclassAverages.loc[:,rollupNames[1:]]\n",
    "for column in rollupNames[1:]:\n",
    "    percentages[column] = inclassAverages[column]/inclassAverages.iTotalExp\n",
    "    \n",
    "percentages"
   ]
  },
  {
   "cell_type": "markdown",
   "metadata": {},
   "source": [
    "### Converting the Median expenditures for income classes into percentages of expenditures"
   ]
  },
  {
   "cell_type": "code",
   "execution_count": 17,
   "metadata": {
    "collapsed": false
   },
   "outputs": [
    {
     "data": {
      "text/html": [
       "<div>\n",
       "<table border=\"1\" class=\"dataframe\">\n",
       "  <thead>\n",
       "    <tr style=\"text-align: right;\">\n",
       "      <th></th>\n",
       "      <th>iFoodAtHome</th>\n",
       "      <th>iFoodAway</th>\n",
       "      <th>iHousing</th>\n",
       "      <th>iUtilites</th>\n",
       "      <th>iClothingAndBeauty</th>\n",
       "      <th>iTransportation</th>\n",
       "      <th>iHealthcare</th>\n",
       "      <th>iEntertainment</th>\n",
       "      <th>iMiscellaneous</th>\n",
       "      <th>iCharitableAndFamilyGiving</th>\n",
       "      <th>iInsurance</th>\n",
       "      <th>iEducation</th>\n",
       "      <th>iHousingPrinciple</th>\n",
       "    </tr>\n",
       "  </thead>\n",
       "  <tbody>\n",
       "    <tr>\n",
       "      <th>0</th>\n",
       "      <td>0.174536</td>\n",
       "      <td>0.071381</td>\n",
       "      <td>0.357798</td>\n",
       "      <td>0.155068</td>\n",
       "      <td>0.018349</td>\n",
       "      <td>0.099575</td>\n",
       "      <td>0.070709</td>\n",
       "      <td>0.051466</td>\n",
       "      <td>0.001119</td>\n",
       "      <td>0.000000</td>\n",
       "      <td>0.0</td>\n",
       "      <td>0.0</td>\n",
       "      <td>0.000000</td>\n",
       "    </tr>\n",
       "    <tr>\n",
       "      <th>1</th>\n",
       "      <td>0.188020</td>\n",
       "      <td>0.062673</td>\n",
       "      <td>0.325178</td>\n",
       "      <td>0.161745</td>\n",
       "      <td>0.020971</td>\n",
       "      <td>0.113535</td>\n",
       "      <td>0.072556</td>\n",
       "      <td>0.055321</td>\n",
       "      <td>0.000000</td>\n",
       "      <td>0.000000</td>\n",
       "      <td>0.0</td>\n",
       "      <td>0.0</td>\n",
       "      <td>0.000000</td>\n",
       "    </tr>\n",
       "    <tr>\n",
       "      <th>2</th>\n",
       "      <td>0.178586</td>\n",
       "      <td>0.060114</td>\n",
       "      <td>0.314075</td>\n",
       "      <td>0.142148</td>\n",
       "      <td>0.018497</td>\n",
       "      <td>0.138726</td>\n",
       "      <td>0.097358</td>\n",
       "      <td>0.050496</td>\n",
       "      <td>0.000000</td>\n",
       "      <td>0.000000</td>\n",
       "      <td>0.0</td>\n",
       "      <td>0.0</td>\n",
       "      <td>0.000000</td>\n",
       "    </tr>\n",
       "    <tr>\n",
       "      <th>3</th>\n",
       "      <td>0.162722</td>\n",
       "      <td>0.061099</td>\n",
       "      <td>0.349619</td>\n",
       "      <td>0.128613</td>\n",
       "      <td>0.020340</td>\n",
       "      <td>0.125875</td>\n",
       "      <td>0.103305</td>\n",
       "      <td>0.043732</td>\n",
       "      <td>0.001878</td>\n",
       "      <td>0.002816</td>\n",
       "      <td>0.0</td>\n",
       "      <td>0.0</td>\n",
       "      <td>0.000000</td>\n",
       "    </tr>\n",
       "    <tr>\n",
       "      <th>4</th>\n",
       "      <td>0.160736</td>\n",
       "      <td>0.071438</td>\n",
       "      <td>0.328067</td>\n",
       "      <td>0.122682</td>\n",
       "      <td>0.022256</td>\n",
       "      <td>0.138068</td>\n",
       "      <td>0.099327</td>\n",
       "      <td>0.050007</td>\n",
       "      <td>0.001236</td>\n",
       "      <td>0.006182</td>\n",
       "      <td>0.0</td>\n",
       "      <td>0.0</td>\n",
       "      <td>0.000000</td>\n",
       "    </tr>\n",
       "    <tr>\n",
       "      <th>5</th>\n",
       "      <td>0.145413</td>\n",
       "      <td>0.061626</td>\n",
       "      <td>0.332660</td>\n",
       "      <td>0.120466</td>\n",
       "      <td>0.023702</td>\n",
       "      <td>0.132554</td>\n",
       "      <td>0.123553</td>\n",
       "      <td>0.045804</td>\n",
       "      <td>0.003555</td>\n",
       "      <td>0.010666</td>\n",
       "      <td>0.0</td>\n",
       "      <td>0.0</td>\n",
       "      <td>0.000000</td>\n",
       "    </tr>\n",
       "    <tr>\n",
       "      <th>6</th>\n",
       "      <td>0.142874</td>\n",
       "      <td>0.068035</td>\n",
       "      <td>0.348865</td>\n",
       "      <td>0.108752</td>\n",
       "      <td>0.024911</td>\n",
       "      <td>0.138374</td>\n",
       "      <td>0.096333</td>\n",
       "      <td>0.044223</td>\n",
       "      <td>0.000000</td>\n",
       "      <td>0.006280</td>\n",
       "      <td>0.0</td>\n",
       "      <td>0.0</td>\n",
       "      <td>0.021353</td>\n",
       "    </tr>\n",
       "    <tr>\n",
       "      <th>7</th>\n",
       "      <td>0.129685</td>\n",
       "      <td>0.061755</td>\n",
       "      <td>0.339841</td>\n",
       "      <td>0.108451</td>\n",
       "      <td>0.028170</td>\n",
       "      <td>0.128640</td>\n",
       "      <td>0.102323</td>\n",
       "      <td>0.046601</td>\n",
       "      <td>0.002850</td>\n",
       "      <td>0.016151</td>\n",
       "      <td>0.0</td>\n",
       "      <td>0.0</td>\n",
       "      <td>0.035533</td>\n",
       "    </tr>\n",
       "    <tr>\n",
       "      <th>8</th>\n",
       "      <td>0.128768</td>\n",
       "      <td>0.070517</td>\n",
       "      <td>0.335911</td>\n",
       "      <td>0.109891</td>\n",
       "      <td>0.028481</td>\n",
       "      <td>0.117376</td>\n",
       "      <td>0.102449</td>\n",
       "      <td>0.044198</td>\n",
       "      <td>0.001247</td>\n",
       "      <td>0.016216</td>\n",
       "      <td>0.0</td>\n",
       "      <td>0.0</td>\n",
       "      <td>0.044946</td>\n",
       "    </tr>\n",
       "    <tr>\n",
       "      <th>9</th>\n",
       "      <td>0.110494</td>\n",
       "      <td>0.059816</td>\n",
       "      <td>0.376526</td>\n",
       "      <td>0.095071</td>\n",
       "      <td>0.028897</td>\n",
       "      <td>0.113131</td>\n",
       "      <td>0.083537</td>\n",
       "      <td>0.046199</td>\n",
       "      <td>0.003034</td>\n",
       "      <td>0.018061</td>\n",
       "      <td>0.0</td>\n",
       "      <td>0.0</td>\n",
       "      <td>0.065235</td>\n",
       "    </tr>\n",
       "    <tr>\n",
       "      <th>10</th>\n",
       "      <td>0.117451</td>\n",
       "      <td>0.064953</td>\n",
       "      <td>0.346770</td>\n",
       "      <td>0.092702</td>\n",
       "      <td>0.029040</td>\n",
       "      <td>0.135681</td>\n",
       "      <td>0.096887</td>\n",
       "      <td>0.052756</td>\n",
       "      <td>0.003711</td>\n",
       "      <td>0.014552</td>\n",
       "      <td>0.0</td>\n",
       "      <td>0.0</td>\n",
       "      <td>0.045496</td>\n",
       "    </tr>\n",
       "    <tr>\n",
       "      <th>11</th>\n",
       "      <td>0.098792</td>\n",
       "      <td>0.073346</td>\n",
       "      <td>0.386133</td>\n",
       "      <td>0.086069</td>\n",
       "      <td>0.029019</td>\n",
       "      <td>0.122030</td>\n",
       "      <td>0.064254</td>\n",
       "      <td>0.045896</td>\n",
       "      <td>0.001162</td>\n",
       "      <td>0.026143</td>\n",
       "      <td>0.0</td>\n",
       "      <td>0.0</td>\n",
       "      <td>0.067159</td>\n",
       "    </tr>\n",
       "    <tr>\n",
       "      <th>12</th>\n",
       "      <td>0.102430</td>\n",
       "      <td>0.077652</td>\n",
       "      <td>0.381445</td>\n",
       "      <td>0.080180</td>\n",
       "      <td>0.032177</td>\n",
       "      <td>0.120625</td>\n",
       "      <td>0.081838</td>\n",
       "      <td>0.048108</td>\n",
       "      <td>0.000711</td>\n",
       "      <td>0.031598</td>\n",
       "      <td>0.0</td>\n",
       "      <td>0.0</td>\n",
       "      <td>0.043236</td>\n",
       "    </tr>\n",
       "    <tr>\n",
       "      <th>13</th>\n",
       "      <td>0.084592</td>\n",
       "      <td>0.077757</td>\n",
       "      <td>0.396562</td>\n",
       "      <td>0.063065</td>\n",
       "      <td>0.037856</td>\n",
       "      <td>0.133538</td>\n",
       "      <td>0.094537</td>\n",
       "      <td>0.054144</td>\n",
       "      <td>0.004297</td>\n",
       "      <td>0.018416</td>\n",
       "      <td>0.0</td>\n",
       "      <td>0.0</td>\n",
       "      <td>0.035236</td>\n",
       "    </tr>\n",
       "  </tbody>\n",
       "</table>\n",
       "</div>"
      ],
      "text/plain": [
       "    iFoodAtHome  iFoodAway  iHousing  iUtilites  iClothingAndBeauty  \\\n",
       "0      0.174536   0.071381  0.357798   0.155068            0.018349   \n",
       "1      0.188020   0.062673  0.325178   0.161745            0.020971   \n",
       "2      0.178586   0.060114  0.314075   0.142148            0.018497   \n",
       "3      0.162722   0.061099  0.349619   0.128613            0.020340   \n",
       "4      0.160736   0.071438  0.328067   0.122682            0.022256   \n",
       "5      0.145413   0.061626  0.332660   0.120466            0.023702   \n",
       "6      0.142874   0.068035  0.348865   0.108752            0.024911   \n",
       "7      0.129685   0.061755  0.339841   0.108451            0.028170   \n",
       "8      0.128768   0.070517  0.335911   0.109891            0.028481   \n",
       "9      0.110494   0.059816  0.376526   0.095071            0.028897   \n",
       "10     0.117451   0.064953  0.346770   0.092702            0.029040   \n",
       "11     0.098792   0.073346  0.386133   0.086069            0.029019   \n",
       "12     0.102430   0.077652  0.381445   0.080180            0.032177   \n",
       "13     0.084592   0.077757  0.396562   0.063065            0.037856   \n",
       "\n",
       "    iTransportation  iHealthcare  iEntertainment  iMiscellaneous  \\\n",
       "0          0.099575     0.070709        0.051466        0.001119   \n",
       "1          0.113535     0.072556        0.055321        0.000000   \n",
       "2          0.138726     0.097358        0.050496        0.000000   \n",
       "3          0.125875     0.103305        0.043732        0.001878   \n",
       "4          0.138068     0.099327        0.050007        0.001236   \n",
       "5          0.132554     0.123553        0.045804        0.003555   \n",
       "6          0.138374     0.096333        0.044223        0.000000   \n",
       "7          0.128640     0.102323        0.046601        0.002850   \n",
       "8          0.117376     0.102449        0.044198        0.001247   \n",
       "9          0.113131     0.083537        0.046199        0.003034   \n",
       "10         0.135681     0.096887        0.052756        0.003711   \n",
       "11         0.122030     0.064254        0.045896        0.001162   \n",
       "12         0.120625     0.081838        0.048108        0.000711   \n",
       "13         0.133538     0.094537        0.054144        0.004297   \n",
       "\n",
       "    iCharitableAndFamilyGiving  iInsurance  iEducation  iHousingPrinciple  \n",
       "0                     0.000000         0.0         0.0           0.000000  \n",
       "1                     0.000000         0.0         0.0           0.000000  \n",
       "2                     0.000000         0.0         0.0           0.000000  \n",
       "3                     0.002816         0.0         0.0           0.000000  \n",
       "4                     0.006182         0.0         0.0           0.000000  \n",
       "5                     0.010666         0.0         0.0           0.000000  \n",
       "6                     0.006280         0.0         0.0           0.021353  \n",
       "7                     0.016151         0.0         0.0           0.035533  \n",
       "8                     0.016216         0.0         0.0           0.044946  \n",
       "9                     0.018061         0.0         0.0           0.065235  \n",
       "10                    0.014552         0.0         0.0           0.045496  \n",
       "11                    0.026143         0.0         0.0           0.067159  \n",
       "12                    0.031598         0.0         0.0           0.043236  \n",
       "13                    0.018416         0.0         0.0           0.035236  "
      ]
     },
     "execution_count": 17,
     "metadata": {},
     "output_type": "execute_result"
    }
   ],
   "source": [
    "# creating new dataframe for the percentages that only includes the plynty categories\n",
    "percentagesM = inclassMedians.loc[:,rollupNames[1:]]\n",
    "for row in range(len(percentagesM)):\n",
    "    # creating the row total for \"row\"\n",
    "    rowTotal = percentagesM.loc[row,percentagesM.columns != 'iTotalExp'].sum()\n",
    "    # replacing each element with the percent\n",
    "    for column in rollupNames[1:]:\n",
    "        percentagesM.loc[row,column] = percentagesM.loc[row,column]/rowTotal\n",
    "    \n",
    "# dataframe that contains the percentages for medians\n",
    "percentagesM"
   ]
  },
  {
   "cell_type": "markdown",
   "metadata": {},
   "source": [
    "### Creating Csv of percentages"
   ]
  },
  {
   "cell_type": "code",
   "execution_count": 18,
   "metadata": {
    "collapsed": false
   },
   "outputs": [],
   "source": [
    "# percentages.to_csv(outputDir+\"plyntyCsv.csv\")"
   ]
  },
  {
   "cell_type": "markdown",
   "metadata": {},
   "source": [
    "# Exploratory in the data"
   ]
  },
  {
   "cell_type": "markdown",
   "metadata": {},
   "source": [
    "### Graph of number of observations in the income brackets"
   ]
  },
  {
   "cell_type": "code",
   "execution_count": 19,
   "metadata": {
    "collapsed": false
   },
   "outputs": [
    {
     "name": "stdout",
     "output_type": "stream",
     "text": [
      "[591 584 580 558 556 505 492 383 347 315 272 209 127  90]\n",
      "5609\n"
     ]
    },
    {
     "data": {
      "image/png": "[encoded data removed]",
      "text/plain": [
       "<matplotlib.figure.Figure at 0x10b153080>"
      ]
     },
     "metadata": {},
     "output_type": "display_data"
    }
   ],
   "source": [
    "# ploting the number of people in each bracket\n",
    "print(fmliRecoded['INCLASS'].value_counts().values)\n",
    "print(fmliRecoded['INCLASS'].value_counts().values.sum())\n",
    "plt.bar(list(fmliRecoded['INCLASS'].value_counts().index.tolist()), fmliRecoded['INCLASS'].value_counts().values, align='center')\n",
    "plt.show()"
   ]
  },
  {
   "cell_type": "markdown",
   "metadata": {},
   "source": [
    "### Checking the Standard Deviations\n",
    "\n",
    "What I'm finding is that the higher income brackets (>150k) have high standard deviations for housing\n",
    "this might have to do with the non reporting"
   ]
  },
  {
   "cell_type": "code",
   "execution_count": 20,
   "metadata": {
    "collapsed": false,
    "scrolled": false
   },
   "outputs": [],
   "source": [
    "# inclassSD = inclassExpenses.groupby(['INCLASS'],as_index=False).std()\n",
    "# inclassSD.iloc[:,~inclassSD.columns.isin(['INCLASS','NEWID'])]"
   ]
  },
  {
   "cell_type": "markdown",
   "metadata": {},
   "source": [
    "### Checking negative values for housing for incomeclasses"
   ]
  },
  {
   "cell_type": "code",
   "execution_count": 21,
   "metadata": {
    "collapsed": false
   },
   "outputs": [
    {
     "name": "stdout",
     "output_type": "stream",
     "text": [
      "0\n",
      "0\n",
      "0\n",
      "1\n",
      "0\n",
      "2\n",
      "0\n",
      "0\n",
      "0\n",
      "0\n",
      "0\n",
      "0\n",
      "0\n",
      "0\n"
     ]
    },
    {
     "data": {
      "text/html": [
       "<div>\n",
       "<table border=\"1\" class=\"dataframe\">\n",
       "  <thead>\n",
       "    <tr style=\"text-align: right;\">\n",
       "      <th></th>\n",
       "      <th>NEWID</th>\n",
       "      <th>INCLASS</th>\n",
       "      <th>iTotalExp</th>\n",
       "      <th>iFoodAtHome</th>\n",
       "      <th>iFoodAway</th>\n",
       "      <th>iHousing</th>\n",
       "      <th>iUtilites</th>\n",
       "      <th>iClothingAndBeauty</th>\n",
       "      <th>iTransportation</th>\n",
       "      <th>iHealthcare</th>\n",
       "      <th>iEntertainment</th>\n",
       "      <th>iMiscellaneous</th>\n",
       "      <th>iCharitableAndFamilyGiving</th>\n",
       "      <th>iInsurance</th>\n",
       "      <th>iEducation</th>\n",
       "      <th>iHousingPrinciple</th>\n",
       "    </tr>\n",
       "  </thead>\n",
       "  <tbody>\n",
       "    <tr>\n",
       "      <th>345</th>\n",
       "      <td>2997872</td>\n",
       "      <td>5</td>\n",
       "      <td>40896.0</td>\n",
       "      <td>7768.0</td>\n",
       "      <td>3272.0</td>\n",
       "      <td>-2572.0</td>\n",
       "      <td>6816.0</td>\n",
       "      <td>0.0</td>\n",
       "      <td>5424.0</td>\n",
       "      <td>5276.0</td>\n",
       "      <td>0.0</td>\n",
       "      <td>140.0</td>\n",
       "      <td>0.0</td>\n",
       "      <td>0.0</td>\n",
       "      <td>14772.0</td>\n",
       "      <td>0.0</td>\n",
       "    </tr>\n",
       "    <tr>\n",
       "      <th>971</th>\n",
       "      <td>2997873</td>\n",
       "      <td>3</td>\n",
       "      <td>13388.0</td>\n",
       "      <td>7780.0</td>\n",
       "      <td>3512.0</td>\n",
       "      <td>-12980.0</td>\n",
       "      <td>6916.0</td>\n",
       "      <td>400.0</td>\n",
       "      <td>3800.0</td>\n",
       "      <td>3600.0</td>\n",
       "      <td>0.0</td>\n",
       "      <td>360.0</td>\n",
       "      <td>0.0</td>\n",
       "      <td>0.0</td>\n",
       "      <td>0.0</td>\n",
       "      <td>0.0</td>\n",
       "    </tr>\n",
       "    <tr>\n",
       "      <th>2590</th>\n",
       "      <td>2997875</td>\n",
       "      <td>5</td>\n",
       "      <td>17228.0</td>\n",
       "      <td>8156.0</td>\n",
       "      <td>3532.0</td>\n",
       "      <td>-10180.0</td>\n",
       "      <td>6148.0</td>\n",
       "      <td>0.0</td>\n",
       "      <td>4532.0</td>\n",
       "      <td>3600.0</td>\n",
       "      <td>120.0</td>\n",
       "      <td>1320.0</td>\n",
       "      <td>0.0</td>\n",
       "      <td>0.0</td>\n",
       "      <td>0.0</td>\n",
       "      <td>0.0</td>\n",
       "    </tr>\n",
       "  </tbody>\n",
       "</table>\n",
       "</div>"
      ],
      "text/plain": [
       "        NEWID  INCLASS  iTotalExp  iFoodAtHome  iFoodAway  iHousing  \\\n",
       "345   2997872        5    40896.0       7768.0     3272.0   -2572.0   \n",
       "971   2997873        3    13388.0       7780.0     3512.0  -12980.0   \n",
       "2590  2997875        5    17228.0       8156.0     3532.0  -10180.0   \n",
       "\n",
       "      iUtilites  iClothingAndBeauty  iTransportation  iHealthcare  \\\n",
       "345      6816.0                 0.0           5424.0       5276.0   \n",
       "971      6916.0               400.0           3800.0       3600.0   \n",
       "2590     6148.0                 0.0           4532.0       3600.0   \n",
       "\n",
       "      iEntertainment  iMiscellaneous  iCharitableAndFamilyGiving  iInsurance  \\\n",
       "345              0.0           140.0                         0.0         0.0   \n",
       "971              0.0           360.0                         0.0         0.0   \n",
       "2590           120.0          1320.0                         0.0         0.0   \n",
       "\n",
       "      iEducation  iHousingPrinciple  \n",
       "345      14772.0                0.0  \n",
       "971          0.0                0.0  \n",
       "2590         0.0                0.0  "
      ]
     },
     "execution_count": 21,
     "metadata": {},
     "output_type": "execute_result"
    }
   ],
   "source": [
    "for inclass in range(len(incomeBrackets)-1):\n",
    "    print(len(inclassExpenses.loc[inclassExpenses.iHousing <= 0].loc[inclassExpenses.INCLASS == inclass]))\n",
    "inclassExpenses.loc[inclassExpenses.iHousing <= 0]"
   ]
  },
  {
   "cell_type": "markdown",
   "metadata": {},
   "source": [
    "### Looking deeper into housing and why its janky\n",
    "- What im finding is that the negative values in the housing column stay consistent while the max values go up\n",
    "- Negative values come from the housing principle\n",
    "- The large negatives could happen when the iHousing reporting is 0 and they report the housing principle\n",
    "- for some reason there is an issue with the 0 incomeclass"
   ]
  },
  {
   "cell_type": "code",
   "execution_count": 22,
   "metadata": {
    "collapsed": false
   },
   "outputs": [
    {
     "name": "stdout",
     "output_type": "stream",
     "text": [
      "1\n",
      "count       285.000000\n",
      "mean       8885.719298\n",
      "std        9908.802726\n",
      "min         190.000000\n",
      "25%        3000.000000\n",
      "50%        6396.000000\n",
      "75%       10870.000000\n",
      "max      100452.000000\n",
      "Name: iHousing, dtype: float64\n",
      "2\n",
      "count      314.000000\n",
      "mean      7802.646497\n",
      "std       8773.711443\n",
      "min         30.000000\n",
      "25%       2927.000000\n",
      "50%       5396.000000\n",
      "75%       9550.000000\n",
      "max      79576.000000\n",
      "Name: iHousing, dtype: float64\n",
      "3\n",
      "count       392.000000\n",
      "mean       9205.979592\n",
      "std       11119.163524\n",
      "min      -12980.000000\n",
      "25%        3409.000000\n",
      "50%        6792.000000\n",
      "75%       10880.000000\n",
      "max      100556.000000\n",
      "Name: iHousing, dtype: float64\n",
      "4\n",
      "count      436.000000\n",
      "mean     10321.944954\n",
      "std       8396.444117\n",
      "min        120.000000\n",
      "25%       4645.000000\n",
      "50%       8938.000000\n",
      "75%      13660.000000\n",
      "max      69796.000000\n",
      "Name: iHousing, dtype: float64\n",
      "5\n",
      "count      419.000000\n",
      "mean     11029.474940\n",
      "std       8603.639679\n",
      "min     -10180.000000\n",
      "25%       4398.000000\n",
      "50%       9552.000000\n",
      "75%      15008.000000\n",
      "max      52912.000000\n",
      "Name: iHousing, dtype: float64\n",
      "6\n",
      "count       498.000000\n",
      "mean      13139.455823\n",
      "std       10877.852585\n",
      "min          40.000000\n",
      "25%        6131.000000\n",
      "50%       11228.000000\n",
      "75%       17225.000000\n",
      "max      109400.000000\n",
      "Name: iHousing, dtype: float64\n",
      "7\n",
      "count       300.000000\n",
      "mean      15388.730000\n",
      "std       13008.621235\n",
      "min         400.000000\n",
      "25%        7107.500000\n",
      "50%       13332.000000\n",
      "75%       20266.000000\n",
      "max      146416.000000\n",
      "Name: iHousing, dtype: float64\n",
      "8\n",
      "count      448.000000\n",
      "mean     17174.352679\n",
      "std      12672.424747\n",
      "min        610.000000\n",
      "25%       8773.000000\n",
      "50%      14308.000000\n",
      "75%      21668.250000\n",
      "max      90984.000000\n",
      "Name: iHousing, dtype: float64\n",
      "9\n",
      "count       346.000000\n",
      "mean      19365.393064\n",
      "std       14323.270206\n",
      "min         988.000000\n",
      "25%        9038.500000\n",
      "50%       16158.000000\n",
      "75%       25212.000000\n",
      "max      108044.000000\n",
      "Name: iHousing, dtype: float64\n",
      "10\n",
      "count       304.000000\n",
      "mean      24082.756579\n",
      "std       20630.981091\n",
      "min         910.000000\n",
      "25%       12263.000000\n",
      "50%       20848.000000\n",
      "75%       30238.500000\n",
      "max      227912.000000\n",
      "Name: iHousing, dtype: float64\n",
      "11\n",
      "count       256.000000\n",
      "mean      26025.679688\n",
      "std       19607.976365\n",
      "min        1920.000000\n",
      "25%       11129.500000\n",
      "50%       21494.000000\n",
      "75%       34337.000000\n",
      "max      108828.000000\n",
      "Name: iHousing, dtype: float64\n",
      "12\n",
      "count       204.000000\n",
      "mean      34839.686275\n",
      "std       52955.148395\n",
      "min        1040.000000\n",
      "25%       13799.000000\n",
      "50%       26586.000000\n",
      "75%       42765.750000\n",
      "max      700492.000000\n",
      "Name: iHousing, dtype: float64\n",
      "13\n",
      "count       124.000000\n",
      "mean      33766.951613\n",
      "std       25615.277584\n",
      "min        3208.000000\n",
      "25%       17519.000000\n",
      "50%       28972.500000\n",
      "75%       43805.000000\n",
      "max      187720.000000\n",
      "Name: iHousing, dtype: float64\n"
     ]
    }
   ],
   "source": [
    "# max and min of housing per income class\n",
    "for inclass in range(1,len(incomeBrackets)-1):\n",
    "    print(inclass)\n",
    "    print(inclassExpenses.iHousing.loc[inclassExpenses.INCLASS == inclass].describe())"
   ]
  }
 ],
 "metadata": {
  "kernelspec": {
   "display_name": "Python 3",
   "language": "python",
   "name": "python3"
  },
  "language_info": {
   "codemirror_mode": {
    "name": "ipython",
    "version": 3
   },
   "file_extension": ".py",
   "mimetype": "text/x-python",
   "name": "python",
   "nbconvert_exporter": "python",
   "pygments_lexer": "ipython3",
   "version": "3.6.0"
  },
  "widgets": {
   "state": {
    "15f2896b557d486a9598ced78ca278f7": {
     "views": [
      {
       "cell_index": 4
      }
     ]
    },
    "72eb42dca9464f11b37249f08819df2e": {
     "views": [
      {
       "cell_index": 4
      }
     ]
    },
    "ae7437af05f44c1fbe58c5f477b6b3d8": {
     "views": [
      {
       "cell_index": 4
      }
     ]
    }
   },
   "version": "1.2.0"
  }
 },
 "nbformat": 4,
 "nbformat_minor": 2
}
