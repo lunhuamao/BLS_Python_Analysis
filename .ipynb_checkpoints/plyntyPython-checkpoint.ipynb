{
 "cells": [
  {
   "cell_type": "markdown",
   "metadata": {
    "slideshow": {
     "slide_type": "slide"
    }
   },
   "source": [
    "# Plynty Bureau of Labor Statistics Consumer Expenditure Analysis\n",
    "\n",
    "[BLS Comsumer Expenditure Survey](https://www.bls.gov/cex/home.htm)\n",
    "\n",
    "[Interview Data Dictionary](https://www.bls.gov/cex/2015/csxintvwdata.pdf)\n",
    "\n",
    "[Diary Data Dictionary](https://www.bls.gov/cex/2015/csxdiarydata.pdf)\n",
    "\n",
    "### Where to download the BLS CE PUMD\n",
    "- The zip files download automatically\n",
    "- To download the Stub files open the links then right click and choose \"Save As...\"\n",
    "\n",
    "[2015 interview zip file](https://www.bls.gov/cex/pumd/data/comma/intrvw15.zip)\n",
    "\n",
    "[2015 diary zip file](https://www.bls.gov/cex/pumd/data/comma/diary15.zip)\n",
    "\n",
    "[2015 IntStub file](https://www.bls.gov/cex/pumd/2014/csxintstub.txt)\n",
    "\n",
    "[2015 IStub file](https://www.bls.gov/cex/pumd/2014/csxistub.txt)\n",
    "\n",
    "[2015 DStub file](https://www.bls.gov/cex/pumd/2014/csxdstub.txt)\n",
    "\n",
    "### This Scripts Goals for Plynty\n",
    "- Create an easy to use analysis script for the BLS CE PUMD\n",
    "- Create a csv files that has average percentages spent on plynty categories for certain income classes\n",
    "- Create incomeclasses that are significant"
   ]
  },
  {
   "cell_type": "markdown",
   "metadata": {
    "slideshow": {
     "slide_type": "slide"
    }
   },
   "source": [
    "##### Importing Libraries "
   ]
  },
  {
   "cell_type": "code",
   "execution_count": 89,
   "metadata": {
    "collapsed": false,
    "slideshow": {
     "slide_type": "subslide"
    }
   },
   "outputs": [
    {
     "name": "stdout",
     "output_type": "stream",
     "text": [
      "Dependencies Loaded...\n"
     ]
    }
   ],
   "source": [
    "import pandas as pd\n",
    "import numpy as np\n",
    "import os\n",
    "import subprocess\n",
    "import math\n",
    "import matplotlib.pyplot as plt\n",
    "from scipy.interpolate import *\n",
    "from plyntywidgets import *\n",
    "from blsFunctions import *\n",
    "print(\"Dependencies Loaded...\")"
   ]
  },
  {
   "cell_type": "markdown",
   "metadata": {},
   "source": [
    "### Setting Parameters\n",
    "- year: the last two number associated with the year of the data\n",
    "    for example for data from 2015: year = \"15\"\n",
    "- minAge: the low bound (inclusive) of the age range you wish to subset by\n",
    "- maxAge: the high bound (inclusive) of the age range you wish to subset by\n",
    "- incomeBrackets: array of numbers that you wish to create the new income classes\n",
    "    the bracketing works as follows (1,2], (2,3], (3,4]\n",
    "- filesToRead: the strings of the abbreviations associated with the files you wish to read\n",
    "    options are: \"all\", \"diary\", \"interview\", \"dtbd\", \"expd\", \"fmld\", \"memd\", \"fmli\", \"itbi\", \"memi\", \"mtbi\", \"ntaxi\""
   ]
  },
  {
   "cell_type": "code",
   "execution_count": 90,
   "metadata": {
    "collapsed": false
   },
   "outputs": [],
   "source": [
    "year = \"15\"\n",
    "filesToRead = [\"fmli\", \"mtbi\"]\n",
    "incomeBrackets = [-10000000, 10000, 20000, 40000, 60000, 80000, 90000, 130000, 160000, 240000, 9990000]\n",
    "\n",
    "# minAge = 55\n",
    "# maxAge = 64\n",
    "\n",
    "# minAge = 60\n",
    "# maxAge = 75\n",
    "\n",
    "minAge = 65\n",
    "maxAge = 130"
   ]
  },
  {
   "cell_type": "markdown",
   "metadata": {},
   "source": [
    "### Setting Directory locations and FileNames on your Local Machine"
   ]
  },
  {
   "cell_type": "code",
   "execution_count": 91,
   "metadata": {
    "collapsed": false
   },
   "outputs": [],
   "source": [
    "# directory in which the diary and interview folders are held is located\n",
    "diaryDir = \"/Users/adyke/Vizuri/CE_PUMD/diary15/\"\n",
    "interviewDir = \"/Users/adyke/Vizuri/CE_PUMD/intrvw15/\"\n",
    "\n",
    "# Directory where stubfiles are located\n",
    "pathToStubFileDir = \"/Users/adyke/Vizuri/Stubfiles/\"\n",
    "rScriptStubfilePathAndName = \"/Users/adyke/Vizuri/BLS_Python_Analysis/creatingStubCsvs.R\"\n",
    "\n",
    "# Filenames of the Stubfiles\n",
    "IStubFileName = \"IStub2015.txt\"\n",
    "DStubFileName = \"DStub2015.txt\"\n",
    "IntStubFileName = \"IntStub2015.txt\"\n",
    "\n",
    "# name of interview dir within the interview dir\n",
    "insideIntrvwDirName = \"intrvw\"\n",
    "\n",
    "# name of the directory where you want the output percentages csv\n",
    "outputDir = \"/Users/adyke/Vizuri/outputFiles/\""
   ]
  },
  {
   "cell_type": "markdown",
   "metadata": {},
   "source": [
    "### Reading in the files specified by FilesToRead"
   ]
  },
  {
   "cell_type": "code",
   "execution_count": 92,
   "metadata": {
    "collapsed": false
   },
   "outputs": [],
   "source": [
    "if(len(filesToRead)==0):\n",
    "    print(\"The files to read variable is empty.\")\n",
    "\n",
    "# looping through each file to read\n",
    "for file in filesToRead:\n",
    "    if file == \"dtbd\" or file == \"all\" or file == \"diary\":\n",
    "        dtbd = readFileSet(\"dtbd\", diaryDir)\n",
    "    if file == \"expd\" or file == \"all\" or file == \"diary\":\n",
    "        expd = readFileSet(\"expd\", diaryDir)\n",
    "    if file == \"fmld\" or file == \"all\" or file == \"diary\":\n",
    "        fmld = readFileSet(\"fmld\", diaryDir)\n",
    "    if file == \"memd\" or file == \"all\" or file == \"diary\":\n",
    "        memd = readFileSet(\"memd\", diaryDir)\n",
    "    if file == \"fmli\" or file == \"all\" or file == \"interview\":\n",
    "        fmli = readFileSet(\"fmli\", interviewDir+insideIntrvwDirName+year+\"/\")\n",
    "    if file == \"itbi\" or file == \"all\" or file == \"interview\":\n",
    "        itbi = readFileSet(\"itbi\", interviewDir+insideIntrvwDirName+year+\"/\")\n",
    "    if file == \"itii\" or file == \"all\" or file == \"interview\":\n",
    "        itii = readFileSet(\"itii\", interviewDir+insideIntrvwDirName+year+\"/\")\n",
    "    if file == \"memi\" or file == \"all\" or file == \"interview\":\n",
    "        memi = readFileSet(\"memi\", interviewDir+insideIntrvwDirName+year+\"/\")\n",
    "    if file == \"mtbi\" or file == \"all\" or file == \"interview\":\n",
    "        mtbi = readFileSet(\"mtbi\", interviewDir+insideIntrvwDirName+year+\"/\")\n",
    "        mtbi.UCC = mtbi.UCC.astype(str)\n",
    "    if file == \"ntaxi\" or file == \"all\" or file == \"interview\":\n",
    "        ntaxi = readFileSet(\"ntaxi\", interviewDir+insideIntrvwDirName+year+\"/\")\n",
    "# does not read form the expn or para subdirectories\n"
   ]
  },
  {
   "cell_type": "markdown",
   "metadata": {},
   "source": [
    "### Using R to convert the Stub files into csv files"
   ]
  },
  {
   "cell_type": "code",
   "execution_count": 93,
   "metadata": {
    "collapsed": false
   },
   "outputs": [
    {
     "name": "stdout",
     "output_type": "stream",
     "text": [
      "Stubfiles Exist\n"
     ]
    }
   ],
   "source": [
    "if os.path.isfile(pathToStubFileDir+\"DStub.csv\") and os.path.isfile(pathToStubFileDir+\"IStub.csv\") and os.path.isfile(pathToStubFileDir+\"IntStub.csv\"):\n",
    "    print(\"Stubfiles Exist\")\n",
    "else:\n",
    "    # converting the stub files via R \n",
    "    subprocess.call(\"Rscript \"+rScriptStubfilePathAndName+\" \"+pathToStubFileDir+\" \"+IStubFileName+\" \"+DStubFileName+\" \"+IntStubFileName, shell=True)\n",
    "    print(\"Stubfile Csvs created in \"+pathToStubFileDir)"
   ]
  },
  {
   "cell_type": "markdown",
   "metadata": {},
   "source": [
    "### Reading and Cleaning the stubfile CSVs into pandas dataframes"
   ]
  },
  {
   "cell_type": "code",
   "execution_count": 94,
   "metadata": {
    "collapsed": false
   },
   "outputs": [],
   "source": [
    "# reading in the stubfiles\n",
    "DStub = pd.read_csv(pathToStubFileDir+\"DStub.csv\")\n",
    "IStub = pd.read_csv(pathToStubFileDir+\"IStub.csv\")\n",
    "IntStub = pd.read_csv(pathToStubFileDir+\"IntStub.csv\")\n",
    "\n",
    "# removing the index from the stufile\n",
    "DStub = DStub.drop(DStub.columns[0], axis=1)\n",
    "IStub = IStub.drop(IStub.columns[0], axis=1)\n",
    "IntStub = IntStub.drop(IntStub.columns[0], axis=1)\n",
    "\n",
    "# replacing * with 0 in the level columns\n",
    "DStub.loc[DStub.level == \"*\", 'level'] = 0\n",
    "IStub.loc[IStub.level == \"*\", 'level'] = 0\n",
    "IntStub.loc[IntStub.level == \"*\", 'level'] = 0"
   ]
  },
  {
   "cell_type": "markdown",
   "metadata": {},
   "source": [
    "# Starting the Plynty calculations"
   ]
  },
  {
   "cell_type": "markdown",
   "metadata": {},
   "source": [
    "### Creating the UCC roll ups for Plynty\n",
    "##### What is a UCC?\n",
    "- Universial Classification Code\n",
    "- Used to classify different expenditure sub categories"
   ]
  },
  {
   "cell_type": "code",
   "execution_count": 95,
   "metadata": {
    "collapsed": false
   },
   "outputs": [],
   "source": [
    "# creating UCC rollups for the interview files for plynty categories\n",
    "iTotalExp = categoricalUCCRollUp(IStub,[\"TOTALE\"])\n",
    "iFoodAtHome = categoricalUCCRollUp(IStub, [\"FOODHO\", \"ALCHOM\"])\n",
    "iFoodAway = categoricalUCCRollUp(IStub, [\"FOODAW\", \"ALCAWA\"])\n",
    "iHousing = categoricalUCCRollUp(IStub, [\"HOUSIN\"], ignoreUCCs = categoricalUCCRollUp(IStub, [\"UTILS\"]))\n",
    "iUtilites = categoricalUCCRollUp(IStub, [\"UTILS\"])\n",
    "iClothingAndBeauty = categoricalUCCRollUp(IStub, [\"APPARE\",\"PERSCA\"])\n",
    "iTransportation = categoricalUCCRollUp(IStub, [\"TRANS\"])\n",
    "iHealthcare = categoricalUCCRollUp(IStub, [\"HEALTH\"])\n",
    "iEntertainment = categoricalUCCRollUp(IStub, [\"ENTRTA\",\"READIN\"])\n",
    "iMiscellaneous = categoricalUCCRollUp(IStub, [\"MISC\",\"TOBACC\"])\n",
    "iCharitableAndFamilyGiving = categoricalUCCRollUp(IStub, [\"CASHCO\"])\n",
    "iInsurance = categoricalUCCRollUp(IStub, [\"LIFEIN\"])\n",
    "iEducation = categoricalUCCRollUp(IStub, [\"EDUCAT\"])\n",
    "iHousingPrinciple = categoricalUCCRollUp(IStub,[\"MRTPRI\"])"
   ]
  },
  {
   "cell_type": "markdown",
   "metadata": {},
   "source": [
    "### Adding and Rolling up the MTBI Categories into mtbiRolledUp\n",
    "##### What is the MTBI file?\n",
    "- Monthly expenditure file classified by UCC\n",
    "- Used to populate expenditures in each category for each CU"
   ]
  },
  {
   "cell_type": "code",
   "execution_count": 96,
   "metadata": {
    "collapsed": false
   },
   "outputs": [],
   "source": [
    "rollupNames = [\"iTotalExp\",\"iFoodAtHome\",\"iFoodAway\",\"iHousing\",\"iUtilites\",\"iClothingAndBeauty\",\"iTransportation\",\"iHealthcare\",\"iEntertainment\",\"iMiscellaneous\",\"iCharitableAndFamilyGiving\",\"iInsurance\",\"iEducation\",\"iHousingPrinciple\"]\n",
    "rollups = [iTotalExp,iFoodAtHome,iFoodAway,iHousing,iUtilites,iClothingAndBeauty,iTransportation,iHealthcare,iEntertainment,iMiscellaneous,iCharitableAndFamilyGiving,iInsurance,iEducation,iHousingPrinciple]\n",
    "\n",
    "# there is a multiple of 4 because each survey lasts for 3 months \n",
    "# multiplying by 4 gives a estimate for each year (3 * 4 = 12)\n",
    "mtbiRolledUp = rollUpDataframe(mtbi, rollupNames, rollups, negativeColumns=[\"iHousingPrinciple\"], multiple=4)\n",
    "\n",
    "mtbiTrimmed = mtbiRolledUp.loc[: , ['NEWID','iTotalExp','iFoodAtHome','iFoodAway','iHousing','iUtilites','iClothingAndBeauty','iTransportation','iHealthcare','iEntertainment','iMiscellaneous','iCharitableAndFamilyGiving','iInsurance','iEducation','iHousingPrinciple']]"
   ]
  },
  {
   "cell_type": "markdown",
   "metadata": {},
   "source": [
    "### Creating the Sum for all expenditure category columns for each NEWID\n",
    "- nonZeroColumns is an array that contains the names of columns that should not be Zero\n",
    "\n",
    "outputs from cell:\n",
    "- iExpensesByNewID: total expenses for each category for each NewID"
   ]
  },
  {
   "cell_type": "code",
   "execution_count": 97,
   "metadata": {
    "collapsed": false
   },
   "outputs": [],
   "source": [
    "# adding up all columns for each new id\n",
    "iExpensesByNewID = mtbiTrimmed.groupby(['NEWID'],as_index=False).sum()\n",
    "# removing rows with zero values in key categories\n",
    "nonZeroColumns = ['iFoodAtHome','iFoodAway','iHousing','iUtilites']\n",
    "for column in nonZeroColumns:\n",
    "    iExpensesByNewID = iExpensesByNewID[iExpensesByNewID[column] != 0]\n",
    "iExpensesByNewID['iHousing'] = iExpensesByNewID['iHousing']+iExpensesByNewID['iHousingPrinciple']"
   ]
  },
  {
   "cell_type": "markdown",
   "metadata": {},
   "source": [
    "### Plotting the total population CU counts"
   ]
  },
  {
   "cell_type": "code",
   "execution_count": 98,
   "metadata": {},
   "outputs": [
    {
     "data": {
      "image/png": "[encoded data removed]",
      "text/plain": [
       "<matplotlib.figure.Figure at 0x113fc5a58>"
      ]
     },
     "metadata": {},
     "output_type": "display_data"
    }
   ],
   "source": [
    "fmliTotalRecoded = binColumn(dataframe=fmli, toBinColumnName=\"FINCBTXM\", binValues=incomeBrackets, binnedColumnName=\"INCLASS\", labels=range(0,len(incomeBrackets)-1))\n",
    "\n",
    "plt.bar(fmliTotalRecoded.INCLASS.value_counts().index, (fmliTotalRecoded.INCLASS.value_counts().values)/(len(fmliTotalRecoded)), color=\"black\")\n",
    "plt.suptitle(\"Percent of CUs in each Income class\")\n",
    "plt.title(\"All CUs\")\n",
    "plt.xlabel(\"Income Class\")\n",
    "plt.ylabel(\"Percent of CUs\")\n",
    "plt.show()"
   ]
  },
  {
   "cell_type": "markdown",
   "metadata": {},
   "source": [
    "### Subsetting FMLI for age and recoding the incomebrackets\n",
    "##### What is the fmli file?\n",
    "- File with entries for each CU, characteristics, and summary level expenditures"
   ]
  },
  {
   "cell_type": "code",
   "execution_count": 99,
   "metadata": {
    "collapsed": false,
    "scrolled": true
   },
   "outputs": [],
   "source": [
    "# subsetting for the age bracket\n",
    "fmliAge = subsetDataframe(dataframe=fmli, columnName=\"AGE_REF\", minValue=minAge, maxValue=maxAge)\n",
    "fmliAge = fmliAge.reset_index()\n",
    "\n",
    "# recoding the income brackets\n",
    "fmliRecoded = binColumn(dataframe=fmliAge, toBinColumnName=\"FINCBTXM\", binValues=incomeBrackets, binnedColumnName=\"INCLASS\", labels=range(1,len(incomeBrackets)))"
   ]
  },
  {
   "cell_type": "markdown",
   "metadata": {},
   "source": [
    "### Displaying the number of CUs where the reference person is retired"
   ]
  },
  {
   "cell_type": "code",
   "execution_count": 100,
   "metadata": {},
   "outputs": [
    {
     "name": "stdout",
     "output_type": "stream",
     "text": [
      "The percent of retired CUs is: 0.717\n"
     ]
    }
   ],
   "source": [
    "print(\"The percent of retired CUs is: \"+str(round(len(fmliRecoded.INCNONW1.loc[fmliRecoded.INCNONW1 == 1])/len(fmliRecoded.INCNONW1),3)))"
   ]
  },
  {
   "cell_type": "markdown",
   "metadata": {},
   "source": [
    "### Adding the Income class colum to the ExpensesByNewID dataframe"
   ]
  },
  {
   "cell_type": "code",
   "execution_count": 101,
   "metadata": {
    "collapsed": false
   },
   "outputs": [],
   "source": [
    "# combining the fmli and iExpensesByNewID\n",
    "inclassExpenses = pd.merge(left=fmliRecoded[['NEWID','INCLASS','FINCBTXM']],right=iExpensesByNewID, on=['NEWID'])\n",
    "# inclassExpenses"
   ]
  },
  {
   "cell_type": "markdown",
   "metadata": {},
   "source": [
    "### Averaging the expenditures based on incomebrackets\n",
    "inclassAverages is average money spent for each incomeclass"
   ]
  },
  {
   "cell_type": "code",
   "execution_count": 102,
   "metadata": {
    "collapsed": false,
    "scrolled": false
   },
   "outputs": [],
   "source": [
    "# getting mean for all columns with the same income class besides newId and creating new dataframe\n",
    "inclassAverages = round(inclassExpenses.ix[: ,inclassExpenses.columns != 'NEWID'].groupby(['INCLASS'],as_index=False).mean(),2)\n",
    "# inclassAverages"
   ]
  },
  {
   "cell_type": "markdown",
   "metadata": {},
   "source": [
    "### Converting the Average expenditures for income classes into percentages of expenditures\n",
    "percentages is the percent of total expenditure for each category for each incomeclass "
   ]
  },
  {
   "cell_type": "code",
   "execution_count": 103,
   "metadata": {
    "collapsed": false
   },
   "outputs": [],
   "source": [
    "# creating new dataframe for the percentages that only includes the plynty categories\n",
    "percentages = inclassAverages.loc[:,rollupNames[1:]]\n",
    "for column in rollupNames[1:]:\n",
    "    percentages[column] = inclassAverages[column]/inclassAverages.iTotalExp\n",
    "percentages['ExpInc'] = inclassAverages['iTotalExp']/inclassAverages['FINCBTXM']\n",
    "\n",
    "# truncate the max ExpInc\n",
    "percentages.ExpInc.ix[percentages['ExpInc']>1] = 1\n",
    "\n",
    "# percentages"
   ]
  },
  {
   "cell_type": "markdown",
   "metadata": {},
   "source": [
    "# Exploring Issues in the data"
   ]
  },
  {
   "cell_type": "markdown",
   "metadata": {},
   "source": [
    "### Getting Description of the inclassExpenses dataframe\n",
    "Description includes:\n",
    "- count\n",
    "- mean\n",
    "- standard deviation\n",
    "- min\n",
    "- max\n",
    "- quartiles"
   ]
  },
  {
   "cell_type": "code",
   "execution_count": 104,
   "metadata": {
    "collapsed": false
   },
   "outputs": [],
   "source": [
    "# max and min of housing per income class\n",
    "rowDescription = []\n",
    "for inclass in range(1,len(incomeBrackets)):\n",
    "    rowDescription.append(inclassExpenses.iHousing.loc[inclassExpenses.INCLASS == inclass].describe())\n",
    "descriptions = pd.concat(rowDescription, axis=1)\n",
    "descriptions.columns = range(0,len(incomeBrackets)-1)\n",
    "descriptions = descriptions.transpose()\n",
    "# descriptions"
   ]
  },
  {
   "cell_type": "markdown",
   "metadata": {},
   "source": [
    "### Removing outliers in iHousing\n",
    " - For each income class\n",
    "    - Find Q1 and Q3\n",
    "    - Calculate IQR\n",
    "    - Find rows outside of \n",
    "     - Inner Fence: Q3/Q2 +/- (1.5 x IQR)\n",
    "     - Outer Fence: Q3/Q2 +/- (3 x IQR)\n",
    " - Remove Rows from Dataframe\n",
    " - Clean1: Inner Fence\n",
    " - Clean2: Outer Fence"
   ]
  },
  {
   "cell_type": "code",
   "execution_count": 105,
   "metadata": {
    "collapsed": false,
    "scrolled": true
   },
   "outputs": [
    {
     "name": "stdout",
     "output_type": "stream",
     "text": [
      "There are 5388 rows before removal of outliers\n",
      "Removed 356 rows deemed to be out of inner fence\n",
      "Removed 6.61% of the CUs\n",
      "Removed 139 rows deemed to be out of outer fence\n",
      "Removed 2.58% of the CUs\n"
     ]
    }
   ],
   "source": [
    "# cleaning the inclassExpenses dataframe of outliers\n",
    "outliers1 = inclassExpenses.copy()\n",
    "\n",
    "\n",
    "outliers1\n",
    "innerFence = []\n",
    "outerFence = []\n",
    "\n",
    "\n",
    "print(\"There are \"+str(len(inclassExpenses))+\" rows before removal of outliers\")\n",
    "\n",
    "for inclass in range(1,len(incomeBrackets)):\n",
    "    outliers1InClass = outliers1.where(outliers1['INCLASS']==inclass)\n",
    "    Q1 = outliers1InClass['iHousing'].quantile(0.25)\n",
    "    Q3 = outliers1InClass['iHousing'].quantile(0.75)\n",
    "    IQR = Q3 - Q1\n",
    "    innerFence.extend(outliers1InClass[outliers1InClass['iHousing'] < (Q1 - (1.5 * IQR))].index.tolist())\n",
    "    innerFence.extend(outliers1InClass[outliers1InClass['iHousing'] > (Q3 + (1.5 * IQR))].index.tolist())    \n",
    "    outerFence.extend(outliers1InClass[outliers1InClass['iHousing'] < (Q1 - (3 * IQR))].index.tolist())\n",
    "    outerFence.extend(outliers1InClass[outliers1InClass['iHousing'] > (Q3 + (3 * IQR))].index.tolist())\n",
    "\n",
    "\n",
    "clean1 = outliers1.drop(outliers1.index[innerFence])\n",
    "clean1\n",
    "clean2 = outliers1.drop(outliers1.index[outerFence])\n",
    "clean2\n",
    "\n",
    "print(\"Removed \"+str(len(innerFence))+ \" rows deemed to be out of inner fence\")\n",
    "print(\"Removed \"+str(round(len(innerFence)/len(inclassExpenses)*100,2))+ \"% of the CUs\")\n",
    "\n",
    "print(\"Removed \"+str(len(outerFence))+ \" rows deemed to be out of outer fence\")\n",
    "print(\"Removed \"+str(round(len(outerFence)/len(inclassExpenses)*100,2))+ \"% of the CUs\")\n",
    "\n",
    "# creating the descriptions for the cleaned outlier dataframe\n",
    "rowDescription1 = []\n",
    "for inclass in range(1,len(incomeBrackets)):\n",
    "    rowDescription1.append(clean1.iHousing.loc[clean1.INCLASS == inclass].describe())\n",
    "descriptions1 = pd.concat(rowDescription1, axis=1)\n",
    "descriptions1.columns = range(0,len(incomeBrackets)-1)\n",
    "descriptions1 = descriptions1.transpose()\n",
    "# descriptions1"
   ]
  },
  {
   "cell_type": "markdown",
   "metadata": {},
   "source": [
    "### Looking at the outliers that were removed"
   ]
  },
  {
   "cell_type": "code",
   "execution_count": 106,
   "metadata": {
    "collapsed": false
   },
   "outputs": [
    {
     "name": "stdout",
     "output_type": "stream",
     "text": [
      "Number of outliers in each income class: [116  75  42  38  30  23   9   9   8   6]\n"
     ]
    }
   ],
   "source": [
    "innerOutliers = inclassExpenses.copy()\n",
    "innerOutliers = innerOutliers.ix[innerFence,:]\n",
    "print(\"Number of outliers in each income class: \"+str(innerOutliers.INCLASS.value_counts().values))\n",
    "# innerOutliers.head()"
   ]
  },
  {
   "cell_type": "code",
   "execution_count": 107,
   "metadata": {
    "collapsed": false
   },
   "outputs": [
    {
     "name": "stdout",
     "output_type": "stream",
     "text": [
      "Number of outliers in each income class: [41 41 12 11 10 10  6  4  2  2]\n"
     ]
    }
   ],
   "source": [
    "outerOutliers = inclassExpenses.copy()\n",
    "outerOutliers = outerOutliers.ix[outerFence,:]\n",
    "print(\"Number of outliers in each income class: \"+str(outerOutliers.INCLASS.value_counts().values))\n",
    "# outerOutliers.head()"
   ]
  },
  {
   "cell_type": "markdown",
   "metadata": {},
   "source": [
    "### Creating the percentage output for cleaned dataframe\n",
    "##### What is the percentage dataframe?\n",
    "- Dataframe where each row is a different income class and each column is a different plynty expenditure category\n",
    "- These are percents of total expenditure (not of total income)"
   ]
  },
  {
   "cell_type": "code",
   "execution_count": 108,
   "metadata": {
    "collapsed": false
   },
   "outputs": [
    {
     "data": {
      "text/html": [
       "<div>\n",
       "<table border=\"1\" class=\"dataframe\">\n",
       "  <thead>\n",
       "    <tr style=\"text-align: right;\">\n",
       "      <th></th>\n",
       "      <th>iFoodAtHome</th>\n",
       "      <th>iFoodAway</th>\n",
       "      <th>iHousing</th>\n",
       "      <th>iUtilites</th>\n",
       "      <th>iClothingAndBeauty</th>\n",
       "      <th>iTransportation</th>\n",
       "      <th>iHealthcare</th>\n",
       "      <th>iEntertainment</th>\n",
       "      <th>iMiscellaneous</th>\n",
       "      <th>iCharitableAndFamilyGiving</th>\n",
       "      <th>iInsurance</th>\n",
       "      <th>iEducation</th>\n",
       "      <th>iHousingPrinciple</th>\n",
       "      <th>ExpInc</th>\n",
       "    </tr>\n",
       "  </thead>\n",
       "  <tbody>\n",
       "    <tr>\n",
       "      <th>0</th>\n",
       "      <td>0.142760</td>\n",
       "      <td>0.065465</td>\n",
       "      <td>0.254132</td>\n",
       "      <td>0.108510</td>\n",
       "      <td>0.024735</td>\n",
       "      <td>0.123053</td>\n",
       "      <td>0.152320</td>\n",
       "      <td>0.047408</td>\n",
       "      <td>0.038487</td>\n",
       "      <td>0.055566</td>\n",
       "      <td>0.003810</td>\n",
       "      <td>0.002302</td>\n",
       "      <td>0.018549</td>\n",
       "      <td>1.000000</td>\n",
       "    </tr>\n",
       "    <tr>\n",
       "      <th>1</th>\n",
       "      <td>0.143314</td>\n",
       "      <td>0.066238</td>\n",
       "      <td>0.247728</td>\n",
       "      <td>0.122342</td>\n",
       "      <td>0.026799</td>\n",
       "      <td>0.142919</td>\n",
       "      <td>0.140742</td>\n",
       "      <td>0.052440</td>\n",
       "      <td>0.019384</td>\n",
       "      <td>0.046301</td>\n",
       "      <td>0.008811</td>\n",
       "      <td>0.001617</td>\n",
       "      <td>0.018634</td>\n",
       "      <td>1.000000</td>\n",
       "    </tr>\n",
       "    <tr>\n",
       "      <th>2</th>\n",
       "      <td>0.129640</td>\n",
       "      <td>0.068219</td>\n",
       "      <td>0.222666</td>\n",
       "      <td>0.105685</td>\n",
       "      <td>0.025402</td>\n",
       "      <td>0.160788</td>\n",
       "      <td>0.169596</td>\n",
       "      <td>0.055769</td>\n",
       "      <td>0.016982</td>\n",
       "      <td>0.054558</td>\n",
       "      <td>0.006266</td>\n",
       "      <td>0.002755</td>\n",
       "      <td>0.018324</td>\n",
       "      <td>1.000000</td>\n",
       "    </tr>\n",
       "    <tr>\n",
       "      <th>3</th>\n",
       "      <td>0.117956</td>\n",
       "      <td>0.064125</td>\n",
       "      <td>0.242087</td>\n",
       "      <td>0.096358</td>\n",
       "      <td>0.027847</td>\n",
       "      <td>0.175623</td>\n",
       "      <td>0.158887</td>\n",
       "      <td>0.054669</td>\n",
       "      <td>0.018040</td>\n",
       "      <td>0.064095</td>\n",
       "      <td>0.009448</td>\n",
       "      <td>0.004069</td>\n",
       "      <td>0.033203</td>\n",
       "      <td>0.858669</td>\n",
       "    </tr>\n",
       "    <tr>\n",
       "      <th>4</th>\n",
       "      <td>0.114299</td>\n",
       "      <td>0.066555</td>\n",
       "      <td>0.244939</td>\n",
       "      <td>0.088417</td>\n",
       "      <td>0.032277</td>\n",
       "      <td>0.180536</td>\n",
       "      <td>0.149920</td>\n",
       "      <td>0.055787</td>\n",
       "      <td>0.017718</td>\n",
       "      <td>0.069236</td>\n",
       "      <td>0.007503</td>\n",
       "      <td>0.001434</td>\n",
       "      <td>0.028620</td>\n",
       "      <td>0.707340</td>\n",
       "    </tr>\n",
       "    <tr>\n",
       "      <th>5</th>\n",
       "      <td>0.105324</td>\n",
       "      <td>0.058105</td>\n",
       "      <td>0.270412</td>\n",
       "      <td>0.086217</td>\n",
       "      <td>0.026344</td>\n",
       "      <td>0.232130</td>\n",
       "      <td>0.136686</td>\n",
       "      <td>0.043984</td>\n",
       "      <td>0.019156</td>\n",
       "      <td>0.047698</td>\n",
       "      <td>0.006830</td>\n",
       "      <td>0.004706</td>\n",
       "      <td>0.037593</td>\n",
       "      <td>0.669466</td>\n",
       "    </tr>\n",
       "    <tr>\n",
       "      <th>6</th>\n",
       "      <td>0.097787</td>\n",
       "      <td>0.062204</td>\n",
       "      <td>0.228952</td>\n",
       "      <td>0.078390</td>\n",
       "      <td>0.029445</td>\n",
       "      <td>0.223403</td>\n",
       "      <td>0.116982</td>\n",
       "      <td>0.067968</td>\n",
       "      <td>0.017366</td>\n",
       "      <td>0.090713</td>\n",
       "      <td>0.007848</td>\n",
       "      <td>0.010784</td>\n",
       "      <td>0.031841</td>\n",
       "      <td>0.624104</td>\n",
       "    </tr>\n",
       "    <tr>\n",
       "      <th>7</th>\n",
       "      <td>0.093507</td>\n",
       "      <td>0.055416</td>\n",
       "      <td>0.297054</td>\n",
       "      <td>0.081630</td>\n",
       "      <td>0.028474</td>\n",
       "      <td>0.244508</td>\n",
       "      <td>0.110014</td>\n",
       "      <td>0.052942</td>\n",
       "      <td>0.012363</td>\n",
       "      <td>0.060632</td>\n",
       "      <td>0.010715</td>\n",
       "      <td>0.005774</td>\n",
       "      <td>0.053029</td>\n",
       "      <td>0.516418</td>\n",
       "    </tr>\n",
       "    <tr>\n",
       "      <th>8</th>\n",
       "      <td>0.089282</td>\n",
       "      <td>0.061733</td>\n",
       "      <td>0.311870</td>\n",
       "      <td>0.076662</td>\n",
       "      <td>0.043746</td>\n",
       "      <td>0.161679</td>\n",
       "      <td>0.100269</td>\n",
       "      <td>0.068941</td>\n",
       "      <td>0.037671</td>\n",
       "      <td>0.076662</td>\n",
       "      <td>0.013307</td>\n",
       "      <td>0.004462</td>\n",
       "      <td>0.046284</td>\n",
       "      <td>0.446058</td>\n",
       "    </tr>\n",
       "    <tr>\n",
       "      <th>9</th>\n",
       "      <td>0.079879</td>\n",
       "      <td>0.068931</td>\n",
       "      <td>0.277750</td>\n",
       "      <td>0.048191</td>\n",
       "      <td>0.042180</td>\n",
       "      <td>0.225810</td>\n",
       "      <td>0.071389</td>\n",
       "      <td>0.072249</td>\n",
       "      <td>0.043482</td>\n",
       "      <td>0.063713</td>\n",
       "      <td>0.008644</td>\n",
       "      <td>0.021057</td>\n",
       "      <td>0.023275</td>\n",
       "      <td>0.369579</td>\n",
       "    </tr>\n",
       "  </tbody>\n",
       "</table>\n",
       "</div>"
      ],
      "text/plain": [
       "   iFoodAtHome  iFoodAway  iHousing  iUtilites  iClothingAndBeauty  \\\n",
       "0     0.142760   0.065465  0.254132   0.108510            0.024735   \n",
       "1     0.143314   0.066238  0.247728   0.122342            0.026799   \n",
       "2     0.129640   0.068219  0.222666   0.105685            0.025402   \n",
       "3     0.117956   0.064125  0.242087   0.096358            0.027847   \n",
       "4     0.114299   0.066555  0.244939   0.088417            0.032277   \n",
       "5     0.105324   0.058105  0.270412   0.086217            0.026344   \n",
       "6     0.097787   0.062204  0.228952   0.078390            0.029445   \n",
       "7     0.093507   0.055416  0.297054   0.081630            0.028474   \n",
       "8     0.089282   0.061733  0.311870   0.076662            0.043746   \n",
       "9     0.079879   0.068931  0.277750   0.048191            0.042180   \n",
       "\n",
       "   iTransportation  iHealthcare  iEntertainment  iMiscellaneous  \\\n",
       "0         0.123053     0.152320        0.047408        0.038487   \n",
       "1         0.142919     0.140742        0.052440        0.019384   \n",
       "2         0.160788     0.169596        0.055769        0.016982   \n",
       "3         0.175623     0.158887        0.054669        0.018040   \n",
       "4         0.180536     0.149920        0.055787        0.017718   \n",
       "5         0.232130     0.136686        0.043984        0.019156   \n",
       "6         0.223403     0.116982        0.067968        0.017366   \n",
       "7         0.244508     0.110014        0.052942        0.012363   \n",
       "8         0.161679     0.100269        0.068941        0.037671   \n",
       "9         0.225810     0.071389        0.072249        0.043482   \n",
       "\n",
       "   iCharitableAndFamilyGiving  iInsurance  iEducation  iHousingPrinciple  \\\n",
       "0                    0.055566    0.003810    0.002302           0.018549   \n",
       "1                    0.046301    0.008811    0.001617           0.018634   \n",
       "2                    0.054558    0.006266    0.002755           0.018324   \n",
       "3                    0.064095    0.009448    0.004069           0.033203   \n",
       "4                    0.069236    0.007503    0.001434           0.028620   \n",
       "5                    0.047698    0.006830    0.004706           0.037593   \n",
       "6                    0.090713    0.007848    0.010784           0.031841   \n",
       "7                    0.060632    0.010715    0.005774           0.053029   \n",
       "8                    0.076662    0.013307    0.004462           0.046284   \n",
       "9                    0.063713    0.008644    0.021057           0.023275   \n",
       "\n",
       "     ExpInc  \n",
       "0  1.000000  \n",
       "1  1.000000  \n",
       "2  1.000000  \n",
       "3  0.858669  \n",
       "4  0.707340  \n",
       "5  0.669466  \n",
       "6  0.624104  \n",
       "7  0.516418  \n",
       "8  0.446058  \n",
       "9  0.369579  "
      ]
     },
     "execution_count": 108,
     "metadata": {},
     "output_type": "execute_result"
    }
   ],
   "source": [
    "# creating percentage outputs for cleaned dataframe\n",
    "inclassCleanAverages1 = round(clean1.ix[: ,clean1.columns != 'NEWID'].groupby(['INCLASS'],as_index=False).mean(),2)\n",
    "# creating new dataframe for the percentages that only includes the plynty categories\n",
    "cleanPercentages1 = inclassCleanAverages1.loc[:,rollupNames[1:]]\n",
    "for column in rollupNames[1:]:\n",
    "    cleanPercentages1[column] = inclassCleanAverages1[column]/inclassCleanAverages1.iTotalExp\n",
    "cleanPercentages1['ExpInc'] = inclassCleanAverages1['iTotalExp']/inclassCleanAverages1['FINCBTXM']\n",
    "# truncate the max ExpInc\n",
    "cleanPercentages1.ExpInc.ix[cleanPercentages1['ExpInc']>1] = 1\n",
    "cleanPercentages1"
   ]
  },
  {
   "cell_type": "code",
   "execution_count": 109,
   "metadata": {
    "collapsed": false,
    "scrolled": true
   },
   "outputs": [
    {
     "data": {
      "text/html": [
       "<div>\n",
       "<table border=\"1\" class=\"dataframe\">\n",
       "  <thead>\n",
       "    <tr style=\"text-align: right;\">\n",
       "      <th></th>\n",
       "      <th>iFoodAtHome</th>\n",
       "      <th>iFoodAway</th>\n",
       "      <th>iHousing</th>\n",
       "      <th>iUtilites</th>\n",
       "      <th>iClothingAndBeauty</th>\n",
       "      <th>iTransportation</th>\n",
       "      <th>iHealthcare</th>\n",
       "      <th>iEntertainment</th>\n",
       "      <th>iMiscellaneous</th>\n",
       "      <th>iCharitableAndFamilyGiving</th>\n",
       "      <th>iInsurance</th>\n",
       "      <th>iEducation</th>\n",
       "      <th>iHousingPrinciple</th>\n",
       "      <th>ExpInc</th>\n",
       "    </tr>\n",
       "  </thead>\n",
       "  <tbody>\n",
       "    <tr>\n",
       "      <th>0</th>\n",
       "      <td>0.139253</td>\n",
       "      <td>0.066370</td>\n",
       "      <td>0.277292</td>\n",
       "      <td>0.105222</td>\n",
       "      <td>0.024542</td>\n",
       "      <td>0.125901</td>\n",
       "      <td>0.145579</td>\n",
       "      <td>0.051928</td>\n",
       "      <td>0.034306</td>\n",
       "      <td>0.053519</td>\n",
       "      <td>0.003806</td>\n",
       "      <td>0.002037</td>\n",
       "      <td>0.029754</td>\n",
       "      <td>1.000000</td>\n",
       "    </tr>\n",
       "    <tr>\n",
       "      <th>1</th>\n",
       "      <td>0.138555</td>\n",
       "      <td>0.065560</td>\n",
       "      <td>0.265309</td>\n",
       "      <td>0.119291</td>\n",
       "      <td>0.026709</td>\n",
       "      <td>0.139425</td>\n",
       "      <td>0.140227</td>\n",
       "      <td>0.051366</td>\n",
       "      <td>0.018510</td>\n",
       "      <td>0.046805</td>\n",
       "      <td>0.008788</td>\n",
       "      <td>0.002002</td>\n",
       "      <td>0.022545</td>\n",
       "      <td>1.000000</td>\n",
       "    </tr>\n",
       "    <tr>\n",
       "      <th>2</th>\n",
       "      <td>0.125472</td>\n",
       "      <td>0.067455</td>\n",
       "      <td>0.242334</td>\n",
       "      <td>0.101622</td>\n",
       "      <td>0.025628</td>\n",
       "      <td>0.157339</td>\n",
       "      <td>0.166285</td>\n",
       "      <td>0.054730</td>\n",
       "      <td>0.016363</td>\n",
       "      <td>0.056061</td>\n",
       "      <td>0.005947</td>\n",
       "      <td>0.002694</td>\n",
       "      <td>0.021933</td>\n",
       "      <td>1.000000</td>\n",
       "    </tr>\n",
       "    <tr>\n",
       "      <th>3</th>\n",
       "      <td>0.115387</td>\n",
       "      <td>0.065302</td>\n",
       "      <td>0.256925</td>\n",
       "      <td>0.093793</td>\n",
       "      <td>0.028051</td>\n",
       "      <td>0.172176</td>\n",
       "      <td>0.154530</td>\n",
       "      <td>0.054452</td>\n",
       "      <td>0.017448</td>\n",
       "      <td>0.062964</td>\n",
       "      <td>0.008984</td>\n",
       "      <td>0.003812</td>\n",
       "      <td>0.033823</td>\n",
       "      <td>0.886292</td>\n",
       "    </tr>\n",
       "    <tr>\n",
       "      <th>4</th>\n",
       "      <td>0.110443</td>\n",
       "      <td>0.065919</td>\n",
       "      <td>0.269419</td>\n",
       "      <td>0.084987</td>\n",
       "      <td>0.030508</td>\n",
       "      <td>0.172025</td>\n",
       "      <td>0.142422</td>\n",
       "      <td>0.053625</td>\n",
       "      <td>0.016571</td>\n",
       "      <td>0.072341</td>\n",
       "      <td>0.008696</td>\n",
       "      <td>0.001403</td>\n",
       "      <td>0.028358</td>\n",
       "      <td>0.737127</td>\n",
       "    </tr>\n",
       "    <tr>\n",
       "      <th>5</th>\n",
       "      <td>0.103927</td>\n",
       "      <td>0.058600</td>\n",
       "      <td>0.282201</td>\n",
       "      <td>0.085166</td>\n",
       "      <td>0.026842</td>\n",
       "      <td>0.226787</td>\n",
       "      <td>0.135888</td>\n",
       "      <td>0.046346</td>\n",
       "      <td>0.018662</td>\n",
       "      <td>0.047955</td>\n",
       "      <td>0.006680</td>\n",
       "      <td>0.004541</td>\n",
       "      <td>0.043596</td>\n",
       "      <td>0.679942</td>\n",
       "    </tr>\n",
       "    <tr>\n",
       "      <th>6</th>\n",
       "      <td>0.095508</td>\n",
       "      <td>0.062709</td>\n",
       "      <td>0.251259</td>\n",
       "      <td>0.076738</td>\n",
       "      <td>0.028961</td>\n",
       "      <td>0.214949</td>\n",
       "      <td>0.115952</td>\n",
       "      <td>0.066816</td>\n",
       "      <td>0.017183</td>\n",
       "      <td>0.086654</td>\n",
       "      <td>0.007993</td>\n",
       "      <td>0.010082</td>\n",
       "      <td>0.034805</td>\n",
       "      <td>0.638800</td>\n",
       "    </tr>\n",
       "    <tr>\n",
       "      <th>7</th>\n",
       "      <td>0.092289</td>\n",
       "      <td>0.055504</td>\n",
       "      <td>0.315647</td>\n",
       "      <td>0.080496</td>\n",
       "      <td>0.028962</td>\n",
       "      <td>0.236860</td>\n",
       "      <td>0.108439</td>\n",
       "      <td>0.052095</td>\n",
       "      <td>0.011957</td>\n",
       "      <td>0.060919</td>\n",
       "      <td>0.010358</td>\n",
       "      <td>0.005605</td>\n",
       "      <td>0.059131</td>\n",
       "      <td>0.524622</td>\n",
       "    </tr>\n",
       "    <tr>\n",
       "      <th>8</th>\n",
       "      <td>0.085006</td>\n",
       "      <td>0.059214</td>\n",
       "      <td>0.332893</td>\n",
       "      <td>0.073465</td>\n",
       "      <td>0.041375</td>\n",
       "      <td>0.165735</td>\n",
       "      <td>0.097635</td>\n",
       "      <td>0.066132</td>\n",
       "      <td>0.035281</td>\n",
       "      <td>0.073422</td>\n",
       "      <td>0.012899</td>\n",
       "      <td>0.007107</td>\n",
       "      <td>0.050165</td>\n",
       "      <td>0.462627</td>\n",
       "    </tr>\n",
       "    <tr>\n",
       "      <th>9</th>\n",
       "      <td>0.077704</td>\n",
       "      <td>0.068417</td>\n",
       "      <td>0.295647</td>\n",
       "      <td>0.047043</td>\n",
       "      <td>0.040955</td>\n",
       "      <td>0.215340</td>\n",
       "      <td>0.070594</td>\n",
       "      <td>0.071263</td>\n",
       "      <td>0.050712</td>\n",
       "      <td>0.061213</td>\n",
       "      <td>0.008282</td>\n",
       "      <td>0.019562</td>\n",
       "      <td>0.026731</td>\n",
       "      <td>0.381118</td>\n",
       "    </tr>\n",
       "  </tbody>\n",
       "</table>\n",
       "</div>"
      ],
      "text/plain": [
       "   iFoodAtHome  iFoodAway  iHousing  iUtilites  iClothingAndBeauty  \\\n",
       "0     0.139253   0.066370  0.277292   0.105222            0.024542   \n",
       "1     0.138555   0.065560  0.265309   0.119291            0.026709   \n",
       "2     0.125472   0.067455  0.242334   0.101622            0.025628   \n",
       "3     0.115387   0.065302  0.256925   0.093793            0.028051   \n",
       "4     0.110443   0.065919  0.269419   0.084987            0.030508   \n",
       "5     0.103927   0.058600  0.282201   0.085166            0.026842   \n",
       "6     0.095508   0.062709  0.251259   0.076738            0.028961   \n",
       "7     0.092289   0.055504  0.315647   0.080496            0.028962   \n",
       "8     0.085006   0.059214  0.332893   0.073465            0.041375   \n",
       "9     0.077704   0.068417  0.295647   0.047043            0.040955   \n",
       "\n",
       "   iTransportation  iHealthcare  iEntertainment  iMiscellaneous  \\\n",
       "0         0.125901     0.145579        0.051928        0.034306   \n",
       "1         0.139425     0.140227        0.051366        0.018510   \n",
       "2         0.157339     0.166285        0.054730        0.016363   \n",
       "3         0.172176     0.154530        0.054452        0.017448   \n",
       "4         0.172025     0.142422        0.053625        0.016571   \n",
       "5         0.226787     0.135888        0.046346        0.018662   \n",
       "6         0.214949     0.115952        0.066816        0.017183   \n",
       "7         0.236860     0.108439        0.052095        0.011957   \n",
       "8         0.165735     0.097635        0.066132        0.035281   \n",
       "9         0.215340     0.070594        0.071263        0.050712   \n",
       "\n",
       "   iCharitableAndFamilyGiving  iInsurance  iEducation  iHousingPrinciple  \\\n",
       "0                    0.053519    0.003806    0.002037           0.029754   \n",
       "1                    0.046805    0.008788    0.002002           0.022545   \n",
       "2                    0.056061    0.005947    0.002694           0.021933   \n",
       "3                    0.062964    0.008984    0.003812           0.033823   \n",
       "4                    0.072341    0.008696    0.001403           0.028358   \n",
       "5                    0.047955    0.006680    0.004541           0.043596   \n",
       "6                    0.086654    0.007993    0.010082           0.034805   \n",
       "7                    0.060919    0.010358    0.005605           0.059131   \n",
       "8                    0.073422    0.012899    0.007107           0.050165   \n",
       "9                    0.061213    0.008282    0.019562           0.026731   \n",
       "\n",
       "     ExpInc  \n",
       "0  1.000000  \n",
       "1  1.000000  \n",
       "2  1.000000  \n",
       "3  0.886292  \n",
       "4  0.737127  \n",
       "5  0.679942  \n",
       "6  0.638800  \n",
       "7  0.524622  \n",
       "8  0.462627  \n",
       "9  0.381118  "
      ]
     },
     "execution_count": 109,
     "metadata": {},
     "output_type": "execute_result"
    }
   ],
   "source": [
    "# creating percentage outputs for cleaned dataframe\n",
    "inclassCleanAverages2 = round(clean2.ix[: ,clean2.columns != 'NEWID'].groupby(['INCLASS'],as_index=False).mean(),2)\n",
    "# creating new dataframe for the percentages that only includes the plynty categories\n",
    "cleanPercentages2 = inclassCleanAverages2.loc[:,rollupNames[1:]]\n",
    "for column in rollupNames[1:]:\n",
    "    cleanPercentages2[column] = inclassCleanAverages2[column]/inclassCleanAverages2.iTotalExp\n",
    "cleanPercentages2['ExpInc'] = inclassCleanAverages2['iTotalExp']/inclassCleanAverages2['FINCBTXM']\n",
    "# truncate the max ExpInc\n",
    "cleanPercentages2nonTruncated = cleanPercentages2.copy()\n",
    "cleanPercentages2.ExpInc.ix[cleanPercentages2['ExpInc']>1] = 1\n",
    "cleanPercentages2"
   ]
  },
  {
   "cell_type": "code",
   "execution_count": 110,
   "metadata": {
    "collapsed": false
   },
   "outputs": [
    {
     "data": {
      "image/png": "[encoded data removed]",
      "text/plain": [
       "<matplotlib.figure.Figure at 0x1132ef5f8>"
      ]
     },
     "metadata": {},
     "output_type": "display_data"
    }
   ],
   "source": [
    "plt.bar(cleanPercentages2.index, cleanPercentages2.ExpInc, color = 'b')\n",
    "plt.title(\"Percent of Income Expended per Income Class (outer fence)\")\n",
    "plt.xlabel(\"Income Class\")\n",
    "plt.ylabel(\"Percentage\")\n",
    "plt.show()"
   ]
  },
  {
   "cell_type": "code",
   "execution_count": 111,
   "metadata": {
    "collapsed": false
   },
   "outputs": [
    {
     "data": {
      "image/png": "[encoded data removed]",
      "text/plain": [
       "<matplotlib.figure.Figure at 0x1140b9dd8>"
      ]
     },
     "metadata": {},
     "output_type": "display_data"
    }
   ],
   "source": [
    "plt.bar(cleanPercentages2.index, cleanPercentages2.iHousing, color = 'b')\n",
    "plt.title(\"Percent spent on Housing per Income Class (outer fence)\")\n",
    "plt.xlabel(\"Income class\")\n",
    "plt.ylabel(\"Percent spent on housing\")\n",
    "plt.show()"
   ]
  },
  {
   "cell_type": "markdown",
   "metadata": {},
   "source": [
    "# Plots"
   ]
  },
  {
   "cell_type": "code",
   "execution_count": 112,
   "metadata": {
    "collapsed": false,
    "scrolled": true
   },
   "outputs": [
    {
     "name": "stdout",
     "output_type": "stream",
     "text": [
      "[1753  958  889  499  452  267  204  157  125   84]\n"
     ]
    },
    {
     "data": {
      "text/plain": [
       "<matplotlib.text.Text at 0x134d3f7f0>"
      ]
     },
     "execution_count": 112,
     "metadata": {},
     "output_type": "execute_result"
    }
   ],
   "source": [
    "# ploting the number of people in each bracket\n",
    "print(inclassExpenses.INCLASS.value_counts().values)\n",
    "plt.bar(list(inclassExpenses.INCLASS.value_counts().index.tolist()), inclassExpenses.INCLASS.value_counts().values, align='center', color = \"r\")\n",
    "plt.title(\"Number of CUs in Income classes (with outliers)\")\n",
    "plt.xlabel(\"Income Class\")\n",
    "plt.ylabel(\"Count\")\n",
    "# plt.show()"
   ]
  },
  {
   "cell_type": "code",
   "execution_count": 113,
   "metadata": {
    "collapsed": false
   },
   "outputs": [
    {
     "data": {
      "text/plain": [
       "<matplotlib.text.Text at 0x134d3f7f0>"
      ]
     },
     "execution_count": 113,
     "metadata": {},
     "output_type": "execute_result"
    }
   ],
   "source": [
    "# creating the plot of percent of income expended per income class\n",
    "plt.bar(percentages.index, percentages.ExpInc, color = 'r')\n",
    "plt.title(\"Percent of Income Expended per Income Class (with outliers)\")\n",
    "plt.xlabel(\"Income Class\")\n",
    "plt.ylabel(\"Percentage\")\n",
    "# plt.show()"
   ]
  },
  {
   "cell_type": "code",
   "execution_count": 114,
   "metadata": {
    "collapsed": false,
    "scrolled": true
   },
   "outputs": [
    {
     "data": {
      "text/plain": [
       "<matplotlib.text.Text at 0x134d3f7f0>"
      ]
     },
     "execution_count": 114,
     "metadata": {},
     "output_type": "execute_result"
    }
   ],
   "source": [
    "# creating plot of Percent spent on Housing per income class\n",
    "plt.bar(percentages.index, percentages.iHousing, color = 'r')\n",
    "plt.ylim(0,.4)\n",
    "plt.title(\"Percent spent on Housing per Income Class (with outliers)\")\n",
    "plt.xlabel(\"Income class\")\n",
    "plt.ylabel(\"Percent spent on housing\")\n",
    "# plt.show()"
   ]
  },
  {
   "cell_type": "code",
   "execution_count": 115,
   "metadata": {
    "collapsed": false,
    "scrolled": false
   },
   "outputs": [
    {
     "data": {
      "text/plain": [
       "<matplotlib.text.Text at 0x134d3f7f0>"
      ]
     },
     "execution_count": 115,
     "metadata": {},
     "output_type": "execute_result"
    }
   ],
   "source": [
    "inclassSD = inclassExpenses.groupby(['INCLASS'],as_index=False).std()\n",
    "inclassSD.iHousing\n",
    "plt.bar(inclassSD.iHousing.index, inclassSD.iHousing, color = 'r')\n",
    "plt.title(\"Standard deviations in Income Classes (with outliers)\")\n",
    "plt.ylim(0,60000)\n",
    "plt.xlabel(\"Income Class\")\n",
    "plt.ylabel(\"Standard Deviation\")\n",
    "# plt.show()"
   ]
  },
  {
   "cell_type": "code",
   "execution_count": 116,
   "metadata": {
    "collapsed": false
   },
   "outputs": [
    {
     "name": "stdout",
     "output_type": "stream",
     "text": [
      "[1637  883  847  461  422  244  196  148  119   75]\n"
     ]
    },
    {
     "data": {
      "text/plain": [
       "<matplotlib.text.Text at 0x134d3f7f0>"
      ]
     },
     "execution_count": 116,
     "metadata": {},
     "output_type": "execute_result"
    }
   ],
   "source": [
    "# ploting the number of people in each bracket\n",
    "print(clean1.INCLASS.value_counts().values)\n",
    "plt.bar(list(clean1.INCLASS.value_counts().index.tolist()), clean1.INCLASS.value_counts().values, align='center', color=\"g\")\n",
    "plt.title(\"Number of CUs in Income classes (outer fence)\")\n",
    "plt.xlabel(\"Income Class\")\n",
    "plt.ylabel(\"Count\")\n",
    "# plt.show()"
   ]
  },
  {
   "cell_type": "code",
   "execution_count": 117,
   "metadata": {
    "collapsed": false,
    "scrolled": true
   },
   "outputs": [
    {
     "data": {
      "text/plain": [
       "<matplotlib.text.Text at 0x134d3f7f0>"
      ]
     },
     "execution_count": 117,
     "metadata": {},
     "output_type": "execute_result"
    }
   ],
   "source": [
    "inclassClean1SD = clean1.groupby(['INCLASS'],as_index=False).std()\n",
    "inclassClean1SD.iHousing\n",
    "plt.bar(inclassClean1SD.iHousing.index, inclassClean1SD.iHousing,color = 'g')\n",
    "plt.ylim(0,60000)\n",
    "plt.title(\"Standard deviations in Income Classes (inner fence)\")\n",
    "plt.xlabel(\"Income Class\")\n",
    "plt.ylabel(\"Standard Deviation\")\n",
    "# plt.show()"
   ]
  },
  {
   "cell_type": "code",
   "execution_count": 118,
   "metadata": {
    "collapsed": false,
    "scrolled": true
   },
   "outputs": [
    {
     "name": "stdout",
     "output_type": "stream",
     "text": [
      "[1712  917  877  489  441  257  200  155  123   78]\n"
     ]
    },
    {
     "data": {
      "text/plain": [
       "<matplotlib.text.Text at 0x134d3f7f0>"
      ]
     },
     "execution_count": 118,
     "metadata": {},
     "output_type": "execute_result"
    }
   ],
   "source": [
    "# ploting the number of people in each bracket\n",
    "print(clean2.INCLASS.value_counts().values)\n",
    "plt.bar(list(clean2.INCLASS.value_counts().index.tolist()), clean2.INCLASS.value_counts().values, align='center', color=\"b\")\n",
    "plt.title(\"Number of CUs in Income classes (outer fence)\")\n",
    "plt.xlabel(\"Income Class\")\n",
    "plt.ylabel(\"Count\")\n",
    "# plt.show()"
   ]
  },
  {
   "cell_type": "code",
   "execution_count": 119,
   "metadata": {
    "collapsed": false
   },
   "outputs": [
    {
     "data": {
      "text/plain": [
       "<matplotlib.text.Text at 0x134d3f7f0>"
      ]
     },
     "execution_count": 119,
     "metadata": {},
     "output_type": "execute_result"
    }
   ],
   "source": [
    "inclassClean2SD = clean2.groupby(['INCLASS'],as_index=False).std()\n",
    "inclassClean2SD.iHousing\n",
    "plt.bar(inclassClean2SD.iHousing.index, inclassClean2SD.iHousing,color = 'b')\n",
    "plt.ylim(0,60000)\n",
    "plt.title(\"Standard deviations in Income Classes (outer fence)\")\n",
    "plt.xlabel(\"Income Class\")\n",
    "plt.ylabel(\"Standard Deviation\")\n",
    "# plt.show()"
   ]
  },
  {
   "cell_type": "code",
   "execution_count": 120,
   "metadata": {
    "collapsed": false
   },
   "outputs": [
    {
     "data": {
      "image/png": "[encoded data removed]",
      "text/plain": [
       "<matplotlib.figure.Figure at 0x116ac1630>"
      ]
     },
     "metadata": {},
     "output_type": "display_data"
    },
    {
     "data": {
      "text/plain": [
       "array([1712,  917,  877,  489,  441,  257,  200,  155,  123,   78])"
      ]
     },
     "execution_count": 120,
     "metadata": {},
     "output_type": "execute_result"
    }
   ],
   "source": [
    "plt.close()\n",
    "n_groups = 4\n",
    "values1 = inclassExpenses.INCLASS.value_counts().values\n",
    "values2 = clean1.INCLASS.value_counts().values\n",
    "values3 = clean2.INCLASS.value_counts().values\n",
    "\n",
    "fig, ax = plt.subplots()\n",
    "index = np.arange(n_groups)\n",
    "bar_width = 0.25\n",
    "opacity = 1\n",
    " \n",
    "rects1 = plt.bar(inclassExpenses.INCLASS.value_counts().index -1, values1, bar_width,\n",
    "                 alpha=opacity,\n",
    "                 color='r',\n",
    "                 label='With')\n",
    " \n",
    "rects2 = plt.bar(clean1.INCLASS.value_counts().index -1 + bar_width, values2, bar_width,\n",
    "                 alpha=opacity,\n",
    "                 color='g',\n",
    "                 label='Inner')\n",
    "\n",
    "rects3 = plt.bar(clean2.INCLASS.value_counts().index - 1 + bar_width*2, values3, bar_width,\n",
    "                 alpha=opacity,\n",
    "                 color='b',\n",
    "                 label='Outer')\n",
    "\n",
    "plt.xlabel('Income Class')\n",
    "plt.ylabel('Number of CUs')\n",
    "plt.title('Number of CUs per Income Class')\n",
    "plt.legend()\n",
    "plt.show()\n",
    "clean2.INCLASS.value_counts().values"
   ]
  },
  {
   "cell_type": "code",
   "execution_count": 121,
   "metadata": {
    "collapsed": false,
    "scrolled": false
   },
   "outputs": [
    {
     "name": "stdout",
     "output_type": "stream",
     "text": [
      "The average percent change between with and without outliers: 2.23%\n"
     ]
    },
    {
     "data": {
      "image/png": "[encoded data removed]",
      "text/plain": [
       "<matplotlib.figure.Figure at 0x115c0dd30>"
      ]
     },
     "metadata": {},
     "output_type": "display_data"
    }
   ],
   "source": [
    "n_groups = 4\n",
    "values1 = percentages.iHousing\n",
    "values2 = cleanPercentages1.iHousing\n",
    "values3 = cleanPercentages2.iHousing\n",
    "\n",
    "print(\"The average percent change between with and without outliers: \"+str(round((values1-values3).mean()*100,2))+\"%\")\n",
    "\n",
    "fig, ax = plt.subplots()\n",
    "index = np.arange(n_groups)\n",
    "bar_width = 0.25\n",
    "opacity = 1\n",
    " \n",
    "rects1 = plt.bar(percentages.index, values1, bar_width,\n",
    "                 alpha=opacity,\n",
    "                 color='r',\n",
    "                 label='With')\n",
    " \n",
    "rects2 = plt.bar(cleanPercentages1.index + bar_width, values2, bar_width,\n",
    "                 alpha=opacity,\n",
    "                 color='g',\n",
    "                 label='Inner')\n",
    "\n",
    "rects3 = plt.bar(cleanPercentages2.index + bar_width*2, values3, bar_width,\n",
    "                 alpha=opacity,\n",
    "                 color='b',\n",
    "                 label='Outer')\n",
    "\n",
    "plt.xlabel('Income Class')\n",
    "plt.ylabel('Percent of Total Expenditures')\n",
    "plt.title('Percent Spent on Housing per Income Class')\n",
    "plt.ylim(0,.4)\n",
    "plt.legend()\n",
    "plt.show()"
   ]
  },
  {
   "cell_type": "code",
   "execution_count": 122,
   "metadata": {
    "collapsed": false
   },
   "outputs": [
    {
     "data": {
      "image/png": "[encoded data removed]",
      "text/plain": [
       "<matplotlib.figure.Figure at 0x112d7bfd0>"
      ]
     },
     "metadata": {},
     "output_type": "display_data"
    }
   ],
   "source": [
    "n_groups = 4\n",
    "values1 = inclassSD.iHousing\n",
    "values2 = inclassClean1SD.iHousing\n",
    "values3 = inclassClean2SD.iHousing\n",
    "\n",
    "fig, ax = plt.subplots()\n",
    "index = np.arange(n_groups)\n",
    "bar_width = 0.25\n",
    "opacity = 1\n",
    " \n",
    "rects1 = plt.bar(percentages.index, values1, bar_width,\n",
    "                 alpha=opacity,\n",
    "                 color='r',\n",
    "                 label='With')\n",
    " \n",
    "rects2 = plt.bar(cleanPercentages1.index + bar_width, values2, bar_width,\n",
    "                 alpha=opacity,\n",
    "                 color='g',\n",
    "                 label='Inner')\n",
    "\n",
    "rects3 = plt.bar(cleanPercentages2.index + bar_width*2, values3, bar_width,\n",
    "                 alpha=opacity,\n",
    "                 color='b',\n",
    "                 label='Outer')\n",
    "\n",
    "plt.xlabel('Income Class')\n",
    "plt.ylabel('Standard Deviation (Dollars)')\n",
    "plt.title('Standard Deviation of money spent on Housing per Income Class')\n",
    "plt.legend()\n",
    "plt.show()"
   ]
  },
  {
   "cell_type": "code",
   "execution_count": 123,
   "metadata": {
    "collapsed": false,
    "scrolled": true
   },
   "outputs": [
    {
     "data": {
      "image/png": "[encoded data removed]",
      "text/plain": [
       "<matplotlib.figure.Figure at 0x116238048>"
      ]
     },
     "metadata": {},
     "output_type": "display_data"
    }
   ],
   "source": [
    "n_groups = 3\n",
    "values1 = percentages.ExpInc\n",
    "values2 = cleanPercentages1.ExpInc\n",
    "values3 = cleanPercentages2.ExpInc\n",
    "\n",
    "fig, ax = plt.subplots()\n",
    "index = np.arange(n_groups)\n",
    "bar_width = 0.25\n",
    "opacity = 1\n",
    " \n",
    "rects1 = plt.bar(percentages.index, values1, bar_width,\n",
    "                 alpha=opacity,\n",
    "                 color='r',\n",
    "                 label='With')\n",
    " \n",
    "rects2 = plt.bar(cleanPercentages1.index + bar_width, values2, bar_width,\n",
    "                 alpha=opacity,\n",
    "                 color='g',\n",
    "                 label='Outer Fence')\n",
    "\n",
    "rects3 = plt.bar(cleanPercentages2.index + bar_width*2, values3, bar_width,\n",
    "                 alpha=opacity,\n",
    "                 color='b',\n",
    "                 label='Inner Fence')\n",
    " \n",
    "plt.xlabel('Income Class')\n",
    "plt.ylabel('Percent of Income Expended')\n",
    "plt.title('Percent of Income Expent per Income Class')\n",
    "plt.legend()\n",
    "plt.show()"
   ]
  },
  {
   "cell_type": "markdown",
   "metadata": {},
   "source": [
    "# Least squares polynomial fit\n",
    "any value that would cause a person to expend over 100% of their income is truncated to 100%"
   ]
  },
  {
   "cell_type": "code",
   "execution_count": 124,
   "metadata": {
    "slideshow": "-"
   },
   "outputs": [
    {
     "name": "stdout",
     "output_type": "stream",
     "text": [
      "           3             2\n",
      "6.635e-13 x - 7.694e-07 x + 0.4993 x + 2.054e+04\n"
     ]
    },
    {
     "data": {
      "image/png": "[encoded data removed]",
      "text/plain": [
       "<matplotlib.figure.Figure at 0x116238390>"
      ]
     },
     "metadata": {},
     "output_type": "display_data"
    }
   ],
   "source": [
    "# cleanPercentages2.ExpInc[3:]\n",
    "cleanReg = clean2[[\"FINCBTXM\",\"iTotalExp\"]]\n",
    "cleanReg = cleanReg.loc[clean2.FINCBTXM > 0]\n",
    "cleanReg = cleanReg.loc[cleanReg.iTotalExp > 0]\n",
    "cleanReg\n",
    "def getExpendPercent(income):\n",
    "    if income <= 0:\n",
    "        return(1)\n",
    "    coefficients = np.polyfit(cleanReg.FINCBTXM, cleanReg.iTotalExp, deg = 3)\n",
    "    p = np.poly1d(coefficients)\n",
    "    np.seterr(divide='ignore')\n",
    "    percent = p(income)/income\n",
    "    if percent > 1:\n",
    "        percent = 1\n",
    "    return(percent)\n",
    "\n",
    "def printRegression():\n",
    "    coefficients = np.polyfit(cleanReg.FINCBTXM, cleanReg.iTotalExp, deg = 3)\n",
    "    p = np.poly1d(coefficients)\n",
    "    print(p)\n",
    "    \n",
    "    \n",
    "printRegression()\n",
    "    \n",
    "x = range(0,360000,1000)\n",
    "x2 = range(0,360000,1000)\n",
    "y =[]\n",
    "y2 =[]\n",
    "def oldRegression(income):\n",
    "    if income > 53000:\n",
    "        output = ((-7.6108*(10**(-17)))*(income**3))+((4.2009*(10**(-11)))*(income**2))+((-7.90256*(10**-6))*income)+1.21112\n",
    "    else:\n",
    "        output = 1\n",
    "    return(output)\n",
    "\n",
    "\n",
    "for bracket in range(0,360000,1000):\n",
    "    y.append(getExpendPercent(bracket))\n",
    "    y2.append(oldRegression(bracket))\n",
    "# plt.plot(inclassCleanAverages2.FINCBTXM,cleanPercentages2.ExpInc)\n",
    "plt.plot(x,y, color = \"r\", label=\"New\")\n",
    "plt.plot(x2,y2, color = \"b\", label = \"Old\")\n",
    "x3 = range(0,incomeBrackets[len(incomeBrackets)-2])\n",
    "\n",
    "# creating the repeatArray for income Bracket plotting\n",
    "lastvalue = 0\n",
    "repeatArray = []\n",
    "for x in range(0,len(incomeBrackets[1:len(incomeBrackets)-1])):\n",
    "    repeatArray.append(incomeBrackets[1:len(incomeBrackets)-1][x] - lastvalue)\n",
    "    lastvalue = incomeBrackets[1:len(incomeBrackets)-1][x]\n",
    "\n",
    "y3 = np.repeat(cleanPercentages2.ExpInc[0:len(cleanPercentages2)-1], repeatArray)\n",
    "plt.plot(x3,y3, color = \"g\", label = \"Brackets\")\n",
    "plt.title(\"Percent of Income Expended Regression\")\n",
    "plt.xlabel(\"Income Before Taxes\")\n",
    "plt.ylabel(\"Percent of Income Expended\")\n",
    "plt.xlim(0,350000)\n",
    "plt.ylim(0,1.2)\n",
    "plt.legend()\n",
    "plt.show()"
   ]
  },
  {
   "cell_type": "markdown",
   "metadata": {},
   "source": [
    "### Plot of number of CUs for clean2 only"
   ]
  },
  {
   "cell_type": "code",
   "execution_count": 125,
   "metadata": {},
   "outputs": [
    {
     "data": {
      "image/png": "[encoded data removed]",
      "text/plain": [
       "<matplotlib.figure.Figure at 0x1161a2fd0>"
      ]
     },
     "metadata": {},
     "output_type": "display_data"
    }
   ],
   "source": [
    "plt.bar(clean2.INCLASS.value_counts().index - 1, (clean2.INCLASS.value_counts().values)/(len(clean2)), alpha=opacity, color='g')\n",
    "plt.suptitle(\"Percent of CUs in each Income class\")\n",
    "plt.title(\"Ages: 60-75\")\n",
    "plt.xlabel(\"Income Class\")\n",
    "plt.ylabel(\"Percent of CUs\")\n",
    "plt.show()"
   ]
  },
  {
   "cell_type": "markdown",
   "metadata": {},
   "source": [
    "# Examples of Users"
   ]
  },
  {
   "cell_type": "code",
   "execution_count": 126,
   "metadata": {},
   "outputs": [
    {
     "data": {
      "text/html": [
       "<div>\n",
       "<table border=\"1\" class=\"dataframe\">\n",
       "  <thead>\n",
       "    <tr style=\"text-align: right;\">\n",
       "      <th></th>\n",
       "      <th>iFoodAtHome</th>\n",
       "      <th>iFoodAway</th>\n",
       "      <th>iHousing</th>\n",
       "      <th>iUtilites</th>\n",
       "      <th>iClothingAndBeauty</th>\n",
       "      <th>iTransportation</th>\n",
       "      <th>iHealthcare</th>\n",
       "      <th>iEntertainment</th>\n",
       "      <th>iMiscellaneous</th>\n",
       "      <th>iCharitableAndFamilyGiving</th>\n",
       "      <th>iInsurance</th>\n",
       "      <th>iEducation</th>\n",
       "      <th>iHousingPrinciple</th>\n",
       "      <th>ExpInc</th>\n",
       "    </tr>\n",
       "  </thead>\n",
       "  <tbody>\n",
       "    <tr>\n",
       "      <th>30000</th>\n",
       "      <td>313.681</td>\n",
       "      <td>168.639</td>\n",
       "      <td>605.836</td>\n",
       "      <td>254.056</td>\n",
       "      <td>64.0689</td>\n",
       "      <td>393.346</td>\n",
       "      <td>415.712</td>\n",
       "      <td>136.826</td>\n",
       "      <td>40.9087</td>\n",
       "      <td>140.153</td>\n",
       "      <td>14.8687</td>\n",
       "      <td>6.736</td>\n",
       "      <td>54.8324</td>\n",
       "      <td>2500</td>\n",
       "    </tr>\n",
       "    <tr>\n",
       "      <th>60000</th>\n",
       "      <td>460.266</td>\n",
       "      <td>260.482</td>\n",
       "      <td>1024.85</td>\n",
       "      <td>374.13</td>\n",
       "      <td>111.892</td>\n",
       "      <td>686.793</td>\n",
       "      <td>616.403</td>\n",
       "      <td>217.204</td>\n",
       "      <td>69.5977</td>\n",
       "      <td>251.158</td>\n",
       "      <td>35.8371</td>\n",
       "      <td>15.2046</td>\n",
       "      <td>134.917</td>\n",
       "      <td>3535.33</td>\n",
       "    </tr>\n",
       "    <tr>\n",
       "      <th>90000</th>\n",
       "      <td>517.238</td>\n",
       "      <td>291.648</td>\n",
       "      <td>1404.49</td>\n",
       "      <td>423.862</td>\n",
       "      <td>133.589</td>\n",
       "      <td>1128.7</td>\n",
       "      <td>676.304</td>\n",
       "      <td>230.658</td>\n",
       "      <td>92.8798</td>\n",
       "      <td>238.67</td>\n",
       "      <td>33.2438</td>\n",
       "      <td>22.6003</td>\n",
       "      <td>216.972</td>\n",
       "      <td>3384.01</td>\n",
       "    </tr>\n",
       "    <tr>\n",
       "      <th>120000</th>\n",
       "      <td>561.241</td>\n",
       "      <td>368.501</td>\n",
       "      <td>1476.49</td>\n",
       "      <td>450.94</td>\n",
       "      <td>170.188</td>\n",
       "      <td>1263.12</td>\n",
       "      <td>681.38</td>\n",
       "      <td>392.638</td>\n",
       "      <td>100.973</td>\n",
       "      <td>509.214</td>\n",
       "      <td>46.9727</td>\n",
       "      <td>59.2457</td>\n",
       "      <td>204.525</td>\n",
       "      <td>3753.83</td>\n",
       "    </tr>\n",
       "    <tr>\n",
       "      <th>250000</th>\n",
       "      <td>696.959</td>\n",
       "      <td>613.665</td>\n",
       "      <td>2651.78</td>\n",
       "      <td>421.944</td>\n",
       "      <td>367.339</td>\n",
       "      <td>1931.47</td>\n",
       "      <td>633.188</td>\n",
       "      <td>639.186</td>\n",
       "      <td>454.854</td>\n",
       "      <td>549.04</td>\n",
       "      <td>74.2841</td>\n",
       "      <td>175.457</td>\n",
       "      <td>239.758</td>\n",
       "      <td>3418.4</td>\n",
       "    </tr>\n",
       "  </tbody>\n",
       "</table>\n",
       "</div>"
      ],
      "text/plain": [
       "       iFoodAtHome iFoodAway iHousing iUtilites iClothingAndBeauty  \\\n",
       "30000      313.681   168.639  605.836   254.056            64.0689   \n",
       "60000      460.266   260.482  1024.85    374.13            111.892   \n",
       "90000      517.238   291.648  1404.49   423.862            133.589   \n",
       "120000     561.241   368.501  1476.49    450.94            170.188   \n",
       "250000     696.959   613.665  2651.78   421.944            367.339   \n",
       "\n",
       "       iTransportation iHealthcare iEntertainment iMiscellaneous  \\\n",
       "30000          393.346     415.712        136.826        40.9087   \n",
       "60000          686.793     616.403        217.204        69.5977   \n",
       "90000           1128.7     676.304        230.658        92.8798   \n",
       "120000         1263.12      681.38        392.638        100.973   \n",
       "250000         1931.47     633.188        639.186        454.854   \n",
       "\n",
       "       iCharitableAndFamilyGiving iInsurance iEducation iHousingPrinciple  \\\n",
       "30000                     140.153    14.8687      6.736           54.8324   \n",
       "60000                     251.158    35.8371    15.2046           134.917   \n",
       "90000                      238.67    33.2438    22.6003           216.972   \n",
       "120000                    509.214    46.9727    59.2457           204.525   \n",
       "250000                     549.04    74.2841    175.457           239.758   \n",
       "\n",
       "         ExpInc  \n",
       "30000      2500  \n",
       "60000   3535.33  \n",
       "90000   3384.01  \n",
       "120000  3753.83  \n",
       "250000   3418.4  "
      ]
     },
     "execution_count": 126,
     "metadata": {},
     "output_type": "execute_result"
    }
   ],
   "source": [
    "usersIncome = [30000, 60000, 90000, 120000, 250000]\n",
    "def getIncomeBracket(income):\n",
    "    for bracket in range(len(incomeBrackets)-2,0,-1):\n",
    "        if income > incomeBrackets[bracket]:\n",
    "            return bracket\n",
    "            \n",
    "\n",
    "exampleExpenses = pd.DataFrame(columns = cleanPercentages2.columns, index = range(len(usersIncome)))\n",
    "for user in usersIncome:\n",
    "    userBracket = getIncomeBracket(user)\n",
    "    userExpendAmount = getExpendPercent(user) * user\n",
    "    userBaseExpenses = (cleanPercentages2.loc[userBracket]*userExpendAmount)/12\n",
    "    exampleExpenses.loc[usersIncome.index(user)] = userBaseExpenses\n",
    "\n",
    "exampleExpenses.index = usersIncome\n",
    "\n",
    "exampleExpenses"
   ]
  },
  {
   "cell_type": "markdown",
   "metadata": {},
   "source": [
    "# Creating CSV fo percentages"
   ]
  },
  {
   "cell_type": "code",
   "execution_count": 127,
   "metadata": {},
   "outputs": [],
   "source": [
    "cleanPercentages2.to_csv(\"percentage\"+str(minAge)+\"to\"+str(maxAge)+\".csv\")"
   ]
  },
  {
   "cell_type": "markdown",
   "metadata": {},
   "source": [
    "# Importing CSVs of pre-Subset Percentages CSVs"
   ]
  },
  {
   "cell_type": "code",
   "execution_count": 134,
   "metadata": {},
   "outputs": [],
   "source": [
    "ageRange1 = pd.read_csv(\"percentage55to64.csv\", index_col=0)\n",
    "ageRange2 = pd.read_csv(\"percentage60to75.csv\", index_col=0)\n",
    "ageRange3 = pd.read_csv(\"percentage65to130.csv\", index_col=0)"
   ]
  },
  {
   "cell_type": "markdown",
   "metadata": {},
   "source": [
    "### Plotting the differences between Age brackets"
   ]
  },
  {
   "cell_type": "code",
   "execution_count": 135,
   "metadata": {},
   "outputs": [
    {
     "data": {
      "image/png": "[encoded data removed]",
      "text/plain": [
       "<matplotlib.figure.Figure at 0x108b87c88>"
      ]
     },
     "metadata": {},
     "output_type": "display_data"
    }
   ],
   "source": [
    "n_groups = 3\n",
    "values1 = ageRange1.ExpInc\n",
    "values2 = ageRange2.ExpInc\n",
    "values3 = ageRange3.ExpInc\n",
    "\n",
    "fig, ax = plt.subplots()\n",
    "index = np.arange(n_groups)\n",
    "bar_width = 0.25\n",
    "opacity = 1\n",
    " \n",
    "rects1 = plt.bar(ageRange1.index, values1, bar_width,\n",
    "                 alpha=opacity,\n",
    "                 color='r',\n",
    "                 label='55-64')\n",
    " \n",
    "rects2 = plt.bar(ageRange2.index + bar_width, values2, bar_width,\n",
    "                 alpha=opacity,\n",
    "                 color='g',\n",
    "                 label='60-75')\n",
    "\n",
    "rects3 = plt.bar(ageRange3.index + (bar_width * 2), values3, bar_width,\n",
    "                 alpha=opacity,\n",
    "                 color='b',\n",
    "                 label='65+')\n",
    "\n",
    "plt.xlabel('Income Class')\n",
    "plt.ylabel('Percent of Income Expended')\n",
    "plt.title('Percent of Income Expent per Income Class')\n",
    "plt.legend()\n",
    "plt.show()"
   ]
  },
  {
   "cell_type": "code",
   "execution_count": 139,
   "metadata": {},
   "outputs": [
    {
     "data": {
      "image/png": "[encoded data removed]",
      "text/plain": [
       "<matplotlib.figure.Figure at 0x113894b00>"
      ]
     },
     "metadata": {},
     "output_type": "display_data"
    }
   ],
   "source": [
    "n_groups = 3\n",
    "values1 = ageRange1.iHousing\n",
    "values2 = ageRange2.iHousing\n",
    "values3 = ageRange3.iHousing\n",
    "\n",
    "fig, ax = plt.subplots()\n",
    "index = np.arange(n_groups)\n",
    "bar_width = 0.25\n",
    "opacity = 1\n",
    " \n",
    "rects1 = plt.bar(ageRange1.index, values1, bar_width,\n",
    "                 alpha=opacity,\n",
    "                 color='r',\n",
    "                 label='55-64')\n",
    " \n",
    "rects2 = plt.bar(ageRange2.index + bar_width, values2, bar_width,\n",
    "                 alpha=opacity,\n",
    "                 color='g',\n",
    "                 label='60-75')\n",
    "\n",
    "rects3 = plt.bar(ageRange3.index + (bar_width * 2), values3, bar_width,\n",
    "                 alpha=opacity,\n",
    "                 color='b',\n",
    "                 label='65+')\n",
    "\n",
    "plt.xlabel('Income Class')\n",
    "plt.ylabel('Percent of Total Expenditures')\n",
    "plt.title('Percent Spent on Housing per Income Class')\n",
    "plt.legend()\n",
    "plt.ylim(0,.4)\n",
    "plt.show()"
   ]
  },
  {
   "cell_type": "code",
   "execution_count": 137,
   "metadata": {},
   "outputs": [
    {
     "data": {
      "image/png": "[encoded data removed]",
      "text/plain": [
       "<matplotlib.figure.Figure at 0x116241f28>"
      ]
     },
     "metadata": {},
     "output_type": "display_data"
    }
   ],
   "source": [
    "n_groups = 3\n",
    "values1 = ageRange1.iHealthcare\n",
    "values2 = ageRange2.iHealthcare\n",
    "values3 = ageRange3.iHealthcare\n",
    "\n",
    "fig, ax = plt.subplots()\n",
    "index = np.arange(n_groups)\n",
    "bar_width = 0.25\n",
    "opacity = 1\n",
    " \n",
    "rects1 = plt.bar(ageRange1.index, values1, bar_width,\n",
    "                 alpha=opacity,\n",
    "                 color='r',\n",
    "                 label='55-64')\n",
    " \n",
    "rects2 = plt.bar(ageRange2.index + bar_width, values2, bar_width,\n",
    "                 alpha=opacity,\n",
    "                 color='g',\n",
    "                 label='60-75')\n",
    "\n",
    "rects3 = plt.bar(ageRange3.index + (bar_width * 2), values3, bar_width,\n",
    "                 alpha=opacity,\n",
    "                 color='b',\n",
    "                 label='65+')\n",
    "\n",
    "plt.xlabel('Income Class')\n",
    "plt.ylabel('Percent of Total Expenditures')\n",
    "plt.title('Percent Spent on Healthcare per Income Class')\n",
    "plt.legend()\n",
    "plt.show()"
   ]
  },
  {
   "cell_type": "code",
   "execution_count": 138,
   "metadata": {},
   "outputs": [
    {
     "data": {
      "image/png": "[encoded data removed]",
      "text/plain": [
       "<matplotlib.figure.Figure at 0x116197400>"
      ]
     },
     "metadata": {},
     "output_type": "display_data"
    }
   ],
   "source": [
    "n_groups = 2\n",
    "values1 = ageRange1.iTransportation\n",
    "values2 = ageRange2.iTransportation\n",
    "values3 = ageRange3.iTransportation\n",
    "\n",
    "fig, ax = plt.subplots()\n",
    "index = np.arange(n_groups)\n",
    "bar_width = 0.25\n",
    "opacity = 1\n",
    " \n",
    "rects1 = plt.bar(ageRange1.index, values1, bar_width,\n",
    "                 alpha=opacity,\n",
    "                 color='r',\n",
    "                 label='55-64')\n",
    " \n",
    "rects2 = plt.bar(ageRange2.index + bar_width, values2, bar_width,\n",
    "                 alpha=opacity,\n",
    "                 color='g',\n",
    "                 label='60-75')\n",
    "\n",
    "rects3 = plt.bar(ageRange3.index + (bar_width * 2), values3, bar_width,\n",
    "                 alpha=opacity,\n",
    "                 color='b',\n",
    "                 label='65+')\n",
    "\n",
    "plt.xlabel('Income Class')\n",
    "plt.ylabel('Percent of Total Expenditures')\n",
    "plt.title('Percent Spent on Transportation per Income Class')\n",
    "plt.legend()\n",
    "plt.show()"
   ]
  },
  {
   "cell_type": "markdown",
   "metadata": {},
   "source": [
    "# Thoughts on the difference between 55-64, 60-75, and 65+\n",
    "- On average: 55-64 < 60-75 < 65+ in terms of expenditure percentage\n",
    "\n",
    "## What each bracket represents\n",
    "- 55-64 simulates that specific time right before and right at the begining of retirment\n",
    "- 60-75 simulates the time during retirement with some non-retired CUs\n",
    "- 65+ is a higher potential to show people who have actually retired"
   ]
  }
 ],
 "metadata": {
  "kernelspec": {
   "display_name": "Python 3",
   "language": "python",
   "name": "python3"
  },
  "language_info": {
   "codemirror_mode": {
    "name": "ipython",
    "version": 3
   },
   "file_extension": ".py",
   "mimetype": "text/x-python",
   "name": "python",
   "nbconvert_exporter": "python",
   "pygments_lexer": "ipython3",
   "version": "3.6.0"
  },
  "widgets": {
   "state": {
    "0068692ac0bc411882a87b1a14dcfe10": {
     "views": [
      {
       "cell_index": 4
      }
     ]
    },
    "0bb2a8ec3efd4b92929860f0bd5905e0": {
     "views": [
      {
       "cell_index": 4
      }
     ]
    },
    "100206eef84d4173abc40ab8904f8ad5": {
     "views": [
      {
       "cell_index": 4
      }
     ]
    },
    "1b9d1660c8c64ec9952ea8a110d1f45b": {
     "views": [
      {
       "cell_index": 4
      }
     ]
    },
    "206b339cc5fa431eb2bfdf4a002fbee4": {
     "views": [
      {
       "cell_index": 4
      }
     ]
    },
    "27544fcbcde6482ab4785aca6aad69f9": {
     "views": [
      {
       "cell_index": 4
      }
     ]
    },
    "2c4068db76574349ba22032b0e0389bf": {
     "views": [
      {
       "cell_index": 4
      }
     ]
    },
    "385321efd2764b82add0b60833dab624": {
     "views": [
      {
       "cell_index": 4
      }
     ]
    },
    "48f62472d15647e9b82c65dcdbdc25b1": {
     "views": [
      {
       "cell_index": 4
      }
     ]
    },
    "516d2b0274bb45bfaec4433d691dc6ec": {
     "views": [
      {
       "cell_index": 4
      }
     ]
    },
    "522fbf9e096342859c5801ecb6e99658": {
     "views": [
      {
       "cell_index": 4
      }
     ]
    },
    "6fdc0a4cf68b438fac80ab3e4b83d19f": {
     "views": [
      {
       "cell_index": 4
      }
     ]
    },
    "91413111d50544c48166272bb0472126": {
     "views": [
      {
       "cell_index": 4
      }
     ]
    },
    "a89892d026274481bc6291f33d61d7e5": {
     "views": [
      {
       "cell_index": 4
      }
     ]
    },
    "ba65bfee910c4112af5658a6e6a2ef70": {
     "views": [
      {
       "cell_index": 4
      }
     ]
    },
    "c5763faee881469485888bfe55e988d1": {
     "views": [
      {
       "cell_index": 4
      }
     ]
    },
    "ca4f506cd0b14565b07e8899cf82befe": {
     "views": [
      {
       "cell_index": 4
      }
     ]
    },
    "d3b4abc7c62c4b0aa661a9f52260198b": {
     "views": [
      {
       "cell_index": 4
      }
     ]
    },
    "dfcd57085b0c46b6ac49e9f39fb3ffb5": {
     "views": [
      {
       "cell_index": 4
      }
     ]
    },
    "ed7c8b262ece470aafa8df3c2730a563": {
     "views": [
      {
       "cell_index": 4
      }
     ]
    },
    "f31852a1231145c08bf5cf8b6a3e888c": {
     "views": [
      {
       "cell_index": 4
      }
     ]
    },
    "fc7c33a10615450991993c8d4d270f86": {
     "views": [
      {
       "cell_index": 4
      }
     ]
    }
   },
   "version": "1.2.0"
  }
 },
 "nbformat": 4,
 "nbformat_minor": 2
}
