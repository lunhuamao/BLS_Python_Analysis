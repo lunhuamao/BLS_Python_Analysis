{
 "cells": [
  {
   "cell_type": "markdown",
   "metadata": {
    "slideshow": {
     "slide_type": "slide"
    }
   },
   "source": [
    "# Plynty Bureau of Labor Statistics Consumer Expenditure Analysis\n",
    "\n",
    "[BLS Comsumer Expenditure Survey](https://www.bls.gov/cex/home.htm)\n",
    "\n",
    "[Interview Data Dictionary](https://www.bls.gov/cex/2015/csxintvwdata.pdf)\n",
    "\n",
    "[Diary Data Dictionary](https://www.bls.gov/cex/2015/csxdiarydata.pdf)\n",
    "\n",
    "### Where to download the BLS CE PUMD\n",
    "- The zip files download automatically\n",
    "- To download the Stub files open the links then right click and choose \"Save As...\"\n",
    "\n",
    "[2015 interview zip file](https://www.bls.gov/cex/pumd/data/comma/intrvw15.zip)\n",
    "\n",
    "[2015 diary zip file](https://www.bls.gov/cex/pumd/data/comma/diary15.zip)\n",
    "\n",
    "[2015 IntStub file](https://www.bls.gov/cex/pumd/2014/csxintstub.txt)\n",
    "\n",
    "[2015 IStub file](https://www.bls.gov/cex/pumd/2014/csxistub.txt)\n",
    "\n",
    "[2015 DStub file](https://www.bls.gov/cex/pumd/2014/csxdstub.txt)\n",
    "\n",
    "### This Scripts Goals for Plynty\n",
    "- Create an easy to use analysis script for the BLS CE PUMD \n",
    "- Create a csv files that has average percentages spent on plynty categories for certain income classes\n",
    "- Develop a \n",
    "- Create incomeclasses that are stastically significant"
   ]
  },
  {
   "cell_type": "markdown",
   "metadata": {
    "slideshow": {
     "slide_type": "slide"
    }
   },
   "source": [
    "##### Importing Libraries "
   ]
  },
  {
   "cell_type": "code",
   "execution_count": 1,
   "metadata": {
    "collapsed": false,
    "slideshow": {
     "slide_type": "subslide"
    }
   },
   "outputs": [
    {
     "name": "stdout",
     "output_type": "stream",
     "text": [
      "Dependencies Loaded...\n"
     ]
    }
   ],
   "source": [
    "import pandas as pd\n",
    "import numpy as np\n",
    "import os\n",
    "import subprocess\n",
    "import math\n",
    "import matplotlib.pyplot as plt\n",
    "from scipy.interpolate import *\n",
    "from plyntywidgets import *\n",
    "from blsFunctions import *\n",
    "print(\"Dependencies Loaded...\")"
   ]
  },
  {
   "cell_type": "markdown",
   "metadata": {},
   "source": [
    "### Setting Parameters\n",
    "- year: the last two number associated with the year of the data\n",
    "    for example for data from 2015: year = \"15\"\n",
    "- minAge: the low bound (inclusive) of the age range you wish to subset by\n",
    "- maxAge: the high bound (inclusive) of the age range you wish to subset by\n",
    "- incomeBrackets: array of numbers that you wish to create the new income classes\n",
    "    the bracketing works as follows (1,2], (2,3], (3,4]\n",
    "- filesToRead: the strings of the abbreviations associated with the files you wish to read\n",
    "    options are: \"all\", \"diary\", \"interview\", \"dtbd\", \"expd\", \"fmld\", \"memd\", \"fmli\", \"itbi\", \"memi\", \"mtbi\", \"ntaxi\""
   ]
  },
  {
   "cell_type": "code",
   "execution_count": 2,
   "metadata": {
    "collapsed": false
   },
   "outputs": [],
   "source": [
    "year = \"15\"\n",
    "filesToRead = [\"fmli\", \"mtbi\"]\n",
    "incomeBrackets = [-10000000, 10000, 20000, 40000, 60000, 80000, 90000, 130000, 160000, 240000, 9990000]\n",
    "\n",
    "# minAge = 55\n",
    "# maxAge = 64\n",
    "\n",
    "minAge = 60\n",
    "maxAge = 75\n",
    "\n",
    "# minAge = 65\n",
    "# maxAge = 130"
   ]
  },
  {
   "cell_type": "markdown",
   "metadata": {},
   "source": [
    "### Setting Directory locations and FileNames on your Local Machine"
   ]
  },
  {
   "cell_type": "code",
   "execution_count": 3,
   "metadata": {
    "collapsed": false
   },
   "outputs": [],
   "source": [
    "# directory in which the diary and interview folders are held is located\n",
    "diaryDir = \"/Users/adyke/Vizuri/CE_PUMD/diary15/\"\n",
    "interviewDir = \"/Users/adyke/Vizuri/CE_PUMD/intrvw15/\"\n",
    "\n",
    "# Directory where stubfiles are located\n",
    "pathToStubFileDir = \"/Users/adyke/Vizuri/Stubfiles/\"\n",
    "rScriptStubfilePathAndName = \"/Users/adyke/Vizuri/BLS_Python_Analysis/creatingStubCsvs.R\"\n",
    "\n",
    "# Filenames of the Stubfiles\n",
    "IStubFileName = \"IStub2015.txt\"\n",
    "DStubFileName = \"DStub2015.txt\"\n",
    "IntStubFileName = \"IntStub2015.txt\"\n",
    "\n",
    "# name of interview dir within the interview dir\n",
    "insideIntrvwDirName = \"intrvw\"\n",
    "\n",
    "# name of the directory where you want the output percentages csv\n",
    "outputDir = \"/Users/adyke/Vizuri/outputFiles/\""
   ]
  },
  {
   "cell_type": "markdown",
   "metadata": {},
   "source": [
    "### Reading in the files specified by FilesToRead"
   ]
  },
  {
   "cell_type": "code",
   "execution_count": 4,
   "metadata": {
    "collapsed": false
   },
   "outputs": [],
   "source": [
    "if(len(filesToRead)==0):\n",
    "    print(\"The files to read variable is empty.\")\n",
    "\n",
    "# looping through each file to read\n",
    "for file in filesToRead:\n",
    "    if file == \"dtbd\" or file == \"all\" or file == \"diary\":\n",
    "        dtbd = readFileSet(\"dtbd\", diaryDir)\n",
    "    if file == \"expd\" or file == \"all\" or file == \"diary\":\n",
    "        expd = readFileSet(\"expd\", diaryDir)\n",
    "    if file == \"fmld\" or file == \"all\" or file == \"diary\":\n",
    "        fmld = readFileSet(\"fmld\", diaryDir)\n",
    "    if file == \"memd\" or file == \"all\" or file == \"diary\":\n",
    "        memd = readFileSet(\"memd\", diaryDir)\n",
    "    if file == \"fmli\" or file == \"all\" or file == \"interview\":\n",
    "        fmli = readFileSet(\"fmli\", interviewDir+insideIntrvwDirName+year+\"/\")\n",
    "    if file == \"itbi\" or file == \"all\" or file == \"interview\":\n",
    "        itbi = readFileSet(\"itbi\", interviewDir+insideIntrvwDirName+year+\"/\")\n",
    "    if file == \"itii\" or file == \"all\" or file == \"interview\":\n",
    "        itii = readFileSet(\"itii\", interviewDir+insideIntrvwDirName+year+\"/\")\n",
    "    if file == \"memi\" or file == \"all\" or file == \"interview\":\n",
    "        memi = readFileSet(\"memi\", interviewDir+insideIntrvwDirName+year+\"/\")\n",
    "    if file == \"mtbi\" or file == \"all\" or file == \"interview\":\n",
    "        mtbi = readFileSet(\"mtbi\", interviewDir+insideIntrvwDirName+year+\"/\")\n",
    "        mtbi.UCC = mtbi.UCC.astype(str)\n",
    "    if file == \"ntaxi\" or file == \"all\" or file == \"interview\":\n",
    "        ntaxi = readFileSet(\"ntaxi\", interviewDir+insideIntrvwDirName+year+\"/\")\n",
    "# does not read form the expn or para subdirectories\n"
   ]
  },
  {
   "cell_type": "markdown",
   "metadata": {},
   "source": [
    "### Using R to convert the Stub files into csv files"
   ]
  },
  {
   "cell_type": "code",
   "execution_count": 5,
   "metadata": {
    "collapsed": false
   },
   "outputs": [
    {
     "name": "stdout",
     "output_type": "stream",
     "text": [
      "Stubfiles Exist\n"
     ]
    }
   ],
   "source": [
    "if os.path.isfile(pathToStubFileDir+\"DStub.csv\") and os.path.isfile(pathToStubFileDir+\"IStub.csv\") and os.path.isfile(pathToStubFileDir+\"IntStub.csv\"):\n",
    "    print(\"Stubfiles Exist\")\n",
    "else:\n",
    "    # converting the stub files via R \n",
    "    subprocess.call(\"Rscript \"+rScriptStubfilePathAndName+\" \"+pathToStubFileDir+\" \"+IStubFileName+\" \"+DStubFileName+\" \"+IntStubFileName, shell=True)\n",
    "    print(\"Stubfile Csvs created in \"+pathToStubFileDir)"
   ]
  },
  {
   "cell_type": "markdown",
   "metadata": {},
   "source": [
    "### Reading and Cleaning the stubfile CSVs into pandas dataframes"
   ]
  },
  {
   "cell_type": "code",
   "execution_count": 6,
   "metadata": {
    "collapsed": false
   },
   "outputs": [],
   "source": [
    "# reading in the stubfiles\n",
    "DStub = pd.read_csv(pathToStubFileDir+\"DStub.csv\")\n",
    "IStub = pd.read_csv(pathToStubFileDir+\"IStub.csv\")\n",
    "IntStub = pd.read_csv(pathToStubFileDir+\"IntStub.csv\")\n",
    "\n",
    "# removing the index from the stufile\n",
    "DStub = DStub.drop(DStub.columns[0], axis=1)\n",
    "IStub = IStub.drop(IStub.columns[0], axis=1)\n",
    "IntStub = IntStub.drop(IntStub.columns[0], axis=1)\n",
    "\n",
    "# replacing * with 0 in the level columns\n",
    "DStub.loc[DStub.level == \"*\", 'level'] = 0\n",
    "IStub.loc[IStub.level == \"*\", 'level'] = 0\n",
    "IntStub.loc[IntStub.level == \"*\", 'level'] = 0"
   ]
  },
  {
   "cell_type": "markdown",
   "metadata": {},
   "source": [
    "# Starting the Plynty calculations"
   ]
  },
  {
   "cell_type": "markdown",
   "metadata": {},
   "source": [
    "### Creating the UCC roll ups for Plynty"
   ]
  },
  {
   "cell_type": "code",
   "execution_count": 7,
   "metadata": {
    "collapsed": false
   },
   "outputs": [],
   "source": [
    "# creating UCC rollups for the interview files for plynty categories\n",
    "iTotalExp = categoricalUCCRollUp(IStub,[\"TOTALE\"])\n",
    "iFoodAtHome = categoricalUCCRollUp(IStub, [\"FOODHO\", \"ALCHOM\"])\n",
    "iFoodAway = categoricalUCCRollUp(IStub, [\"FOODAW\", \"ALCAWA\"])\n",
    "iHousing = categoricalUCCRollUp(IStub, [\"HOUSIN\"], ignoreUCCs = categoricalUCCRollUp(IStub, [\"UTILS\"]))\n",
    "iUtilites = categoricalUCCRollUp(IStub, [\"UTILS\"])\n",
    "iClothingAndBeauty = categoricalUCCRollUp(IStub, [\"APPARE\",\"PERSCA\"])\n",
    "iTransportation = categoricalUCCRollUp(IStub, [\"TRANS\"])\n",
    "iHealthcare = categoricalUCCRollUp(IStub, [\"HEALTH\"])\n",
    "iEntertainment = categoricalUCCRollUp(IStub, [\"ENTRTA\",\"READIN\"])\n",
    "iMiscellaneous = categoricalUCCRollUp(IStub, [\"MISC\",\"TOBACC\"])\n",
    "iCharitableAndFamilyGiving = categoricalUCCRollUp(IStub, [\"CASHCO\"])\n",
    "iInsurance = categoricalUCCRollUp(IStub, [\"LIFEIN\"])\n",
    "iEducation = categoricalUCCRollUp(IStub, [\"EDUCAT\"])\n",
    "iHousingPrinciple = categoricalUCCRollUp(IStub,[\"MRTPRI\"])"
   ]
  },
  {
   "cell_type": "markdown",
   "metadata": {},
   "source": [
    "### Adding and Rolling up the MTBI Categories into mtbiRolledUp\n",
    "\n",
    "outputs from cell:\n",
    "- mtbiTrimmed: Dataframe with NewID, TotatlExp and each entry of cost."
   ]
  },
  {
   "cell_type": "code",
   "execution_count": 8,
   "metadata": {
    "collapsed": false
   },
   "outputs": [],
   "source": [
    "rollupNames = [\"iTotalExp\",\"iFoodAtHome\",\"iFoodAway\",\"iHousing\",\"iUtilites\",\"iClothingAndBeauty\",\"iTransportation\",\"iHealthcare\",\"iEntertainment\",\"iMiscellaneous\",\"iCharitableAndFamilyGiving\",\"iInsurance\",\"iEducation\",\"iHousingPrinciple\"]\n",
    "rollups = [iTotalExp,iFoodAtHome,iFoodAway,iHousing,iUtilites,iClothingAndBeauty,iTransportation,iHealthcare,iEntertainment,iMiscellaneous,iCharitableAndFamilyGiving,iInsurance,iEducation,iHousingPrinciple]\n",
    "\n",
    "mtbiRolledUp = rollUpDataframe(mtbi, rollupNames, rollups, negativeColumns=[\"iHousingPrinciple\"], multiple=4)\n",
    "\n",
    "mtbiTrimmed = mtbiRolledUp.loc[: , ['NEWID','iTotalExp','iFoodAtHome','iFoodAway','iHousing','iUtilites','iClothingAndBeauty','iTransportation','iHealthcare','iEntertainment','iMiscellaneous','iCharitableAndFamilyGiving','iInsurance','iEducation','iHousingPrinciple']]"
   ]
  },
  {
   "cell_type": "markdown",
   "metadata": {},
   "source": [
    "### Creating the Sum for all expenditure category columns for each NEWID\n",
    "nonZeroColumns is an array that contains the names of columns that should not be Zero\n",
    "\n",
    "outputs from cell:\n",
    "- iExpensesByNewID: total expenses for each category for each NewID"
   ]
  },
  {
   "cell_type": "code",
   "execution_count": 9,
   "metadata": {
    "collapsed": false
   },
   "outputs": [],
   "source": [
    "# adding up all columns for each new id\n",
    "iExpensesByNewID = mtbiTrimmed.groupby(['NEWID'],as_index=False).sum()\n",
    "# removing rows with zero values in key categories\n",
    "nonZeroColumns = ['iFoodAtHome','iFoodAway','iHousing','iUtilites']\n",
    "for column in nonZeroColumns:\n",
    "    iExpensesByNewID = iExpensesByNewID[iExpensesByNewID[column] != 0]\n",
    "iExpensesByNewID['iHousing'] = iExpensesByNewID['iHousing']+iExpensesByNewID['iHousingPrinciple']"
   ]
  },
  {
   "cell_type": "markdown",
   "metadata": {},
   "source": [
    "### Plotting the total population CU counts"
   ]
  },
  {
   "cell_type": "code",
   "execution_count": 10,
   "metadata": {},
   "outputs": [
    {
     "data": {
      "image/png": "[encoded data removed]",
      "text/plain": [
       "<matplotlib.figure.Figure at 0x117c77908>"
      ]
     },
     "metadata": {},
     "output_type": "display_data"
    }
   ],
   "source": [
    "fmliTotalRecoded = binColumn(dataframe=fmli, toBinColumnName=\"FINCBTXM\", binValues=incomeBrackets, binnedColumnName=\"INCLASS\", labels=range(0,len(incomeBrackets)-1))\n",
    "\n",
    "plt.bar(fmliTotalRecoded.INCLASS.value_counts().index, (fmliTotalRecoded.INCLASS.value_counts().values)/(len(fmliTotalRecoded)), color=\"black\")\n",
    "plt.suptitle(\"Percent of CUs in each Income class\")\n",
    "plt.title(\"All CUs\")\n",
    "plt.xlabel(\"Income Class\")\n",
    "plt.ylabel(\"Percent of CUs\")\n",
    "plt.show()"
   ]
  },
  {
   "cell_type": "markdown",
   "metadata": {},
   "source": [
    "### Subsetting FMLI for age and recoding the incomebrackets"
   ]
  },
  {
   "cell_type": "code",
   "execution_count": 11,
   "metadata": {
    "collapsed": false,
    "scrolled": true
   },
   "outputs": [],
   "source": [
    "# subsetting for the age bracket\n",
    "fmliAge = subsetDataframe(dataframe=fmli, columnName=\"AGE_REF\", minValue=minAge, maxValue=maxAge)\n",
    "fmliAge = fmliAge.reset_index()\n",
    "\n",
    "# recoding the income brackets\n",
    "fmliRecoded = binColumn(dataframe=fmliAge, toBinColumnName=\"FINCBTXM\", binValues=incomeBrackets, binnedColumnName=\"INCLASS\", labels=range(1,len(incomeBrackets)))"
   ]
  },
  {
   "cell_type": "markdown",
   "metadata": {},
   "source": [
    "### Displaying the number of CUs where the reference person is retired"
   ]
  },
  {
   "cell_type": "code",
   "execution_count": 12,
   "metadata": {},
   "outputs": [
    {
     "name": "stdout",
     "output_type": "stream",
     "text": [
      "The percent of retired CUs is: 0.478\n"
     ]
    }
   ],
   "source": [
    "print(\"The percent of retired CUs is: \"+str(round(len(fmliRecoded.INCNONW1.loc[fmliRecoded.INCNONW1 == 1])/len(fmliRecoded.INCNONW1),3)))"
   ]
  },
  {
   "cell_type": "markdown",
   "metadata": {},
   "source": [
    "### Adding the Income class colum to the ExpensesByNewID dataframe"
   ]
  },
  {
   "cell_type": "code",
   "execution_count": 13,
   "metadata": {
    "collapsed": false
   },
   "outputs": [],
   "source": [
    "# combining the fmli and iExpensesByNewID\n",
    "inclassExpenses = pd.merge(left=fmliRecoded[['NEWID','INCLASS','FINCBTXM']],right=iExpensesByNewID, on=['NEWID'])\n",
    "# inclassExpenses"
   ]
  },
  {
   "cell_type": "markdown",
   "metadata": {},
   "source": [
    "### Averaging the expenditures based on incomebrackets\n",
    "inclassAverages is average money spent for each incomeclass"
   ]
  },
  {
   "cell_type": "code",
   "execution_count": 14,
   "metadata": {
    "collapsed": false,
    "scrolled": false
   },
   "outputs": [],
   "source": [
    "# getting mean for all columns with the same income class besides newId and creating new dataframe\n",
    "inclassAverages = round(inclassExpenses.ix[: ,inclassExpenses.columns != 'NEWID'].groupby(['INCLASS'],as_index=False).mean(),2)\n",
    "# inclassAverages"
   ]
  },
  {
   "cell_type": "markdown",
   "metadata": {},
   "source": [
    "### Converting the Average expenditures for income classes into percentages of expenditures\n",
    "percentages is the percent of total expenditure for each category for each incomeclass "
   ]
  },
  {
   "cell_type": "code",
   "execution_count": 15,
   "metadata": {
    "collapsed": false
   },
   "outputs": [],
   "source": [
    "# creating new dataframe for the percentages that only includes the plynty categories\n",
    "percentages = inclassAverages.loc[:,rollupNames[1:]]\n",
    "for column in rollupNames[1:]:\n",
    "    percentages[column] = inclassAverages[column]/inclassAverages.iTotalExp\n",
    "percentages['ExpInc'] = inclassAverages['iTotalExp']/inclassAverages['FINCBTXM']\n",
    "\n",
    "# truncate the max ExpInc\n",
    "percentages.ExpInc.ix[percentages['ExpInc']>1] = 1\n",
    "\n",
    "# percentages"
   ]
  },
  {
   "cell_type": "markdown",
   "metadata": {},
   "source": [
    "# Exploring Issues in the data"
   ]
  },
  {
   "cell_type": "markdown",
   "metadata": {},
   "source": [
    "### Getting Description of the inclassExpenses dataframe"
   ]
  },
  {
   "cell_type": "code",
   "execution_count": 16,
   "metadata": {
    "collapsed": false
   },
   "outputs": [
    {
     "data": {
      "text/html": [
       "<div>\n",
       "<table border=\"1\" class=\"dataframe\">\n",
       "  <thead>\n",
       "    <tr style=\"text-align: right;\">\n",
       "      <th></th>\n",
       "      <th>count</th>\n",
       "      <th>mean</th>\n",
       "      <th>std</th>\n",
       "      <th>min</th>\n",
       "      <th>25%</th>\n",
       "      <th>50%</th>\n",
       "      <th>75%</th>\n",
       "      <th>max</th>\n",
       "    </tr>\n",
       "  </thead>\n",
       "  <tbody>\n",
       "    <tr>\n",
       "      <th>0</th>\n",
       "      <td>136.0</td>\n",
       "      <td>9054.051471</td>\n",
       "      <td>9185.922272</td>\n",
       "      <td>30.0</td>\n",
       "      <td>2030.0</td>\n",
       "      <td>5462.0</td>\n",
       "      <td>12394.00</td>\n",
       "      <td>40132.0</td>\n",
       "    </tr>\n",
       "    <tr>\n",
       "      <th>1</th>\n",
       "      <td>798.0</td>\n",
       "      <td>8898.650376</td>\n",
       "      <td>11635.016638</td>\n",
       "      <td>4.0</td>\n",
       "      <td>3022.0</td>\n",
       "      <td>5734.0</td>\n",
       "      <td>10553.50</td>\n",
       "      <td>181360.0</td>\n",
       "    </tr>\n",
       "    <tr>\n",
       "      <th>2</th>\n",
       "      <td>2667.0</td>\n",
       "      <td>10936.242970</td>\n",
       "      <td>10869.586462</td>\n",
       "      <td>-22664.0</td>\n",
       "      <td>3992.0</td>\n",
       "      <td>8212.0</td>\n",
       "      <td>14238.00</td>\n",
       "      <td>105052.0</td>\n",
       "    </tr>\n",
       "    <tr>\n",
       "      <th>3</th>\n",
       "      <td>483.0</td>\n",
       "      <td>15792.376812</td>\n",
       "      <td>13397.551430</td>\n",
       "      <td>1160.0</td>\n",
       "      <td>7166.0</td>\n",
       "      <td>12784.0</td>\n",
       "      <td>20988.00</td>\n",
       "      <td>146416.0</td>\n",
       "    </tr>\n",
       "    <tr>\n",
       "      <th>4</th>\n",
       "      <td>263.0</td>\n",
       "      <td>16770.471483</td>\n",
       "      <td>14208.363513</td>\n",
       "      <td>500.0</td>\n",
       "      <td>8388.0</td>\n",
       "      <td>13184.0</td>\n",
       "      <td>21494.00</td>\n",
       "      <td>107284.0</td>\n",
       "    </tr>\n",
       "    <tr>\n",
       "      <th>5</th>\n",
       "      <td>404.0</td>\n",
       "      <td>18514.294554</td>\n",
       "      <td>15783.115593</td>\n",
       "      <td>4.0</td>\n",
       "      <td>8541.0</td>\n",
       "      <td>14446.0</td>\n",
       "      <td>23627.00</td>\n",
       "      <td>136724.0</td>\n",
       "    </tr>\n",
       "    <tr>\n",
       "      <th>6</th>\n",
       "      <td>193.0</td>\n",
       "      <td>20316.989637</td>\n",
       "      <td>19841.995429</td>\n",
       "      <td>988.0</td>\n",
       "      <td>7840.0</td>\n",
       "      <td>15748.0</td>\n",
       "      <td>27106.00</td>\n",
       "      <td>170024.0</td>\n",
       "    </tr>\n",
       "    <tr>\n",
       "      <th>7</th>\n",
       "      <td>184.0</td>\n",
       "      <td>27156.967391</td>\n",
       "      <td>28106.678257</td>\n",
       "      <td>1950.0</td>\n",
       "      <td>12227.0</td>\n",
       "      <td>21744.0</td>\n",
       "      <td>30752.00</td>\n",
       "      <td>227912.0</td>\n",
       "    </tr>\n",
       "    <tr>\n",
       "      <th>8</th>\n",
       "      <td>158.0</td>\n",
       "      <td>30427.879747</td>\n",
       "      <td>22500.074989</td>\n",
       "      <td>1920.0</td>\n",
       "      <td>15149.0</td>\n",
       "      <td>26816.5</td>\n",
       "      <td>39896.25</td>\n",
       "      <td>159590.0</td>\n",
       "    </tr>\n",
       "    <tr>\n",
       "      <th>9</th>\n",
       "      <td>350.0</td>\n",
       "      <td>37097.588571</td>\n",
       "      <td>51147.013474</td>\n",
       "      <td>1366.0</td>\n",
       "      <td>12752.0</td>\n",
       "      <td>28796.5</td>\n",
       "      <td>44692.00</td>\n",
       "      <td>700492.0</td>\n",
       "    </tr>\n",
       "  </tbody>\n",
       "</table>\n",
       "</div>"
      ],
      "text/plain": [
       "    count          mean           std      min      25%      50%       75%  \\\n",
       "0   136.0   9054.051471   9185.922272     30.0   2030.0   5462.0  12394.00   \n",
       "1   798.0   8898.650376  11635.016638      4.0   3022.0   5734.0  10553.50   \n",
       "2  2667.0  10936.242970  10869.586462 -22664.0   3992.0   8212.0  14238.00   \n",
       "3   483.0  15792.376812  13397.551430   1160.0   7166.0  12784.0  20988.00   \n",
       "4   263.0  16770.471483  14208.363513    500.0   8388.0  13184.0  21494.00   \n",
       "5   404.0  18514.294554  15783.115593      4.0   8541.0  14446.0  23627.00   \n",
       "6   193.0  20316.989637  19841.995429    988.0   7840.0  15748.0  27106.00   \n",
       "7   184.0  27156.967391  28106.678257   1950.0  12227.0  21744.0  30752.00   \n",
       "8   158.0  30427.879747  22500.074989   1920.0  15149.0  26816.5  39896.25   \n",
       "9   350.0  37097.588571  51147.013474   1366.0  12752.0  28796.5  44692.00   \n",
       "\n",
       "        max  \n",
       "0   40132.0  \n",
       "1  181360.0  \n",
       "2  105052.0  \n",
       "3  146416.0  \n",
       "4  107284.0  \n",
       "5  136724.0  \n",
       "6  170024.0  \n",
       "7  227912.0  \n",
       "8  159590.0  \n",
       "9  700492.0  "
      ]
     },
     "execution_count": 16,
     "metadata": {},
     "output_type": "execute_result"
    }
   ],
   "source": [
    "# max and min of housing per income class\n",
    "rowDescription = []\n",
    "for inclass in range(1,len(incomeBrackets)):\n",
    "    rowDescription.append(inclassExpenses.iHousing.loc[inclassExpenses.INCLASS == inclass].describe())\n",
    "descriptions = pd.concat(rowDescription, axis=1)\n",
    "descriptions.columns = range(0,len(incomeBrackets)-1)\n",
    "descriptions = descriptions.transpose()\n",
    "descriptions"
   ]
  },
  {
   "cell_type": "markdown",
   "metadata": {},
   "source": [
    "### Removing outliers in iHousing\n",
    " - For each income class\n",
    "    - Find Q1 and Q3\n",
    "    - Calculate IQR\n",
    "    - Find rows outside of Q3/Q2 +/- (1.5 x IQR) and Q3/Q2 +/- (3 x IQR)\n",
    " - Remove Rows from Dataframe\n",
    " - Clean1: Inner Fence\n",
    " - Clean2: Outer Fence"
   ]
  },
  {
   "cell_type": "code",
   "execution_count": 17,
   "metadata": {
    "collapsed": false,
    "scrolled": true
   },
   "outputs": [
    {
     "name": "stdout",
     "output_type": "stream",
     "text": [
      "There are 5636 rows before removal of outliers\n",
      "Removed 288 rows deemed to be out of inner fence\n",
      "Removed 5.11% of the CUs\n",
      "Removed 111 rows deemed to be out of inner fence\n",
      "Removed 1.97% of the CUs\n"
     ]
    }
   ],
   "source": [
    "# cleaning the inclassExpenses dataframe of outliers\n",
    "outliers1 = inclassExpenses.copy()\n",
    "\n",
    "\n",
    "outliers1\n",
    "innerFence = []\n",
    "outerFence = []\n",
    "\n",
    "\n",
    "print(\"There are \"+str(len(inclassExpenses))+\" rows before removal of outliers\")\n",
    "\n",
    "for inclass in range(1,len(incomeBrackets)):\n",
    "    outliers1InClass = outliers1.where(outliers1['INCLASS']==inclass)\n",
    "    Q1 = outliers1InClass['iHousing'].quantile(0.25)\n",
    "    Q3 = outliers1InClass['iHousing'].quantile(0.75)\n",
    "    IQR = Q3 - Q1\n",
    "    innerFence.extend(outliers1InClass[outliers1InClass['iHousing'] < (Q1 - (1.5 * IQR))].index.tolist())\n",
    "    innerFence.extend(outliers1InClass[outliers1InClass['iHousing'] > (Q3 + (1.5 * IQR))].index.tolist())    \n",
    "    outerFence.extend(outliers1InClass[outliers1InClass['iHousing'] < (Q1 - (3 * IQR))].index.tolist())\n",
    "    outerFence.extend(outliers1InClass[outliers1InClass['iHousing'] > (Q3 + (3 * IQR))].index.tolist())\n",
    "\n",
    "\n",
    "clean1 = outliers1.drop(outliers1.index[innerFence])\n",
    "clean1\n",
    "clean2 = outliers1.drop(outliers1.index[outerFence])\n",
    "clean2\n",
    "\n",
    "print(\"Removed \"+str(len(innerFence))+ \" rows deemed to be out of inner fence\")\n",
    "print(\"Removed \"+str(round(len(innerFence)/len(inclassExpenses)*100,2))+ \"% of the CUs\")\n",
    "\n",
    "print(\"Removed \"+str(len(outerFence))+ \" rows deemed to be out of inner fence\")\n",
    "print(\"Removed \"+str(round(len(outerFence)/len(inclassExpenses)*100,2))+ \"% of the CUs\")\n",
    "\n",
    "# creating the descriptions for the cleaned outlier dataframe\n",
    "rowDescription1 = []\n",
    "for inclass in range(1,len(incomeBrackets)):\n",
    "    rowDescription1.append(clean1.iHousing.loc[clean1.INCLASS == inclass].describe())\n",
    "descriptions1 = pd.concat(rowDescription1, axis=1)\n",
    "descriptions1.columns = range(0,len(incomeBrackets)-1)\n",
    "descriptions1 = descriptions1.transpose()\n",
    "# descriptions1"
   ]
  },
  {
   "cell_type": "markdown",
   "metadata": {},
   "source": [
    "### Looking at the outliers that were removed"
   ]
  },
  {
   "cell_type": "code",
   "execution_count": 18,
   "metadata": {
    "collapsed": false
   },
   "outputs": [
    {
     "name": "stdout",
     "output_type": "stream",
     "text": [
      "Number of outliers in each income class: [131  58  21  21  15  12  10   8   8   4]\n"
     ]
    },
    {
     "data": {
      "text/html": [
       "<div>\n",
       "<table border=\"1\" class=\"dataframe\">\n",
       "  <thead>\n",
       "    <tr style=\"text-align: right;\">\n",
       "      <th></th>\n",
       "      <th>NEWID</th>\n",
       "      <th>INCLASS</th>\n",
       "      <th>FINCBTXM</th>\n",
       "      <th>iTotalExp</th>\n",
       "      <th>iFoodAtHome</th>\n",
       "      <th>iFoodAway</th>\n",
       "      <th>iHousing</th>\n",
       "      <th>iUtilites</th>\n",
       "      <th>iClothingAndBeauty</th>\n",
       "      <th>iTransportation</th>\n",
       "      <th>iHealthcare</th>\n",
       "      <th>iEntertainment</th>\n",
       "      <th>iMiscellaneous</th>\n",
       "      <th>iCharitableAndFamilyGiving</th>\n",
       "      <th>iInsurance</th>\n",
       "      <th>iEducation</th>\n",
       "      <th>iHousingPrinciple</th>\n",
       "    </tr>\n",
       "  </thead>\n",
       "  <tbody>\n",
       "    <tr>\n",
       "      <th>1240</th>\n",
       "      <td>3000783</td>\n",
       "      <td>1</td>\n",
       "      <td>2615.0</td>\n",
       "      <td>53130.8</td>\n",
       "      <td>5720.0</td>\n",
       "      <td>4040.0</td>\n",
       "      <td>29552.0</td>\n",
       "      <td>9656.0</td>\n",
       "      <td>960.0</td>\n",
       "      <td>5320.0</td>\n",
       "      <td>2618.8</td>\n",
       "      <td>6236.0</td>\n",
       "      <td>340.0</td>\n",
       "      <td>660.0</td>\n",
       "      <td>0.0</td>\n",
       "      <td>0.0</td>\n",
       "      <td>11972.0</td>\n",
       "    </tr>\n",
       "    <tr>\n",
       "      <th>1818</th>\n",
       "      <td>3149211</td>\n",
       "      <td>1</td>\n",
       "      <td>3756.0</td>\n",
       "      <td>58845.6</td>\n",
       "      <td>11140.0</td>\n",
       "      <td>260.0</td>\n",
       "      <td>30524.0</td>\n",
       "      <td>5340.0</td>\n",
       "      <td>1788.0</td>\n",
       "      <td>4080.0</td>\n",
       "      <td>5801.6</td>\n",
       "      <td>2300.0</td>\n",
       "      <td>240.0</td>\n",
       "      <td>600.0</td>\n",
       "      <td>0.0</td>\n",
       "      <td>0.0</td>\n",
       "      <td>3228.0</td>\n",
       "    </tr>\n",
       "    <tr>\n",
       "      <th>2276</th>\n",
       "      <td>3000784</td>\n",
       "      <td>1</td>\n",
       "      <td>2615.0</td>\n",
       "      <td>65194.8</td>\n",
       "      <td>6680.0</td>\n",
       "      <td>2080.0</td>\n",
       "      <td>34180.0</td>\n",
       "      <td>8280.0</td>\n",
       "      <td>3500.0</td>\n",
       "      <td>6712.0</td>\n",
       "      <td>2458.8</td>\n",
       "      <td>11084.0</td>\n",
       "      <td>528.0</td>\n",
       "      <td>240.0</td>\n",
       "      <td>1320.0</td>\n",
       "      <td>240.0</td>\n",
       "      <td>12108.0</td>\n",
       "    </tr>\n",
       "    <tr>\n",
       "      <th>2652</th>\n",
       "      <td>3110532</td>\n",
       "      <td>1</td>\n",
       "      <td>4000.0</td>\n",
       "      <td>62074.0</td>\n",
       "      <td>3756.0</td>\n",
       "      <td>5320.0</td>\n",
       "      <td>31830.0</td>\n",
       "      <td>2460.0</td>\n",
       "      <td>760.0</td>\n",
       "      <td>5648.0</td>\n",
       "      <td>7140.0</td>\n",
       "      <td>3864.0</td>\n",
       "      <td>96.0</td>\n",
       "      <td>1200.0</td>\n",
       "      <td>0.0</td>\n",
       "      <td>0.0</td>\n",
       "      <td>0.0</td>\n",
       "    </tr>\n",
       "    <tr>\n",
       "      <th>2717</th>\n",
       "      <td>3149212</td>\n",
       "      <td>1</td>\n",
       "      <td>3756.0</td>\n",
       "      <td>75077.6</td>\n",
       "      <td>12296.0</td>\n",
       "      <td>1480.0</td>\n",
       "      <td>40132.0</td>\n",
       "      <td>5480.0</td>\n",
       "      <td>2320.0</td>\n",
       "      <td>6276.0</td>\n",
       "      <td>5241.6</td>\n",
       "      <td>2444.0</td>\n",
       "      <td>1160.0</td>\n",
       "      <td>1540.0</td>\n",
       "      <td>0.0</td>\n",
       "      <td>0.0</td>\n",
       "      <td>3292.0</td>\n",
       "    </tr>\n",
       "  </tbody>\n",
       "</table>\n",
       "</div>"
      ],
      "text/plain": [
       "        NEWID  INCLASS  FINCBTXM  iTotalExp  iFoodAtHome  iFoodAway  iHousing  \\\n",
       "1240  3000783        1    2615.0    53130.8       5720.0     4040.0   29552.0   \n",
       "1818  3149211        1    3756.0    58845.6      11140.0      260.0   30524.0   \n",
       "2276  3000784        1    2615.0    65194.8       6680.0     2080.0   34180.0   \n",
       "2652  3110532        1    4000.0    62074.0       3756.0     5320.0   31830.0   \n",
       "2717  3149212        1    3756.0    75077.6      12296.0     1480.0   40132.0   \n",
       "\n",
       "      iUtilites  iClothingAndBeauty  iTransportation  iHealthcare  \\\n",
       "1240     9656.0               960.0           5320.0       2618.8   \n",
       "1818     5340.0              1788.0           4080.0       5801.6   \n",
       "2276     8280.0              3500.0           6712.0       2458.8   \n",
       "2652     2460.0               760.0           5648.0       7140.0   \n",
       "2717     5480.0              2320.0           6276.0       5241.6   \n",
       "\n",
       "      iEntertainment  iMiscellaneous  iCharitableAndFamilyGiving  iInsurance  \\\n",
       "1240          6236.0           340.0                       660.0         0.0   \n",
       "1818          2300.0           240.0                       600.0         0.0   \n",
       "2276         11084.0           528.0                       240.0      1320.0   \n",
       "2652          3864.0            96.0                      1200.0         0.0   \n",
       "2717          2444.0          1160.0                      1540.0         0.0   \n",
       "\n",
       "      iEducation  iHousingPrinciple  \n",
       "1240         0.0            11972.0  \n",
       "1818         0.0             3228.0  \n",
       "2276       240.0            12108.0  \n",
       "2652         0.0                0.0  \n",
       "2717         0.0             3292.0  "
      ]
     },
     "execution_count": 18,
     "metadata": {},
     "output_type": "execute_result"
    }
   ],
   "source": [
    "innerOutliers = inclassExpenses.copy()\n",
    "innerOutliers = innerOutliers.ix[innerFence,:]\n",
    "print(\"Number of outliers in each income class: \"+str(innerOutliers.INCLASS.value_counts().values))\n",
    "innerOutliers.head()"
   ]
  },
  {
   "cell_type": "code",
   "execution_count": 19,
   "metadata": {
    "collapsed": false
   },
   "outputs": [
    {
     "name": "stdout",
     "output_type": "stream",
     "text": [
      "Number of outliers in each income class: [46 31  8  6  6  5  4  4  1]\n"
     ]
    },
    {
     "data": {
      "text/html": [
       "<div>\n",
       "<table border=\"1\" class=\"dataframe\">\n",
       "  <thead>\n",
       "    <tr style=\"text-align: right;\">\n",
       "      <th></th>\n",
       "      <th>NEWID</th>\n",
       "      <th>INCLASS</th>\n",
       "      <th>FINCBTXM</th>\n",
       "      <th>iTotalExp</th>\n",
       "      <th>iFoodAtHome</th>\n",
       "      <th>iFoodAway</th>\n",
       "      <th>iHousing</th>\n",
       "      <th>iUtilites</th>\n",
       "      <th>iClothingAndBeauty</th>\n",
       "      <th>iTransportation</th>\n",
       "      <th>iHealthcare</th>\n",
       "      <th>iEntertainment</th>\n",
       "      <th>iMiscellaneous</th>\n",
       "      <th>iCharitableAndFamilyGiving</th>\n",
       "      <th>iInsurance</th>\n",
       "      <th>iEducation</th>\n",
       "      <th>iHousingPrinciple</th>\n",
       "    </tr>\n",
       "  </thead>\n",
       "  <tbody>\n",
       "    <tr>\n",
       "      <th>31</th>\n",
       "      <td>2798665</td>\n",
       "      <td>2</td>\n",
       "      <td>15819.0</td>\n",
       "      <td>161766.8</td>\n",
       "      <td>3740.0</td>\n",
       "      <td>3120.0</td>\n",
       "      <td>47768.0</td>\n",
       "      <td>5068.0</td>\n",
       "      <td>1480.0</td>\n",
       "      <td>56372.0</td>\n",
       "      <td>44494.8</td>\n",
       "      <td>6640.0</td>\n",
       "      <td>0.0</td>\n",
       "      <td>1100.0</td>\n",
       "      <td>0.0</td>\n",
       "      <td>0.0</td>\n",
       "      <td>8016.0</td>\n",
       "    </tr>\n",
       "    <tr>\n",
       "      <th>96</th>\n",
       "      <td>2813045</td>\n",
       "      <td>2</td>\n",
       "      <td>20000.0</td>\n",
       "      <td>53680.0</td>\n",
       "      <td>6760.0</td>\n",
       "      <td>2600.0</td>\n",
       "      <td>33200.0</td>\n",
       "      <td>3160.0</td>\n",
       "      <td>2000.0</td>\n",
       "      <td>5480.0</td>\n",
       "      <td>0.0</td>\n",
       "      <td>0.0</td>\n",
       "      <td>0.0</td>\n",
       "      <td>480.0</td>\n",
       "      <td>0.0</td>\n",
       "      <td>0.0</td>\n",
       "      <td>0.0</td>\n",
       "    </tr>\n",
       "    <tr>\n",
       "      <th>437</th>\n",
       "      <td>3006262</td>\n",
       "      <td>2</td>\n",
       "      <td>14574.2</td>\n",
       "      <td>100702.8</td>\n",
       "      <td>5240.0</td>\n",
       "      <td>1480.0</td>\n",
       "      <td>72380.0</td>\n",
       "      <td>4688.0</td>\n",
       "      <td>500.0</td>\n",
       "      <td>4988.0</td>\n",
       "      <td>5330.8</td>\n",
       "      <td>4096.0</td>\n",
       "      <td>240.0</td>\n",
       "      <td>1600.0</td>\n",
       "      <td>160.0</td>\n",
       "      <td>0.0</td>\n",
       "      <td>0.0</td>\n",
       "    </tr>\n",
       "    <tr>\n",
       "      <th>1120</th>\n",
       "      <td>2966923</td>\n",
       "      <td>2</td>\n",
       "      <td>14160.0</td>\n",
       "      <td>51998.8</td>\n",
       "      <td>4680.0</td>\n",
       "      <td>1040.0</td>\n",
       "      <td>36956.0</td>\n",
       "      <td>720.0</td>\n",
       "      <td>720.0</td>\n",
       "      <td>1644.0</td>\n",
       "      <td>1598.8</td>\n",
       "      <td>1840.0</td>\n",
       "      <td>2800.0</td>\n",
       "      <td>0.0</td>\n",
       "      <td>0.0</td>\n",
       "      <td>0.0</td>\n",
       "      <td>0.0</td>\n",
       "    </tr>\n",
       "    <tr>\n",
       "      <th>1360</th>\n",
       "      <td>3057933</td>\n",
       "      <td>2</td>\n",
       "      <td>6155.0</td>\n",
       "      <td>101969.6</td>\n",
       "      <td>5436.0</td>\n",
       "      <td>4492.0</td>\n",
       "      <td>40720.0</td>\n",
       "      <td>6060.0</td>\n",
       "      <td>1640.0</td>\n",
       "      <td>18032.0</td>\n",
       "      <td>16593.6</td>\n",
       "      <td>6260.0</td>\n",
       "      <td>0.0</td>\n",
       "      <td>4800.0</td>\n",
       "      <td>0.0</td>\n",
       "      <td>0.0</td>\n",
       "      <td>2064.0</td>\n",
       "    </tr>\n",
       "  </tbody>\n",
       "</table>\n",
       "</div>"
      ],
      "text/plain": [
       "        NEWID  INCLASS  FINCBTXM  iTotalExp  iFoodAtHome  iFoodAway  iHousing  \\\n",
       "31    2798665        2   15819.0   161766.8       3740.0     3120.0   47768.0   \n",
       "96    2813045        2   20000.0    53680.0       6760.0     2600.0   33200.0   \n",
       "437   3006262        2   14574.2   100702.8       5240.0     1480.0   72380.0   \n",
       "1120  2966923        2   14160.0    51998.8       4680.0     1040.0   36956.0   \n",
       "1360  3057933        2    6155.0   101969.6       5436.0     4492.0   40720.0   \n",
       "\n",
       "      iUtilites  iClothingAndBeauty  iTransportation  iHealthcare  \\\n",
       "31       5068.0              1480.0          56372.0      44494.8   \n",
       "96       3160.0              2000.0           5480.0          0.0   \n",
       "437      4688.0               500.0           4988.0       5330.8   \n",
       "1120      720.0               720.0           1644.0       1598.8   \n",
       "1360     6060.0              1640.0          18032.0      16593.6   \n",
       "\n",
       "      iEntertainment  iMiscellaneous  iCharitableAndFamilyGiving  iInsurance  \\\n",
       "31            6640.0             0.0                      1100.0         0.0   \n",
       "96               0.0             0.0                       480.0         0.0   \n",
       "437           4096.0           240.0                      1600.0       160.0   \n",
       "1120          1840.0          2800.0                         0.0         0.0   \n",
       "1360          6260.0             0.0                      4800.0         0.0   \n",
       "\n",
       "      iEducation  iHousingPrinciple  \n",
       "31           0.0             8016.0  \n",
       "96           0.0                0.0  \n",
       "437          0.0                0.0  \n",
       "1120         0.0                0.0  \n",
       "1360         0.0             2064.0  "
      ]
     },
     "execution_count": 19,
     "metadata": {},
     "output_type": "execute_result"
    }
   ],
   "source": [
    "outerOutliers = inclassExpenses.copy()\n",
    "outerOutliers = outerOutliers.ix[outerFence,:]\n",
    "print(\"Number of outliers in each income class: \"+str(outerOutliers.INCLASS.value_counts().values))\n",
    "outerOutliers.head()"
   ]
  },
  {
   "cell_type": "markdown",
   "metadata": {
    "slideshow": {
     "slide_type": "-"
    }
   },
   "source": [
    "### Things learned from removing outliers\n",
    "- Removing outliers helped some of the standard deviation crazyness\n",
    "- Higher incomebrackets have greater standard deviation even without outliers"
   ]
  },
  {
   "cell_type": "markdown",
   "metadata": {},
   "source": [
    "### Creating the percentage output for cleaned dataframe"
   ]
  },
  {
   "cell_type": "code",
   "execution_count": 20,
   "metadata": {
    "collapsed": false
   },
   "outputs": [
    {
     "data": {
      "text/html": [
       "<div>\n",
       "<table border=\"1\" class=\"dataframe\">\n",
       "  <thead>\n",
       "    <tr style=\"text-align: right;\">\n",
       "      <th></th>\n",
       "      <th>iFoodAtHome</th>\n",
       "      <th>iFoodAway</th>\n",
       "      <th>iHousing</th>\n",
       "      <th>iUtilites</th>\n",
       "      <th>iClothingAndBeauty</th>\n",
       "      <th>iTransportation</th>\n",
       "      <th>iHealthcare</th>\n",
       "      <th>iEntertainment</th>\n",
       "      <th>iMiscellaneous</th>\n",
       "      <th>iCharitableAndFamilyGiving</th>\n",
       "      <th>iInsurance</th>\n",
       "      <th>iEducation</th>\n",
       "      <th>iHousingPrinciple</th>\n",
       "      <th>ExpInc</th>\n",
       "    </tr>\n",
       "  </thead>\n",
       "  <tbody>\n",
       "    <tr>\n",
       "      <th>0</th>\n",
       "      <td>0.139168</td>\n",
       "      <td>0.066103</td>\n",
       "      <td>0.283273</td>\n",
       "      <td>0.107396</td>\n",
       "      <td>0.026613</td>\n",
       "      <td>0.120813</td>\n",
       "      <td>0.150291</td>\n",
       "      <td>0.048092</td>\n",
       "      <td>0.055157</td>\n",
       "      <td>0.028584</td>\n",
       "      <td>0.004935</td>\n",
       "      <td>0.002241</td>\n",
       "      <td>0.032665</td>\n",
       "      <td>1.000000</td>\n",
       "    </tr>\n",
       "    <tr>\n",
       "      <th>1</th>\n",
       "      <td>0.148076</td>\n",
       "      <td>0.066114</td>\n",
       "      <td>0.262959</td>\n",
       "      <td>0.116705</td>\n",
       "      <td>0.027845</td>\n",
       "      <td>0.161259</td>\n",
       "      <td>0.122420</td>\n",
       "      <td>0.054350</td>\n",
       "      <td>0.017640</td>\n",
       "      <td>0.037859</td>\n",
       "      <td>0.005292</td>\n",
       "      <td>0.002383</td>\n",
       "      <td>0.022902</td>\n",
       "      <td>1.000000</td>\n",
       "    </tr>\n",
       "    <tr>\n",
       "      <th>2</th>\n",
       "      <td>0.125513</td>\n",
       "      <td>0.064207</td>\n",
       "      <td>0.241382</td>\n",
       "      <td>0.100125</td>\n",
       "      <td>0.026542</td>\n",
       "      <td>0.188205</td>\n",
       "      <td>0.141850</td>\n",
       "      <td>0.060373</td>\n",
       "      <td>0.019709</td>\n",
       "      <td>0.050252</td>\n",
       "      <td>0.007037</td>\n",
       "      <td>0.003662</td>\n",
       "      <td>0.028856</td>\n",
       "      <td>0.964868</td>\n",
       "    </tr>\n",
       "    <tr>\n",
       "      <th>3</th>\n",
       "      <td>0.114678</td>\n",
       "      <td>0.062405</td>\n",
       "      <td>0.270213</td>\n",
       "      <td>0.087521</td>\n",
       "      <td>0.033560</td>\n",
       "      <td>0.195132</td>\n",
       "      <td>0.139738</td>\n",
       "      <td>0.054311</td>\n",
       "      <td>0.013544</td>\n",
       "      <td>0.048241</td>\n",
       "      <td>0.009126</td>\n",
       "      <td>0.005880</td>\n",
       "      <td>0.034349</td>\n",
       "      <td>0.705426</td>\n",
       "    </tr>\n",
       "    <tr>\n",
       "      <th>4</th>\n",
       "      <td>0.105811</td>\n",
       "      <td>0.053990</td>\n",
       "      <td>0.255489</td>\n",
       "      <td>0.083360</td>\n",
       "      <td>0.024646</td>\n",
       "      <td>0.257764</td>\n",
       "      <td>0.125818</td>\n",
       "      <td>0.054827</td>\n",
       "      <td>0.014239</td>\n",
       "      <td>0.042713</td>\n",
       "      <td>0.009674</td>\n",
       "      <td>0.008775</td>\n",
       "      <td>0.037107</td>\n",
       "      <td>0.680236</td>\n",
       "    </tr>\n",
       "    <tr>\n",
       "      <th>5</th>\n",
       "      <td>0.104622</td>\n",
       "      <td>0.063664</td>\n",
       "      <td>0.256756</td>\n",
       "      <td>0.081647</td>\n",
       "      <td>0.029899</td>\n",
       "      <td>0.213003</td>\n",
       "      <td>0.116941</td>\n",
       "      <td>0.074197</td>\n",
       "      <td>0.019700</td>\n",
       "      <td>0.069411</td>\n",
       "      <td>0.009412</td>\n",
       "      <td>0.003592</td>\n",
       "      <td>0.042843</td>\n",
       "      <td>0.622345</td>\n",
       "    </tr>\n",
       "    <tr>\n",
       "      <th>6</th>\n",
       "      <td>0.097237</td>\n",
       "      <td>0.069574</td>\n",
       "      <td>0.250984</td>\n",
       "      <td>0.080893</td>\n",
       "      <td>0.034300</td>\n",
       "      <td>0.210728</td>\n",
       "      <td>0.124470</td>\n",
       "      <td>0.072963</td>\n",
       "      <td>0.014262</td>\n",
       "      <td>0.067395</td>\n",
       "      <td>0.010566</td>\n",
       "      <td>0.012968</td>\n",
       "      <td>0.046340</td>\n",
       "      <td>0.593584</td>\n",
       "    </tr>\n",
       "    <tr>\n",
       "      <th>7</th>\n",
       "      <td>0.090572</td>\n",
       "      <td>0.056637</td>\n",
       "      <td>0.296629</td>\n",
       "      <td>0.081703</td>\n",
       "      <td>0.029848</td>\n",
       "      <td>0.237935</td>\n",
       "      <td>0.103300</td>\n",
       "      <td>0.062148</td>\n",
       "      <td>0.016987</td>\n",
       "      <td>0.060367</td>\n",
       "      <td>0.007663</td>\n",
       "      <td>0.019173</td>\n",
       "      <td>0.062962</td>\n",
       "      <td>0.526514</td>\n",
       "    </tr>\n",
       "    <tr>\n",
       "      <th>8</th>\n",
       "      <td>0.110654</td>\n",
       "      <td>0.059512</td>\n",
       "      <td>0.350156</td>\n",
       "      <td>0.074213</td>\n",
       "      <td>0.042429</td>\n",
       "      <td>0.165708</td>\n",
       "      <td>0.102102</td>\n",
       "      <td>0.074690</td>\n",
       "      <td>0.015538</td>\n",
       "      <td>0.028049</td>\n",
       "      <td>0.021970</td>\n",
       "      <td>0.012145</td>\n",
       "      <td>0.057167</td>\n",
       "      <td>0.499571</td>\n",
       "    </tr>\n",
       "    <tr>\n",
       "      <th>9</th>\n",
       "      <td>0.081679</td>\n",
       "      <td>0.069769</td>\n",
       "      <td>0.294131</td>\n",
       "      <td>0.062037</td>\n",
       "      <td>0.039816</td>\n",
       "      <td>0.204337</td>\n",
       "      <td>0.083520</td>\n",
       "      <td>0.065285</td>\n",
       "      <td>0.030616</td>\n",
       "      <td>0.078771</td>\n",
       "      <td>0.009537</td>\n",
       "      <td>0.019676</td>\n",
       "      <td>0.039174</td>\n",
       "      <td>0.395747</td>\n",
       "    </tr>\n",
       "  </tbody>\n",
       "</table>\n",
       "</div>"
      ],
      "text/plain": [
       "   iFoodAtHome  iFoodAway  iHousing  iUtilites  iClothingAndBeauty  \\\n",
       "0     0.139168   0.066103  0.283273   0.107396            0.026613   \n",
       "1     0.148076   0.066114  0.262959   0.116705            0.027845   \n",
       "2     0.125513   0.064207  0.241382   0.100125            0.026542   \n",
       "3     0.114678   0.062405  0.270213   0.087521            0.033560   \n",
       "4     0.105811   0.053990  0.255489   0.083360            0.024646   \n",
       "5     0.104622   0.063664  0.256756   0.081647            0.029899   \n",
       "6     0.097237   0.069574  0.250984   0.080893            0.034300   \n",
       "7     0.090572   0.056637  0.296629   0.081703            0.029848   \n",
       "8     0.110654   0.059512  0.350156   0.074213            0.042429   \n",
       "9     0.081679   0.069769  0.294131   0.062037            0.039816   \n",
       "\n",
       "   iTransportation  iHealthcare  iEntertainment  iMiscellaneous  \\\n",
       "0         0.120813     0.150291        0.048092        0.055157   \n",
       "1         0.161259     0.122420        0.054350        0.017640   \n",
       "2         0.188205     0.141850        0.060373        0.019709   \n",
       "3         0.195132     0.139738        0.054311        0.013544   \n",
       "4         0.257764     0.125818        0.054827        0.014239   \n",
       "5         0.213003     0.116941        0.074197        0.019700   \n",
       "6         0.210728     0.124470        0.072963        0.014262   \n",
       "7         0.237935     0.103300        0.062148        0.016987   \n",
       "8         0.165708     0.102102        0.074690        0.015538   \n",
       "9         0.204337     0.083520        0.065285        0.030616   \n",
       "\n",
       "   iCharitableAndFamilyGiving  iInsurance  iEducation  iHousingPrinciple  \\\n",
       "0                    0.028584    0.004935    0.002241           0.032665   \n",
       "1                    0.037859    0.005292    0.002383           0.022902   \n",
       "2                    0.050252    0.007037    0.003662           0.028856   \n",
       "3                    0.048241    0.009126    0.005880           0.034349   \n",
       "4                    0.042713    0.009674    0.008775           0.037107   \n",
       "5                    0.069411    0.009412    0.003592           0.042843   \n",
       "6                    0.067395    0.010566    0.012968           0.046340   \n",
       "7                    0.060367    0.007663    0.019173           0.062962   \n",
       "8                    0.028049    0.021970    0.012145           0.057167   \n",
       "9                    0.078771    0.009537    0.019676           0.039174   \n",
       "\n",
       "     ExpInc  \n",
       "0  1.000000  \n",
       "1  1.000000  \n",
       "2  0.964868  \n",
       "3  0.705426  \n",
       "4  0.680236  \n",
       "5  0.622345  \n",
       "6  0.593584  \n",
       "7  0.526514  \n",
       "8  0.499571  \n",
       "9  0.395747  "
      ]
     },
     "execution_count": 20,
     "metadata": {},
     "output_type": "execute_result"
    }
   ],
   "source": [
    "# creating percentage outputs for cleaned dataframe\n",
    "inclassCleanAverages1 = round(clean1.ix[: ,clean1.columns != 'NEWID'].groupby(['INCLASS'],as_index=False).mean(),2)\n",
    "# creating new dataframe for the percentages that only includes the plynty categories\n",
    "cleanPercentages1 = inclassCleanAverages1.loc[:,rollupNames[1:]]\n",
    "for column in rollupNames[1:]:\n",
    "    cleanPercentages1[column] = inclassCleanAverages1[column]/inclassCleanAverages1.iTotalExp\n",
    "cleanPercentages1['ExpInc'] = inclassCleanAverages1['iTotalExp']/inclassCleanAverages1['FINCBTXM']\n",
    "# truncate the max ExpInc\n",
    "cleanPercentages1.ExpInc.ix[cleanPercentages1['ExpInc']>1] = 1\n",
    "cleanPercentages1"
   ]
  },
  {
   "cell_type": "code",
   "execution_count": 21,
   "metadata": {
    "collapsed": false,
    "scrolled": true
   },
   "outputs": [
    {
     "data": {
      "text/html": [
       "<div>\n",
       "<table border=\"1\" class=\"dataframe\">\n",
       "  <thead>\n",
       "    <tr style=\"text-align: right;\">\n",
       "      <th></th>\n",
       "      <th>iFoodAtHome</th>\n",
       "      <th>iFoodAway</th>\n",
       "      <th>iHousing</th>\n",
       "      <th>iUtilites</th>\n",
       "      <th>iClothingAndBeauty</th>\n",
       "      <th>iTransportation</th>\n",
       "      <th>iHealthcare</th>\n",
       "      <th>iEntertainment</th>\n",
       "      <th>iMiscellaneous</th>\n",
       "      <th>iCharitableAndFamilyGiving</th>\n",
       "      <th>iInsurance</th>\n",
       "      <th>iEducation</th>\n",
       "      <th>iHousingPrinciple</th>\n",
       "      <th>ExpInc</th>\n",
       "    </tr>\n",
       "  </thead>\n",
       "  <tbody>\n",
       "    <tr>\n",
       "      <th>0</th>\n",
       "      <td>0.131685</td>\n",
       "      <td>0.069478</td>\n",
       "      <td>0.305099</td>\n",
       "      <td>0.103022</td>\n",
       "      <td>0.026632</td>\n",
       "      <td>0.116194</td>\n",
       "      <td>0.150657</td>\n",
       "      <td>0.052087</td>\n",
       "      <td>0.047547</td>\n",
       "      <td>0.025519</td>\n",
       "      <td>0.005608</td>\n",
       "      <td>0.001951</td>\n",
       "      <td>0.035477</td>\n",
       "      <td>1.000000</td>\n",
       "    </tr>\n",
       "    <tr>\n",
       "      <th>1</th>\n",
       "      <td>0.142560</td>\n",
       "      <td>0.064935</td>\n",
       "      <td>0.277576</td>\n",
       "      <td>0.113504</td>\n",
       "      <td>0.027282</td>\n",
       "      <td>0.159907</td>\n",
       "      <td>0.121979</td>\n",
       "      <td>0.054276</td>\n",
       "      <td>0.018541</td>\n",
       "      <td>0.039779</td>\n",
       "      <td>0.005735</td>\n",
       "      <td>0.002771</td>\n",
       "      <td>0.028845</td>\n",
       "      <td>1.000000</td>\n",
       "    </tr>\n",
       "    <tr>\n",
       "      <th>2</th>\n",
       "      <td>0.122310</td>\n",
       "      <td>0.064037</td>\n",
       "      <td>0.253997</td>\n",
       "      <td>0.097472</td>\n",
       "      <td>0.027415</td>\n",
       "      <td>0.186868</td>\n",
       "      <td>0.139098</td>\n",
       "      <td>0.059958</td>\n",
       "      <td>0.018977</td>\n",
       "      <td>0.050574</td>\n",
       "      <td>0.006890</td>\n",
       "      <td>0.003555</td>\n",
       "      <td>0.031152</td>\n",
       "      <td>0.997915</td>\n",
       "    </tr>\n",
       "    <tr>\n",
       "      <th>3</th>\n",
       "      <td>0.111378</td>\n",
       "      <td>0.062016</td>\n",
       "      <td>0.286214</td>\n",
       "      <td>0.085593</td>\n",
       "      <td>0.032739</td>\n",
       "      <td>0.193143</td>\n",
       "      <td>0.136630</td>\n",
       "      <td>0.052683</td>\n",
       "      <td>0.012931</td>\n",
       "      <td>0.047321</td>\n",
       "      <td>0.009239</td>\n",
       "      <td>0.005506</td>\n",
       "      <td>0.035392</td>\n",
       "      <td>0.728217</td>\n",
       "    </tr>\n",
       "    <tr>\n",
       "      <th>4</th>\n",
       "      <td>0.105645</td>\n",
       "      <td>0.053777</td>\n",
       "      <td>0.261191</td>\n",
       "      <td>0.082415</td>\n",
       "      <td>0.024242</td>\n",
       "      <td>0.259005</td>\n",
       "      <td>0.123794</td>\n",
       "      <td>0.054287</td>\n",
       "      <td>0.014699</td>\n",
       "      <td>0.042134</td>\n",
       "      <td>0.009444</td>\n",
       "      <td>0.008610</td>\n",
       "      <td>0.039242</td>\n",
       "      <td>0.686132</td>\n",
       "    </tr>\n",
       "    <tr>\n",
       "      <th>5</th>\n",
       "      <td>0.102811</td>\n",
       "      <td>0.064112</td>\n",
       "      <td>0.275794</td>\n",
       "      <td>0.079604</td>\n",
       "      <td>0.029788</td>\n",
       "      <td>0.206362</td>\n",
       "      <td>0.114937</td>\n",
       "      <td>0.072929</td>\n",
       "      <td>0.018851</td>\n",
       "      <td>0.067577</td>\n",
       "      <td>0.009547</td>\n",
       "      <td>0.004457</td>\n",
       "      <td>0.046769</td>\n",
       "      <td>0.635643</td>\n",
       "    </tr>\n",
       "    <tr>\n",
       "      <th>6</th>\n",
       "      <td>0.096355</td>\n",
       "      <td>0.070307</td>\n",
       "      <td>0.262563</td>\n",
       "      <td>0.080273</td>\n",
       "      <td>0.033750</td>\n",
       "      <td>0.207281</td>\n",
       "      <td>0.121454</td>\n",
       "      <td>0.072817</td>\n",
       "      <td>0.014847</td>\n",
       "      <td>0.066019</td>\n",
       "      <td>0.010507</td>\n",
       "      <td>0.012545</td>\n",
       "      <td>0.048719</td>\n",
       "      <td>0.600907</td>\n",
       "    </tr>\n",
       "    <tr>\n",
       "      <th>7</th>\n",
       "      <td>0.090703</td>\n",
       "      <td>0.062730</td>\n",
       "      <td>0.307882</td>\n",
       "      <td>0.081025</td>\n",
       "      <td>0.029472</td>\n",
       "      <td>0.232464</td>\n",
       "      <td>0.100359</td>\n",
       "      <td>0.061680</td>\n",
       "      <td>0.016501</td>\n",
       "      <td>0.058984</td>\n",
       "      <td>0.007457</td>\n",
       "      <td>0.018477</td>\n",
       "      <td>0.067734</td>\n",
       "      <td>0.533647</td>\n",
       "    </tr>\n",
       "    <tr>\n",
       "      <th>8</th>\n",
       "      <td>0.109766</td>\n",
       "      <td>0.058935</td>\n",
       "      <td>0.364916</td>\n",
       "      <td>0.073853</td>\n",
       "      <td>0.042231</td>\n",
       "      <td>0.162135</td>\n",
       "      <td>0.102079</td>\n",
       "      <td>0.073414</td>\n",
       "      <td>0.015371</td>\n",
       "      <td>0.028200</td>\n",
       "      <td>0.021411</td>\n",
       "      <td>0.014309</td>\n",
       "      <td>0.066621</td>\n",
       "      <td>0.502604</td>\n",
       "    </tr>\n",
       "    <tr>\n",
       "      <th>9</th>\n",
       "      <td>0.080580</td>\n",
       "      <td>0.070152</td>\n",
       "      <td>0.309520</td>\n",
       "      <td>0.061159</td>\n",
       "      <td>0.039054</td>\n",
       "      <td>0.199806</td>\n",
       "      <td>0.082599</td>\n",
       "      <td>0.064730</td>\n",
       "      <td>0.031834</td>\n",
       "      <td>0.077508</td>\n",
       "      <td>0.010119</td>\n",
       "      <td>0.019212</td>\n",
       "      <td>0.046274</td>\n",
       "      <td>0.400007</td>\n",
       "    </tr>\n",
       "  </tbody>\n",
       "</table>\n",
       "</div>"
      ],
      "text/plain": [
       "   iFoodAtHome  iFoodAway  iHousing  iUtilites  iClothingAndBeauty  \\\n",
       "0     0.131685   0.069478  0.305099   0.103022            0.026632   \n",
       "1     0.142560   0.064935  0.277576   0.113504            0.027282   \n",
       "2     0.122310   0.064037  0.253997   0.097472            0.027415   \n",
       "3     0.111378   0.062016  0.286214   0.085593            0.032739   \n",
       "4     0.105645   0.053777  0.261191   0.082415            0.024242   \n",
       "5     0.102811   0.064112  0.275794   0.079604            0.029788   \n",
       "6     0.096355   0.070307  0.262563   0.080273            0.033750   \n",
       "7     0.090703   0.062730  0.307882   0.081025            0.029472   \n",
       "8     0.109766   0.058935  0.364916   0.073853            0.042231   \n",
       "9     0.080580   0.070152  0.309520   0.061159            0.039054   \n",
       "\n",
       "   iTransportation  iHealthcare  iEntertainment  iMiscellaneous  \\\n",
       "0         0.116194     0.150657        0.052087        0.047547   \n",
       "1         0.159907     0.121979        0.054276        0.018541   \n",
       "2         0.186868     0.139098        0.059958        0.018977   \n",
       "3         0.193143     0.136630        0.052683        0.012931   \n",
       "4         0.259005     0.123794        0.054287        0.014699   \n",
       "5         0.206362     0.114937        0.072929        0.018851   \n",
       "6         0.207281     0.121454        0.072817        0.014847   \n",
       "7         0.232464     0.100359        0.061680        0.016501   \n",
       "8         0.162135     0.102079        0.073414        0.015371   \n",
       "9         0.199806     0.082599        0.064730        0.031834   \n",
       "\n",
       "   iCharitableAndFamilyGiving  iInsurance  iEducation  iHousingPrinciple  \\\n",
       "0                    0.025519    0.005608    0.001951           0.035477   \n",
       "1                    0.039779    0.005735    0.002771           0.028845   \n",
       "2                    0.050574    0.006890    0.003555           0.031152   \n",
       "3                    0.047321    0.009239    0.005506           0.035392   \n",
       "4                    0.042134    0.009444    0.008610           0.039242   \n",
       "5                    0.067577    0.009547    0.004457           0.046769   \n",
       "6                    0.066019    0.010507    0.012545           0.048719   \n",
       "7                    0.058984    0.007457    0.018477           0.067734   \n",
       "8                    0.028200    0.021411    0.014309           0.066621   \n",
       "9                    0.077508    0.010119    0.019212           0.046274   \n",
       "\n",
       "     ExpInc  \n",
       "0  1.000000  \n",
       "1  1.000000  \n",
       "2  0.997915  \n",
       "3  0.728217  \n",
       "4  0.686132  \n",
       "5  0.635643  \n",
       "6  0.600907  \n",
       "7  0.533647  \n",
       "8  0.502604  \n",
       "9  0.400007  "
      ]
     },
     "execution_count": 21,
     "metadata": {},
     "output_type": "execute_result"
    }
   ],
   "source": [
    "# creating percentage outputs for cleaned dataframe\n",
    "inclassCleanAverages2 = round(clean2.ix[: ,clean2.columns != 'NEWID'].groupby(['INCLASS'],as_index=False).mean(),2)\n",
    "# creating new dataframe for the percentages that only includes the plynty categories\n",
    "cleanPercentages2 = inclassCleanAverages2.loc[:,rollupNames[1:]]\n",
    "for column in rollupNames[1:]:\n",
    "    cleanPercentages2[column] = inclassCleanAverages2[column]/inclassCleanAverages2.iTotalExp\n",
    "cleanPercentages2['ExpInc'] = inclassCleanAverages2['iTotalExp']/inclassCleanAverages2['FINCBTXM']\n",
    "# truncate the max ExpInc\n",
    "cleanPercentages2nonTruncated = cleanPercentages2.copy()\n",
    "cleanPercentages2.ExpInc.ix[cleanPercentages2['ExpInc']>1] = 1\n",
    "cleanPercentages2"
   ]
  },
  {
   "cell_type": "code",
   "execution_count": 22,
   "metadata": {
    "collapsed": false
   },
   "outputs": [
    {
     "data": {
      "image/png": "[encoded data removed]",
      "text/plain": [
       "<matplotlib.figure.Figure at 0x1280f54a8>"
      ]
     },
     "metadata": {},
     "output_type": "display_data"
    }
   ],
   "source": [
    "plt.bar(cleanPercentages2.index, cleanPercentages2.ExpInc, color = 'b')\n",
    "plt.title(\"Percent of Income Expended per Income Class\")\n",
    "plt.xlabel(\"Income Class\")\n",
    "plt.ylabel(\"Percentage\")\n",
    "plt.show()"
   ]
  },
  {
   "cell_type": "code",
   "execution_count": 23,
   "metadata": {
    "collapsed": false
   },
   "outputs": [
    {
     "data": {
      "image/png": "[encoded data removed]",
      "text/plain": [
       "<matplotlib.figure.Figure at 0x117ebe860>"
      ]
     },
     "metadata": {},
     "output_type": "display_data"
    }
   ],
   "source": [
    "plt.bar(cleanPercentages2.index, cleanPercentages2.iHousing, color = 'b')\n",
    "plt.title(\"Percent spent on Housing per Income Class (without outliers)\")\n",
    "plt.xlabel(\"Income class\")\n",
    "plt.ylabel(\"Percent spent on housing\")\n",
    "plt.show()"
   ]
  },
  {
   "cell_type": "markdown",
   "metadata": {},
   "source": [
    "# Plots"
   ]
  },
  {
   "cell_type": "code",
   "execution_count": 24,
   "metadata": {
    "collapsed": false,
    "scrolled": true
   },
   "outputs": [
    {
     "name": "stdout",
     "output_type": "stream",
     "text": [
      "[2667  798  483  404  350  263  193  184  158  136]\n"
     ]
    },
    {
     "data": {
      "text/plain": [
       "<matplotlib.text.Text at 0x117bf0588>"
      ]
     },
     "execution_count": 24,
     "metadata": {},
     "output_type": "execute_result"
    }
   ],
   "source": [
    "# ploting the number of people in each bracket\n",
    "print(inclassExpenses.INCLASS.value_counts().values)\n",
    "plt.bar(list(inclassExpenses.INCLASS.value_counts().index.tolist()), inclassExpenses.INCLASS.value_counts().values, align='center', color = \"r\")\n",
    "plt.title(\"Number of CUs in Income classes (with outliers)\")\n",
    "plt.xlabel(\"Income Class\")\n",
    "plt.ylabel(\"Count\")\n",
    "# plt.show()"
   ]
  },
  {
   "cell_type": "code",
   "execution_count": 25,
   "metadata": {
    "collapsed": false
   },
   "outputs": [
    {
     "data": {
      "text/plain": [
       "<matplotlib.text.Text at 0x117bf0588>"
      ]
     },
     "execution_count": 25,
     "metadata": {},
     "output_type": "execute_result"
    }
   ],
   "source": [
    "# creating the plot of percent of income expended per income class\n",
    "plt.bar(percentages.index, percentages.ExpInc, color = 'r')\n",
    "plt.title(\"Percent of Income Expended per Income Class (with outliers)\")\n",
    "plt.xlabel(\"Income Class\")\n",
    "plt.ylabel(\"Percentage\")\n",
    "# plt.show()"
   ]
  },
  {
   "cell_type": "code",
   "execution_count": 26,
   "metadata": {
    "collapsed": false,
    "scrolled": true
   },
   "outputs": [
    {
     "data": {
      "text/plain": [
       "<matplotlib.text.Text at 0x117bf0588>"
      ]
     },
     "execution_count": 26,
     "metadata": {},
     "output_type": "execute_result"
    }
   ],
   "source": [
    "# creating plot of Percent spent on Housing per income class\n",
    "plt.bar(percentages.index, percentages.iHousing, color = 'r')\n",
    "plt.ylim(0,.4)\n",
    "plt.title(\"Percent spent on Housing per Income Class (with outliers)\")\n",
    "plt.xlabel(\"Income class\")\n",
    "plt.ylabel(\"Percent spent on housing\")\n",
    "# plt.show()"
   ]
  },
  {
   "cell_type": "code",
   "execution_count": 27,
   "metadata": {
    "collapsed": false,
    "scrolled": false
   },
   "outputs": [
    {
     "data": {
      "text/plain": [
       "<matplotlib.text.Text at 0x117bf0588>"
      ]
     },
     "execution_count": 27,
     "metadata": {},
     "output_type": "execute_result"
    }
   ],
   "source": [
    "inclassSD = inclassExpenses.groupby(['INCLASS'],as_index=False).std()\n",
    "inclassSD.iHousing\n",
    "plt.bar(inclassSD.iHousing.index, inclassSD.iHousing, color = 'r')\n",
    "plt.title(\"Standard deviations in Income Classes (with outliers)\")\n",
    "plt.ylim(0,60000)\n",
    "plt.xlabel(\"Income Class\")\n",
    "plt.ylabel(\"Standard Deviation\")\n",
    "# plt.show()"
   ]
  },
  {
   "cell_type": "code",
   "execution_count": 28,
   "metadata": {
    "collapsed": false
   },
   "outputs": [
    {
     "name": "stdout",
     "output_type": "stream",
     "text": [
      "[2536  740  462  383  335  253  185  172  154  128]\n"
     ]
    },
    {
     "data": {
      "text/plain": [
       "<matplotlib.text.Text at 0x117bf0588>"
      ]
     },
     "execution_count": 28,
     "metadata": {},
     "output_type": "execute_result"
    }
   ],
   "source": [
    "# ploting the number of people in each bracket\n",
    "print(clean1.INCLASS.value_counts().values)\n",
    "plt.bar(list(clean1.INCLASS.value_counts().index.tolist()), clean1.INCLASS.value_counts().values, align='center', color=\"g\")\n",
    "plt.title(\"Number of CUs in Income classes (outer fence)\")\n",
    "plt.xlabel(\"Income Class\")\n",
    "plt.ylabel(\"Count\")\n",
    "# plt.show()"
   ]
  },
  {
   "cell_type": "code",
   "execution_count": 29,
   "metadata": {
    "collapsed": false,
    "scrolled": true
   },
   "outputs": [
    {
     "data": {
      "text/plain": [
       "<matplotlib.text.Text at 0x117bf0588>"
      ]
     },
     "execution_count": 29,
     "metadata": {},
     "output_type": "execute_result"
    }
   ],
   "source": [
    "inclassClean1SD = clean1.groupby(['INCLASS'],as_index=False).std()\n",
    "inclassClean1SD.iHousing\n",
    "plt.bar(inclassClean1SD.iHousing.index, inclassClean1SD.iHousing,color = 'g')\n",
    "plt.ylim(0,60000)\n",
    "plt.title(\"Standard deviations in Income Classes (inner fence)\")\n",
    "plt.xlabel(\"Income Class\")\n",
    "plt.ylabel(\"Standard Deviation\")\n",
    "# plt.show()"
   ]
  },
  {
   "cell_type": "code",
   "execution_count": 30,
   "metadata": {
    "collapsed": false,
    "scrolled": true
   },
   "outputs": [
    {
     "name": "stdout",
     "output_type": "stream",
     "text": [
      "[2621  767  479  399  344  257  189  176  157  136]\n"
     ]
    },
    {
     "data": {
      "text/plain": [
       "<matplotlib.text.Text at 0x117bf0588>"
      ]
     },
     "execution_count": 30,
     "metadata": {},
     "output_type": "execute_result"
    }
   ],
   "source": [
    "# ploting the number of people in each bracket\n",
    "print(clean2.INCLASS.value_counts().values)\n",
    "plt.bar(list(clean2.INCLASS.value_counts().index.tolist()), clean2.INCLASS.value_counts().values, align='center', color=\"b\")\n",
    "plt.title(\"Number of CUs in Income classes (outer fence)\")\n",
    "plt.xlabel(\"Income Class\")\n",
    "plt.ylabel(\"Count\")\n",
    "# plt.show()"
   ]
  },
  {
   "cell_type": "code",
   "execution_count": 31,
   "metadata": {
    "collapsed": false
   },
   "outputs": [
    {
     "data": {
      "text/plain": [
       "<matplotlib.text.Text at 0x117bf0588>"
      ]
     },
     "execution_count": 31,
     "metadata": {},
     "output_type": "execute_result"
    }
   ],
   "source": [
    "inclassClean2SD = clean2.groupby(['INCLASS'],as_index=False).std()\n",
    "inclassClean2SD.iHousing\n",
    "plt.bar(inclassClean2SD.iHousing.index, inclassClean2SD.iHousing,color = 'b')\n",
    "plt.ylim(0,60000)\n",
    "plt.title(\"Standard deviations in Income Classes (outer fence)\")\n",
    "plt.xlabel(\"Income Class\")\n",
    "plt.ylabel(\"Standard Deviation\")\n",
    "# plt.show()"
   ]
  },
  {
   "cell_type": "code",
   "execution_count": 32,
   "metadata": {
    "collapsed": false
   },
   "outputs": [
    {
     "data": {
      "image/png": "[encoded data removed]",
      "text/plain": [
       "<matplotlib.figure.Figure at 0x11abf3400>"
      ]
     },
     "metadata": {},
     "output_type": "display_data"
    },
    {
     "data": {
      "text/plain": [
       "array([2621,  767,  479,  399,  344,  257,  189,  176,  157,  136])"
      ]
     },
     "execution_count": 32,
     "metadata": {},
     "output_type": "execute_result"
    }
   ],
   "source": [
    "plt.close()\n",
    "n_groups = 4\n",
    "values1 = inclassExpenses.INCLASS.value_counts().values\n",
    "values2 = clean1.INCLASS.value_counts().values\n",
    "values3 = clean2.INCLASS.value_counts().values\n",
    "\n",
    "fig, ax = plt.subplots()\n",
    "index = np.arange(n_groups)\n",
    "bar_width = 0.25\n",
    "opacity = 1\n",
    " \n",
    "rects1 = plt.bar(inclassExpenses.INCLASS.value_counts().index -1, values1, bar_width,\n",
    "                 alpha=opacity,\n",
    "                 color='r',\n",
    "                 label='With')\n",
    " \n",
    "rects2 = plt.bar(clean1.INCLASS.value_counts().index -1 + bar_width, values2, bar_width,\n",
    "                 alpha=opacity,\n",
    "                 color='g',\n",
    "                 label='Inner')\n",
    "\n",
    "rects3 = plt.bar(clean2.INCLASS.value_counts().index - 1 + bar_width*2, values3, bar_width,\n",
    "                 alpha=opacity,\n",
    "                 color='b',\n",
    "                 label='Outer')\n",
    "\n",
    "plt.xlabel('Income Class')\n",
    "plt.ylabel('Number of CUs')\n",
    "plt.title('Number of CUs per Income Class')\n",
    "plt.legend()\n",
    "plt.show()\n",
    "clean2.INCLASS.value_counts().values"
   ]
  },
  {
   "cell_type": "code",
   "execution_count": 33,
   "metadata": {
    "collapsed": false,
    "scrolled": false
   },
   "outputs": [
    {
     "name": "stdout",
     "output_type": "stream",
     "text": [
      "The average percent change between with and without outliers: 1.76%\n"
     ]
    },
    {
     "data": {
      "image/png": "[encoded data removed]",
      "text/plain": [
       "<matplotlib.figure.Figure at 0x11acf0e48>"
      ]
     },
     "metadata": {},
     "output_type": "display_data"
    }
   ],
   "source": [
    "n_groups = 4\n",
    "values1 = percentages.iHousing\n",
    "values2 = cleanPercentages1.iHousing\n",
    "values3 = cleanPercentages2.iHousing\n",
    "\n",
    "print(\"The average percent change between with and without outliers: \"+str(round((values1-values3).mean()*100,2))+\"%\")\n",
    "\n",
    "fig, ax = plt.subplots()\n",
    "index = np.arange(n_groups)\n",
    "bar_width = 0.25\n",
    "opacity = 1\n",
    " \n",
    "rects1 = plt.bar(percentages.index, values1, bar_width,\n",
    "                 alpha=opacity,\n",
    "                 color='r',\n",
    "                 label='With')\n",
    " \n",
    "rects2 = plt.bar(cleanPercentages1.index + bar_width, values2, bar_width,\n",
    "                 alpha=opacity,\n",
    "                 color='g',\n",
    "                 label='Inner')\n",
    "\n",
    "rects3 = plt.bar(cleanPercentages2.index + bar_width*2, values3, bar_width,\n",
    "                 alpha=opacity,\n",
    "                 color='b',\n",
    "                 label='Outer')\n",
    "\n",
    "plt.xlabel('Income Class')\n",
    "plt.ylabel('Percent of Total Expenditures')\n",
    "plt.title('Percent Spent on Housing per Income Class')\n",
    "plt.ylim(0,.4)\n",
    "plt.legend()\n",
    "plt.show()"
   ]
  },
  {
   "cell_type": "code",
   "execution_count": 34,
   "metadata": {
    "collapsed": false
   },
   "outputs": [
    {
     "data": {
      "image/png": "[encoded data removed]",
      "text/plain": [
       "<matplotlib.figure.Figure at 0x117bfddd8>"
      ]
     },
     "metadata": {},
     "output_type": "display_data"
    }
   ],
   "source": [
    "n_groups = 4\n",
    "values1 = inclassSD.iHousing\n",
    "values2 = inclassClean1SD.iHousing\n",
    "values3 = inclassClean2SD.iHousing\n",
    "\n",
    "fig, ax = plt.subplots()\n",
    "index = np.arange(n_groups)\n",
    "bar_width = 0.25\n",
    "opacity = 1\n",
    " \n",
    "rects1 = plt.bar(percentages.index, values1, bar_width,\n",
    "                 alpha=opacity,\n",
    "                 color='r',\n",
    "                 label='With')\n",
    " \n",
    "rects2 = plt.bar(cleanPercentages1.index + bar_width, values2, bar_width,\n",
    "                 alpha=opacity,\n",
    "                 color='g',\n",
    "                 label='Inner')\n",
    "\n",
    "rects3 = plt.bar(cleanPercentages2.index + bar_width*2, values3, bar_width,\n",
    "                 alpha=opacity,\n",
    "                 color='b',\n",
    "                 label='Outer')\n",
    "\n",
    "plt.xlabel('Income Class')\n",
    "plt.ylabel('Standard Deviation (Dollars)')\n",
    "plt.title('Standard Deviation of money spent on Housing per Income Class')\n",
    "plt.legend()\n",
    "plt.show()"
   ]
  },
  {
   "cell_type": "code",
   "execution_count": 35,
   "metadata": {
    "collapsed": false,
    "scrolled": true
   },
   "outputs": [
    {
     "data": {
      "image/png": "[encoded data removed]",
      "text/plain": [
       "<matplotlib.figure.Figure at 0x11aca3ba8>"
      ]
     },
     "metadata": {},
     "output_type": "display_data"
    }
   ],
   "source": [
    "n_groups = 3\n",
    "values1 = percentages.ExpInc\n",
    "values2 = cleanPercentages1.ExpInc\n",
    "values3 = cleanPercentages2.ExpInc\n",
    "\n",
    "fig, ax = plt.subplots()\n",
    "index = np.arange(n_groups)\n",
    "bar_width = 0.25\n",
    "opacity = 1\n",
    " \n",
    "rects1 = plt.bar(percentages.index, values1, bar_width,\n",
    "                 alpha=opacity,\n",
    "                 color='r',\n",
    "                 label='With')\n",
    " \n",
    "rects2 = plt.bar(cleanPercentages1.index + bar_width, values2, bar_width,\n",
    "                 alpha=opacity,\n",
    "                 color='g',\n",
    "                 label='Outer Fence')\n",
    "\n",
    "rects3 = plt.bar(cleanPercentages2.index + bar_width*2, values3, bar_width,\n",
    "                 alpha=opacity,\n",
    "                 color='b',\n",
    "                 label='Inner Fence')\n",
    " \n",
    "plt.xlabel('Income Class')\n",
    "plt.ylabel('Percent of Income Expended')\n",
    "plt.title('Percent of Income Expent per Income Class')\n",
    "plt.legend()\n",
    "plt.show()"
   ]
  },
  {
   "cell_type": "markdown",
   "metadata": {},
   "source": [
    "# Least squares polynomial fit\n",
    "any value that would cause a person to expend over 100% of their income is truncated to 100%"
   ]
  },
  {
   "cell_type": "code",
   "execution_count": 36,
   "metadata": {
    "slideshow": "-"
   },
   "outputs": [
    {
     "name": "stdout",
     "output_type": "stream",
     "text": [
      "           3             2\n",
      "7.734e-13 x - 7.176e-07 x + 0.4576 x + 2.24e+04\n"
     ]
    },
    {
     "data": {
      "image/png": "[encoded data removed]",
      "text/plain": [
       "<matplotlib.figure.Figure at 0x1280ed860>"
      ]
     },
     "metadata": {},
     "output_type": "display_data"
    }
   ],
   "source": [
    "# cleanPercentages2.ExpInc[3:]\n",
    "cleanReg = clean2[[\"FINCBTXM\",\"iTotalExp\"]]\n",
    "cleanReg = cleanReg.loc[clean2.FINCBTXM > 0]\n",
    "cleanReg = cleanReg.loc[cleanReg.iTotalExp > 0]\n",
    "cleanReg\n",
    "def getExpendPercent(income):\n",
    "    if income <= 0:\n",
    "        return(1)\n",
    "    coefficients = np.polyfit(cleanReg.FINCBTXM, cleanReg.iTotalExp, deg = 3)\n",
    "    p = np.poly1d(coefficients)\n",
    "    np.seterr(divide='ignore')\n",
    "    percent = p(income)/income\n",
    "    if percent > 1:\n",
    "        percent = 1\n",
    "    return(percent)\n",
    "\n",
    "def printRegression():\n",
    "    coefficients = np.polyfit(cleanReg.FINCBTXM, cleanReg.iTotalExp, deg = 3)\n",
    "    p = np.poly1d(coefficients)\n",
    "    print(p)\n",
    "    \n",
    "    \n",
    "printRegression()\n",
    "    \n",
    "x = range(0,360000,1000)\n",
    "x2 = range(0,360000,1000)\n",
    "y =[]\n",
    "y2 =[]\n",
    "def oldRegression(income):\n",
    "    if income > 53000:\n",
    "        output = ((-7.6108*(10**(-17)))*(income**3))+((4.2009*(10**(-11)))*(income**2))+((-7.90256*(10**-6))*income)+1.21112\n",
    "    else:\n",
    "        output = 1\n",
    "    return(output)\n",
    "\n",
    "\n",
    "for bracket in range(0,360000,1000):\n",
    "    y.append(getExpendPercent(bracket))\n",
    "    y2.append(oldRegression(bracket))\n",
    "# plt.plot(inclassCleanAverages2.FINCBTXM,cleanPercentages2.ExpInc)\n",
    "plt.plot(x,y, color = \"r\", label=\"New\")\n",
    "plt.plot(x2,y2, color = \"b\", label = \"Old\")\n",
    "x3 = range(0,incomeBrackets[len(incomeBrackets)-2])\n",
    "\n",
    "# creating the repeatArray for income Bracket plotting\n",
    "lastvalue = 0\n",
    "repeatArray = []\n",
    "for x in range(0,len(incomeBrackets[1:len(incomeBrackets)-1])):\n",
    "    repeatArray.append(incomeBrackets[1:len(incomeBrackets)-1][x] - lastvalue)\n",
    "    lastvalue = incomeBrackets[1:len(incomeBrackets)-1][x]\n",
    "\n",
    "y3 = np.repeat(cleanPercentages2.ExpInc[0:len(cleanPercentages2)-1], repeatArray)\n",
    "plt.plot(x3,y3, color = \"g\", label = \"Brackets\")\n",
    "plt.title(\"Percent of Income Expended Regression\")\n",
    "plt.xlabel(\"Income Before Taxes\")\n",
    "plt.ylabel(\"Percent of Income Expended\")\n",
    "plt.xlim(0,350000)\n",
    "plt.ylim(0,1.2)\n",
    "plt.legend()\n",
    "plt.show()"
   ]
  },
  {
   "cell_type": "markdown",
   "metadata": {},
   "source": [
    "### Plot of number of CUs for clean2 only"
   ]
  },
  {
   "cell_type": "code",
   "execution_count": 37,
   "metadata": {},
   "outputs": [
    {
     "data": {
      "image/png": "[encoded data removed]",
      "text/plain": [
       "<matplotlib.figure.Figure at 0x117ee6b38>"
      ]
     },
     "metadata": {},
     "output_type": "display_data"
    }
   ],
   "source": [
    "plt.bar(clean2.INCLASS.value_counts().index - 1, (clean2.INCLASS.value_counts().values)/(len(clean2)), alpha=opacity, color='g')\n",
    "plt.suptitle(\"Percent of CUs in each Income class\")\n",
    "plt.title(\"Ages: 60-75\")\n",
    "plt.xlabel(\"Income Class\")\n",
    "plt.ylabel(\"Percent of CUs\")\n",
    "plt.show()"
   ]
  },
  {
   "cell_type": "markdown",
   "metadata": {},
   "source": [
    "# Examples of Users"
   ]
  },
  {
   "cell_type": "code",
   "execution_count": 38,
   "metadata": {},
   "outputs": [
    {
     "data": {
      "text/html": [
       "<div>\n",
       "<table border=\"1\" class=\"dataframe\">\n",
       "  <thead>\n",
       "    <tr style=\"text-align: right;\">\n",
       "      <th></th>\n",
       "      <th>iFoodAtHome</th>\n",
       "      <th>iFoodAway</th>\n",
       "      <th>iHousing</th>\n",
       "      <th>iUtilites</th>\n",
       "      <th>iClothingAndBeauty</th>\n",
       "      <th>iTransportation</th>\n",
       "      <th>iHealthcare</th>\n",
       "      <th>iEntertainment</th>\n",
       "      <th>iMiscellaneous</th>\n",
       "      <th>iCharitableAndFamilyGiving</th>\n",
       "      <th>iInsurance</th>\n",
       "      <th>iEducation</th>\n",
       "      <th>iHousingPrinciple</th>\n",
       "      <th>ExpInc</th>\n",
       "    </tr>\n",
       "  </thead>\n",
       "  <tbody>\n",
       "    <tr>\n",
       "      <th>30000</th>\n",
       "      <td>305.776</td>\n",
       "      <td>160.093</td>\n",
       "      <td>634.992</td>\n",
       "      <td>243.681</td>\n",
       "      <td>68.5384</td>\n",
       "      <td>467.171</td>\n",
       "      <td>347.745</td>\n",
       "      <td>149.895</td>\n",
       "      <td>47.4426</td>\n",
       "      <td>126.435</td>\n",
       "      <td>17.224</td>\n",
       "      <td>8.887</td>\n",
       "      <td>77.8804</td>\n",
       "      <td>2494.79</td>\n",
       "    </tr>\n",
       "    <tr>\n",
       "      <th>60000</th>\n",
       "      <td>483.53</td>\n",
       "      <td>253.159</td>\n",
       "      <td>1004.13</td>\n",
       "      <td>385.338</td>\n",
       "      <td>108.381</td>\n",
       "      <td>738.748</td>\n",
       "      <td>549.896</td>\n",
       "      <td>237.033</td>\n",
       "      <td>75.022</td>\n",
       "      <td>199.935</td>\n",
       "      <td>27.2366</td>\n",
       "      <td>14.0532</td>\n",
       "      <td>123.154</td>\n",
       "      <td>3945.06</td>\n",
       "    </tr>\n",
       "    <tr>\n",
       "      <th>90000</th>\n",
       "      <td>513.558</td>\n",
       "      <td>261.419</td>\n",
       "      <td>1269.7</td>\n",
       "      <td>400.632</td>\n",
       "      <td>117.844</td>\n",
       "      <td>1259.07</td>\n",
       "      <td>601.784</td>\n",
       "      <td>263.897</td>\n",
       "      <td>71.4566</td>\n",
       "      <td>204.823</td>\n",
       "      <td>45.9073</td>\n",
       "      <td>41.8552</td>\n",
       "      <td>190.761</td>\n",
       "      <td>3335.41</td>\n",
       "    </tr>\n",
       "    <tr>\n",
       "      <th>120000</th>\n",
       "      <td>548.523</td>\n",
       "      <td>400.239</td>\n",
       "      <td>1494.71</td>\n",
       "      <td>456.976</td>\n",
       "      <td>192.13</td>\n",
       "      <td>1180</td>\n",
       "      <td>691.405</td>\n",
       "      <td>414.531</td>\n",
       "      <td>84.5174</td>\n",
       "      <td>375.829</td>\n",
       "      <td>59.8164</td>\n",
       "      <td>71.4167</td>\n",
       "      <td>277.347</td>\n",
       "      <td>3420.81</td>\n",
       "    </tr>\n",
       "    <tr>\n",
       "      <th>250000</th>\n",
       "      <td>698.552</td>\n",
       "      <td>608.15</td>\n",
       "      <td>2683.24</td>\n",
       "      <td>530.184</td>\n",
       "      <td>338.563</td>\n",
       "      <td>1732.12</td>\n",
       "      <td>716.051</td>\n",
       "      <td>561.145</td>\n",
       "      <td>275.966</td>\n",
       "      <td>671.923</td>\n",
       "      <td>87.7236</td>\n",
       "      <td>166.551</td>\n",
       "      <td>401.152</td>\n",
       "      <td>3467.67</td>\n",
       "    </tr>\n",
       "  </tbody>\n",
       "</table>\n",
       "</div>"
      ],
      "text/plain": [
       "       iFoodAtHome iFoodAway iHousing iUtilites iClothingAndBeauty  \\\n",
       "30000      305.776   160.093  634.992   243.681            68.5384   \n",
       "60000       483.53   253.159  1004.13   385.338            108.381   \n",
       "90000      513.558   261.419   1269.7   400.632            117.844   \n",
       "120000     548.523   400.239  1494.71   456.976             192.13   \n",
       "250000     698.552    608.15  2683.24   530.184            338.563   \n",
       "\n",
       "       iTransportation iHealthcare iEntertainment iMiscellaneous  \\\n",
       "30000          467.171     347.745        149.895        47.4426   \n",
       "60000          738.748     549.896        237.033         75.022   \n",
       "90000          1259.07     601.784        263.897        71.4566   \n",
       "120000            1180     691.405        414.531        84.5174   \n",
       "250000         1732.12     716.051        561.145        275.966   \n",
       "\n",
       "       iCharitableAndFamilyGiving iInsurance iEducation iHousingPrinciple  \\\n",
       "30000                     126.435     17.224      8.887           77.8804   \n",
       "60000                     199.935    27.2366    14.0532           123.154   \n",
       "90000                     204.823    45.9073    41.8552           190.761   \n",
       "120000                    375.829    59.8164    71.4167           277.347   \n",
       "250000                    671.923    87.7236    166.551           401.152   \n",
       "\n",
       "         ExpInc  \n",
       "30000   2494.79  \n",
       "60000   3945.06  \n",
       "90000   3335.41  \n",
       "120000  3420.81  \n",
       "250000  3467.67  "
      ]
     },
     "execution_count": 38,
     "metadata": {},
     "output_type": "execute_result"
    }
   ],
   "source": [
    "usersIncome = [30000, 60000, 90000, 120000, 250000]\n",
    "def getIncomeBracket(income):\n",
    "    for bracket in range(len(incomeBrackets)-2,0,-1):\n",
    "        if income > incomeBrackets[bracket]:\n",
    "            return bracket\n",
    "            \n",
    "\n",
    "exampleExpenses = pd.DataFrame(columns = cleanPercentages2.columns, index = range(len(usersIncome)))\n",
    "for user in usersIncome:\n",
    "    userBracket = getIncomeBracket(user)\n",
    "    userExpendAmount = getExpendPercent(user) * user\n",
    "    userBaseExpenses = (cleanPercentages2.loc[userBracket]*userExpendAmount)/12\n",
    "    exampleExpenses.loc[usersIncome.index(user)] = userBaseExpenses\n",
    "\n",
    "exampleExpenses.index = usersIncome\n",
    "\n",
    "exampleExpenses"
   ]
  },
  {
   "cell_type": "markdown",
   "metadata": {},
   "source": [
    "# Creating CSV fo percentages"
   ]
  },
  {
   "cell_type": "code",
   "execution_count": 39,
   "metadata": {},
   "outputs": [],
   "source": [
    "# cleanPercentages2.to_csv(\"percentage60to75.csv\")"
   ]
  },
  {
   "cell_type": "markdown",
   "metadata": {},
   "source": [
    "# Importing CSVs of pre-Subset Percentages CSVs"
   ]
  },
  {
   "cell_type": "code",
   "execution_count": 40,
   "metadata": {},
   "outputs": [],
   "source": [
    "ageRange1 = pd.read_csv(\"percentage55to64.csv\", index_col=0)\n",
    "ageRange2 = pd.read_csv(\"percentage60to75.csv\", index_col=0)\n",
    "ageRange3 = pd.read_csv(\"percentage65up.csv\", index_col=0)"
   ]
  },
  {
   "cell_type": "markdown",
   "metadata": {},
   "source": [
    "### Plotting the differences between Age brackets"
   ]
  },
  {
   "cell_type": "code",
   "execution_count": 41,
   "metadata": {},
   "outputs": [
    {
     "data": {
      "image/png": "[encoded data removed]",
      "text/plain": [
       "<matplotlib.figure.Figure at 0x11793cb70>"
      ]
     },
     "metadata": {},
     "output_type": "display_data"
    }
   ],
   "source": [
    "n_groups = 3\n",
    "values1 = ageRange1.ExpInc\n",
    "values2 = ageRange2.ExpInc\n",
    "values3 = ageRange3.ExpInc\n",
    "\n",
    "fig, ax = plt.subplots()\n",
    "index = np.arange(n_groups)\n",
    "bar_width = 0.25\n",
    "opacity = 1\n",
    " \n",
    "rects1 = plt.bar(ageRange1.index, values1, bar_width,\n",
    "                 alpha=opacity,\n",
    "                 color='r',\n",
    "                 label='55-64')\n",
    " \n",
    "rects2 = plt.bar(ageRange2.index + bar_width, values2, bar_width,\n",
    "                 alpha=opacity,\n",
    "                 color='g',\n",
    "                 label='60-75')\n",
    "\n",
    "rects3 = plt.bar(ageRange3.index + (bar_width * 2), values3, bar_width,\n",
    "                 alpha=opacity,\n",
    "                 color='b',\n",
    "                 label='65+')\n",
    "\n",
    "plt.xlabel('Income Class')\n",
    "plt.ylabel('Percent of Income Expended')\n",
    "plt.title('Percent of Income Expent per Income Class')\n",
    "plt.legend()\n",
    "plt.show()"
   ]
  },
  {
   "cell_type": "code",
   "execution_count": 42,
   "metadata": {},
   "outputs": [
    {
     "data": {
      "image/png": "[encoded data removed]",
      "text/plain": [
       "<matplotlib.figure.Figure at 0x1178c2240>"
      ]
     },
     "metadata": {},
     "output_type": "display_data"
    }
   ],
   "source": [
    "n_groups = 3\n",
    "values1 = ageRange1.iHousing\n",
    "values2 = ageRange2.iHousing\n",
    "values3 = ageRange3.iHousing\n",
    "\n",
    "fig, ax = plt.subplots()\n",
    "index = np.arange(n_groups)\n",
    "bar_width = 0.25\n",
    "opacity = 1\n",
    " \n",
    "rects1 = plt.bar(ageRange1.index, values1, bar_width,\n",
    "                 alpha=opacity,\n",
    "                 color='r',\n",
    "                 label='55-64')\n",
    " \n",
    "rects2 = plt.bar(ageRange2.index + bar_width, values2, bar_width,\n",
    "                 alpha=opacity,\n",
    "                 color='g',\n",
    "                 label='60-75')\n",
    "\n",
    "rects3 = plt.bar(ageRange3.index + (bar_width * 2), values3, bar_width,\n",
    "                 alpha=opacity,\n",
    "                 color='b',\n",
    "                 label='65+')\n",
    "\n",
    "plt.xlabel('Income Class')\n",
    "plt.ylabel('Percent of Total Expenditures')\n",
    "plt.title('Percent Spent on Housing per Income Class')\n",
    "plt.legend()\n",
    "plt.show()"
   ]
  },
  {
   "cell_type": "code",
   "execution_count": 43,
   "metadata": {},
   "outputs": [
    {
     "data": {
      "image/png": "[encoded data removed]",
      "text/plain": [
       "<matplotlib.figure.Figure at 0x11b1f3780>"
      ]
     },
     "metadata": {},
     "output_type": "display_data"
    }
   ],
   "source": [
    "n_groups = 3\n",
    "values1 = ageRange1.iHealthcare\n",
    "values2 = ageRange2.iHealthcare\n",
    "values3 = ageRange3.iHealthcare\n",
    "\n",
    "fig, ax = plt.subplots()\n",
    "index = np.arange(n_groups)\n",
    "bar_width = 0.25\n",
    "opacity = 1\n",
    " \n",
    "rects1 = plt.bar(ageRange1.index, values1, bar_width,\n",
    "                 alpha=opacity,\n",
    "                 color='r',\n",
    "                 label='55-64')\n",
    " \n",
    "rects2 = plt.bar(ageRange2.index + bar_width, values2, bar_width,\n",
    "                 alpha=opacity,\n",
    "                 color='g',\n",
    "                 label='60-75')\n",
    "\n",
    "rects3 = plt.bar(ageRange3.index + (bar_width * 2), values3, bar_width,\n",
    "                 alpha=opacity,\n",
    "                 color='b',\n",
    "                 label='65+')\n",
    "\n",
    "plt.xlabel('Income Class')\n",
    "plt.ylabel('Percent of Total Expenditures')\n",
    "plt.title('Percent Spent on Healthcare per Income Class')\n",
    "plt.legend()\n",
    "plt.show()"
   ]
  },
  {
   "cell_type": "code",
   "execution_count": 44,
   "metadata": {},
   "outputs": [
    {
     "data": {
      "image/png": "[encoded data removed]",
      "text/plain": [
       "<matplotlib.figure.Figure at 0x117fa3048>"
      ]
     },
     "metadata": {},
     "output_type": "display_data"
    }
   ],
   "source": [
    "n_groups = 2\n",
    "values1 = ageRange1.iTransportation\n",
    "values2 = ageRange2.iTransportation\n",
    "values3 = ageRange3.iTransportation\n",
    "\n",
    "fig, ax = plt.subplots()\n",
    "index = np.arange(n_groups)\n",
    "bar_width = 0.25\n",
    "opacity = 1\n",
    " \n",
    "rects1 = plt.bar(ageRange1.index, values1, bar_width,\n",
    "                 alpha=opacity,\n",
    "                 color='r',\n",
    "                 label='55-64')\n",
    " \n",
    "rects2 = plt.bar(ageRange2.index + bar_width, values2, bar_width,\n",
    "                 alpha=opacity,\n",
    "                 color='g',\n",
    "                 label='60-75')\n",
    "\n",
    "rects3 = plt.bar(ageRange3.index + (bar_width * 2), values3, bar_width,\n",
    "                 alpha=opacity,\n",
    "                 color='b',\n",
    "                 label='65+')\n",
    "\n",
    "plt.xlabel('Income Class')\n",
    "plt.ylabel('Percent of Total Expenditures')\n",
    "plt.title('Percent Spent on Transportation per Income Class')\n",
    "plt.legend()\n",
    "plt.show()"
   ]
  },
  {
   "cell_type": "markdown",
   "metadata": {},
   "source": [
    "# Thoughts on the difference between 55-64, 60-75, and 65+\n",
    "- On average: 55-64 < 60-75 < 65+ in terms of expenditure percentage\n",
    "- This could be because the people in the 60-75 and 65+ bracket are actually retired meaning their income is lower?\n",
    " - will check this\n",
    "\n",
    "## What each bracket might represent\n",
    "- 55-64 simulates that specific time right before and right at the begining of retirment\n",
    "- 60-75 simulates the time during retirement with some non-retired CUs\n",
    "- 65+ is a higher potential to show people who have actually retired"
   ]
  }
 ],
 "metadata": {
  "kernelspec": {
   "display_name": "Python 3",
   "language": "python",
   "name": "python3"
  },
  "language_info": {
   "codemirror_mode": {
    "name": "ipython",
    "version": 3
   },
   "file_extension": ".py",
   "mimetype": "text/x-python",
   "name": "python",
   "nbconvert_exporter": "python",
   "pygments_lexer": "ipython3",
   "version": "3.6.0"
  },
  "widgets": {
   "state": {
    "0068692ac0bc411882a87b1a14dcfe10": {
     "views": [
      {
       "cell_index": 4
      }
     ]
    },
    "0bb2a8ec3efd4b92929860f0bd5905e0": {
     "views": [
      {
       "cell_index": 4
      }
     ]
    },
    "100206eef84d4173abc40ab8904f8ad5": {
     "views": [
      {
       "cell_index": 4
      }
     ]
    },
    "1b9d1660c8c64ec9952ea8a110d1f45b": {
     "views": [
      {
       "cell_index": 4
      }
     ]
    },
    "206b339cc5fa431eb2bfdf4a002fbee4": {
     "views": [
      {
       "cell_index": 4
      }
     ]
    },
    "27544fcbcde6482ab4785aca6aad69f9": {
     "views": [
      {
       "cell_index": 4
      }
     ]
    },
    "2c4068db76574349ba22032b0e0389bf": {
     "views": [
      {
       "cell_index": 4
      }
     ]
    },
    "385321efd2764b82add0b60833dab624": {
     "views": [
      {
       "cell_index": 4
      }
     ]
    },
    "48f62472d15647e9b82c65dcdbdc25b1": {
     "views": [
      {
       "cell_index": 4
      }
     ]
    },
    "516d2b0274bb45bfaec4433d691dc6ec": {
     "views": [
      {
       "cell_index": 4
      }
     ]
    },
    "522fbf9e096342859c5801ecb6e99658": {
     "views": [
      {
       "cell_index": 4
      }
     ]
    },
    "6fdc0a4cf68b438fac80ab3e4b83d19f": {
     "views": [
      {
       "cell_index": 4
      }
     ]
    },
    "91413111d50544c48166272bb0472126": {
     "views": [
      {
       "cell_index": 4
      }
     ]
    },
    "a89892d026274481bc6291f33d61d7e5": {
     "views": [
      {
       "cell_index": 4
      }
     ]
    },
    "ba65bfee910c4112af5658a6e6a2ef70": {
     "views": [
      {
       "cell_index": 4
      }
     ]
    },
    "c5763faee881469485888bfe55e988d1": {
     "views": [
      {
       "cell_index": 4
      }
     ]
    },
    "ca4f506cd0b14565b07e8899cf82befe": {
     "views": [
      {
       "cell_index": 4
      }
     ]
    },
    "d3b4abc7c62c4b0aa661a9f52260198b": {
     "views": [
      {
       "cell_index": 4
      }
     ]
    },
    "dfcd57085b0c46b6ac49e9f39fb3ffb5": {
     "views": [
      {
       "cell_index": 4
      }
     ]
    },
    "ed7c8b262ece470aafa8df3c2730a563": {
     "views": [
      {
       "cell_index": 4
      }
     ]
    },
    "f31852a1231145c08bf5cf8b6a3e888c": {
     "views": [
      {
       "cell_index": 4
      }
     ]
    },
    "fc7c33a10615450991993c8d4d270f86": {
     "views": [
      {
       "cell_index": 4
      }
     ]
    }
   },
   "version": "1.2.0"
  }
 },
 "nbformat": 4,
 "nbformat_minor": 2
}
