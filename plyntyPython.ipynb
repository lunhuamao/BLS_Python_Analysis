{
 "cells": [
  {
   "cell_type": "markdown",
   "metadata": {
    "slideshow": {
     "slide_type": "slide"
    }
   },
   "source": [
    "# Plynty Bureau of Labor Statistics Consumer Expenditure Analysis\n",
    "\n",
    "[BLS Comsumer Expenditure Survey](https://www.bls.gov/cex/home.htm)\n",
    "\n",
    "[Interview Data Dictionary](https://www.bls.gov/cex/2015/csxintvwdata.pdf)\n",
    "\n",
    "[Diary Data Dictionary](https://www.bls.gov/cex/2015/csxdiarydata.pdf)\n",
    "\n",
    "### Where to download the BLS CE PUMD\n",
    "- The zip files download automatically\n",
    "- To download the Stub files open the links then right click and choose \"Save As...\"\n",
    "\n",
    "[2015 interview zip file](https://www.bls.gov/cex/pumd/data/comma/intrvw15.zip)\n",
    "\n",
    "[2015 diary zip file](https://www.bls.gov/cex/pumd/data/comma/diary15.zip)\n",
    "\n",
    "[2015 IntStub file](https://www.bls.gov/cex/pumd/2014/csxintstub.txt)\n",
    "\n",
    "[2015 IStub file](https://www.bls.gov/cex/pumd/2014/csxistub.txt)\n",
    "\n",
    "[2015 DStub file](https://www.bls.gov/cex/pumd/2014/csxdstub.txt)\n",
    "\n",
    "### This Scripts Goals for Plynty\n",
    "- Create an easy to use analysis script for the BLS CE PUMD \n",
    "- Create a csv files that has average percentages spent on plynty categories for certain income classes\n",
    "- Develop a \n",
    "- Create incomeclasses that are stastically significant"
   ]
  },
  {
   "cell_type": "markdown",
   "metadata": {
    "slideshow": {
     "slide_type": "slide"
    }
   },
   "source": [
    "##### Importing Libraries "
   ]
  },
  {
   "cell_type": "code",
   "execution_count": 1,
   "metadata": {
    "collapsed": false,
    "slideshow": {
     "slide_type": "subslide"
    }
   },
   "outputs": [
    {
     "name": "stdout",
     "output_type": "stream",
     "text": [
      "Dependencies Loaded...\n"
     ]
    }
   ],
   "source": [
    "import pandas as pd\n",
    "import numpy as np\n",
    "import os\n",
    "import subprocess\n",
    "import math\n",
    "import matplotlib.pyplot as plt\n",
    "from scipy.interpolate import *\n",
    "from plyntywidgets import *\n",
    "from blsFunctions import *\n",
    "print(\"Dependencies Loaded...\")"
   ]
  },
  {
   "cell_type": "markdown",
   "metadata": {},
   "source": [
    "### Setting Parameters\n",
    "- year: the last two number associated with the year of the data\n",
    "    for example for data from 2015: year = \"15\"\n",
    "- minAge: the low bound (inclusive) of the age range you wish to subset by\n",
    "- maxAge: the high bound (inclusive) of the age range you wish to subset by\n",
    "- incomeBrackets: array of numbers that you wish to create the new income classes\n",
    "    the bracketing works as follows (1,2], (2,3], (3,4]\n",
    "- filesToRead: the strings of the abbreviations associated with the files you wish to read\n",
    "    options are: \"all\", \"diary\", \"interview\", \"dtbd\", \"expd\", \"fmld\", \"memd\", \"fmli\", \"itbi\", \"memi\", \"mtbi\", \"ntaxi\""
   ]
  },
  {
   "cell_type": "code",
   "execution_count": 2,
   "metadata": {
    "collapsed": false
   },
   "outputs": [],
   "source": [
    "year = \"15\"\n",
    "filesToRead = [\"fmli\", \"mtbi\"]\n",
    "incomeBrackets = [-10000000, 10000, 20000, 40000, 60000, 80000, 90000, 130000, 160000, 240000, 9990000]\n",
    "\n",
    "# minAge = 55\n",
    "# maxAge = 64\n",
    "\n",
    "minAge = 60\n",
    "maxAge = 75\n",
    "\n",
    "# minAge = 65\n",
    "# maxAge = 130"
   ]
  },
  {
   "cell_type": "markdown",
   "metadata": {},
   "source": [
    "### Setting Directory locations and FileNames on your Local Machine"
   ]
  },
  {
   "cell_type": "code",
   "execution_count": 3,
   "metadata": {
    "collapsed": false
   },
   "outputs": [],
   "source": [
    "# directory in which the diary and interview folders are held is located\n",
    "diaryDir = \"/Users/adyke/Vizuri/CE_PUMD/diary15/\"\n",
    "interviewDir = \"/Users/adyke/Vizuri/CE_PUMD/intrvw15/\"\n",
    "\n",
    "# Directory where stubfiles are located\n",
    "pathToStubFileDir = \"/Users/adyke/Vizuri/Stubfiles/\"\n",
    "rScriptStubfilePathAndName = \"/Users/adyke/Vizuri/BLS_Python_Analysis/creatingStubCsvs.R\"\n",
    "\n",
    "# Filenames of the Stubfiles\n",
    "IStubFileName = \"IStub2015.txt\"\n",
    "DStubFileName = \"DStub2015.txt\"\n",
    "IntStubFileName = \"IntStub2015.txt\"\n",
    "\n",
    "# name of interview dir within the interview dir\n",
    "insideIntrvwDirName = \"intrvw\"\n",
    "\n",
    "# name of the directory where you want the output percentages csv\n",
    "outputDir = \"/Users/adyke/Vizuri/outputFiles/\""
   ]
  },
  {
   "cell_type": "markdown",
   "metadata": {},
   "source": [
    "### Reading in the files specified by FilesToRead"
   ]
  },
  {
   "cell_type": "code",
   "execution_count": 4,
   "metadata": {
    "collapsed": false
   },
   "outputs": [],
   "source": [
    "if(len(filesToRead)==0):\n",
    "    print(\"The files to read variable is empty.\")\n",
    "\n",
    "# looping through each file to read\n",
    "for file in filesToRead:\n",
    "    if file == \"dtbd\" or file == \"all\" or file == \"diary\":\n",
    "        dtbd = readFileSet(\"dtbd\", diaryDir)\n",
    "    if file == \"expd\" or file == \"all\" or file == \"diary\":\n",
    "        expd = readFileSet(\"expd\", diaryDir)\n",
    "    if file == \"fmld\" or file == \"all\" or file == \"diary\":\n",
    "        fmld = readFileSet(\"fmld\", diaryDir)\n",
    "    if file == \"memd\" or file == \"all\" or file == \"diary\":\n",
    "        memd = readFileSet(\"memd\", diaryDir)\n",
    "    if file == \"fmli\" or file == \"all\" or file == \"interview\":\n",
    "        fmli = readFileSet(\"fmli\", interviewDir+insideIntrvwDirName+year+\"/\")\n",
    "    if file == \"itbi\" or file == \"all\" or file == \"interview\":\n",
    "        itbi = readFileSet(\"itbi\", interviewDir+insideIntrvwDirName+year+\"/\")\n",
    "    if file == \"itii\" or file == \"all\" or file == \"interview\":\n",
    "        itii = readFileSet(\"itii\", interviewDir+insideIntrvwDirName+year+\"/\")\n",
    "    if file == \"memi\" or file == \"all\" or file == \"interview\":\n",
    "        memi = readFileSet(\"memi\", interviewDir+insideIntrvwDirName+year+\"/\")\n",
    "    if file == \"mtbi\" or file == \"all\" or file == \"interview\":\n",
    "        mtbi = readFileSet(\"mtbi\", interviewDir+insideIntrvwDirName+year+\"/\")\n",
    "        mtbi.UCC = mtbi.UCC.astype(str)\n",
    "    if file == \"ntaxi\" or file == \"all\" or file == \"interview\":\n",
    "        ntaxi = readFileSet(\"ntaxi\", interviewDir+insideIntrvwDirName+year+\"/\")\n",
    "# does not read form the expn or para subdirectories\n"
   ]
  },
  {
   "cell_type": "markdown",
   "metadata": {},
   "source": [
    "### Using R to convert the Stub files into csv files"
   ]
  },
  {
   "cell_type": "code",
   "execution_count": 5,
   "metadata": {
    "collapsed": false
   },
   "outputs": [
    {
     "name": "stdout",
     "output_type": "stream",
     "text": [
      "Stubfiles Exist\n"
     ]
    }
   ],
   "source": [
    "if os.path.isfile(pathToStubFileDir+\"DStub.csv\") and os.path.isfile(pathToStubFileDir+\"IStub.csv\") and os.path.isfile(pathToStubFileDir+\"IntStub.csv\"):\n",
    "    print(\"Stubfiles Exist\")\n",
    "else:\n",
    "    # converting the stub files via R \n",
    "    subprocess.call(\"Rscript \"+rScriptStubfilePathAndName+\" \"+pathToStubFileDir+\" \"+IStubFileName+\" \"+DStubFileName+\" \"+IntStubFileName, shell=True)\n",
    "    print(\"Stubfile Csvs created in \"+pathToStubFileDir)"
   ]
  },
  {
   "cell_type": "markdown",
   "metadata": {},
   "source": [
    "### Reading and Cleaning the stubfile CSVs into pandas dataframes"
   ]
  },
  {
   "cell_type": "code",
   "execution_count": 6,
   "metadata": {
    "collapsed": false
   },
   "outputs": [],
   "source": [
    "# reading in the stubfiles\n",
    "DStub = pd.read_csv(pathToStubFileDir+\"DStub.csv\")\n",
    "IStub = pd.read_csv(pathToStubFileDir+\"IStub.csv\")\n",
    "IntStub = pd.read_csv(pathToStubFileDir+\"IntStub.csv\")\n",
    "\n",
    "# removing the index from the stufile\n",
    "DStub = DStub.drop(DStub.columns[0], axis=1)\n",
    "IStub = IStub.drop(IStub.columns[0], axis=1)\n",
    "IntStub = IntStub.drop(IntStub.columns[0], axis=1)\n",
    "\n",
    "# replacing * with 0 in the level columns\n",
    "DStub.loc[DStub.level == \"*\", 'level'] = 0\n",
    "IStub.loc[IStub.level == \"*\", 'level'] = 0\n",
    "IntStub.loc[IntStub.level == \"*\", 'level'] = 0"
   ]
  },
  {
   "cell_type": "markdown",
   "metadata": {},
   "source": [
    "# Starting the Plynty calculations"
   ]
  },
  {
   "cell_type": "markdown",
   "metadata": {},
   "source": [
    "### Creating the UCC roll ups for Plynty"
   ]
  },
  {
   "cell_type": "code",
   "execution_count": 7,
   "metadata": {
    "collapsed": false
   },
   "outputs": [],
   "source": [
    "# creating UCC rollups for the interview files for plynty categories\n",
    "iTotalExp = categoricalUCCRollUp(IStub,[\"TOTALE\"])\n",
    "iFoodAtHome = categoricalUCCRollUp(IStub, [\"FOODHO\", \"ALCHOM\"])\n",
    "iFoodAway = categoricalUCCRollUp(IStub, [\"FOODAW\", \"ALCAWA\"])\n",
    "iHousing = categoricalUCCRollUp(IStub, [\"HOUSIN\"], ignoreUCCs = categoricalUCCRollUp(IStub, [\"UTILS\"]))\n",
    "iUtilites = categoricalUCCRollUp(IStub, [\"UTILS\"])\n",
    "iClothingAndBeauty = categoricalUCCRollUp(IStub, [\"APPARE\",\"PERSCA\"])\n",
    "iTransportation = categoricalUCCRollUp(IStub, [\"TRANS\"])\n",
    "iHealthcare = categoricalUCCRollUp(IStub, [\"HEALTH\"])\n",
    "iEntertainment = categoricalUCCRollUp(IStub, [\"ENTRTA\",\"READIN\"])\n",
    "iMiscellaneous = categoricalUCCRollUp(IStub, [\"MISC\",\"TOBACC\"])\n",
    "iCharitableAndFamilyGiving = categoricalUCCRollUp(IStub, [\"CASHCO\"])\n",
    "iInsurance = categoricalUCCRollUp(IStub, [\"LIFEIN\"])\n",
    "iEducation = categoricalUCCRollUp(IStub, [\"EDUCAT\"])\n",
    "iHousingPrinciple = categoricalUCCRollUp(IStub,[\"MRTPRI\"])"
   ]
  },
  {
   "cell_type": "markdown",
   "metadata": {},
   "source": [
    "### Adding and Rolling up the MTBI Categories into mtbiRolledUp\n",
    "\n",
    "outputs from cell:\n",
    "- mtbiTrimmed: Dataframe with NewID, TotatlExp and each entry of cost."
   ]
  },
  {
   "cell_type": "code",
   "execution_count": 8,
   "metadata": {
    "collapsed": false
   },
   "outputs": [],
   "source": [
    "rollupNames = [\"iTotalExp\",\"iFoodAtHome\",\"iFoodAway\",\"iHousing\",\"iUtilites\",\"iClothingAndBeauty\",\"iTransportation\",\"iHealthcare\",\"iEntertainment\",\"iMiscellaneous\",\"iCharitableAndFamilyGiving\",\"iInsurance\",\"iEducation\",\"iHousingPrinciple\"]\n",
    "rollups = [iTotalExp,iFoodAtHome,iFoodAway,iHousing,iUtilites,iClothingAndBeauty,iTransportation,iHealthcare,iEntertainment,iMiscellaneous,iCharitableAndFamilyGiving,iInsurance,iEducation,iHousingPrinciple]\n",
    "\n",
    "mtbiRolledUp = rollUpDataframe(mtbi, rollupNames, rollups, negativeColumns=[\"iHousingPrinciple\"], multiple=4)\n",
    "\n",
    "mtbiTrimmed = mtbiRolledUp.loc[: , ['NEWID','iTotalExp','iFoodAtHome','iFoodAway','iHousing','iUtilites','iClothingAndBeauty','iTransportation','iHealthcare','iEntertainment','iMiscellaneous','iCharitableAndFamilyGiving','iInsurance','iEducation','iHousingPrinciple']]"
   ]
  },
  {
   "cell_type": "markdown",
   "metadata": {},
   "source": [
    "### Creating the Sum for all expenditure category columns for each NEWID\n",
    "nonZeroColumns is an array that contains the names of columns that should not be Zero\n",
    "\n",
    "outputs from cell:\n",
    "- iExpensesByNewID: total expenses for each category for each NewID"
   ]
  },
  {
   "cell_type": "code",
   "execution_count": 9,
   "metadata": {
    "collapsed": false
   },
   "outputs": [],
   "source": [
    "# adding up all columns for each new id\n",
    "iExpensesByNewID = mtbiTrimmed.groupby(['NEWID'],as_index=False).sum()\n",
    "# removing rows with zero values in key categories\n",
    "nonZeroColumns = ['iFoodAtHome','iFoodAway','iHousing','iUtilites']\n",
    "for column in nonZeroColumns:\n",
    "    iExpensesByNewID = iExpensesByNewID[iExpensesByNewID[column] != 0]\n",
    "iExpensesByNewID['iHousing'] = iExpensesByNewID['iHousing']+iExpensesByNewID['iHousingPrinciple']"
   ]
  },
  {
   "cell_type": "markdown",
   "metadata": {},
   "source": [
    "### Plotting the total population CU counts"
   ]
  },
  {
   "cell_type": "code",
   "execution_count": 10,
   "metadata": {},
   "outputs": [
    {
     "data": {
      "image/png": "[encoded data removed]",
      "text/plain": [
       "<matplotlib.figure.Figure at 0x1156e4a90>"
      ]
     },
     "metadata": {},
     "output_type": "display_data"
    }
   ],
   "source": [
    "fmliTotalRecoded = binColumn(dataframe=fmli, toBinColumnName=\"FINCBTXM\", binValues=incomeBrackets, binnedColumnName=\"INCLASS\", labels=range(0,len(incomeBrackets)-1))\n",
    "\n",
    "plt.bar(fmliTotalRecoded.INCLASS.value_counts().index, (fmliTotalRecoded.INCLASS.value_counts().values)/(len(fmliTotalRecoded)), color=\"black\")\n",
    "plt.suptitle(\"Percent of CUs in each Income class\")\n",
    "plt.title(\"All CUs\")\n",
    "plt.xlabel(\"Income Class\")\n",
    "plt.ylabel(\"Percent of CUs\")\n",
    "plt.show()"
   ]
  },
  {
   "cell_type": "markdown",
   "metadata": {},
   "source": [
    "### Subsetting FMLI for age and recoding the incomebrackets"
   ]
  },
  {
   "cell_type": "code",
   "execution_count": 11,
   "metadata": {
    "collapsed": false,
    "scrolled": true
   },
   "outputs": [],
   "source": [
    "# subsetting for the age bracket\n",
    "fmliAge = subsetDataframe(dataframe=fmli, columnName=\"AGE_REF\", minValue=minAge, maxValue=maxAge)\n",
    "fmliAge = fmliAge.reset_index()\n",
    "\n",
    "# recoding the income brackets\n",
    "fmliRecoded = binColumn(dataframe=fmliAge, toBinColumnName=\"FINCBTXM\", binValues=incomeBrackets, binnedColumnName=\"INCLASS\", labels=range(1,len(incomeBrackets)))"
   ]
  },
  {
   "cell_type": "markdown",
   "metadata": {},
   "source": [
    "### Displaying the number of CUs where the reference person is retired"
   ]
  },
  {
   "cell_type": "code",
   "execution_count": 12,
   "metadata": {},
   "outputs": [
    {
     "name": "stdout",
     "output_type": "stream",
     "text": [
      "The percent of retired CUs is: 0.478\n"
     ]
    }
   ],
   "source": [
    "print(\"The percent of retired CUs is: \"+str(round(len(fmliRecoded.INCNONW1.loc[fmliRecoded.INCNONW1 == 1])/len(fmliRecoded.INCNONW1),3)))"
   ]
  },
  {
   "cell_type": "markdown",
   "metadata": {},
   "source": [
    "### Adding the Income class colum to the ExpensesByNewID dataframe"
   ]
  },
  {
   "cell_type": "code",
   "execution_count": 13,
   "metadata": {
    "collapsed": false
   },
   "outputs": [],
   "source": [
    "# combining the fmli and iExpensesByNewID\n",
    "inclassExpenses = pd.merge(left=fmliRecoded[['NEWID','INCLASS','FINCBTXM']],right=iExpensesByNewID, on=['NEWID'])\n",
    "# inclassExpenses"
   ]
  },
  {
   "cell_type": "markdown",
   "metadata": {},
   "source": [
    "### Averaging the expenditures based on incomebrackets\n",
    "inclassAverages is average money spent for each incomeclass"
   ]
  },
  {
   "cell_type": "code",
   "execution_count": 14,
   "metadata": {
    "collapsed": false,
    "scrolled": false
   },
   "outputs": [],
   "source": [
    "# getting mean for all columns with the same income class besides newId and creating new dataframe\n",
    "inclassAverages = round(inclassExpenses.ix[: ,inclassExpenses.columns != 'NEWID'].groupby(['INCLASS'],as_index=False).mean(),2)\n",
    "# inclassAverages"
   ]
  },
  {
   "cell_type": "markdown",
   "metadata": {},
   "source": [
    "### Converting the Average expenditures for income classes into percentages of expenditures\n",
    "percentages is the percent of total expenditure for each category for each incomeclass "
   ]
  },
  {
   "cell_type": "code",
   "execution_count": 15,
   "metadata": {
    "collapsed": false
   },
   "outputs": [],
   "source": [
    "# creating new dataframe for the percentages that only includes the plynty categories\n",
    "percentages = inclassAverages.loc[:,rollupNames[1:]]\n",
    "for column in rollupNames[1:]:\n",
    "    percentages[column] = inclassAverages[column]/inclassAverages.iTotalExp\n",
    "percentages['ExpInc'] = inclassAverages['iTotalExp']/inclassAverages['FINCBTXM']\n",
    "\n",
    "# truncate the max ExpInc\n",
    "percentages.ExpInc.ix[percentages['ExpInc']>1] = 1\n",
    "\n",
    "# percentages"
   ]
  },
  {
   "cell_type": "markdown",
   "metadata": {},
   "source": [
    "# Exploring Issues in the data"
   ]
  },
  {
   "cell_type": "markdown",
   "metadata": {},
   "source": [
    "### Getting Description of the inclassExpenses dataframe"
   ]
  },
  {
   "cell_type": "code",
   "execution_count": 16,
   "metadata": {
    "collapsed": false
   },
   "outputs": [
    {
     "data": {
      "text/html": [
       "<div>\n",
       "<table border=\"1\" class=\"dataframe\">\n",
       "  <thead>\n",
       "    <tr style=\"text-align: right;\">\n",
       "      <th></th>\n",
       "      <th>count</th>\n",
       "      <th>mean</th>\n",
       "      <th>std</th>\n",
       "      <th>min</th>\n",
       "      <th>25%</th>\n",
       "      <th>50%</th>\n",
       "      <th>75%</th>\n",
       "      <th>max</th>\n",
       "    </tr>\n",
       "  </thead>\n",
       "  <tbody>\n",
       "    <tr>\n",
       "      <th>0</th>\n",
       "      <td>270.0</td>\n",
       "      <td>9673.507407</td>\n",
       "      <td>9635.872655</td>\n",
       "      <td>30.0</td>\n",
       "      <td>3001.5</td>\n",
       "      <td>6626.0</td>\n",
       "      <td>12224.50</td>\n",
       "      <td>51036.0</td>\n",
       "    </tr>\n",
       "    <tr>\n",
       "      <th>1</th>\n",
       "      <td>664.0</td>\n",
       "      <td>8615.402108</td>\n",
       "      <td>11913.176875</td>\n",
       "      <td>4.0</td>\n",
       "      <td>2969.0</td>\n",
       "      <td>5406.0</td>\n",
       "      <td>9891.00</td>\n",
       "      <td>181360.0</td>\n",
       "    </tr>\n",
       "    <tr>\n",
       "      <th>2</th>\n",
       "      <td>1449.0</td>\n",
       "      <td>10021.600414</td>\n",
       "      <td>10905.101171</td>\n",
       "      <td>-22664.0</td>\n",
       "      <td>3236.0</td>\n",
       "      <td>7224.0</td>\n",
       "      <td>12532.00</td>\n",
       "      <td>105052.0</td>\n",
       "    </tr>\n",
       "    <tr>\n",
       "      <th>3</th>\n",
       "      <td>1026.0</td>\n",
       "      <td>11659.121832</td>\n",
       "      <td>10299.216942</td>\n",
       "      <td>108.0</td>\n",
       "      <td>4621.0</td>\n",
       "      <td>9168.0</td>\n",
       "      <td>15486.00</td>\n",
       "      <td>94860.0</td>\n",
       "    </tr>\n",
       "    <tr>\n",
       "      <th>4</th>\n",
       "      <td>675.0</td>\n",
       "      <td>15275.733333</td>\n",
       "      <td>13203.818164</td>\n",
       "      <td>90.0</td>\n",
       "      <td>6930.0</td>\n",
       "      <td>12284.0</td>\n",
       "      <td>20150.00</td>\n",
       "      <td>146416.0</td>\n",
       "    </tr>\n",
       "    <tr>\n",
       "      <th>5</th>\n",
       "      <td>263.0</td>\n",
       "      <td>16770.471483</td>\n",
       "      <td>14208.363513</td>\n",
       "      <td>500.0</td>\n",
       "      <td>8388.0</td>\n",
       "      <td>13184.0</td>\n",
       "      <td>21494.00</td>\n",
       "      <td>107284.0</td>\n",
       "    </tr>\n",
       "    <tr>\n",
       "      <th>6</th>\n",
       "      <td>646.0</td>\n",
       "      <td>19896.789474</td>\n",
       "      <td>18711.166439</td>\n",
       "      <td>4.0</td>\n",
       "      <td>8661.0</td>\n",
       "      <td>15226.0</td>\n",
       "      <td>26113.75</td>\n",
       "      <td>170024.0</td>\n",
       "    </tr>\n",
       "    <tr>\n",
       "      <th>7</th>\n",
       "      <td>205.0</td>\n",
       "      <td>27140.726829</td>\n",
       "      <td>25022.454063</td>\n",
       "      <td>1920.0</td>\n",
       "      <td>13292.0</td>\n",
       "      <td>22872.0</td>\n",
       "      <td>31732.00</td>\n",
       "      <td>227912.0</td>\n",
       "    </tr>\n",
       "    <tr>\n",
       "      <th>8</th>\n",
       "      <td>275.0</td>\n",
       "      <td>32254.814545</td>\n",
       "      <td>46560.863337</td>\n",
       "      <td>1366.0</td>\n",
       "      <td>12258.0</td>\n",
       "      <td>24752.0</td>\n",
       "      <td>40234.50</td>\n",
       "      <td>700492.0</td>\n",
       "    </tr>\n",
       "    <tr>\n",
       "      <th>9</th>\n",
       "      <td>163.0</td>\n",
       "      <td>42345.693252</td>\n",
       "      <td>47280.665927</td>\n",
       "      <td>1820.0</td>\n",
       "      <td>16218.0</td>\n",
       "      <td>32484.0</td>\n",
       "      <td>49722.50</td>\n",
       "      <td>312149.0</td>\n",
       "    </tr>\n",
       "  </tbody>\n",
       "</table>\n",
       "</div>"
      ],
      "text/plain": [
       "    count          mean           std      min      25%      50%       75%  \\\n",
       "0   270.0   9673.507407   9635.872655     30.0   3001.5   6626.0  12224.50   \n",
       "1   664.0   8615.402108  11913.176875      4.0   2969.0   5406.0   9891.00   \n",
       "2  1449.0  10021.600414  10905.101171 -22664.0   3236.0   7224.0  12532.00   \n",
       "3  1026.0  11659.121832  10299.216942    108.0   4621.0   9168.0  15486.00   \n",
       "4   675.0  15275.733333  13203.818164     90.0   6930.0  12284.0  20150.00   \n",
       "5   263.0  16770.471483  14208.363513    500.0   8388.0  13184.0  21494.00   \n",
       "6   646.0  19896.789474  18711.166439      4.0   8661.0  15226.0  26113.75   \n",
       "7   205.0  27140.726829  25022.454063   1920.0  13292.0  22872.0  31732.00   \n",
       "8   275.0  32254.814545  46560.863337   1366.0  12258.0  24752.0  40234.50   \n",
       "9   163.0  42345.693252  47280.665927   1820.0  16218.0  32484.0  49722.50   \n",
       "\n",
       "        max  \n",
       "0   51036.0  \n",
       "1  181360.0  \n",
       "2  105052.0  \n",
       "3   94860.0  \n",
       "4  146416.0  \n",
       "5  107284.0  \n",
       "6  170024.0  \n",
       "7  227912.0  \n",
       "8  700492.0  \n",
       "9  312149.0  "
      ]
     },
     "execution_count": 16,
     "metadata": {},
     "output_type": "execute_result"
    }
   ],
   "source": [
    "# max and min of housing per income class\n",
    "rowDescription = []\n",
    "for inclass in range(1,len(incomeBrackets)):\n",
    "    rowDescription.append(inclassExpenses.iHousing.loc[inclassExpenses.INCLASS == inclass].describe())\n",
    "descriptions = pd.concat(rowDescription, axis=1)\n",
    "descriptions.columns = range(0,len(incomeBrackets)-1)\n",
    "descriptions = descriptions.transpose()\n",
    "descriptions"
   ]
  },
  {
   "cell_type": "markdown",
   "metadata": {},
   "source": [
    "### Removing outliers in iHousing\n",
    " - For each income class\n",
    "    - Find Q1 and Q3\n",
    "    - Calculate IQR\n",
    "    - Find rows outside of Q3/Q2 +/- (1.5 x IQR) and Q3/Q2 +/- (3 x IQR)\n",
    " - Remove Rows from Dataframe\n",
    " - Clean1: Inner Fence\n",
    " - Clean2: Outer Fence"
   ]
  },
  {
   "cell_type": "code",
   "execution_count": 17,
   "metadata": {
    "collapsed": false,
    "scrolled": true
   },
   "outputs": [
    {
     "name": "stdout",
     "output_type": "stream",
     "text": [
      "There are 5636 rows before removal of outliers\n",
      "Removed 305 rows deemed to be out of inner fence\n",
      "Removed 5.41% of the CUs\n",
      "Removed 121 rows deemed to be out of inner fence\n",
      "Removed 2.15% of the CUs\n"
     ]
    }
   ],
   "source": [
    "# cleaning the inclassExpenses dataframe of outliers\n",
    "outliers1 = inclassExpenses.copy()\n",
    "\n",
    "\n",
    "outliers1\n",
    "innerFence = []\n",
    "outerFence = []\n",
    "\n",
    "\n",
    "print(\"There are \"+str(len(inclassExpenses))+\" rows before removal of outliers\")\n",
    "\n",
    "for inclass in range(1,len(incomeBrackets)):\n",
    "    outliers1InClass = outliers1.where(outliers1['INCLASS']==inclass)\n",
    "    Q1 = outliers1InClass['iHousing'].quantile(0.25)\n",
    "    Q3 = outliers1InClass['iHousing'].quantile(0.75)\n",
    "    IQR = Q3 - Q1\n",
    "    innerFence.extend(outliers1InClass[outliers1InClass['iHousing'] < (Q1 - (1.5 * IQR))].index.tolist())\n",
    "    innerFence.extend(outliers1InClass[outliers1InClass['iHousing'] > (Q3 + (1.5 * IQR))].index.tolist())    \n",
    "    outerFence.extend(outliers1InClass[outliers1InClass['iHousing'] < (Q1 - (3 * IQR))].index.tolist())\n",
    "    outerFence.extend(outliers1InClass[outliers1InClass['iHousing'] > (Q3 + (3 * IQR))].index.tolist())\n",
    "\n",
    "\n",
    "clean1 = outliers1.drop(outliers1.index[innerFence])\n",
    "clean1\n",
    "clean2 = outliers1.drop(outliers1.index[outerFence])\n",
    "clean2\n",
    "\n",
    "print(\"Removed \"+str(len(innerFence))+ \" rows deemed to be out of inner fence\")\n",
    "print(\"Removed \"+str(round(len(innerFence)/len(inclassExpenses)*100,2))+ \"% of the CUs\")\n",
    "\n",
    "print(\"Removed \"+str(len(outerFence))+ \" rows deemed to be out of inner fence\")\n",
    "print(\"Removed \"+str(round(len(outerFence)/len(inclassExpenses)*100,2))+ \"% of the CUs\")\n",
    "\n",
    "# creating the descriptions for the cleaned outlier dataframe\n",
    "rowDescription1 = []\n",
    "for inclass in range(1,len(incomeBrackets)):\n",
    "    rowDescription1.append(clean1.iHousing.loc[clean1.INCLASS == inclass].describe())\n",
    "descriptions1 = pd.concat(rowDescription1, axis=1)\n",
    "descriptions1.columns = range(0,len(incomeBrackets)-1)\n",
    "descriptions1 = descriptions1.transpose()\n",
    "# descriptions1"
   ]
  },
  {
   "cell_type": "markdown",
   "metadata": {},
   "source": [
    "### Looking at the outliers that were removed"
   ]
  },
  {
   "cell_type": "code",
   "execution_count": 18,
   "metadata": {
    "collapsed": false
   },
   "outputs": [
    {
     "name": "stdout",
     "output_type": "stream",
     "text": [
      "Number of outliers in each income class: [87 50 44 31 29 22 14 10 10  8]\n"
     ]
    },
    {
     "data": {
      "text/html": [
       "<div>\n",
       "<table border=\"1\" class=\"dataframe\">\n",
       "  <thead>\n",
       "    <tr style=\"text-align: right;\">\n",
       "      <th></th>\n",
       "      <th>NEWID</th>\n",
       "      <th>INCLASS</th>\n",
       "      <th>FINCBTXM</th>\n",
       "      <th>iTotalExp</th>\n",
       "      <th>iFoodAtHome</th>\n",
       "      <th>iFoodAway</th>\n",
       "      <th>iHousing</th>\n",
       "      <th>iUtilites</th>\n",
       "      <th>iClothingAndBeauty</th>\n",
       "      <th>iTransportation</th>\n",
       "      <th>iHealthcare</th>\n",
       "      <th>iEntertainment</th>\n",
       "      <th>iMiscellaneous</th>\n",
       "      <th>iCharitableAndFamilyGiving</th>\n",
       "      <th>iInsurance</th>\n",
       "      <th>iEducation</th>\n",
       "      <th>iHousingPrinciple</th>\n",
       "    </tr>\n",
       "  </thead>\n",
       "  <tbody>\n",
       "    <tr>\n",
       "      <th>607</th>\n",
       "      <td>3066713</td>\n",
       "      <td>1</td>\n",
       "      <td>7900.0</td>\n",
       "      <td>114605.6</td>\n",
       "      <td>5544.0</td>\n",
       "      <td>20448.0</td>\n",
       "      <td>27100.0</td>\n",
       "      <td>5420.0</td>\n",
       "      <td>4280.0</td>\n",
       "      <td>17788.0</td>\n",
       "      <td>5005.6</td>\n",
       "      <td>13860.0</td>\n",
       "      <td>360.0</td>\n",
       "      <td>14800.0</td>\n",
       "      <td>0.0</td>\n",
       "      <td>0.0</td>\n",
       "      <td>0.0</td>\n",
       "    </tr>\n",
       "    <tr>\n",
       "      <th>1240</th>\n",
       "      <td>3000783</td>\n",
       "      <td>1</td>\n",
       "      <td>2615.0</td>\n",
       "      <td>53130.8</td>\n",
       "      <td>5720.0</td>\n",
       "      <td>4040.0</td>\n",
       "      <td>29552.0</td>\n",
       "      <td>9656.0</td>\n",
       "      <td>960.0</td>\n",
       "      <td>5320.0</td>\n",
       "      <td>2618.8</td>\n",
       "      <td>6236.0</td>\n",
       "      <td>340.0</td>\n",
       "      <td>660.0</td>\n",
       "      <td>0.0</td>\n",
       "      <td>0.0</td>\n",
       "      <td>11972.0</td>\n",
       "    </tr>\n",
       "    <tr>\n",
       "      <th>1360</th>\n",
       "      <td>3057933</td>\n",
       "      <td>1</td>\n",
       "      <td>6155.0</td>\n",
       "      <td>101969.6</td>\n",
       "      <td>5436.0</td>\n",
       "      <td>4492.0</td>\n",
       "      <td>40720.0</td>\n",
       "      <td>6060.0</td>\n",
       "      <td>1640.0</td>\n",
       "      <td>18032.0</td>\n",
       "      <td>16593.6</td>\n",
       "      <td>6260.0</td>\n",
       "      <td>0.0</td>\n",
       "      <td>4800.0</td>\n",
       "      <td>0.0</td>\n",
       "      <td>0.0</td>\n",
       "      <td>2064.0</td>\n",
       "    </tr>\n",
       "    <tr>\n",
       "      <th>1818</th>\n",
       "      <td>3149211</td>\n",
       "      <td>1</td>\n",
       "      <td>3756.0</td>\n",
       "      <td>58845.6</td>\n",
       "      <td>11140.0</td>\n",
       "      <td>260.0</td>\n",
       "      <td>30524.0</td>\n",
       "      <td>5340.0</td>\n",
       "      <td>1788.0</td>\n",
       "      <td>4080.0</td>\n",
       "      <td>5801.6</td>\n",
       "      <td>2300.0</td>\n",
       "      <td>240.0</td>\n",
       "      <td>600.0</td>\n",
       "      <td>0.0</td>\n",
       "      <td>0.0</td>\n",
       "      <td>3228.0</td>\n",
       "    </tr>\n",
       "    <tr>\n",
       "      <th>1932</th>\n",
       "      <td>3170291</td>\n",
       "      <td>1</td>\n",
       "      <td>9310.0</td>\n",
       "      <td>67181.6</td>\n",
       "      <td>7520.0</td>\n",
       "      <td>1980.0</td>\n",
       "      <td>45476.0</td>\n",
       "      <td>5456.0</td>\n",
       "      <td>936.0</td>\n",
       "      <td>9916.0</td>\n",
       "      <td>5277.6</td>\n",
       "      <td>1428.0</td>\n",
       "      <td>0.0</td>\n",
       "      <td>3120.0</td>\n",
       "      <td>0.0</td>\n",
       "      <td>0.0</td>\n",
       "      <td>13928.0</td>\n",
       "    </tr>\n",
       "  </tbody>\n",
       "</table>\n",
       "</div>"
      ],
      "text/plain": [
       "        NEWID  INCLASS  FINCBTXM  iTotalExp  iFoodAtHome  iFoodAway  iHousing  \\\n",
       "607   3066713        1    7900.0   114605.6       5544.0    20448.0   27100.0   \n",
       "1240  3000783        1    2615.0    53130.8       5720.0     4040.0   29552.0   \n",
       "1360  3057933        1    6155.0   101969.6       5436.0     4492.0   40720.0   \n",
       "1818  3149211        1    3756.0    58845.6      11140.0      260.0   30524.0   \n",
       "1932  3170291        1    9310.0    67181.6       7520.0     1980.0   45476.0   \n",
       "\n",
       "      iUtilites  iClothingAndBeauty  iTransportation  iHealthcare  \\\n",
       "607      5420.0              4280.0          17788.0       5005.6   \n",
       "1240     9656.0               960.0           5320.0       2618.8   \n",
       "1360     6060.0              1640.0          18032.0      16593.6   \n",
       "1818     5340.0              1788.0           4080.0       5801.6   \n",
       "1932     5456.0               936.0           9916.0       5277.6   \n",
       "\n",
       "      iEntertainment  iMiscellaneous  iCharitableAndFamilyGiving  iInsurance  \\\n",
       "607          13860.0           360.0                     14800.0         0.0   \n",
       "1240          6236.0           340.0                       660.0         0.0   \n",
       "1360          6260.0             0.0                      4800.0         0.0   \n",
       "1818          2300.0           240.0                       600.0         0.0   \n",
       "1932          1428.0             0.0                      3120.0         0.0   \n",
       "\n",
       "      iEducation  iHousingPrinciple  \n",
       "607          0.0                0.0  \n",
       "1240         0.0            11972.0  \n",
       "1360         0.0             2064.0  \n",
       "1818         0.0             3228.0  \n",
       "1932         0.0            13928.0  "
      ]
     },
     "execution_count": 18,
     "metadata": {},
     "output_type": "execute_result"
    }
   ],
   "source": [
    "innerOutliers = inclassExpenses.copy()\n",
    "innerOutliers = innerOutliers.ix[innerFence,:]\n",
    "print(\"Number of outliers in each income class: \"+str(innerOutliers.INCLASS.value_counts().values))\n",
    "innerOutliers.head()"
   ]
  },
  {
   "cell_type": "code",
   "execution_count": 19,
   "metadata": {
    "collapsed": false
   },
   "outputs": [
    {
     "name": "stdout",
     "output_type": "stream",
     "text": [
      "Number of outliers in each income class: [36 26 13 10 10  7  6  5  5  3]\n"
     ]
    },
    {
     "data": {
      "text/html": [
       "<div>\n",
       "<table border=\"1\" class=\"dataframe\">\n",
       "  <thead>\n",
       "    <tr style=\"text-align: right;\">\n",
       "      <th></th>\n",
       "      <th>NEWID</th>\n",
       "      <th>INCLASS</th>\n",
       "      <th>FINCBTXM</th>\n",
       "      <th>iTotalExp</th>\n",
       "      <th>iFoodAtHome</th>\n",
       "      <th>iFoodAway</th>\n",
       "      <th>iHousing</th>\n",
       "      <th>iUtilites</th>\n",
       "      <th>iClothingAndBeauty</th>\n",
       "      <th>iTransportation</th>\n",
       "      <th>iHealthcare</th>\n",
       "      <th>iEntertainment</th>\n",
       "      <th>iMiscellaneous</th>\n",
       "      <th>iCharitableAndFamilyGiving</th>\n",
       "      <th>iInsurance</th>\n",
       "      <th>iEducation</th>\n",
       "      <th>iHousingPrinciple</th>\n",
       "    </tr>\n",
       "  </thead>\n",
       "  <tbody>\n",
       "    <tr>\n",
       "      <th>1360</th>\n",
       "      <td>3057933</td>\n",
       "      <td>1</td>\n",
       "      <td>6155.0</td>\n",
       "      <td>101969.6</td>\n",
       "      <td>5436.0</td>\n",
       "      <td>4492.0</td>\n",
       "      <td>40720.0</td>\n",
       "      <td>6060.0</td>\n",
       "      <td>1640.0</td>\n",
       "      <td>18032.0</td>\n",
       "      <td>16593.6</td>\n",
       "      <td>6260.0</td>\n",
       "      <td>0.0</td>\n",
       "      <td>4800.0</td>\n",
       "      <td>0.0</td>\n",
       "      <td>0.0</td>\n",
       "      <td>2064.0</td>\n",
       "    </tr>\n",
       "    <tr>\n",
       "      <th>1932</th>\n",
       "      <td>3170291</td>\n",
       "      <td>1</td>\n",
       "      <td>9310.0</td>\n",
       "      <td>67181.6</td>\n",
       "      <td>7520.0</td>\n",
       "      <td>1980.0</td>\n",
       "      <td>45476.0</td>\n",
       "      <td>5456.0</td>\n",
       "      <td>936.0</td>\n",
       "      <td>9916.0</td>\n",
       "      <td>5277.6</td>\n",
       "      <td>1428.0</td>\n",
       "      <td>0.0</td>\n",
       "      <td>3120.0</td>\n",
       "      <td>0.0</td>\n",
       "      <td>0.0</td>\n",
       "      <td>13928.0</td>\n",
       "    </tr>\n",
       "    <tr>\n",
       "      <th>2611</th>\n",
       "      <td>3105983</td>\n",
       "      <td>1</td>\n",
       "      <td>9906.0</td>\n",
       "      <td>75915.8</td>\n",
       "      <td>5880.0</td>\n",
       "      <td>5520.0</td>\n",
       "      <td>40649.0</td>\n",
       "      <td>3780.0</td>\n",
       "      <td>800.0</td>\n",
       "      <td>6076.0</td>\n",
       "      <td>9938.8</td>\n",
       "      <td>14188.0</td>\n",
       "      <td>0.0</td>\n",
       "      <td>0.0</td>\n",
       "      <td>0.0</td>\n",
       "      <td>0.0</td>\n",
       "      <td>10916.0</td>\n",
       "    </tr>\n",
       "    <tr>\n",
       "      <th>2717</th>\n",
       "      <td>3149212</td>\n",
       "      <td>1</td>\n",
       "      <td>3756.0</td>\n",
       "      <td>75077.6</td>\n",
       "      <td>12296.0</td>\n",
       "      <td>1480.0</td>\n",
       "      <td>40132.0</td>\n",
       "      <td>5480.0</td>\n",
       "      <td>2320.0</td>\n",
       "      <td>6276.0</td>\n",
       "      <td>5241.6</td>\n",
       "      <td>2444.0</td>\n",
       "      <td>1160.0</td>\n",
       "      <td>1540.0</td>\n",
       "      <td>0.0</td>\n",
       "      <td>0.0</td>\n",
       "      <td>3292.0</td>\n",
       "    </tr>\n",
       "    <tr>\n",
       "      <th>2822</th>\n",
       "      <td>3170292</td>\n",
       "      <td>1</td>\n",
       "      <td>9310.0</td>\n",
       "      <td>56593.6</td>\n",
       "      <td>8172.0</td>\n",
       "      <td>1668.0</td>\n",
       "      <td>40608.0</td>\n",
       "      <td>4056.0</td>\n",
       "      <td>340.0</td>\n",
       "      <td>4400.0</td>\n",
       "      <td>2877.6</td>\n",
       "      <td>1604.0</td>\n",
       "      <td>48.0</td>\n",
       "      <td>3120.0</td>\n",
       "      <td>0.0</td>\n",
       "      <td>0.0</td>\n",
       "      <td>10300.0</td>\n",
       "    </tr>\n",
       "  </tbody>\n",
       "</table>\n",
       "</div>"
      ],
      "text/plain": [
       "        NEWID  INCLASS  FINCBTXM  iTotalExp  iFoodAtHome  iFoodAway  iHousing  \\\n",
       "1360  3057933        1    6155.0   101969.6       5436.0     4492.0   40720.0   \n",
       "1932  3170291        1    9310.0    67181.6       7520.0     1980.0   45476.0   \n",
       "2611  3105983        1    9906.0    75915.8       5880.0     5520.0   40649.0   \n",
       "2717  3149212        1    3756.0    75077.6      12296.0     1480.0   40132.0   \n",
       "2822  3170292        1    9310.0    56593.6       8172.0     1668.0   40608.0   \n",
       "\n",
       "      iUtilites  iClothingAndBeauty  iTransportation  iHealthcare  \\\n",
       "1360     6060.0              1640.0          18032.0      16593.6   \n",
       "1932     5456.0               936.0           9916.0       5277.6   \n",
       "2611     3780.0               800.0           6076.0       9938.8   \n",
       "2717     5480.0              2320.0           6276.0       5241.6   \n",
       "2822     4056.0               340.0           4400.0       2877.6   \n",
       "\n",
       "      iEntertainment  iMiscellaneous  iCharitableAndFamilyGiving  iInsurance  \\\n",
       "1360          6260.0             0.0                      4800.0         0.0   \n",
       "1932          1428.0             0.0                      3120.0         0.0   \n",
       "2611         14188.0             0.0                         0.0         0.0   \n",
       "2717          2444.0          1160.0                      1540.0         0.0   \n",
       "2822          1604.0            48.0                      3120.0         0.0   \n",
       "\n",
       "      iEducation  iHousingPrinciple  \n",
       "1360         0.0             2064.0  \n",
       "1932         0.0            13928.0  \n",
       "2611         0.0            10916.0  \n",
       "2717         0.0             3292.0  \n",
       "2822         0.0            10300.0  "
      ]
     },
     "execution_count": 19,
     "metadata": {},
     "output_type": "execute_result"
    }
   ],
   "source": [
    "outerOutliers = inclassExpenses.copy()\n",
    "outerOutliers = outerOutliers.ix[outerFence,:]\n",
    "print(\"Number of outliers in each income class: \"+str(outerOutliers.INCLASS.value_counts().values))\n",
    "outerOutliers.head()"
   ]
  },
  {
   "cell_type": "markdown",
   "metadata": {
    "slideshow": {
     "slide_type": "-"
    }
   },
   "source": [
    "### Things learned from removing outliers\n",
    "- Removing outliers helped some of the standard deviation crazyness\n",
    "- Higher incomebrackets have greater standard deviation even without outliers"
   ]
  },
  {
   "cell_type": "markdown",
   "metadata": {},
   "source": [
    "### Creating the percentage output for cleaned dataframe"
   ]
  },
  {
   "cell_type": "code",
   "execution_count": 20,
   "metadata": {
    "collapsed": false
   },
   "outputs": [
    {
     "data": {
      "text/html": [
       "<div>\n",
       "<table border=\"1\" class=\"dataframe\">\n",
       "  <thead>\n",
       "    <tr style=\"text-align: right;\">\n",
       "      <th></th>\n",
       "      <th>iFoodAtHome</th>\n",
       "      <th>iFoodAway</th>\n",
       "      <th>iHousing</th>\n",
       "      <th>iUtilites</th>\n",
       "      <th>iClothingAndBeauty</th>\n",
       "      <th>iTransportation</th>\n",
       "      <th>iHealthcare</th>\n",
       "      <th>iEntertainment</th>\n",
       "      <th>iMiscellaneous</th>\n",
       "      <th>iCharitableAndFamilyGiving</th>\n",
       "      <th>iInsurance</th>\n",
       "      <th>iEducation</th>\n",
       "      <th>iHousingPrinciple</th>\n",
       "      <th>ExpInc</th>\n",
       "    </tr>\n",
       "  </thead>\n",
       "  <tbody>\n",
       "    <tr>\n",
       "      <th>0</th>\n",
       "      <td>0.145309</td>\n",
       "      <td>0.070729</td>\n",
       "      <td>0.267548</td>\n",
       "      <td>0.102425</td>\n",
       "      <td>0.024094</td>\n",
       "      <td>0.145617</td>\n",
       "      <td>0.143997</td>\n",
       "      <td>0.046841</td>\n",
       "      <td>0.041591</td>\n",
       "      <td>0.032271</td>\n",
       "      <td>0.003797</td>\n",
       "      <td>0.001676</td>\n",
       "      <td>0.025896</td>\n",
       "      <td>1.000000</td>\n",
       "    </tr>\n",
       "    <tr>\n",
       "      <th>1</th>\n",
       "      <td>0.147200</td>\n",
       "      <td>0.063761</td>\n",
       "      <td>0.260450</td>\n",
       "      <td>0.120966</td>\n",
       "      <td>0.028186</td>\n",
       "      <td>0.161744</td>\n",
       "      <td>0.119256</td>\n",
       "      <td>0.056239</td>\n",
       "      <td>0.017617</td>\n",
       "      <td>0.038591</td>\n",
       "      <td>0.006002</td>\n",
       "      <td>0.002604</td>\n",
       "      <td>0.022615</td>\n",
       "      <td>1.000000</td>\n",
       "    </tr>\n",
       "    <tr>\n",
       "      <th>2</th>\n",
       "      <td>0.132833</td>\n",
       "      <td>0.065906</td>\n",
       "      <td>0.233812</td>\n",
       "      <td>0.103771</td>\n",
       "      <td>0.025187</td>\n",
       "      <td>0.182989</td>\n",
       "      <td>0.143245</td>\n",
       "      <td>0.060388</td>\n",
       "      <td>0.020654</td>\n",
       "      <td>0.045541</td>\n",
       "      <td>0.005739</td>\n",
       "      <td>0.003298</td>\n",
       "      <td>0.023364</td>\n",
       "      <td>1.000000</td>\n",
       "    </tr>\n",
       "    <tr>\n",
       "      <th>3</th>\n",
       "      <td>0.120112</td>\n",
       "      <td>0.063256</td>\n",
       "      <td>0.247408</td>\n",
       "      <td>0.098451</td>\n",
       "      <td>0.027001</td>\n",
       "      <td>0.193617</td>\n",
       "      <td>0.144102</td>\n",
       "      <td>0.056321</td>\n",
       "      <td>0.017486</td>\n",
       "      <td>0.053237</td>\n",
       "      <td>0.008585</td>\n",
       "      <td>0.004337</td>\n",
       "      <td>0.033914</td>\n",
       "      <td>0.833829</td>\n",
       "    </tr>\n",
       "    <tr>\n",
       "      <th>4</th>\n",
       "      <td>0.115424</td>\n",
       "      <td>0.061730</td>\n",
       "      <td>0.265221</td>\n",
       "      <td>0.089375</td>\n",
       "      <td>0.032807</td>\n",
       "      <td>0.195071</td>\n",
       "      <td>0.136493</td>\n",
       "      <td>0.055051</td>\n",
       "      <td>0.017505</td>\n",
       "      <td>0.051271</td>\n",
       "      <td>0.009013</td>\n",
       "      <td>0.004935</td>\n",
       "      <td>0.033896</td>\n",
       "      <td>0.715285</td>\n",
       "    </tr>\n",
       "    <tr>\n",
       "      <th>5</th>\n",
       "      <td>0.105811</td>\n",
       "      <td>0.053990</td>\n",
       "      <td>0.255489</td>\n",
       "      <td>0.083360</td>\n",
       "      <td>0.024646</td>\n",
       "      <td>0.257764</td>\n",
       "      <td>0.125818</td>\n",
       "      <td>0.054827</td>\n",
       "      <td>0.014239</td>\n",
       "      <td>0.042713</td>\n",
       "      <td>0.009674</td>\n",
       "      <td>0.008775</td>\n",
       "      <td>0.037107</td>\n",
       "      <td>0.680236</td>\n",
       "    </tr>\n",
       "    <tr>\n",
       "      <th>6</th>\n",
       "      <td>0.101092</td>\n",
       "      <td>0.066690</td>\n",
       "      <td>0.261519</td>\n",
       "      <td>0.080689</td>\n",
       "      <td>0.031306</td>\n",
       "      <td>0.216177</td>\n",
       "      <td>0.117293</td>\n",
       "      <td>0.072884</td>\n",
       "      <td>0.016905</td>\n",
       "      <td>0.066388</td>\n",
       "      <td>0.009784</td>\n",
       "      <td>0.007291</td>\n",
       "      <td>0.048020</td>\n",
       "      <td>0.607193</td>\n",
       "    </tr>\n",
       "    <tr>\n",
       "      <th>7</th>\n",
       "      <td>0.098440</td>\n",
       "      <td>0.052691</td>\n",
       "      <td>0.315706</td>\n",
       "      <td>0.082197</td>\n",
       "      <td>0.031819</td>\n",
       "      <td>0.207920</td>\n",
       "      <td>0.105127</td>\n",
       "      <td>0.065340</td>\n",
       "      <td>0.017535</td>\n",
       "      <td>0.050984</td>\n",
       "      <td>0.010179</td>\n",
       "      <td>0.017260</td>\n",
       "      <td>0.055199</td>\n",
       "      <td>0.492282</td>\n",
       "    </tr>\n",
       "    <tr>\n",
       "      <th>8</th>\n",
       "      <td>0.092483</td>\n",
       "      <td>0.069697</td>\n",
       "      <td>0.309592</td>\n",
       "      <td>0.069272</td>\n",
       "      <td>0.037903</td>\n",
       "      <td>0.169398</td>\n",
       "      <td>0.093660</td>\n",
       "      <td>0.070942</td>\n",
       "      <td>0.027825</td>\n",
       "      <td>0.073503</td>\n",
       "      <td>0.015652</td>\n",
       "      <td>0.019810</td>\n",
       "      <td>0.049738</td>\n",
       "      <td>0.449983</td>\n",
       "    </tr>\n",
       "    <tr>\n",
       "      <th>9</th>\n",
       "      <td>0.080749</td>\n",
       "      <td>0.067937</td>\n",
       "      <td>0.293107</td>\n",
       "      <td>0.057122</td>\n",
       "      <td>0.040568</td>\n",
       "      <td>0.228424</td>\n",
       "      <td>0.081494</td>\n",
       "      <td>0.063632</td>\n",
       "      <td>0.029704</td>\n",
       "      <td>0.065556</td>\n",
       "      <td>0.009256</td>\n",
       "      <td>0.019348</td>\n",
       "      <td>0.036896</td>\n",
       "      <td>0.366809</td>\n",
       "    </tr>\n",
       "  </tbody>\n",
       "</table>\n",
       "</div>"
      ],
      "text/plain": [
       "   iFoodAtHome  iFoodAway  iHousing  iUtilites  iClothingAndBeauty  \\\n",
       "0     0.145309   0.070729  0.267548   0.102425            0.024094   \n",
       "1     0.147200   0.063761  0.260450   0.120966            0.028186   \n",
       "2     0.132833   0.065906  0.233812   0.103771            0.025187   \n",
       "3     0.120112   0.063256  0.247408   0.098451            0.027001   \n",
       "4     0.115424   0.061730  0.265221   0.089375            0.032807   \n",
       "5     0.105811   0.053990  0.255489   0.083360            0.024646   \n",
       "6     0.101092   0.066690  0.261519   0.080689            0.031306   \n",
       "7     0.098440   0.052691  0.315706   0.082197            0.031819   \n",
       "8     0.092483   0.069697  0.309592   0.069272            0.037903   \n",
       "9     0.080749   0.067937  0.293107   0.057122            0.040568   \n",
       "\n",
       "   iTransportation  iHealthcare  iEntertainment  iMiscellaneous  \\\n",
       "0         0.145617     0.143997        0.046841        0.041591   \n",
       "1         0.161744     0.119256        0.056239        0.017617   \n",
       "2         0.182989     0.143245        0.060388        0.020654   \n",
       "3         0.193617     0.144102        0.056321        0.017486   \n",
       "4         0.195071     0.136493        0.055051        0.017505   \n",
       "5         0.257764     0.125818        0.054827        0.014239   \n",
       "6         0.216177     0.117293        0.072884        0.016905   \n",
       "7         0.207920     0.105127        0.065340        0.017535   \n",
       "8         0.169398     0.093660        0.070942        0.027825   \n",
       "9         0.228424     0.081494        0.063632        0.029704   \n",
       "\n",
       "   iCharitableAndFamilyGiving  iInsurance  iEducation  iHousingPrinciple  \\\n",
       "0                    0.032271    0.003797    0.001676           0.025896   \n",
       "1                    0.038591    0.006002    0.002604           0.022615   \n",
       "2                    0.045541    0.005739    0.003298           0.023364   \n",
       "3                    0.053237    0.008585    0.004337           0.033914   \n",
       "4                    0.051271    0.009013    0.004935           0.033896   \n",
       "5                    0.042713    0.009674    0.008775           0.037107   \n",
       "6                    0.066388    0.009784    0.007291           0.048020   \n",
       "7                    0.050984    0.010179    0.017260           0.055199   \n",
       "8                    0.073503    0.015652    0.019810           0.049738   \n",
       "9                    0.065556    0.009256    0.019348           0.036896   \n",
       "\n",
       "     ExpInc  \n",
       "0  1.000000  \n",
       "1  1.000000  \n",
       "2  1.000000  \n",
       "3  0.833829  \n",
       "4  0.715285  \n",
       "5  0.680236  \n",
       "6  0.607193  \n",
       "7  0.492282  \n",
       "8  0.449983  \n",
       "9  0.366809  "
      ]
     },
     "execution_count": 20,
     "metadata": {},
     "output_type": "execute_result"
    }
   ],
   "source": [
    "# creating percentage outputs for cleaned dataframe\n",
    "inclassCleanAverages1 = round(clean1.ix[: ,clean1.columns != 'NEWID'].groupby(['INCLASS'],as_index=False).mean(),2)\n",
    "# creating new dataframe for the percentages that only includes the plynty categories\n",
    "cleanPercentages1 = inclassCleanAverages1.loc[:,rollupNames[1:]]\n",
    "for column in rollupNames[1:]:\n",
    "    cleanPercentages1[column] = inclassCleanAverages1[column]/inclassCleanAverages1.iTotalExp\n",
    "cleanPercentages1['ExpInc'] = inclassCleanAverages1['iTotalExp']/inclassCleanAverages1['FINCBTXM']\n",
    "# truncate the max ExpInc\n",
    "cleanPercentages1.ExpInc.ix[cleanPercentages1['ExpInc']>1] = 1\n",
    "cleanPercentages1"
   ]
  },
  {
   "cell_type": "code",
   "execution_count": 21,
   "metadata": {
    "collapsed": false,
    "scrolled": true
   },
   "outputs": [
    {
     "data": {
      "text/html": [
       "<div>\n",
       "<table border=\"1\" class=\"dataframe\">\n",
       "  <thead>\n",
       "    <tr style=\"text-align: right;\">\n",
       "      <th></th>\n",
       "      <th>iFoodAtHome</th>\n",
       "      <th>iFoodAway</th>\n",
       "      <th>iHousing</th>\n",
       "      <th>iUtilites</th>\n",
       "      <th>iClothingAndBeauty</th>\n",
       "      <th>iTransportation</th>\n",
       "      <th>iHealthcare</th>\n",
       "      <th>iEntertainment</th>\n",
       "      <th>iMiscellaneous</th>\n",
       "      <th>iCharitableAndFamilyGiving</th>\n",
       "      <th>iInsurance</th>\n",
       "      <th>iEducation</th>\n",
       "      <th>iHousingPrinciple</th>\n",
       "      <th>ExpInc</th>\n",
       "    </tr>\n",
       "  </thead>\n",
       "  <tbody>\n",
       "    <tr>\n",
       "      <th>0</th>\n",
       "      <td>0.138705</td>\n",
       "      <td>0.072955</td>\n",
       "      <td>0.291189</td>\n",
       "      <td>0.099581</td>\n",
       "      <td>0.025477</td>\n",
       "      <td>0.140606</td>\n",
       "      <td>0.139695</td>\n",
       "      <td>0.051854</td>\n",
       "      <td>0.036794</td>\n",
       "      <td>0.031098</td>\n",
       "      <td>0.004037</td>\n",
       "      <td>0.001808</td>\n",
       "      <td>0.033799</td>\n",
       "      <td>1.000000</td>\n",
       "    </tr>\n",
       "    <tr>\n",
       "      <th>1</th>\n",
       "      <td>0.142165</td>\n",
       "      <td>0.062307</td>\n",
       "      <td>0.276651</td>\n",
       "      <td>0.118244</td>\n",
       "      <td>0.027864</td>\n",
       "      <td>0.158800</td>\n",
       "      <td>0.120681</td>\n",
       "      <td>0.055173</td>\n",
       "      <td>0.016945</td>\n",
       "      <td>0.040694</td>\n",
       "      <td>0.006466</td>\n",
       "      <td>0.003126</td>\n",
       "      <td>0.029117</td>\n",
       "      <td>1.000000</td>\n",
       "    </tr>\n",
       "    <tr>\n",
       "      <th>2</th>\n",
       "      <td>0.128612</td>\n",
       "      <td>0.064890</td>\n",
       "      <td>0.246419</td>\n",
       "      <td>0.100264</td>\n",
       "      <td>0.025571</td>\n",
       "      <td>0.179751</td>\n",
       "      <td>0.141492</td>\n",
       "      <td>0.063465</td>\n",
       "      <td>0.019580</td>\n",
       "      <td>0.048232</td>\n",
       "      <td>0.005508</td>\n",
       "      <td>0.003246</td>\n",
       "      <td>0.027029</td>\n",
       "      <td>1.000000</td>\n",
       "    </tr>\n",
       "    <tr>\n",
       "      <th>3</th>\n",
       "      <td>0.116798</td>\n",
       "      <td>0.063737</td>\n",
       "      <td>0.258419</td>\n",
       "      <td>0.095086</td>\n",
       "      <td>0.028973</td>\n",
       "      <td>0.195366</td>\n",
       "      <td>0.139126</td>\n",
       "      <td>0.056337</td>\n",
       "      <td>0.016735</td>\n",
       "      <td>0.051907</td>\n",
       "      <td>0.008169</td>\n",
       "      <td>0.004046</td>\n",
       "      <td>0.034698</td>\n",
       "      <td>0.870509</td>\n",
       "    </tr>\n",
       "    <tr>\n",
       "      <th>4</th>\n",
       "      <td>0.112842</td>\n",
       "      <td>0.061638</td>\n",
       "      <td>0.278891</td>\n",
       "      <td>0.087546</td>\n",
       "      <td>0.031975</td>\n",
       "      <td>0.192668</td>\n",
       "      <td>0.133651</td>\n",
       "      <td>0.053744</td>\n",
       "      <td>0.016851</td>\n",
       "      <td>0.050210</td>\n",
       "      <td>0.009034</td>\n",
       "      <td>0.004657</td>\n",
       "      <td>0.033708</td>\n",
       "      <td>0.734786</td>\n",
       "    </tr>\n",
       "    <tr>\n",
       "      <th>5</th>\n",
       "      <td>0.105645</td>\n",
       "      <td>0.053777</td>\n",
       "      <td>0.261191</td>\n",
       "      <td>0.082415</td>\n",
       "      <td>0.024242</td>\n",
       "      <td>0.259005</td>\n",
       "      <td>0.123794</td>\n",
       "      <td>0.054287</td>\n",
       "      <td>0.014699</td>\n",
       "      <td>0.042134</td>\n",
       "      <td>0.009444</td>\n",
       "      <td>0.008610</td>\n",
       "      <td>0.039242</td>\n",
       "      <td>0.686132</td>\n",
       "    </tr>\n",
       "    <tr>\n",
       "      <th>6</th>\n",
       "      <td>0.099949</td>\n",
       "      <td>0.066432</td>\n",
       "      <td>0.273018</td>\n",
       "      <td>0.079546</td>\n",
       "      <td>0.031145</td>\n",
       "      <td>0.211418</td>\n",
       "      <td>0.115305</td>\n",
       "      <td>0.072266</td>\n",
       "      <td>0.016753</td>\n",
       "      <td>0.067029</td>\n",
       "      <td>0.009443</td>\n",
       "      <td>0.006981</td>\n",
       "      <td>0.049286</td>\n",
       "      <td>0.618234</td>\n",
       "    </tr>\n",
       "    <tr>\n",
       "      <th>7</th>\n",
       "      <td>0.097544</td>\n",
       "      <td>0.058423</td>\n",
       "      <td>0.333984</td>\n",
       "      <td>0.080075</td>\n",
       "      <td>0.037729</td>\n",
       "      <td>0.199712</td>\n",
       "      <td>0.099335</td>\n",
       "      <td>0.063545</td>\n",
       "      <td>0.016271</td>\n",
       "      <td>0.047911</td>\n",
       "      <td>0.009625</td>\n",
       "      <td>0.016012</td>\n",
       "      <td>0.060165</td>\n",
       "      <td>0.509558</td>\n",
       "    </tr>\n",
       "    <tr>\n",
       "      <th>8</th>\n",
       "      <td>0.089820</td>\n",
       "      <td>0.069820</td>\n",
       "      <td>0.322736</td>\n",
       "      <td>0.068060</td>\n",
       "      <td>0.036794</td>\n",
       "      <td>0.171376</td>\n",
       "      <td>0.092578</td>\n",
       "      <td>0.069909</td>\n",
       "      <td>0.026871</td>\n",
       "      <td>0.072209</td>\n",
       "      <td>0.016398</td>\n",
       "      <td>0.020367</td>\n",
       "      <td>0.056938</td>\n",
       "      <td>0.458924</td>\n",
       "    </tr>\n",
       "    <tr>\n",
       "      <th>9</th>\n",
       "      <td>0.080087</td>\n",
       "      <td>0.067625</td>\n",
       "      <td>0.303353</td>\n",
       "      <td>0.056593</td>\n",
       "      <td>0.040234</td>\n",
       "      <td>0.223652</td>\n",
       "      <td>0.080277</td>\n",
       "      <td>0.063015</td>\n",
       "      <td>0.033355</td>\n",
       "      <td>0.063590</td>\n",
       "      <td>0.009112</td>\n",
       "      <td>0.018767</td>\n",
       "      <td>0.039661</td>\n",
       "      <td>0.369520</td>\n",
       "    </tr>\n",
       "  </tbody>\n",
       "</table>\n",
       "</div>"
      ],
      "text/plain": [
       "   iFoodAtHome  iFoodAway  iHousing  iUtilites  iClothingAndBeauty  \\\n",
       "0     0.138705   0.072955  0.291189   0.099581            0.025477   \n",
       "1     0.142165   0.062307  0.276651   0.118244            0.027864   \n",
       "2     0.128612   0.064890  0.246419   0.100264            0.025571   \n",
       "3     0.116798   0.063737  0.258419   0.095086            0.028973   \n",
       "4     0.112842   0.061638  0.278891   0.087546            0.031975   \n",
       "5     0.105645   0.053777  0.261191   0.082415            0.024242   \n",
       "6     0.099949   0.066432  0.273018   0.079546            0.031145   \n",
       "7     0.097544   0.058423  0.333984   0.080075            0.037729   \n",
       "8     0.089820   0.069820  0.322736   0.068060            0.036794   \n",
       "9     0.080087   0.067625  0.303353   0.056593            0.040234   \n",
       "\n",
       "   iTransportation  iHealthcare  iEntertainment  iMiscellaneous  \\\n",
       "0         0.140606     0.139695        0.051854        0.036794   \n",
       "1         0.158800     0.120681        0.055173        0.016945   \n",
       "2         0.179751     0.141492        0.063465        0.019580   \n",
       "3         0.195366     0.139126        0.056337        0.016735   \n",
       "4         0.192668     0.133651        0.053744        0.016851   \n",
       "5         0.259005     0.123794        0.054287        0.014699   \n",
       "6         0.211418     0.115305        0.072266        0.016753   \n",
       "7         0.199712     0.099335        0.063545        0.016271   \n",
       "8         0.171376     0.092578        0.069909        0.026871   \n",
       "9         0.223652     0.080277        0.063015        0.033355   \n",
       "\n",
       "   iCharitableAndFamilyGiving  iInsurance  iEducation  iHousingPrinciple  \\\n",
       "0                    0.031098    0.004037    0.001808           0.033799   \n",
       "1                    0.040694    0.006466    0.003126           0.029117   \n",
       "2                    0.048232    0.005508    0.003246           0.027029   \n",
       "3                    0.051907    0.008169    0.004046           0.034698   \n",
       "4                    0.050210    0.009034    0.004657           0.033708   \n",
       "5                    0.042134    0.009444    0.008610           0.039242   \n",
       "6                    0.067029    0.009443    0.006981           0.049286   \n",
       "7                    0.047911    0.009625    0.016012           0.060165   \n",
       "8                    0.072209    0.016398    0.020367           0.056938   \n",
       "9                    0.063590    0.009112    0.018767           0.039661   \n",
       "\n",
       "     ExpInc  \n",
       "0  1.000000  \n",
       "1  1.000000  \n",
       "2  1.000000  \n",
       "3  0.870509  \n",
       "4  0.734786  \n",
       "5  0.686132  \n",
       "6  0.618234  \n",
       "7  0.509558  \n",
       "8  0.458924  \n",
       "9  0.369520  "
      ]
     },
     "execution_count": 21,
     "metadata": {},
     "output_type": "execute_result"
    }
   ],
   "source": [
    "# creating percentage outputs for cleaned dataframe\n",
    "inclassCleanAverages2 = round(clean2.ix[: ,clean2.columns != 'NEWID'].groupby(['INCLASS'],as_index=False).mean(),2)\n",
    "# creating new dataframe for the percentages that only includes the plynty categories\n",
    "cleanPercentages2 = inclassCleanAverages2.loc[:,rollupNames[1:]]\n",
    "for column in rollupNames[1:]:\n",
    "    cleanPercentages2[column] = inclassCleanAverages2[column]/inclassCleanAverages2.iTotalExp\n",
    "cleanPercentages2['ExpInc'] = inclassCleanAverages2['iTotalExp']/inclassCleanAverages2['FINCBTXM']\n",
    "# truncate the max ExpInc\n",
    "cleanPercentages2nonTruncated = cleanPercentages2.copy()\n",
    "cleanPercentages2.ExpInc.ix[cleanPercentages2['ExpInc']>1] = 1\n",
    "cleanPercentages2"
   ]
  },
  {
   "cell_type": "code",
   "execution_count": 22,
   "metadata": {
    "collapsed": false
   },
   "outputs": [
    {
     "data": {
      "image/png": "[encoded data removed]",
      "text/plain": [
       "<matplotlib.figure.Figure at 0x125b23940>"
      ]
     },
     "metadata": {},
     "output_type": "display_data"
    }
   ],
   "source": [
    "plt.bar(cleanPercentages2.index, cleanPercentages2.ExpInc, color = 'b')\n",
    "plt.title(\"Percent of Income Expended per Income Class\")\n",
    "plt.xlabel(\"Income Class\")\n",
    "plt.ylabel(\"Percentage\")\n",
    "plt.show()"
   ]
  },
  {
   "cell_type": "code",
   "execution_count": 23,
   "metadata": {
    "collapsed": false
   },
   "outputs": [
    {
     "data": {
      "image/png": "[encoded data removed]",
      "text/plain": [
       "<matplotlib.figure.Figure at 0x1153ac6d8>"
      ]
     },
     "metadata": {},
     "output_type": "display_data"
    }
   ],
   "source": [
    "plt.bar(cleanPercentages2.index, cleanPercentages2.iHousing, color = 'b')\n",
    "plt.title(\"Percent spent on Housing per Income Class (without outliers)\")\n",
    "plt.xlabel(\"Income class\")\n",
    "plt.ylabel(\"Percent spent on housing\")\n",
    "plt.show()"
   ]
  },
  {
   "cell_type": "markdown",
   "metadata": {},
   "source": [
    "# Plots"
   ]
  },
  {
   "cell_type": "code",
   "execution_count": 24,
   "metadata": {
    "collapsed": false,
    "scrolled": true
   },
   "outputs": [
    {
     "name": "stdout",
     "output_type": "stream",
     "text": [
      "[1449 1026  675  664  646  275  270  263  205  163]\n"
     ]
    },
    {
     "data": {
      "text/plain": [
       "<matplotlib.text.Text at 0x115647c18>"
      ]
     },
     "execution_count": 24,
     "metadata": {},
     "output_type": "execute_result"
    }
   ],
   "source": [
    "# ploting the number of people in each bracket\n",
    "print(inclassExpenses.INCLASS.value_counts().values)\n",
    "plt.bar(list(inclassExpenses.INCLASS.value_counts().index.tolist()), inclassExpenses.INCLASS.value_counts().values, align='center', color = \"r\")\n",
    "plt.title(\"Number of CUs in Income classes (with outliers)\")\n",
    "plt.xlabel(\"Income Class\")\n",
    "plt.ylabel(\"Count\")\n",
    "# plt.show()"
   ]
  },
  {
   "cell_type": "code",
   "execution_count": 25,
   "metadata": {
    "collapsed": false
   },
   "outputs": [
    {
     "data": {
      "text/plain": [
       "<matplotlib.text.Text at 0x115647c18>"
      ]
     },
     "execution_count": 25,
     "metadata": {},
     "output_type": "execute_result"
    }
   ],
   "source": [
    "# creating the plot of percent of income expended per income class\n",
    "plt.bar(percentages.index, percentages.ExpInc, color = 'r')\n",
    "plt.title(\"Percent of Income Expended per Income Class (with outliers)\")\n",
    "plt.xlabel(\"Income Class\")\n",
    "plt.ylabel(\"Percentage\")\n",
    "# plt.show()"
   ]
  },
  {
   "cell_type": "code",
   "execution_count": 26,
   "metadata": {
    "collapsed": false,
    "scrolled": true
   },
   "outputs": [
    {
     "data": {
      "text/plain": [
       "<matplotlib.text.Text at 0x115647c18>"
      ]
     },
     "execution_count": 26,
     "metadata": {},
     "output_type": "execute_result"
    }
   ],
   "source": [
    "# creating plot of Percent spent on Housing per income class\n",
    "plt.bar(percentages.index, percentages.iHousing, color = 'r')\n",
    "plt.ylim(0,.4)\n",
    "plt.title(\"Percent spent on Housing per Income Class (with outliers)\")\n",
    "plt.xlabel(\"Income class\")\n",
    "plt.ylabel(\"Percent spent on housing\")\n",
    "# plt.show()"
   ]
  },
  {
   "cell_type": "code",
   "execution_count": 27,
   "metadata": {
    "collapsed": false,
    "scrolled": false
   },
   "outputs": [
    {
     "data": {
      "text/plain": [
       "<matplotlib.text.Text at 0x115647c18>"
      ]
     },
     "execution_count": 27,
     "metadata": {},
     "output_type": "execute_result"
    }
   ],
   "source": [
    "inclassSD = inclassExpenses.groupby(['INCLASS'],as_index=False).std()\n",
    "inclassSD.iHousing\n",
    "plt.bar(inclassSD.iHousing.index, inclassSD.iHousing, color = 'r')\n",
    "plt.title(\"Standard deviations in Income Classes (with outliers)\")\n",
    "plt.ylim(0,60000)\n",
    "plt.xlabel(\"Income Class\")\n",
    "plt.ylabel(\"Standard Deviation\")\n",
    "# plt.show()"
   ]
  },
  {
   "cell_type": "code",
   "execution_count": 28,
   "metadata": {
    "collapsed": false
   },
   "outputs": [
    {
     "name": "stdout",
     "output_type": "stream",
     "text": [
      "[1362  982  644  617  614  265  253  248  191  155]\n"
     ]
    },
    {
     "data": {
      "text/plain": [
       "<matplotlib.text.Text at 0x115647c18>"
      ]
     },
     "execution_count": 28,
     "metadata": {},
     "output_type": "execute_result"
    }
   ],
   "source": [
    "# ploting the number of people in each bracket\n",
    "print(clean1.INCLASS.value_counts().values)\n",
    "plt.bar(list(clean1.INCLASS.value_counts().index.tolist()), clean1.INCLASS.value_counts().values, align='center', color=\"g\")\n",
    "plt.title(\"Number of CUs in Income classes (outer fence)\")\n",
    "plt.xlabel(\"Income Class\")\n",
    "plt.ylabel(\"Count\")\n",
    "# plt.show()"
   ]
  },
  {
   "cell_type": "code",
   "execution_count": 29,
   "metadata": {
    "collapsed": false,
    "scrolled": true
   },
   "outputs": [
    {
     "data": {
      "text/plain": [
       "<matplotlib.text.Text at 0x115647c18>"
      ]
     },
     "execution_count": 29,
     "metadata": {},
     "output_type": "execute_result"
    }
   ],
   "source": [
    "inclassClean1SD = clean1.groupby(['INCLASS'],as_index=False).std()\n",
    "inclassClean1SD.iHousing\n",
    "plt.bar(inclassClean1SD.iHousing.index, inclassClean1SD.iHousing,color = 'g')\n",
    "plt.ylim(0,60000)\n",
    "plt.title(\"Standard deviations in Income Classes (inner fence)\")\n",
    "plt.xlabel(\"Income Class\")\n",
    "plt.ylabel(\"Standard Deviation\")\n",
    "# plt.show()"
   ]
  },
  {
   "cell_type": "code",
   "execution_count": 30,
   "metadata": {
    "collapsed": false,
    "scrolled": true
   },
   "outputs": [
    {
     "name": "stdout",
     "output_type": "stream",
     "text": [
      "[1413 1016  665  638  633  272  263  257  200  158]\n"
     ]
    },
    {
     "data": {
      "text/plain": [
       "<matplotlib.text.Text at 0x115647c18>"
      ]
     },
     "execution_count": 30,
     "metadata": {},
     "output_type": "execute_result"
    }
   ],
   "source": [
    "# ploting the number of people in each bracket\n",
    "print(clean2.INCLASS.value_counts().values)\n",
    "plt.bar(list(clean2.INCLASS.value_counts().index.tolist()), clean2.INCLASS.value_counts().values, align='center', color=\"b\")\n",
    "plt.title(\"Number of CUs in Income classes (outer fence)\")\n",
    "plt.xlabel(\"Income Class\")\n",
    "plt.ylabel(\"Count\")\n",
    "# plt.show()"
   ]
  },
  {
   "cell_type": "code",
   "execution_count": 31,
   "metadata": {
    "collapsed": false
   },
   "outputs": [
    {
     "data": {
      "text/plain": [
       "<matplotlib.text.Text at 0x115647c18>"
      ]
     },
     "execution_count": 31,
     "metadata": {},
     "output_type": "execute_result"
    }
   ],
   "source": [
    "inclassClean2SD = clean2.groupby(['INCLASS'],as_index=False).std()\n",
    "inclassClean2SD.iHousing\n",
    "plt.bar(inclassClean2SD.iHousing.index, inclassClean2SD.iHousing,color = 'b')\n",
    "plt.ylim(0,60000)\n",
    "plt.title(\"Standard deviations in Income Classes (outer fence)\")\n",
    "plt.xlabel(\"Income Class\")\n",
    "plt.ylabel(\"Standard Deviation\")\n",
    "# plt.show()"
   ]
  },
  {
   "cell_type": "code",
   "execution_count": 32,
   "metadata": {
    "collapsed": false
   },
   "outputs": [
    {
     "data": {
      "image/png": "[encoded data removed]",
      "text/plain": [
       "<matplotlib.figure.Figure at 0x1153f4d68>"
      ]
     },
     "metadata": {},
     "output_type": "display_data"
    },
    {
     "data": {
      "text/plain": [
       "array([1413, 1016,  665,  638,  633,  272,  263,  257,  200,  158])"
      ]
     },
     "execution_count": 32,
     "metadata": {},
     "output_type": "execute_result"
    }
   ],
   "source": [
    "plt.close()\n",
    "n_groups = 4\n",
    "values1 = inclassExpenses.INCLASS.value_counts().values\n",
    "values2 = clean1.INCLASS.value_counts().values\n",
    "values3 = clean2.INCLASS.value_counts().values\n",
    "\n",
    "fig, ax = plt.subplots()\n",
    "index = np.arange(n_groups)\n",
    "bar_width = 0.25\n",
    "opacity = 1\n",
    " \n",
    "rects1 = plt.bar(inclassExpenses.INCLASS.value_counts().index -1, values1, bar_width,\n",
    "                 alpha=opacity,\n",
    "                 color='r',\n",
    "                 label='With')\n",
    " \n",
    "rects2 = plt.bar(clean1.INCLASS.value_counts().index -1 + bar_width, values2, bar_width,\n",
    "                 alpha=opacity,\n",
    "                 color='g',\n",
    "                 label='Inner')\n",
    "\n",
    "rects3 = plt.bar(clean2.INCLASS.value_counts().index - 1 + bar_width*2, values3, bar_width,\n",
    "                 alpha=opacity,\n",
    "                 color='b',\n",
    "                 label='Outer')\n",
    "\n",
    "plt.xlabel('Income Class')\n",
    "plt.ylabel('Number of CUs')\n",
    "plt.title('Number of CUs per Income Class')\n",
    "plt.legend()\n",
    "plt.show()\n",
    "clean2.INCLASS.value_counts().values"
   ]
  },
  {
   "cell_type": "code",
   "execution_count": 33,
   "metadata": {
    "collapsed": false,
    "scrolled": false
   },
   "outputs": [
    {
     "name": "stdout",
     "output_type": "stream",
     "text": [
      "The average percent change between with and without outliers: 2.05%\n"
     ]
    },
    {
     "data": {
      "image/png": "[encoded data removed]",
      "text/plain": [
       "<matplotlib.figure.Figure at 0x118777cf8>"
      ]
     },
     "metadata": {},
     "output_type": "display_data"
    }
   ],
   "source": [
    "n_groups = 4\n",
    "values1 = percentages.iHousing\n",
    "values2 = cleanPercentages1.iHousing\n",
    "values3 = cleanPercentages2.iHousing\n",
    "\n",
    "print(\"The average percent change between with and without outliers: \"+str(round((values1-values3).mean()*100,2))+\"%\")\n",
    "\n",
    "fig, ax = plt.subplots()\n",
    "index = np.arange(n_groups)\n",
    "bar_width = 0.25\n",
    "opacity = 1\n",
    " \n",
    "rects1 = plt.bar(percentages.index, values1, bar_width,\n",
    "                 alpha=opacity,\n",
    "                 color='r',\n",
    "                 label='With')\n",
    " \n",
    "rects2 = plt.bar(cleanPercentages1.index + bar_width, values2, bar_width,\n",
    "                 alpha=opacity,\n",
    "                 color='g',\n",
    "                 label='Inner')\n",
    "\n",
    "rects3 = plt.bar(cleanPercentages2.index + bar_width*2, values3, bar_width,\n",
    "                 alpha=opacity,\n",
    "                 color='b',\n",
    "                 label='Outer')\n",
    "\n",
    "plt.xlabel('Income Class')\n",
    "plt.ylabel('Percent of Total Expenditures')\n",
    "plt.title('Percent Spent on Housing per Income Class')\n",
    "plt.ylim(0,.4)\n",
    "plt.legend()\n",
    "plt.show()"
   ]
  },
  {
   "cell_type": "code",
   "execution_count": 34,
   "metadata": {
    "collapsed": false
   },
   "outputs": [
    {
     "data": {
      "image/png": "[encoded data removed]",
      "text/plain": [
       "<matplotlib.figure.Figure at 0x1188967f0>"
      ]
     },
     "metadata": {},
     "output_type": "display_data"
    }
   ],
   "source": [
    "n_groups = 4\n",
    "values1 = inclassSD.iHousing\n",
    "values2 = inclassClean1SD.iHousing\n",
    "values3 = inclassClean2SD.iHousing\n",
    "\n",
    "fig, ax = plt.subplots()\n",
    "index = np.arange(n_groups)\n",
    "bar_width = 0.25\n",
    "opacity = 1\n",
    " \n",
    "rects1 = plt.bar(percentages.index, values1, bar_width,\n",
    "                 alpha=opacity,\n",
    "                 color='r',\n",
    "                 label='With')\n",
    " \n",
    "rects2 = plt.bar(cleanPercentages1.index + bar_width, values2, bar_width,\n",
    "                 alpha=opacity,\n",
    "                 color='g',\n",
    "                 label='Inner')\n",
    "\n",
    "rects3 = plt.bar(cleanPercentages2.index + bar_width*2, values3, bar_width,\n",
    "                 alpha=opacity,\n",
    "                 color='b',\n",
    "                 label='Outer')\n",
    "\n",
    "plt.xlabel('Income Class')\n",
    "plt.ylabel('Standard Deviation (Dollars)')\n",
    "plt.title('Standard Deviation of money spent on Housing per Income Class')\n",
    "plt.legend()\n",
    "plt.show()"
   ]
  },
  {
   "cell_type": "code",
   "execution_count": 35,
   "metadata": {
    "collapsed": false,
    "scrolled": true
   },
   "outputs": [
    {
     "data": {
      "image/png": "[encoded data removed]",
      "text/plain": [
       "<matplotlib.figure.Figure at 0x1186abbe0>"
      ]
     },
     "metadata": {},
     "output_type": "display_data"
    }
   ],
   "source": [
    "n_groups = 3\n",
    "values1 = percentages.ExpInc\n",
    "values2 = cleanPercentages1.ExpInc\n",
    "values3 = cleanPercentages2.ExpInc\n",
    "\n",
    "fig, ax = plt.subplots()\n",
    "index = np.arange(n_groups)\n",
    "bar_width = 0.25\n",
    "opacity = 1\n",
    " \n",
    "rects1 = plt.bar(percentages.index, values1, bar_width,\n",
    "                 alpha=opacity,\n",
    "                 color='r',\n",
    "                 label='With')\n",
    " \n",
    "rects2 = plt.bar(cleanPercentages1.index + bar_width, values2, bar_width,\n",
    "                 alpha=opacity,\n",
    "                 color='g',\n",
    "                 label='Outer Fence')\n",
    "\n",
    "rects3 = plt.bar(cleanPercentages2.index + bar_width*2, values3, bar_width,\n",
    "                 alpha=opacity,\n",
    "                 color='b',\n",
    "                 label='Inner Fence')\n",
    " \n",
    "plt.xlabel('Income Class')\n",
    "plt.ylabel('Percent of Income Expended')\n",
    "plt.title('Percent of Income Expent per Income Class')\n",
    "plt.legend()\n",
    "plt.show()"
   ]
  },
  {
   "cell_type": "markdown",
   "metadata": {},
   "source": [
    "# Least squares polynomial fit\n",
    "any value that would cause a person to expend over 100% of their income is truncated to 100%"
   ]
  },
  {
   "cell_type": "code",
   "execution_count": 36,
   "metadata": {
    "slideshow": "-"
   },
   "outputs": [
    {
     "name": "stdout",
     "output_type": "stream",
     "text": [
      "          3             2\n",
      "7.96e-13 x - 7.337e-07 x + 0.4607 x + 2.221e+04\n"
     ]
    },
    {
     "data": {
      "image/png": "[encoded data removed]",
      "text/plain": [
       "<matplotlib.figure.Figure at 0x1372ac128>"
      ]
     },
     "metadata": {},
     "output_type": "display_data"
    }
   ],
   "source": [
    "# cleanPercentages2.ExpInc[3:]\n",
    "cleanReg = clean2[[\"FINCBTXM\",\"iTotalExp\"]]\n",
    "cleanReg = cleanReg.loc[clean2.FINCBTXM > 0]\n",
    "cleanReg = cleanReg.loc[cleanReg.iTotalExp > 0]\n",
    "cleanReg\n",
    "def getExpendPercent(income):\n",
    "    if income <= 0:\n",
    "        return(1)\n",
    "    coefficients = np.polyfit(cleanReg.FINCBTXM, cleanReg.iTotalExp, deg = 3)\n",
    "    p = np.poly1d(coefficients)\n",
    "    np.seterr(divide='ignore')\n",
    "    percent = p(income)/income\n",
    "    if percent > 1:\n",
    "        percent = 1\n",
    "    return(percent)\n",
    "\n",
    "def printRegression():\n",
    "    coefficients = np.polyfit(cleanReg.FINCBTXM, cleanReg.iTotalExp, deg = 3)\n",
    "    p = np.poly1d(coefficients)\n",
    "    print(p)\n",
    "    \n",
    "    \n",
    "printRegression()\n",
    "    \n",
    "x = range(0,360000,1000)\n",
    "x2 = range(0,360000,1000)\n",
    "y =[]\n",
    "y2 =[]\n",
    "def oldRegression(income):\n",
    "    if income > 53000:\n",
    "        output = ((-7.6108*(10**(-17)))*(income**3))+((4.2009*(10**(-11)))*(income**2))+((-7.90256*(10**-6))*income)+1.21112\n",
    "    else:\n",
    "        output = 1\n",
    "    return(output)\n",
    "\n",
    "\n",
    "for bracket in range(0,360000,1000):\n",
    "    y.append(getExpendPercent(bracket))\n",
    "    y2.append(oldRegression(bracket))\n",
    "# plt.plot(inclassCleanAverages2.FINCBTXM,cleanPercentages2.ExpInc)\n",
    "plt.plot(x,y, color = \"r\", label=\"New\")\n",
    "plt.plot(x2,y2, color = \"b\", label = \"Old\")\n",
    "x3 = range(0,incomeBrackets[len(incomeBrackets)-2])\n",
    "\n",
    "# creating the repeatArray for income Bracket plotting\n",
    "lastvalue = 0\n",
    "repeatArray = []\n",
    "for x in range(0,len(incomeBrackets[1:len(incomeBrackets)-1])):\n",
    "    repeatArray.append(incomeBrackets[1:len(incomeBrackets)-1][x] - lastvalue)\n",
    "    lastvalue = incomeBrackets[1:len(incomeBrackets)-1][x]\n",
    "\n",
    "y3 = np.repeat(cleanPercentages2.ExpInc[0:len(cleanPercentages2)-1], repeatArray)\n",
    "plt.plot(x3,y3, color = \"g\", label = \"Brackets\")\n",
    "plt.title(\"Percent of Income Expended Regression\")\n",
    "plt.xlabel(\"Income Before Taxes\")\n",
    "plt.ylabel(\"Percent of Income Expended\")\n",
    "plt.xlim(0,350000)\n",
    "plt.ylim(0,1.2)\n",
    "plt.legend()\n",
    "plt.show()"
   ]
  },
  {
   "cell_type": "markdown",
   "metadata": {},
   "source": [
    "### Plot of number of CUs for clean2 only"
   ]
  },
  {
   "cell_type": "code",
   "execution_count": 37,
   "metadata": {},
   "outputs": [
    {
     "data": {
      "image/png": "[encoded data removed]",
      "text/plain": [
       "<matplotlib.figure.Figure at 0x1153c07f0>"
      ]
     },
     "metadata": {},
     "output_type": "display_data"
    }
   ],
   "source": [
    "plt.bar(clean2.INCLASS.value_counts().index - 1, (clean2.INCLASS.value_counts().values)/(len(clean2)), alpha=opacity, color='g')\n",
    "plt.suptitle(\"Percent of CUs in each Income class\")\n",
    "plt.title(\"Ages: 60-75\")\n",
    "plt.xlabel(\"Income Class\")\n",
    "plt.ylabel(\"Percent of CUs\")\n",
    "plt.show()"
   ]
  },
  {
   "cell_type": "markdown",
   "metadata": {},
   "source": [
    "# Examples of Users"
   ]
  },
  {
   "cell_type": "code",
   "execution_count": 38,
   "metadata": {},
   "outputs": [
    {
     "data": {
      "text/html": [
       "<div>\n",
       "<table border=\"1\" class=\"dataframe\">\n",
       "  <thead>\n",
       "    <tr style=\"text-align: right;\">\n",
       "      <th></th>\n",
       "      <th>iFoodAtHome</th>\n",
       "      <th>iFoodAway</th>\n",
       "      <th>iHousing</th>\n",
       "      <th>iUtilites</th>\n",
       "      <th>iClothingAndBeauty</th>\n",
       "      <th>iTransportation</th>\n",
       "      <th>iHealthcare</th>\n",
       "      <th>iEntertainment</th>\n",
       "      <th>iMiscellaneous</th>\n",
       "      <th>iCharitableAndFamilyGiving</th>\n",
       "      <th>iInsurance</th>\n",
       "      <th>iEducation</th>\n",
       "      <th>iHousingPrinciple</th>\n",
       "      <th>ExpInc</th>\n",
       "    </tr>\n",
       "  </thead>\n",
       "  <tbody>\n",
       "    <tr>\n",
       "      <th>30000</th>\n",
       "      <td>321.531</td>\n",
       "      <td>162.224</td>\n",
       "      <td>616.049</td>\n",
       "      <td>250.659</td>\n",
       "      <td>63.9275</td>\n",
       "      <td>449.377</td>\n",
       "      <td>353.73</td>\n",
       "      <td>158.662</td>\n",
       "      <td>48.9505</td>\n",
       "      <td>120.579</td>\n",
       "      <td>13.7689</td>\n",
       "      <td>8.11414</td>\n",
       "      <td>67.5724</td>\n",
       "      <td>2500</td>\n",
       "    </tr>\n",
       "    <tr>\n",
       "      <th>60000</th>\n",
       "      <td>461.177</td>\n",
       "      <td>251.667</td>\n",
       "      <td>1020.37</td>\n",
       "      <td>375.447</td>\n",
       "      <td>114.398</td>\n",
       "      <td>771.403</td>\n",
       "      <td>549.34</td>\n",
       "      <td>222.449</td>\n",
       "      <td>66.0769</td>\n",
       "      <td>204.953</td>\n",
       "      <td>32.2541</td>\n",
       "      <td>15.9771</td>\n",
       "      <td>137.007</td>\n",
       "      <td>3437.21</td>\n",
       "    </tr>\n",
       "    <tr>\n",
       "      <th>90000</th>\n",
       "      <td>513.332</td>\n",
       "      <td>261.304</td>\n",
       "      <td>1269.14</td>\n",
       "      <td>400.455</td>\n",
       "      <td>117.792</td>\n",
       "      <td>1258.51</td>\n",
       "      <td>601.519</td>\n",
       "      <td>263.781</td>\n",
       "      <td>71.4252</td>\n",
       "      <td>204.733</td>\n",
       "      <td>45.8871</td>\n",
       "      <td>41.8368</td>\n",
       "      <td>190.677</td>\n",
       "      <td>3333.95</td>\n",
       "    </tr>\n",
       "    <tr>\n",
       "      <th>120000</th>\n",
       "      <td>568.884</td>\n",
       "      <td>378.117</td>\n",
       "      <td>1553.95</td>\n",
       "      <td>452.755</td>\n",
       "      <td>177.269</td>\n",
       "      <td>1203.34</td>\n",
       "      <td>656.29</td>\n",
       "      <td>411.319</td>\n",
       "      <td>95.3554</td>\n",
       "      <td>381.511</td>\n",
       "      <td>53.7495</td>\n",
       "      <td>39.7368</td>\n",
       "      <td>280.524</td>\n",
       "      <td>3518.83</td>\n",
       "    </tr>\n",
       "    <tr>\n",
       "      <th>250000</th>\n",
       "      <td>693.8</td>\n",
       "      <td>585.842</td>\n",
       "      <td>2627.96</td>\n",
       "      <td>490.272</td>\n",
       "      <td>348.548</td>\n",
       "      <td>1937.5</td>\n",
       "      <td>695.446</td>\n",
       "      <td>545.903</td>\n",
       "      <td>288.956</td>\n",
       "      <td>550.881</td>\n",
       "      <td>78.9352</td>\n",
       "      <td>162.584</td>\n",
       "      <td>343.587</td>\n",
       "      <td>3201.17</td>\n",
       "    </tr>\n",
       "  </tbody>\n",
       "</table>\n",
       "</div>"
      ],
      "text/plain": [
       "       iFoodAtHome iFoodAway iHousing iUtilites iClothingAndBeauty  \\\n",
       "30000      321.531   162.224  616.049   250.659            63.9275   \n",
       "60000      461.177   251.667  1020.37   375.447            114.398   \n",
       "90000      513.332   261.304  1269.14   400.455            117.792   \n",
       "120000     568.884   378.117  1553.95   452.755            177.269   \n",
       "250000       693.8   585.842  2627.96   490.272            348.548   \n",
       "\n",
       "       iTransportation iHealthcare iEntertainment iMiscellaneous  \\\n",
       "30000          449.377      353.73        158.662        48.9505   \n",
       "60000          771.403      549.34        222.449        66.0769   \n",
       "90000          1258.51     601.519        263.781        71.4252   \n",
       "120000         1203.34      656.29        411.319        95.3554   \n",
       "250000          1937.5     695.446        545.903        288.956   \n",
       "\n",
       "       iCharitableAndFamilyGiving iInsurance iEducation iHousingPrinciple  \\\n",
       "30000                     120.579    13.7689    8.11414           67.5724   \n",
       "60000                     204.953    32.2541    15.9771           137.007   \n",
       "90000                     204.733    45.8871    41.8368           190.677   \n",
       "120000                    381.511    53.7495    39.7368           280.524   \n",
       "250000                    550.881    78.9352    162.584           343.587   \n",
       "\n",
       "         ExpInc  \n",
       "30000      2500  \n",
       "60000   3437.21  \n",
       "90000   3333.95  \n",
       "120000  3518.83  \n",
       "250000  3201.17  "
      ]
     },
     "execution_count": 38,
     "metadata": {},
     "output_type": "execute_result"
    }
   ],
   "source": [
    "usersIncome = [30000, 60000, 90000, 120000, 250000]\n",
    "def getIncomeBracket(income):\n",
    "    for bracket in range(len(incomeBrackets)-2,0,-1):\n",
    "        if income > incomeBrackets[bracket]:\n",
    "            return bracket\n",
    "            \n",
    "\n",
    "exampleExpenses = pd.DataFrame(columns = cleanPercentages2.columns, index = range(len(usersIncome)))\n",
    "for user in usersIncome:\n",
    "    userBracket = getIncomeBracket(user)\n",
    "    userExpendAmount = getExpendPercent(user) * user\n",
    "    userBaseExpenses = (cleanPercentages2.loc[userBracket]*userExpendAmount)/12\n",
    "    exampleExpenses.loc[usersIncome.index(user)] = userBaseExpenses\n",
    "\n",
    "exampleExpenses.index = usersIncome\n",
    "\n",
    "exampleExpenses"
   ]
  },
  {
   "cell_type": "markdown",
   "metadata": {},
   "source": [
    "# Creating CSV fo percentages"
   ]
  },
  {
   "cell_type": "code",
   "execution_count": 39,
   "metadata": {},
   "outputs": [],
   "source": [
    "# cleanPercentages2.to_csv(\"percentage60to75.csv\")"
   ]
  },
  {
   "cell_type": "markdown",
   "metadata": {},
   "source": [
    "# Importing CSVs of pre-Subset Percentages CSVs"
   ]
  },
  {
   "cell_type": "code",
   "execution_count": 40,
   "metadata": {},
   "outputs": [],
   "source": [
    "ageRange1 = pd.read_csv(\"percentage55to64.csv\", index_col=0)\n",
    "ageRange2 = pd.read_csv(\"percentage60to75.csv\", index_col=0)\n",
    "ageRange3 = pd.read_csv(\"percentage65up.csv\", index_col=0)"
   ]
  },
  {
   "cell_type": "markdown",
   "metadata": {},
   "source": [
    "### Plotting the differences between Age brackets"
   ]
  },
  {
   "cell_type": "code",
   "execution_count": 41,
   "metadata": {},
   "outputs": [
    {
     "data": {
      "image/png": "[encoded data removed]",
      "text/plain": [
       "<matplotlib.figure.Figure at 0x1190f4b00>"
      ]
     },
     "metadata": {},
     "output_type": "display_data"
    }
   ],
   "source": [
    "n_groups = 3\n",
    "values1 = ageRange1.ExpInc\n",
    "values2 = ageRange2.ExpInc\n",
    "values3 = ageRange3.ExpInc\n",
    "\n",
    "fig, ax = plt.subplots()\n",
    "index = np.arange(n_groups)\n",
    "bar_width = 0.25\n",
    "opacity = 1\n",
    " \n",
    "rects1 = plt.bar(ageRange1.index, values1, bar_width,\n",
    "                 alpha=opacity,\n",
    "                 color='r',\n",
    "                 label='55-64')\n",
    " \n",
    "rects2 = plt.bar(ageRange2.index + bar_width, values2, bar_width,\n",
    "                 alpha=opacity,\n",
    "                 color='g',\n",
    "                 label='60-75')\n",
    "\n",
    "rects3 = plt.bar(ageRange3.index + (bar_width * 2), values3, bar_width,\n",
    "                 alpha=opacity,\n",
    "                 color='b',\n",
    "                 label='65+')\n",
    "\n",
    "plt.xlabel('Income Class')\n",
    "plt.ylabel('Percent of Income Expended')\n",
    "plt.title('Percent of Income Expent per Income Class')\n",
    "plt.legend()\n",
    "plt.show()"
   ]
  },
  {
   "cell_type": "code",
   "execution_count": 42,
   "metadata": {},
   "outputs": [
    {
     "data": {
      "image/png": "[encoded data removed]",
      "text/plain": [
       "<matplotlib.figure.Figure at 0x115721b00>"
      ]
     },
     "metadata": {},
     "output_type": "display_data"
    }
   ],
   "source": [
    "n_groups = 3\n",
    "values1 = ageRange1.iHousing\n",
    "values2 = ageRange2.iHousing\n",
    "values3 = ageRange3.iHousing\n",
    "\n",
    "fig, ax = plt.subplots()\n",
    "index = np.arange(n_groups)\n",
    "bar_width = 0.25\n",
    "opacity = 1\n",
    " \n",
    "rects1 = plt.bar(ageRange1.index, values1, bar_width,\n",
    "                 alpha=opacity,\n",
    "                 color='r',\n",
    "                 label='55-64')\n",
    " \n",
    "rects2 = plt.bar(ageRange2.index + bar_width, values2, bar_width,\n",
    "                 alpha=opacity,\n",
    "                 color='g',\n",
    "                 label='60-75')\n",
    "\n",
    "rects3 = plt.bar(ageRange3.index + (bar_width * 2), values3, bar_width,\n",
    "                 alpha=opacity,\n",
    "                 color='b',\n",
    "                 label='65+')\n",
    "\n",
    "plt.xlabel('Income Class')\n",
    "plt.ylabel('Percent of Total Expenditures')\n",
    "plt.title('Percent Spent on Housing per Income Class')\n",
    "plt.legend()\n",
    "plt.show()"
   ]
  },
  {
   "cell_type": "code",
   "execution_count": 43,
   "metadata": {},
   "outputs": [
    {
     "data": {
      "image/png": "[encoded data removed]",
      "text/plain": [
       "<matplotlib.figure.Figure at 0x118d775f8>"
      ]
     },
     "metadata": {},
     "output_type": "display_data"
    }
   ],
   "source": [
    "n_groups = 3\n",
    "values1 = ageRange1.iHealthcare\n",
    "values2 = ageRange2.iHealthcare\n",
    "values3 = ageRange3.iHealthcare\n",
    "\n",
    "fig, ax = plt.subplots()\n",
    "index = np.arange(n_groups)\n",
    "bar_width = 0.25\n",
    "opacity = 1\n",
    " \n",
    "rects1 = plt.bar(ageRange1.index, values1, bar_width,\n",
    "                 alpha=opacity,\n",
    "                 color='r',\n",
    "                 label='55-64')\n",
    " \n",
    "rects2 = plt.bar(ageRange2.index + bar_width, values2, bar_width,\n",
    "                 alpha=opacity,\n",
    "                 color='g',\n",
    "                 label='60-75')\n",
    "\n",
    "rects3 = plt.bar(ageRange3.index + (bar_width * 2), values3, bar_width,\n",
    "                 alpha=opacity,\n",
    "                 color='b',\n",
    "                 label='65+')\n",
    "\n",
    "plt.xlabel('Income Class')\n",
    "plt.ylabel('Percent of Total Expenditures')\n",
    "plt.title('Percent Spent on Healthcare per Income Class')\n",
    "plt.legend()\n",
    "plt.show()"
   ]
  },
  {
   "cell_type": "code",
   "execution_count": 44,
   "metadata": {},
   "outputs": [
    {
     "data": {
      "image/png": "[encoded data removed]",
      "text/plain": [
       "<matplotlib.figure.Figure at 0x1156fe160>"
      ]
     },
     "metadata": {},
     "output_type": "display_data"
    }
   ],
   "source": [
    "n_groups = 2\n",
    "values1 = ageRange1.iTransportation\n",
    "values2 = ageRange2.iTransportation\n",
    "values3 = ageRange3.iTransportation\n",
    "\n",
    "fig, ax = plt.subplots()\n",
    "index = np.arange(n_groups)\n",
    "bar_width = 0.25\n",
    "opacity = 1\n",
    " \n",
    "rects1 = plt.bar(ageRange1.index, values1, bar_width,\n",
    "                 alpha=opacity,\n",
    "                 color='r',\n",
    "                 label='55-64')\n",
    " \n",
    "rects2 = plt.bar(ageRange2.index + bar_width, values2, bar_width,\n",
    "                 alpha=opacity,\n",
    "                 color='g',\n",
    "                 label='60-75')\n",
    "\n",
    "rects3 = plt.bar(ageRange3.index + (bar_width * 2), values3, bar_width,\n",
    "                 alpha=opacity,\n",
    "                 color='b',\n",
    "                 label='65+')\n",
    "\n",
    "plt.xlabel('Income Class')\n",
    "plt.ylabel('Percent of Total Expenditures')\n",
    "plt.title('Percent Spent on Transportation per Income Class')\n",
    "plt.legend()\n",
    "plt.show()"
   ]
  },
  {
   "cell_type": "markdown",
   "metadata": {},
   "source": [
    "# Thoughts on the difference between 55-64, 60-75, and 65+\n",
    "- On average: 55-64 < 60-75 < 65+ in terms of expenditure percentage\n",
    "- This could be because the people in the 60-75 and 65+ bracket are actually retired meaning their income is lower?\n",
    " - will check this\n",
    "\n",
    "## What each bracket might represent\n",
    "- 55-64 simulates that specific time right before and right at the begining of retirment\n",
    "- 60-75 simulates the time during retirement with some non-retired CUs\n",
    "- 65+ is a higher potential to show people who have actually retired"
   ]
  }
 ],
 "metadata": {
  "kernelspec": {
   "display_name": "Python 3",
   "language": "python",
   "name": "python3"
  },
  "language_info": {
   "codemirror_mode": {
    "name": "ipython",
    "version": 3
   },
   "file_extension": ".py",
   "mimetype": "text/x-python",
   "name": "python",
   "nbconvert_exporter": "python",
   "pygments_lexer": "ipython3",
   "version": "3.6.0"
  },
  "widgets": {
   "state": {
    "0068692ac0bc411882a87b1a14dcfe10": {
     "views": [
      {
       "cell_index": 4
      }
     ]
    },
    "0bb2a8ec3efd4b92929860f0bd5905e0": {
     "views": [
      {
       "cell_index": 4
      }
     ]
    },
    "100206eef84d4173abc40ab8904f8ad5": {
     "views": [
      {
       "cell_index": 4
      }
     ]
    },
    "1b9d1660c8c64ec9952ea8a110d1f45b": {
     "views": [
      {
       "cell_index": 4
      }
     ]
    },
    "206b339cc5fa431eb2bfdf4a002fbee4": {
     "views": [
      {
       "cell_index": 4
      }
     ]
    },
    "27544fcbcde6482ab4785aca6aad69f9": {
     "views": [
      {
       "cell_index": 4
      }
     ]
    },
    "2c4068db76574349ba22032b0e0389bf": {
     "views": [
      {
       "cell_index": 4
      }
     ]
    },
    "385321efd2764b82add0b60833dab624": {
     "views": [
      {
       "cell_index": 4
      }
     ]
    },
    "48f62472d15647e9b82c65dcdbdc25b1": {
     "views": [
      {
       "cell_index": 4
      }
     ]
    },
    "516d2b0274bb45bfaec4433d691dc6ec": {
     "views": [
      {
       "cell_index": 4
      }
     ]
    },
    "522fbf9e096342859c5801ecb6e99658": {
     "views": [
      {
       "cell_index": 4
      }
     ]
    },
    "6fdc0a4cf68b438fac80ab3e4b83d19f": {
     "views": [
      {
       "cell_index": 4
      }
     ]
    },
    "91413111d50544c48166272bb0472126": {
     "views": [
      {
       "cell_index": 4
      }
     ]
    },
    "a89892d026274481bc6291f33d61d7e5": {
     "views": [
      {
       "cell_index": 4
      }
     ]
    },
    "ba65bfee910c4112af5658a6e6a2ef70": {
     "views": [
      {
       "cell_index": 4
      }
     ]
    },
    "c5763faee881469485888bfe55e988d1": {
     "views": [
      {
       "cell_index": 4
      }
     ]
    },
    "ca4f506cd0b14565b07e8899cf82befe": {
     "views": [
      {
       "cell_index": 4
      }
     ]
    },
    "d3b4abc7c62c4b0aa661a9f52260198b": {
     "views": [
      {
       "cell_index": 4
      }
     ]
    },
    "dfcd57085b0c46b6ac49e9f39fb3ffb5": {
     "views": [
      {
       "cell_index": 4
      }
     ]
    },
    "ed7c8b262ece470aafa8df3c2730a563": {
     "views": [
      {
       "cell_index": 4
      }
     ]
    },
    "f31852a1231145c08bf5cf8b6a3e888c": {
     "views": [
      {
       "cell_index": 4
      }
     ]
    },
    "fc7c33a10615450991993c8d4d270f86": {
     "views": [
      {
       "cell_index": 4
      }
     ]
    }
   },
   "version": "1.2.0"
  }
 },
 "nbformat": 4,
 "nbformat_minor": 2
}
