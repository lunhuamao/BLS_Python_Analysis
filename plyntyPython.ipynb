{
 "cells": [
  {
   "cell_type": "markdown",
   "metadata": {
    "slideshow": {
     "slide_type": "slide"
    }
   },
   "source": [
    "# Plynty Bureau of Labor Statistics Consumer Expenditure Analysis\n",
    "\n",
    "[BLS Comsumer Expenditure Survey](https://www.bls.gov/cex/home.htm)\n",
    "\n",
    "[Interview Data Dictionary](https://www.bls.gov/cex/2015/csxintvwdata.pdf)\n",
    "\n",
    "[Diary Data Dictionary](https://www.bls.gov/cex/2015/csxdiarydata.pdf)\n",
    "\n",
    "### Where to download the BLS CE PUMD\n",
    "- The zip files download automatically\n",
    "- To download the Stub files open the links then right click and choose \"Save As...\"\n",
    "\n",
    "[2015 interview zip file](https://www.bls.gov/cex/pumd/data/comma/intrvw15.zip)\n",
    "\n",
    "[2015 diary zip file](https://www.bls.gov/cex/pumd/data/comma/diary15.zip)\n",
    "\n",
    "[2015 IntStub file](https://www.bls.gov/cex/pumd/2014/csxintstub.txt)\n",
    "\n",
    "[2015 IStub file](https://www.bls.gov/cex/pumd/2014/csxistub.txt)\n",
    "\n",
    "[2015 DStub file](https://www.bls.gov/cex/pumd/2014/csxdstub.txt)\n",
    "\n",
    "### This Scripts Goals for Plynty\n",
    "- Create an easy to use analysis script for the BLS CE PUMD \n",
    "- Create a csv files that has average percentages spent on plynty categories for certain income classes\n",
    "- Develop a \n",
    "- Create incomeclasses that are stastically significant"
   ]
  },
  {
   "cell_type": "markdown",
   "metadata": {
    "slideshow": {
     "slide_type": "slide"
    }
   },
   "source": [
    "##### Importing Libraries "
   ]
  },
  {
   "cell_type": "code",
   "execution_count": 45,
   "metadata": {
    "collapsed": false,
    "slideshow": {
     "slide_type": "subslide"
    }
   },
   "outputs": [
    {
     "name": "stdout",
     "output_type": "stream",
     "text": [
      "Dependencies Loaded...\n"
     ]
    }
   ],
   "source": [
    "import pandas as pd\n",
    "import numpy as np\n",
    "import os\n",
    "import subprocess\n",
    "import math\n",
    "import matplotlib.pyplot as plt\n",
    "from scipy.interpolate import *\n",
    "from plyntywidgets import *\n",
    "from blsFunctions import *\n",
    "print(\"Dependencies Loaded...\")"
   ]
  },
  {
   "cell_type": "markdown",
   "metadata": {},
   "source": [
    "### Setting Parameters\n",
    "- year: the last two number associated with the year of the data\n",
    "    for example for data from 2015: year = \"15\"\n",
    "- minAge: the low bound (inclusive) of the age range you wish to subset by\n",
    "- maxAge: the high bound (inclusive) of the age range you wish to subset by\n",
    "- incomeBrackets: array of numbers that you wish to create the new income classes\n",
    "    the bracketing works as follows (1,2], (2,3], (3,4]\n",
    "- filesToRead: the strings of the abbreviations associated with the files you wish to read\n",
    "    options are: \"all\", \"diary\", \"interview\", \"dtbd\", \"expd\", \"fmld\", \"memd\", \"fmli\", \"itbi\", \"memi\", \"mtbi\", \"ntaxi\""
   ]
  },
  {
   "cell_type": "code",
   "execution_count": 46,
   "metadata": {
    "collapsed": false
   },
   "outputs": [],
   "source": [
    "year = \"15\"\n",
    "filesToRead = [\"fmli\", \"mtbi\"]\n",
    "incomeBrackets = [-math.inf,11000,20000,30000,43000,55000,69000,80000,100000,120000,150000,200000,250000,300000,math.inf]\n",
    "minAge = 65\n",
    "maxAge = 103"
   ]
  },
  {
   "cell_type": "markdown",
   "metadata": {},
   "source": [
    "### Setting Directory locations and FileNames on your Local Machine"
   ]
  },
  {
   "cell_type": "code",
   "execution_count": 47,
   "metadata": {
    "collapsed": false
   },
   "outputs": [],
   "source": [
    "# directory in which the diary and interview folders are held is located\n",
    "diaryDir = \"/Users/adyke/Vizuri/CE_PUMD/diary15/\"\n",
    "interviewDir = \"/Users/adyke/Vizuri/CE_PUMD/intrvw15/\"\n",
    "\n",
    "# Directory where stubfiles are located\n",
    "pathToStubFileDir = \"/Users/adyke/Vizuri/Stubfiles/\"\n",
    "rScriptStubfilePathAndName = \"/Users/adyke/Vizuri/BLS_Python_Analysis/creatingStubCsvs.R\"\n",
    "\n",
    "# Filenames of the Stubfiles\n",
    "IStubFileName = \"IStub2015.txt\"\n",
    "DStubFileName = \"DStub2015.txt\"\n",
    "IntStubFileName = \"IntStub2015.txt\"\n",
    "\n",
    "# name of interview dir within the interview dir\n",
    "insideIntrvwDirName = \"intrvw\"\n",
    "\n",
    "# name of the directory where you want the output percentages csv\n",
    "outputDir = \"/Users/adyke/Vizuri/outputFiles/\""
   ]
  },
  {
   "cell_type": "markdown",
   "metadata": {},
   "source": [
    "### Reading in the files specified by FilesToRead"
   ]
  },
  {
   "cell_type": "code",
   "execution_count": 48,
   "metadata": {
    "collapsed": false
   },
   "outputs": [],
   "source": [
    "if(len(filesToRead)==0):\n",
    "    print(\"The files to read variable is empty.\")\n",
    "\n",
    "# looping through each file to read\n",
    "for file in filesToRead:\n",
    "    if file == \"dtbd\" or file == \"all\" or file == \"diary\":\n",
    "        dtbd = readFileSet(\"dtbd\", diaryDir)\n",
    "    if file == \"expd\" or file == \"all\" or file == \"diary\":\n",
    "        expd = readFileSet(\"expd\", diaryDir)\n",
    "    if file == \"fmld\" or file == \"all\" or file == \"diary\":\n",
    "        fmld = readFileSet(\"fmld\", diaryDir)\n",
    "    if file == \"memd\" or file == \"all\" or file == \"diary\":\n",
    "        memd = readFileSet(\"memd\", diaryDir)\n",
    "    if file == \"fmli\" or file == \"all\" or file == \"interview\":\n",
    "        fmli = readFileSet(\"fmli\", interviewDir+insideIntrvwDirName+year+\"/\")\n",
    "    if file == \"itbi\" or file == \"all\" or file == \"interview\":\n",
    "        itbi = readFileSet(\"itbi\", interviewDir+insideIntrvwDirName+year+\"/\")\n",
    "    if file == \"itii\" or file == \"all\" or file == \"interview\":\n",
    "        itii = readFileSet(\"itii\", interviewDir+insideIntrvwDirName+year+\"/\")\n",
    "    if file == \"memi\" or file == \"all\" or file == \"interview\":\n",
    "        memi = readFileSet(\"memi\", interviewDir+insideIntrvwDirName+year+\"/\")\n",
    "    if file == \"mtbi\" or file == \"all\" or file == \"interview\":\n",
    "        mtbi = readFileSet(\"mtbi\", interviewDir+insideIntrvwDirName+year+\"/\")\n",
    "        mtbi.UCC = mtbi.UCC.astype(str)\n",
    "    if file == \"ntaxi\" or file == \"all\" or file == \"interview\":\n",
    "        ntaxi = readFileSet(\"ntaxi\", interviewDir+insideIntrvwDirName+year+\"/\")\n",
    "# does not read form the expn or para subdirectories\n"
   ]
  },
  {
   "cell_type": "markdown",
   "metadata": {},
   "source": [
    "### Using R to convert the Stub files into csv files"
   ]
  },
  {
   "cell_type": "code",
   "execution_count": 49,
   "metadata": {
    "collapsed": false
   },
   "outputs": [
    {
     "name": "stdout",
     "output_type": "stream",
     "text": [
      "Stubfiles Exist\n"
     ]
    }
   ],
   "source": [
    "if os.path.isfile(pathToStubFileDir+\"DStub.csv\") and os.path.isfile(pathToStubFileDir+\"IStub.csv\") and os.path.isfile(pathToStubFileDir+\"IntStub.csv\"):\n",
    "    print(\"Stubfiles Exist\")\n",
    "else:\n",
    "    # converting the stub files via R \n",
    "    subprocess.call(\"Rscript \"+rScriptStubfilePathAndName+\" \"+pathToStubFileDir+\" \"+IStubFileName+\" \"+DStubFileName+\" \"+IntStubFileName, shell=True)\n",
    "    print(\"Stubfile Csvs created in \"+pathToStubFileDir)"
   ]
  },
  {
   "cell_type": "markdown",
   "metadata": {},
   "source": [
    "### Reading and Cleaning the stubfile CSVs into pandas dataframes"
   ]
  },
  {
   "cell_type": "code",
   "execution_count": 50,
   "metadata": {
    "collapsed": false
   },
   "outputs": [],
   "source": [
    "# reading in the stubfiles\n",
    "DStub = pd.read_csv(pathToStubFileDir+\"DStub.csv\")\n",
    "IStub = pd.read_csv(pathToStubFileDir+\"IStub.csv\")\n",
    "IntStub = pd.read_csv(pathToStubFileDir+\"IntStub.csv\")\n",
    "\n",
    "# removing the index from the stufile\n",
    "DStub = DStub.drop(DStub.columns[0], axis=1)\n",
    "IStub = IStub.drop(IStub.columns[0], axis=1)\n",
    "IntStub = IntStub.drop(IntStub.columns[0], axis=1)\n",
    "\n",
    "# replacing * with 0 in the level columns\n",
    "DStub.loc[DStub.level == \"*\", 'level'] = 0\n",
    "IStub.loc[IStub.level == \"*\", 'level'] = 0\n",
    "IntStub.loc[IntStub.level == \"*\", 'level'] = 0"
   ]
  },
  {
   "cell_type": "markdown",
   "metadata": {},
   "source": [
    "# Starting the Plynty calculations"
   ]
  },
  {
   "cell_type": "markdown",
   "metadata": {},
   "source": [
    "### Creating the UCC roll ups for Plynty"
   ]
  },
  {
   "cell_type": "code",
   "execution_count": 51,
   "metadata": {
    "collapsed": false
   },
   "outputs": [],
   "source": [
    "# creating UCC rollups for the interview files for plynty categories\n",
    "iTotalExp = categoricalUCCRollUp(IStub,[\"TOTALE\"])\n",
    "iFoodAtHome = categoricalUCCRollUp(IStub, [\"FOODHO\", \"ALCHOM\"])\n",
    "iFoodAway = categoricalUCCRollUp(IStub, [\"FOODAW\", \"ALCAWA\"])\n",
    "iHousing = categoricalUCCRollUp(IStub, [\"HOUSIN\"], ignoreUCCs = categoricalUCCRollUp(IStub, [\"UTILS\"]))\n",
    "iUtilites = categoricalUCCRollUp(IStub, [\"UTILS\"])\n",
    "iClothingAndBeauty = categoricalUCCRollUp(IStub, [\"APPARE\",\"PERSCA\"])\n",
    "iTransportation = categoricalUCCRollUp(IStub, [\"TRANS\"])\n",
    "iHealthcare = categoricalUCCRollUp(IStub, [\"HEALTH\"])\n",
    "iEntertainment = categoricalUCCRollUp(IStub, [\"ENTRTA\",\"READIN\"])\n",
    "iMiscellaneous = categoricalUCCRollUp(IStub, [\"MISC\",\"TOBACC\"])\n",
    "iCharitableAndFamilyGiving = categoricalUCCRollUp(IStub, [\"CASHCO\"])\n",
    "iInsurance = categoricalUCCRollUp(IStub, [\"LIFEIN\"])\n",
    "iEducation = categoricalUCCRollUp(IStub, [\"EDUCAT\"])\n",
    "iHousingPrinciple = categoricalUCCRollUp(IStub,[\"MRTPRI\"])"
   ]
  },
  {
   "cell_type": "markdown",
   "metadata": {},
   "source": [
    "### Adding and Rolling up the MTBI Categories into mtbiRolledUp\n",
    "\n",
    "outputs from cell:\n",
    "- mtbiTrimmed: Dataframe with NewID, TotatlExp and each entry of cost."
   ]
  },
  {
   "cell_type": "code",
   "execution_count": 52,
   "metadata": {
    "collapsed": false
   },
   "outputs": [],
   "source": [
    "rollupNames = [\"iTotalExp\",\"iFoodAtHome\",\"iFoodAway\",\"iHousing\",\"iUtilites\",\"iClothingAndBeauty\",\"iTransportation\",\"iHealthcare\",\"iEntertainment\",\"iMiscellaneous\",\"iCharitableAndFamilyGiving\",\"iInsurance\",\"iEducation\",\"iHousingPrinciple\"]\n",
    "rollups = [iTotalExp,iFoodAtHome,iFoodAway,iHousing,iUtilites,iClothingAndBeauty,iTransportation,iHealthcare,iEntertainment,iMiscellaneous,iCharitableAndFamilyGiving,iInsurance,iEducation,iHousingPrinciple]\n",
    "\n",
    "mtbiRolledUp = rollUpDataframe(mtbi, rollupNames, rollups, negativeColumns=[\"iHousingPrinciple\"], multiple=4)\n",
    "\n",
    "mtbiTrimmed = mtbiRolledUp.loc[: , ['NEWID','iTotalExp','iFoodAtHome','iFoodAway','iHousing','iUtilites','iClothingAndBeauty','iTransportation','iHealthcare','iEntertainment','iMiscellaneous','iCharitableAndFamilyGiving','iInsurance','iEducation','iHousingPrinciple']]"
   ]
  },
  {
   "cell_type": "markdown",
   "metadata": {},
   "source": [
    "### Creating the Sum for all expenditure category columns for each NEWID\n",
    "nonZeroColumns is an array that contains the names of columns that should not be Zero\n",
    "\n",
    "outputs from cell:\n",
    "- iExpensesByNewID: total expenses for each category for each NewID"
   ]
  },
  {
   "cell_type": "code",
   "execution_count": 53,
   "metadata": {
    "collapsed": false
   },
   "outputs": [],
   "source": [
    "# adding up all columns for each new id\n",
    "iExpensesByNewID = mtbiTrimmed.groupby(['NEWID'],as_index=False).sum()\n",
    "# removing rows with zero values in key categories\n",
    "nonZeroColumns = ['iFoodAtHome','iFoodAway','iHousing','iUtilites']\n",
    "for column in nonZeroColumns:\n",
    "    iExpensesByNewID = iExpensesByNewID[iExpensesByNewID[column] != 0]\n",
    "iExpensesByNewID['iHousing'] = iExpensesByNewID['iHousing']+iExpensesByNewID['iHousingPrinciple']"
   ]
  },
  {
   "cell_type": "markdown",
   "metadata": {},
   "source": [
    "### Subestting FMLI for age and recoding the incomebrackets"
   ]
  },
  {
   "cell_type": "code",
   "execution_count": 54,
   "metadata": {
    "collapsed": false,
    "scrolled": true
   },
   "outputs": [],
   "source": [
    "# subsetting for the age bracket\n",
    "fmliAge = subsetDataframe(dataframe=fmli, columnName=\"AGE_REF\", minValue=minAge, maxValue=maxAge)\n",
    "fmliAge = fmliAge.reset_index()\n",
    "\n",
    "# recoding the income brackets\n",
    "fmliRecoded = binColumn(dataframe=fmliAge, toBinColumnName=\"FINCBTXM\", binValues=incomeBrackets, binnedColumnName=\"INCLASS\", labels=range(1,len(incomeBrackets)))"
   ]
  },
  {
   "cell_type": "markdown",
   "metadata": {},
   "source": [
    "### Adding the Income class colum to the ExpensesByNewID dataframe"
   ]
  },
  {
   "cell_type": "code",
   "execution_count": 55,
   "metadata": {
    "collapsed": false
   },
   "outputs": [],
   "source": [
    "# combining the fmli and iExpensesByNewID\n",
    "inclassExpenses = pd.merge(left=fmliRecoded[['NEWID','INCLASS','FINCBTXM']],right=iExpensesByNewID, on=['NEWID'])\n",
    "# inclassExpenses"
   ]
  },
  {
   "cell_type": "markdown",
   "metadata": {},
   "source": [
    "### Averaging the expenditures based on incomebrackets\n",
    "inclassAverages is average money spent for each incomeclass"
   ]
  },
  {
   "cell_type": "code",
   "execution_count": 56,
   "metadata": {
    "collapsed": false,
    "scrolled": false
   },
   "outputs": [],
   "source": [
    "# getting mean for all columns with the same income class besides newId and creating new dataframe\n",
    "inclassAverages = round(inclassExpenses.ix[: ,inclassExpenses.columns != 'NEWID'].groupby(['INCLASS'],as_index=False).mean(),2)\n",
    "# inclassAverages"
   ]
  },
  {
   "cell_type": "markdown",
   "metadata": {},
   "source": [
    "### Converting the Average expenditures for income classes into percentages of expenditures\n",
    "percentages is the percent of total expenditure for each category for each incomeclass "
   ]
  },
  {
   "cell_type": "code",
   "execution_count": 57,
   "metadata": {
    "collapsed": false
   },
   "outputs": [],
   "source": [
    "# creating new dataframe for the percentages that only includes the plynty categories\n",
    "percentages = inclassAverages.loc[:,rollupNames[1:]]\n",
    "for column in rollupNames[1:]:\n",
    "    percentages[column] = inclassAverages[column]/inclassAverages.iTotalExp\n",
    "percentages['ExpInc'] = inclassAverages['iTotalExp']/inclassAverages['FINCBTXM']\n",
    "\n",
    "# truncate the max ExpInc\n",
    "percentages.ExpInc.ix[percentages['ExpInc']>1] = 1\n",
    "\n",
    "# percentages"
   ]
  },
  {
   "cell_type": "markdown",
   "metadata": {},
   "source": [
    "# Exploring Issues in the data"
   ]
  },
  {
   "cell_type": "markdown",
   "metadata": {},
   "source": [
    "### Getting Description of the inclassExpenses dataframe"
   ]
  },
  {
   "cell_type": "code",
   "execution_count": 58,
   "metadata": {
    "collapsed": false
   },
   "outputs": [
    {
     "data": {
      "text/html": [
       "<div>\n",
       "<table border=\"1\" class=\"dataframe\">\n",
       "  <thead>\n",
       "    <tr style=\"text-align: right;\">\n",
       "      <th></th>\n",
       "      <th>count</th>\n",
       "      <th>mean</th>\n",
       "      <th>std</th>\n",
       "      <th>min</th>\n",
       "      <th>25%</th>\n",
       "      <th>50%</th>\n",
       "      <th>75%</th>\n",
       "      <th>max</th>\n",
       "    </tr>\n",
       "  </thead>\n",
       "  <tbody>\n",
       "    <tr>\n",
       "      <th>0</th>\n",
       "      <td>326.0</td>\n",
       "      <td>8564.438650</td>\n",
       "      <td>10062.339852</td>\n",
       "      <td>4.0</td>\n",
       "      <td>2355.00</td>\n",
       "      <td>5012.0</td>\n",
       "      <td>10810.00</td>\n",
       "      <td>75037.0</td>\n",
       "    </tr>\n",
       "    <tr>\n",
       "      <th>1</th>\n",
       "      <td>899.0</td>\n",
       "      <td>8315.601780</td>\n",
       "      <td>11580.208517</td>\n",
       "      <td>30.0</td>\n",
       "      <td>2500.00</td>\n",
       "      <td>4924.0</td>\n",
       "      <td>9508.00</td>\n",
       "      <td>181360.0</td>\n",
       "    </tr>\n",
       "    <tr>\n",
       "      <th>2</th>\n",
       "      <td>985.0</td>\n",
       "      <td>9401.238579</td>\n",
       "      <td>10665.999879</td>\n",
       "      <td>-11880.0</td>\n",
       "      <td>2664.00</td>\n",
       "      <td>6060.0</td>\n",
       "      <td>11628.00</td>\n",
       "      <td>108669.0</td>\n",
       "    </tr>\n",
       "    <tr>\n",
       "      <th>3</th>\n",
       "      <td>934.0</td>\n",
       "      <td>10443.471092</td>\n",
       "      <td>10614.518580</td>\n",
       "      <td>-22664.0</td>\n",
       "      <td>3886.50</td>\n",
       "      <td>7424.0</td>\n",
       "      <td>13206.00</td>\n",
       "      <td>105052.0</td>\n",
       "    </tr>\n",
       "    <tr>\n",
       "      <th>4</th>\n",
       "      <td>559.0</td>\n",
       "      <td>11955.203936</td>\n",
       "      <td>10870.384354</td>\n",
       "      <td>108.0</td>\n",
       "      <td>4856.00</td>\n",
       "      <td>9028.0</td>\n",
       "      <td>16154.00</td>\n",
       "      <td>94860.0</td>\n",
       "    </tr>\n",
       "    <tr>\n",
       "      <th>5</th>\n",
       "      <td>410.0</td>\n",
       "      <td>13494.765854</td>\n",
       "      <td>13209.720043</td>\n",
       "      <td>520.0</td>\n",
       "      <td>5380.00</td>\n",
       "      <td>10190.0</td>\n",
       "      <td>16789.00</td>\n",
       "      <td>94484.0</td>\n",
       "    </tr>\n",
       "    <tr>\n",
       "      <th>6</th>\n",
       "      <td>253.0</td>\n",
       "      <td>15626.007905</td>\n",
       "      <td>12799.732312</td>\n",
       "      <td>820.0</td>\n",
       "      <td>6968.00</td>\n",
       "      <td>12372.0</td>\n",
       "      <td>19628.00</td>\n",
       "      <td>80816.0</td>\n",
       "    </tr>\n",
       "    <tr>\n",
       "      <th>7</th>\n",
       "      <td>343.0</td>\n",
       "      <td>17504.518950</td>\n",
       "      <td>15544.065390</td>\n",
       "      <td>500.0</td>\n",
       "      <td>7844.00</td>\n",
       "      <td>12744.0</td>\n",
       "      <td>22864.00</td>\n",
       "      <td>107284.0</td>\n",
       "    </tr>\n",
       "    <tr>\n",
       "      <th>8</th>\n",
       "      <td>245.0</td>\n",
       "      <td>19497.697959</td>\n",
       "      <td>20934.078324</td>\n",
       "      <td>4.0</td>\n",
       "      <td>7204.00</td>\n",
       "      <td>13924.0</td>\n",
       "      <td>24424.00</td>\n",
       "      <td>170024.0</td>\n",
       "    </tr>\n",
       "    <tr>\n",
       "      <th>9</th>\n",
       "      <td>162.0</td>\n",
       "      <td>24625.740741</td>\n",
       "      <td>24992.016914</td>\n",
       "      <td>2028.0</td>\n",
       "      <td>10081.00</td>\n",
       "      <td>18130.0</td>\n",
       "      <td>30860.00</td>\n",
       "      <td>140110.0</td>\n",
       "    </tr>\n",
       "    <tr>\n",
       "      <th>10</th>\n",
       "      <td>130.0</td>\n",
       "      <td>29471.061538</td>\n",
       "      <td>23691.151689</td>\n",
       "      <td>1600.0</td>\n",
       "      <td>12576.00</td>\n",
       "      <td>23036.0</td>\n",
       "      <td>38805.25</td>\n",
       "      <td>159590.0</td>\n",
       "    </tr>\n",
       "    <tr>\n",
       "      <th>11</th>\n",
       "      <td>65.0</td>\n",
       "      <td>32131.815385</td>\n",
       "      <td>23406.086573</td>\n",
       "      <td>1366.0</td>\n",
       "      <td>14616.00</td>\n",
       "      <td>28560.0</td>\n",
       "      <td>38444.00</td>\n",
       "      <td>126048.0</td>\n",
       "    </tr>\n",
       "    <tr>\n",
       "      <th>12</th>\n",
       "      <td>29.0</td>\n",
       "      <td>31704.758621</td>\n",
       "      <td>24823.098108</td>\n",
       "      <td>4200.0</td>\n",
       "      <td>12204.00</td>\n",
       "      <td>28620.0</td>\n",
       "      <td>38652.00</td>\n",
       "      <td>96036.0</td>\n",
       "    </tr>\n",
       "    <tr>\n",
       "      <th>13</th>\n",
       "      <td>48.0</td>\n",
       "      <td>68289.145833</td>\n",
       "      <td>76759.549152</td>\n",
       "      <td>3064.0</td>\n",
       "      <td>28515.25</td>\n",
       "      <td>41426.5</td>\n",
       "      <td>67698.25</td>\n",
       "      <td>312149.0</td>\n",
       "    </tr>\n",
       "  </tbody>\n",
       "</table>\n",
       "</div>"
      ],
      "text/plain": [
       "    count          mean           std      min       25%      50%       75%  \\\n",
       "0   326.0   8564.438650  10062.339852      4.0   2355.00   5012.0  10810.00   \n",
       "1   899.0   8315.601780  11580.208517     30.0   2500.00   4924.0   9508.00   \n",
       "2   985.0   9401.238579  10665.999879 -11880.0   2664.00   6060.0  11628.00   \n",
       "3   934.0  10443.471092  10614.518580 -22664.0   3886.50   7424.0  13206.00   \n",
       "4   559.0  11955.203936  10870.384354    108.0   4856.00   9028.0  16154.00   \n",
       "5   410.0  13494.765854  13209.720043    520.0   5380.00  10190.0  16789.00   \n",
       "6   253.0  15626.007905  12799.732312    820.0   6968.00  12372.0  19628.00   \n",
       "7   343.0  17504.518950  15544.065390    500.0   7844.00  12744.0  22864.00   \n",
       "8   245.0  19497.697959  20934.078324      4.0   7204.00  13924.0  24424.00   \n",
       "9   162.0  24625.740741  24992.016914   2028.0  10081.00  18130.0  30860.00   \n",
       "10  130.0  29471.061538  23691.151689   1600.0  12576.00  23036.0  38805.25   \n",
       "11   65.0  32131.815385  23406.086573   1366.0  14616.00  28560.0  38444.00   \n",
       "12   29.0  31704.758621  24823.098108   4200.0  12204.00  28620.0  38652.00   \n",
       "13   48.0  68289.145833  76759.549152   3064.0  28515.25  41426.5  67698.25   \n",
       "\n",
       "         max  \n",
       "0    75037.0  \n",
       "1   181360.0  \n",
       "2   108669.0  \n",
       "3   105052.0  \n",
       "4    94860.0  \n",
       "5    94484.0  \n",
       "6    80816.0  \n",
       "7   107284.0  \n",
       "8   170024.0  \n",
       "9   140110.0  \n",
       "10  159590.0  \n",
       "11  126048.0  \n",
       "12   96036.0  \n",
       "13  312149.0  "
      ]
     },
     "execution_count": 58,
     "metadata": {},
     "output_type": "execute_result"
    }
   ],
   "source": [
    "# max and min of housing per income class\n",
    "rowDescription = []\n",
    "for inclass in range(1,len(incomeBrackets)):\n",
    "    rowDescription.append(inclassExpenses.iHousing.loc[inclassExpenses.INCLASS == inclass].describe())\n",
    "descriptions = pd.concat(rowDescription, axis=1)\n",
    "descriptions.columns = range(0,len(incomeBrackets)-1)\n",
    "descriptions = descriptions.transpose()\n",
    "descriptions"
   ]
  },
  {
   "cell_type": "markdown",
   "metadata": {},
   "source": [
    "### Removing outliers in iHousing\n",
    " - For each income class\n",
    "    - Find Q1 and Q3\n",
    "    - Calculate IQR\n",
    "    - Find rows outside of Q3/Q2 +/- (1.5 x IQR) and Q3/Q2 +/- (3 x IQR)\n",
    " - Remove Rows from Dataframe\n",
    " - Clean1: Inner Fence\n",
    " - Clean2: Outer Fence"
   ]
  },
  {
   "cell_type": "code",
   "execution_count": 59,
   "metadata": {
    "collapsed": false,
    "scrolled": true
   },
   "outputs": [
    {
     "name": "stdout",
     "output_type": "stream",
     "text": [
      "There are 5388 rows before removal of outliers\n",
      "Removed 357 rows deemed to be out of inner fence\n",
      "Removed 6.63% of the CUs\n",
      "Removed 143 rows deemed to be out of inner fence\n",
      "Removed 2.65% of the CUs\n"
     ]
    }
   ],
   "source": [
    "# cleaning the inclassExpenses dataframe of outliers\n",
    "outliers1 = inclassExpenses.copy()\n",
    "\n",
    "\n",
    "outliers1\n",
    "innerFence = []\n",
    "outerFence = []\n",
    "\n",
    "\n",
    "print(\"There are \"+str(len(inclassExpenses))+\" rows before removal of outliers\")\n",
    "\n",
    "for inclass in range(1,len(incomeBrackets)):\n",
    "    outliers1InClass = outliers1.where(outliers1['INCLASS']==inclass)\n",
    "    Q1 = outliers1InClass['iHousing'].quantile(0.25)\n",
    "    Q3 = outliers1InClass['iHousing'].quantile(0.75)\n",
    "    IQR = Q3 - Q1\n",
    "    innerFence.extend(outliers1InClass[outliers1InClass['iHousing'] < (Q1 - (1.5 * IQR))].index.tolist())\n",
    "    innerFence.extend(outliers1InClass[outliers1InClass['iHousing'] > (Q3 + (1.5 * IQR))].index.tolist())    \n",
    "    outerFence.extend(outliers1InClass[outliers1InClass['iHousing'] < (Q1 - (3 * IQR))].index.tolist())\n",
    "    outerFence.extend(outliers1InClass[outliers1InClass['iHousing'] > (Q3 + (3 * IQR))].index.tolist())\n",
    "\n",
    "\n",
    "clean1 = outliers1.drop(outliers1.index[innerFence])\n",
    "clean1\n",
    "clean2 = outliers1.drop(outliers1.index[outerFence])\n",
    "clean2\n",
    "\n",
    "print(\"Removed \"+str(len(innerFence))+ \" rows deemed to be out of inner fence\")\n",
    "print(\"Removed \"+str(round(len(innerFence)/len(inclassExpenses)*100,2))+ \"% of the CUs\")\n",
    "\n",
    "print(\"Removed \"+str(len(outerFence))+ \" rows deemed to be out of inner fence\")\n",
    "print(\"Removed \"+str(round(len(outerFence)/len(inclassExpenses)*100,2))+ \"% of the CUs\")\n",
    "\n",
    "# creating the descriptions for the cleaned outlier dataframe\n",
    "rowDescription1 = []\n",
    "for inclass in range(1,len(incomeBrackets)):\n",
    "    rowDescription1.append(clean1.iHousing.loc[clean1.INCLASS == inclass].describe())\n",
    "descriptions1 = pd.concat(rowDescription1, axis=1)\n",
    "descriptions1.columns = range(0,len(incomeBrackets)-1)\n",
    "descriptions1 = descriptions1.transpose()\n",
    "# descriptions1"
   ]
  },
  {
   "cell_type": "markdown",
   "metadata": {},
   "source": [
    "### Looking at the outliers that were removed"
   ]
  },
  {
   "cell_type": "code",
   "execution_count": 60,
   "metadata": {
    "collapsed": false
   },
   "outputs": [
    {
     "name": "stdout",
     "output_type": "stream",
     "text": [
      "Number of outliers in each income class: [74 71 56 26 25 24 19 18 15 10  7  5  5  2]\n"
     ]
    },
    {
     "data": {
      "text/html": [
       "<div>\n",
       "<table border=\"1\" class=\"dataframe\">\n",
       "  <thead>\n",
       "    <tr style=\"text-align: right;\">\n",
       "      <th></th>\n",
       "      <th>NEWID</th>\n",
       "      <th>INCLASS</th>\n",
       "      <th>FINCBTXM</th>\n",
       "      <th>iTotalExp</th>\n",
       "      <th>iFoodAtHome</th>\n",
       "      <th>iFoodAway</th>\n",
       "      <th>iHousing</th>\n",
       "      <th>iUtilites</th>\n",
       "      <th>iClothingAndBeauty</th>\n",
       "      <th>iTransportation</th>\n",
       "      <th>iHealthcare</th>\n",
       "      <th>iEntertainment</th>\n",
       "      <th>iMiscellaneous</th>\n",
       "      <th>iCharitableAndFamilyGiving</th>\n",
       "      <th>iInsurance</th>\n",
       "      <th>iEducation</th>\n",
       "      <th>iHousingPrinciple</th>\n",
       "    </tr>\n",
       "  </thead>\n",
       "  <tbody>\n",
       "    <tr>\n",
       "      <th>525</th>\n",
       "      <td>3057932</td>\n",
       "      <td>1</td>\n",
       "      <td>6155.0</td>\n",
       "      <td>97470.8</td>\n",
       "      <td>5500.0</td>\n",
       "      <td>7080.0</td>\n",
       "      <td>25912.0</td>\n",
       "      <td>4092.0</td>\n",
       "      <td>920.0</td>\n",
       "      <td>34452.0</td>\n",
       "      <td>14506.8</td>\n",
       "      <td>2844.0</td>\n",
       "      <td>0.0</td>\n",
       "      <td>4400.0</td>\n",
       "      <td>0.0</td>\n",
       "      <td>0.0</td>\n",
       "      <td>2236.0</td>\n",
       "    </tr>\n",
       "    <tr>\n",
       "      <th>590</th>\n",
       "      <td>3066713</td>\n",
       "      <td>1</td>\n",
       "      <td>7900.0</td>\n",
       "      <td>114605.6</td>\n",
       "      <td>5544.0</td>\n",
       "      <td>20448.0</td>\n",
       "      <td>27100.0</td>\n",
       "      <td>5420.0</td>\n",
       "      <td>4280.0</td>\n",
       "      <td>17788.0</td>\n",
       "      <td>5005.6</td>\n",
       "      <td>13860.0</td>\n",
       "      <td>360.0</td>\n",
       "      <td>14800.0</td>\n",
       "      <td>0.0</td>\n",
       "      <td>0.0</td>\n",
       "      <td>0.0</td>\n",
       "    </tr>\n",
       "    <tr>\n",
       "      <th>1194</th>\n",
       "      <td>3000783</td>\n",
       "      <td>1</td>\n",
       "      <td>2615.0</td>\n",
       "      <td>53130.8</td>\n",
       "      <td>5720.0</td>\n",
       "      <td>4040.0</td>\n",
       "      <td>29552.0</td>\n",
       "      <td>9656.0</td>\n",
       "      <td>960.0</td>\n",
       "      <td>5320.0</td>\n",
       "      <td>2618.8</td>\n",
       "      <td>6236.0</td>\n",
       "      <td>340.0</td>\n",
       "      <td>660.0</td>\n",
       "      <td>0.0</td>\n",
       "      <td>0.0</td>\n",
       "      <td>11972.0</td>\n",
       "    </tr>\n",
       "    <tr>\n",
       "      <th>1314</th>\n",
       "      <td>3057933</td>\n",
       "      <td>1</td>\n",
       "      <td>6155.0</td>\n",
       "      <td>101969.6</td>\n",
       "      <td>5436.0</td>\n",
       "      <td>4492.0</td>\n",
       "      <td>40720.0</td>\n",
       "      <td>6060.0</td>\n",
       "      <td>1640.0</td>\n",
       "      <td>18032.0</td>\n",
       "      <td>16593.6</td>\n",
       "      <td>6260.0</td>\n",
       "      <td>0.0</td>\n",
       "      <td>4800.0</td>\n",
       "      <td>0.0</td>\n",
       "      <td>0.0</td>\n",
       "      <td>2064.0</td>\n",
       "    </tr>\n",
       "    <tr>\n",
       "      <th>1509</th>\n",
       "      <td>3093291</td>\n",
       "      <td>1</td>\n",
       "      <td>-3143.0</td>\n",
       "      <td>61838.8</td>\n",
       "      <td>4500.0</td>\n",
       "      <td>5320.0</td>\n",
       "      <td>26032.0</td>\n",
       "      <td>3796.0</td>\n",
       "      <td>864.0</td>\n",
       "      <td>2396.0</td>\n",
       "      <td>17214.8</td>\n",
       "      <td>1200.0</td>\n",
       "      <td>3440.0</td>\n",
       "      <td>100.0</td>\n",
       "      <td>0.0</td>\n",
       "      <td>0.0</td>\n",
       "      <td>3024.0</td>\n",
       "    </tr>\n",
       "  </tbody>\n",
       "</table>\n",
       "</div>"
      ],
      "text/plain": [
       "        NEWID  INCLASS  FINCBTXM  iTotalExp  iFoodAtHome  iFoodAway  iHousing  \\\n",
       "525   3057932        1    6155.0    97470.8       5500.0     7080.0   25912.0   \n",
       "590   3066713        1    7900.0   114605.6       5544.0    20448.0   27100.0   \n",
       "1194  3000783        1    2615.0    53130.8       5720.0     4040.0   29552.0   \n",
       "1314  3057933        1    6155.0   101969.6       5436.0     4492.0   40720.0   \n",
       "1509  3093291        1   -3143.0    61838.8       4500.0     5320.0   26032.0   \n",
       "\n",
       "      iUtilites  iClothingAndBeauty  iTransportation  iHealthcare  \\\n",
       "525      4092.0               920.0          34452.0      14506.8   \n",
       "590      5420.0              4280.0          17788.0       5005.6   \n",
       "1194     9656.0               960.0           5320.0       2618.8   \n",
       "1314     6060.0              1640.0          18032.0      16593.6   \n",
       "1509     3796.0               864.0           2396.0      17214.8   \n",
       "\n",
       "      iEntertainment  iMiscellaneous  iCharitableAndFamilyGiving  iInsurance  \\\n",
       "525           2844.0             0.0                      4400.0         0.0   \n",
       "590          13860.0           360.0                     14800.0         0.0   \n",
       "1194          6236.0           340.0                       660.0         0.0   \n",
       "1314          6260.0             0.0                      4800.0         0.0   \n",
       "1509          1200.0          3440.0                       100.0         0.0   \n",
       "\n",
       "      iEducation  iHousingPrinciple  \n",
       "525          0.0             2236.0  \n",
       "590          0.0                0.0  \n",
       "1194         0.0            11972.0  \n",
       "1314         0.0             2064.0  \n",
       "1509         0.0             3024.0  "
      ]
     },
     "execution_count": 60,
     "metadata": {},
     "output_type": "execute_result"
    }
   ],
   "source": [
    "innerOutliers = inclassExpenses.copy()\n",
    "innerOutliers = innerOutliers.ix[innerFence,:]\n",
    "print(\"Number of outliers in each income class: \"+str(innerOutliers.INCLASS.value_counts().values))\n",
    "innerOutliers.head()"
   ]
  },
  {
   "cell_type": "code",
   "execution_count": 61,
   "metadata": {
    "collapsed": false
   },
   "outputs": [
    {
     "name": "stdout",
     "output_type": "stream",
     "text": [
      "Number of outliers in each income class: [39 29 19 14 10  7  6  6  4  4  3  1  1]\n"
     ]
    },
    {
     "data": {
      "text/html": [
       "<div>\n",
       "<table border=\"1\" class=\"dataframe\">\n",
       "  <thead>\n",
       "    <tr style=\"text-align: right;\">\n",
       "      <th></th>\n",
       "      <th>NEWID</th>\n",
       "      <th>INCLASS</th>\n",
       "      <th>FINCBTXM</th>\n",
       "      <th>iTotalExp</th>\n",
       "      <th>iFoodAtHome</th>\n",
       "      <th>iFoodAway</th>\n",
       "      <th>iHousing</th>\n",
       "      <th>iUtilites</th>\n",
       "      <th>iClothingAndBeauty</th>\n",
       "      <th>iTransportation</th>\n",
       "      <th>iHealthcare</th>\n",
       "      <th>iEntertainment</th>\n",
       "      <th>iMiscellaneous</th>\n",
       "      <th>iCharitableAndFamilyGiving</th>\n",
       "      <th>iInsurance</th>\n",
       "      <th>iEducation</th>\n",
       "      <th>iHousingPrinciple</th>\n",
       "    </tr>\n",
       "  </thead>\n",
       "  <tbody>\n",
       "    <tr>\n",
       "      <th>1314</th>\n",
       "      <td>3057933</td>\n",
       "      <td>1</td>\n",
       "      <td>6155.0</td>\n",
       "      <td>101969.6</td>\n",
       "      <td>5436.0</td>\n",
       "      <td>4492.0</td>\n",
       "      <td>40720.0</td>\n",
       "      <td>6060.0</td>\n",
       "      <td>1640.0</td>\n",
       "      <td>18032.0</td>\n",
       "      <td>16593.6</td>\n",
       "      <td>6260.0</td>\n",
       "      <td>0.0</td>\n",
       "      <td>4800.0</td>\n",
       "      <td>0.0</td>\n",
       "      <td>0.0</td>\n",
       "      <td>2064.0</td>\n",
       "    </tr>\n",
       "    <tr>\n",
       "      <th>1581</th>\n",
       "      <td>3100251</td>\n",
       "      <td>1</td>\n",
       "      <td>10859.0</td>\n",
       "      <td>69720.0</td>\n",
       "      <td>1300.0</td>\n",
       "      <td>780.0</td>\n",
       "      <td>48908.0</td>\n",
       "      <td>2148.0</td>\n",
       "      <td>440.0</td>\n",
       "      <td>10712.0</td>\n",
       "      <td>6992.0</td>\n",
       "      <td>948.0</td>\n",
       "      <td>0.0</td>\n",
       "      <td>600.0</td>\n",
       "      <td>0.0</td>\n",
       "      <td>0.0</td>\n",
       "      <td>3108.0</td>\n",
       "    </tr>\n",
       "    <tr>\n",
       "      <th>1643</th>\n",
       "      <td>3105982</td>\n",
       "      <td>1</td>\n",
       "      <td>10536.0</td>\n",
       "      <td>723291.8</td>\n",
       "      <td>8500.0</td>\n",
       "      <td>3600.0</td>\n",
       "      <td>75037.0</td>\n",
       "      <td>8148.0</td>\n",
       "      <td>3280.0</td>\n",
       "      <td>2600.0</td>\n",
       "      <td>31578.8</td>\n",
       "      <td>10424.0</td>\n",
       "      <td>0.0</td>\n",
       "      <td>600000.0</td>\n",
       "      <td>0.0</td>\n",
       "      <td>0.0</td>\n",
       "      <td>19876.0</td>\n",
       "    </tr>\n",
       "    <tr>\n",
       "      <th>1868</th>\n",
       "      <td>3170291</td>\n",
       "      <td>1</td>\n",
       "      <td>9310.0</td>\n",
       "      <td>67181.6</td>\n",
       "      <td>7520.0</td>\n",
       "      <td>1980.0</td>\n",
       "      <td>45476.0</td>\n",
       "      <td>5456.0</td>\n",
       "      <td>936.0</td>\n",
       "      <td>9916.0</td>\n",
       "      <td>5277.6</td>\n",
       "      <td>1428.0</td>\n",
       "      <td>0.0</td>\n",
       "      <td>3120.0</td>\n",
       "      <td>0.0</td>\n",
       "      <td>0.0</td>\n",
       "      <td>13928.0</td>\n",
       "    </tr>\n",
       "    <tr>\n",
       "      <th>1937</th>\n",
       "      <td>2908235</td>\n",
       "      <td>1</td>\n",
       "      <td>6249.2</td>\n",
       "      <td>48750.8</td>\n",
       "      <td>1560.0</td>\n",
       "      <td>1560.0</td>\n",
       "      <td>38928.0</td>\n",
       "      <td>1020.0</td>\n",
       "      <td>160.0</td>\n",
       "      <td>1972.0</td>\n",
       "      <td>1450.8</td>\n",
       "      <td>1080.0</td>\n",
       "      <td>0.0</td>\n",
       "      <td>1020.0</td>\n",
       "      <td>0.0</td>\n",
       "      <td>0.0</td>\n",
       "      <td>0.0</td>\n",
       "    </tr>\n",
       "  </tbody>\n",
       "</table>\n",
       "</div>"
      ],
      "text/plain": [
       "        NEWID  INCLASS  FINCBTXM  iTotalExp  iFoodAtHome  iFoodAway  iHousing  \\\n",
       "1314  3057933        1    6155.0   101969.6       5436.0     4492.0   40720.0   \n",
       "1581  3100251        1   10859.0    69720.0       1300.0      780.0   48908.0   \n",
       "1643  3105982        1   10536.0   723291.8       8500.0     3600.0   75037.0   \n",
       "1868  3170291        1    9310.0    67181.6       7520.0     1980.0   45476.0   \n",
       "1937  2908235        1    6249.2    48750.8       1560.0     1560.0   38928.0   \n",
       "\n",
       "      iUtilites  iClothingAndBeauty  iTransportation  iHealthcare  \\\n",
       "1314     6060.0              1640.0          18032.0      16593.6   \n",
       "1581     2148.0               440.0          10712.0       6992.0   \n",
       "1643     8148.0              3280.0           2600.0      31578.8   \n",
       "1868     5456.0               936.0           9916.0       5277.6   \n",
       "1937     1020.0               160.0           1972.0       1450.8   \n",
       "\n",
       "      iEntertainment  iMiscellaneous  iCharitableAndFamilyGiving  iInsurance  \\\n",
       "1314          6260.0             0.0                      4800.0         0.0   \n",
       "1581           948.0             0.0                       600.0         0.0   \n",
       "1643         10424.0             0.0                    600000.0         0.0   \n",
       "1868          1428.0             0.0                      3120.0         0.0   \n",
       "1937          1080.0             0.0                      1020.0         0.0   \n",
       "\n",
       "      iEducation  iHousingPrinciple  \n",
       "1314         0.0             2064.0  \n",
       "1581         0.0             3108.0  \n",
       "1643         0.0            19876.0  \n",
       "1868         0.0            13928.0  \n",
       "1937         0.0                0.0  "
      ]
     },
     "execution_count": 61,
     "metadata": {},
     "output_type": "execute_result"
    }
   ],
   "source": [
    "outerOutliers = inclassExpenses.copy()\n",
    "outerOutliers = outerOutliers.ix[outerFence,:]\n",
    "print(\"Number of outliers in each income class: \"+str(outerOutliers.INCLASS.value_counts().values))\n",
    "outerOutliers.head()"
   ]
  },
  {
   "cell_type": "markdown",
   "metadata": {
    "slideshow": {
     "slide_type": "-"
    }
   },
   "source": [
    "### Things learned from removing outliers\n",
    "- Removing outliers helped some of the standard deviation crazyness\n",
    "- Higher incomebrackets have greater standard deviation even without outliers"
   ]
  },
  {
   "cell_type": "markdown",
   "metadata": {},
   "source": [
    "### Creating the percentage output for cleaned dataframe"
   ]
  },
  {
   "cell_type": "code",
   "execution_count": 62,
   "metadata": {
    "collapsed": false
   },
   "outputs": [
    {
     "data": {
      "text/html": [
       "<div>\n",
       "<table border=\"1\" class=\"dataframe\">\n",
       "  <thead>\n",
       "    <tr style=\"text-align: right;\">\n",
       "      <th></th>\n",
       "      <th>iFoodAtHome</th>\n",
       "      <th>iFoodAway</th>\n",
       "      <th>iHousing</th>\n",
       "      <th>iUtilites</th>\n",
       "      <th>iClothingAndBeauty</th>\n",
       "      <th>iTransportation</th>\n",
       "      <th>iHealthcare</th>\n",
       "      <th>iEntertainment</th>\n",
       "      <th>iMiscellaneous</th>\n",
       "      <th>iCharitableAndFamilyGiving</th>\n",
       "      <th>iInsurance</th>\n",
       "      <th>iEducation</th>\n",
       "      <th>iHousingPrinciple</th>\n",
       "      <th>ExpInc</th>\n",
       "    </tr>\n",
       "  </thead>\n",
       "  <tbody>\n",
       "    <tr>\n",
       "      <th>0</th>\n",
       "      <td>0.146568</td>\n",
       "      <td>0.063419</td>\n",
       "      <td>0.262497</td>\n",
       "      <td>0.114159</td>\n",
       "      <td>0.024628</td>\n",
       "      <td>0.120243</td>\n",
       "      <td>0.146389</td>\n",
       "      <td>0.047758</td>\n",
       "      <td>0.034899</td>\n",
       "      <td>0.053213</td>\n",
       "      <td>0.004312</td>\n",
       "      <td>0.002314</td>\n",
       "      <td>0.020399</td>\n",
       "      <td>1.000000</td>\n",
       "    </tr>\n",
       "    <tr>\n",
       "      <th>1</th>\n",
       "      <td>0.142195</td>\n",
       "      <td>0.067169</td>\n",
       "      <td>0.243816</td>\n",
       "      <td>0.121069</td>\n",
       "      <td>0.027098</td>\n",
       "      <td>0.145056</td>\n",
       "      <td>0.142188</td>\n",
       "      <td>0.052605</td>\n",
       "      <td>0.019704</td>\n",
       "      <td>0.046667</td>\n",
       "      <td>0.008785</td>\n",
       "      <td>0.001579</td>\n",
       "      <td>0.017930</td>\n",
       "      <td>1.000000</td>\n",
       "    </tr>\n",
       "    <tr>\n",
       "      <th>2</th>\n",
       "      <td>0.129031</td>\n",
       "      <td>0.066665</td>\n",
       "      <td>0.220186</td>\n",
       "      <td>0.107430</td>\n",
       "      <td>0.025888</td>\n",
       "      <td>0.156972</td>\n",
       "      <td>0.175955</td>\n",
       "      <td>0.059004</td>\n",
       "      <td>0.014489</td>\n",
       "      <td>0.054208</td>\n",
       "      <td>0.005172</td>\n",
       "      <td>0.002872</td>\n",
       "      <td>0.017872</td>\n",
       "      <td>1.000000</td>\n",
       "    </tr>\n",
       "    <tr>\n",
       "      <th>3</th>\n",
       "      <td>0.128421</td>\n",
       "      <td>0.069438</td>\n",
       "      <td>0.230440</td>\n",
       "      <td>0.104732</td>\n",
       "      <td>0.024794</td>\n",
       "      <td>0.165617</td>\n",
       "      <td>0.161829</td>\n",
       "      <td>0.051035</td>\n",
       "      <td>0.020328</td>\n",
       "      <td>0.054545</td>\n",
       "      <td>0.008613</td>\n",
       "      <td>0.003266</td>\n",
       "      <td>0.023058</td>\n",
       "      <td>1.000000</td>\n",
       "    </tr>\n",
       "    <tr>\n",
       "      <th>4</th>\n",
       "      <td>0.120986</td>\n",
       "      <td>0.063269</td>\n",
       "      <td>0.244195</td>\n",
       "      <td>0.098072</td>\n",
       "      <td>0.028459</td>\n",
       "      <td>0.180962</td>\n",
       "      <td>0.155340</td>\n",
       "      <td>0.055792</td>\n",
       "      <td>0.017767</td>\n",
       "      <td>0.054812</td>\n",
       "      <td>0.008788</td>\n",
       "      <td>0.003763</td>\n",
       "      <td>0.032207</td>\n",
       "      <td>0.869423</td>\n",
       "    </tr>\n",
       "    <tr>\n",
       "      <th>5</th>\n",
       "      <td>0.114965</td>\n",
       "      <td>0.064815</td>\n",
       "      <td>0.234107</td>\n",
       "      <td>0.086921</td>\n",
       "      <td>0.027427</td>\n",
       "      <td>0.178446</td>\n",
       "      <td>0.152244</td>\n",
       "      <td>0.055489</td>\n",
       "      <td>0.019535</td>\n",
       "      <td>0.085100</td>\n",
       "      <td>0.007528</td>\n",
       "      <td>0.002164</td>\n",
       "      <td>0.028741</td>\n",
       "      <td>0.759940</td>\n",
       "    </tr>\n",
       "    <tr>\n",
       "      <th>6</th>\n",
       "      <td>0.106793</td>\n",
       "      <td>0.067175</td>\n",
       "      <td>0.249099</td>\n",
       "      <td>0.085850</td>\n",
       "      <td>0.037168</td>\n",
       "      <td>0.179637</td>\n",
       "      <td>0.157164</td>\n",
       "      <td>0.056925</td>\n",
       "      <td>0.014295</td>\n",
       "      <td>0.063639</td>\n",
       "      <td>0.007508</td>\n",
       "      <td>0.001677</td>\n",
       "      <td>0.026931</td>\n",
       "      <td>0.693927</td>\n",
       "    </tr>\n",
       "    <tr>\n",
       "      <th>7</th>\n",
       "      <td>0.105498</td>\n",
       "      <td>0.064117</td>\n",
       "      <td>0.261285</td>\n",
       "      <td>0.085970</td>\n",
       "      <td>0.026559</td>\n",
       "      <td>0.219591</td>\n",
       "      <td>0.133770</td>\n",
       "      <td>0.046440</td>\n",
       "      <td>0.019194</td>\n",
       "      <td>0.059541</td>\n",
       "      <td>0.008713</td>\n",
       "      <td>0.002939</td>\n",
       "      <td>0.033617</td>\n",
       "      <td>0.652244</td>\n",
       "    </tr>\n",
       "    <tr>\n",
       "      <th>8</th>\n",
       "      <td>0.091829</td>\n",
       "      <td>0.057008</td>\n",
       "      <td>0.214993</td>\n",
       "      <td>0.073602</td>\n",
       "      <td>0.030750</td>\n",
       "      <td>0.233272</td>\n",
       "      <td>0.118366</td>\n",
       "      <td>0.081294</td>\n",
       "      <td>0.017878</td>\n",
       "      <td>0.088012</td>\n",
       "      <td>0.006209</td>\n",
       "      <td>0.013971</td>\n",
       "      <td>0.027184</td>\n",
       "      <td>0.637829</td>\n",
       "    </tr>\n",
       "    <tr>\n",
       "      <th>9</th>\n",
       "      <td>0.092898</td>\n",
       "      <td>0.059023</td>\n",
       "      <td>0.266646</td>\n",
       "      <td>0.083929</td>\n",
       "      <td>0.028843</td>\n",
       "      <td>0.240467</td>\n",
       "      <td>0.108747</td>\n",
       "      <td>0.050183</td>\n",
       "      <td>0.012261</td>\n",
       "      <td>0.091278</td>\n",
       "      <td>0.010939</td>\n",
       "      <td>0.009401</td>\n",
       "      <td>0.054615</td>\n",
       "      <td>0.541989</td>\n",
       "    </tr>\n",
       "    <tr>\n",
       "      <th>10</th>\n",
       "      <td>0.098865</td>\n",
       "      <td>0.057627</td>\n",
       "      <td>0.327649</td>\n",
       "      <td>0.079825</td>\n",
       "      <td>0.033599</td>\n",
       "      <td>0.157542</td>\n",
       "      <td>0.106591</td>\n",
       "      <td>0.072889</td>\n",
       "      <td>0.037155</td>\n",
       "      <td>0.060034</td>\n",
       "      <td>0.013021</td>\n",
       "      <td>0.003785</td>\n",
       "      <td>0.048583</td>\n",
       "      <td>0.469928</td>\n",
       "    </tr>\n",
       "    <tr>\n",
       "      <th>11</th>\n",
       "      <td>0.085267</td>\n",
       "      <td>0.062353</td>\n",
       "      <td>0.302921</td>\n",
       "      <td>0.069504</td>\n",
       "      <td>0.056217</td>\n",
       "      <td>0.196394</td>\n",
       "      <td>0.078868</td>\n",
       "      <td>0.063419</td>\n",
       "      <td>0.025483</td>\n",
       "      <td>0.082751</td>\n",
       "      <td>0.010044</td>\n",
       "      <td>0.004338</td>\n",
       "      <td>0.037558</td>\n",
       "      <td>0.404652</td>\n",
       "    </tr>\n",
       "    <tr>\n",
       "      <th>12</th>\n",
       "      <td>0.087887</td>\n",
       "      <td>0.053425</td>\n",
       "      <td>0.261615</td>\n",
       "      <td>0.053482</td>\n",
       "      <td>0.038519</td>\n",
       "      <td>0.281599</td>\n",
       "      <td>0.087010</td>\n",
       "      <td>0.061824</td>\n",
       "      <td>0.030905</td>\n",
       "      <td>0.035515</td>\n",
       "      <td>0.009419</td>\n",
       "      <td>0.014588</td>\n",
       "      <td>0.015787</td>\n",
       "      <td>0.385744</td>\n",
       "    </tr>\n",
       "    <tr>\n",
       "      <th>13</th>\n",
       "      <td>0.072006</td>\n",
       "      <td>0.079685</td>\n",
       "      <td>0.277239</td>\n",
       "      <td>0.043972</td>\n",
       "      <td>0.043732</td>\n",
       "      <td>0.202765</td>\n",
       "      <td>0.063337</td>\n",
       "      <td>0.070841</td>\n",
       "      <td>0.064834</td>\n",
       "      <td>0.075592</td>\n",
       "      <td>0.009000</td>\n",
       "      <td>0.024604</td>\n",
       "      <td>0.027608</td>\n",
       "      <td>0.380322</td>\n",
       "    </tr>\n",
       "  </tbody>\n",
       "</table>\n",
       "</div>"
      ],
      "text/plain": [
       "    iFoodAtHome  iFoodAway  iHousing  iUtilites  iClothingAndBeauty  \\\n",
       "0      0.146568   0.063419  0.262497   0.114159            0.024628   \n",
       "1      0.142195   0.067169  0.243816   0.121069            0.027098   \n",
       "2      0.129031   0.066665  0.220186   0.107430            0.025888   \n",
       "3      0.128421   0.069438  0.230440   0.104732            0.024794   \n",
       "4      0.120986   0.063269  0.244195   0.098072            0.028459   \n",
       "5      0.114965   0.064815  0.234107   0.086921            0.027427   \n",
       "6      0.106793   0.067175  0.249099   0.085850            0.037168   \n",
       "7      0.105498   0.064117  0.261285   0.085970            0.026559   \n",
       "8      0.091829   0.057008  0.214993   0.073602            0.030750   \n",
       "9      0.092898   0.059023  0.266646   0.083929            0.028843   \n",
       "10     0.098865   0.057627  0.327649   0.079825            0.033599   \n",
       "11     0.085267   0.062353  0.302921   0.069504            0.056217   \n",
       "12     0.087887   0.053425  0.261615   0.053482            0.038519   \n",
       "13     0.072006   0.079685  0.277239   0.043972            0.043732   \n",
       "\n",
       "    iTransportation  iHealthcare  iEntertainment  iMiscellaneous  \\\n",
       "0          0.120243     0.146389        0.047758        0.034899   \n",
       "1          0.145056     0.142188        0.052605        0.019704   \n",
       "2          0.156972     0.175955        0.059004        0.014489   \n",
       "3          0.165617     0.161829        0.051035        0.020328   \n",
       "4          0.180962     0.155340        0.055792        0.017767   \n",
       "5          0.178446     0.152244        0.055489        0.019535   \n",
       "6          0.179637     0.157164        0.056925        0.014295   \n",
       "7          0.219591     0.133770        0.046440        0.019194   \n",
       "8          0.233272     0.118366        0.081294        0.017878   \n",
       "9          0.240467     0.108747        0.050183        0.012261   \n",
       "10         0.157542     0.106591        0.072889        0.037155   \n",
       "11         0.196394     0.078868        0.063419        0.025483   \n",
       "12         0.281599     0.087010        0.061824        0.030905   \n",
       "13         0.202765     0.063337        0.070841        0.064834   \n",
       "\n",
       "    iCharitableAndFamilyGiving  iInsurance  iEducation  iHousingPrinciple  \\\n",
       "0                     0.053213    0.004312    0.002314           0.020399   \n",
       "1                     0.046667    0.008785    0.001579           0.017930   \n",
       "2                     0.054208    0.005172    0.002872           0.017872   \n",
       "3                     0.054545    0.008613    0.003266           0.023058   \n",
       "4                     0.054812    0.008788    0.003763           0.032207   \n",
       "5                     0.085100    0.007528    0.002164           0.028741   \n",
       "6                     0.063639    0.007508    0.001677           0.026931   \n",
       "7                     0.059541    0.008713    0.002939           0.033617   \n",
       "8                     0.088012    0.006209    0.013971           0.027184   \n",
       "9                     0.091278    0.010939    0.009401           0.054615   \n",
       "10                    0.060034    0.013021    0.003785           0.048583   \n",
       "11                    0.082751    0.010044    0.004338           0.037558   \n",
       "12                    0.035515    0.009419    0.014588           0.015787   \n",
       "13                    0.075592    0.009000    0.024604           0.027608   \n",
       "\n",
       "      ExpInc  \n",
       "0   1.000000  \n",
       "1   1.000000  \n",
       "2   1.000000  \n",
       "3   1.000000  \n",
       "4   0.869423  \n",
       "5   0.759940  \n",
       "6   0.693927  \n",
       "7   0.652244  \n",
       "8   0.637829  \n",
       "9   0.541989  \n",
       "10  0.469928  \n",
       "11  0.404652  \n",
       "12  0.385744  \n",
       "13  0.380322  "
      ]
     },
     "execution_count": 62,
     "metadata": {},
     "output_type": "execute_result"
    }
   ],
   "source": [
    "# creating percentage outputs for cleaned dataframe\n",
    "inclassCleanAverages1 = round(clean1.ix[: ,clean1.columns != 'NEWID'].groupby(['INCLASS'],as_index=False).mean(),2)\n",
    "# creating new dataframe for the percentages that only includes the plynty categories\n",
    "cleanPercentages1 = inclassCleanAverages1.loc[:,rollupNames[1:]]\n",
    "for column in rollupNames[1:]:\n",
    "    cleanPercentages1[column] = inclassCleanAverages1[column]/inclassCleanAverages1.iTotalExp\n",
    "cleanPercentages1['ExpInc'] = inclassCleanAverages1['iTotalExp']/inclassCleanAverages1['FINCBTXM']\n",
    "# truncate the max ExpInc\n",
    "cleanPercentages1.ExpInc.ix[cleanPercentages1['ExpInc']>1] = 1\n",
    "cleanPercentages1"
   ]
  },
  {
   "cell_type": "code",
   "execution_count": 63,
   "metadata": {
    "collapsed": false,
    "scrolled": true
   },
   "outputs": [
    {
     "data": {
      "text/html": [
       "<div>\n",
       "<table border=\"1\" class=\"dataframe\">\n",
       "  <thead>\n",
       "    <tr style=\"text-align: right;\">\n",
       "      <th></th>\n",
       "      <th>iFoodAtHome</th>\n",
       "      <th>iFoodAway</th>\n",
       "      <th>iHousing</th>\n",
       "      <th>iUtilites</th>\n",
       "      <th>iClothingAndBeauty</th>\n",
       "      <th>iTransportation</th>\n",
       "      <th>iHealthcare</th>\n",
       "      <th>iEntertainment</th>\n",
       "      <th>iMiscellaneous</th>\n",
       "      <th>iCharitableAndFamilyGiving</th>\n",
       "      <th>iInsurance</th>\n",
       "      <th>iEducation</th>\n",
       "      <th>iHousingPrinciple</th>\n",
       "      <th>ExpInc</th>\n",
       "    </tr>\n",
       "  </thead>\n",
       "  <tbody>\n",
       "    <tr>\n",
       "      <th>0</th>\n",
       "      <td>0.142941</td>\n",
       "      <td>0.064822</td>\n",
       "      <td>0.278057</td>\n",
       "      <td>0.111856</td>\n",
       "      <td>0.024535</td>\n",
       "      <td>0.124034</td>\n",
       "      <td>0.141877</td>\n",
       "      <td>0.050384</td>\n",
       "      <td>0.032319</td>\n",
       "      <td>0.050914</td>\n",
       "      <td>0.004135</td>\n",
       "      <td>0.002125</td>\n",
       "      <td>0.027998</td>\n",
       "      <td>1.000000</td>\n",
       "    </tr>\n",
       "    <tr>\n",
       "      <th>1</th>\n",
       "      <td>0.137080</td>\n",
       "      <td>0.066246</td>\n",
       "      <td>0.263070</td>\n",
       "      <td>0.117938</td>\n",
       "      <td>0.026841</td>\n",
       "      <td>0.141163</td>\n",
       "      <td>0.141609</td>\n",
       "      <td>0.051443</td>\n",
       "      <td>0.018726</td>\n",
       "      <td>0.047159</td>\n",
       "      <td>0.008865</td>\n",
       "      <td>0.001984</td>\n",
       "      <td>0.022125</td>\n",
       "      <td>1.000000</td>\n",
       "    </tr>\n",
       "    <tr>\n",
       "      <th>2</th>\n",
       "      <td>0.124603</td>\n",
       "      <td>0.067042</td>\n",
       "      <td>0.239401</td>\n",
       "      <td>0.102627</td>\n",
       "      <td>0.026122</td>\n",
       "      <td>0.150944</td>\n",
       "      <td>0.171640</td>\n",
       "      <td>0.058019</td>\n",
       "      <td>0.013778</td>\n",
       "      <td>0.058661</td>\n",
       "      <td>0.004964</td>\n",
       "      <td>0.002809</td>\n",
       "      <td>0.020611</td>\n",
       "      <td>1.000000</td>\n",
       "    </tr>\n",
       "    <tr>\n",
       "      <th>3</th>\n",
       "      <td>0.126196</td>\n",
       "      <td>0.068054</td>\n",
       "      <td>0.250028</td>\n",
       "      <td>0.102665</td>\n",
       "      <td>0.024812</td>\n",
       "      <td>0.160038</td>\n",
       "      <td>0.160147</td>\n",
       "      <td>0.050828</td>\n",
       "      <td>0.019355</td>\n",
       "      <td>0.053810</td>\n",
       "      <td>0.008331</td>\n",
       "      <td>0.003177</td>\n",
       "      <td>0.027440</td>\n",
       "      <td>1.000000</td>\n",
       "    </tr>\n",
       "    <tr>\n",
       "      <th>4</th>\n",
       "      <td>0.117862</td>\n",
       "      <td>0.064672</td>\n",
       "      <td>0.258571</td>\n",
       "      <td>0.095006</td>\n",
       "      <td>0.028917</td>\n",
       "      <td>0.175919</td>\n",
       "      <td>0.152045</td>\n",
       "      <td>0.055538</td>\n",
       "      <td>0.017326</td>\n",
       "      <td>0.054973</td>\n",
       "      <td>0.008350</td>\n",
       "      <td>0.003513</td>\n",
       "      <td>0.032691</td>\n",
       "      <td>0.899778</td>\n",
       "    </tr>\n",
       "    <tr>\n",
       "      <th>5</th>\n",
       "      <td>0.112838</td>\n",
       "      <td>0.065943</td>\n",
       "      <td>0.249733</td>\n",
       "      <td>0.085270</td>\n",
       "      <td>0.026609</td>\n",
       "      <td>0.174707</td>\n",
       "      <td>0.147446</td>\n",
       "      <td>0.054308</td>\n",
       "      <td>0.018759</td>\n",
       "      <td>0.081443</td>\n",
       "      <td>0.009294</td>\n",
       "      <td>0.002029</td>\n",
       "      <td>0.028379</td>\n",
       "      <td>0.780844</td>\n",
       "    </tr>\n",
       "    <tr>\n",
       "      <th>6</th>\n",
       "      <td>0.102403</td>\n",
       "      <td>0.065898</td>\n",
       "      <td>0.275018</td>\n",
       "      <td>0.081352</td>\n",
       "      <td>0.035001</td>\n",
       "      <td>0.170428</td>\n",
       "      <td>0.148557</td>\n",
       "      <td>0.054527</td>\n",
       "      <td>0.013425</td>\n",
       "      <td>0.071825</td>\n",
       "      <td>0.006908</td>\n",
       "      <td>0.001512</td>\n",
       "      <td>0.026854</td>\n",
       "      <td>0.729271</td>\n",
       "    </tr>\n",
       "    <tr>\n",
       "      <th>7</th>\n",
       "      <td>0.103893</td>\n",
       "      <td>0.064589</td>\n",
       "      <td>0.279256</td>\n",
       "      <td>0.084223</td>\n",
       "      <td>0.026632</td>\n",
       "      <td>0.211942</td>\n",
       "      <td>0.131610</td>\n",
       "      <td>0.047932</td>\n",
       "      <td>0.018419</td>\n",
       "      <td>0.058803</td>\n",
       "      <td>0.008853</td>\n",
       "      <td>0.004122</td>\n",
       "      <td>0.040275</td>\n",
       "      <td>0.664773</td>\n",
       "    </tr>\n",
       "    <tr>\n",
       "      <th>8</th>\n",
       "      <td>0.089496</td>\n",
       "      <td>0.058028</td>\n",
       "      <td>0.241117</td>\n",
       "      <td>0.072025</td>\n",
       "      <td>0.030188</td>\n",
       "      <td>0.223320</td>\n",
       "      <td>0.116698</td>\n",
       "      <td>0.079314</td>\n",
       "      <td>0.018008</td>\n",
       "      <td>0.083366</td>\n",
       "      <td>0.005768</td>\n",
       "      <td>0.012906</td>\n",
       "      <td>0.030235</td>\n",
       "      <td>0.655455</td>\n",
       "    </tr>\n",
       "    <tr>\n",
       "      <th>9</th>\n",
       "      <td>0.090935</td>\n",
       "      <td>0.060259</td>\n",
       "      <td>0.279501</td>\n",
       "      <td>0.082913</td>\n",
       "      <td>0.030611</td>\n",
       "      <td>0.231787</td>\n",
       "      <td>0.107846</td>\n",
       "      <td>0.053889</td>\n",
       "      <td>0.011777</td>\n",
       "      <td>0.089655</td>\n",
       "      <td>0.010556</td>\n",
       "      <td>0.008911</td>\n",
       "      <td>0.058638</td>\n",
       "      <td>0.556878</td>\n",
       "    </tr>\n",
       "    <tr>\n",
       "      <th>10</th>\n",
       "      <td>0.096571</td>\n",
       "      <td>0.056875</td>\n",
       "      <td>0.348224</td>\n",
       "      <td>0.078233</td>\n",
       "      <td>0.033126</td>\n",
       "      <td>0.151785</td>\n",
       "      <td>0.106751</td>\n",
       "      <td>0.070554</td>\n",
       "      <td>0.035915</td>\n",
       "      <td>0.059968</td>\n",
       "      <td>0.012535</td>\n",
       "      <td>0.005761</td>\n",
       "      <td>0.056298</td>\n",
       "      <td>0.477263</td>\n",
       "    </tr>\n",
       "    <tr>\n",
       "      <th>11</th>\n",
       "      <td>0.077834</td>\n",
       "      <td>0.058810</td>\n",
       "      <td>0.320194</td>\n",
       "      <td>0.064815</td>\n",
       "      <td>0.050554</td>\n",
       "      <td>0.208383</td>\n",
       "      <td>0.074361</td>\n",
       "      <td>0.062020</td>\n",
       "      <td>0.022986</td>\n",
       "      <td>0.078150</td>\n",
       "      <td>0.010247</td>\n",
       "      <td>0.006867</td>\n",
       "      <td>0.035221</td>\n",
       "      <td>0.431424</td>\n",
       "    </tr>\n",
       "    <tr>\n",
       "      <th>12</th>\n",
       "      <td>0.085237</td>\n",
       "      <td>0.051432</td>\n",
       "      <td>0.293989</td>\n",
       "      <td>0.050918</td>\n",
       "      <td>0.037115</td>\n",
       "      <td>0.263368</td>\n",
       "      <td>0.083541</td>\n",
       "      <td>0.062132</td>\n",
       "      <td>0.028399</td>\n",
       "      <td>0.038719</td>\n",
       "      <td>0.008542</td>\n",
       "      <td>0.013230</td>\n",
       "      <td>0.016623</td>\n",
       "      <td>0.397380</td>\n",
       "    </tr>\n",
       "    <tr>\n",
       "      <th>13</th>\n",
       "      <td>0.067355</td>\n",
       "      <td>0.074158</td>\n",
       "      <td>0.315021</td>\n",
       "      <td>0.042023</td>\n",
       "      <td>0.040969</td>\n",
       "      <td>0.196081</td>\n",
       "      <td>0.065808</td>\n",
       "      <td>0.068898</td>\n",
       "      <td>0.059608</td>\n",
       "      <td>0.072076</td>\n",
       "      <td>0.012334</td>\n",
       "      <td>0.021632</td>\n",
       "      <td>0.035964</td>\n",
       "      <td>0.397608</td>\n",
       "    </tr>\n",
       "  </tbody>\n",
       "</table>\n",
       "</div>"
      ],
      "text/plain": [
       "    iFoodAtHome  iFoodAway  iHousing  iUtilites  iClothingAndBeauty  \\\n",
       "0      0.142941   0.064822  0.278057   0.111856            0.024535   \n",
       "1      0.137080   0.066246  0.263070   0.117938            0.026841   \n",
       "2      0.124603   0.067042  0.239401   0.102627            0.026122   \n",
       "3      0.126196   0.068054  0.250028   0.102665            0.024812   \n",
       "4      0.117862   0.064672  0.258571   0.095006            0.028917   \n",
       "5      0.112838   0.065943  0.249733   0.085270            0.026609   \n",
       "6      0.102403   0.065898  0.275018   0.081352            0.035001   \n",
       "7      0.103893   0.064589  0.279256   0.084223            0.026632   \n",
       "8      0.089496   0.058028  0.241117   0.072025            0.030188   \n",
       "9      0.090935   0.060259  0.279501   0.082913            0.030611   \n",
       "10     0.096571   0.056875  0.348224   0.078233            0.033126   \n",
       "11     0.077834   0.058810  0.320194   0.064815            0.050554   \n",
       "12     0.085237   0.051432  0.293989   0.050918            0.037115   \n",
       "13     0.067355   0.074158  0.315021   0.042023            0.040969   \n",
       "\n",
       "    iTransportation  iHealthcare  iEntertainment  iMiscellaneous  \\\n",
       "0          0.124034     0.141877        0.050384        0.032319   \n",
       "1          0.141163     0.141609        0.051443        0.018726   \n",
       "2          0.150944     0.171640        0.058019        0.013778   \n",
       "3          0.160038     0.160147        0.050828        0.019355   \n",
       "4          0.175919     0.152045        0.055538        0.017326   \n",
       "5          0.174707     0.147446        0.054308        0.018759   \n",
       "6          0.170428     0.148557        0.054527        0.013425   \n",
       "7          0.211942     0.131610        0.047932        0.018419   \n",
       "8          0.223320     0.116698        0.079314        0.018008   \n",
       "9          0.231787     0.107846        0.053889        0.011777   \n",
       "10         0.151785     0.106751        0.070554        0.035915   \n",
       "11         0.208383     0.074361        0.062020        0.022986   \n",
       "12         0.263368     0.083541        0.062132        0.028399   \n",
       "13         0.196081     0.065808        0.068898        0.059608   \n",
       "\n",
       "    iCharitableAndFamilyGiving  iInsurance  iEducation  iHousingPrinciple  \\\n",
       "0                     0.050914    0.004135    0.002125           0.027998   \n",
       "1                     0.047159    0.008865    0.001984           0.022125   \n",
       "2                     0.058661    0.004964    0.002809           0.020611   \n",
       "3                     0.053810    0.008331    0.003177           0.027440   \n",
       "4                     0.054973    0.008350    0.003513           0.032691   \n",
       "5                     0.081443    0.009294    0.002029           0.028379   \n",
       "6                     0.071825    0.006908    0.001512           0.026854   \n",
       "7                     0.058803    0.008853    0.004122           0.040275   \n",
       "8                     0.083366    0.005768    0.012906           0.030235   \n",
       "9                     0.089655    0.010556    0.008911           0.058638   \n",
       "10                    0.059968    0.012535    0.005761           0.056298   \n",
       "11                    0.078150    0.010247    0.006867           0.035221   \n",
       "12                    0.038719    0.008542    0.013230           0.016623   \n",
       "13                    0.072076    0.012334    0.021632           0.035964   \n",
       "\n",
       "      ExpInc  \n",
       "0   1.000000  \n",
       "1   1.000000  \n",
       "2   1.000000  \n",
       "3   1.000000  \n",
       "4   0.899778  \n",
       "5   0.780844  \n",
       "6   0.729271  \n",
       "7   0.664773  \n",
       "8   0.655455  \n",
       "9   0.556878  \n",
       "10  0.477263  \n",
       "11  0.431424  \n",
       "12  0.397380  \n",
       "13  0.397608  "
      ]
     },
     "execution_count": 63,
     "metadata": {},
     "output_type": "execute_result"
    }
   ],
   "source": [
    "# creating percentage outputs for cleaned dataframe\n",
    "inclassCleanAverages2 = round(clean2.ix[: ,clean2.columns != 'NEWID'].groupby(['INCLASS'],as_index=False).mean(),2)\n",
    "# creating new dataframe for the percentages that only includes the plynty categories\n",
    "cleanPercentages2 = inclassCleanAverages2.loc[:,rollupNames[1:]]\n",
    "for column in rollupNames[1:]:\n",
    "    cleanPercentages2[column] = inclassCleanAverages2[column]/inclassCleanAverages2.iTotalExp\n",
    "cleanPercentages2['ExpInc'] = inclassCleanAverages2['iTotalExp']/inclassCleanAverages2['FINCBTXM']\n",
    "# truncate the max ExpInc\n",
    "cleanPercentages2nonTruncated = cleanPercentages2.copy()\n",
    "cleanPercentages2.ExpInc.ix[cleanPercentages2['ExpInc']>1] = 1\n",
    "cleanPercentages2"
   ]
  },
  {
   "cell_type": "code",
   "execution_count": 64,
   "metadata": {
    "collapsed": false
   },
   "outputs": [
    {
     "data": {
      "text/plain": [
       "<matplotlib.text.Text at 0x119664630>"
      ]
     },
     "execution_count": 64,
     "metadata": {},
     "output_type": "execute_result"
    }
   ],
   "source": [
    "plt.bar(cleanPercentages1.index, cleanPercentages1.ExpInc, color = 'b')\n",
    "plt.title(\"Percent of Income Expended per Income Class\")\n",
    "plt.xlabel(\"Income Class\")\n",
    "plt.ylabel(\"Percentage\")\n",
    "# plt.show()"
   ]
  },
  {
   "cell_type": "code",
   "execution_count": 65,
   "metadata": {
    "collapsed": false
   },
   "outputs": [
    {
     "data": {
      "text/plain": [
       "<matplotlib.text.Text at 0x119664630>"
      ]
     },
     "execution_count": 65,
     "metadata": {},
     "output_type": "execute_result"
    }
   ],
   "source": [
    "plt.bar(cleanPercentages1.index, cleanPercentages1.iHousing, color = 'b')\n",
    "plt.ylim(0,.4)\n",
    "plt.title(\"Percent spent on Housing per Income Class (without outliers)\")\n",
    "plt.xlabel(\"Income class\")\n",
    "plt.ylabel(\"Percent spent on housing\")\n",
    "# plt.show()"
   ]
  },
  {
   "cell_type": "markdown",
   "metadata": {},
   "source": [
    "### Cell that determines how similar the neighbor rows are\n",
    "Potentially use this to combine similar rows.\n",
    "Can't figure out the correct statistical test to determine if rows are statistically similar\n",
    "\n",
    "###### The higher the difference value the more different the rows are. (low values mean similar rows)"
   ]
  },
  {
   "cell_type": "code",
   "execution_count": 66,
   "metadata": {
    "collapsed": false
   },
   "outputs": [
    {
     "name": "stdout",
     "output_type": "stream",
     "text": [
      "Income Bracket Range 1: $-inf - $11000\n",
      "Income Bracket Range 2: $11000 - $20000\n",
      "Number of CUs in Income Bracket 1: 985\n",
      "Number of CUs in Income Bracket 2: 934\n",
      "Rows in Percentage Dataframe: Row 0 and Row 1\n",
      "Column: iFoodAway\n",
      "Column: iClothingAndBeauty\n",
      "Column: iHealthcare\n",
      "Column: iEntertainment\n",
      "Column: iCharitableAndFamilyGiving\n",
      "Column: iInsurance\n",
      "Column: iEducation\n",
      "Column: ExpInc\n",
      "The difference value is: 10.15\n",
      "\n",
      "Income Bracket Range 1: $11000 - $20000\n",
      "Income Bracket Range 2: $20000 - $30000\n",
      "Number of CUs in Income Bracket 1: 934\n",
      "Number of CUs in Income Bracket 2: 899\n",
      "Rows in Percentage Dataframe: Row 1 and Row 2\n",
      "Column: iFoodAway\n",
      "Column: iClothingAndBeauty\n",
      "Column: iMiscellaneous\n",
      "Column: iInsurance\n",
      "Column: iEducation\n",
      "Column: iHousingPrinciple\n",
      "Column: ExpInc\n",
      "The difference value is: 16.34\n",
      "\n",
      "Income Bracket Range 1: $20000 - $30000\n",
      "Income Bracket Range 2: $30000 - $43000\n",
      "Number of CUs in Income Bracket 1: 899\n",
      "Number of CUs in Income Bracket 2: 559\n",
      "Rows in Percentage Dataframe: Row 2 and Row 3\n",
      "Column: iFoodAtHome\n",
      "Column: iFoodAway\n",
      "Column: iUtilites\n",
      "Column: iClothingAndBeauty\n",
      "Column: iCharitableAndFamilyGiving\n",
      "Column: iInsurance\n",
      "Column: iEducation\n",
      "Column: ExpInc\n",
      "The difference value is: 8.06\n",
      "\n",
      "Income Bracket Range 1: $30000 - $43000\n",
      "Income Bracket Range 2: $43000 - $55000\n",
      "Number of CUs in Income Bracket 1: 559\n",
      "Number of CUs in Income Bracket 2: 410\n",
      "Rows in Percentage Dataframe: Row 3 and Row 4\n",
      "Column: iFoodAway\n",
      "Column: iClothingAndBeauty\n",
      "Column: iEntertainment\n",
      "Column: iMiscellaneous\n",
      "Column: iCharitableAndFamilyGiving\n",
      "Column: iInsurance\n",
      "Column: iEducation\n",
      "The difference value is: 19.85\n",
      "\n",
      "Income Bracket Range 1: $43000 - $55000\n",
      "Income Bracket Range 2: $55000 - $69000\n",
      "Number of CUs in Income Bracket 1: 410\n",
      "Number of CUs in Income Bracket 2: 343\n",
      "Rows in Percentage Dataframe: Row 4 and Row 5\n",
      "Column: iFoodAway\n",
      "Column: iClothingAndBeauty\n",
      "Column: iTransportation\n",
      "Column: iHealthcare\n",
      "Column: iEntertainment\n",
      "Column: iMiscellaneous\n",
      "Column: iInsurance\n",
      "Column: iEducation\n",
      "Column: iHousingPrinciple\n",
      "The difference value is: 21.39\n",
      "\n",
      "Income Bracket Range 1: $55000 - $69000\n",
      "Income Bracket Range 2: $69000 - $80000\n",
      "Number of CUs in Income Bracket 1: 343\n",
      "Number of CUs in Income Bracket 2: 326\n",
      "Rows in Percentage Dataframe: Row 5 and Row 6\n",
      "Column: iFoodAway\n",
      "Column: iUtilites\n",
      "Column: iTransportation\n",
      "Column: iHealthcare\n",
      "Column: iEntertainment\n",
      "Column: iInsurance\n",
      "Column: iEducation\n",
      "Column: iHousingPrinciple\n",
      "The difference value is: 15.41\n",
      "\n",
      "Income Bracket Range 1: $69000 - $80000\n",
      "Income Bracket Range 2: $80000 - $100000\n",
      "Number of CUs in Income Bracket 1: 326\n",
      "Number of CUs in Income Bracket 2: 253\n",
      "Rows in Percentage Dataframe: Row 6 and Row 7\n",
      "Column: iFoodAtHome\n",
      "Column: iFoodAway\n",
      "Column: iHousing\n",
      "Column: iUtilites\n",
      "Column: iMiscellaneous\n",
      "Column: iInsurance\n",
      "Column: iEducation\n",
      "The difference value is: 21.87\n",
      "\n",
      "Income Bracket Range 1: $80000 - $100000\n",
      "Income Bracket Range 2: $100000 - $120000\n",
      "Number of CUs in Income Bracket 1: 253\n",
      "Number of CUs in Income Bracket 2: 245\n",
      "Rows in Percentage Dataframe: Row 7 and Row 8\n",
      "Column: iClothingAndBeauty\n",
      "Column: iMiscellaneous\n",
      "Column: iInsurance\n",
      "The difference value is: 24.51\n",
      "\n",
      "Income Bracket Range 1: $100000 - $120000\n",
      "Income Bracket Range 2: $120000 - $150000\n",
      "Number of CUs in Income Bracket 1: 245\n",
      "Number of CUs in Income Bracket 2: 162\n",
      "Rows in Percentage Dataframe: Row 8 and Row 9\n",
      "Column: iFoodAtHome\n",
      "Column: iFoodAway\n",
      "Column: iClothingAndBeauty\n",
      "Column: iInsurance\n",
      "Column: iEducation\n",
      "The difference value is: 28.94\n",
      "\n",
      "Income Bracket Range 1: $120000 - $150000\n",
      "Income Bracket Range 2: $150000 - $200000\n",
      "Number of CUs in Income Bracket 1: 162\n",
      "Number of CUs in Income Bracket 2: 130\n",
      "Rows in Percentage Dataframe: Row 9 and Row 10\n",
      "Column: iFoodAway\n",
      "Column: iUtilites\n",
      "Column: iClothingAndBeauty\n",
      "Column: iHealthcare\n",
      "Column: iInsurance\n",
      "Column: iEducation\n",
      "Column: iHousingPrinciple\n",
      "The difference value is: 40.77\n",
      "\n",
      "Income Bracket Range 1: $150000 - $200000\n",
      "Income Bracket Range 2: $200000 - $250000\n",
      "Number of CUs in Income Bracket 1: 130\n",
      "Number of CUs in Income Bracket 2: 65\n",
      "Rows in Percentage Dataframe: Row 10 and Row 11\n",
      "Column: iFoodAway\n",
      "Column: iInsurance\n",
      "Column: iEducation\n",
      "The difference value is: 35.26\n",
      "\n",
      "Income Bracket Range 1: $200000 - $250000\n",
      "Income Bracket Range 2: $250000 - $300000\n",
      "Number of CUs in Income Bracket 1: 65\n",
      "Number of CUs in Income Bracket 2: 48\n",
      "Rows in Percentage Dataframe: Row 11 and Row 12\n",
      "Column: iEntertainment\n",
      "Column: iInsurance\n",
      "The difference value is: 30.04\n",
      "\n",
      "Income Bracket Range 1: $250000 - $300000\n",
      "Income Bracket Range 2: $300000 - $inf\n",
      "Number of CUs in Income Bracket 1: 48\n",
      "Number of CUs in Income Bracket 2: 29\n",
      "Rows in Percentage Dataframe: Row 12 and Row 13\n",
      "Column: iClothingAndBeauty\n",
      "Column: iInsurance\n",
      "Column: ExpInc\n",
      "The difference value is: 33.94\n",
      "\n"
     ]
    }
   ],
   "source": [
    "significance = 0.005\n",
    "for row in range(len(cleanPercentages2)-1):\n",
    "    print(\"Income Bracket Range 1: $\"+str(incomeBrackets[row])+\" - \"+\"$\"+str(incomeBrackets[row+1]))\n",
    "    print(\"Income Bracket Range 2: $\"+str(incomeBrackets[row+1])+\" - \"+\"$\"+str(incomeBrackets[row+2]))\n",
    "    print(\"Number of CUs in Income Bracket 1: \"+str(inclassExpenses.INCLASS.value_counts().values[row]))\n",
    "    print(\"Number of CUs in Income Bracket 2: \"+str(inclassExpenses.INCLASS.value_counts().values[row+1]))\n",
    "    print(\"Rows in Percentage Dataframe: Row \"+str(row)+\" and Row \"+str(row+1))\n",
    "    difference = 0\n",
    "    for column in range(len(cleanPercentages2.columns)):\n",
    "        difference += (cleanPercentages2.loc[column].mean() * abs(cleanPercentages2.ix[row,column] - cleanPercentages2.ix[row+1,column]))\n",
    "        if abs(cleanPercentages2.ix[row,column] - cleanPercentages2.ix[row+1,column]) < significance:\n",
    "            print(\"Column: \"+str(cleanPercentages2.columns[column]))\n",
    "    print(\"The difference value is: \"+str(round(difference*1000,2)))\n",
    "    print()"
   ]
  },
  {
   "cell_type": "markdown",
   "metadata": {},
   "source": [
    "# Plots"
   ]
  },
  {
   "cell_type": "code",
   "execution_count": 67,
   "metadata": {
    "collapsed": false,
    "scrolled": true
   },
   "outputs": [
    {
     "name": "stdout",
     "output_type": "stream",
     "text": [
      "[985 934 899 559 410 343 326 253 245 162 130  65  48  29]\n"
     ]
    },
    {
     "data": {
      "text/plain": [
       "<matplotlib.text.Text at 0x119664630>"
      ]
     },
     "execution_count": 67,
     "metadata": {},
     "output_type": "execute_result"
    }
   ],
   "source": [
    "# ploting the number of people in each bracket\n",
    "print(inclassExpenses.INCLASS.value_counts().values)\n",
    "plt.bar(list(inclassExpenses.INCLASS.value_counts().index.tolist()), inclassExpenses.INCLASS.value_counts().values, align='center', color = \"r\")\n",
    "plt.title(\"Number of CUs in Income classes (with outliers)\")\n",
    "plt.xlabel(\"Income Class\")\n",
    "plt.ylabel(\"Count\")\n",
    "# plt.show()"
   ]
  },
  {
   "cell_type": "code",
   "execution_count": 68,
   "metadata": {
    "collapsed": false
   },
   "outputs": [
    {
     "data": {
      "text/plain": [
       "<matplotlib.text.Text at 0x119664630>"
      ]
     },
     "execution_count": 68,
     "metadata": {},
     "output_type": "execute_result"
    }
   ],
   "source": [
    "# creating the plot of percent of income expended per income class\n",
    "plt.bar(percentages.index, percentages.ExpInc, color = 'r')\n",
    "plt.title(\"Percent of Income Expended per Income Class (with outliers)\")\n",
    "plt.xlabel(\"Income Class\")\n",
    "plt.ylabel(\"Percentage\")\n",
    "# plt.show()"
   ]
  },
  {
   "cell_type": "code",
   "execution_count": 69,
   "metadata": {
    "collapsed": false,
    "scrolled": true
   },
   "outputs": [
    {
     "data": {
      "text/plain": [
       "<matplotlib.text.Text at 0x119664630>"
      ]
     },
     "execution_count": 69,
     "metadata": {},
     "output_type": "execute_result"
    }
   ],
   "source": [
    "# creating plot of Percent spent on Housing per income class\n",
    "plt.bar(percentages.index, percentages.iHousing, color = 'r')\n",
    "plt.ylim(0,.4)\n",
    "plt.title(\"Percent spent on Housing per Income Class (with outliers)\")\n",
    "plt.xlabel(\"Income class\")\n",
    "plt.ylabel(\"Percent spent on housing\")\n",
    "# plt.show()"
   ]
  },
  {
   "cell_type": "code",
   "execution_count": 70,
   "metadata": {
    "collapsed": false,
    "scrolled": false
   },
   "outputs": [
    {
     "data": {
      "text/plain": [
       "<matplotlib.text.Text at 0x119664630>"
      ]
     },
     "execution_count": 70,
     "metadata": {},
     "output_type": "execute_result"
    }
   ],
   "source": [
    "inclassSD = inclassExpenses.groupby(['INCLASS'],as_index=False).std()\n",
    "inclassSD.iHousing\n",
    "plt.bar(inclassSD.iHousing.index, inclassSD.iHousing, color = 'r')\n",
    "plt.title(\"Standard deviations in Income Classes (with outliers)\")\n",
    "plt.ylim(0,60000)\n",
    "plt.xlabel(\"Income Class\")\n",
    "plt.ylabel(\"Standard Deviation\")\n",
    "# plt.show()"
   ]
  },
  {
   "cell_type": "code",
   "execution_count": 71,
   "metadata": {
    "collapsed": false
   },
   "outputs": [
    {
     "name": "stdout",
     "output_type": "stream",
     "text": [
      "[914 878 825 533 386 328 301 234 227 152 125  60  41  27]\n"
     ]
    },
    {
     "data": {
      "text/plain": [
       "<matplotlib.text.Text at 0x119664630>"
      ]
     },
     "execution_count": 71,
     "metadata": {},
     "output_type": "execute_result"
    }
   ],
   "source": [
    "# ploting the number of people in each bracket\n",
    "print(clean1.INCLASS.value_counts().values)\n",
    "plt.bar(list(clean1.INCLASS.value_counts().index.tolist()), clean1.INCLASS.value_counts().values, align='center', color=\"g\")\n",
    "plt.title(\"Number of CUs in Income classes (outer fence)\")\n",
    "plt.xlabel(\"Income Class\")\n",
    "plt.ylabel(\"Count\")\n",
    "# plt.show()"
   ]
  },
  {
   "cell_type": "code",
   "execution_count": 72,
   "metadata": {
    "collapsed": false,
    "scrolled": true
   },
   "outputs": [
    {
     "data": {
      "text/plain": [
       "<matplotlib.text.Text at 0x119664630>"
      ]
     },
     "execution_count": 72,
     "metadata": {},
     "output_type": "execute_result"
    }
   ],
   "source": [
    "inclassClean1SD = clean1.groupby(['INCLASS'],as_index=False).std()\n",
    "inclassClean1SD.iHousing\n",
    "plt.bar(inclassClean1SD.iHousing.index, inclassClean1SD.iHousing,color = 'g')\n",
    "plt.ylim(0,60000)\n",
    "plt.title(\"Standard deviations in Income Classes (inner fence)\")\n",
    "plt.xlabel(\"Income Class\")\n",
    "plt.ylabel(\"Standard Deviation\")\n",
    "# plt.show()"
   ]
  },
  {
   "cell_type": "code",
   "execution_count": 73,
   "metadata": {
    "collapsed": false,
    "scrolled": true
   },
   "outputs": [
    {
     "name": "stdout",
     "output_type": "stream",
     "text": [
      "[956 915 860 552 400 339 312 250 239 156 129  64  44  29]\n"
     ]
    },
    {
     "data": {
      "text/plain": [
       "<matplotlib.text.Text at 0x119664630>"
      ]
     },
     "execution_count": 73,
     "metadata": {},
     "output_type": "execute_result"
    }
   ],
   "source": [
    "# ploting the number of people in each bracket\n",
    "print(clean2.INCLASS.value_counts().values)\n",
    "plt.bar(list(clean2.INCLASS.value_counts().index.tolist()), clean2.INCLASS.value_counts().values, align='center', color=\"b\")\n",
    "plt.title(\"Number of CUs in Income classes (outer fence)\")\n",
    "plt.xlabel(\"Income Class\")\n",
    "plt.ylabel(\"Count\")\n",
    "# plt.show()"
   ]
  },
  {
   "cell_type": "code",
   "execution_count": 74,
   "metadata": {
    "collapsed": false
   },
   "outputs": [
    {
     "data": {
      "text/plain": [
       "<matplotlib.text.Text at 0x119664630>"
      ]
     },
     "execution_count": 74,
     "metadata": {},
     "output_type": "execute_result"
    }
   ],
   "source": [
    "inclassClean2SD = clean2.groupby(['INCLASS'],as_index=False).std()\n",
    "inclassClean2SD.iHousing\n",
    "plt.bar(inclassClean2SD.iHousing.index, inclassClean2SD.iHousing,color = 'b')\n",
    "plt.ylim(0,60000)\n",
    "plt.title(\"Standard deviations in Income Classes (outer fence)\")\n",
    "plt.xlabel(\"Income Class\")\n",
    "plt.ylabel(\"Standard Deviation\")\n",
    "# plt.show()"
   ]
  },
  {
   "cell_type": "code",
   "execution_count": 75,
   "metadata": {
    "collapsed": false
   },
   "outputs": [
    {
     "data": {
      "image/png": "[encoded data removed]",
      "text/plain": [
       "<matplotlib.figure.Figure at 0x11ca412e8>"
      ]
     },
     "metadata": {},
     "output_type": "display_data"
    }
   ],
   "source": [
    "plt.close()\n",
    "n_groups = 4\n",
    "values1 = inclassExpenses.INCLASS.value_counts().values\n",
    "values2 = clean1.INCLASS.value_counts().values\n",
    "values3 = clean2.INCLASS.value_counts().values\n",
    "\n",
    "fig, ax = plt.subplots()\n",
    "index = np.arange(n_groups)\n",
    "bar_width = 0.25\n",
    "opacity = 1\n",
    " \n",
    "rects1 = plt.bar(inclassExpenses.INCLASS.value_counts().index -1, values1, bar_width,\n",
    "                 alpha=opacity,\n",
    "                 color='r',\n",
    "                 label='With')\n",
    " \n",
    "rects2 = plt.bar(clean1.INCLASS.value_counts().index -1 + bar_width, values2, bar_width,\n",
    "                 alpha=opacity,\n",
    "                 color='g',\n",
    "                 label='Inner')\n",
    "\n",
    "rects3 = plt.bar(clean2.INCLASS.value_counts().index - 1 + bar_width*2, values3, bar_width,\n",
    "                 alpha=opacity,\n",
    "                 color='b',\n",
    "                 label='Outer')\n",
    "\n",
    "plt.xlabel('Income Class')\n",
    "plt.ylabel('Number of CUs')\n",
    "plt.title('Number of CUs per Income Class')\n",
    "plt.legend()\n",
    "plt.show()"
   ]
  },
  {
   "cell_type": "code",
   "execution_count": 76,
   "metadata": {
    "collapsed": false,
    "scrolled": false
   },
   "outputs": [
    {
     "name": "stdout",
     "output_type": "stream",
     "text": [
      "The average percent change between with and without outliers: 2.02%\n"
     ]
    },
    {
     "data": {
      "image/png": "[encoded data removed]",
      "text/plain": [
       "<matplotlib.figure.Figure at 0x126d8a748>"
      ]
     },
     "metadata": {},
     "output_type": "display_data"
    }
   ],
   "source": [
    "n_groups = 4\n",
    "values1 = percentages.iHousing\n",
    "values2 = cleanPercentages1.iHousing\n",
    "values3 = cleanPercentages2.iHousing\n",
    "\n",
    "print(\"The average percent change between with and without outliers: \"+str(round((values1-values3).mean()*100,2))+\"%\")\n",
    "\n",
    "fig, ax = plt.subplots()\n",
    "index = np.arange(n_groups)\n",
    "bar_width = 0.25\n",
    "opacity = 1\n",
    " \n",
    "rects1 = plt.bar(percentages.index, values1, bar_width,\n",
    "                 alpha=opacity,\n",
    "                 color='r',\n",
    "                 label='With')\n",
    " \n",
    "rects2 = plt.bar(cleanPercentages1.index + bar_width, values2, bar_width,\n",
    "                 alpha=opacity,\n",
    "                 color='g',\n",
    "                 label='Inner')\n",
    "\n",
    "rects3 = plt.bar(cleanPercentages2.index + bar_width*2, values3, bar_width,\n",
    "                 alpha=opacity,\n",
    "                 color='b',\n",
    "                 label='Outer')\n",
    "\n",
    "plt.xlabel('Income Class')\n",
    "plt.ylabel('Percent of Total Expenditures')\n",
    "plt.title('Percent Spent on Housing per Income Class')\n",
    "plt.ylim(0,.4)\n",
    "plt.legend()\n",
    "plt.show()"
   ]
  },
  {
   "cell_type": "code",
   "execution_count": 77,
   "metadata": {
    "collapsed": false
   },
   "outputs": [
    {
     "data": {
      "image/png": "[encoded data removed]",
      "text/plain": [
       "<matplotlib.figure.Figure at 0x126d7c2e8>"
      ]
     },
     "metadata": {},
     "output_type": "display_data"
    }
   ],
   "source": [
    "n_groups = 4\n",
    "values1 = inclassSD.iHousing\n",
    "values2 = inclassClean1SD.iHousing\n",
    "values3 = inclassClean2SD.iHousing\n",
    "\n",
    "fig, ax = plt.subplots()\n",
    "index = np.arange(n_groups)\n",
    "bar_width = 0.25\n",
    "opacity = 1\n",
    " \n",
    "rects1 = plt.bar(percentages.index, values1, bar_width,\n",
    "                 alpha=opacity,\n",
    "                 color='r',\n",
    "                 label='With')\n",
    " \n",
    "rects2 = plt.bar(cleanPercentages1.index + bar_width, values2, bar_width,\n",
    "                 alpha=opacity,\n",
    "                 color='g',\n",
    "                 label='Inner')\n",
    "\n",
    "rects3 = plt.bar(cleanPercentages2.index + bar_width*2, values3, bar_width,\n",
    "                 alpha=opacity,\n",
    "                 color='b',\n",
    "                 label='Outer')\n",
    "\n",
    "plt.xlabel('Income Class')\n",
    "plt.ylabel('Standard Deviation (Dollars)')\n",
    "plt.title('Standard Deviation of money spent on Housing per Income Class')\n",
    "plt.legend()\n",
    "plt.show()"
   ]
  },
  {
   "cell_type": "code",
   "execution_count": 78,
   "metadata": {
    "collapsed": false,
    "scrolled": true
   },
   "outputs": [
    {
     "data": {
      "image/png": "[encoded data removed]",
      "text/plain": [
       "<matplotlib.figure.Figure at 0x1176b5a20>"
      ]
     },
     "metadata": {},
     "output_type": "display_data"
    }
   ],
   "source": [
    "n_groups = 3\n",
    "values1 = percentages.ExpInc\n",
    "values2 = cleanPercentages1.ExpInc\n",
    "values3 = cleanPercentages2.ExpInc\n",
    "\n",
    "fig, ax = plt.subplots()\n",
    "index = np.arange(n_groups)\n",
    "bar_width = 0.25\n",
    "opacity = 1\n",
    " \n",
    "rects1 = plt.bar(percentages.index, values1, bar_width,\n",
    "                 alpha=opacity,\n",
    "                 color='r',\n",
    "                 label='With')\n",
    " \n",
    "rects2 = plt.bar(cleanPercentages1.index + bar_width, values2, bar_width,\n",
    "                 alpha=opacity,\n",
    "                 color='g',\n",
    "                 label='Outer Fence')\n",
    "\n",
    "rects3 = plt.bar(cleanPercentages2.index + bar_width*2, values3, bar_width,\n",
    "                 alpha=opacity,\n",
    "                 color='b',\n",
    "                 label='Inner Fence')\n",
    " \n",
    "plt.xlabel('Income Class')\n",
    "plt.ylabel('Percent of Income Expended')\n",
    "plt.title('Percent of Income Expent per Income Class')\n",
    "plt.legend()\n",
    "plt.show()"
   ]
  },
  {
   "cell_type": "markdown",
   "metadata": {},
   "source": [
    "# Least squares polynomial fit\n",
    "any value that would cause a person to expend over 100% of their income is truncated to 100%"
   ]
  },
  {
   "cell_type": "code",
   "execution_count": 79,
   "metadata": {
    "slideshow": "-"
   },
   "outputs": [
    {
     "data": {
      "image/png": "[encoded data removed]",
      "text/plain": [
       "<matplotlib.figure.Figure at 0x126d7c518>"
      ]
     },
     "metadata": {},
     "output_type": "display_data"
    }
   ],
   "source": [
    "# cleanPercentages2.ExpInc[3:]\n",
    "cleanReg = clean2[[\"FINCBTXM\",\"iTotalExp\"]]\n",
    "cleanReg = cleanReg.loc[clean2.FINCBTXM > 0]\n",
    "cleanReg = cleanReg.loc[cleanReg.iTotalExp > 0]\n",
    "cleanReg\n",
    "def getExpendPercent(income):\n",
    "    if income <= 0:\n",
    "        return(1)\n",
    "    coefficients = np.polyfit(cleanReg.FINCBTXM, cleanReg.iTotalExp, deg = 3)\n",
    "    p = np.poly1d(coefficients)\n",
    "    np.seterr(divide='ignore')\n",
    "    percent = p(income)/income\n",
    "    if percent > 1:\n",
    "        percent = 1\n",
    "    return(percent)\n",
    "\n",
    "x = range(0,360000,1000)\n",
    "x2 = range(0,360000,1000)\n",
    "y =[]\n",
    "y2 =[]\n",
    "def oldRegression(income):\n",
    "    if income > 53000:\n",
    "        output = ((-7.6108*(10**(-17)))*(income**3))+((4.2009*(10**(-11)))*(income**2))+((-7.90256*(10**-6))*income)+1.21112\n",
    "    else:\n",
    "        output = 1\n",
    "    return(output)\n",
    "\n",
    "\n",
    "for bracket in range(0,360000,1000):\n",
    "    y.append(getExpendPercent(bracket))\n",
    "    y2.append(oldRegression(bracket))\n",
    "# plt.plot(inclassCleanAverages2.FINCBTXM,cleanPercentages2.ExpInc)\n",
    "plt.plot(x,y, color = \"r\", label=\"New\")\n",
    "plt.plot(x2,y2, color = \"b\", label = \"Old\")\n",
    "x3 = range(0,incomeBrackets[len(incomeBrackets)-2])\n",
    "\n",
    "# creating the repeatArray for income Bracket plotting\n",
    "lastvalue = 0\n",
    "repeatArray = []\n",
    "for x in range(0,len(incomeBrackets[1:len(incomeBrackets)-1])):\n",
    "    repeatArray.append(incomeBrackets[1:len(incomeBrackets)-1][x] - lastvalue)\n",
    "    lastvalue = incomeBrackets[1:len(incomeBrackets)-1][x]\n",
    "\n",
    "y3 = np.repeat(cleanPercentages2.ExpInc[0:len(cleanPercentages2)-1], repeatArray)\n",
    "plt.plot(x3,y3, color = \"g\", label = \"Brackets\")\n",
    "plt.title(\"Percent of Income Expended Regression\")\n",
    "plt.xlabel(\"Income Before Taxes\")\n",
    "plt.ylabel(\"Percent of Income Expended\")\n",
    "plt.xlim(0,350000)\n",
    "plt.ylim(0,1.2)\n",
    "plt.legend()\n",
    "plt.show()"
   ]
  },
  {
   "cell_type": "markdown",
   "metadata": {},
   "source": [
    "# Examples of Users"
   ]
  },
  {
   "cell_type": "code",
   "execution_count": 80,
   "metadata": {},
   "outputs": [
    {
     "data": {
      "text/html": [
       "<div>\n",
       "<table border=\"1\" class=\"dataframe\">\n",
       "  <thead>\n",
       "    <tr style=\"text-align: right;\">\n",
       "      <th></th>\n",
       "      <th>iFoodAtHome</th>\n",
       "      <th>iFoodAway</th>\n",
       "      <th>iHousing</th>\n",
       "      <th>iUtilites</th>\n",
       "      <th>iClothingAndBeauty</th>\n",
       "      <th>iTransportation</th>\n",
       "      <th>iHealthcare</th>\n",
       "      <th>iEntertainment</th>\n",
       "      <th>iMiscellaneous</th>\n",
       "      <th>iCharitableAndFamilyGiving</th>\n",
       "      <th>iInsurance</th>\n",
       "      <th>iEducation</th>\n",
       "      <th>iHousingPrinciple</th>\n",
       "      <th>ExpInc</th>\n",
       "    </tr>\n",
       "  </thead>\n",
       "  <tbody>\n",
       "    <tr>\n",
       "      <th>30000</th>\n",
       "      <td>311.506</td>\n",
       "      <td>167.605</td>\n",
       "      <td>598.503</td>\n",
       "      <td>256.567</td>\n",
       "      <td>65.3051</td>\n",
       "      <td>377.361</td>\n",
       "      <td>429.101</td>\n",
       "      <td>145.049</td>\n",
       "      <td>34.4446</td>\n",
       "      <td>146.654</td>\n",
       "      <td>12.4094</td>\n",
       "      <td>7.02219</td>\n",
       "      <td>51.5271</td>\n",
       "      <td>2500</td>\n",
       "    </tr>\n",
       "    <tr>\n",
       "      <th>60000</th>\n",
       "      <td>452.178</td>\n",
       "      <td>264.252</td>\n",
       "      <td>1000.76</td>\n",
       "      <td>341.705</td>\n",
       "      <td>106.629</td>\n",
       "      <td>700.104</td>\n",
       "      <td>590.86</td>\n",
       "      <td>217.63</td>\n",
       "      <td>75.1721</td>\n",
       "      <td>326.368</td>\n",
       "      <td>37.2421</td>\n",
       "      <td>8.13196</td>\n",
       "      <td>113.724</td>\n",
       "      <td>3129.08</td>\n",
       "    </tr>\n",
       "    <tr>\n",
       "      <th>90000</th>\n",
       "      <td>519.884</td>\n",
       "      <td>323.206</td>\n",
       "      <td>1397.4</td>\n",
       "      <td>421.456</td>\n",
       "      <td>133.267</td>\n",
       "      <td>1060.57</td>\n",
       "      <td>658.58</td>\n",
       "      <td>239.852</td>\n",
       "      <td>92.1681</td>\n",
       "      <td>294.252</td>\n",
       "      <td>44.3029</td>\n",
       "      <td>20.6289</td>\n",
       "      <td>201.538</td>\n",
       "      <td>3326.55</td>\n",
       "    </tr>\n",
       "    <tr>\n",
       "      <th>120000</th>\n",
       "      <td>528.082</td>\n",
       "      <td>342.404</td>\n",
       "      <td>1422.74</td>\n",
       "      <td>424.994</td>\n",
       "      <td>178.126</td>\n",
       "      <td>1317.73</td>\n",
       "      <td>688.594</td>\n",
       "      <td>468.001</td>\n",
       "      <td>106.258</td>\n",
       "      <td>491.914</td>\n",
       "      <td>34.0358</td>\n",
       "      <td>76.154</td>\n",
       "      <td>178.407</td>\n",
       "      <td>3867.59</td>\n",
       "    </tr>\n",
       "    <tr>\n",
       "      <th>250000</th>\n",
       "      <td>697.714</td>\n",
       "      <td>527.181</td>\n",
       "      <td>2870.27</td>\n",
       "      <td>581.009</td>\n",
       "      <td>453.177</td>\n",
       "      <td>1867.98</td>\n",
       "      <td>666.583</td>\n",
       "      <td>555.958</td>\n",
       "      <td>206.05</td>\n",
       "      <td>700.551</td>\n",
       "      <td>91.8597</td>\n",
       "      <td>61.5549</td>\n",
       "      <td>315.727</td>\n",
       "      <td>3867.35</td>\n",
       "    </tr>\n",
       "  </tbody>\n",
       "</table>\n",
       "</div>"
      ],
      "text/plain": [
       "       iFoodAtHome iFoodAway iHousing iUtilites iClothingAndBeauty  \\\n",
       "30000      311.506   167.605  598.503   256.567            65.3051   \n",
       "60000      452.178   264.252  1000.76   341.705            106.629   \n",
       "90000      519.884   323.206   1397.4   421.456            133.267   \n",
       "120000     528.082   342.404  1422.74   424.994            178.126   \n",
       "250000     697.714   527.181  2870.27   581.009            453.177   \n",
       "\n",
       "       iTransportation iHealthcare iEntertainment iMiscellaneous  \\\n",
       "30000          377.361     429.101        145.049        34.4446   \n",
       "60000          700.104      590.86         217.63        75.1721   \n",
       "90000          1060.57      658.58        239.852        92.1681   \n",
       "120000         1317.73     688.594        468.001        106.258   \n",
       "250000         1867.98     666.583        555.958         206.05   \n",
       "\n",
       "       iCharitableAndFamilyGiving iInsurance iEducation iHousingPrinciple  \\\n",
       "30000                     146.654    12.4094    7.02219           51.5271   \n",
       "60000                     326.368    37.2421    8.13196           113.724   \n",
       "90000                     294.252    44.3029    20.6289           201.538   \n",
       "120000                    491.914    34.0358     76.154           178.407   \n",
       "250000                    700.551    91.8597    61.5549           315.727   \n",
       "\n",
       "         ExpInc  \n",
       "30000      2500  \n",
       "60000   3129.08  \n",
       "90000   3326.55  \n",
       "120000  3867.59  \n",
       "250000  3867.35  "
      ]
     },
     "execution_count": 80,
     "metadata": {},
     "output_type": "execute_result"
    }
   ],
   "source": [
    "usersIncome = [30000, 60000, 90000, 120000, 250000]\n",
    "def getIncomeBracket(income):\n",
    "    for bracket in range(len(incomeBrackets)-2,0,-1):\n",
    "        if income > incomeBrackets[bracket]:\n",
    "            return bracket\n",
    "            \n",
    "\n",
    "exampleExpenses = pd.DataFrame(columns = cleanPercentages2.columns, index = range(len(usersIncome)))\n",
    "for user in usersIncome:\n",
    "    userBracket = getIncomeBracket(user)\n",
    "    userExpendAmount = getExpendPercent(user) * user\n",
    "    userBaseExpenses = (cleanPercentages2.loc[userBracket]*userExpendAmount)/12\n",
    "    exampleExpenses.loc[usersIncome.index(user)] = userBaseExpenses\n",
    "\n",
    "exampleExpenses.index = usersIncome\n",
    "\n",
    "exampleExpenses"
   ]
  },
  {
   "cell_type": "markdown",
   "metadata": {},
   "source": [
    "# Creating CSV fo percentages"
   ]
  },
  {
   "cell_type": "code",
   "execution_count": 81,
   "metadata": {},
   "outputs": [],
   "source": [
    "# cleanPercentages2.to_csv(\"percentage65up.csv\")"
   ]
  },
  {
   "cell_type": "markdown",
   "metadata": {},
   "source": [
    "# Importing CSVs of pre-Subset Percentages CSVs"
   ]
  },
  {
   "cell_type": "code",
   "execution_count": 82,
   "metadata": {},
   "outputs": [],
   "source": [
    "ageRange1 = pd.read_csv(\"percentage55to64.csv\", index_col=0)\n",
    "ageRange2 = pd.read_csv(\"percentage60up.csv\", index_col=0)\n",
    "ageRange3 = pd.read_csv(\"percentage65up.csv\", index_col=0)"
   ]
  },
  {
   "cell_type": "code",
   "execution_count": 83,
   "metadata": {},
   "outputs": [
    {
     "data": {
      "image/png": "[encoded data removed]",
      "text/plain": [
       "<matplotlib.figure.Figure at 0x126d8aa90>"
      ]
     },
     "metadata": {},
     "output_type": "display_data"
    }
   ],
   "source": [
    "n_groups = 3\n",
    "values1 = ageRange1.ExpInc\n",
    "values2 = ageRange2.ExpInc\n",
    "values3 = ageRange3.ExpInc\n",
    "\n",
    "fig, ax = plt.subplots()\n",
    "index = np.arange(n_groups)\n",
    "bar_width = 0.25\n",
    "opacity = 1\n",
    " \n",
    "rects1 = plt.bar(ageRange1.index, values1, bar_width,\n",
    "                 alpha=opacity,\n",
    "                 color='r',\n",
    "                 label='55-64')\n",
    " \n",
    "rects2 = plt.bar(ageRange2.index + bar_width, values2, bar_width,\n",
    "                 alpha=opacity,\n",
    "                 color='g',\n",
    "                 label='60+')\n",
    "\n",
    "rects3 = plt.bar(ageRange3.index + (bar_width * 2), values3, bar_width,\n",
    "                 alpha=opacity,\n",
    "                 color='b',\n",
    "                 label='65+')\n",
    "\n",
    "plt.xlabel('Income Class')\n",
    "plt.ylabel('Percent of Income Expended')\n",
    "plt.title('Percent of Income Expent per Income Class')\n",
    "plt.legend()\n",
    "plt.show()"
   ]
  },
  {
   "cell_type": "code",
   "execution_count": 84,
   "metadata": {},
   "outputs": [
    {
     "data": {
      "image/png": "[encoded data removed]",
      "text/plain": [
       "<matplotlib.figure.Figure at 0x11b0f7fd0>"
      ]
     },
     "metadata": {},
     "output_type": "display_data"
    }
   ],
   "source": [
    "n_groups = 3\n",
    "values1 = ageRange1.iHousing\n",
    "values2 = ageRange2.iHousing\n",
    "values3 = ageRange3.iHousing\n",
    "\n",
    "fig, ax = plt.subplots()\n",
    "index = np.arange(n_groups)\n",
    "bar_width = 0.25\n",
    "opacity = 1\n",
    " \n",
    "rects1 = plt.bar(ageRange1.index, values1, bar_width,\n",
    "                 alpha=opacity,\n",
    "                 color='r',\n",
    "                 label='55-64')\n",
    " \n",
    "rects2 = plt.bar(ageRange2.index + bar_width, values2, bar_width,\n",
    "                 alpha=opacity,\n",
    "                 color='g',\n",
    "                 label='60+')\n",
    "\n",
    "rects3 = plt.bar(ageRange3.index + (bar_width * 2), values3, bar_width,\n",
    "                 alpha=opacity,\n",
    "                 color='b',\n",
    "                 label='65+')\n",
    "\n",
    "plt.xlabel('Income Class')\n",
    "plt.ylabel('Percent of Total Expenditures')\n",
    "plt.title('Percent Spent on Housing per Income Class')\n",
    "plt.legend()\n",
    "plt.show()"
   ]
  },
  {
   "cell_type": "code",
   "execution_count": 85,
   "metadata": {},
   "outputs": [
    {
     "data": {
      "image/png": "[encoded data removed]",
      "text/plain": [
       "<matplotlib.figure.Figure at 0x11ca42080>"
      ]
     },
     "metadata": {},
     "output_type": "display_data"
    }
   ],
   "source": [
    "n_groups = 3\n",
    "values1 = ageRange1.iHealthcare\n",
    "values2 = ageRange2.iHealthcare\n",
    "values3 = ageRange3.iHealthcare\n",
    "\n",
    "fig, ax = plt.subplots()\n",
    "index = np.arange(n_groups)\n",
    "bar_width = 0.25\n",
    "opacity = 1\n",
    " \n",
    "rects1 = plt.bar(ageRange1.index, values1, bar_width,\n",
    "                 alpha=opacity,\n",
    "                 color='r',\n",
    "                 label='55-64')\n",
    " \n",
    "rects2 = plt.bar(ageRange2.index + bar_width, values2, bar_width,\n",
    "                 alpha=opacity,\n",
    "                 color='g',\n",
    "                 label='60+')\n",
    "\n",
    "rects3 = plt.bar(ageRange3.index + (bar_width * 2), values3, bar_width,\n",
    "                 alpha=opacity,\n",
    "                 color='b',\n",
    "                 label='65+')\n",
    "\n",
    "plt.xlabel('Income Class')\n",
    "plt.ylabel('Percent of Total Expenditures')\n",
    "plt.title('Percent Spent on Healthcare per Income Class')\n",
    "plt.legend()\n",
    "plt.show()"
   ]
  },
  {
   "cell_type": "code",
   "execution_count": 86,
   "metadata": {},
   "outputs": [
    {
     "data": {
      "image/png": "[encoded data removed]",
      "text/plain": [
       "<matplotlib.figure.Figure at 0x117e7be80>"
      ]
     },
     "metadata": {},
     "output_type": "display_data"
    }
   ],
   "source": [
    "n_groups = 2\n",
    "values1 = ageRange1.iCharitableAndFamilyGiving\n",
    "values2 = ageRange2.iCharitableAndFamilyGiving\n",
    "values3 = ageRange3.iCharitableAndFamilyGiving\n",
    "\n",
    "fig, ax = plt.subplots()\n",
    "index = np.arange(n_groups)\n",
    "bar_width = 0.25\n",
    "opacity = 1\n",
    " \n",
    "rects1 = plt.bar(ageRange1.index, values1, bar_width,\n",
    "                 alpha=opacity,\n",
    "                 color='r',\n",
    "                 label='55-64')\n",
    " \n",
    "rects2 = plt.bar(ageRange2.index + bar_width, values2, bar_width,\n",
    "                 alpha=opacity,\n",
    "                 color='g',\n",
    "                 label='60+')\n",
    "\n",
    "rects3 = plt.bar(ageRange3.index + (bar_width * 2), values3, bar_width,\n",
    "                 alpha=opacity,\n",
    "                 color='b',\n",
    "                 label='65+')\n",
    "\n",
    "plt.xlabel('Income Class')\n",
    "plt.ylabel('Percent of Total Expenditures')\n",
    "plt.title('Percent Spent on Giving per Income Class')\n",
    "plt.legend()\n",
    "plt.show()"
   ]
  },
  {
   "cell_type": "markdown",
   "metadata": {},
   "source": [
    "# Thoughts on the difference between 55-64 and 60+\n",
    "- 60+ expend a higher percent of their income than 55-64 bracket\n",
    "- This could be because the people in the 60+ bracket are actually retired meaning their income is lower?\n",
    " - should check this\n",
    "- What are the advantages of using 60+ vs 55-64\n",
    " - doesn't just focus on the right at begining retirement age\n",
    " - better view of the retirement population\n",
    " - Higher expenditure percentages may be more realistic"
   ]
  },
  {
   "cell_type": "code",
   "execution_count": null,
   "metadata": {},
   "outputs": [],
   "source": []
  }
 ],
 "metadata": {
  "kernelspec": {
   "display_name": "Python 3",
   "language": "python",
   "name": "python3"
  },
  "language_info": {
   "codemirror_mode": {
    "name": "ipython",
    "version": 3
   },
   "file_extension": ".py",
   "mimetype": "text/x-python",
   "name": "python",
   "nbconvert_exporter": "python",
   "pygments_lexer": "ipython3",
   "version": "3.6.0"
  },
  "widgets": {
   "state": {
    "0068692ac0bc411882a87b1a14dcfe10": {
     "views": [
      {
       "cell_index": 4
      }
     ]
    },
    "0bb2a8ec3efd4b92929860f0bd5905e0": {
     "views": [
      {
       "cell_index": 4
      }
     ]
    },
    "100206eef84d4173abc40ab8904f8ad5": {
     "views": [
      {
       "cell_index": 4
      }
     ]
    },
    "1b9d1660c8c64ec9952ea8a110d1f45b": {
     "views": [
      {
       "cell_index": 4
      }
     ]
    },
    "206b339cc5fa431eb2bfdf4a002fbee4": {
     "views": [
      {
       "cell_index": 4
      }
     ]
    },
    "27544fcbcde6482ab4785aca6aad69f9": {
     "views": [
      {
       "cell_index": 4
      }
     ]
    },
    "2c4068db76574349ba22032b0e0389bf": {
     "views": [
      {
       "cell_index": 4
      }
     ]
    },
    "385321efd2764b82add0b60833dab624": {
     "views": [
      {
       "cell_index": 4
      }
     ]
    },
    "48f62472d15647e9b82c65dcdbdc25b1": {
     "views": [
      {
       "cell_index": 4
      }
     ]
    },
    "516d2b0274bb45bfaec4433d691dc6ec": {
     "views": [
      {
       "cell_index": 4
      }
     ]
    },
    "522fbf9e096342859c5801ecb6e99658": {
     "views": [
      {
       "cell_index": 4
      }
     ]
    },
    "6fdc0a4cf68b438fac80ab3e4b83d19f": {
     "views": [
      {
       "cell_index": 4
      }
     ]
    },
    "91413111d50544c48166272bb0472126": {
     "views": [
      {
       "cell_index": 4
      }
     ]
    },
    "a89892d026274481bc6291f33d61d7e5": {
     "views": [
      {
       "cell_index": 4
      }
     ]
    },
    "ba65bfee910c4112af5658a6e6a2ef70": {
     "views": [
      {
       "cell_index": 4
      }
     ]
    },
    "c5763faee881469485888bfe55e988d1": {
     "views": [
      {
       "cell_index": 4
      }
     ]
    },
    "ca4f506cd0b14565b07e8899cf82befe": {
     "views": [
      {
       "cell_index": 4
      }
     ]
    },
    "d3b4abc7c62c4b0aa661a9f52260198b": {
     "views": [
      {
       "cell_index": 4
      }
     ]
    },
    "dfcd57085b0c46b6ac49e9f39fb3ffb5": {
     "views": [
      {
       "cell_index": 4
      }
     ]
    },
    "ed7c8b262ece470aafa8df3c2730a563": {
     "views": [
      {
       "cell_index": 4
      }
     ]
    },
    "f31852a1231145c08bf5cf8b6a3e888c": {
     "views": [
      {
       "cell_index": 4
      }
     ]
    },
    "fc7c33a10615450991993c8d4d270f86": {
     "views": [
      {
       "cell_index": 4
      }
     ]
    }
   },
   "version": "1.2.0"
  }
 },
 "nbformat": 4,
 "nbformat_minor": 2
}
