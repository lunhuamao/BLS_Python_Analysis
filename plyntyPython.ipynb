{
 "cells": [
  {
   "cell_type": "markdown",
   "metadata": {
    "slideshow": {
     "slide_type": "slide"
    }
   },
   "source": [
    "# Plynty Bureau of Labor Statistics Consumer Expenditure Analysis\n",
    "\n",
    "[BLS Comsumer Expenditure Survey](https://www.bls.gov/cex/home.htm)\n",
    "\n",
    "[Interview Data Dictionary](https://www.bls.gov/cex/2015/csxintvwdata.pdf)\n",
    "\n",
    "[Diary Data Dictionary](https://www.bls.gov/cex/2015/csxdiarydata.pdf)\n",
    "\n",
    "### Where to download the BLS CE PUMD\n",
    "- The zip files download automatically\n",
    "- To download the Stub files open the links then right click and choose \"Save As...\"\n",
    "\n",
    "[2015 interview zip file](https://www.bls.gov/cex/pumd/data/comma/intrvw15.zip)\n",
    "\n",
    "[2015 diary zip file](https://www.bls.gov/cex/pumd/data/comma/diary15.zip)\n",
    "\n",
    "[2015 IntStub file](https://www.bls.gov/cex/pumd/2014/csxintstub.txt)\n",
    "\n",
    "[2015 IStub file](https://www.bls.gov/cex/pumd/2014/csxistub.txt)\n",
    "\n",
    "[2015 DStub file](https://www.bls.gov/cex/pumd/2014/csxdstub.txt)\n",
    "\n",
    "### This Scripts Goals for Plynty\n",
    "- Create an easy to use analysis script for the BLS CE PUMD \n",
    "- Create a csv files that has average percentages spent on plynty categories for certain income classes\n",
    "- Develop a \n",
    "- Create incomeclasses that are stastically significant"
   ]
  },
  {
   "cell_type": "markdown",
   "metadata": {
    "slideshow": {
     "slide_type": "slide"
    }
   },
   "source": [
    "##### Importing Libraries "
   ]
  },
  {
   "cell_type": "code",
   "execution_count": 1,
   "metadata": {
    "collapsed": false,
    "slideshow": {
     "slide_type": "subslide"
    }
   },
   "outputs": [
    {
     "name": "stdout",
     "output_type": "stream",
     "text": [
      "Dependencies Loaded...\n"
     ]
    }
   ],
   "source": [
    "import pandas as pd\n",
    "import numpy as np\n",
    "import os\n",
    "import subprocess\n",
    "import math\n",
    "import matplotlib.pyplot as plt\n",
    "from scipy.interpolate import *\n",
    "from plyntywidgets import *\n",
    "from blsFunctions import *\n",
    "print(\"Dependencies Loaded...\")"
   ]
  },
  {
   "cell_type": "markdown",
   "metadata": {},
   "source": [
    "### Setting Parameters\n",
    "- year: the last two number associated with the year of the data\n",
    "    for example for data from 2015: year = \"15\"\n",
    "- minAge: the low bound (inclusive) of the age range you wish to subset by\n",
    "- maxAge: the high bound (inclusive) of the age range you wish to subset by\n",
    "- incomeBrackets: array of numbers that you wish to create the new income classes\n",
    "    the bracketing works as follows (1,2], (2,3], (3,4]\n",
    "- filesToRead: the strings of the abbreviations associated with the files you wish to read\n",
    "    options are: \"all\", \"diary\", \"interview\", \"dtbd\", \"expd\", \"fmld\", \"memd\", \"fmli\", \"itbi\", \"memi\", \"mtbi\", \"ntaxi\""
   ]
  },
  {
   "cell_type": "code",
   "execution_count": 2,
   "metadata": {
    "collapsed": false
   },
   "outputs": [],
   "source": [
    "year = \"15\"\n",
    "filesToRead = [\"fmli\", \"mtbi\"]\n",
    "incomeBrackets = [-math.inf,11000,20000,30000,43000,55000,69000,80000,100000,120000,150000,200000,250000,300000,math.inf]\n",
    "minAge = 60\n",
    "maxAge = 130"
   ]
  },
  {
   "cell_type": "markdown",
   "metadata": {},
   "source": [
    "### Setting Directory locations and FileNames on your Local Machine"
   ]
  },
  {
   "cell_type": "code",
   "execution_count": 3,
   "metadata": {
    "collapsed": false
   },
   "outputs": [],
   "source": [
    "# directory in which the diary and interview folders are held is located\n",
    "diaryDir = \"/Users/adyke/Vizuri/CE_PUMD/diary15/\"\n",
    "interviewDir = \"/Users/adyke/Vizuri/CE_PUMD/intrvw15/\"\n",
    "\n",
    "# Directory where stubfiles are located\n",
    "pathToStubFileDir = \"/Users/adyke/Vizuri/Stubfiles/\"\n",
    "rScriptStubfilePathAndName = \"/Users/adyke/Vizuri/BLS_Python_Analysis/creatingStubCsvs.R\"\n",
    "\n",
    "# Filenames of the Stubfiles\n",
    "IStubFileName = \"IStub2015.txt\"\n",
    "DStubFileName = \"DStub2015.txt\"\n",
    "IntStubFileName = \"IntStub2015.txt\"\n",
    "\n",
    "# name of interview dir within the interview dir\n",
    "insideIntrvwDirName = \"intrvw\"\n",
    "\n",
    "# name of the directory where you want the output percentages csv\n",
    "outputDir = \"/Users/adyke/Vizuri/outputFiles/\""
   ]
  },
  {
   "cell_type": "markdown",
   "metadata": {},
   "source": [
    "### Reading in the files specified by FilesToRead"
   ]
  },
  {
   "cell_type": "code",
   "execution_count": 4,
   "metadata": {
    "collapsed": false
   },
   "outputs": [],
   "source": [
    "if(len(filesToRead)==0):\n",
    "    print(\"The files to read variable is empty.\")\n",
    "\n",
    "# looping through each file to read\n",
    "for file in filesToRead:\n",
    "    if file == \"dtbd\" or file == \"all\" or file == \"diary\":\n",
    "        dtbd = readFileSet(\"dtbd\", diaryDir)\n",
    "    if file == \"expd\" or file == \"all\" or file == \"diary\":\n",
    "        expd = readFileSet(\"expd\", diaryDir)\n",
    "    if file == \"fmld\" or file == \"all\" or file == \"diary\":\n",
    "        fmld = readFileSet(\"fmld\", diaryDir)\n",
    "    if file == \"memd\" or file == \"all\" or file == \"diary\":\n",
    "        memd = readFileSet(\"memd\", diaryDir)\n",
    "    if file == \"fmli\" or file == \"all\" or file == \"interview\":\n",
    "        fmli = readFileSet(\"fmli\", interviewDir+insideIntrvwDirName+year+\"/\")\n",
    "    if file == \"itbi\" or file == \"all\" or file == \"interview\":\n",
    "        itbi = readFileSet(\"itbi\", interviewDir+insideIntrvwDirName+year+\"/\")\n",
    "    if file == \"itii\" or file == \"all\" or file == \"interview\":\n",
    "        itii = readFileSet(\"itii\", interviewDir+insideIntrvwDirName+year+\"/\")\n",
    "    if file == \"memi\" or file == \"all\" or file == \"interview\":\n",
    "        memi = readFileSet(\"memi\", interviewDir+insideIntrvwDirName+year+\"/\")\n",
    "    if file == \"mtbi\" or file == \"all\" or file == \"interview\":\n",
    "        mtbi = readFileSet(\"mtbi\", interviewDir+insideIntrvwDirName+year+\"/\")\n",
    "        mtbi.UCC = mtbi.UCC.astype(str)\n",
    "    if file == \"ntaxi\" or file == \"all\" or file == \"interview\":\n",
    "        ntaxi = readFileSet(\"ntaxi\", interviewDir+insideIntrvwDirName+year+\"/\")\n",
    "# does not read form the expn or para subdirectories\n"
   ]
  },
  {
   "cell_type": "markdown",
   "metadata": {},
   "source": [
    "### Using R to convert the Stub files into csv files"
   ]
  },
  {
   "cell_type": "code",
   "execution_count": 5,
   "metadata": {
    "collapsed": false
   },
   "outputs": [
    {
     "name": "stdout",
     "output_type": "stream",
     "text": [
      "Stubfiles Exist\n"
     ]
    }
   ],
   "source": [
    "if os.path.isfile(pathToStubFileDir+\"DStub.csv\") and os.path.isfile(pathToStubFileDir+\"IStub.csv\") and os.path.isfile(pathToStubFileDir+\"IntStub.csv\"):\n",
    "    print(\"Stubfiles Exist\")\n",
    "else:\n",
    "    # converting the stub files via R \n",
    "    subprocess.call(\"Rscript \"+rScriptStubfilePathAndName+\" \"+pathToStubFileDir+\" \"+IStubFileName+\" \"+DStubFileName+\" \"+IntStubFileName, shell=True)\n",
    "    print(\"Stubfile Csvs created in \"+pathToStubFileDir)"
   ]
  },
  {
   "cell_type": "markdown",
   "metadata": {},
   "source": [
    "### Reading and Cleaning the stubfile CSVs into pandas dataframes"
   ]
  },
  {
   "cell_type": "code",
   "execution_count": 6,
   "metadata": {
    "collapsed": false
   },
   "outputs": [],
   "source": [
    "# reading in the stubfiles\n",
    "DStub = pd.read_csv(pathToStubFileDir+\"DStub.csv\")\n",
    "IStub = pd.read_csv(pathToStubFileDir+\"IStub.csv\")\n",
    "IntStub = pd.read_csv(pathToStubFileDir+\"IntStub.csv\")\n",
    "\n",
    "# removing the index from the stufile\n",
    "DStub = DStub.drop(DStub.columns[0], axis=1)\n",
    "IStub = IStub.drop(IStub.columns[0], axis=1)\n",
    "IntStub = IntStub.drop(IntStub.columns[0], axis=1)\n",
    "\n",
    "# replacing * with 0 in the level columns\n",
    "DStub.loc[DStub.level == \"*\", 'level'] = 0\n",
    "IStub.loc[IStub.level == \"*\", 'level'] = 0\n",
    "IntStub.loc[IntStub.level == \"*\", 'level'] = 0"
   ]
  },
  {
   "cell_type": "markdown",
   "metadata": {},
   "source": [
    "# Starting the Plynty calculations"
   ]
  },
  {
   "cell_type": "markdown",
   "metadata": {},
   "source": [
    "### Creating the UCC roll ups for Plynty"
   ]
  },
  {
   "cell_type": "code",
   "execution_count": 7,
   "metadata": {
    "collapsed": false
   },
   "outputs": [],
   "source": [
    "# creating UCC rollups for the interview files for plynty categories\n",
    "iTotalExp = categoricalUCCRollUp(IStub,[\"TOTALE\"])\n",
    "iFoodAtHome = categoricalUCCRollUp(IStub, [\"FOODHO\", \"ALCHOM\"])\n",
    "iFoodAway = categoricalUCCRollUp(IStub, [\"FOODAW\", \"ALCAWA\"])\n",
    "iHousing = categoricalUCCRollUp(IStub, [\"HOUSIN\"], ignoreUCCs = categoricalUCCRollUp(IStub, [\"UTILS\"]))\n",
    "iUtilites = categoricalUCCRollUp(IStub, [\"UTILS\"])\n",
    "iClothingAndBeauty = categoricalUCCRollUp(IStub, [\"APPARE\",\"PERSCA\"])\n",
    "iTransportation = categoricalUCCRollUp(IStub, [\"TRANS\"])\n",
    "iHealthcare = categoricalUCCRollUp(IStub, [\"HEALTH\"])\n",
    "iEntertainment = categoricalUCCRollUp(IStub, [\"ENTRTA\",\"READIN\"])\n",
    "iMiscellaneous = categoricalUCCRollUp(IStub, [\"MISC\",\"TOBACC\"])\n",
    "iCharitableAndFamilyGiving = categoricalUCCRollUp(IStub, [\"CASHCO\"])\n",
    "iInsurance = categoricalUCCRollUp(IStub, [\"LIFEIN\"])\n",
    "iEducation = categoricalUCCRollUp(IStub, [\"EDUCAT\"])\n",
    "iHousingPrinciple = categoricalUCCRollUp(IStub,[\"MRTPRI\"])"
   ]
  },
  {
   "cell_type": "markdown",
   "metadata": {},
   "source": [
    "### Adding and Rolling up the MTBI Categories into mtbiRolledUp\n",
    "\n",
    "outputs from cell:\n",
    "- mtbiTrimmed: Dataframe with NewID, TotatlExp and each entry of cost."
   ]
  },
  {
   "cell_type": "code",
   "execution_count": 8,
   "metadata": {
    "collapsed": false
   },
   "outputs": [],
   "source": [
    "rollupNames = [\"iTotalExp\",\"iFoodAtHome\",\"iFoodAway\",\"iHousing\",\"iUtilites\",\"iClothingAndBeauty\",\"iTransportation\",\"iHealthcare\",\"iEntertainment\",\"iMiscellaneous\",\"iCharitableAndFamilyGiving\",\"iInsurance\",\"iEducation\",\"iHousingPrinciple\"]\n",
    "rollups = [iTotalExp,iFoodAtHome,iFoodAway,iHousing,iUtilites,iClothingAndBeauty,iTransportation,iHealthcare,iEntertainment,iMiscellaneous,iCharitableAndFamilyGiving,iInsurance,iEducation,iHousingPrinciple]\n",
    "\n",
    "mtbiRolledUp = rollUpDataframe(mtbi, rollupNames, rollups, negativeColumns=[\"iHousingPrinciple\"], multiple=4)\n",
    "\n",
    "mtbiTrimmed = mtbiRolledUp.loc[: , ['NEWID','iTotalExp','iFoodAtHome','iFoodAway','iHousing','iUtilites','iClothingAndBeauty','iTransportation','iHealthcare','iEntertainment','iMiscellaneous','iCharitableAndFamilyGiving','iInsurance','iEducation','iHousingPrinciple']]"
   ]
  },
  {
   "cell_type": "markdown",
   "metadata": {},
   "source": [
    "### Creating the Sum for all expenditure category columns for each NEWID\n",
    "nonZeroColumns is an array that contains the names of columns that should not be Zero\n",
    "\n",
    "outputs from cell:\n",
    "- iExpensesByNewID: total expenses for each category for each NewID"
   ]
  },
  {
   "cell_type": "code",
   "execution_count": 9,
   "metadata": {
    "collapsed": false
   },
   "outputs": [],
   "source": [
    "# adding up all columns for each new id\n",
    "iExpensesByNewID = mtbiTrimmed.groupby(['NEWID'],as_index=False).sum()\n",
    "# removing rows with zero values in key categories\n",
    "nonZeroColumns = ['iFoodAtHome','iFoodAway','iHousing','iUtilites']\n",
    "for column in nonZeroColumns:\n",
    "    iExpensesByNewID = iExpensesByNewID[iExpensesByNewID[column] != 0]\n",
    "iExpensesByNewID['iHousing'] = iExpensesByNewID['iHousing']+iExpensesByNewID['iHousingPrinciple']"
   ]
  },
  {
   "cell_type": "markdown",
   "metadata": {},
   "source": [
    "### Subestting FMLI for age and recoding the incomebrackets"
   ]
  },
  {
   "cell_type": "code",
   "execution_count": 10,
   "metadata": {
    "collapsed": false,
    "scrolled": true
   },
   "outputs": [],
   "source": [
    "# subsetting for the age bracket\n",
    "fmliAge = subsetDataframe(dataframe=fmli, columnName=\"AGE_REF\", minValue=minAge, maxValue=maxAge)\n",
    "fmliAge = fmliAge.reset_index()\n",
    "\n",
    "# recoding the income brackets\n",
    "fmliRecoded = binColumn(dataframe=fmliAge, toBinColumnName=\"FINCBTXM\", binValues=incomeBrackets, binnedColumnName=\"INCLASS\", labels=range(1,len(incomeBrackets)))"
   ]
  },
  {
   "cell_type": "markdown",
   "metadata": {},
   "source": [
    "### Adding the Income class colum to the ExpensesByNewID dataframe"
   ]
  },
  {
   "cell_type": "code",
   "execution_count": 11,
   "metadata": {
    "collapsed": false
   },
   "outputs": [],
   "source": [
    "# combining the fmli and iExpensesByNewID\n",
    "inclassExpenses = pd.merge(left=fmliRecoded[['NEWID','INCLASS','FINCBTXM']],right=iExpensesByNewID, on=['NEWID'])\n",
    "# inclassExpenses"
   ]
  },
  {
   "cell_type": "markdown",
   "metadata": {},
   "source": [
    "### Averaging the expenditures based on incomebrackets\n",
    "inclassAverages is average money spent for each incomeclass"
   ]
  },
  {
   "cell_type": "code",
   "execution_count": 12,
   "metadata": {
    "collapsed": false,
    "scrolled": false
   },
   "outputs": [],
   "source": [
    "# getting mean for all columns with the same income class besides newId and creating new dataframe\n",
    "inclassAverages = round(inclassExpenses.ix[: ,inclassExpenses.columns != 'NEWID'].groupby(['INCLASS'],as_index=False).mean(),2)\n",
    "# inclassAverages"
   ]
  },
  {
   "cell_type": "markdown",
   "metadata": {},
   "source": [
    "### Converting the Average expenditures for income classes into percentages of expenditures\n",
    "percentages is the percent of total expenditure for each category for each incomeclass "
   ]
  },
  {
   "cell_type": "code",
   "execution_count": 13,
   "metadata": {
    "collapsed": false
   },
   "outputs": [],
   "source": [
    "# creating new dataframe for the percentages that only includes the plynty categories\n",
    "percentages = inclassAverages.loc[:,rollupNames[1:]]\n",
    "for column in rollupNames[1:]:\n",
    "    percentages[column] = inclassAverages[column]/inclassAverages.iTotalExp\n",
    "percentages['ExpInc'] = inclassAverages['iTotalExp']/inclassAverages['FINCBTXM']\n",
    "\n",
    "# truncate the max ExpInc\n",
    "percentages.ExpInc.ix[percentages['ExpInc']>1] = 1\n",
    "\n",
    "# percentages"
   ]
  },
  {
   "cell_type": "markdown",
   "metadata": {},
   "source": [
    "# Exploring Issues in the data"
   ]
  },
  {
   "cell_type": "markdown",
   "metadata": {},
   "source": [
    "### Getting Description of the inclassExpenses dataframe"
   ]
  },
  {
   "cell_type": "code",
   "execution_count": 14,
   "metadata": {
    "collapsed": false
   },
   "outputs": [
    {
     "data": {
      "text/html": [
       "<div>\n",
       "<table border=\"1\" class=\"dataframe\">\n",
       "  <thead>\n",
       "    <tr style=\"text-align: right;\">\n",
       "      <th></th>\n",
       "      <th>count</th>\n",
       "      <th>mean</th>\n",
       "      <th>std</th>\n",
       "      <th>min</th>\n",
       "      <th>25%</th>\n",
       "      <th>50%</th>\n",
       "      <th>75%</th>\n",
       "      <th>max</th>\n",
       "    </tr>\n",
       "  </thead>\n",
       "  <tbody>\n",
       "    <tr>\n",
       "      <th>0</th>\n",
       "      <td>456.0</td>\n",
       "      <td>8654.885965</td>\n",
       "      <td>9446.717505</td>\n",
       "      <td>4.0</td>\n",
       "      <td>2562.0</td>\n",
       "      <td>5804.0</td>\n",
       "      <td>10897.00</td>\n",
       "      <td>75037.0</td>\n",
       "    </tr>\n",
       "    <tr>\n",
       "      <th>1</th>\n",
       "      <td>1057.0</td>\n",
       "      <td>8234.448439</td>\n",
       "      <td>11367.475643</td>\n",
       "      <td>30.0</td>\n",
       "      <td>2500.0</td>\n",
       "      <td>4980.0</td>\n",
       "      <td>9498.00</td>\n",
       "      <td>181360.0</td>\n",
       "    </tr>\n",
       "    <tr>\n",
       "      <th>2</th>\n",
       "      <td>1190.0</td>\n",
       "      <td>9359.457143</td>\n",
       "      <td>10891.415567</td>\n",
       "      <td>-11880.0</td>\n",
       "      <td>2768.5</td>\n",
       "      <td>6310.0</td>\n",
       "      <td>11332.00</td>\n",
       "      <td>108669.0</td>\n",
       "    </tr>\n",
       "    <tr>\n",
       "      <th>3</th>\n",
       "      <td>1175.0</td>\n",
       "      <td>10463.643404</td>\n",
       "      <td>10355.884333</td>\n",
       "      <td>-22664.0</td>\n",
       "      <td>3909.0</td>\n",
       "      <td>7704.0</td>\n",
       "      <td>13358.00</td>\n",
       "      <td>105052.0</td>\n",
       "    </tr>\n",
       "    <tr>\n",
       "      <th>4</th>\n",
       "      <td>768.0</td>\n",
       "      <td>11663.042969</td>\n",
       "      <td>10201.844648</td>\n",
       "      <td>108.0</td>\n",
       "      <td>4646.0</td>\n",
       "      <td>9260.0</td>\n",
       "      <td>15285.00</td>\n",
       "      <td>94860.0</td>\n",
       "    </tr>\n",
       "    <tr>\n",
       "      <th>5</th>\n",
       "      <td>656.0</td>\n",
       "      <td>13162.789634</td>\n",
       "      <td>11957.138569</td>\n",
       "      <td>90.0</td>\n",
       "      <td>5446.0</td>\n",
       "      <td>10432.0</td>\n",
       "      <td>16807.00</td>\n",
       "      <td>94484.0</td>\n",
       "    </tr>\n",
       "    <tr>\n",
       "      <th>6</th>\n",
       "      <td>412.0</td>\n",
       "      <td>15946.919903</td>\n",
       "      <td>13426.549902</td>\n",
       "      <td>820.0</td>\n",
       "      <td>7548.0</td>\n",
       "      <td>12854.0</td>\n",
       "      <td>20990.00</td>\n",
       "      <td>146416.0</td>\n",
       "    </tr>\n",
       "    <tr>\n",
       "      <th>7</th>\n",
       "      <td>563.0</td>\n",
       "      <td>16724.618117</td>\n",
       "      <td>14130.181867</td>\n",
       "      <td>500.0</td>\n",
       "      <td>7987.0</td>\n",
       "      <td>12844.0</td>\n",
       "      <td>21710.00</td>\n",
       "      <td>107284.0</td>\n",
       "    </tr>\n",
       "    <tr>\n",
       "      <th>8</th>\n",
       "      <td>418.0</td>\n",
       "      <td>19584.078947</td>\n",
       "      <td>18760.040593</td>\n",
       "      <td>4.0</td>\n",
       "      <td>7776.0</td>\n",
       "      <td>15248.0</td>\n",
       "      <td>25449.00</td>\n",
       "      <td>170024.0</td>\n",
       "    </tr>\n",
       "    <tr>\n",
       "      <th>9</th>\n",
       "      <td>277.0</td>\n",
       "      <td>26121.314079</td>\n",
       "      <td>26754.718270</td>\n",
       "      <td>1464.0</td>\n",
       "      <td>10960.0</td>\n",
       "      <td>20480.0</td>\n",
       "      <td>31640.00</td>\n",
       "      <td>227912.0</td>\n",
       "    </tr>\n",
       "    <tr>\n",
       "      <th>10</th>\n",
       "      <td>224.0</td>\n",
       "      <td>29049.116071</td>\n",
       "      <td>23260.550475</td>\n",
       "      <td>1600.0</td>\n",
       "      <td>11766.0</td>\n",
       "      <td>22783.0</td>\n",
       "      <td>39548.25</td>\n",
       "      <td>159590.0</td>\n",
       "    </tr>\n",
       "    <tr>\n",
       "      <th>11</th>\n",
       "      <td>144.0</td>\n",
       "      <td>33141.597222</td>\n",
       "      <td>59589.964110</td>\n",
       "      <td>1366.0</td>\n",
       "      <td>12995.0</td>\n",
       "      <td>26540.0</td>\n",
       "      <td>37997.00</td>\n",
       "      <td>700492.0</td>\n",
       "    </tr>\n",
       "    <tr>\n",
       "      <th>12</th>\n",
       "      <td>67.0</td>\n",
       "      <td>30725.044776</td>\n",
       "      <td>21643.571907</td>\n",
       "      <td>3208.0</td>\n",
       "      <td>12294.0</td>\n",
       "      <td>28857.0</td>\n",
       "      <td>42288.50</td>\n",
       "      <td>96036.0</td>\n",
       "    </tr>\n",
       "    <tr>\n",
       "      <th>13</th>\n",
       "      <td>82.0</td>\n",
       "      <td>60269.829268</td>\n",
       "      <td>61615.768009</td>\n",
       "      <td>2300.0</td>\n",
       "      <td>28885.0</td>\n",
       "      <td>42258.5</td>\n",
       "      <td>66745.25</td>\n",
       "      <td>312149.0</td>\n",
       "    </tr>\n",
       "  </tbody>\n",
       "</table>\n",
       "</div>"
      ],
      "text/plain": [
       "     count          mean           std      min      25%      50%       75%  \\\n",
       "0    456.0   8654.885965   9446.717505      4.0   2562.0   5804.0  10897.00   \n",
       "1   1057.0   8234.448439  11367.475643     30.0   2500.0   4980.0   9498.00   \n",
       "2   1190.0   9359.457143  10891.415567 -11880.0   2768.5   6310.0  11332.00   \n",
       "3   1175.0  10463.643404  10355.884333 -22664.0   3909.0   7704.0  13358.00   \n",
       "4    768.0  11663.042969  10201.844648    108.0   4646.0   9260.0  15285.00   \n",
       "5    656.0  13162.789634  11957.138569     90.0   5446.0  10432.0  16807.00   \n",
       "6    412.0  15946.919903  13426.549902    820.0   7548.0  12854.0  20990.00   \n",
       "7    563.0  16724.618117  14130.181867    500.0   7987.0  12844.0  21710.00   \n",
       "8    418.0  19584.078947  18760.040593      4.0   7776.0  15248.0  25449.00   \n",
       "9    277.0  26121.314079  26754.718270   1464.0  10960.0  20480.0  31640.00   \n",
       "10   224.0  29049.116071  23260.550475   1600.0  11766.0  22783.0  39548.25   \n",
       "11   144.0  33141.597222  59589.964110   1366.0  12995.0  26540.0  37997.00   \n",
       "12    67.0  30725.044776  21643.571907   3208.0  12294.0  28857.0  42288.50   \n",
       "13    82.0  60269.829268  61615.768009   2300.0  28885.0  42258.5  66745.25   \n",
       "\n",
       "         max  \n",
       "0    75037.0  \n",
       "1   181360.0  \n",
       "2   108669.0  \n",
       "3   105052.0  \n",
       "4    94860.0  \n",
       "5    94484.0  \n",
       "6   146416.0  \n",
       "7   107284.0  \n",
       "8   170024.0  \n",
       "9   227912.0  \n",
       "10  159590.0  \n",
       "11  700492.0  \n",
       "12   96036.0  \n",
       "13  312149.0  "
      ]
     },
     "execution_count": 14,
     "metadata": {},
     "output_type": "execute_result"
    }
   ],
   "source": [
    "# max and min of housing per income class\n",
    "rowDescription = []\n",
    "for inclass in range(1,len(incomeBrackets)):\n",
    "    rowDescription.append(inclassExpenses.iHousing.loc[inclassExpenses.INCLASS == inclass].describe())\n",
    "descriptions = pd.concat(rowDescription, axis=1)\n",
    "descriptions.columns = range(0,len(incomeBrackets)-1)\n",
    "descriptions = descriptions.transpose()\n",
    "descriptions"
   ]
  },
  {
   "cell_type": "markdown",
   "metadata": {},
   "source": [
    "### Removing outliers in iHousing\n",
    " - For each income class\n",
    "    - Find Q1 and Q3\n",
    "    - Calculate IQR\n",
    "    - Find rows outside of Q3/Q2 +/- (1.5 x IQR) and Q3/Q2 +/- (3 x IQR)\n",
    " - Remove Rows from Dataframe\n",
    " - Clean1: Inner Fence\n",
    " - Clean2: Outer Fence"
   ]
  },
  {
   "cell_type": "code",
   "execution_count": 15,
   "metadata": {
    "collapsed": false,
    "scrolled": true
   },
   "outputs": [
    {
     "name": "stdout",
     "output_type": "stream",
     "text": [
      "There are 7489 rows before removal of outliers\n",
      "Removed 440 rows deemed to be out of inner fence\n",
      "Removed 5.88% of the CUs\n",
      "Removed 172 rows deemed to be out of inner fence\n",
      "Removed 2.3% of the CUs\n"
     ]
    }
   ],
   "source": [
    "# cleaning the inclassExpenses dataframe of outliers\n",
    "outliers1 = inclassExpenses.copy()\n",
    "\n",
    "\n",
    "outliers1\n",
    "innerFence = []\n",
    "outerFence = []\n",
    "\n",
    "\n",
    "print(\"There are \"+str(len(inclassExpenses))+\" rows before removal of outliers\")\n",
    "\n",
    "for inclass in range(1,len(incomeBrackets)):\n",
    "    outliers1InClass = outliers1.where(outliers1['INCLASS']==inclass)\n",
    "    Q1 = outliers1InClass['iHousing'].quantile(0.25)\n",
    "    Q3 = outliers1InClass['iHousing'].quantile(0.75)\n",
    "    IQR = Q3 - Q1\n",
    "    innerFence.extend(outliers1InClass[outliers1InClass['iHousing'] < (Q1 - (1.5 * IQR))].index.tolist())\n",
    "    innerFence.extend(outliers1InClass[outliers1InClass['iHousing'] > (Q3 + (1.5 * IQR))].index.tolist())    \n",
    "    outerFence.extend(outliers1InClass[outliers1InClass['iHousing'] < (Q1 - (3 * IQR))].index.tolist())\n",
    "    outerFence.extend(outliers1InClass[outliers1InClass['iHousing'] > (Q3 + (3 * IQR))].index.tolist())\n",
    "\n",
    "\n",
    "clean1 = outliers1.drop(outliers1.index[innerFence])\n",
    "clean1\n",
    "clean2 = outliers1.drop(outliers1.index[outerFence])\n",
    "clean2\n",
    "\n",
    "print(\"Removed \"+str(len(innerFence))+ \" rows deemed to be out of inner fence\")\n",
    "print(\"Removed \"+str(round(len(innerFence)/len(inclassExpenses)*100,2))+ \"% of the CUs\")\n",
    "\n",
    "print(\"Removed \"+str(len(outerFence))+ \" rows deemed to be out of inner fence\")\n",
    "print(\"Removed \"+str(round(len(outerFence)/len(inclassExpenses)*100,2))+ \"% of the CUs\")\n",
    "\n",
    "# creating the descriptions for the cleaned outlier dataframe\n",
    "rowDescription1 = []\n",
    "for inclass in range(1,len(incomeBrackets)):\n",
    "    rowDescription1.append(clean1.iHousing.loc[clean1.INCLASS == inclass].describe())\n",
    "descriptions1 = pd.concat(rowDescription1, axis=1)\n",
    "descriptions1.columns = range(0,len(incomeBrackets)-1)\n",
    "descriptions1 = descriptions1.transpose()\n",
    "# descriptions1"
   ]
  },
  {
   "cell_type": "markdown",
   "metadata": {},
   "source": [
    "### Looking at the outliers that were removed"
   ]
  },
  {
   "cell_type": "code",
   "execution_count": 16,
   "metadata": {
    "collapsed": false
   },
   "outputs": [
    {
     "name": "stdout",
     "output_type": "stream",
     "text": [
      "Number of outliers in each income class: [85 82 67 36 35 32 24 23 19 16  7  7  6  1]\n"
     ]
    },
    {
     "data": {
      "text/html": [
       "<div>\n",
       "<table border=\"1\" class=\"dataframe\">\n",
       "  <thead>\n",
       "    <tr style=\"text-align: right;\">\n",
       "      <th></th>\n",
       "      <th>NEWID</th>\n",
       "      <th>INCLASS</th>\n",
       "      <th>FINCBTXM</th>\n",
       "      <th>iTotalExp</th>\n",
       "      <th>iFoodAtHome</th>\n",
       "      <th>iFoodAway</th>\n",
       "      <th>iHousing</th>\n",
       "      <th>iUtilites</th>\n",
       "      <th>iClothingAndBeauty</th>\n",
       "      <th>iTransportation</th>\n",
       "      <th>iHealthcare</th>\n",
       "      <th>iEntertainment</th>\n",
       "      <th>iMiscellaneous</th>\n",
       "      <th>iCharitableAndFamilyGiving</th>\n",
       "      <th>iInsurance</th>\n",
       "      <th>iEducation</th>\n",
       "      <th>iHousingPrinciple</th>\n",
       "    </tr>\n",
       "  </thead>\n",
       "  <tbody>\n",
       "    <tr>\n",
       "      <th>749</th>\n",
       "      <td>3057932</td>\n",
       "      <td>1</td>\n",
       "      <td>6155.0</td>\n",
       "      <td>97470.8</td>\n",
       "      <td>5500.0</td>\n",
       "      <td>7080.0</td>\n",
       "      <td>25912.0</td>\n",
       "      <td>4092.0</td>\n",
       "      <td>920.0</td>\n",
       "      <td>34452.0</td>\n",
       "      <td>14506.8</td>\n",
       "      <td>2844.0</td>\n",
       "      <td>0.0</td>\n",
       "      <td>4400.0</td>\n",
       "      <td>0.0</td>\n",
       "      <td>0.0</td>\n",
       "      <td>2236.0</td>\n",
       "    </tr>\n",
       "    <tr>\n",
       "      <th>824</th>\n",
       "      <td>3066713</td>\n",
       "      <td>1</td>\n",
       "      <td>7900.0</td>\n",
       "      <td>114605.6</td>\n",
       "      <td>5544.0</td>\n",
       "      <td>20448.0</td>\n",
       "      <td>27100.0</td>\n",
       "      <td>5420.0</td>\n",
       "      <td>4280.0</td>\n",
       "      <td>17788.0</td>\n",
       "      <td>5005.6</td>\n",
       "      <td>13860.0</td>\n",
       "      <td>360.0</td>\n",
       "      <td>14800.0</td>\n",
       "      <td>0.0</td>\n",
       "      <td>0.0</td>\n",
       "      <td>0.0</td>\n",
       "    </tr>\n",
       "    <tr>\n",
       "      <th>1666</th>\n",
       "      <td>3000783</td>\n",
       "      <td>1</td>\n",
       "      <td>2615.0</td>\n",
       "      <td>53130.8</td>\n",
       "      <td>5720.0</td>\n",
       "      <td>4040.0</td>\n",
       "      <td>29552.0</td>\n",
       "      <td>9656.0</td>\n",
       "      <td>960.0</td>\n",
       "      <td>5320.0</td>\n",
       "      <td>2618.8</td>\n",
       "      <td>6236.0</td>\n",
       "      <td>340.0</td>\n",
       "      <td>660.0</td>\n",
       "      <td>0.0</td>\n",
       "      <td>0.0</td>\n",
       "      <td>11972.0</td>\n",
       "    </tr>\n",
       "    <tr>\n",
       "      <th>1824</th>\n",
       "      <td>3057933</td>\n",
       "      <td>1</td>\n",
       "      <td>6155.0</td>\n",
       "      <td>101969.6</td>\n",
       "      <td>5436.0</td>\n",
       "      <td>4492.0</td>\n",
       "      <td>40720.0</td>\n",
       "      <td>6060.0</td>\n",
       "      <td>1640.0</td>\n",
       "      <td>18032.0</td>\n",
       "      <td>16593.6</td>\n",
       "      <td>6260.0</td>\n",
       "      <td>0.0</td>\n",
       "      <td>4800.0</td>\n",
       "      <td>0.0</td>\n",
       "      <td>0.0</td>\n",
       "      <td>2064.0</td>\n",
       "    </tr>\n",
       "    <tr>\n",
       "      <th>2085</th>\n",
       "      <td>3093291</td>\n",
       "      <td>1</td>\n",
       "      <td>-3143.0</td>\n",
       "      <td>61838.8</td>\n",
       "      <td>4500.0</td>\n",
       "      <td>5320.0</td>\n",
       "      <td>26032.0</td>\n",
       "      <td>3796.0</td>\n",
       "      <td>864.0</td>\n",
       "      <td>2396.0</td>\n",
       "      <td>17214.8</td>\n",
       "      <td>1200.0</td>\n",
       "      <td>3440.0</td>\n",
       "      <td>100.0</td>\n",
       "      <td>0.0</td>\n",
       "      <td>0.0</td>\n",
       "      <td>3024.0</td>\n",
       "    </tr>\n",
       "  </tbody>\n",
       "</table>\n",
       "</div>"
      ],
      "text/plain": [
       "        NEWID  INCLASS  FINCBTXM  iTotalExp  iFoodAtHome  iFoodAway  iHousing  \\\n",
       "749   3057932        1    6155.0    97470.8       5500.0     7080.0   25912.0   \n",
       "824   3066713        1    7900.0   114605.6       5544.0    20448.0   27100.0   \n",
       "1666  3000783        1    2615.0    53130.8       5720.0     4040.0   29552.0   \n",
       "1824  3057933        1    6155.0   101969.6       5436.0     4492.0   40720.0   \n",
       "2085  3093291        1   -3143.0    61838.8       4500.0     5320.0   26032.0   \n",
       "\n",
       "      iUtilites  iClothingAndBeauty  iTransportation  iHealthcare  \\\n",
       "749      4092.0               920.0          34452.0      14506.8   \n",
       "824      5420.0              4280.0          17788.0       5005.6   \n",
       "1666     9656.0               960.0           5320.0       2618.8   \n",
       "1824     6060.0              1640.0          18032.0      16593.6   \n",
       "2085     3796.0               864.0           2396.0      17214.8   \n",
       "\n",
       "      iEntertainment  iMiscellaneous  iCharitableAndFamilyGiving  iInsurance  \\\n",
       "749           2844.0             0.0                      4400.0         0.0   \n",
       "824          13860.0           360.0                     14800.0         0.0   \n",
       "1666          6236.0           340.0                       660.0         0.0   \n",
       "1824          6260.0             0.0                      4800.0         0.0   \n",
       "2085          1200.0          3440.0                       100.0         0.0   \n",
       "\n",
       "      iEducation  iHousingPrinciple  \n",
       "749          0.0             2236.0  \n",
       "824          0.0                0.0  \n",
       "1666         0.0            11972.0  \n",
       "1824         0.0             2064.0  \n",
       "2085         0.0             3024.0  "
      ]
     },
     "execution_count": 16,
     "metadata": {},
     "output_type": "execute_result"
    }
   ],
   "source": [
    "innerOutliers = inclassExpenses.copy()\n",
    "innerOutliers = innerOutliers.ix[innerFence,:]\n",
    "print(\"Number of outliers in each income class: \"+str(innerOutliers.INCLASS.value_counts().values))\n",
    "innerOutliers.head()"
   ]
  },
  {
   "cell_type": "code",
   "execution_count": 17,
   "metadata": {
    "collapsed": false
   },
   "outputs": [
    {
     "name": "stdout",
     "output_type": "stream",
     "text": [
      "Number of outliers in each income class: [44 36 21 14 12 11  8  8  8  4  3  2  1]\n"
     ]
    },
    {
     "data": {
      "text/html": [
       "<div>\n",
       "<table border=\"1\" class=\"dataframe\">\n",
       "  <thead>\n",
       "    <tr style=\"text-align: right;\">\n",
       "      <th></th>\n",
       "      <th>NEWID</th>\n",
       "      <th>INCLASS</th>\n",
       "      <th>FINCBTXM</th>\n",
       "      <th>iTotalExp</th>\n",
       "      <th>iFoodAtHome</th>\n",
       "      <th>iFoodAway</th>\n",
       "      <th>iHousing</th>\n",
       "      <th>iUtilites</th>\n",
       "      <th>iClothingAndBeauty</th>\n",
       "      <th>iTransportation</th>\n",
       "      <th>iHealthcare</th>\n",
       "      <th>iEntertainment</th>\n",
       "      <th>iMiscellaneous</th>\n",
       "      <th>iCharitableAndFamilyGiving</th>\n",
       "      <th>iInsurance</th>\n",
       "      <th>iEducation</th>\n",
       "      <th>iHousingPrinciple</th>\n",
       "    </tr>\n",
       "  </thead>\n",
       "  <tbody>\n",
       "    <tr>\n",
       "      <th>1824</th>\n",
       "      <td>3057933</td>\n",
       "      <td>1</td>\n",
       "      <td>6155.0</td>\n",
       "      <td>101969.6</td>\n",
       "      <td>5436.0</td>\n",
       "      <td>4492.0</td>\n",
       "      <td>40720.0</td>\n",
       "      <td>6060.0</td>\n",
       "      <td>1640.0</td>\n",
       "      <td>18032.0</td>\n",
       "      <td>16593.6</td>\n",
       "      <td>6260.0</td>\n",
       "      <td>0.0</td>\n",
       "      <td>4800.0</td>\n",
       "      <td>0.0</td>\n",
       "      <td>0.0</td>\n",
       "      <td>2064.0</td>\n",
       "    </tr>\n",
       "    <tr>\n",
       "      <th>2186</th>\n",
       "      <td>3100251</td>\n",
       "      <td>1</td>\n",
       "      <td>10859.0</td>\n",
       "      <td>69720.0</td>\n",
       "      <td>1300.0</td>\n",
       "      <td>780.0</td>\n",
       "      <td>48908.0</td>\n",
       "      <td>2148.0</td>\n",
       "      <td>440.0</td>\n",
       "      <td>10712.0</td>\n",
       "      <td>6992.0</td>\n",
       "      <td>948.0</td>\n",
       "      <td>0.0</td>\n",
       "      <td>600.0</td>\n",
       "      <td>0.0</td>\n",
       "      <td>0.0</td>\n",
       "      <td>3108.0</td>\n",
       "    </tr>\n",
       "    <tr>\n",
       "      <th>2265</th>\n",
       "      <td>3105982</td>\n",
       "      <td>1</td>\n",
       "      <td>10536.0</td>\n",
       "      <td>723291.8</td>\n",
       "      <td>8500.0</td>\n",
       "      <td>3600.0</td>\n",
       "      <td>75037.0</td>\n",
       "      <td>8148.0</td>\n",
       "      <td>3280.0</td>\n",
       "      <td>2600.0</td>\n",
       "      <td>31578.8</td>\n",
       "      <td>10424.0</td>\n",
       "      <td>0.0</td>\n",
       "      <td>600000.0</td>\n",
       "      <td>0.0</td>\n",
       "      <td>0.0</td>\n",
       "      <td>19876.0</td>\n",
       "    </tr>\n",
       "    <tr>\n",
       "      <th>2581</th>\n",
       "      <td>3170291</td>\n",
       "      <td>1</td>\n",
       "      <td>9310.0</td>\n",
       "      <td>67181.6</td>\n",
       "      <td>7520.0</td>\n",
       "      <td>1980.0</td>\n",
       "      <td>45476.0</td>\n",
       "      <td>5456.0</td>\n",
       "      <td>936.0</td>\n",
       "      <td>9916.0</td>\n",
       "      <td>5277.6</td>\n",
       "      <td>1428.0</td>\n",
       "      <td>0.0</td>\n",
       "      <td>3120.0</td>\n",
       "      <td>0.0</td>\n",
       "      <td>0.0</td>\n",
       "      <td>13928.0</td>\n",
       "    </tr>\n",
       "    <tr>\n",
       "      <th>2680</th>\n",
       "      <td>2908235</td>\n",
       "      <td>1</td>\n",
       "      <td>6249.2</td>\n",
       "      <td>48750.8</td>\n",
       "      <td>1560.0</td>\n",
       "      <td>1560.0</td>\n",
       "      <td>38928.0</td>\n",
       "      <td>1020.0</td>\n",
       "      <td>160.0</td>\n",
       "      <td>1972.0</td>\n",
       "      <td>1450.8</td>\n",
       "      <td>1080.0</td>\n",
       "      <td>0.0</td>\n",
       "      <td>1020.0</td>\n",
       "      <td>0.0</td>\n",
       "      <td>0.0</td>\n",
       "      <td>0.0</td>\n",
       "    </tr>\n",
       "  </tbody>\n",
       "</table>\n",
       "</div>"
      ],
      "text/plain": [
       "        NEWID  INCLASS  FINCBTXM  iTotalExp  iFoodAtHome  iFoodAway  iHousing  \\\n",
       "1824  3057933        1    6155.0   101969.6       5436.0     4492.0   40720.0   \n",
       "2186  3100251        1   10859.0    69720.0       1300.0      780.0   48908.0   \n",
       "2265  3105982        1   10536.0   723291.8       8500.0     3600.0   75037.0   \n",
       "2581  3170291        1    9310.0    67181.6       7520.0     1980.0   45476.0   \n",
       "2680  2908235        1    6249.2    48750.8       1560.0     1560.0   38928.0   \n",
       "\n",
       "      iUtilites  iClothingAndBeauty  iTransportation  iHealthcare  \\\n",
       "1824     6060.0              1640.0          18032.0      16593.6   \n",
       "2186     2148.0               440.0          10712.0       6992.0   \n",
       "2265     8148.0              3280.0           2600.0      31578.8   \n",
       "2581     5456.0               936.0           9916.0       5277.6   \n",
       "2680     1020.0               160.0           1972.0       1450.8   \n",
       "\n",
       "      iEntertainment  iMiscellaneous  iCharitableAndFamilyGiving  iInsurance  \\\n",
       "1824          6260.0             0.0                      4800.0         0.0   \n",
       "2186           948.0             0.0                       600.0         0.0   \n",
       "2265         10424.0             0.0                    600000.0         0.0   \n",
       "2581          1428.0             0.0                      3120.0         0.0   \n",
       "2680          1080.0             0.0                      1020.0         0.0   \n",
       "\n",
       "      iEducation  iHousingPrinciple  \n",
       "1824         0.0             2064.0  \n",
       "2186         0.0             3108.0  \n",
       "2265         0.0            19876.0  \n",
       "2581         0.0            13928.0  \n",
       "2680         0.0                0.0  "
      ]
     },
     "execution_count": 17,
     "metadata": {},
     "output_type": "execute_result"
    }
   ],
   "source": [
    "outerOutliers = inclassExpenses.copy()\n",
    "outerOutliers = outerOutliers.ix[outerFence,:]\n",
    "print(\"Number of outliers in each income class: \"+str(outerOutliers.INCLASS.value_counts().values))\n",
    "outerOutliers.head()"
   ]
  },
  {
   "cell_type": "markdown",
   "metadata": {
    "slideshow": {
     "slide_type": "-"
    }
   },
   "source": [
    "### Things learned from removing outliers\n",
    "- Removing outliers helped some of the standard deviation crazyness\n",
    "- Higher incomebrackets have greater standard deviation even without outliers"
   ]
  },
  {
   "cell_type": "markdown",
   "metadata": {},
   "source": [
    "### Creating the percentage output for cleaned dataframe"
   ]
  },
  {
   "cell_type": "code",
   "execution_count": 18,
   "metadata": {
    "collapsed": false
   },
   "outputs": [
    {
     "data": {
      "text/html": [
       "<div>\n",
       "<table border=\"1\" class=\"dataframe\">\n",
       "  <thead>\n",
       "    <tr style=\"text-align: right;\">\n",
       "      <th></th>\n",
       "      <th>iFoodAtHome</th>\n",
       "      <th>iFoodAway</th>\n",
       "      <th>iHousing</th>\n",
       "      <th>iUtilites</th>\n",
       "      <th>iClothingAndBeauty</th>\n",
       "      <th>iTransportation</th>\n",
       "      <th>iHealthcare</th>\n",
       "      <th>iEntertainment</th>\n",
       "      <th>iMiscellaneous</th>\n",
       "      <th>iCharitableAndFamilyGiving</th>\n",
       "      <th>iInsurance</th>\n",
       "      <th>iEducation</th>\n",
       "      <th>iHousingPrinciple</th>\n",
       "      <th>ExpInc</th>\n",
       "    </tr>\n",
       "  </thead>\n",
       "  <tbody>\n",
       "    <tr>\n",
       "      <th>0</th>\n",
       "      <td>0.146391</td>\n",
       "      <td>0.068885</td>\n",
       "      <td>0.260605</td>\n",
       "      <td>0.110779</td>\n",
       "      <td>0.025109</td>\n",
       "      <td>0.143744</td>\n",
       "      <td>0.134137</td>\n",
       "      <td>0.050256</td>\n",
       "      <td>0.029610</td>\n",
       "      <td>0.045407</td>\n",
       "      <td>0.004040</td>\n",
       "      <td>0.002035</td>\n",
       "      <td>0.020999</td>\n",
       "      <td>1.000000</td>\n",
       "    </tr>\n",
       "    <tr>\n",
       "      <th>1</th>\n",
       "      <td>0.142470</td>\n",
       "      <td>0.066675</td>\n",
       "      <td>0.244098</td>\n",
       "      <td>0.120705</td>\n",
       "      <td>0.026661</td>\n",
       "      <td>0.151917</td>\n",
       "      <td>0.137155</td>\n",
       "      <td>0.053061</td>\n",
       "      <td>0.018932</td>\n",
       "      <td>0.044929</td>\n",
       "      <td>0.008260</td>\n",
       "      <td>0.001954</td>\n",
       "      <td>0.016816</td>\n",
       "      <td>1.000000</td>\n",
       "    </tr>\n",
       "    <tr>\n",
       "      <th>2</th>\n",
       "      <td>0.131888</td>\n",
       "      <td>0.066230</td>\n",
       "      <td>0.221582</td>\n",
       "      <td>0.108042</td>\n",
       "      <td>0.025204</td>\n",
       "      <td>0.164728</td>\n",
       "      <td>0.167441</td>\n",
       "      <td>0.059971</td>\n",
       "      <td>0.016978</td>\n",
       "      <td>0.048327</td>\n",
       "      <td>0.005179</td>\n",
       "      <td>0.002936</td>\n",
       "      <td>0.018504</td>\n",
       "      <td>1.000000</td>\n",
       "    </tr>\n",
       "    <tr>\n",
       "      <th>3</th>\n",
       "      <td>0.128617</td>\n",
       "      <td>0.068366</td>\n",
       "      <td>0.233770</td>\n",
       "      <td>0.103313</td>\n",
       "      <td>0.025238</td>\n",
       "      <td>0.170159</td>\n",
       "      <td>0.151263</td>\n",
       "      <td>0.055304</td>\n",
       "      <td>0.022034</td>\n",
       "      <td>0.054016</td>\n",
       "      <td>0.008309</td>\n",
       "      <td>0.003319</td>\n",
       "      <td>0.023709</td>\n",
       "      <td>1.000000</td>\n",
       "    </tr>\n",
       "    <tr>\n",
       "      <th>4</th>\n",
       "      <td>0.120499</td>\n",
       "      <td>0.061128</td>\n",
       "      <td>0.240008</td>\n",
       "      <td>0.097697</td>\n",
       "      <td>0.027224</td>\n",
       "      <td>0.202783</td>\n",
       "      <td>0.141598</td>\n",
       "      <td>0.058412</td>\n",
       "      <td>0.017059</td>\n",
       "      <td>0.051041</td>\n",
       "      <td>0.007963</td>\n",
       "      <td>0.004670</td>\n",
       "      <td>0.030079</td>\n",
       "      <td>0.867152</td>\n",
       "    </tr>\n",
       "    <tr>\n",
       "      <th>5</th>\n",
       "      <td>0.117106</td>\n",
       "      <td>0.065594</td>\n",
       "      <td>0.246390</td>\n",
       "      <td>0.092555</td>\n",
       "      <td>0.029611</td>\n",
       "      <td>0.183055</td>\n",
       "      <td>0.145570</td>\n",
       "      <td>0.055391</td>\n",
       "      <td>0.018811</td>\n",
       "      <td>0.067812</td>\n",
       "      <td>0.007098</td>\n",
       "      <td>0.002588</td>\n",
       "      <td>0.031580</td>\n",
       "      <td>0.736998</td>\n",
       "    </tr>\n",
       "    <tr>\n",
       "      <th>6</th>\n",
       "      <td>0.108576</td>\n",
       "      <td>0.062038</td>\n",
       "      <td>0.263085</td>\n",
       "      <td>0.083226</td>\n",
       "      <td>0.035085</td>\n",
       "      <td>0.196759</td>\n",
       "      <td>0.140350</td>\n",
       "      <td>0.052605</td>\n",
       "      <td>0.013418</td>\n",
       "      <td>0.059358</td>\n",
       "      <td>0.008499</td>\n",
       "      <td>0.006489</td>\n",
       "      <td>0.029487</td>\n",
       "      <td>0.721011</td>\n",
       "    </tr>\n",
       "    <tr>\n",
       "      <th>7</th>\n",
       "      <td>0.107007</td>\n",
       "      <td>0.061430</td>\n",
       "      <td>0.256170</td>\n",
       "      <td>0.085288</td>\n",
       "      <td>0.027560</td>\n",
       "      <td>0.226440</td>\n",
       "      <td>0.127890</td>\n",
       "      <td>0.053827</td>\n",
       "      <td>0.018021</td>\n",
       "      <td>0.055193</td>\n",
       "      <td>0.009645</td>\n",
       "      <td>0.006802</td>\n",
       "      <td>0.035273</td>\n",
       "      <td>0.641104</td>\n",
       "    </tr>\n",
       "    <tr>\n",
       "      <th>8</th>\n",
       "      <td>0.097755</td>\n",
       "      <td>0.063470</td>\n",
       "      <td>0.245486</td>\n",
       "      <td>0.078899</td>\n",
       "      <td>0.030555</td>\n",
       "      <td>0.218551</td>\n",
       "      <td>0.120666</td>\n",
       "      <td>0.078465</td>\n",
       "      <td>0.017865</td>\n",
       "      <td>0.071079</td>\n",
       "      <td>0.007605</td>\n",
       "      <td>0.013128</td>\n",
       "      <td>0.043524</td>\n",
       "      <td>0.608596</td>\n",
       "    </tr>\n",
       "    <tr>\n",
       "      <th>9</th>\n",
       "      <td>0.096859</td>\n",
       "      <td>0.058968</td>\n",
       "      <td>0.293191</td>\n",
       "      <td>0.085633</td>\n",
       "      <td>0.030806</td>\n",
       "      <td>0.210015</td>\n",
       "      <td>0.109583</td>\n",
       "      <td>0.059517</td>\n",
       "      <td>0.015286</td>\n",
       "      <td>0.071459</td>\n",
       "      <td>0.009206</td>\n",
       "      <td>0.017162</td>\n",
       "      <td>0.057686</td>\n",
       "      <td>0.514888</td>\n",
       "    </tr>\n",
       "    <tr>\n",
       "      <th>10</th>\n",
       "      <td>0.103365</td>\n",
       "      <td>0.060582</td>\n",
       "      <td>0.326440</td>\n",
       "      <td>0.077015</td>\n",
       "      <td>0.038673</td>\n",
       "      <td>0.157969</td>\n",
       "      <td>0.103577</td>\n",
       "      <td>0.075583</td>\n",
       "      <td>0.029196</td>\n",
       "      <td>0.048359</td>\n",
       "      <td>0.017894</td>\n",
       "      <td>0.010883</td>\n",
       "      <td>0.049536</td>\n",
       "      <td>0.473217</td>\n",
       "    </tr>\n",
       "    <tr>\n",
       "      <th>11</th>\n",
       "      <td>0.083402</td>\n",
       "      <td>0.076481</td>\n",
       "      <td>0.290724</td>\n",
       "      <td>0.066947</td>\n",
       "      <td>0.042718</td>\n",
       "      <td>0.194064</td>\n",
       "      <td>0.080731</td>\n",
       "      <td>0.063106</td>\n",
       "      <td>0.016369</td>\n",
       "      <td>0.101859</td>\n",
       "      <td>0.006912</td>\n",
       "      <td>0.022799</td>\n",
       "      <td>0.046112</td>\n",
       "      <td>0.401901</td>\n",
       "    </tr>\n",
       "    <tr>\n",
       "      <th>12</th>\n",
       "      <td>0.092605</td>\n",
       "      <td>0.062420</td>\n",
       "      <td>0.309559</td>\n",
       "      <td>0.069216</td>\n",
       "      <td>0.045218</td>\n",
       "      <td>0.218985</td>\n",
       "      <td>0.085558</td>\n",
       "      <td>0.057277</td>\n",
       "      <td>0.026594</td>\n",
       "      <td>0.051263</td>\n",
       "      <td>0.010664</td>\n",
       "      <td>0.011450</td>\n",
       "      <td>0.040808</td>\n",
       "      <td>0.351693</td>\n",
       "    </tr>\n",
       "    <tr>\n",
       "      <th>13</th>\n",
       "      <td>0.068113</td>\n",
       "      <td>0.072773</td>\n",
       "      <td>0.292757</td>\n",
       "      <td>0.046649</td>\n",
       "      <td>0.041040</td>\n",
       "      <td>0.210852</td>\n",
       "      <td>0.072648</td>\n",
       "      <td>0.067468</td>\n",
       "      <td>0.043290</td>\n",
       "      <td>0.080502</td>\n",
       "      <td>0.010582</td>\n",
       "      <td>0.029786</td>\n",
       "      <td>0.036461</td>\n",
       "      <td>0.399011</td>\n",
       "    </tr>\n",
       "  </tbody>\n",
       "</table>\n",
       "</div>"
      ],
      "text/plain": [
       "    iFoodAtHome  iFoodAway  iHousing  iUtilites  iClothingAndBeauty  \\\n",
       "0      0.146391   0.068885  0.260605   0.110779            0.025109   \n",
       "1      0.142470   0.066675  0.244098   0.120705            0.026661   \n",
       "2      0.131888   0.066230  0.221582   0.108042            0.025204   \n",
       "3      0.128617   0.068366  0.233770   0.103313            0.025238   \n",
       "4      0.120499   0.061128  0.240008   0.097697            0.027224   \n",
       "5      0.117106   0.065594  0.246390   0.092555            0.029611   \n",
       "6      0.108576   0.062038  0.263085   0.083226            0.035085   \n",
       "7      0.107007   0.061430  0.256170   0.085288            0.027560   \n",
       "8      0.097755   0.063470  0.245486   0.078899            0.030555   \n",
       "9      0.096859   0.058968  0.293191   0.085633            0.030806   \n",
       "10     0.103365   0.060582  0.326440   0.077015            0.038673   \n",
       "11     0.083402   0.076481  0.290724   0.066947            0.042718   \n",
       "12     0.092605   0.062420  0.309559   0.069216            0.045218   \n",
       "13     0.068113   0.072773  0.292757   0.046649            0.041040   \n",
       "\n",
       "    iTransportation  iHealthcare  iEntertainment  iMiscellaneous  \\\n",
       "0          0.143744     0.134137        0.050256        0.029610   \n",
       "1          0.151917     0.137155        0.053061        0.018932   \n",
       "2          0.164728     0.167441        0.059971        0.016978   \n",
       "3          0.170159     0.151263        0.055304        0.022034   \n",
       "4          0.202783     0.141598        0.058412        0.017059   \n",
       "5          0.183055     0.145570        0.055391        0.018811   \n",
       "6          0.196759     0.140350        0.052605        0.013418   \n",
       "7          0.226440     0.127890        0.053827        0.018021   \n",
       "8          0.218551     0.120666        0.078465        0.017865   \n",
       "9          0.210015     0.109583        0.059517        0.015286   \n",
       "10         0.157969     0.103577        0.075583        0.029196   \n",
       "11         0.194064     0.080731        0.063106        0.016369   \n",
       "12         0.218985     0.085558        0.057277        0.026594   \n",
       "13         0.210852     0.072648        0.067468        0.043290   \n",
       "\n",
       "    iCharitableAndFamilyGiving  iInsurance  iEducation  iHousingPrinciple  \\\n",
       "0                     0.045407    0.004040    0.002035           0.020999   \n",
       "1                     0.044929    0.008260    0.001954           0.016816   \n",
       "2                     0.048327    0.005179    0.002936           0.018504   \n",
       "3                     0.054016    0.008309    0.003319           0.023709   \n",
       "4                     0.051041    0.007963    0.004670           0.030079   \n",
       "5                     0.067812    0.007098    0.002588           0.031580   \n",
       "6                     0.059358    0.008499    0.006489           0.029487   \n",
       "7                     0.055193    0.009645    0.006802           0.035273   \n",
       "8                     0.071079    0.007605    0.013128           0.043524   \n",
       "9                     0.071459    0.009206    0.017162           0.057686   \n",
       "10                    0.048359    0.017894    0.010883           0.049536   \n",
       "11                    0.101859    0.006912    0.022799           0.046112   \n",
       "12                    0.051263    0.010664    0.011450           0.040808   \n",
       "13                    0.080502    0.010582    0.029786           0.036461   \n",
       "\n",
       "      ExpInc  \n",
       "0   1.000000  \n",
       "1   1.000000  \n",
       "2   1.000000  \n",
       "3   1.000000  \n",
       "4   0.867152  \n",
       "5   0.736998  \n",
       "6   0.721011  \n",
       "7   0.641104  \n",
       "8   0.608596  \n",
       "9   0.514888  \n",
       "10  0.473217  \n",
       "11  0.401901  \n",
       "12  0.351693  \n",
       "13  0.399011  "
      ]
     },
     "execution_count": 18,
     "metadata": {},
     "output_type": "execute_result"
    }
   ],
   "source": [
    "# creating percentage outputs for cleaned dataframe\n",
    "inclassCleanAverages1 = round(clean1.ix[: ,clean1.columns != 'NEWID'].groupby(['INCLASS'],as_index=False).mean(),2)\n",
    "# creating new dataframe for the percentages that only includes the plynty categories\n",
    "cleanPercentages1 = inclassCleanAverages1.loc[:,rollupNames[1:]]\n",
    "for column in rollupNames[1:]:\n",
    "    cleanPercentages1[column] = inclassCleanAverages1[column]/inclassCleanAverages1.iTotalExp\n",
    "cleanPercentages1['ExpInc'] = inclassCleanAverages1['iTotalExp']/inclassCleanAverages1['FINCBTXM']\n",
    "# truncate the max ExpInc\n",
    "cleanPercentages1.ExpInc.ix[cleanPercentages1['ExpInc']>1] = 1\n",
    "cleanPercentages1"
   ]
  },
  {
   "cell_type": "code",
   "execution_count": 19,
   "metadata": {
    "collapsed": false,
    "scrolled": true
   },
   "outputs": [
    {
     "data": {
      "text/html": [
       "<div>\n",
       "<table border=\"1\" class=\"dataframe\">\n",
       "  <thead>\n",
       "    <tr style=\"text-align: right;\">\n",
       "      <th></th>\n",
       "      <th>iFoodAtHome</th>\n",
       "      <th>iFoodAway</th>\n",
       "      <th>iHousing</th>\n",
       "      <th>iUtilites</th>\n",
       "      <th>iClothingAndBeauty</th>\n",
       "      <th>iTransportation</th>\n",
       "      <th>iHealthcare</th>\n",
       "      <th>iEntertainment</th>\n",
       "      <th>iMiscellaneous</th>\n",
       "      <th>iCharitableAndFamilyGiving</th>\n",
       "      <th>iInsurance</th>\n",
       "      <th>iEducation</th>\n",
       "      <th>iHousingPrinciple</th>\n",
       "      <th>ExpInc</th>\n",
       "    </tr>\n",
       "  </thead>\n",
       "  <tbody>\n",
       "    <tr>\n",
       "      <th>0</th>\n",
       "      <td>0.139946</td>\n",
       "      <td>0.069766</td>\n",
       "      <td>0.279207</td>\n",
       "      <td>0.106087</td>\n",
       "      <td>0.025565</td>\n",
       "      <td>0.140212</td>\n",
       "      <td>0.134755</td>\n",
       "      <td>0.053103</td>\n",
       "      <td>0.029699</td>\n",
       "      <td>0.042435</td>\n",
       "      <td>0.004028</td>\n",
       "      <td>0.002016</td>\n",
       "      <td>0.026817</td>\n",
       "      <td>1.000000</td>\n",
       "    </tr>\n",
       "    <tr>\n",
       "      <th>1</th>\n",
       "      <td>0.137882</td>\n",
       "      <td>0.065907</td>\n",
       "      <td>0.262070</td>\n",
       "      <td>0.117952</td>\n",
       "      <td>0.026529</td>\n",
       "      <td>0.147571</td>\n",
       "      <td>0.137233</td>\n",
       "      <td>0.051865</td>\n",
       "      <td>0.018078</td>\n",
       "      <td>0.045411</td>\n",
       "      <td>0.008374</td>\n",
       "      <td>0.002261</td>\n",
       "      <td>0.021132</td>\n",
       "      <td>1.000000</td>\n",
       "    </tr>\n",
       "    <tr>\n",
       "      <th>2</th>\n",
       "      <td>0.127877</td>\n",
       "      <td>0.066522</td>\n",
       "      <td>0.239174</td>\n",
       "      <td>0.103191</td>\n",
       "      <td>0.025638</td>\n",
       "      <td>0.159292</td>\n",
       "      <td>0.163473</td>\n",
       "      <td>0.059396</td>\n",
       "      <td>0.016181</td>\n",
       "      <td>0.052164</td>\n",
       "      <td>0.004946</td>\n",
       "      <td>0.002846</td>\n",
       "      <td>0.020700</td>\n",
       "      <td>1.000000</td>\n",
       "    </tr>\n",
       "    <tr>\n",
       "      <th>3</th>\n",
       "      <td>0.125460</td>\n",
       "      <td>0.067362</td>\n",
       "      <td>0.251284</td>\n",
       "      <td>0.100724</td>\n",
       "      <td>0.025867</td>\n",
       "      <td>0.167114</td>\n",
       "      <td>0.150073</td>\n",
       "      <td>0.054659</td>\n",
       "      <td>0.020768</td>\n",
       "      <td>0.052717</td>\n",
       "      <td>0.007960</td>\n",
       "      <td>0.003171</td>\n",
       "      <td>0.027162</td>\n",
       "      <td>1.000000</td>\n",
       "    </tr>\n",
       "    <tr>\n",
       "      <th>4</th>\n",
       "      <td>0.117243</td>\n",
       "      <td>0.062267</td>\n",
       "      <td>0.255624</td>\n",
       "      <td>0.094833</td>\n",
       "      <td>0.027431</td>\n",
       "      <td>0.196416</td>\n",
       "      <td>0.139391</td>\n",
       "      <td>0.058522</td>\n",
       "      <td>0.016651</td>\n",
       "      <td>0.050722</td>\n",
       "      <td>0.007655</td>\n",
       "      <td>0.004357</td>\n",
       "      <td>0.031113</td>\n",
       "      <td>0.895576</td>\n",
       "    </tr>\n",
       "    <tr>\n",
       "      <th>5</th>\n",
       "      <td>0.114187</td>\n",
       "      <td>0.065524</td>\n",
       "      <td>0.258174</td>\n",
       "      <td>0.090189</td>\n",
       "      <td>0.028857</td>\n",
       "      <td>0.185440</td>\n",
       "      <td>0.141179</td>\n",
       "      <td>0.053723</td>\n",
       "      <td>0.017951</td>\n",
       "      <td>0.065214</td>\n",
       "      <td>0.008226</td>\n",
       "      <td>0.002467</td>\n",
       "      <td>0.031133</td>\n",
       "      <td>0.760227</td>\n",
       "    </tr>\n",
       "    <tr>\n",
       "      <th>6</th>\n",
       "      <td>0.106670</td>\n",
       "      <td>0.062180</td>\n",
       "      <td>0.279182</td>\n",
       "      <td>0.081650</td>\n",
       "      <td>0.034212</td>\n",
       "      <td>0.192213</td>\n",
       "      <td>0.137106</td>\n",
       "      <td>0.051920</td>\n",
       "      <td>0.013010</td>\n",
       "      <td>0.058318</td>\n",
       "      <td>0.008659</td>\n",
       "      <td>0.006173</td>\n",
       "      <td>0.031294</td>\n",
       "      <td>0.735302</td>\n",
       "    </tr>\n",
       "    <tr>\n",
       "      <th>7</th>\n",
       "      <td>0.105476</td>\n",
       "      <td>0.061135</td>\n",
       "      <td>0.269961</td>\n",
       "      <td>0.083787</td>\n",
       "      <td>0.027437</td>\n",
       "      <td>0.221616</td>\n",
       "      <td>0.125841</td>\n",
       "      <td>0.053174</td>\n",
       "      <td>0.017652</td>\n",
       "      <td>0.055978</td>\n",
       "      <td>0.009615</td>\n",
       "      <td>0.007324</td>\n",
       "      <td>0.038996</td>\n",
       "      <td>0.651438</td>\n",
       "    </tr>\n",
       "    <tr>\n",
       "      <th>8</th>\n",
       "      <td>0.095692</td>\n",
       "      <td>0.064009</td>\n",
       "      <td>0.262336</td>\n",
       "      <td>0.076910</td>\n",
       "      <td>0.030099</td>\n",
       "      <td>0.212545</td>\n",
       "      <td>0.118034</td>\n",
       "      <td>0.077251</td>\n",
       "      <td>0.017650</td>\n",
       "      <td>0.070950</td>\n",
       "      <td>0.007147</td>\n",
       "      <td>0.012303</td>\n",
       "      <td>0.044927</td>\n",
       "      <td>0.625412</td>\n",
       "    </tr>\n",
       "    <tr>\n",
       "      <th>9</th>\n",
       "      <td>0.094974</td>\n",
       "      <td>0.063276</td>\n",
       "      <td>0.307978</td>\n",
       "      <td>0.084128</td>\n",
       "      <td>0.031625</td>\n",
       "      <td>0.201718</td>\n",
       "      <td>0.106386</td>\n",
       "      <td>0.061134</td>\n",
       "      <td>0.014537</td>\n",
       "      <td>0.069358</td>\n",
       "      <td>0.009006</td>\n",
       "      <td>0.016158</td>\n",
       "      <td>0.060279</td>\n",
       "      <td>0.530103</td>\n",
       "    </tr>\n",
       "    <tr>\n",
       "      <th>10</th>\n",
       "      <td>0.100665</td>\n",
       "      <td>0.062383</td>\n",
       "      <td>0.344224</td>\n",
       "      <td>0.075697</td>\n",
       "      <td>0.037756</td>\n",
       "      <td>0.153418</td>\n",
       "      <td>0.103317</td>\n",
       "      <td>0.074163</td>\n",
       "      <td>0.028288</td>\n",
       "      <td>0.049104</td>\n",
       "      <td>0.018672</td>\n",
       "      <td>0.012290</td>\n",
       "      <td>0.059975</td>\n",
       "      <td>0.480811</td>\n",
       "    </tr>\n",
       "    <tr>\n",
       "      <th>11</th>\n",
       "      <td>0.080754</td>\n",
       "      <td>0.073961</td>\n",
       "      <td>0.299442</td>\n",
       "      <td>0.064940</td>\n",
       "      <td>0.040607</td>\n",
       "      <td>0.200592</td>\n",
       "      <td>0.077965</td>\n",
       "      <td>0.063161</td>\n",
       "      <td>0.015812</td>\n",
       "      <td>0.096897</td>\n",
       "      <td>0.007194</td>\n",
       "      <td>0.022907</td>\n",
       "      <td>0.044231</td>\n",
       "      <td>0.414455</td>\n",
       "    </tr>\n",
       "    <tr>\n",
       "      <th>12</th>\n",
       "      <td>0.092211</td>\n",
       "      <td>0.061855</td>\n",
       "      <td>0.317260</td>\n",
       "      <td>0.068190</td>\n",
       "      <td>0.044385</td>\n",
       "      <td>0.216476</td>\n",
       "      <td>0.084798</td>\n",
       "      <td>0.056609</td>\n",
       "      <td>0.026095</td>\n",
       "      <td>0.051067</td>\n",
       "      <td>0.010419</td>\n",
       "      <td>0.011187</td>\n",
       "      <td>0.040552</td>\n",
       "      <td>0.354955</td>\n",
       "    </tr>\n",
       "    <tr>\n",
       "      <th>13</th>\n",
       "      <td>0.065779</td>\n",
       "      <td>0.070153</td>\n",
       "      <td>0.312805</td>\n",
       "      <td>0.045380</td>\n",
       "      <td>0.039679</td>\n",
       "      <td>0.206575</td>\n",
       "      <td>0.073400</td>\n",
       "      <td>0.066611</td>\n",
       "      <td>0.041826</td>\n",
       "      <td>0.078208</td>\n",
       "      <td>0.012337</td>\n",
       "      <td>0.027777</td>\n",
       "      <td>0.040529</td>\n",
       "      <td>0.408050</td>\n",
       "    </tr>\n",
       "  </tbody>\n",
       "</table>\n",
       "</div>"
      ],
      "text/plain": [
       "    iFoodAtHome  iFoodAway  iHousing  iUtilites  iClothingAndBeauty  \\\n",
       "0      0.139946   0.069766  0.279207   0.106087            0.025565   \n",
       "1      0.137882   0.065907  0.262070   0.117952            0.026529   \n",
       "2      0.127877   0.066522  0.239174   0.103191            0.025638   \n",
       "3      0.125460   0.067362  0.251284   0.100724            0.025867   \n",
       "4      0.117243   0.062267  0.255624   0.094833            0.027431   \n",
       "5      0.114187   0.065524  0.258174   0.090189            0.028857   \n",
       "6      0.106670   0.062180  0.279182   0.081650            0.034212   \n",
       "7      0.105476   0.061135  0.269961   0.083787            0.027437   \n",
       "8      0.095692   0.064009  0.262336   0.076910            0.030099   \n",
       "9      0.094974   0.063276  0.307978   0.084128            0.031625   \n",
       "10     0.100665   0.062383  0.344224   0.075697            0.037756   \n",
       "11     0.080754   0.073961  0.299442   0.064940            0.040607   \n",
       "12     0.092211   0.061855  0.317260   0.068190            0.044385   \n",
       "13     0.065779   0.070153  0.312805   0.045380            0.039679   \n",
       "\n",
       "    iTransportation  iHealthcare  iEntertainment  iMiscellaneous  \\\n",
       "0          0.140212     0.134755        0.053103        0.029699   \n",
       "1          0.147571     0.137233        0.051865        0.018078   \n",
       "2          0.159292     0.163473        0.059396        0.016181   \n",
       "3          0.167114     0.150073        0.054659        0.020768   \n",
       "4          0.196416     0.139391        0.058522        0.016651   \n",
       "5          0.185440     0.141179        0.053723        0.017951   \n",
       "6          0.192213     0.137106        0.051920        0.013010   \n",
       "7          0.221616     0.125841        0.053174        0.017652   \n",
       "8          0.212545     0.118034        0.077251        0.017650   \n",
       "9          0.201718     0.106386        0.061134        0.014537   \n",
       "10         0.153418     0.103317        0.074163        0.028288   \n",
       "11         0.200592     0.077965        0.063161        0.015812   \n",
       "12         0.216476     0.084798        0.056609        0.026095   \n",
       "13         0.206575     0.073400        0.066611        0.041826   \n",
       "\n",
       "    iCharitableAndFamilyGiving  iInsurance  iEducation  iHousingPrinciple  \\\n",
       "0                     0.042435    0.004028    0.002016           0.026817   \n",
       "1                     0.045411    0.008374    0.002261           0.021132   \n",
       "2                     0.052164    0.004946    0.002846           0.020700   \n",
       "3                     0.052717    0.007960    0.003171           0.027162   \n",
       "4                     0.050722    0.007655    0.004357           0.031113   \n",
       "5                     0.065214    0.008226    0.002467           0.031133   \n",
       "6                     0.058318    0.008659    0.006173           0.031294   \n",
       "7                     0.055978    0.009615    0.007324           0.038996   \n",
       "8                     0.070950    0.007147    0.012303           0.044927   \n",
       "9                     0.069358    0.009006    0.016158           0.060279   \n",
       "10                    0.049104    0.018672    0.012290           0.059975   \n",
       "11                    0.096897    0.007194    0.022907           0.044231   \n",
       "12                    0.051067    0.010419    0.011187           0.040552   \n",
       "13                    0.078208    0.012337    0.027777           0.040529   \n",
       "\n",
       "      ExpInc  \n",
       "0   1.000000  \n",
       "1   1.000000  \n",
       "2   1.000000  \n",
       "3   1.000000  \n",
       "4   0.895576  \n",
       "5   0.760227  \n",
       "6   0.735302  \n",
       "7   0.651438  \n",
       "8   0.625412  \n",
       "9   0.530103  \n",
       "10  0.480811  \n",
       "11  0.414455  \n",
       "12  0.354955  \n",
       "13  0.408050  "
      ]
     },
     "execution_count": 19,
     "metadata": {},
     "output_type": "execute_result"
    }
   ],
   "source": [
    "# creating percentage outputs for cleaned dataframe\n",
    "inclassCleanAverages2 = round(clean2.ix[: ,clean2.columns != 'NEWID'].groupby(['INCLASS'],as_index=False).mean(),2)\n",
    "# creating new dataframe for the percentages that only includes the plynty categories\n",
    "cleanPercentages2 = inclassCleanAverages2.loc[:,rollupNames[1:]]\n",
    "for column in rollupNames[1:]:\n",
    "    cleanPercentages2[column] = inclassCleanAverages2[column]/inclassCleanAverages2.iTotalExp\n",
    "cleanPercentages2['ExpInc'] = inclassCleanAverages2['iTotalExp']/inclassCleanAverages2['FINCBTXM']\n",
    "# truncate the max ExpInc\n",
    "cleanPercentages2nonTruncated = cleanPercentages2.copy()\n",
    "cleanPercentages2.ExpInc.ix[cleanPercentages2['ExpInc']>1] = 1\n",
    "cleanPercentages2"
   ]
  },
  {
   "cell_type": "code",
   "execution_count": 20,
   "metadata": {
    "collapsed": false
   },
   "outputs": [
    {
     "data": {
      "text/plain": [
       "<matplotlib.text.Text at 0x11a81a908>"
      ]
     },
     "execution_count": 20,
     "metadata": {},
     "output_type": "execute_result"
    }
   ],
   "source": [
    "plt.bar(cleanPercentages1.index, cleanPercentages1.ExpInc, color = 'b')\n",
    "plt.title(\"Percent of Income Expended per Income Class\")\n",
    "plt.xlabel(\"Income Class\")\n",
    "plt.ylabel(\"Percentage\")\n",
    "# plt.show()"
   ]
  },
  {
   "cell_type": "code",
   "execution_count": 21,
   "metadata": {
    "collapsed": false
   },
   "outputs": [
    {
     "data": {
      "text/plain": [
       "<matplotlib.text.Text at 0x11a81a908>"
      ]
     },
     "execution_count": 21,
     "metadata": {},
     "output_type": "execute_result"
    }
   ],
   "source": [
    "plt.bar(cleanPercentages1.index, cleanPercentages1.iHousing, color = 'b')\n",
    "plt.ylim(0,.4)\n",
    "plt.title(\"Percent spent on Housing per Income Class (without outliers)\")\n",
    "plt.xlabel(\"Income class\")\n",
    "plt.ylabel(\"Percent spent on housing\")\n",
    "# plt.show()"
   ]
  },
  {
   "cell_type": "markdown",
   "metadata": {},
   "source": [
    "### Cell that determines how similar the neighbor rows are\n",
    "Potentially use this to combine similar rows.\n",
    "Can't figure out the correct statistical test to determine if rows are statistically similar\n",
    "\n",
    "###### The higher the difference value the more different the rows are. (low values mean similar rows)"
   ]
  },
  {
   "cell_type": "code",
   "execution_count": 22,
   "metadata": {
    "collapsed": false
   },
   "outputs": [
    {
     "name": "stdout",
     "output_type": "stream",
     "text": [
      "Income Bracket Range 1: $-inf - $11000\n",
      "Income Bracket Range 2: $11000 - $20000\n",
      "Number of CUs in Income Bracket 1: 1190\n",
      "Number of CUs in Income Bracket 2: 1175\n",
      "Rows in Percentage Dataframe: Row 0 and Row 1\n",
      "Column: iFoodAtHome\n",
      "Column: iFoodAway\n",
      "Column: iClothingAndBeauty\n",
      "Column: iHealthcare\n",
      "Column: iEntertainment\n",
      "Column: iCharitableAndFamilyGiving\n",
      "Column: iInsurance\n",
      "Column: iEducation\n",
      "Column: ExpInc\n",
      "The difference value is: 9.55\n",
      "\n",
      "Income Bracket Range 1: $11000 - $20000\n",
      "Income Bracket Range 2: $20000 - $30000\n",
      "Number of CUs in Income Bracket 1: 1175\n",
      "Number of CUs in Income Bracket 2: 1057\n",
      "Rows in Percentage Dataframe: Row 1 and Row 2\n",
      "Column: iFoodAway\n",
      "Column: iClothingAndBeauty\n",
      "Column: iMiscellaneous\n",
      "Column: iInsurance\n",
      "Column: iEducation\n",
      "Column: iHousingPrinciple\n",
      "Column: ExpInc\n",
      "The difference value is: 14.54\n",
      "\n",
      "Income Bracket Range 1: $20000 - $30000\n",
      "Income Bracket Range 2: $30000 - $43000\n",
      "Number of CUs in Income Bracket 1: 1057\n",
      "Number of CUs in Income Bracket 2: 768\n",
      "Rows in Percentage Dataframe: Row 2 and Row 3\n",
      "Column: iFoodAtHome\n",
      "Column: iFoodAway\n",
      "Column: iUtilites\n",
      "Column: iClothingAndBeauty\n",
      "Column: iEntertainment\n",
      "Column: iMiscellaneous\n",
      "Column: iCharitableAndFamilyGiving\n",
      "Column: iInsurance\n",
      "Column: iEducation\n",
      "Column: ExpInc\n",
      "The difference value is: 7.63\n",
      "\n",
      "Income Bracket Range 1: $30000 - $43000\n",
      "Income Bracket Range 2: $43000 - $55000\n",
      "Number of CUs in Income Bracket 1: 768\n",
      "Number of CUs in Income Bracket 2: 656\n",
      "Rows in Percentage Dataframe: Row 3 and Row 4\n",
      "Column: iHousing\n",
      "Column: iClothingAndBeauty\n",
      "Column: iEntertainment\n",
      "Column: iMiscellaneous\n",
      "Column: iCharitableAndFamilyGiving\n",
      "Column: iInsurance\n",
      "Column: iEducation\n",
      "Column: iHousingPrinciple\n",
      "The difference value is: 21.74\n",
      "\n",
      "Income Bracket Range 1: $43000 - $55000\n",
      "Income Bracket Range 2: $55000 - $69000\n",
      "Number of CUs in Income Bracket 1: 656\n",
      "Number of CUs in Income Bracket 2: 563\n",
      "Rows in Percentage Dataframe: Row 4 and Row 5\n",
      "Column: iFoodAtHome\n",
      "Column: iFoodAway\n",
      "Column: iHousing\n",
      "Column: iUtilites\n",
      "Column: iClothingAndBeauty\n",
      "Column: iHealthcare\n",
      "Column: iEntertainment\n",
      "Column: iMiscellaneous\n",
      "Column: iInsurance\n",
      "Column: iEducation\n",
      "Column: iHousingPrinciple\n",
      "The difference value is: 20.96\n",
      "\n",
      "Income Bracket Range 1: $55000 - $69000\n",
      "Income Bracket Range 2: $69000 - $80000\n",
      "Number of CUs in Income Bracket 1: 563\n",
      "Number of CUs in Income Bracket 2: 456\n",
      "Rows in Percentage Dataframe: Row 5 and Row 6\n",
      "Column: iFoodAway\n",
      "Column: iHealthcare\n",
      "Column: iEntertainment\n",
      "Column: iMiscellaneous\n",
      "Column: iInsurance\n",
      "Column: iEducation\n",
      "Column: iHousingPrinciple\n",
      "The difference value is: 12.82\n",
      "\n",
      "Income Bracket Range 1: $69000 - $80000\n",
      "Income Bracket Range 2: $80000 - $100000\n",
      "Number of CUs in Income Bracket 1: 456\n",
      "Number of CUs in Income Bracket 2: 418\n",
      "Rows in Percentage Dataframe: Row 6 and Row 7\n",
      "Column: iFoodAtHome\n",
      "Column: iFoodAway\n",
      "Column: iUtilites\n",
      "Column: iEntertainment\n",
      "Column: iMiscellaneous\n",
      "Column: iCharitableAndFamilyGiving\n",
      "Column: iInsurance\n",
      "Column: iEducation\n",
      "The difference value is: 19.15\n",
      "\n",
      "Income Bracket Range 1: $80000 - $100000\n",
      "Income Bracket Range 2: $100000 - $120000\n",
      "Number of CUs in Income Bracket 1: 418\n",
      "Number of CUs in Income Bracket 2: 412\n",
      "Rows in Percentage Dataframe: Row 7 and Row 8\n",
      "Column: iFoodAway\n",
      "Column: iClothingAndBeauty\n",
      "Column: iMiscellaneous\n",
      "Column: iInsurance\n",
      "Column: iEducation\n",
      "The difference value is: 15.46\n",
      "\n",
      "Income Bracket Range 1: $100000 - $120000\n",
      "Income Bracket Range 2: $120000 - $150000\n",
      "Number of CUs in Income Bracket 1: 412\n",
      "Number of CUs in Income Bracket 2: 277\n",
      "Rows in Percentage Dataframe: Row 8 and Row 9\n",
      "Column: iFoodAtHome\n",
      "Column: iFoodAway\n",
      "Column: iClothingAndBeauty\n",
      "Column: iMiscellaneous\n",
      "Column: iCharitableAndFamilyGiving\n",
      "Column: iInsurance\n",
      "Column: iEducation\n",
      "The difference value is: 25.94\n",
      "\n",
      "Income Bracket Range 1: $120000 - $150000\n",
      "Income Bracket Range 2: $150000 - $200000\n",
      "Number of CUs in Income Bracket 1: 277\n",
      "Number of CUs in Income Bracket 2: 224\n",
      "Rows in Percentage Dataframe: Row 9 and Row 10\n",
      "Column: iFoodAway\n",
      "Column: iHealthcare\n",
      "Column: iEducation\n",
      "Column: iHousingPrinciple\n",
      "The difference value is: 27.5\n",
      "\n",
      "Income Bracket Range 1: $150000 - $200000\n",
      "Income Bracket Range 2: $200000 - $250000\n",
      "Number of CUs in Income Bracket 1: 224\n",
      "Number of CUs in Income Bracket 2: 144\n",
      "Rows in Percentage Dataframe: Row 10 and Row 11\n",
      "Column: iClothingAndBeauty\n",
      "The difference value is: 42.16\n",
      "\n",
      "Income Bracket Range 1: $200000 - $250000\n",
      "Income Bracket Range 2: $250000 - $300000\n",
      "Number of CUs in Income Bracket 1: 144\n",
      "Number of CUs in Income Bracket 2: 82\n",
      "Rows in Percentage Dataframe: Row 11 and Row 12\n",
      "Column: iUtilites\n",
      "Column: iClothingAndBeauty\n",
      "Column: iInsurance\n",
      "Column: iHousingPrinciple\n",
      "The difference value is: 25.8\n",
      "\n",
      "Income Bracket Range 1: $250000 - $300000\n",
      "Income Bracket Range 2: $300000 - $inf\n",
      "Number of CUs in Income Bracket 1: 82\n",
      "Number of CUs in Income Bracket 2: 67\n",
      "Rows in Percentage Dataframe: Row 12 and Row 13\n",
      "Column: iHousing\n",
      "Column: iClothingAndBeauty\n",
      "Column: iInsurance\n",
      "Column: iHousingPrinciple\n",
      "The difference value is: 26.51\n",
      "\n"
     ]
    }
   ],
   "source": [
    "significance = 0.005\n",
    "for row in range(len(cleanPercentages2)-1):\n",
    "    print(\"Income Bracket Range 1: $\"+str(incomeBrackets[row])+\" - \"+\"$\"+str(incomeBrackets[row+1]))\n",
    "    print(\"Income Bracket Range 2: $\"+str(incomeBrackets[row+1])+\" - \"+\"$\"+str(incomeBrackets[row+2]))\n",
    "    print(\"Number of CUs in Income Bracket 1: \"+str(inclassExpenses.INCLASS.value_counts().values[row]))\n",
    "    print(\"Number of CUs in Income Bracket 2: \"+str(inclassExpenses.INCLASS.value_counts().values[row+1]))\n",
    "    print(\"Rows in Percentage Dataframe: Row \"+str(row)+\" and Row \"+str(row+1))\n",
    "    difference = 0\n",
    "    for column in range(len(cleanPercentages2.columns)):\n",
    "        difference += (cleanPercentages2.loc[column].mean() * abs(cleanPercentages2.ix[row,column] - cleanPercentages2.ix[row+1,column]))\n",
    "        if abs(cleanPercentages2.ix[row,column] - cleanPercentages2.ix[row+1,column]) < significance:\n",
    "            print(\"Column: \"+str(cleanPercentages2.columns[column]))\n",
    "    print(\"The difference value is: \"+str(round(difference*1000,2)))\n",
    "    print()"
   ]
  },
  {
   "cell_type": "markdown",
   "metadata": {},
   "source": [
    "# Plots"
   ]
  },
  {
   "cell_type": "code",
   "execution_count": 23,
   "metadata": {
    "collapsed": false,
    "scrolled": true
   },
   "outputs": [
    {
     "name": "stdout",
     "output_type": "stream",
     "text": [
      "[1190 1175 1057  768  656  563  456  418  412  277  224  144   82   67]\n"
     ]
    },
    {
     "data": {
      "text/plain": [
       "<matplotlib.text.Text at 0x11a81a908>"
      ]
     },
     "execution_count": 23,
     "metadata": {},
     "output_type": "execute_result"
    }
   ],
   "source": [
    "# ploting the number of people in each bracket\n",
    "print(inclassExpenses.INCLASS.value_counts().values)\n",
    "plt.bar(list(inclassExpenses.INCLASS.value_counts().index.tolist()), inclassExpenses.INCLASS.value_counts().values, align='center', color = \"r\")\n",
    "plt.title(\"Number of CUs in Income classes (with outliers)\")\n",
    "plt.xlabel(\"Income Class\")\n",
    "plt.ylabel(\"Count\")\n",
    "# plt.show()"
   ]
  },
  {
   "cell_type": "code",
   "execution_count": 24,
   "metadata": {
    "collapsed": false
   },
   "outputs": [
    {
     "data": {
      "text/plain": [
       "<matplotlib.text.Text at 0x11a81a908>"
      ]
     },
     "execution_count": 24,
     "metadata": {},
     "output_type": "execute_result"
    }
   ],
   "source": [
    "# creating the plot of percent of income expended per income class\n",
    "plt.bar(percentages.index, percentages.ExpInc, color = 'r')\n",
    "plt.title(\"Percent of Income Expended per Income Class (with outliers)\")\n",
    "plt.xlabel(\"Income Class\")\n",
    "plt.ylabel(\"Percentage\")\n",
    "# plt.show()"
   ]
  },
  {
   "cell_type": "code",
   "execution_count": 25,
   "metadata": {
    "collapsed": false,
    "scrolled": true
   },
   "outputs": [
    {
     "data": {
      "text/plain": [
       "<matplotlib.text.Text at 0x11a81a908>"
      ]
     },
     "execution_count": 25,
     "metadata": {},
     "output_type": "execute_result"
    }
   ],
   "source": [
    "# creating plot of Percent spent on Housing per income class\n",
    "plt.bar(percentages.index, percentages.iHousing, color = 'r')\n",
    "plt.ylim(0,.4)\n",
    "plt.title(\"Percent spent on Housing per Income Class (with outliers)\")\n",
    "plt.xlabel(\"Income class\")\n",
    "plt.ylabel(\"Percent spent on housing\")\n",
    "# plt.show()"
   ]
  },
  {
   "cell_type": "code",
   "execution_count": 26,
   "metadata": {
    "collapsed": false,
    "scrolled": false
   },
   "outputs": [
    {
     "data": {
      "text/plain": [
       "<matplotlib.text.Text at 0x11a81a908>"
      ]
     },
     "execution_count": 26,
     "metadata": {},
     "output_type": "execute_result"
    }
   ],
   "source": [
    "inclassSD = inclassExpenses.groupby(['INCLASS'],as_index=False).std()\n",
    "inclassSD.iHousing\n",
    "plt.bar(inclassSD.iHousing.index, inclassSD.iHousing, color = 'r')\n",
    "plt.title(\"Standard deviations in Income Classes (with outliers)\")\n",
    "plt.ylim(0,60000)\n",
    "plt.xlabel(\"Income Class\")\n",
    "plt.ylabel(\"Standard Deviation\")\n",
    "# plt.show()"
   ]
  },
  {
   "cell_type": "code",
   "execution_count": 27,
   "metadata": {
    "collapsed": false
   },
   "outputs": [
    {
     "name": "stdout",
     "output_type": "stream",
     "text": [
      "[1108 1105  975  732  624  539  421  396  395  258  217  138   75   66]\n"
     ]
    },
    {
     "data": {
      "text/plain": [
       "<matplotlib.text.Text at 0x11a81a908>"
      ]
     },
     "execution_count": 27,
     "metadata": {},
     "output_type": "execute_result"
    }
   ],
   "source": [
    "# ploting the number of people in each bracket\n",
    "print(clean1.INCLASS.value_counts().values)\n",
    "plt.bar(list(clean1.INCLASS.value_counts().index.tolist()), clean1.INCLASS.value_counts().values, align='center', color=\"g\")\n",
    "plt.title(\"Number of CUs in Income classes (outer fence)\")\n",
    "plt.xlabel(\"Income Class\")\n",
    "plt.ylabel(\"Count\")\n",
    "# plt.show()"
   ]
  },
  {
   "cell_type": "code",
   "execution_count": 28,
   "metadata": {
    "collapsed": false,
    "scrolled": true
   },
   "outputs": [
    {
     "data": {
      "text/plain": [
       "<matplotlib.text.Text at 0x11a81a908>"
      ]
     },
     "execution_count": 28,
     "metadata": {},
     "output_type": "execute_result"
    }
   ],
   "source": [
    "inclassClean1SD = clean1.groupby(['INCLASS'],as_index=False).std()\n",
    "inclassClean1SD.iHousing\n",
    "plt.bar(inclassClean1SD.iHousing.index, inclassClean1SD.iHousing,color = 'g')\n",
    "plt.ylim(0,60000)\n",
    "plt.title(\"Standard deviations in Income Classes (inner fence)\")\n",
    "plt.xlabel(\"Income Class\")\n",
    "plt.ylabel(\"Standard Deviation\")\n",
    "# plt.show()"
   ]
  },
  {
   "cell_type": "code",
   "execution_count": 29,
   "metadata": {
    "collapsed": false,
    "scrolled": true
   },
   "outputs": [
    {
     "name": "stdout",
     "output_type": "stream",
     "text": [
      "[1154 1154 1013  760  644  555  442  410  409  266  223  142   78   67]\n"
     ]
    },
    {
     "data": {
      "text/plain": [
       "<matplotlib.text.Text at 0x11a81a908>"
      ]
     },
     "execution_count": 29,
     "metadata": {},
     "output_type": "execute_result"
    }
   ],
   "source": [
    "# ploting the number of people in each bracket\n",
    "print(clean2.INCLASS.value_counts().values)\n",
    "plt.bar(list(clean2.INCLASS.value_counts().index.tolist()), clean2.INCLASS.value_counts().values, align='center', color=\"b\")\n",
    "plt.title(\"Number of CUs in Income classes (outer fence)\")\n",
    "plt.xlabel(\"Income Class\")\n",
    "plt.ylabel(\"Count\")\n",
    "# plt.show()"
   ]
  },
  {
   "cell_type": "code",
   "execution_count": 30,
   "metadata": {
    "collapsed": false
   },
   "outputs": [
    {
     "data": {
      "text/plain": [
       "<matplotlib.text.Text at 0x11a81a908>"
      ]
     },
     "execution_count": 30,
     "metadata": {},
     "output_type": "execute_result"
    }
   ],
   "source": [
    "inclassClean2SD = clean2.groupby(['INCLASS'],as_index=False).std()\n",
    "inclassClean2SD.iHousing\n",
    "plt.bar(inclassClean2SD.iHousing.index, inclassClean2SD.iHousing,color = 'b')\n",
    "plt.ylim(0,60000)\n",
    "plt.title(\"Standard deviations in Income Classes (outer fence)\")\n",
    "plt.xlabel(\"Income Class\")\n",
    "plt.ylabel(\"Standard Deviation\")\n",
    "# plt.show()"
   ]
  },
  {
   "cell_type": "code",
   "execution_count": 31,
   "metadata": {
    "collapsed": false
   },
   "outputs": [
    {
     "data": {
      "image/png": "[encoded data removed]",
      "text/plain": [
       "<matplotlib.figure.Figure at 0x114e07dd8>"
      ]
     },
     "metadata": {},
     "output_type": "display_data"
    }
   ],
   "source": [
    "plt.close()\n",
    "n_groups = 4\n",
    "values1 = inclassExpenses.INCLASS.value_counts().values\n",
    "values2 = clean1.INCLASS.value_counts().values\n",
    "values3 = clean2.INCLASS.value_counts().values\n",
    "\n",
    "fig, ax = plt.subplots()\n",
    "index = np.arange(n_groups)\n",
    "bar_width = 0.25\n",
    "opacity = 1\n",
    " \n",
    "rects1 = plt.bar(inclassExpenses.INCLASS.value_counts().index -1, values1, bar_width,\n",
    "                 alpha=opacity,\n",
    "                 color='r',\n",
    "                 label='With')\n",
    " \n",
    "rects2 = plt.bar(clean1.INCLASS.value_counts().index -1 + bar_width, values2, bar_width,\n",
    "                 alpha=opacity,\n",
    "                 color='g',\n",
    "                 label='Inner')\n",
    "\n",
    "rects3 = plt.bar(clean2.INCLASS.value_counts().index - 1 + bar_width*2, values3, bar_width,\n",
    "                 alpha=opacity,\n",
    "                 color='b',\n",
    "                 label='Outer')\n",
    "\n",
    "plt.xlabel('Income Class')\n",
    "plt.ylabel('Number of CUs')\n",
    "plt.title('Number of CUs per Income Class')\n",
    "plt.legend()\n",
    "plt.show()"
   ]
  },
  {
   "cell_type": "code",
   "execution_count": 32,
   "metadata": {
    "collapsed": false,
    "scrolled": false
   },
   "outputs": [
    {
     "name": "stdout",
     "output_type": "stream",
     "text": [
      "The average percent change between with and without outliers: 1.94%\n"
     ]
    },
    {
     "data": {
      "image/png": "[encoded data removed]",
      "text/plain": [
       "<matplotlib.figure.Figure at 0x115ee3f60>"
      ]
     },
     "metadata": {},
     "output_type": "display_data"
    }
   ],
   "source": [
    "n_groups = 4\n",
    "values1 = percentages.iHousing\n",
    "values2 = cleanPercentages1.iHousing\n",
    "values3 = cleanPercentages2.iHousing\n",
    "\n",
    "print(\"The average percent change between with and without outliers: \"+str(round((values1-values3).mean()*100,2))+\"%\")\n",
    "\n",
    "fig, ax = plt.subplots()\n",
    "index = np.arange(n_groups)\n",
    "bar_width = 0.25\n",
    "opacity = 1\n",
    " \n",
    "rects1 = plt.bar(percentages.index, values1, bar_width,\n",
    "                 alpha=opacity,\n",
    "                 color='r',\n",
    "                 label='With')\n",
    " \n",
    "rects2 = plt.bar(cleanPercentages1.index + bar_width, values2, bar_width,\n",
    "                 alpha=opacity,\n",
    "                 color='g',\n",
    "                 label='Inner')\n",
    "\n",
    "rects3 = plt.bar(cleanPercentages2.index + bar_width*2, values3, bar_width,\n",
    "                 alpha=opacity,\n",
    "                 color='b',\n",
    "                 label='Outer')\n",
    "\n",
    "plt.xlabel('Income Class')\n",
    "plt.ylabel('Percent of Total Expenditures')\n",
    "plt.title('Percent Spent on Housing per Income Class')\n",
    "plt.ylim(0,.4)\n",
    "plt.legend()\n",
    "plt.show()"
   ]
  },
  {
   "cell_type": "code",
   "execution_count": 33,
   "metadata": {
    "collapsed": false
   },
   "outputs": [
    {
     "data": {
      "image/png": "[encoded data removed]",
      "text/plain": [
       "<matplotlib.figure.Figure at 0x116d83550>"
      ]
     },
     "metadata": {},
     "output_type": "display_data"
    }
   ],
   "source": [
    "n_groups = 4\n",
    "values1 = inclassSD.iHousing\n",
    "values2 = inclassClean1SD.iHousing\n",
    "values3 = inclassClean2SD.iHousing\n",
    "\n",
    "fig, ax = plt.subplots()\n",
    "index = np.arange(n_groups)\n",
    "bar_width = 0.25\n",
    "opacity = 1\n",
    " \n",
    "rects1 = plt.bar(percentages.index, values1, bar_width,\n",
    "                 alpha=opacity,\n",
    "                 color='r',\n",
    "                 label='With')\n",
    " \n",
    "rects2 = plt.bar(cleanPercentages1.index + bar_width, values2, bar_width,\n",
    "                 alpha=opacity,\n",
    "                 color='g',\n",
    "                 label='Inner')\n",
    "\n",
    "rects3 = plt.bar(cleanPercentages2.index + bar_width*2, values3, bar_width,\n",
    "                 alpha=opacity,\n",
    "                 color='b',\n",
    "                 label='Outer')\n",
    "\n",
    "plt.xlabel('Income Class')\n",
    "plt.ylabel('Standard Deviation (Dollars)')\n",
    "plt.title('Standard Deviation of money spent on Housing per Income Class')\n",
    "plt.legend()\n",
    "plt.show()"
   ]
  },
  {
   "cell_type": "code",
   "execution_count": 34,
   "metadata": {
    "collapsed": false,
    "scrolled": true
   },
   "outputs": [
    {
     "data": {
      "image/png": "[encoded data removed]",
      "text/plain": [
       "<matplotlib.figure.Figure at 0x1192fda90>"
      ]
     },
     "metadata": {},
     "output_type": "display_data"
    }
   ],
   "source": [
    "n_groups = 3\n",
    "values1 = percentages.ExpInc\n",
    "values2 = cleanPercentages1.ExpInc\n",
    "values3 = cleanPercentages2.ExpInc\n",
    "\n",
    "fig, ax = plt.subplots()\n",
    "index = np.arange(n_groups)\n",
    "bar_width = 0.25\n",
    "opacity = 1\n",
    " \n",
    "rects1 = plt.bar(percentages.index, values1, bar_width,\n",
    "                 alpha=opacity,\n",
    "                 color='r',\n",
    "                 label='With')\n",
    " \n",
    "rects2 = plt.bar(cleanPercentages1.index + bar_width, values2, bar_width,\n",
    "                 alpha=opacity,\n",
    "                 color='g',\n",
    "                 label='Outer Fence')\n",
    "\n",
    "rects3 = plt.bar(cleanPercentages2.index + bar_width*2, values3, bar_width,\n",
    "                 alpha=opacity,\n",
    "                 color='b',\n",
    "                 label='Inner Fence')\n",
    " \n",
    "plt.xlabel('Income Class')\n",
    "plt.ylabel('Percent of Income Expended')\n",
    "plt.title('Percent of Income Expent per Income Class')\n",
    "plt.legend()\n",
    "plt.show()"
   ]
  },
  {
   "cell_type": "markdown",
   "metadata": {},
   "source": [
    "# Least squares polynomial fit\n",
    "any value that would cause a person to expend over 100% of their income is truncated to 100%"
   ]
  },
  {
   "cell_type": "code",
   "execution_count": 35,
   "metadata": {
    "slideshow": "-"
   },
   "outputs": [
    {
     "data": {
      "image/png": "[encoded data removed]",
      "text/plain": [
       "<matplotlib.figure.Figure at 0x10f43ae80>"
      ]
     },
     "metadata": {},
     "output_type": "display_data"
    }
   ],
   "source": [
    "# cleanPercentages2.ExpInc[3:]\n",
    "cleanReg = clean2[[\"FINCBTXM\",\"iTotalExp\"]]\n",
    "cleanReg = cleanReg.loc[clean2.FINCBTXM > 0]\n",
    "cleanReg = cleanReg.loc[cleanReg.iTotalExp > 0]\n",
    "cleanReg\n",
    "def getExpendPercent(income):\n",
    "    if income <= 0:\n",
    "        return(1)\n",
    "    coefficients = np.polyfit(cleanReg.FINCBTXM, cleanReg.iTotalExp, deg = 3)\n",
    "    p = np.poly1d(coefficients)\n",
    "    np.seterr(divide='ignore')\n",
    "    percent = p(income)/income\n",
    "    if percent > 1:\n",
    "        percent = 1\n",
    "    return(percent)\n",
    "\n",
    "x = range(0,360000,1000)\n",
    "x2 = range(0,360000,1000)\n",
    "y =[]\n",
    "y2 =[]\n",
    "def oldRegression(income):\n",
    "    if income > 53000:\n",
    "        output = ((-7.6108*(10**(-17)))*(income**3))+((4.2009*(10**(-11)))*(income**2))+((-7.90256*(10**-6))*income)+1.21112\n",
    "    else:\n",
    "        output = 1\n",
    "    return(output)\n",
    "\n",
    "\n",
    "for bracket in range(0,360000,1000):\n",
    "    y.append(getExpendPercent(bracket))\n",
    "    y2.append(oldRegression(bracket))\n",
    "# plt.plot(inclassCleanAverages2.FINCBTXM,cleanPercentages2.ExpInc)\n",
    "plt.plot(x,y, color = \"r\", label=\"New\")\n",
    "plt.plot(x2,y2, color = \"b\", label = \"Old\")\n",
    "x3 = range(0,incomeBrackets[len(incomeBrackets)-2])\n",
    "\n",
    "# creating the repeatArray for income Bracket plotting\n",
    "lastvalue = 0\n",
    "repeatArray = []\n",
    "for x in range(0,len(incomeBrackets[1:len(incomeBrackets)-1])):\n",
    "    repeatArray.append(incomeBrackets[1:len(incomeBrackets)-1][x] - lastvalue)\n",
    "    lastvalue = incomeBrackets[1:len(incomeBrackets)-1][x]\n",
    "\n",
    "y3 = np.repeat(cleanPercentages2.ExpInc[0:len(cleanPercentages2)-1], repeatArray)\n",
    "plt.plot(x3,y3, color = \"g\", label = \"Brackets\")\n",
    "plt.title(\"Percent of Income Expended Regression\")\n",
    "plt.xlabel(\"Income Before Taxes\")\n",
    "plt.ylabel(\"Percent of Income Expended\")\n",
    "plt.xlim(0,350000)\n",
    "plt.ylim(0,1.2)\n",
    "plt.legend()\n",
    "plt.show()"
   ]
  },
  {
   "cell_type": "markdown",
   "metadata": {},
   "source": [
    "# Examples of Users"
   ]
  },
  {
   "cell_type": "code",
   "execution_count": 36,
   "metadata": {},
   "outputs": [
    {
     "data": {
      "text/html": [
       "<div>\n",
       "<table border=\"1\" class=\"dataframe\">\n",
       "  <thead>\n",
       "    <tr style=\"text-align: right;\">\n",
       "      <th></th>\n",
       "      <th>iFoodAtHome</th>\n",
       "      <th>iFoodAway</th>\n",
       "      <th>iHousing</th>\n",
       "      <th>iUtilites</th>\n",
       "      <th>iClothingAndBeauty</th>\n",
       "      <th>iTransportation</th>\n",
       "      <th>iHealthcare</th>\n",
       "      <th>iEntertainment</th>\n",
       "      <th>iMiscellaneous</th>\n",
       "      <th>iCharitableAndFamilyGiving</th>\n",
       "      <th>iInsurance</th>\n",
       "      <th>iEducation</th>\n",
       "      <th>iHousingPrinciple</th>\n",
       "      <th>ExpInc</th>\n",
       "    </tr>\n",
       "  </thead>\n",
       "  <tbody>\n",
       "    <tr>\n",
       "      <th>30000</th>\n",
       "      <td>319.692</td>\n",
       "      <td>166.304</td>\n",
       "      <td>597.936</td>\n",
       "      <td>257.977</td>\n",
       "      <td>64.0952</td>\n",
       "      <td>398.231</td>\n",
       "      <td>408.683</td>\n",
       "      <td>148.491</td>\n",
       "      <td>40.452</td>\n",
       "      <td>130.409</td>\n",
       "      <td>12.3638</td>\n",
       "      <td>7.11579</td>\n",
       "      <td>51.7493</td>\n",
       "      <td>2500</td>\n",
       "    </tr>\n",
       "    <tr>\n",
       "      <th>60000</th>\n",
       "      <td>449.103</td>\n",
       "      <td>257.709</td>\n",
       "      <td>1015.41</td>\n",
       "      <td>354.718</td>\n",
       "      <td>113.497</td>\n",
       "      <td>729.343</td>\n",
       "      <td>555.263</td>\n",
       "      <td>211.296</td>\n",
       "      <td>70.6023</td>\n",
       "      <td>256.49</td>\n",
       "      <td>32.3551</td>\n",
       "      <td>9.70098</td>\n",
       "      <td>122.447</td>\n",
       "      <td>2990</td>\n",
       "    </tr>\n",
       "    <tr>\n",
       "      <th>90000</th>\n",
       "      <td>513.075</td>\n",
       "      <td>297.384</td>\n",
       "      <td>1313.2</td>\n",
       "      <td>407.571</td>\n",
       "      <td>133.467</td>\n",
       "      <td>1078.03</td>\n",
       "      <td>612.142</td>\n",
       "      <td>258.66</td>\n",
       "      <td>85.8662</td>\n",
       "      <td>272.296</td>\n",
       "      <td>46.7704</td>\n",
       "      <td>35.6272</td>\n",
       "      <td>189.693</td>\n",
       "      <td>3168.85</td>\n",
       "    </tr>\n",
       "    <tr>\n",
       "      <th>120000</th>\n",
       "      <td>546.71</td>\n",
       "      <td>365.699</td>\n",
       "      <td>1498.79</td>\n",
       "      <td>439.407</td>\n",
       "      <td>171.962</td>\n",
       "      <td>1214.32</td>\n",
       "      <td>674.358</td>\n",
       "      <td>441.355</td>\n",
       "      <td>100.84</td>\n",
       "      <td>405.352</td>\n",
       "      <td>40.8338</td>\n",
       "      <td>70.2917</td>\n",
       "      <td>256.676</td>\n",
       "      <td>3573.13</td>\n",
       "    </tr>\n",
       "    <tr>\n",
       "      <th>250000</th>\n",
       "      <td>706.31</td>\n",
       "      <td>646.894</td>\n",
       "      <td>2619.04</td>\n",
       "      <td>567.988</td>\n",
       "      <td>355.163</td>\n",
       "      <td>1754.46</td>\n",
       "      <td>681.91</td>\n",
       "      <td>552.436</td>\n",
       "      <td>138.298</td>\n",
       "      <td>847.502</td>\n",
       "      <td>62.9178</td>\n",
       "      <td>200.358</td>\n",
       "      <td>386.865</td>\n",
       "      <td>3624.99</td>\n",
       "    </tr>\n",
       "  </tbody>\n",
       "</table>\n",
       "</div>"
      ],
      "text/plain": [
       "       iFoodAtHome iFoodAway iHousing iUtilites iClothingAndBeauty  \\\n",
       "30000      319.692   166.304  597.936   257.977            64.0952   \n",
       "60000      449.103   257.709  1015.41   354.718            113.497   \n",
       "90000      513.075   297.384   1313.2   407.571            133.467   \n",
       "120000      546.71   365.699  1498.79   439.407            171.962   \n",
       "250000      706.31   646.894  2619.04   567.988            355.163   \n",
       "\n",
       "       iTransportation iHealthcare iEntertainment iMiscellaneous  \\\n",
       "30000          398.231     408.683        148.491         40.452   \n",
       "60000          729.343     555.263        211.296        70.6023   \n",
       "90000          1078.03     612.142         258.66        85.8662   \n",
       "120000         1214.32     674.358        441.355         100.84   \n",
       "250000         1754.46      681.91        552.436        138.298   \n",
       "\n",
       "       iCharitableAndFamilyGiving iInsurance iEducation iHousingPrinciple  \\\n",
       "30000                     130.409    12.3638    7.11579           51.7493   \n",
       "60000                      256.49    32.3551    9.70098           122.447   \n",
       "90000                     272.296    46.7704    35.6272           189.693   \n",
       "120000                    405.352    40.8338    70.2917           256.676   \n",
       "250000                    847.502    62.9178    200.358           386.865   \n",
       "\n",
       "         ExpInc  \n",
       "30000      2500  \n",
       "60000      2990  \n",
       "90000   3168.85  \n",
       "120000  3573.13  \n",
       "250000  3624.99  "
      ]
     },
     "execution_count": 36,
     "metadata": {},
     "output_type": "execute_result"
    }
   ],
   "source": [
    "usersIncome = [30000, 60000, 90000, 120000, 250000]\n",
    "def getIncomeBracket(income):\n",
    "    for bracket in range(len(incomeBrackets)-2,0,-1):\n",
    "        if income > incomeBrackets[bracket]:\n",
    "            return bracket\n",
    "            \n",
    "\n",
    "exampleExpenses = pd.DataFrame(columns = cleanPercentages2.columns, index = range(len(usersIncome)))\n",
    "for user in usersIncome:\n",
    "    userBracket = getIncomeBracket(user)\n",
    "    userExpendAmount = getExpendPercent(user) * user\n",
    "    userBaseExpenses = (cleanPercentages2.loc[userBracket]*userExpendAmount)/12\n",
    "    exampleExpenses.loc[usersIncome.index(user)] = userBaseExpenses\n",
    "\n",
    "exampleExpenses.index = usersIncome\n",
    "\n",
    "\n",
    "exampleExpenses"
   ]
  }
 ],
 "metadata": {
  "kernelspec": {
   "display_name": "Python 3",
   "language": "python",
   "name": "python3"
  },
  "language_info": {
   "codemirror_mode": {
    "name": "ipython",
    "version": 3
   },
   "file_extension": ".py",
   "mimetype": "text/x-python",
   "name": "python",
   "nbconvert_exporter": "python",
   "pygments_lexer": "ipython3",
   "version": "3.6.0"
  },
  "widgets": {
   "state": {
    "0068692ac0bc411882a87b1a14dcfe10": {
     "views": [
      {
       "cell_index": 4
      }
     ]
    },
    "0bb2a8ec3efd4b92929860f0bd5905e0": {
     "views": [
      {
       "cell_index": 4
      }
     ]
    },
    "100206eef84d4173abc40ab8904f8ad5": {
     "views": [
      {
       "cell_index": 4
      }
     ]
    },
    "1b9d1660c8c64ec9952ea8a110d1f45b": {
     "views": [
      {
       "cell_index": 4
      }
     ]
    },
    "206b339cc5fa431eb2bfdf4a002fbee4": {
     "views": [
      {
       "cell_index": 4
      }
     ]
    },
    "27544fcbcde6482ab4785aca6aad69f9": {
     "views": [
      {
       "cell_index": 4
      }
     ]
    },
    "2c4068db76574349ba22032b0e0389bf": {
     "views": [
      {
       "cell_index": 4
      }
     ]
    },
    "385321efd2764b82add0b60833dab624": {
     "views": [
      {
       "cell_index": 4
      }
     ]
    },
    "48f62472d15647e9b82c65dcdbdc25b1": {
     "views": [
      {
       "cell_index": 4
      }
     ]
    },
    "516d2b0274bb45bfaec4433d691dc6ec": {
     "views": [
      {
       "cell_index": 4
      }
     ]
    },
    "522fbf9e096342859c5801ecb6e99658": {
     "views": [
      {
       "cell_index": 4
      }
     ]
    },
    "6fdc0a4cf68b438fac80ab3e4b83d19f": {
     "views": [
      {
       "cell_index": 4
      }
     ]
    },
    "91413111d50544c48166272bb0472126": {
     "views": [
      {
       "cell_index": 4
      }
     ]
    },
    "a89892d026274481bc6291f33d61d7e5": {
     "views": [
      {
       "cell_index": 4
      }
     ]
    },
    "ba65bfee910c4112af5658a6e6a2ef70": {
     "views": [
      {
       "cell_index": 4
      }
     ]
    },
    "c5763faee881469485888bfe55e988d1": {
     "views": [
      {
       "cell_index": 4
      }
     ]
    },
    "ca4f506cd0b14565b07e8899cf82befe": {
     "views": [
      {
       "cell_index": 4
      }
     ]
    },
    "d3b4abc7c62c4b0aa661a9f52260198b": {
     "views": [
      {
       "cell_index": 4
      }
     ]
    },
    "dfcd57085b0c46b6ac49e9f39fb3ffb5": {
     "views": [
      {
       "cell_index": 4
      }
     ]
    },
    "ed7c8b262ece470aafa8df3c2730a563": {
     "views": [
      {
       "cell_index": 4
      }
     ]
    },
    "f31852a1231145c08bf5cf8b6a3e888c": {
     "views": [
      {
       "cell_index": 4
      }
     ]
    },
    "fc7c33a10615450991993c8d4d270f86": {
     "views": [
      {
       "cell_index": 4
      }
     ]
    }
   },
   "version": "1.2.0"
  }
 },
 "nbformat": 4,
 "nbformat_minor": 2
}
