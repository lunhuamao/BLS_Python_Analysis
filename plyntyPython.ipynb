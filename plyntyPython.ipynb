{
 "cells": [
  {
   "cell_type": "markdown",
   "metadata": {
    "slideshow": {
     "slide_type": "slide"
    }
   },
   "source": [
    "# Plynty Bureau of Labor Statistics Consumer Expenditure Analysis\n",
    "\n",
    "[BLS Comsumer Expenditure Survey](https://www.bls.gov/cex/home.htm)\n",
    "\n",
    "[Interview Data Dictionary](https://www.bls.gov/cex/2015/csxintvwdata.pdf)\n",
    "\n",
    "[Diary Data Dictionary](https://www.bls.gov/cex/2015/csxdiarydata.pdf)\n",
    "\n",
    "### Where to download the BLS CE PUMD\n",
    "- The zip files download automatically\n",
    "- To download the Stub files open the links then right click and choose \"Save As...\"\n",
    "\n",
    "[2015 interview zip file](https://www.bls.gov/cex/pumd/data/comma/intrvw15.zip)\n",
    "\n",
    "[2015 diary zip file](https://www.bls.gov/cex/pumd/data/comma/diary15.zip)\n",
    "\n",
    "[2015 IntStub file](https://www.bls.gov/cex/pumd/2014/csxintstub.txt)\n",
    "\n",
    "[2015 IStub file](https://www.bls.gov/cex/pumd/2014/csxistub.txt)\n",
    "\n",
    "[2015 DStub file](https://www.bls.gov/cex/pumd/2014/csxdstub.txt)\n",
    "\n",
    "### This Scripts Goals for Plynty\n",
    "- Create an easy to use analysis script for the BLS CE PUMD \n",
    "- Create a csv files that has average percentages spent on plynty categories for certain income classes\n",
    "- Develop a \n",
    "- Create incomeclasses that are stastically significant"
   ]
  },
  {
   "cell_type": "markdown",
   "metadata": {
    "slideshow": {
     "slide_type": "slide"
    }
   },
   "source": [
    "##### Importing Libraries "
   ]
  },
  {
   "cell_type": "code",
   "execution_count": 1,
   "metadata": {
    "collapsed": false,
    "slideshow": {
     "slide_type": "subslide"
    }
   },
   "outputs": [
    {
     "name": "stdout",
     "output_type": "stream",
     "text": [
      "Dependencies Loaded...\n"
     ]
    }
   ],
   "source": [
    "import pandas as pd\n",
    "import numpy as np\n",
    "import os\n",
    "import subprocess\n",
    "import math\n",
    "import matplotlib.pyplot as plt\n",
    "from scipy.interpolate import *\n",
    "from plyntywidgets import *\n",
    "from blsFunctions import *\n",
    "print(\"Dependencies Loaded...\")"
   ]
  },
  {
   "cell_type": "markdown",
   "metadata": {},
   "source": [
    "### Setting Parameters\n",
    "- year: the last two number associated with the year of the data\n",
    "    for example for data from 2015: year = \"15\"\n",
    "- minAge: the low bound (inclusive) of the age range you wish to subset by\n",
    "- maxAge: the high bound (inclusive) of the age range you wish to subset by\n",
    "- incomeBrackets: array of numbers that you wish to create the new income classes\n",
    "    the bracketing works as follows (1,2], (2,3], (3,4]\n",
    "- filesToRead: the strings of the abbreviations associated with the files you wish to read\n",
    "    options are: \"all\", \"diary\", \"interview\", \"dtbd\", \"expd\", \"fmld\", \"memd\", \"fmli\", \"itbi\", \"memi\", \"mtbi\", \"ntaxi\""
   ]
  },
  {
   "cell_type": "code",
   "execution_count": 2,
   "metadata": {
    "collapsed": false
   },
   "outputs": [],
   "source": [
    "year = \"15\"\n",
    "filesToRead = [\"fmli\", \"mtbi\"]\n",
    "incomeBrackets = [-math.inf,11000,20000,30000,43000,55000,69000,80000,100000,120000,150000,200000,250000,300000,math.inf]\n",
    "\n",
    "# minAge = 55\n",
    "# maxAge = 64\n",
    "\n",
    "minAge = 60\n",
    "maxAge = 75\n",
    "\n",
    "# minAge = 65\n",
    "# maxAge = 130"
   ]
  },
  {
   "cell_type": "markdown",
   "metadata": {},
   "source": [
    "### Setting Directory locations and FileNames on your Local Machine"
   ]
  },
  {
   "cell_type": "code",
   "execution_count": 3,
   "metadata": {
    "collapsed": false
   },
   "outputs": [],
   "source": [
    "# directory in which the diary and interview folders are held is located\n",
    "diaryDir = \"/Users/adyke/Vizuri/CE_PUMD/diary15/\"\n",
    "interviewDir = \"/Users/adyke/Vizuri/CE_PUMD/intrvw15/\"\n",
    "\n",
    "# Directory where stubfiles are located\n",
    "pathToStubFileDir = \"/Users/adyke/Vizuri/Stubfiles/\"\n",
    "rScriptStubfilePathAndName = \"/Users/adyke/Vizuri/BLS_Python_Analysis/creatingStubCsvs.R\"\n",
    "\n",
    "# Filenames of the Stubfiles\n",
    "IStubFileName = \"IStub2015.txt\"\n",
    "DStubFileName = \"DStub2015.txt\"\n",
    "IntStubFileName = \"IntStub2015.txt\"\n",
    "\n",
    "# name of interview dir within the interview dir\n",
    "insideIntrvwDirName = \"intrvw\"\n",
    "\n",
    "# name of the directory where you want the output percentages csv\n",
    "outputDir = \"/Users/adyke/Vizuri/outputFiles/\""
   ]
  },
  {
   "cell_type": "markdown",
   "metadata": {},
   "source": [
    "### Reading in the files specified by FilesToRead"
   ]
  },
  {
   "cell_type": "code",
   "execution_count": 4,
   "metadata": {
    "collapsed": false
   },
   "outputs": [],
   "source": [
    "if(len(filesToRead)==0):\n",
    "    print(\"The files to read variable is empty.\")\n",
    "\n",
    "# looping through each file to read\n",
    "for file in filesToRead:\n",
    "    if file == \"dtbd\" or file == \"all\" or file == \"diary\":\n",
    "        dtbd = readFileSet(\"dtbd\", diaryDir)\n",
    "    if file == \"expd\" or file == \"all\" or file == \"diary\":\n",
    "        expd = readFileSet(\"expd\", diaryDir)\n",
    "    if file == \"fmld\" or file == \"all\" or file == \"diary\":\n",
    "        fmld = readFileSet(\"fmld\", diaryDir)\n",
    "    if file == \"memd\" or file == \"all\" or file == \"diary\":\n",
    "        memd = readFileSet(\"memd\", diaryDir)\n",
    "    if file == \"fmli\" or file == \"all\" or file == \"interview\":\n",
    "        fmli = readFileSet(\"fmli\", interviewDir+insideIntrvwDirName+year+\"/\")\n",
    "    if file == \"itbi\" or file == \"all\" or file == \"interview\":\n",
    "        itbi = readFileSet(\"itbi\", interviewDir+insideIntrvwDirName+year+\"/\")\n",
    "    if file == \"itii\" or file == \"all\" or file == \"interview\":\n",
    "        itii = readFileSet(\"itii\", interviewDir+insideIntrvwDirName+year+\"/\")\n",
    "    if file == \"memi\" or file == \"all\" or file == \"interview\":\n",
    "        memi = readFileSet(\"memi\", interviewDir+insideIntrvwDirName+year+\"/\")\n",
    "    if file == \"mtbi\" or file == \"all\" or file == \"interview\":\n",
    "        mtbi = readFileSet(\"mtbi\", interviewDir+insideIntrvwDirName+year+\"/\")\n",
    "        mtbi.UCC = mtbi.UCC.astype(str)\n",
    "    if file == \"ntaxi\" or file == \"all\" or file == \"interview\":\n",
    "        ntaxi = readFileSet(\"ntaxi\", interviewDir+insideIntrvwDirName+year+\"/\")\n",
    "# does not read form the expn or para subdirectories\n"
   ]
  },
  {
   "cell_type": "markdown",
   "metadata": {},
   "source": [
    "### Using R to convert the Stub files into csv files"
   ]
  },
  {
   "cell_type": "code",
   "execution_count": 5,
   "metadata": {
    "collapsed": false
   },
   "outputs": [
    {
     "name": "stdout",
     "output_type": "stream",
     "text": [
      "Stubfiles Exist\n"
     ]
    }
   ],
   "source": [
    "if os.path.isfile(pathToStubFileDir+\"DStub.csv\") and os.path.isfile(pathToStubFileDir+\"IStub.csv\") and os.path.isfile(pathToStubFileDir+\"IntStub.csv\"):\n",
    "    print(\"Stubfiles Exist\")\n",
    "else:\n",
    "    # converting the stub files via R \n",
    "    subprocess.call(\"Rscript \"+rScriptStubfilePathAndName+\" \"+pathToStubFileDir+\" \"+IStubFileName+\" \"+DStubFileName+\" \"+IntStubFileName, shell=True)\n",
    "    print(\"Stubfile Csvs created in \"+pathToStubFileDir)"
   ]
  },
  {
   "cell_type": "markdown",
   "metadata": {},
   "source": [
    "### Reading and Cleaning the stubfile CSVs into pandas dataframes"
   ]
  },
  {
   "cell_type": "code",
   "execution_count": 6,
   "metadata": {
    "collapsed": false
   },
   "outputs": [],
   "source": [
    "# reading in the stubfiles\n",
    "DStub = pd.read_csv(pathToStubFileDir+\"DStub.csv\")\n",
    "IStub = pd.read_csv(pathToStubFileDir+\"IStub.csv\")\n",
    "IntStub = pd.read_csv(pathToStubFileDir+\"IntStub.csv\")\n",
    "\n",
    "# removing the index from the stufile\n",
    "DStub = DStub.drop(DStub.columns[0], axis=1)\n",
    "IStub = IStub.drop(IStub.columns[0], axis=1)\n",
    "IntStub = IntStub.drop(IntStub.columns[0], axis=1)\n",
    "\n",
    "# replacing * with 0 in the level columns\n",
    "DStub.loc[DStub.level == \"*\", 'level'] = 0\n",
    "IStub.loc[IStub.level == \"*\", 'level'] = 0\n",
    "IntStub.loc[IntStub.level == \"*\", 'level'] = 0"
   ]
  },
  {
   "cell_type": "markdown",
   "metadata": {},
   "source": [
    "# Starting the Plynty calculations"
   ]
  },
  {
   "cell_type": "markdown",
   "metadata": {},
   "source": [
    "### Creating the UCC roll ups for Plynty"
   ]
  },
  {
   "cell_type": "code",
   "execution_count": 7,
   "metadata": {
    "collapsed": false
   },
   "outputs": [],
   "source": [
    "# creating UCC rollups for the interview files for plynty categories\n",
    "iTotalExp = categoricalUCCRollUp(IStub,[\"TOTALE\"])\n",
    "iFoodAtHome = categoricalUCCRollUp(IStub, [\"FOODHO\", \"ALCHOM\"])\n",
    "iFoodAway = categoricalUCCRollUp(IStub, [\"FOODAW\", \"ALCAWA\"])\n",
    "iHousing = categoricalUCCRollUp(IStub, [\"HOUSIN\"], ignoreUCCs = categoricalUCCRollUp(IStub, [\"UTILS\"]))\n",
    "iUtilites = categoricalUCCRollUp(IStub, [\"UTILS\"])\n",
    "iClothingAndBeauty = categoricalUCCRollUp(IStub, [\"APPARE\",\"PERSCA\"])\n",
    "iTransportation = categoricalUCCRollUp(IStub, [\"TRANS\"])\n",
    "iHealthcare = categoricalUCCRollUp(IStub, [\"HEALTH\"])\n",
    "iEntertainment = categoricalUCCRollUp(IStub, [\"ENTRTA\",\"READIN\"])\n",
    "iMiscellaneous = categoricalUCCRollUp(IStub, [\"MISC\",\"TOBACC\"])\n",
    "iCharitableAndFamilyGiving = categoricalUCCRollUp(IStub, [\"CASHCO\"])\n",
    "iInsurance = categoricalUCCRollUp(IStub, [\"LIFEIN\"])\n",
    "iEducation = categoricalUCCRollUp(IStub, [\"EDUCAT\"])\n",
    "iHousingPrinciple = categoricalUCCRollUp(IStub,[\"MRTPRI\"])"
   ]
  },
  {
   "cell_type": "markdown",
   "metadata": {},
   "source": [
    "### Adding and Rolling up the MTBI Categories into mtbiRolledUp\n",
    "\n",
    "outputs from cell:\n",
    "- mtbiTrimmed: Dataframe with NewID, TotatlExp and each entry of cost."
   ]
  },
  {
   "cell_type": "code",
   "execution_count": 8,
   "metadata": {
    "collapsed": false
   },
   "outputs": [],
   "source": [
    "rollupNames = [\"iTotalExp\",\"iFoodAtHome\",\"iFoodAway\",\"iHousing\",\"iUtilites\",\"iClothingAndBeauty\",\"iTransportation\",\"iHealthcare\",\"iEntertainment\",\"iMiscellaneous\",\"iCharitableAndFamilyGiving\",\"iInsurance\",\"iEducation\",\"iHousingPrinciple\"]\n",
    "rollups = [iTotalExp,iFoodAtHome,iFoodAway,iHousing,iUtilites,iClothingAndBeauty,iTransportation,iHealthcare,iEntertainment,iMiscellaneous,iCharitableAndFamilyGiving,iInsurance,iEducation,iHousingPrinciple]\n",
    "\n",
    "mtbiRolledUp = rollUpDataframe(mtbi, rollupNames, rollups, negativeColumns=[\"iHousingPrinciple\"], multiple=4)\n",
    "\n",
    "mtbiTrimmed = mtbiRolledUp.loc[: , ['NEWID','iTotalExp','iFoodAtHome','iFoodAway','iHousing','iUtilites','iClothingAndBeauty','iTransportation','iHealthcare','iEntertainment','iMiscellaneous','iCharitableAndFamilyGiving','iInsurance','iEducation','iHousingPrinciple']]"
   ]
  },
  {
   "cell_type": "markdown",
   "metadata": {},
   "source": [
    "### Creating the Sum for all expenditure category columns for each NEWID\n",
    "nonZeroColumns is an array that contains the names of columns that should not be Zero\n",
    "\n",
    "outputs from cell:\n",
    "- iExpensesByNewID: total expenses for each category for each NewID"
   ]
  },
  {
   "cell_type": "code",
   "execution_count": 9,
   "metadata": {
    "collapsed": false
   },
   "outputs": [],
   "source": [
    "# adding up all columns for each new id\n",
    "iExpensesByNewID = mtbiTrimmed.groupby(['NEWID'],as_index=False).sum()\n",
    "# removing rows with zero values in key categories\n",
    "nonZeroColumns = ['iFoodAtHome','iFoodAway','iHousing','iUtilites']\n",
    "for column in nonZeroColumns:\n",
    "    iExpensesByNewID = iExpensesByNewID[iExpensesByNewID[column] != 0]\n",
    "iExpensesByNewID['iHousing'] = iExpensesByNewID['iHousing']+iExpensesByNewID['iHousingPrinciple']"
   ]
  },
  {
   "cell_type": "markdown",
   "metadata": {},
   "source": [
    "### Plotting the total population CU counts"
   ]
  },
  {
   "cell_type": "code",
   "execution_count": 10,
   "metadata": {},
   "outputs": [
    {
     "data": {
      "image/png": "[encoded data removed]",
      "text/plain": [
       "<matplotlib.figure.Figure at 0x10fd72080>"
      ]
     },
     "metadata": {},
     "output_type": "display_data"
    }
   ],
   "source": [
    "fmliTotalRecoded = binColumn(dataframe=fmli, toBinColumnName=\"FINCBTXM\", binValues=incomeBrackets, binnedColumnName=\"INCLASS\", labels=range(0,len(incomeBrackets)-1))\n",
    "\n",
    "plt.bar(fmliTotalRecoded.INCLASS.value_counts().index, (fmliTotalRecoded.INCLASS.value_counts().values)/(len(fmliTotalRecoded)), color=\"black\")\n",
    "plt.suptitle(\"Percent of CUs in each Income class\")\n",
    "plt.title(\"All CUs\")\n",
    "plt.xlabel(\"Income Class\")\n",
    "plt.ylabel(\"Percent of CUs\")\n",
    "plt.ylim(0,0.19)\n",
    "plt.show()"
   ]
  },
  {
   "cell_type": "markdown",
   "metadata": {},
   "source": [
    "### Subsetting FMLI for age and recoding the incomebrackets"
   ]
  },
  {
   "cell_type": "code",
   "execution_count": 11,
   "metadata": {
    "collapsed": false,
    "scrolled": true
   },
   "outputs": [],
   "source": [
    "# subsetting for the age bracket\n",
    "fmliAge = subsetDataframe(dataframe=fmli, columnName=\"AGE_REF\", minValue=minAge, maxValue=maxAge)\n",
    "fmliAge = fmliAge.reset_index()\n",
    "\n",
    "# recoding the income brackets\n",
    "fmliRecoded = binColumn(dataframe=fmliAge, toBinColumnName=\"FINCBTXM\", binValues=incomeBrackets, binnedColumnName=\"INCLASS\", labels=range(1,len(incomeBrackets)))"
   ]
  },
  {
   "cell_type": "markdown",
   "metadata": {},
   "source": [
    "### Adding the Income class colum to the ExpensesByNewID dataframe"
   ]
  },
  {
   "cell_type": "code",
   "execution_count": 12,
   "metadata": {
    "collapsed": false
   },
   "outputs": [],
   "source": [
    "# combining the fmli and iExpensesByNewID\n",
    "inclassExpenses = pd.merge(left=fmliRecoded[['NEWID','INCLASS','FINCBTXM']],right=iExpensesByNewID, on=['NEWID'])\n",
    "# inclassExpenses"
   ]
  },
  {
   "cell_type": "markdown",
   "metadata": {},
   "source": [
    "### Averaging the expenditures based on incomebrackets\n",
    "inclassAverages is average money spent for each incomeclass"
   ]
  },
  {
   "cell_type": "code",
   "execution_count": 13,
   "metadata": {
    "collapsed": false,
    "scrolled": false
   },
   "outputs": [],
   "source": [
    "# getting mean for all columns with the same income class besides newId and creating new dataframe\n",
    "inclassAverages = round(inclassExpenses.ix[: ,inclassExpenses.columns != 'NEWID'].groupby(['INCLASS'],as_index=False).mean(),2)\n",
    "# inclassAverages"
   ]
  },
  {
   "cell_type": "markdown",
   "metadata": {},
   "source": [
    "### Converting the Average expenditures for income classes into percentages of expenditures\n",
    "percentages is the percent of total expenditure for each category for each incomeclass "
   ]
  },
  {
   "cell_type": "code",
   "execution_count": 14,
   "metadata": {
    "collapsed": false
   },
   "outputs": [],
   "source": [
    "# creating new dataframe for the percentages that only includes the plynty categories\n",
    "percentages = inclassAverages.loc[:,rollupNames[1:]]\n",
    "for column in rollupNames[1:]:\n",
    "    percentages[column] = inclassAverages[column]/inclassAverages.iTotalExp\n",
    "percentages['ExpInc'] = inclassAverages['iTotalExp']/inclassAverages['FINCBTXM']\n",
    "\n",
    "# truncate the max ExpInc\n",
    "percentages.ExpInc.ix[percentages['ExpInc']>1] = 1\n",
    "\n",
    "# percentages"
   ]
  },
  {
   "cell_type": "markdown",
   "metadata": {},
   "source": [
    "# Exploring Issues in the data"
   ]
  },
  {
   "cell_type": "markdown",
   "metadata": {},
   "source": [
    "### Getting Description of the inclassExpenses dataframe"
   ]
  },
  {
   "cell_type": "code",
   "execution_count": 15,
   "metadata": {
    "collapsed": false
   },
   "outputs": [
    {
     "data": {
      "text/html": [
       "<div>\n",
       "<table border=\"1\" class=\"dataframe\">\n",
       "  <thead>\n",
       "    <tr style=\"text-align: right;\">\n",
       "      <th></th>\n",
       "      <th>count</th>\n",
       "      <th>mean</th>\n",
       "      <th>std</th>\n",
       "      <th>min</th>\n",
       "      <th>25%</th>\n",
       "      <th>50%</th>\n",
       "      <th>75%</th>\n",
       "      <th>max</th>\n",
       "    </tr>\n",
       "  </thead>\n",
       "  <tbody>\n",
       "    <tr>\n",
       "      <th>0</th>\n",
       "      <td>321.0</td>\n",
       "      <td>9325.700935</td>\n",
       "      <td>9817.974660</td>\n",
       "      <td>4.0</td>\n",
       "      <td>2868.0</td>\n",
       "      <td>6360.0</td>\n",
       "      <td>11808.0</td>\n",
       "      <td>75037.0</td>\n",
       "    </tr>\n",
       "    <tr>\n",
       "      <th>1</th>\n",
       "      <td>613.0</td>\n",
       "      <td>8709.500816</td>\n",
       "      <td>12015.879835</td>\n",
       "      <td>30.0</td>\n",
       "      <td>3000.0</td>\n",
       "      <td>5404.0</td>\n",
       "      <td>10204.0</td>\n",
       "      <td>181360.0</td>\n",
       "    </tr>\n",
       "    <tr>\n",
       "      <th>2</th>\n",
       "      <td>770.0</td>\n",
       "      <td>9540.250649</td>\n",
       "      <td>11258.004114</td>\n",
       "      <td>-11880.0</td>\n",
       "      <td>2740.0</td>\n",
       "      <td>6531.0</td>\n",
       "      <td>11638.0</td>\n",
       "      <td>100556.0</td>\n",
       "    </tr>\n",
       "    <tr>\n",
       "      <th>3</th>\n",
       "      <td>866.0</td>\n",
       "      <td>10760.273672</td>\n",
       "      <td>10286.525063</td>\n",
       "      <td>-22664.0</td>\n",
       "      <td>3965.0</td>\n",
       "      <td>8384.0</td>\n",
       "      <td>14143.0</td>\n",
       "      <td>105052.0</td>\n",
       "    </tr>\n",
       "    <tr>\n",
       "      <th>4</th>\n",
       "      <td>608.0</td>\n",
       "      <td>11419.805921</td>\n",
       "      <td>10001.329624</td>\n",
       "      <td>108.0</td>\n",
       "      <td>4534.0</td>\n",
       "      <td>9024.0</td>\n",
       "      <td>15083.0</td>\n",
       "      <td>94860.0</td>\n",
       "    </tr>\n",
       "    <tr>\n",
       "      <th>5</th>\n",
       "      <td>560.0</td>\n",
       "      <td>13522.839286</td>\n",
       "      <td>12299.532651</td>\n",
       "      <td>90.0</td>\n",
       "      <td>5734.5</td>\n",
       "      <td>10930.0</td>\n",
       "      <td>17350.0</td>\n",
       "      <td>94484.0</td>\n",
       "    </tr>\n",
       "    <tr>\n",
       "      <th>6</th>\n",
       "      <td>346.0</td>\n",
       "      <td>16226.173410</td>\n",
       "      <td>13568.553449</td>\n",
       "      <td>1160.0</td>\n",
       "      <td>7761.5</td>\n",
       "      <td>13240.0</td>\n",
       "      <td>21259.0</td>\n",
       "      <td>146416.0</td>\n",
       "    </tr>\n",
       "    <tr>\n",
       "      <th>7</th>\n",
       "      <td>467.0</td>\n",
       "      <td>16945.438972</td>\n",
       "      <td>14051.582811</td>\n",
       "      <td>500.0</td>\n",
       "      <td>8306.0</td>\n",
       "      <td>13268.0</td>\n",
       "      <td>21802.0</td>\n",
       "      <td>107284.0</td>\n",
       "    </tr>\n",
       "    <tr>\n",
       "      <th>8</th>\n",
       "      <td>350.0</td>\n",
       "      <td>19878.088571</td>\n",
       "      <td>18530.840287</td>\n",
       "      <td>4.0</td>\n",
       "      <td>8691.0</td>\n",
       "      <td>15708.0</td>\n",
       "      <td>25713.0</td>\n",
       "      <td>170024.0</td>\n",
       "    </tr>\n",
       "    <tr>\n",
       "      <th>9</th>\n",
       "      <td>249.0</td>\n",
       "      <td>26268.184739</td>\n",
       "      <td>26526.138558</td>\n",
       "      <td>1464.0</td>\n",
       "      <td>11172.0</td>\n",
       "      <td>21172.0</td>\n",
       "      <td>31652.0</td>\n",
       "      <td>227912.0</td>\n",
       "    </tr>\n",
       "    <tr>\n",
       "      <th>10</th>\n",
       "      <td>206.0</td>\n",
       "      <td>29857.305825</td>\n",
       "      <td>23186.539691</td>\n",
       "      <td>1600.0</td>\n",
       "      <td>13579.0</td>\n",
       "      <td>23889.0</td>\n",
       "      <td>41076.0</td>\n",
       "      <td>159590.0</td>\n",
       "    </tr>\n",
       "    <tr>\n",
       "      <th>11</th>\n",
       "      <td>141.0</td>\n",
       "      <td>32825.460993</td>\n",
       "      <td>60048.821137</td>\n",
       "      <td>1366.0</td>\n",
       "      <td>12992.0</td>\n",
       "      <td>26236.0</td>\n",
       "      <td>37848.0</td>\n",
       "      <td>700492.0</td>\n",
       "    </tr>\n",
       "    <tr>\n",
       "      <th>12</th>\n",
       "      <td>64.0</td>\n",
       "      <td>30865.125000</td>\n",
       "      <td>22017.427828</td>\n",
       "      <td>3208.0</td>\n",
       "      <td>12182.5</td>\n",
       "      <td>28796.5</td>\n",
       "      <td>43805.0</td>\n",
       "      <td>96036.0</td>\n",
       "    </tr>\n",
       "    <tr>\n",
       "      <th>13</th>\n",
       "      <td>75.0</td>\n",
       "      <td>59123.186667</td>\n",
       "      <td>62260.529716</td>\n",
       "      <td>2300.0</td>\n",
       "      <td>28510.5</td>\n",
       "      <td>41817.0</td>\n",
       "      <td>65902.5</td>\n",
       "      <td>312149.0</td>\n",
       "    </tr>\n",
       "  </tbody>\n",
       "</table>\n",
       "</div>"
      ],
      "text/plain": [
       "    count          mean           std      min      25%      50%      75%  \\\n",
       "0   321.0   9325.700935   9817.974660      4.0   2868.0   6360.0  11808.0   \n",
       "1   613.0   8709.500816  12015.879835     30.0   3000.0   5404.0  10204.0   \n",
       "2   770.0   9540.250649  11258.004114 -11880.0   2740.0   6531.0  11638.0   \n",
       "3   866.0  10760.273672  10286.525063 -22664.0   3965.0   8384.0  14143.0   \n",
       "4   608.0  11419.805921  10001.329624    108.0   4534.0   9024.0  15083.0   \n",
       "5   560.0  13522.839286  12299.532651     90.0   5734.5  10930.0  17350.0   \n",
       "6   346.0  16226.173410  13568.553449   1160.0   7761.5  13240.0  21259.0   \n",
       "7   467.0  16945.438972  14051.582811    500.0   8306.0  13268.0  21802.0   \n",
       "8   350.0  19878.088571  18530.840287      4.0   8691.0  15708.0  25713.0   \n",
       "9   249.0  26268.184739  26526.138558   1464.0  11172.0  21172.0  31652.0   \n",
       "10  206.0  29857.305825  23186.539691   1600.0  13579.0  23889.0  41076.0   \n",
       "11  141.0  32825.460993  60048.821137   1366.0  12992.0  26236.0  37848.0   \n",
       "12   64.0  30865.125000  22017.427828   3208.0  12182.5  28796.5  43805.0   \n",
       "13   75.0  59123.186667  62260.529716   2300.0  28510.5  41817.0  65902.5   \n",
       "\n",
       "         max  \n",
       "0    75037.0  \n",
       "1   181360.0  \n",
       "2   100556.0  \n",
       "3   105052.0  \n",
       "4    94860.0  \n",
       "5    94484.0  \n",
       "6   146416.0  \n",
       "7   107284.0  \n",
       "8   170024.0  \n",
       "9   227912.0  \n",
       "10  159590.0  \n",
       "11  700492.0  \n",
       "12   96036.0  \n",
       "13  312149.0  "
      ]
     },
     "execution_count": 15,
     "metadata": {},
     "output_type": "execute_result"
    }
   ],
   "source": [
    "# max and min of housing per income class\n",
    "rowDescription = []\n",
    "for inclass in range(1,len(incomeBrackets)):\n",
    "    rowDescription.append(inclassExpenses.iHousing.loc[inclassExpenses.INCLASS == inclass].describe())\n",
    "descriptions = pd.concat(rowDescription, axis=1)\n",
    "descriptions.columns = range(0,len(incomeBrackets)-1)\n",
    "descriptions = descriptions.transpose()\n",
    "descriptions"
   ]
  },
  {
   "cell_type": "markdown",
   "metadata": {},
   "source": [
    "### Removing outliers in iHousing\n",
    " - For each income class\n",
    "    - Find Q1 and Q3\n",
    "    - Calculate IQR\n",
    "    - Find rows outside of Q3/Q2 +/- (1.5 x IQR) and Q3/Q2 +/- (3 x IQR)\n",
    " - Remove Rows from Dataframe\n",
    " - Clean1: Inner Fence\n",
    " - Clean2: Outer Fence"
   ]
  },
  {
   "cell_type": "code",
   "execution_count": 16,
   "metadata": {
    "collapsed": false,
    "scrolled": true
   },
   "outputs": [
    {
     "name": "stdout",
     "output_type": "stream",
     "text": [
      "There are 5636 rows before removal of outliers\n",
      "Removed 305 rows deemed to be out of inner fence\n",
      "Removed 5.41% of the CUs\n",
      "Removed 118 rows deemed to be out of inner fence\n",
      "Removed 2.09% of the CUs\n"
     ]
    }
   ],
   "source": [
    "# cleaning the inclassExpenses dataframe of outliers\n",
    "outliers1 = inclassExpenses.copy()\n",
    "\n",
    "\n",
    "outliers1\n",
    "innerFence = []\n",
    "outerFence = []\n",
    "\n",
    "\n",
    "print(\"There are \"+str(len(inclassExpenses))+\" rows before removal of outliers\")\n",
    "\n",
    "for inclass in range(1,len(incomeBrackets)):\n",
    "    outliers1InClass = outliers1.where(outliers1['INCLASS']==inclass)\n",
    "    Q1 = outliers1InClass['iHousing'].quantile(0.25)\n",
    "    Q3 = outliers1InClass['iHousing'].quantile(0.75)\n",
    "    IQR = Q3 - Q1\n",
    "    innerFence.extend(outliers1InClass[outliers1InClass['iHousing'] < (Q1 - (1.5 * IQR))].index.tolist())\n",
    "    innerFence.extend(outliers1InClass[outliers1InClass['iHousing'] > (Q3 + (1.5 * IQR))].index.tolist())    \n",
    "    outerFence.extend(outliers1InClass[outliers1InClass['iHousing'] < (Q1 - (3 * IQR))].index.tolist())\n",
    "    outerFence.extend(outliers1InClass[outliers1InClass['iHousing'] > (Q3 + (3 * IQR))].index.tolist())\n",
    "\n",
    "\n",
    "clean1 = outliers1.drop(outliers1.index[innerFence])\n",
    "clean1\n",
    "clean2 = outliers1.drop(outliers1.index[outerFence])\n",
    "clean2\n",
    "\n",
    "print(\"Removed \"+str(len(innerFence))+ \" rows deemed to be out of inner fence\")\n",
    "print(\"Removed \"+str(round(len(innerFence)/len(inclassExpenses)*100,2))+ \"% of the CUs\")\n",
    "\n",
    "print(\"Removed \"+str(len(outerFence))+ \" rows deemed to be out of inner fence\")\n",
    "print(\"Removed \"+str(round(len(outerFence)/len(inclassExpenses)*100,2))+ \"% of the CUs\")\n",
    "\n",
    "# creating the descriptions for the cleaned outlier dataframe\n",
    "rowDescription1 = []\n",
    "for inclass in range(1,len(incomeBrackets)):\n",
    "    rowDescription1.append(clean1.iHousing.loc[clean1.INCLASS == inclass].describe())\n",
    "descriptions1 = pd.concat(rowDescription1, axis=1)\n",
    "descriptions1.columns = range(0,len(incomeBrackets)-1)\n",
    "descriptions1 = descriptions1.transpose()\n",
    "# descriptions1"
   ]
  },
  {
   "cell_type": "markdown",
   "metadata": {},
   "source": [
    "### Looking at the outliers that were removed"
   ]
  },
  {
   "cell_type": "code",
   "execution_count": 17,
   "metadata": {
    "collapsed": false
   },
   "outputs": [
    {
     "name": "stdout",
     "output_type": "stream",
     "text": [
      "Number of outliers in each income class: [51 46 42 28 28 26 21 16 16 14  6  5  5  1]\n"
     ]
    },
    {
     "data": {
      "text/html": [
       "<div>\n",
       "<table border=\"1\" class=\"dataframe\">\n",
       "  <thead>\n",
       "    <tr style=\"text-align: right;\">\n",
       "      <th></th>\n",
       "      <th>NEWID</th>\n",
       "      <th>INCLASS</th>\n",
       "      <th>FINCBTXM</th>\n",
       "      <th>iTotalExp</th>\n",
       "      <th>iFoodAtHome</th>\n",
       "      <th>iFoodAway</th>\n",
       "      <th>iHousing</th>\n",
       "      <th>iUtilites</th>\n",
       "      <th>iClothingAndBeauty</th>\n",
       "      <th>iTransportation</th>\n",
       "      <th>iHealthcare</th>\n",
       "      <th>iEntertainment</th>\n",
       "      <th>iMiscellaneous</th>\n",
       "      <th>iCharitableAndFamilyGiving</th>\n",
       "      <th>iInsurance</th>\n",
       "      <th>iEducation</th>\n",
       "      <th>iHousingPrinciple</th>\n",
       "    </tr>\n",
       "  </thead>\n",
       "  <tbody>\n",
       "    <tr>\n",
       "      <th>560</th>\n",
       "      <td>3057932</td>\n",
       "      <td>1</td>\n",
       "      <td>6155.0</td>\n",
       "      <td>97470.8</td>\n",
       "      <td>5500.0</td>\n",
       "      <td>7080.0</td>\n",
       "      <td>25912.0</td>\n",
       "      <td>4092.0</td>\n",
       "      <td>920.0</td>\n",
       "      <td>34452.0</td>\n",
       "      <td>14506.8</td>\n",
       "      <td>2844.0</td>\n",
       "      <td>0.0</td>\n",
       "      <td>4400.0</td>\n",
       "      <td>0.0</td>\n",
       "      <td>0.0</td>\n",
       "      <td>2236.0</td>\n",
       "    </tr>\n",
       "    <tr>\n",
       "      <th>607</th>\n",
       "      <td>3066713</td>\n",
       "      <td>1</td>\n",
       "      <td>7900.0</td>\n",
       "      <td>114605.6</td>\n",
       "      <td>5544.0</td>\n",
       "      <td>20448.0</td>\n",
       "      <td>27100.0</td>\n",
       "      <td>5420.0</td>\n",
       "      <td>4280.0</td>\n",
       "      <td>17788.0</td>\n",
       "      <td>5005.6</td>\n",
       "      <td>13860.0</td>\n",
       "      <td>360.0</td>\n",
       "      <td>14800.0</td>\n",
       "      <td>0.0</td>\n",
       "      <td>0.0</td>\n",
       "      <td>0.0</td>\n",
       "    </tr>\n",
       "    <tr>\n",
       "      <th>1240</th>\n",
       "      <td>3000783</td>\n",
       "      <td>1</td>\n",
       "      <td>2615.0</td>\n",
       "      <td>53130.8</td>\n",
       "      <td>5720.0</td>\n",
       "      <td>4040.0</td>\n",
       "      <td>29552.0</td>\n",
       "      <td>9656.0</td>\n",
       "      <td>960.0</td>\n",
       "      <td>5320.0</td>\n",
       "      <td>2618.8</td>\n",
       "      <td>6236.0</td>\n",
       "      <td>340.0</td>\n",
       "      <td>660.0</td>\n",
       "      <td>0.0</td>\n",
       "      <td>0.0</td>\n",
       "      <td>11972.0</td>\n",
       "    </tr>\n",
       "    <tr>\n",
       "      <th>1360</th>\n",
       "      <td>3057933</td>\n",
       "      <td>1</td>\n",
       "      <td>6155.0</td>\n",
       "      <td>101969.6</td>\n",
       "      <td>5436.0</td>\n",
       "      <td>4492.0</td>\n",
       "      <td>40720.0</td>\n",
       "      <td>6060.0</td>\n",
       "      <td>1640.0</td>\n",
       "      <td>18032.0</td>\n",
       "      <td>16593.6</td>\n",
       "      <td>6260.0</td>\n",
       "      <td>0.0</td>\n",
       "      <td>4800.0</td>\n",
       "      <td>0.0</td>\n",
       "      <td>0.0</td>\n",
       "      <td>2064.0</td>\n",
       "    </tr>\n",
       "    <tr>\n",
       "      <th>1557</th>\n",
       "      <td>3093291</td>\n",
       "      <td>1</td>\n",
       "      <td>-3143.0</td>\n",
       "      <td>61838.8</td>\n",
       "      <td>4500.0</td>\n",
       "      <td>5320.0</td>\n",
       "      <td>26032.0</td>\n",
       "      <td>3796.0</td>\n",
       "      <td>864.0</td>\n",
       "      <td>2396.0</td>\n",
       "      <td>17214.8</td>\n",
       "      <td>1200.0</td>\n",
       "      <td>3440.0</td>\n",
       "      <td>100.0</td>\n",
       "      <td>0.0</td>\n",
       "      <td>0.0</td>\n",
       "      <td>3024.0</td>\n",
       "    </tr>\n",
       "  </tbody>\n",
       "</table>\n",
       "</div>"
      ],
      "text/plain": [
       "        NEWID  INCLASS  FINCBTXM  iTotalExp  iFoodAtHome  iFoodAway  iHousing  \\\n",
       "560   3057932        1    6155.0    97470.8       5500.0     7080.0   25912.0   \n",
       "607   3066713        1    7900.0   114605.6       5544.0    20448.0   27100.0   \n",
       "1240  3000783        1    2615.0    53130.8       5720.0     4040.0   29552.0   \n",
       "1360  3057933        1    6155.0   101969.6       5436.0     4492.0   40720.0   \n",
       "1557  3093291        1   -3143.0    61838.8       4500.0     5320.0   26032.0   \n",
       "\n",
       "      iUtilites  iClothingAndBeauty  iTransportation  iHealthcare  \\\n",
       "560      4092.0               920.0          34452.0      14506.8   \n",
       "607      5420.0              4280.0          17788.0       5005.6   \n",
       "1240     9656.0               960.0           5320.0       2618.8   \n",
       "1360     6060.0              1640.0          18032.0      16593.6   \n",
       "1557     3796.0               864.0           2396.0      17214.8   \n",
       "\n",
       "      iEntertainment  iMiscellaneous  iCharitableAndFamilyGiving  iInsurance  \\\n",
       "560           2844.0             0.0                      4400.0         0.0   \n",
       "607          13860.0           360.0                     14800.0         0.0   \n",
       "1240          6236.0           340.0                       660.0         0.0   \n",
       "1360          6260.0             0.0                      4800.0         0.0   \n",
       "1557          1200.0          3440.0                       100.0         0.0   \n",
       "\n",
       "      iEducation  iHousingPrinciple  \n",
       "560          0.0             2236.0  \n",
       "607          0.0                0.0  \n",
       "1240         0.0            11972.0  \n",
       "1360         0.0             2064.0  \n",
       "1557         0.0             3024.0  "
      ]
     },
     "execution_count": 17,
     "metadata": {},
     "output_type": "execute_result"
    }
   ],
   "source": [
    "innerOutliers = inclassExpenses.copy()\n",
    "innerOutliers = innerOutliers.ix[innerFence,:]\n",
    "print(\"Number of outliers in each income class: \"+str(innerOutliers.INCLASS.value_counts().values))\n",
    "innerOutliers.head()"
   ]
  },
  {
   "cell_type": "code",
   "execution_count": 18,
   "metadata": {
    "collapsed": false
   },
   "outputs": [
    {
     "name": "stdout",
     "output_type": "stream",
     "text": [
      "Number of outliers in each income class: [24 22 15 10 10  8  7  6  6  5  2  2  1]\n"
     ]
    },
    {
     "data": {
      "text/html": [
       "<div>\n",
       "<table border=\"1\" class=\"dataframe\">\n",
       "  <thead>\n",
       "    <tr style=\"text-align: right;\">\n",
       "      <th></th>\n",
       "      <th>NEWID</th>\n",
       "      <th>INCLASS</th>\n",
       "      <th>FINCBTXM</th>\n",
       "      <th>iTotalExp</th>\n",
       "      <th>iFoodAtHome</th>\n",
       "      <th>iFoodAway</th>\n",
       "      <th>iHousing</th>\n",
       "      <th>iUtilites</th>\n",
       "      <th>iClothingAndBeauty</th>\n",
       "      <th>iTransportation</th>\n",
       "      <th>iHealthcare</th>\n",
       "      <th>iEntertainment</th>\n",
       "      <th>iMiscellaneous</th>\n",
       "      <th>iCharitableAndFamilyGiving</th>\n",
       "      <th>iInsurance</th>\n",
       "      <th>iEducation</th>\n",
       "      <th>iHousingPrinciple</th>\n",
       "    </tr>\n",
       "  </thead>\n",
       "  <tbody>\n",
       "    <tr>\n",
       "      <th>1360</th>\n",
       "      <td>3057933</td>\n",
       "      <td>1</td>\n",
       "      <td>6155.0</td>\n",
       "      <td>101969.6</td>\n",
       "      <td>5436.0</td>\n",
       "      <td>4492.0</td>\n",
       "      <td>40720.0</td>\n",
       "      <td>6060.0</td>\n",
       "      <td>1640.0</td>\n",
       "      <td>18032.0</td>\n",
       "      <td>16593.6</td>\n",
       "      <td>6260.0</td>\n",
       "      <td>0.0</td>\n",
       "      <td>4800.0</td>\n",
       "      <td>0.0</td>\n",
       "      <td>0.0</td>\n",
       "      <td>2064.0</td>\n",
       "    </tr>\n",
       "    <tr>\n",
       "      <th>1692</th>\n",
       "      <td>3105982</td>\n",
       "      <td>1</td>\n",
       "      <td>10536.0</td>\n",
       "      <td>723291.8</td>\n",
       "      <td>8500.0</td>\n",
       "      <td>3600.0</td>\n",
       "      <td>75037.0</td>\n",
       "      <td>8148.0</td>\n",
       "      <td>3280.0</td>\n",
       "      <td>2600.0</td>\n",
       "      <td>31578.8</td>\n",
       "      <td>10424.0</td>\n",
       "      <td>0.0</td>\n",
       "      <td>600000.0</td>\n",
       "      <td>0.0</td>\n",
       "      <td>0.0</td>\n",
       "      <td>19876.0</td>\n",
       "    </tr>\n",
       "    <tr>\n",
       "      <th>1932</th>\n",
       "      <td>3170291</td>\n",
       "      <td>1</td>\n",
       "      <td>9310.0</td>\n",
       "      <td>67181.6</td>\n",
       "      <td>7520.0</td>\n",
       "      <td>1980.0</td>\n",
       "      <td>45476.0</td>\n",
       "      <td>5456.0</td>\n",
       "      <td>936.0</td>\n",
       "      <td>9916.0</td>\n",
       "      <td>5277.6</td>\n",
       "      <td>1428.0</td>\n",
       "      <td>0.0</td>\n",
       "      <td>3120.0</td>\n",
       "      <td>0.0</td>\n",
       "      <td>0.0</td>\n",
       "      <td>13928.0</td>\n",
       "    </tr>\n",
       "    <tr>\n",
       "      <th>2611</th>\n",
       "      <td>3105983</td>\n",
       "      <td>1</td>\n",
       "      <td>9906.0</td>\n",
       "      <td>75915.8</td>\n",
       "      <td>5880.0</td>\n",
       "      <td>5520.0</td>\n",
       "      <td>40649.0</td>\n",
       "      <td>3780.0</td>\n",
       "      <td>800.0</td>\n",
       "      <td>6076.0</td>\n",
       "      <td>9938.8</td>\n",
       "      <td>14188.0</td>\n",
       "      <td>0.0</td>\n",
       "      <td>0.0</td>\n",
       "      <td>0.0</td>\n",
       "      <td>0.0</td>\n",
       "      <td>10916.0</td>\n",
       "    </tr>\n",
       "    <tr>\n",
       "      <th>2717</th>\n",
       "      <td>3149212</td>\n",
       "      <td>1</td>\n",
       "      <td>3756.0</td>\n",
       "      <td>75077.6</td>\n",
       "      <td>12296.0</td>\n",
       "      <td>1480.0</td>\n",
       "      <td>40132.0</td>\n",
       "      <td>5480.0</td>\n",
       "      <td>2320.0</td>\n",
       "      <td>6276.0</td>\n",
       "      <td>5241.6</td>\n",
       "      <td>2444.0</td>\n",
       "      <td>1160.0</td>\n",
       "      <td>1540.0</td>\n",
       "      <td>0.0</td>\n",
       "      <td>0.0</td>\n",
       "      <td>3292.0</td>\n",
       "    </tr>\n",
       "  </tbody>\n",
       "</table>\n",
       "</div>"
      ],
      "text/plain": [
       "        NEWID  INCLASS  FINCBTXM  iTotalExp  iFoodAtHome  iFoodAway  iHousing  \\\n",
       "1360  3057933        1    6155.0   101969.6       5436.0     4492.0   40720.0   \n",
       "1692  3105982        1   10536.0   723291.8       8500.0     3600.0   75037.0   \n",
       "1932  3170291        1    9310.0    67181.6       7520.0     1980.0   45476.0   \n",
       "2611  3105983        1    9906.0    75915.8       5880.0     5520.0   40649.0   \n",
       "2717  3149212        1    3756.0    75077.6      12296.0     1480.0   40132.0   \n",
       "\n",
       "      iUtilites  iClothingAndBeauty  iTransportation  iHealthcare  \\\n",
       "1360     6060.0              1640.0          18032.0      16593.6   \n",
       "1692     8148.0              3280.0           2600.0      31578.8   \n",
       "1932     5456.0               936.0           9916.0       5277.6   \n",
       "2611     3780.0               800.0           6076.0       9938.8   \n",
       "2717     5480.0              2320.0           6276.0       5241.6   \n",
       "\n",
       "      iEntertainment  iMiscellaneous  iCharitableAndFamilyGiving  iInsurance  \\\n",
       "1360          6260.0             0.0                      4800.0         0.0   \n",
       "1692         10424.0             0.0                    600000.0         0.0   \n",
       "1932          1428.0             0.0                      3120.0         0.0   \n",
       "2611         14188.0             0.0                         0.0         0.0   \n",
       "2717          2444.0          1160.0                      1540.0         0.0   \n",
       "\n",
       "      iEducation  iHousingPrinciple  \n",
       "1360         0.0             2064.0  \n",
       "1692         0.0            19876.0  \n",
       "1932         0.0            13928.0  \n",
       "2611         0.0            10916.0  \n",
       "2717         0.0             3292.0  "
      ]
     },
     "execution_count": 18,
     "metadata": {},
     "output_type": "execute_result"
    }
   ],
   "source": [
    "outerOutliers = inclassExpenses.copy()\n",
    "outerOutliers = outerOutliers.ix[outerFence,:]\n",
    "print(\"Number of outliers in each income class: \"+str(outerOutliers.INCLASS.value_counts().values))\n",
    "outerOutliers.head()"
   ]
  },
  {
   "cell_type": "markdown",
   "metadata": {
    "slideshow": {
     "slide_type": "-"
    }
   },
   "source": [
    "### Things learned from removing outliers\n",
    "- Removing outliers helped some of the standard deviation crazyness\n",
    "- Higher incomebrackets have greater standard deviation even without outliers"
   ]
  },
  {
   "cell_type": "markdown",
   "metadata": {},
   "source": [
    "### Creating the percentage output for cleaned dataframe"
   ]
  },
  {
   "cell_type": "code",
   "execution_count": 19,
   "metadata": {
    "collapsed": false
   },
   "outputs": [
    {
     "data": {
      "text/html": [
       "<div>\n",
       "<table border=\"1\" class=\"dataframe\">\n",
       "  <thead>\n",
       "    <tr style=\"text-align: right;\">\n",
       "      <th></th>\n",
       "      <th>iFoodAtHome</th>\n",
       "      <th>iFoodAway</th>\n",
       "      <th>iHousing</th>\n",
       "      <th>iUtilites</th>\n",
       "      <th>iClothingAndBeauty</th>\n",
       "      <th>iTransportation</th>\n",
       "      <th>iHealthcare</th>\n",
       "      <th>iEntertainment</th>\n",
       "      <th>iMiscellaneous</th>\n",
       "      <th>iCharitableAndFamilyGiving</th>\n",
       "      <th>iInsurance</th>\n",
       "      <th>iEducation</th>\n",
       "      <th>iHousingPrinciple</th>\n",
       "      <th>ExpInc</th>\n",
       "    </tr>\n",
       "  </thead>\n",
       "  <tbody>\n",
       "    <tr>\n",
       "      <th>0</th>\n",
       "      <td>0.148888</td>\n",
       "      <td>0.068139</td>\n",
       "      <td>0.269587</td>\n",
       "      <td>0.108119</td>\n",
       "      <td>0.024487</td>\n",
       "      <td>0.145690</td>\n",
       "      <td>0.136183</td>\n",
       "      <td>0.049430</td>\n",
       "      <td>0.037810</td>\n",
       "      <td>0.032606</td>\n",
       "      <td>0.003837</td>\n",
       "      <td>0.001513</td>\n",
       "      <td>0.026289</td>\n",
       "      <td>1.000000</td>\n",
       "    </tr>\n",
       "    <tr>\n",
       "      <th>1</th>\n",
       "      <td>0.144998</td>\n",
       "      <td>0.064779</td>\n",
       "      <td>0.258775</td>\n",
       "      <td>0.119109</td>\n",
       "      <td>0.028593</td>\n",
       "      <td>0.160955</td>\n",
       "      <td>0.122408</td>\n",
       "      <td>0.055757</td>\n",
       "      <td>0.018276</td>\n",
       "      <td>0.039247</td>\n",
       "      <td>0.006130</td>\n",
       "      <td>0.002759</td>\n",
       "      <td>0.021787</td>\n",
       "      <td>1.000000</td>\n",
       "    </tr>\n",
       "    <tr>\n",
       "      <th>2</th>\n",
       "      <td>0.135420</td>\n",
       "      <td>0.065663</td>\n",
       "      <td>0.232938</td>\n",
       "      <td>0.107355</td>\n",
       "      <td>0.026068</td>\n",
       "      <td>0.175181</td>\n",
       "      <td>0.150051</td>\n",
       "      <td>0.068303</td>\n",
       "      <td>0.018032</td>\n",
       "      <td>0.035643</td>\n",
       "      <td>0.004523</td>\n",
       "      <td>0.004030</td>\n",
       "      <td>0.023206</td>\n",
       "      <td>1.000000</td>\n",
       "    </tr>\n",
       "    <tr>\n",
       "      <th>3</th>\n",
       "      <td>0.128375</td>\n",
       "      <td>0.066590</td>\n",
       "      <td>0.243104</td>\n",
       "      <td>0.102664</td>\n",
       "      <td>0.025355</td>\n",
       "      <td>0.182555</td>\n",
       "      <td>0.136653</td>\n",
       "      <td>0.057959</td>\n",
       "      <td>0.021995</td>\n",
       "      <td>0.051732</td>\n",
       "      <td>0.008319</td>\n",
       "      <td>0.003192</td>\n",
       "      <td>0.028493</td>\n",
       "      <td>1.000000</td>\n",
       "    </tr>\n",
       "    <tr>\n",
       "      <th>4</th>\n",
       "      <td>0.121287</td>\n",
       "      <td>0.060107</td>\n",
       "      <td>0.238703</td>\n",
       "      <td>0.098673</td>\n",
       "      <td>0.026301</td>\n",
       "      <td>0.208177</td>\n",
       "      <td>0.143188</td>\n",
       "      <td>0.059027</td>\n",
       "      <td>0.016835</td>\n",
       "      <td>0.045737</td>\n",
       "      <td>0.007741</td>\n",
       "      <td>0.005217</td>\n",
       "      <td>0.030995</td>\n",
       "      <td>0.853281</td>\n",
       "    </tr>\n",
       "    <tr>\n",
       "      <th>5</th>\n",
       "      <td>0.116091</td>\n",
       "      <td>0.064386</td>\n",
       "      <td>0.251769</td>\n",
       "      <td>0.093029</td>\n",
       "      <td>0.030269</td>\n",
       "      <td>0.192889</td>\n",
       "      <td>0.139245</td>\n",
       "      <td>0.056608</td>\n",
       "      <td>0.020103</td>\n",
       "      <td>0.060814</td>\n",
       "      <td>0.007457</td>\n",
       "      <td>0.001563</td>\n",
       "      <td>0.034224</td>\n",
       "      <td>0.737278</td>\n",
       "    </tr>\n",
       "    <tr>\n",
       "      <th>6</th>\n",
       "      <td>0.112672</td>\n",
       "      <td>0.060280</td>\n",
       "      <td>0.268898</td>\n",
       "      <td>0.084467</td>\n",
       "      <td>0.036333</td>\n",
       "      <td>0.194903</td>\n",
       "      <td>0.140696</td>\n",
       "      <td>0.053703</td>\n",
       "      <td>0.013679</td>\n",
       "      <td>0.050000</td>\n",
       "      <td>0.009725</td>\n",
       "      <td>0.007576</td>\n",
       "      <td>0.032931</td>\n",
       "      <td>0.714601</td>\n",
       "    </tr>\n",
       "    <tr>\n",
       "      <th>7</th>\n",
       "      <td>0.106200</td>\n",
       "      <td>0.059637</td>\n",
       "      <td>0.254975</td>\n",
       "      <td>0.083592</td>\n",
       "      <td>0.027047</td>\n",
       "      <td>0.236836</td>\n",
       "      <td>0.123779</td>\n",
       "      <td>0.055337</td>\n",
       "      <td>0.017529</td>\n",
       "      <td>0.055167</td>\n",
       "      <td>0.011112</td>\n",
       "      <td>0.006897</td>\n",
       "      <td>0.038109</td>\n",
       "      <td>0.651017</td>\n",
       "    </tr>\n",
       "    <tr>\n",
       "      <th>8</th>\n",
       "      <td>0.098148</td>\n",
       "      <td>0.065743</td>\n",
       "      <td>0.252878</td>\n",
       "      <td>0.077720</td>\n",
       "      <td>0.031233</td>\n",
       "      <td>0.219895</td>\n",
       "      <td>0.118997</td>\n",
       "      <td>0.085446</td>\n",
       "      <td>0.016692</td>\n",
       "      <td>0.066181</td>\n",
       "      <td>0.008014</td>\n",
       "      <td>0.007348</td>\n",
       "      <td>0.048293</td>\n",
       "      <td>0.616466</td>\n",
       "    </tr>\n",
       "    <tr>\n",
       "      <th>9</th>\n",
       "      <td>0.098251</td>\n",
       "      <td>0.058407</td>\n",
       "      <td>0.298776</td>\n",
       "      <td>0.085857</td>\n",
       "      <td>0.032020</td>\n",
       "      <td>0.216340</td>\n",
       "      <td>0.109029</td>\n",
       "      <td>0.060038</td>\n",
       "      <td>0.015345</td>\n",
       "      <td>0.057694</td>\n",
       "      <td>0.010027</td>\n",
       "      <td>0.016975</td>\n",
       "      <td>0.058757</td>\n",
       "      <td>0.515680</td>\n",
       "    </tr>\n",
       "    <tr>\n",
       "      <th>10</th>\n",
       "      <td>0.105056</td>\n",
       "      <td>0.061907</td>\n",
       "      <td>0.333146</td>\n",
       "      <td>0.072827</td>\n",
       "      <td>0.039305</td>\n",
       "      <td>0.163080</td>\n",
       "      <td>0.101917</td>\n",
       "      <td>0.077292</td>\n",
       "      <td>0.030650</td>\n",
       "      <td>0.036032</td>\n",
       "      <td>0.019046</td>\n",
       "      <td>0.011618</td>\n",
       "      <td>0.051875</td>\n",
       "      <td>0.478995</td>\n",
       "    </tr>\n",
       "    <tr>\n",
       "      <th>11</th>\n",
       "      <td>0.082571</td>\n",
       "      <td>0.076529</td>\n",
       "      <td>0.289325</td>\n",
       "      <td>0.066642</td>\n",
       "      <td>0.042836</td>\n",
       "      <td>0.194891</td>\n",
       "      <td>0.080722</td>\n",
       "      <td>0.063552</td>\n",
       "      <td>0.016537</td>\n",
       "      <td>0.102978</td>\n",
       "      <td>0.006989</td>\n",
       "      <td>0.023053</td>\n",
       "      <td>0.046625</td>\n",
       "      <td>0.403247</td>\n",
       "    </tr>\n",
       "    <tr>\n",
       "      <th>12</th>\n",
       "      <td>0.092417</td>\n",
       "      <td>0.059632</td>\n",
       "      <td>0.310660</td>\n",
       "      <td>0.068736</td>\n",
       "      <td>0.041088</td>\n",
       "      <td>0.225347</td>\n",
       "      <td>0.086381</td>\n",
       "      <td>0.055463</td>\n",
       "      <td>0.027708</td>\n",
       "      <td>0.051898</td>\n",
       "      <td>0.010986</td>\n",
       "      <td>0.011999</td>\n",
       "      <td>0.042316</td>\n",
       "      <td>0.352111</td>\n",
       "    </tr>\n",
       "    <tr>\n",
       "      <th>13</th>\n",
       "      <td>0.067704</td>\n",
       "      <td>0.070401</td>\n",
       "      <td>0.299120</td>\n",
       "      <td>0.046706</td>\n",
       "      <td>0.040404</td>\n",
       "      <td>0.219618</td>\n",
       "      <td>0.073027</td>\n",
       "      <td>0.065363</td>\n",
       "      <td>0.041620</td>\n",
       "      <td>0.078207</td>\n",
       "      <td>0.009394</td>\n",
       "      <td>0.025891</td>\n",
       "      <td>0.037456</td>\n",
       "      <td>0.393561</td>\n",
       "    </tr>\n",
       "  </tbody>\n",
       "</table>\n",
       "</div>"
      ],
      "text/plain": [
       "    iFoodAtHome  iFoodAway  iHousing  iUtilites  iClothingAndBeauty  \\\n",
       "0      0.148888   0.068139  0.269587   0.108119            0.024487   \n",
       "1      0.144998   0.064779  0.258775   0.119109            0.028593   \n",
       "2      0.135420   0.065663  0.232938   0.107355            0.026068   \n",
       "3      0.128375   0.066590  0.243104   0.102664            0.025355   \n",
       "4      0.121287   0.060107  0.238703   0.098673            0.026301   \n",
       "5      0.116091   0.064386  0.251769   0.093029            0.030269   \n",
       "6      0.112672   0.060280  0.268898   0.084467            0.036333   \n",
       "7      0.106200   0.059637  0.254975   0.083592            0.027047   \n",
       "8      0.098148   0.065743  0.252878   0.077720            0.031233   \n",
       "9      0.098251   0.058407  0.298776   0.085857            0.032020   \n",
       "10     0.105056   0.061907  0.333146   0.072827            0.039305   \n",
       "11     0.082571   0.076529  0.289325   0.066642            0.042836   \n",
       "12     0.092417   0.059632  0.310660   0.068736            0.041088   \n",
       "13     0.067704   0.070401  0.299120   0.046706            0.040404   \n",
       "\n",
       "    iTransportation  iHealthcare  iEntertainment  iMiscellaneous  \\\n",
       "0          0.145690     0.136183        0.049430        0.037810   \n",
       "1          0.160955     0.122408        0.055757        0.018276   \n",
       "2          0.175181     0.150051        0.068303        0.018032   \n",
       "3          0.182555     0.136653        0.057959        0.021995   \n",
       "4          0.208177     0.143188        0.059027        0.016835   \n",
       "5          0.192889     0.139245        0.056608        0.020103   \n",
       "6          0.194903     0.140696        0.053703        0.013679   \n",
       "7          0.236836     0.123779        0.055337        0.017529   \n",
       "8          0.219895     0.118997        0.085446        0.016692   \n",
       "9          0.216340     0.109029        0.060038        0.015345   \n",
       "10         0.163080     0.101917        0.077292        0.030650   \n",
       "11         0.194891     0.080722        0.063552        0.016537   \n",
       "12         0.225347     0.086381        0.055463        0.027708   \n",
       "13         0.219618     0.073027        0.065363        0.041620   \n",
       "\n",
       "    iCharitableAndFamilyGiving  iInsurance  iEducation  iHousingPrinciple  \\\n",
       "0                     0.032606    0.003837    0.001513           0.026289   \n",
       "1                     0.039247    0.006130    0.002759           0.021787   \n",
       "2                     0.035643    0.004523    0.004030           0.023206   \n",
       "3                     0.051732    0.008319    0.003192           0.028493   \n",
       "4                     0.045737    0.007741    0.005217           0.030995   \n",
       "5                     0.060814    0.007457    0.001563           0.034224   \n",
       "6                     0.050000    0.009725    0.007576           0.032931   \n",
       "7                     0.055167    0.011112    0.006897           0.038109   \n",
       "8                     0.066181    0.008014    0.007348           0.048293   \n",
       "9                     0.057694    0.010027    0.016975           0.058757   \n",
       "10                    0.036032    0.019046    0.011618           0.051875   \n",
       "11                    0.102978    0.006989    0.023053           0.046625   \n",
       "12                    0.051898    0.010986    0.011999           0.042316   \n",
       "13                    0.078207    0.009394    0.025891           0.037456   \n",
       "\n",
       "      ExpInc  \n",
       "0   1.000000  \n",
       "1   1.000000  \n",
       "2   1.000000  \n",
       "3   1.000000  \n",
       "4   0.853281  \n",
       "5   0.737278  \n",
       "6   0.714601  \n",
       "7   0.651017  \n",
       "8   0.616466  \n",
       "9   0.515680  \n",
       "10  0.478995  \n",
       "11  0.403247  \n",
       "12  0.352111  \n",
       "13  0.393561  "
      ]
     },
     "execution_count": 19,
     "metadata": {},
     "output_type": "execute_result"
    }
   ],
   "source": [
    "# creating percentage outputs for cleaned dataframe\n",
    "inclassCleanAverages1 = round(clean1.ix[: ,clean1.columns != 'NEWID'].groupby(['INCLASS'],as_index=False).mean(),2)\n",
    "# creating new dataframe for the percentages that only includes the plynty categories\n",
    "cleanPercentages1 = inclassCleanAverages1.loc[:,rollupNames[1:]]\n",
    "for column in rollupNames[1:]:\n",
    "    cleanPercentages1[column] = inclassCleanAverages1[column]/inclassCleanAverages1.iTotalExp\n",
    "cleanPercentages1['ExpInc'] = inclassCleanAverages1['iTotalExp']/inclassCleanAverages1['FINCBTXM']\n",
    "# truncate the max ExpInc\n",
    "cleanPercentages1.ExpInc.ix[cleanPercentages1['ExpInc']>1] = 1\n",
    "cleanPercentages1"
   ]
  },
  {
   "cell_type": "code",
   "execution_count": 20,
   "metadata": {
    "collapsed": false,
    "scrolled": true
   },
   "outputs": [
    {
     "data": {
      "text/html": [
       "<div>\n",
       "<table border=\"1\" class=\"dataframe\">\n",
       "  <thead>\n",
       "    <tr style=\"text-align: right;\">\n",
       "      <th></th>\n",
       "      <th>iFoodAtHome</th>\n",
       "      <th>iFoodAway</th>\n",
       "      <th>iHousing</th>\n",
       "      <th>iUtilites</th>\n",
       "      <th>iClothingAndBeauty</th>\n",
       "      <th>iTransportation</th>\n",
       "      <th>iHealthcare</th>\n",
       "      <th>iEntertainment</th>\n",
       "      <th>iMiscellaneous</th>\n",
       "      <th>iCharitableAndFamilyGiving</th>\n",
       "      <th>iInsurance</th>\n",
       "      <th>iEducation</th>\n",
       "      <th>iHousingPrinciple</th>\n",
       "      <th>ExpInc</th>\n",
       "    </tr>\n",
       "  </thead>\n",
       "  <tbody>\n",
       "    <tr>\n",
       "      <th>0</th>\n",
       "      <td>0.141788</td>\n",
       "      <td>0.070315</td>\n",
       "      <td>0.292426</td>\n",
       "      <td>0.103965</td>\n",
       "      <td>0.025436</td>\n",
       "      <td>0.142300</td>\n",
       "      <td>0.134102</td>\n",
       "      <td>0.052973</td>\n",
       "      <td>0.033461</td>\n",
       "      <td>0.031246</td>\n",
       "      <td>0.003952</td>\n",
       "      <td>0.001611</td>\n",
       "      <td>0.033576</td>\n",
       "      <td>1.000000</td>\n",
       "    </tr>\n",
       "    <tr>\n",
       "      <th>1</th>\n",
       "      <td>0.140263</td>\n",
       "      <td>0.063131</td>\n",
       "      <td>0.275928</td>\n",
       "      <td>0.116688</td>\n",
       "      <td>0.028040</td>\n",
       "      <td>0.158893</td>\n",
       "      <td>0.122407</td>\n",
       "      <td>0.054757</td>\n",
       "      <td>0.017529</td>\n",
       "      <td>0.041346</td>\n",
       "      <td>0.006658</td>\n",
       "      <td>0.003322</td>\n",
       "      <td>0.028962</td>\n",
       "      <td>1.000000</td>\n",
       "    </tr>\n",
       "    <tr>\n",
       "      <th>2</th>\n",
       "      <td>0.131172</td>\n",
       "      <td>0.065136</td>\n",
       "      <td>0.247196</td>\n",
       "      <td>0.102464</td>\n",
       "      <td>0.026658</td>\n",
       "      <td>0.168816</td>\n",
       "      <td>0.148365</td>\n",
       "      <td>0.067124</td>\n",
       "      <td>0.017198</td>\n",
       "      <td>0.043460</td>\n",
       "      <td>0.004365</td>\n",
       "      <td>0.004089</td>\n",
       "      <td>0.026043</td>\n",
       "      <td>1.000000</td>\n",
       "    </tr>\n",
       "    <tr>\n",
       "      <th>3</th>\n",
       "      <td>0.125969</td>\n",
       "      <td>0.066110</td>\n",
       "      <td>0.255513</td>\n",
       "      <td>0.100463</td>\n",
       "      <td>0.026133</td>\n",
       "      <td>0.181422</td>\n",
       "      <td>0.135439</td>\n",
       "      <td>0.057424</td>\n",
       "      <td>0.020944</td>\n",
       "      <td>0.051033</td>\n",
       "      <td>0.008027</td>\n",
       "      <td>0.002999</td>\n",
       "      <td>0.031478</td>\n",
       "      <td>1.000000</td>\n",
       "    </tr>\n",
       "    <tr>\n",
       "      <th>4</th>\n",
       "      <td>0.118188</td>\n",
       "      <td>0.061006</td>\n",
       "      <td>0.253149</td>\n",
       "      <td>0.095618</td>\n",
       "      <td>0.026913</td>\n",
       "      <td>0.202536</td>\n",
       "      <td>0.139948</td>\n",
       "      <td>0.059539</td>\n",
       "      <td>0.016778</td>\n",
       "      <td>0.046585</td>\n",
       "      <td>0.007616</td>\n",
       "      <td>0.004857</td>\n",
       "      <td>0.032732</td>\n",
       "      <td>0.883754</td>\n",
       "    </tr>\n",
       "    <tr>\n",
       "      <th>5</th>\n",
       "      <td>0.112913</td>\n",
       "      <td>0.064355</td>\n",
       "      <td>0.264209</td>\n",
       "      <td>0.090454</td>\n",
       "      <td>0.029498</td>\n",
       "      <td>0.196199</td>\n",
       "      <td>0.134511</td>\n",
       "      <td>0.054899</td>\n",
       "      <td>0.018994</td>\n",
       "      <td>0.058855</td>\n",
       "      <td>0.007248</td>\n",
       "      <td>0.001505</td>\n",
       "      <td>0.033640</td>\n",
       "      <td>0.762756</td>\n",
       "    </tr>\n",
       "    <tr>\n",
       "      <th>6</th>\n",
       "      <td>0.110199</td>\n",
       "      <td>0.060528</td>\n",
       "      <td>0.286256</td>\n",
       "      <td>0.082707</td>\n",
       "      <td>0.035254</td>\n",
       "      <td>0.189977</td>\n",
       "      <td>0.137201</td>\n",
       "      <td>0.052650</td>\n",
       "      <td>0.013190</td>\n",
       "      <td>0.049494</td>\n",
       "      <td>0.009882</td>\n",
       "      <td>0.007164</td>\n",
       "      <td>0.034503</td>\n",
       "      <td>0.730957</td>\n",
       "    </tr>\n",
       "    <tr>\n",
       "      <th>7</th>\n",
       "      <td>0.104964</td>\n",
       "      <td>0.059621</td>\n",
       "      <td>0.269344</td>\n",
       "      <td>0.082125</td>\n",
       "      <td>0.027078</td>\n",
       "      <td>0.231889</td>\n",
       "      <td>0.121541</td>\n",
       "      <td>0.054757</td>\n",
       "      <td>0.017240</td>\n",
       "      <td>0.054726</td>\n",
       "      <td>0.011076</td>\n",
       "      <td>0.007560</td>\n",
       "      <td>0.041920</td>\n",
       "      <td>0.661062</td>\n",
       "    </tr>\n",
       "    <tr>\n",
       "      <th>8</th>\n",
       "      <td>0.096866</td>\n",
       "      <td>0.066141</td>\n",
       "      <td>0.265168</td>\n",
       "      <td>0.076273</td>\n",
       "      <td>0.031116</td>\n",
       "      <td>0.215333</td>\n",
       "      <td>0.115871</td>\n",
       "      <td>0.084283</td>\n",
       "      <td>0.016500</td>\n",
       "      <td>0.067527</td>\n",
       "      <td>0.007611</td>\n",
       "      <td>0.006978</td>\n",
       "      <td>0.049668</td>\n",
       "      <td>0.630250</td>\n",
       "    </tr>\n",
       "    <tr>\n",
       "      <th>9</th>\n",
       "      <td>0.097533</td>\n",
       "      <td>0.062953</td>\n",
       "      <td>0.313305</td>\n",
       "      <td>0.084780</td>\n",
       "      <td>0.031531</td>\n",
       "      <td>0.210965</td>\n",
       "      <td>0.105632</td>\n",
       "      <td>0.059216</td>\n",
       "      <td>0.014886</td>\n",
       "      <td>0.056027</td>\n",
       "      <td>0.009911</td>\n",
       "      <td>0.016304</td>\n",
       "      <td>0.063044</td>\n",
       "      <td>0.523065</td>\n",
       "    </tr>\n",
       "    <tr>\n",
       "      <th>10</th>\n",
       "      <td>0.102648</td>\n",
       "      <td>0.063847</td>\n",
       "      <td>0.349196</td>\n",
       "      <td>0.071886</td>\n",
       "      <td>0.038490</td>\n",
       "      <td>0.159206</td>\n",
       "      <td>0.101896</td>\n",
       "      <td>0.076236</td>\n",
       "      <td>0.029765</td>\n",
       "      <td>0.037066</td>\n",
       "      <td>0.019938</td>\n",
       "      <td>0.013209</td>\n",
       "      <td>0.063383</td>\n",
       "      <td>0.484590</td>\n",
       "    </tr>\n",
       "    <tr>\n",
       "      <th>11</th>\n",
       "      <td>0.080542</td>\n",
       "      <td>0.074382</td>\n",
       "      <td>0.295272</td>\n",
       "      <td>0.065233</td>\n",
       "      <td>0.041124</td>\n",
       "      <td>0.202233</td>\n",
       "      <td>0.078166</td>\n",
       "      <td>0.063965</td>\n",
       "      <td>0.016088</td>\n",
       "      <td>0.098863</td>\n",
       "      <td>0.007362</td>\n",
       "      <td>0.022037</td>\n",
       "      <td>0.045267</td>\n",
       "      <td>0.413718</td>\n",
       "    </tr>\n",
       "    <tr>\n",
       "      <th>12</th>\n",
       "      <td>0.092009</td>\n",
       "      <td>0.059107</td>\n",
       "      <td>0.318696</td>\n",
       "      <td>0.067673</td>\n",
       "      <td>0.040316</td>\n",
       "      <td>0.222568</td>\n",
       "      <td>0.085566</td>\n",
       "      <td>0.054808</td>\n",
       "      <td>0.027159</td>\n",
       "      <td>0.051678</td>\n",
       "      <td>0.010722</td>\n",
       "      <td>0.011711</td>\n",
       "      <td>0.042012</td>\n",
       "      <td>0.355525</td>\n",
       "    </tr>\n",
       "    <tr>\n",
       "      <th>13</th>\n",
       "      <td>0.067704</td>\n",
       "      <td>0.070401</td>\n",
       "      <td>0.299120</td>\n",
       "      <td>0.046706</td>\n",
       "      <td>0.040404</td>\n",
       "      <td>0.219618</td>\n",
       "      <td>0.073027</td>\n",
       "      <td>0.065363</td>\n",
       "      <td>0.041620</td>\n",
       "      <td>0.078207</td>\n",
       "      <td>0.009394</td>\n",
       "      <td>0.025891</td>\n",
       "      <td>0.037456</td>\n",
       "      <td>0.393561</td>\n",
       "    </tr>\n",
       "  </tbody>\n",
       "</table>\n",
       "</div>"
      ],
      "text/plain": [
       "    iFoodAtHome  iFoodAway  iHousing  iUtilites  iClothingAndBeauty  \\\n",
       "0      0.141788   0.070315  0.292426   0.103965            0.025436   \n",
       "1      0.140263   0.063131  0.275928   0.116688            0.028040   \n",
       "2      0.131172   0.065136  0.247196   0.102464            0.026658   \n",
       "3      0.125969   0.066110  0.255513   0.100463            0.026133   \n",
       "4      0.118188   0.061006  0.253149   0.095618            0.026913   \n",
       "5      0.112913   0.064355  0.264209   0.090454            0.029498   \n",
       "6      0.110199   0.060528  0.286256   0.082707            0.035254   \n",
       "7      0.104964   0.059621  0.269344   0.082125            0.027078   \n",
       "8      0.096866   0.066141  0.265168   0.076273            0.031116   \n",
       "9      0.097533   0.062953  0.313305   0.084780            0.031531   \n",
       "10     0.102648   0.063847  0.349196   0.071886            0.038490   \n",
       "11     0.080542   0.074382  0.295272   0.065233            0.041124   \n",
       "12     0.092009   0.059107  0.318696   0.067673            0.040316   \n",
       "13     0.067704   0.070401  0.299120   0.046706            0.040404   \n",
       "\n",
       "    iTransportation  iHealthcare  iEntertainment  iMiscellaneous  \\\n",
       "0          0.142300     0.134102        0.052973        0.033461   \n",
       "1          0.158893     0.122407        0.054757        0.017529   \n",
       "2          0.168816     0.148365        0.067124        0.017198   \n",
       "3          0.181422     0.135439        0.057424        0.020944   \n",
       "4          0.202536     0.139948        0.059539        0.016778   \n",
       "5          0.196199     0.134511        0.054899        0.018994   \n",
       "6          0.189977     0.137201        0.052650        0.013190   \n",
       "7          0.231889     0.121541        0.054757        0.017240   \n",
       "8          0.215333     0.115871        0.084283        0.016500   \n",
       "9          0.210965     0.105632        0.059216        0.014886   \n",
       "10         0.159206     0.101896        0.076236        0.029765   \n",
       "11         0.202233     0.078166        0.063965        0.016088   \n",
       "12         0.222568     0.085566        0.054808        0.027159   \n",
       "13         0.219618     0.073027        0.065363        0.041620   \n",
       "\n",
       "    iCharitableAndFamilyGiving  iInsurance  iEducation  iHousingPrinciple  \\\n",
       "0                     0.031246    0.003952    0.001611           0.033576   \n",
       "1                     0.041346    0.006658    0.003322           0.028962   \n",
       "2                     0.043460    0.004365    0.004089           0.026043   \n",
       "3                     0.051033    0.008027    0.002999           0.031478   \n",
       "4                     0.046585    0.007616    0.004857           0.032732   \n",
       "5                     0.058855    0.007248    0.001505           0.033640   \n",
       "6                     0.049494    0.009882    0.007164           0.034503   \n",
       "7                     0.054726    0.011076    0.007560           0.041920   \n",
       "8                     0.067527    0.007611    0.006978           0.049668   \n",
       "9                     0.056027    0.009911    0.016304           0.063044   \n",
       "10                    0.037066    0.019938    0.013209           0.063383   \n",
       "11                    0.098863    0.007362    0.022037           0.045267   \n",
       "12                    0.051678    0.010722    0.011711           0.042012   \n",
       "13                    0.078207    0.009394    0.025891           0.037456   \n",
       "\n",
       "      ExpInc  \n",
       "0   1.000000  \n",
       "1   1.000000  \n",
       "2   1.000000  \n",
       "3   1.000000  \n",
       "4   0.883754  \n",
       "5   0.762756  \n",
       "6   0.730957  \n",
       "7   0.661062  \n",
       "8   0.630250  \n",
       "9   0.523065  \n",
       "10  0.484590  \n",
       "11  0.413718  \n",
       "12  0.355525  \n",
       "13  0.393561  "
      ]
     },
     "execution_count": 20,
     "metadata": {},
     "output_type": "execute_result"
    }
   ],
   "source": [
    "# creating percentage outputs for cleaned dataframe\n",
    "inclassCleanAverages2 = round(clean2.ix[: ,clean2.columns != 'NEWID'].groupby(['INCLASS'],as_index=False).mean(),2)\n",
    "# creating new dataframe for the percentages that only includes the plynty categories\n",
    "cleanPercentages2 = inclassCleanAverages2.loc[:,rollupNames[1:]]\n",
    "for column in rollupNames[1:]:\n",
    "    cleanPercentages2[column] = inclassCleanAverages2[column]/inclassCleanAverages2.iTotalExp\n",
    "cleanPercentages2['ExpInc'] = inclassCleanAverages2['iTotalExp']/inclassCleanAverages2['FINCBTXM']\n",
    "# truncate the max ExpInc\n",
    "cleanPercentages2nonTruncated = cleanPercentages2.copy()\n",
    "cleanPercentages2.ExpInc.ix[cleanPercentages2['ExpInc']>1] = 1\n",
    "cleanPercentages2"
   ]
  },
  {
   "cell_type": "code",
   "execution_count": 21,
   "metadata": {
    "collapsed": false
   },
   "outputs": [
    {
     "data": {
      "text/plain": [
       "<matplotlib.text.Text at 0x119a69ef0>"
      ]
     },
     "execution_count": 21,
     "metadata": {},
     "output_type": "execute_result"
    }
   ],
   "source": [
    "plt.bar(cleanPercentages1.index, cleanPercentages1.ExpInc, color = 'b')\n",
    "plt.title(\"Percent of Income Expended per Income Class\")\n",
    "plt.xlabel(\"Income Class\")\n",
    "plt.ylabel(\"Percentage\")\n",
    "# plt.show()"
   ]
  },
  {
   "cell_type": "code",
   "execution_count": 22,
   "metadata": {
    "collapsed": false
   },
   "outputs": [
    {
     "data": {
      "text/plain": [
       "<matplotlib.text.Text at 0x119a69ef0>"
      ]
     },
     "execution_count": 22,
     "metadata": {},
     "output_type": "execute_result"
    }
   ],
   "source": [
    "plt.bar(cleanPercentages1.index, cleanPercentages1.iHousing, color = 'b')\n",
    "plt.ylim(0,.4)\n",
    "plt.title(\"Percent spent on Housing per Income Class (without outliers)\")\n",
    "plt.xlabel(\"Income class\")\n",
    "plt.ylabel(\"Percent spent on housing\")\n",
    "# plt.show()"
   ]
  },
  {
   "cell_type": "markdown",
   "metadata": {},
   "source": [
    "### Cell that determines how similar the neighbor rows are\n",
    "Potentially use this to combine similar rows.\n",
    "Can't figure out the correct statistical test to determine if rows are statistically similar\n",
    "\n",
    "###### The higher the difference value the more different the rows are. (low values mean similar rows)"
   ]
  },
  {
   "cell_type": "code",
   "execution_count": 23,
   "metadata": {
    "collapsed": false
   },
   "outputs": [
    {
     "name": "stdout",
     "output_type": "stream",
     "text": [
      "Income Bracket Range 1: $-inf - $11000\n",
      "Income Bracket Range 2: $11000 - $20000\n",
      "Number of CUs in Income Bracket 1: 866\n",
      "Number of CUs in Income Bracket 2: 770\n",
      "Rows in Percentage Dataframe: Row 0 and Row 1\n",
      "Column: iFoodAtHome\n",
      "Column: iClothingAndBeauty\n",
      "Column: iEntertainment\n",
      "Column: iInsurance\n",
      "Column: iEducation\n",
      "Column: iHousingPrinciple\n",
      "Column: ExpInc\n",
      "The difference value is: 13.96\n",
      "\n",
      "Income Bracket Range 1: $11000 - $20000\n",
      "Income Bracket Range 2: $20000 - $30000\n",
      "Number of CUs in Income Bracket 1: 770\n",
      "Number of CUs in Income Bracket 2: 613\n",
      "Rows in Percentage Dataframe: Row 1 and Row 2\n",
      "Column: iFoodAway\n",
      "Column: iClothingAndBeauty\n",
      "Column: iMiscellaneous\n",
      "Column: iCharitableAndFamilyGiving\n",
      "Column: iInsurance\n",
      "Column: iEducation\n",
      "Column: iHousingPrinciple\n",
      "Column: ExpInc\n",
      "The difference value is: 15.25\n",
      "\n",
      "Income Bracket Range 1: $20000 - $30000\n",
      "Income Bracket Range 2: $30000 - $43000\n",
      "Number of CUs in Income Bracket 1: 613\n",
      "Number of CUs in Income Bracket 2: 608\n",
      "Rows in Percentage Dataframe: Row 2 and Row 3\n",
      "Column: iFoodAway\n",
      "Column: iUtilites\n",
      "Column: iClothingAndBeauty\n",
      "Column: iMiscellaneous\n",
      "Column: iInsurance\n",
      "Column: iEducation\n",
      "Column: ExpInc\n",
      "The difference value is: 9.47\n",
      "\n",
      "Income Bracket Range 1: $30000 - $43000\n",
      "Income Bracket Range 2: $43000 - $55000\n",
      "Number of CUs in Income Bracket 1: 608\n",
      "Number of CUs in Income Bracket 2: 560\n",
      "Rows in Percentage Dataframe: Row 3 and Row 4\n",
      "Column: iHousing\n",
      "Column: iUtilites\n",
      "Column: iClothingAndBeauty\n",
      "Column: iHealthcare\n",
      "Column: iEntertainment\n",
      "Column: iMiscellaneous\n",
      "Column: iCharitableAndFamilyGiving\n",
      "Column: iInsurance\n",
      "Column: iEducation\n",
      "Column: iHousingPrinciple\n",
      "The difference value is: 20.28\n",
      "\n",
      "Income Bracket Range 1: $43000 - $55000\n",
      "Income Bracket Range 2: $55000 - $69000\n",
      "Number of CUs in Income Bracket 1: 560\n",
      "Number of CUs in Income Bracket 2: 467\n",
      "Rows in Percentage Dataframe: Row 4 and Row 5\n",
      "Column: iFoodAway\n",
      "Column: iClothingAndBeauty\n",
      "Column: iEntertainment\n",
      "Column: iMiscellaneous\n",
      "Column: iInsurance\n",
      "Column: iEducation\n",
      "Column: iHousingPrinciple\n",
      "The difference value is: 21.03\n",
      "\n",
      "Income Bracket Range 1: $55000 - $69000\n",
      "Income Bracket Range 2: $69000 - $80000\n",
      "Number of CUs in Income Bracket 1: 467\n",
      "Number of CUs in Income Bracket 2: 350\n",
      "Rows in Percentage Dataframe: Row 5 and Row 6\n",
      "Column: iFoodAtHome\n",
      "Column: iFoodAway\n",
      "Column: iHealthcare\n",
      "Column: iEntertainment\n",
      "Column: iInsurance\n",
      "Column: iHousingPrinciple\n",
      "The difference value is: 13.73\n",
      "\n",
      "Income Bracket Range 1: $69000 - $80000\n",
      "Income Bracket Range 2: $80000 - $100000\n",
      "Number of CUs in Income Bracket 1: 350\n",
      "Number of CUs in Income Bracket 2: 346\n",
      "Rows in Percentage Dataframe: Row 6 and Row 7\n",
      "Column: iFoodAway\n",
      "Column: iUtilites\n",
      "Column: iEntertainment\n",
      "Column: iMiscellaneous\n",
      "Column: iInsurance\n",
      "Column: iEducation\n",
      "The difference value is: 21.75\n",
      "\n",
      "Income Bracket Range 1: $80000 - $100000\n",
      "Income Bracket Range 2: $100000 - $120000\n",
      "Number of CUs in Income Bracket 1: 346\n",
      "Number of CUs in Income Bracket 2: 321\n",
      "Rows in Percentage Dataframe: Row 7 and Row 8\n",
      "Column: iHousing\n",
      "Column: iClothingAndBeauty\n",
      "Column: iMiscellaneous\n",
      "Column: iInsurance\n",
      "Column: iEducation\n",
      "The difference value is: 16.85\n",
      "\n",
      "Income Bracket Range 1: $100000 - $120000\n",
      "Income Bracket Range 2: $120000 - $150000\n",
      "Number of CUs in Income Bracket 1: 321\n",
      "Number of CUs in Income Bracket 2: 249\n",
      "Rows in Percentage Dataframe: Row 8 and Row 9\n",
      "Column: iFoodAtHome\n",
      "Column: iFoodAway\n",
      "Column: iClothingAndBeauty\n",
      "Column: iTransportation\n",
      "Column: iMiscellaneous\n",
      "Column: iInsurance\n",
      "The difference value is: 29.38\n",
      "\n",
      "Income Bracket Range 1: $120000 - $150000\n",
      "Income Bracket Range 2: $150000 - $200000\n",
      "Number of CUs in Income Bracket 1: 249\n",
      "Number of CUs in Income Bracket 2: 206\n",
      "Rows in Percentage Dataframe: Row 9 and Row 10\n",
      "Column: iFoodAway\n",
      "Column: iHealthcare\n",
      "Column: iEducation\n",
      "Column: iHousingPrinciple\n",
      "The difference value is: 28.01\n",
      "\n",
      "Income Bracket Range 1: $150000 - $200000\n",
      "Income Bracket Range 2: $200000 - $250000\n",
      "Number of CUs in Income Bracket 1: 206\n",
      "Number of CUs in Income Bracket 2: 141\n",
      "Rows in Percentage Dataframe: Row 10 and Row 11\n",
      "Column: iClothingAndBeauty\n",
      "The difference value is: 44.93\n",
      "\n",
      "Income Bracket Range 1: $200000 - $250000\n",
      "Income Bracket Range 2: $250000 - $300000\n",
      "Number of CUs in Income Bracket 1: 141\n",
      "Number of CUs in Income Bracket 2: 75\n",
      "Rows in Percentage Dataframe: Row 11 and Row 12\n",
      "Column: iUtilites\n",
      "Column: iClothingAndBeauty\n",
      "Column: iInsurance\n",
      "Column: iHousingPrinciple\n",
      "The difference value is: 27.46\n",
      "\n",
      "Income Bracket Range 1: $250000 - $300000\n",
      "Income Bracket Range 2: $300000 - $inf\n",
      "Number of CUs in Income Bracket 1: 75\n",
      "Number of CUs in Income Bracket 2: 64\n",
      "Rows in Percentage Dataframe: Row 12 and Row 13\n",
      "Column: iClothingAndBeauty\n",
      "Column: iTransportation\n",
      "Column: iInsurance\n",
      "Column: iHousingPrinciple\n",
      "The difference value is: 25.58\n",
      "\n"
     ]
    }
   ],
   "source": [
    "significance = 0.005\n",
    "for row in range(len(cleanPercentages2)-1):\n",
    "    print(\"Income Bracket Range 1: $\"+str(incomeBrackets[row])+\" - \"+\"$\"+str(incomeBrackets[row+1]))\n",
    "    print(\"Income Bracket Range 2: $\"+str(incomeBrackets[row+1])+\" - \"+\"$\"+str(incomeBrackets[row+2]))\n",
    "    print(\"Number of CUs in Income Bracket 1: \"+str(inclassExpenses.INCLASS.value_counts().values[row]))\n",
    "    print(\"Number of CUs in Income Bracket 2: \"+str(inclassExpenses.INCLASS.value_counts().values[row+1]))\n",
    "    print(\"Rows in Percentage Dataframe: Row \"+str(row)+\" and Row \"+str(row+1))\n",
    "    difference = 0\n",
    "    for column in range(len(cleanPercentages2.columns)):\n",
    "        difference += (cleanPercentages2.loc[column].mean() * abs(cleanPercentages2.ix[row,column] - cleanPercentages2.ix[row+1,column]))\n",
    "        if abs(cleanPercentages2.ix[row,column] - cleanPercentages2.ix[row+1,column]) < significance:\n",
    "            print(\"Column: \"+str(cleanPercentages2.columns[column]))\n",
    "    print(\"The difference value is: \"+str(round(difference*1000,2)))\n",
    "    print()"
   ]
  },
  {
   "cell_type": "markdown",
   "metadata": {},
   "source": [
    "# Plots"
   ]
  },
  {
   "cell_type": "code",
   "execution_count": 24,
   "metadata": {
    "collapsed": false,
    "scrolled": true
   },
   "outputs": [
    {
     "name": "stdout",
     "output_type": "stream",
     "text": [
      "[866 770 613 608 560 467 350 346 321 249 206 141  75  64]\n"
     ]
    },
    {
     "data": {
      "text/plain": [
       "<matplotlib.text.Text at 0x119a69ef0>"
      ]
     },
     "execution_count": 24,
     "metadata": {},
     "output_type": "execute_result"
    }
   ],
   "source": [
    "# ploting the number of people in each bracket\n",
    "print(inclassExpenses.INCLASS.value_counts().values)\n",
    "plt.bar(list(inclassExpenses.INCLASS.value_counts().index.tolist()), inclassExpenses.INCLASS.value_counts().values, align='center', color = \"r\")\n",
    "plt.title(\"Number of CUs in Income classes (with outliers)\")\n",
    "plt.xlabel(\"Income Class\")\n",
    "plt.ylabel(\"Count\")\n",
    "# plt.show()"
   ]
  },
  {
   "cell_type": "code",
   "execution_count": 25,
   "metadata": {
    "collapsed": false
   },
   "outputs": [
    {
     "data": {
      "text/plain": [
       "<matplotlib.text.Text at 0x119a69ef0>"
      ]
     },
     "execution_count": 25,
     "metadata": {},
     "output_type": "execute_result"
    }
   ],
   "source": [
    "# creating the plot of percent of income expended per income class\n",
    "plt.bar(percentages.index, percentages.ExpInc, color = 'r')\n",
    "plt.title(\"Percent of Income Expended per Income Class (with outliers)\")\n",
    "plt.xlabel(\"Income Class\")\n",
    "plt.ylabel(\"Percentage\")\n",
    "# plt.show()"
   ]
  },
  {
   "cell_type": "code",
   "execution_count": 26,
   "metadata": {
    "collapsed": false,
    "scrolled": true
   },
   "outputs": [
    {
     "data": {
      "text/plain": [
       "<matplotlib.text.Text at 0x119a69ef0>"
      ]
     },
     "execution_count": 26,
     "metadata": {},
     "output_type": "execute_result"
    }
   ],
   "source": [
    "# creating plot of Percent spent on Housing per income class\n",
    "plt.bar(percentages.index, percentages.iHousing, color = 'r')\n",
    "plt.ylim(0,.4)\n",
    "plt.title(\"Percent spent on Housing per Income Class (with outliers)\")\n",
    "plt.xlabel(\"Income class\")\n",
    "plt.ylabel(\"Percent spent on housing\")\n",
    "# plt.show()"
   ]
  },
  {
   "cell_type": "code",
   "execution_count": 27,
   "metadata": {
    "collapsed": false,
    "scrolled": false
   },
   "outputs": [
    {
     "data": {
      "text/plain": [
       "<matplotlib.text.Text at 0x119a69ef0>"
      ]
     },
     "execution_count": 27,
     "metadata": {},
     "output_type": "execute_result"
    }
   ],
   "source": [
    "inclassSD = inclassExpenses.groupby(['INCLASS'],as_index=False).std()\n",
    "inclassSD.iHousing\n",
    "plt.bar(inclassSD.iHousing.index, inclassSD.iHousing, color = 'r')\n",
    "plt.title(\"Standard deviations in Income Classes (with outliers)\")\n",
    "plt.ylim(0,60000)\n",
    "plt.xlabel(\"Income Class\")\n",
    "plt.ylabel(\"Standard Deviation\")\n",
    "# plt.show()"
   ]
  },
  {
   "cell_type": "code",
   "execution_count": 28,
   "metadata": {
    "collapsed": false
   },
   "outputs": [
    {
     "name": "stdout",
     "output_type": "stream",
     "text": [
      "[824 719 580 567 532 446 334 332 295 233 200 136  70  63]\n"
     ]
    },
    {
     "data": {
      "text/plain": [
       "<matplotlib.text.Text at 0x119a69ef0>"
      ]
     },
     "execution_count": 28,
     "metadata": {},
     "output_type": "execute_result"
    }
   ],
   "source": [
    "# ploting the number of people in each bracket\n",
    "print(clean1.INCLASS.value_counts().values)\n",
    "plt.bar(list(clean1.INCLASS.value_counts().index.tolist()), clean1.INCLASS.value_counts().values, align='center', color=\"g\")\n",
    "plt.title(\"Number of CUs in Income classes (outer fence)\")\n",
    "plt.xlabel(\"Income Class\")\n",
    "plt.ylabel(\"Count\")\n",
    "# plt.show()"
   ]
  },
  {
   "cell_type": "code",
   "execution_count": 29,
   "metadata": {
    "collapsed": false,
    "scrolled": true
   },
   "outputs": [
    {
     "data": {
      "text/plain": [
       "<matplotlib.text.Text at 0x119a69ef0>"
      ]
     },
     "execution_count": 29,
     "metadata": {},
     "output_type": "execute_result"
    }
   ],
   "source": [
    "inclassClean1SD = clean1.groupby(['INCLASS'],as_index=False).std()\n",
    "inclassClean1SD.iHousing\n",
    "plt.bar(inclassClean1SD.iHousing.index, inclassClean1SD.iHousing,color = 'g')\n",
    "plt.ylim(0,60000)\n",
    "plt.title(\"Standard deviations in Income Classes (inner fence)\")\n",
    "plt.xlabel(\"Income Class\")\n",
    "plt.ylabel(\"Standard Deviation\")\n",
    "# plt.show()"
   ]
  },
  {
   "cell_type": "code",
   "execution_count": 30,
   "metadata": {
    "collapsed": false,
    "scrolled": true
   },
   "outputs": [
    {
     "name": "stdout",
     "output_type": "stream",
     "text": [
      "[851 748 602 589 550 460 344 344 313 239 205 139  70  64]\n"
     ]
    },
    {
     "data": {
      "text/plain": [
       "<matplotlib.text.Text at 0x119a69ef0>"
      ]
     },
     "execution_count": 30,
     "metadata": {},
     "output_type": "execute_result"
    }
   ],
   "source": [
    "# ploting the number of people in each bracket\n",
    "print(clean2.INCLASS.value_counts().values)\n",
    "plt.bar(list(clean2.INCLASS.value_counts().index.tolist()), clean2.INCLASS.value_counts().values, align='center', color=\"b\")\n",
    "plt.title(\"Number of CUs in Income classes (outer fence)\")\n",
    "plt.xlabel(\"Income Class\")\n",
    "plt.ylabel(\"Count\")\n",
    "# plt.show()"
   ]
  },
  {
   "cell_type": "code",
   "execution_count": 31,
   "metadata": {
    "collapsed": false
   },
   "outputs": [
    {
     "data": {
      "text/plain": [
       "<matplotlib.text.Text at 0x119a69ef0>"
      ]
     },
     "execution_count": 31,
     "metadata": {},
     "output_type": "execute_result"
    }
   ],
   "source": [
    "inclassClean2SD = clean2.groupby(['INCLASS'],as_index=False).std()\n",
    "inclassClean2SD.iHousing\n",
    "plt.bar(inclassClean2SD.iHousing.index, inclassClean2SD.iHousing,color = 'b')\n",
    "plt.ylim(0,60000)\n",
    "plt.title(\"Standard deviations in Income Classes (outer fence)\")\n",
    "plt.xlabel(\"Income Class\")\n",
    "plt.ylabel(\"Standard Deviation\")\n",
    "# plt.show()"
   ]
  },
  {
   "cell_type": "code",
   "execution_count": 32,
   "metadata": {
    "collapsed": false
   },
   "outputs": [
    {
     "data": {
      "image/png": "[encoded data removed]",
      "text/plain": [
       "<matplotlib.figure.Figure at 0x119d80d30>"
      ]
     },
     "metadata": {},
     "output_type": "display_data"
    }
   ],
   "source": [
    "plt.close()\n",
    "n_groups = 4\n",
    "values1 = inclassExpenses.INCLASS.value_counts().values\n",
    "values2 = clean1.INCLASS.value_counts().values\n",
    "values3 = clean2.INCLASS.value_counts().values\n",
    "\n",
    "fig, ax = plt.subplots()\n",
    "index = np.arange(n_groups)\n",
    "bar_width = 0.25\n",
    "opacity = 1\n",
    " \n",
    "rects1 = plt.bar(inclassExpenses.INCLASS.value_counts().index -1, values1, bar_width,\n",
    "                 alpha=opacity,\n",
    "                 color='r',\n",
    "                 label='With')\n",
    " \n",
    "rects2 = plt.bar(clean1.INCLASS.value_counts().index -1 + bar_width, values2, bar_width,\n",
    "                 alpha=opacity,\n",
    "                 color='g',\n",
    "                 label='Inner')\n",
    "\n",
    "rects3 = plt.bar(clean2.INCLASS.value_counts().index - 1 + bar_width*2, values3, bar_width,\n",
    "                 alpha=opacity,\n",
    "                 color='b',\n",
    "                 label='Outer')\n",
    "\n",
    "plt.xlabel('Income Class')\n",
    "plt.ylabel('Number of CUs')\n",
    "plt.title('Number of CUs per Income Class')\n",
    "plt.legend()\n",
    "plt.show()"
   ]
  },
  {
   "cell_type": "code",
   "execution_count": 33,
   "metadata": {
    "collapsed": false,
    "scrolled": false
   },
   "outputs": [
    {
     "name": "stdout",
     "output_type": "stream",
     "text": [
      "The average percent change between with and without outliers: 1.98%\n"
     ]
    },
    {
     "data": {
      "image/png": "[encoded data removed]",
      "text/plain": [
       "<matplotlib.figure.Figure at 0x11ce4ac50>"
      ]
     },
     "metadata": {},
     "output_type": "display_data"
    }
   ],
   "source": [
    "n_groups = 4\n",
    "values1 = percentages.iHousing\n",
    "values2 = cleanPercentages1.iHousing\n",
    "values3 = cleanPercentages2.iHousing\n",
    "\n",
    "print(\"The average percent change between with and without outliers: \"+str(round((values1-values3).mean()*100,2))+\"%\")\n",
    "\n",
    "fig, ax = plt.subplots()\n",
    "index = np.arange(n_groups)\n",
    "bar_width = 0.25\n",
    "opacity = 1\n",
    " \n",
    "rects1 = plt.bar(percentages.index, values1, bar_width,\n",
    "                 alpha=opacity,\n",
    "                 color='r',\n",
    "                 label='With')\n",
    " \n",
    "rects2 = plt.bar(cleanPercentages1.index + bar_width, values2, bar_width,\n",
    "                 alpha=opacity,\n",
    "                 color='g',\n",
    "                 label='Inner')\n",
    "\n",
    "rects3 = plt.bar(cleanPercentages2.index + bar_width*2, values3, bar_width,\n",
    "                 alpha=opacity,\n",
    "                 color='b',\n",
    "                 label='Outer')\n",
    "\n",
    "plt.xlabel('Income Class')\n",
    "plt.ylabel('Percent of Total Expenditures')\n",
    "plt.title('Percent Spent on Housing per Income Class')\n",
    "plt.ylim(0,.4)\n",
    "plt.legend()\n",
    "plt.show()"
   ]
  },
  {
   "cell_type": "code",
   "execution_count": 34,
   "metadata": {
    "collapsed": false
   },
   "outputs": [
    {
     "data": {
      "image/png": "[encoded data removed]",
      "text/plain": [
       "<matplotlib.figure.Figure at 0x11c993518>"
      ]
     },
     "metadata": {},
     "output_type": "display_data"
    }
   ],
   "source": [
    "n_groups = 4\n",
    "values1 = inclassSD.iHousing\n",
    "values2 = inclassClean1SD.iHousing\n",
    "values3 = inclassClean2SD.iHousing\n",
    "\n",
    "fig, ax = plt.subplots()\n",
    "index = np.arange(n_groups)\n",
    "bar_width = 0.25\n",
    "opacity = 1\n",
    " \n",
    "rects1 = plt.bar(percentages.index, values1, bar_width,\n",
    "                 alpha=opacity,\n",
    "                 color='r',\n",
    "                 label='With')\n",
    " \n",
    "rects2 = plt.bar(cleanPercentages1.index + bar_width, values2, bar_width,\n",
    "                 alpha=opacity,\n",
    "                 color='g',\n",
    "                 label='Inner')\n",
    "\n",
    "rects3 = plt.bar(cleanPercentages2.index + bar_width*2, values3, bar_width,\n",
    "                 alpha=opacity,\n",
    "                 color='b',\n",
    "                 label='Outer')\n",
    "\n",
    "plt.xlabel('Income Class')\n",
    "plt.ylabel('Standard Deviation (Dollars)')\n",
    "plt.title('Standard Deviation of money spent on Housing per Income Class')\n",
    "plt.legend()\n",
    "plt.show()"
   ]
  },
  {
   "cell_type": "code",
   "execution_count": 35,
   "metadata": {
    "collapsed": false,
    "scrolled": true
   },
   "outputs": [
    {
     "data": {
      "image/png": "[encoded data removed]",
      "text/plain": [
       "<matplotlib.figure.Figure at 0x1199d4128>"
      ]
     },
     "metadata": {},
     "output_type": "display_data"
    }
   ],
   "source": [
    "n_groups = 3\n",
    "values1 = percentages.ExpInc\n",
    "values2 = cleanPercentages1.ExpInc\n",
    "values3 = cleanPercentages2.ExpInc\n",
    "\n",
    "fig, ax = plt.subplots()\n",
    "index = np.arange(n_groups)\n",
    "bar_width = 0.25\n",
    "opacity = 1\n",
    " \n",
    "rects1 = plt.bar(percentages.index, values1, bar_width,\n",
    "                 alpha=opacity,\n",
    "                 color='r',\n",
    "                 label='With')\n",
    " \n",
    "rects2 = plt.bar(cleanPercentages1.index + bar_width, values2, bar_width,\n",
    "                 alpha=opacity,\n",
    "                 color='g',\n",
    "                 label='Outer Fence')\n",
    "\n",
    "rects3 = plt.bar(cleanPercentages2.index + bar_width*2, values3, bar_width,\n",
    "                 alpha=opacity,\n",
    "                 color='b',\n",
    "                 label='Inner Fence')\n",
    " \n",
    "plt.xlabel('Income Class')\n",
    "plt.ylabel('Percent of Income Expended')\n",
    "plt.title('Percent of Income Expent per Income Class')\n",
    "plt.legend()\n",
    "plt.show()"
   ]
  },
  {
   "cell_type": "markdown",
   "metadata": {},
   "source": [
    "# Least squares polynomial fit\n",
    "any value that would cause a person to expend over 100% of their income is truncated to 100%"
   ]
  },
  {
   "cell_type": "code",
   "execution_count": 36,
   "metadata": {
    "slideshow": "-"
   },
   "outputs": [
    {
     "name": "stdout",
     "output_type": "stream",
     "text": [
      "           3            2\n",
      "8.064e-13 x - 7.42e-07 x + 0.4624 x + 2.214e+04\n"
     ]
    },
    {
     "data": {
      "image/png": "[encoded data removed]",
      "text/plain": [
       "<matplotlib.figure.Figure at 0x11ccc1d68>"
      ]
     },
     "metadata": {},
     "output_type": "display_data"
    }
   ],
   "source": [
    "# cleanPercentages2.ExpInc[3:]\n",
    "cleanReg = clean2[[\"FINCBTXM\",\"iTotalExp\"]]\n",
    "cleanReg = cleanReg.loc[clean2.FINCBTXM > 0]\n",
    "cleanReg = cleanReg.loc[cleanReg.iTotalExp > 0]\n",
    "cleanReg\n",
    "def getExpendPercent(income):\n",
    "    if income <= 0:\n",
    "        return(1)\n",
    "    coefficients = np.polyfit(cleanReg.FINCBTXM, cleanReg.iTotalExp, deg = 3)\n",
    "    p = np.poly1d(coefficients)\n",
    "    np.seterr(divide='ignore')\n",
    "    percent = p(income)/income\n",
    "    if percent > 1:\n",
    "        percent = 1\n",
    "    return(percent)\n",
    "\n",
    "def printRegression():\n",
    "    coefficients = np.polyfit(cleanReg.FINCBTXM, cleanReg.iTotalExp, deg = 3)\n",
    "    p = np.poly1d(coefficients)\n",
    "    print(p)\n",
    "    \n",
    "    \n",
    "printRegression()\n",
    "    \n",
    "x = range(0,360000,1000)\n",
    "x2 = range(0,360000,1000)\n",
    "y =[]\n",
    "y2 =[]\n",
    "def oldRegression(income):\n",
    "    if income > 53000:\n",
    "        output = ((-7.6108*(10**(-17)))*(income**3))+((4.2009*(10**(-11)))*(income**2))+((-7.90256*(10**-6))*income)+1.21112\n",
    "    else:\n",
    "        output = 1\n",
    "    return(output)\n",
    "\n",
    "\n",
    "for bracket in range(0,360000,1000):\n",
    "    y.append(getExpendPercent(bracket))\n",
    "    y2.append(oldRegression(bracket))\n",
    "# plt.plot(inclassCleanAverages2.FINCBTXM,cleanPercentages2.ExpInc)\n",
    "plt.plot(x,y, color = \"r\", label=\"New\")\n",
    "plt.plot(x2,y2, color = \"b\", label = \"Old\")\n",
    "x3 = range(0,incomeBrackets[len(incomeBrackets)-2])\n",
    "\n",
    "# creating the repeatArray for income Bracket plotting\n",
    "lastvalue = 0\n",
    "repeatArray = []\n",
    "for x in range(0,len(incomeBrackets[1:len(incomeBrackets)-1])):\n",
    "    repeatArray.append(incomeBrackets[1:len(incomeBrackets)-1][x] - lastvalue)\n",
    "    lastvalue = incomeBrackets[1:len(incomeBrackets)-1][x]\n",
    "\n",
    "y3 = np.repeat(cleanPercentages2.ExpInc[0:len(cleanPercentages2)-1], repeatArray)\n",
    "plt.plot(x3,y3, color = \"g\", label = \"Brackets\")\n",
    "plt.title(\"Percent of Income Expended Regression\")\n",
    "plt.xlabel(\"Income Before Taxes\")\n",
    "plt.ylabel(\"Percent of Income Expended\")\n",
    "plt.xlim(0,350000)\n",
    "plt.ylim(0,1.2)\n",
    "plt.legend()\n",
    "plt.show()"
   ]
  },
  {
   "cell_type": "markdown",
   "metadata": {},
   "source": [
    "### Plot of number of CUs for clean2 only"
   ]
  },
  {
   "cell_type": "code",
   "execution_count": 37,
   "metadata": {},
   "outputs": [
    {
     "data": {
      "image/png": "[encoded data removed]",
      "text/plain": [
       "<matplotlib.figure.Figure at 0x10f7a2400>"
      ]
     },
     "metadata": {},
     "output_type": "display_data"
    }
   ],
   "source": [
    "plt.bar(clean2.INCLASS.value_counts().index - 1, (clean2.INCLASS.value_counts().values)/(len(clean2)), alpha=opacity, color='g')\n",
    "plt.suptitle(\"Percent of CUs in each Income class\")\n",
    "plt.title(\"Ages: 60-75\")\n",
    "plt.xlabel(\"Income Class\")\n",
    "plt.ylabel(\"Percent of CUs\")\n",
    "plt.ylim(0,0.19)\n",
    "plt.show()"
   ]
  },
  {
   "cell_type": "markdown",
   "metadata": {},
   "source": [
    "# Examples of Users"
   ]
  },
  {
   "cell_type": "code",
   "execution_count": 38,
   "metadata": {},
   "outputs": [
    {
     "data": {
      "text/html": [
       "<div>\n",
       "<table border=\"1\" class=\"dataframe\">\n",
       "  <thead>\n",
       "    <tr style=\"text-align: right;\">\n",
       "      <th></th>\n",
       "      <th>iFoodAtHome</th>\n",
       "      <th>iFoodAway</th>\n",
       "      <th>iHousing</th>\n",
       "      <th>iUtilites</th>\n",
       "      <th>iClothingAndBeauty</th>\n",
       "      <th>iTransportation</th>\n",
       "      <th>iHealthcare</th>\n",
       "      <th>iEntertainment</th>\n",
       "      <th>iMiscellaneous</th>\n",
       "      <th>iCharitableAndFamilyGiving</th>\n",
       "      <th>iInsurance</th>\n",
       "      <th>iEducation</th>\n",
       "      <th>iHousingPrinciple</th>\n",
       "      <th>ExpInc</th>\n",
       "    </tr>\n",
       "  </thead>\n",
       "  <tbody>\n",
       "    <tr>\n",
       "      <th>30000</th>\n",
       "      <td>327.929</td>\n",
       "      <td>162.84</td>\n",
       "      <td>617.991</td>\n",
       "      <td>256.16</td>\n",
       "      <td>66.6454</td>\n",
       "      <td>422.039</td>\n",
       "      <td>370.911</td>\n",
       "      <td>167.81</td>\n",
       "      <td>42.9961</td>\n",
       "      <td>108.649</td>\n",
       "      <td>10.9128</td>\n",
       "      <td>10.2229</td>\n",
       "      <td>65.1063</td>\n",
       "      <td>2500</td>\n",
       "    </tr>\n",
       "    <tr>\n",
       "      <th>60000</th>\n",
       "      <td>445.918</td>\n",
       "      <td>254.151</td>\n",
       "      <td>1043.42</td>\n",
       "      <td>357.226</td>\n",
       "      <td>116.493</td>\n",
       "      <td>774.836</td>\n",
       "      <td>531.217</td>\n",
       "      <td>216.811</td>\n",
       "      <td>75.0107</td>\n",
       "      <td>232.434</td>\n",
       "      <td>28.6235</td>\n",
       "      <td>5.94421</td>\n",
       "      <td>132.853</td>\n",
       "      <td>3012.3</td>\n",
       "    </tr>\n",
       "    <tr>\n",
       "      <th>90000</th>\n",
       "      <td>510.276</td>\n",
       "      <td>289.844</td>\n",
       "      <td>1309.39</td>\n",
       "      <td>399.244</td>\n",
       "      <td>131.635</td>\n",
       "      <td>1127.31</td>\n",
       "      <td>590.863</td>\n",
       "      <td>266.197</td>\n",
       "      <td>83.8112</td>\n",
       "      <td>266.044</td>\n",
       "      <td>53.8448</td>\n",
       "      <td>36.7532</td>\n",
       "      <td>203.793</td>\n",
       "      <td>3213.7</td>\n",
       "    </tr>\n",
       "    <tr>\n",
       "      <th>120000</th>\n",
       "      <td>551.649</td>\n",
       "      <td>376.67</td>\n",
       "      <td>1510.12</td>\n",
       "      <td>434.374</td>\n",
       "      <td>177.202</td>\n",
       "      <td>1226.31</td>\n",
       "      <td>659.881</td>\n",
       "      <td>479.989</td>\n",
       "      <td>93.9654</td>\n",
       "      <td>384.565</td>\n",
       "      <td>43.3443</td>\n",
       "      <td>39.742</td>\n",
       "      <td>282.855</td>\n",
       "      <td>3589.25</td>\n",
       "    </tr>\n",
       "    <tr>\n",
       "      <th>250000</th>\n",
       "      <td>697.796</td>\n",
       "      <td>644.429</td>\n",
       "      <td>2558.16</td>\n",
       "      <td>565.162</td>\n",
       "      <td>356.292</td>\n",
       "      <td>1752.09</td>\n",
       "      <td>677.207</td>\n",
       "      <td>554.178</td>\n",
       "      <td>139.378</td>\n",
       "      <td>856.519</td>\n",
       "      <td>63.7833</td>\n",
       "      <td>190.923</td>\n",
       "      <td>392.185</td>\n",
       "      <td>3584.35</td>\n",
       "    </tr>\n",
       "  </tbody>\n",
       "</table>\n",
       "</div>"
      ],
      "text/plain": [
       "       iFoodAtHome iFoodAway iHousing iUtilites iClothingAndBeauty  \\\n",
       "30000      327.929    162.84  617.991    256.16            66.6454   \n",
       "60000      445.918   254.151  1043.42   357.226            116.493   \n",
       "90000      510.276   289.844  1309.39   399.244            131.635   \n",
       "120000     551.649    376.67  1510.12   434.374            177.202   \n",
       "250000     697.796   644.429  2558.16   565.162            356.292   \n",
       "\n",
       "       iTransportation iHealthcare iEntertainment iMiscellaneous  \\\n",
       "30000          422.039     370.911         167.81        42.9961   \n",
       "60000          774.836     531.217        216.811        75.0107   \n",
       "90000          1127.31     590.863        266.197        83.8112   \n",
       "120000         1226.31     659.881        479.989        93.9654   \n",
       "250000         1752.09     677.207        554.178        139.378   \n",
       "\n",
       "       iCharitableAndFamilyGiving iInsurance iEducation iHousingPrinciple  \\\n",
       "30000                     108.649    10.9128    10.2229           65.1063   \n",
       "60000                     232.434    28.6235    5.94421           132.853   \n",
       "90000                     266.044    53.8448    36.7532           203.793   \n",
       "120000                    384.565    43.3443     39.742           282.855   \n",
       "250000                    856.519    63.7833    190.923           392.185   \n",
       "\n",
       "         ExpInc  \n",
       "30000      2500  \n",
       "60000    3012.3  \n",
       "90000    3213.7  \n",
       "120000  3589.25  \n",
       "250000  3584.35  "
      ]
     },
     "execution_count": 38,
     "metadata": {},
     "output_type": "execute_result"
    }
   ],
   "source": [
    "usersIncome = [30000, 60000, 90000, 120000, 250000]\n",
    "def getIncomeBracket(income):\n",
    "    for bracket in range(len(incomeBrackets)-2,0,-1):\n",
    "        if income > incomeBrackets[bracket]:\n",
    "            return bracket\n",
    "            \n",
    "\n",
    "exampleExpenses = pd.DataFrame(columns = cleanPercentages2.columns, index = range(len(usersIncome)))\n",
    "for user in usersIncome:\n",
    "    userBracket = getIncomeBracket(user)\n",
    "    userExpendAmount = getExpendPercent(user) * user\n",
    "    userBaseExpenses = (cleanPercentages2.loc[userBracket]*userExpendAmount)/12\n",
    "    exampleExpenses.loc[usersIncome.index(user)] = userBaseExpenses\n",
    "\n",
    "exampleExpenses.index = usersIncome\n",
    "\n",
    "exampleExpenses"
   ]
  },
  {
   "cell_type": "markdown",
   "metadata": {},
   "source": [
    "# Creating CSV fo percentages"
   ]
  },
  {
   "cell_type": "code",
   "execution_count": 39,
   "metadata": {},
   "outputs": [],
   "source": [
    "# cleanPercentages2.to_csv(\"percentage60to75.csv\")"
   ]
  },
  {
   "cell_type": "markdown",
   "metadata": {},
   "source": [
    "# Importing CSVs of pre-Subset Percentages CSVs"
   ]
  },
  {
   "cell_type": "code",
   "execution_count": 40,
   "metadata": {},
   "outputs": [],
   "source": [
    "ageRange1 = pd.read_csv(\"percentage55to64.csv\", index_col=0)\n",
    "ageRange2 = pd.read_csv(\"percentage60to75.csv\", index_col=0)\n",
    "ageRange3 = pd.read_csv(\"percentage65up.csv\", index_col=0)"
   ]
  },
  {
   "cell_type": "markdown",
   "metadata": {},
   "source": [
    "### Plotting the differences between Age brackets"
   ]
  },
  {
   "cell_type": "code",
   "execution_count": 41,
   "metadata": {},
   "outputs": [
    {
     "data": {
      "image/png": "[encoded data removed]",
      "text/plain": [
       "<matplotlib.figure.Figure at 0x11db46f98>"
      ]
     },
     "metadata": {},
     "output_type": "display_data"
    }
   ],
   "source": [
    "n_groups = 3\n",
    "values1 = ageRange1.ExpInc\n",
    "values2 = ageRange2.ExpInc\n",
    "values3 = ageRange3.ExpInc\n",
    "\n",
    "fig, ax = plt.subplots()\n",
    "index = np.arange(n_groups)\n",
    "bar_width = 0.25\n",
    "opacity = 1\n",
    " \n",
    "rects1 = plt.bar(ageRange1.index, values1, bar_width,\n",
    "                 alpha=opacity,\n",
    "                 color='r',\n",
    "                 label='55-64')\n",
    " \n",
    "rects2 = plt.bar(ageRange2.index + bar_width, values2, bar_width,\n",
    "                 alpha=opacity,\n",
    "                 color='g',\n",
    "                 label='60-75')\n",
    "\n",
    "rects3 = plt.bar(ageRange3.index + (bar_width * 2), values3, bar_width,\n",
    "                 alpha=opacity,\n",
    "                 color='b',\n",
    "                 label='65+')\n",
    "\n",
    "plt.xlabel('Income Class')\n",
    "plt.ylabel('Percent of Income Expended')\n",
    "plt.title('Percent of Income Expent per Income Class')\n",
    "plt.legend()\n",
    "plt.show()"
   ]
  },
  {
   "cell_type": "code",
   "execution_count": 42,
   "metadata": {},
   "outputs": [
    {
     "data": {
      "image/png": "[encoded data removed]",
      "text/plain": [
       "<matplotlib.figure.Figure at 0x11a9bb8d0>"
      ]
     },
     "metadata": {},
     "output_type": "display_data"
    }
   ],
   "source": [
    "n_groups = 3\n",
    "values1 = ageRange1.iHousing\n",
    "values2 = ageRange2.iHousing\n",
    "values3 = ageRange3.iHousing\n",
    "\n",
    "fig, ax = plt.subplots()\n",
    "index = np.arange(n_groups)\n",
    "bar_width = 0.25\n",
    "opacity = 1\n",
    " \n",
    "rects1 = plt.bar(ageRange1.index, values1, bar_width,\n",
    "                 alpha=opacity,\n",
    "                 color='r',\n",
    "                 label='55-64')\n",
    " \n",
    "rects2 = plt.bar(ageRange2.index + bar_width, values2, bar_width,\n",
    "                 alpha=opacity,\n",
    "                 color='g',\n",
    "                 label='60-75')\n",
    "\n",
    "rects3 = plt.bar(ageRange3.index + (bar_width * 2), values3, bar_width,\n",
    "                 alpha=opacity,\n",
    "                 color='b',\n",
    "                 label='65+')\n",
    "\n",
    "plt.xlabel('Income Class')\n",
    "plt.ylabel('Percent of Total Expenditures')\n",
    "plt.title('Percent Spent on Housing per Income Class')\n",
    "plt.legend()\n",
    "plt.show()"
   ]
  },
  {
   "cell_type": "code",
   "execution_count": 43,
   "metadata": {},
   "outputs": [
    {
     "data": {
      "image/png": "[encoded data removed]",
      "text/plain": [
       "<matplotlib.figure.Figure at 0x11d41dd68>"
      ]
     },
     "metadata": {},
     "output_type": "display_data"
    }
   ],
   "source": [
    "n_groups = 3\n",
    "values1 = ageRange1.iHealthcare\n",
    "values2 = ageRange2.iHealthcare\n",
    "values3 = ageRange3.iHealthcare\n",
    "\n",
    "fig, ax = plt.subplots()\n",
    "index = np.arange(n_groups)\n",
    "bar_width = 0.25\n",
    "opacity = 1\n",
    " \n",
    "rects1 = plt.bar(ageRange1.index, values1, bar_width,\n",
    "                 alpha=opacity,\n",
    "                 color='r',\n",
    "                 label='55-64')\n",
    " \n",
    "rects2 = plt.bar(ageRange2.index + bar_width, values2, bar_width,\n",
    "                 alpha=opacity,\n",
    "                 color='g',\n",
    "                 label='60-75')\n",
    "\n",
    "rects3 = plt.bar(ageRange3.index + (bar_width * 2), values3, bar_width,\n",
    "                 alpha=opacity,\n",
    "                 color='b',\n",
    "                 label='65+')\n",
    "\n",
    "plt.xlabel('Income Class')\n",
    "plt.ylabel('Percent of Total Expenditures')\n",
    "plt.title('Percent Spent on Healthcare per Income Class')\n",
    "plt.legend()\n",
    "plt.show()"
   ]
  },
  {
   "cell_type": "code",
   "execution_count": 44,
   "metadata": {},
   "outputs": [
    {
     "data": {
      "image/png": "[encoded data removed]",
      "text/plain": [
       "<matplotlib.figure.Figure at 0x11ccc6ef0>"
      ]
     },
     "metadata": {},
     "output_type": "display_data"
    }
   ],
   "source": [
    "n_groups = 2\n",
    "values1 = ageRange1.iTransportation\n",
    "values2 = ageRange2.iTransportation\n",
    "values3 = ageRange3.iTransportation\n",
    "\n",
    "fig, ax = plt.subplots()\n",
    "index = np.arange(n_groups)\n",
    "bar_width = 0.25\n",
    "opacity = 1\n",
    " \n",
    "rects1 = plt.bar(ageRange1.index, values1, bar_width,\n",
    "                 alpha=opacity,\n",
    "                 color='r',\n",
    "                 label='55-64')\n",
    " \n",
    "rects2 = plt.bar(ageRange2.index + bar_width, values2, bar_width,\n",
    "                 alpha=opacity,\n",
    "                 color='g',\n",
    "                 label='60-75')\n",
    "\n",
    "rects3 = plt.bar(ageRange3.index + (bar_width * 2), values3, bar_width,\n",
    "                 alpha=opacity,\n",
    "                 color='b',\n",
    "                 label='65+')\n",
    "\n",
    "plt.xlabel('Income Class')\n",
    "plt.ylabel('Percent of Total Expenditures')\n",
    "plt.title('Percent Spent on Transportation per Income Class')\n",
    "plt.legend()\n",
    "plt.show()"
   ]
  },
  {
   "cell_type": "markdown",
   "metadata": {},
   "source": [
    "# Thoughts on the difference between 55-64, 60-75, and 65+\n",
    "- On average: 55-64 < 60-75 < 65+ in terms of expenditure percentage\n",
    "- This could be because the people in the 60-75 and 65+ bracket are actually retired meaning their income is lower?\n",
    " - will check this\n",
    "\n",
    "## What each bracket might represent\n",
    "- 55-64 simulates that specific time right before and right at the begining of retirment\n",
    "- 60-75 simulates the time during retirement with some non-retired CUs\n",
    "- 65+ is a higher potential to show people who have actually retired"
   ]
  }
 ],
 "metadata": {
  "kernelspec": {
   "display_name": "Python 3",
   "language": "python",
   "name": "python3"
  },
  "language_info": {
   "codemirror_mode": {
    "name": "ipython",
    "version": 3
   },
   "file_extension": ".py",
   "mimetype": "text/x-python",
   "name": "python",
   "nbconvert_exporter": "python",
   "pygments_lexer": "ipython3",
   "version": "3.6.0"
  },
  "widgets": {
   "state": {
    "0068692ac0bc411882a87b1a14dcfe10": {
     "views": [
      {
       "cell_index": 4
      }
     ]
    },
    "0bb2a8ec3efd4b92929860f0bd5905e0": {
     "views": [
      {
       "cell_index": 4
      }
     ]
    },
    "100206eef84d4173abc40ab8904f8ad5": {
     "views": [
      {
       "cell_index": 4
      }
     ]
    },
    "1b9d1660c8c64ec9952ea8a110d1f45b": {
     "views": [
      {
       "cell_index": 4
      }
     ]
    },
    "206b339cc5fa431eb2bfdf4a002fbee4": {
     "views": [
      {
       "cell_index": 4
      }
     ]
    },
    "27544fcbcde6482ab4785aca6aad69f9": {
     "views": [
      {
       "cell_index": 4
      }
     ]
    },
    "2c4068db76574349ba22032b0e0389bf": {
     "views": [
      {
       "cell_index": 4
      }
     ]
    },
    "385321efd2764b82add0b60833dab624": {
     "views": [
      {
       "cell_index": 4
      }
     ]
    },
    "48f62472d15647e9b82c65dcdbdc25b1": {
     "views": [
      {
       "cell_index": 4
      }
     ]
    },
    "516d2b0274bb45bfaec4433d691dc6ec": {
     "views": [
      {
       "cell_index": 4
      }
     ]
    },
    "522fbf9e096342859c5801ecb6e99658": {
     "views": [
      {
       "cell_index": 4
      }
     ]
    },
    "6fdc0a4cf68b438fac80ab3e4b83d19f": {
     "views": [
      {
       "cell_index": 4
      }
     ]
    },
    "91413111d50544c48166272bb0472126": {
     "views": [
      {
       "cell_index": 4
      }
     ]
    },
    "a89892d026274481bc6291f33d61d7e5": {
     "views": [
      {
       "cell_index": 4
      }
     ]
    },
    "ba65bfee910c4112af5658a6e6a2ef70": {
     "views": [
      {
       "cell_index": 4
      }
     ]
    },
    "c5763faee881469485888bfe55e988d1": {
     "views": [
      {
       "cell_index": 4
      }
     ]
    },
    "ca4f506cd0b14565b07e8899cf82befe": {
     "views": [
      {
       "cell_index": 4
      }
     ]
    },
    "d3b4abc7c62c4b0aa661a9f52260198b": {
     "views": [
      {
       "cell_index": 4
      }
     ]
    },
    "dfcd57085b0c46b6ac49e9f39fb3ffb5": {
     "views": [
      {
       "cell_index": 4
      }
     ]
    },
    "ed7c8b262ece470aafa8df3c2730a563": {
     "views": [
      {
       "cell_index": 4
      }
     ]
    },
    "f31852a1231145c08bf5cf8b6a3e888c": {
     "views": [
      {
       "cell_index": 4
      }
     ]
    },
    "fc7c33a10615450991993c8d4d270f86": {
     "views": [
      {
       "cell_index": 4
      }
     ]
    }
   },
   "version": "1.2.0"
  }
 },
 "nbformat": 4,
 "nbformat_minor": 2
}
