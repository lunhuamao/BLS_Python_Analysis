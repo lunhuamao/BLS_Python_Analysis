{
 "cells": [
  {
   "cell_type": "markdown",
   "metadata": {
    "slideshow": {
     "slide_type": "slide"
    }
   },
   "source": [
    "# Plynty Bureau of Labor Statistics Consumer Expenditure Analysis\n",
    "\n",
    "[BLS Comsumer Expenditure Survey](https://www.bls.gov/cex/home.htm)\n",
    "\n",
    "[Interview Data Dictionary](https://www.bls.gov/cex/2015/csxintvwdata.pdf)\n",
    "\n",
    "[Diary Data Dictionary](https://www.bls.gov/cex/2015/csxdiarydata.pdf)\n",
    "\n",
    "### Where to download the BLS CE PUMD\n",
    "- The zip files download automatically\n",
    "- To download the Stub files open the links then right click and choose \"Save As...\"\n",
    "\n",
    "[2015 interview zip file](https://www.bls.gov/cex/pumd/data/comma/intrvw15.zip)\n",
    "\n",
    "[2015 diary zip file](https://www.bls.gov/cex/pumd/data/comma/diary15.zip)\n",
    "\n",
    "[2015 IntStub file](https://www.bls.gov/cex/pumd/2014/csxintstub.txt)\n",
    "\n",
    "[2015 IStub file](https://www.bls.gov/cex/pumd/2014/csxistub.txt)\n",
    "\n",
    "[2015 DStub file](https://www.bls.gov/cex/pumd/2014/csxdstub.txt)\n",
    "\n",
    "### This Scripts Goals for Plynty\n",
    "- Create an easy to use analysis script for the BLS CE PUMD\n",
    "- Create a csv files that has average percentages spent on plynty categories for certain income classes\n",
    "- Create incomeclasses that are significant"
   ]
  },
  {
   "cell_type": "markdown",
   "metadata": {
    "slideshow": {
     "slide_type": "slide"
    }
   },
   "source": [
    "##### Importing Libraries "
   ]
  },
  {
   "cell_type": "code",
   "execution_count": 1,
   "metadata": {
    "collapsed": false,
    "slideshow": {
     "slide_type": "subslide"
    }
   },
   "outputs": [
    {
     "name": "stdout",
     "output_type": "stream",
     "text": [
      "Dependencies Loaded...\n"
     ]
    }
   ],
   "source": [
    "import pandas as pd\n",
    "import numpy as np\n",
    "import os\n",
    "import subprocess\n",
    "import math\n",
    "import matplotlib.pyplot as plt\n",
    "from scipy.interpolate import *\n",
    "from plyntywidgets import *\n",
    "from blsFunctions import *\n",
    "print(\"Dependencies Loaded...\")"
   ]
  },
  {
   "cell_type": "markdown",
   "metadata": {},
   "source": [
    "### Setting Parameters\n",
    "- year: the last two number associated with the year of the data\n",
    "    for example for data from 2015: year = \"15\"\n",
    "- minAge: the low bound (inclusive) of the age range you wish to subset by\n",
    "- maxAge: the high bound (inclusive) of the age range you wish to subset by\n",
    "- incomeBrackets: array of numbers that you wish to create the new income classes\n",
    "    the bracketing works as follows (1,2], (2,3], (3,4]\n",
    "- filesToRead: the strings of the abbreviations associated with the files you wish to read\n",
    "    options are: \"all\", \"diary\", \"interview\", \"dtbd\", \"expd\", \"fmld\", \"memd\", \"fmli\", \"itbi\", \"memi\", \"mtbi\", \"ntaxi\""
   ]
  },
  {
   "cell_type": "code",
   "execution_count": 2,
   "metadata": {
    "collapsed": false
   },
   "outputs": [],
   "source": [
    "year = \"15\"\n",
    "filesToRead = [\"fmli\", \"mtbi\"]\n",
    "incomeBrackets = [-10000000, 10000, 30000, 50000, 60000, 70000, 80000, 100000, 150000, 9990000]\n",
    "familyIncomeBrackets = incomeBrackets\n",
    "singleIncomeBrackets = incomeBrackets\n",
    "\n",
    "\n",
    "# minAge = 55\n",
    "# maxAge = 64\n",
    "\n",
    "minAge = 60\n",
    "maxAge = 75\n",
    "\n",
    "# minAge = 65\n",
    "# maxAge = 130"
   ]
  },
  {
   "cell_type": "markdown",
   "metadata": {},
   "source": [
    "### Setting Directory locations and FileNames on your Local Machine"
   ]
  },
  {
   "cell_type": "code",
   "execution_count": 3,
   "metadata": {
    "collapsed": false
   },
   "outputs": [],
   "source": [
    "# directory in which the diary and interview folders are held is located\n",
    "diaryDir = \"/Users/adyke/Vizuri/CE_PUMD/diary15/\"\n",
    "interviewDir = \"/Users/adyke/Vizuri/CE_PUMD/intrvw15/\"\n",
    "\n",
    "# Directory where stubfiles are located\n",
    "pathToStubFileDir = \"/Users/adyke/Vizuri/Stubfiles/\"\n",
    "rScriptStubfilePathAndName = \"/Users/adyke/Vizuri/BLS_Python_Analysis/creatingStubCsvs.R\"\n",
    "\n",
    "# Filenames of the Stubfiles\n",
    "IStubFileName = \"IStub2015.txt\"\n",
    "DStubFileName = \"DStub2015.txt\"\n",
    "IntStubFileName = \"IntStub2015.txt\"\n",
    "\n",
    "# name of interview dir within the interview dir\n",
    "insideIntrvwDirName = \"intrvw\"\n",
    "\n",
    "# name of the directory where you want the output percentages csv\n",
    "outputDir = \"/Users/adyke/Vizuri/outputFiles/\""
   ]
  },
  {
   "cell_type": "markdown",
   "metadata": {},
   "source": [
    "### Reading in the files specified by FilesToRead"
   ]
  },
  {
   "cell_type": "code",
   "execution_count": 4,
   "metadata": {
    "collapsed": false
   },
   "outputs": [],
   "source": [
    "if(len(filesToRead)==0):\n",
    "    print(\"The files to read variable is empty.\")\n",
    "\n",
    "# looping through each file to read\n",
    "for file in filesToRead:\n",
    "    if file == \"dtbd\" or file == \"all\" or file == \"diary\":\n",
    "        dtbd = readFileSet(\"dtbd\", diaryDir)\n",
    "    if file == \"expd\" or file == \"all\" or file == \"diary\":\n",
    "        expd = readFileSet(\"expd\", diaryDir)\n",
    "    if file == \"fmld\" or file == \"all\" or file == \"diary\":\n",
    "        fmld = readFileSet(\"fmld\", diaryDir)\n",
    "    if file == \"memd\" or file == \"all\" or file == \"diary\":\n",
    "        memd = readFileSet(\"memd\", diaryDir)\n",
    "    if file == \"fmli\" or file == \"all\" or file == \"interview\":\n",
    "        fmli = readFileSet(\"fmli\", interviewDir+insideIntrvwDirName+year+\"/\")\n",
    "    if file == \"itbi\" or file == \"all\" or file == \"interview\":\n",
    "        itbi = readFileSet(\"itbi\", interviewDir+insideIntrvwDirName+year+\"/\")\n",
    "    if file == \"itii\" or file == \"all\" or file == \"interview\":\n",
    "        itii = readFileSet(\"itii\", interviewDir+insideIntrvwDirName+year+\"/\")\n",
    "    if file == \"memi\" or file == \"all\" or file == \"interview\":\n",
    "        memi = readFileSet(\"memi\", interviewDir+insideIntrvwDirName+year+\"/\")\n",
    "    if file == \"mtbi\" or file == \"all\" or file == \"interview\":\n",
    "        mtbi = readFileSet(\"mtbi\", interviewDir+insideIntrvwDirName+year+\"/\")\n",
    "        mtbi.UCC = mtbi.UCC.astype(str)\n",
    "    if file == \"ntaxi\" or file == \"all\" or file == \"interview\":\n",
    "        ntaxi = readFileSet(\"ntaxi\", interviewDir+insideIntrvwDirName+year+\"/\")\n",
    "# does not read form the expn or para subdirectories\n"
   ]
  },
  {
   "cell_type": "markdown",
   "metadata": {},
   "source": [
    "### Using R to convert the Stub files into csv files"
   ]
  },
  {
   "cell_type": "code",
   "execution_count": 5,
   "metadata": {
    "collapsed": false
   },
   "outputs": [
    {
     "name": "stdout",
     "output_type": "stream",
     "text": [
      "Stubfiles Exist\n"
     ]
    }
   ],
   "source": [
    "if os.path.isfile(pathToStubFileDir+\"DStub.csv\") and os.path.isfile(pathToStubFileDir+\"IStub.csv\") and os.path.isfile(pathToStubFileDir+\"IntStub.csv\"):\n",
    "    print(\"Stubfiles Exist\")\n",
    "else:\n",
    "    # converting the stub files via R \n",
    "    subprocess.call(\"Rscript \"+rScriptStubfilePathAndName+\" \"+pathToStubFileDir+\" \"+IStubFileName+\" \"+DStubFileName+\" \"+IntStubFileName, shell=True)\n",
    "    print(\"Stubfile Csvs created in \"+pathToStubFileDir)"
   ]
  },
  {
   "cell_type": "markdown",
   "metadata": {},
   "source": [
    "### Reading and Cleaning the stubfile CSVs into pandas dataframes"
   ]
  },
  {
   "cell_type": "code",
   "execution_count": 6,
   "metadata": {
    "collapsed": false
   },
   "outputs": [],
   "source": [
    "# reading in the stubfiles\n",
    "DStub = pd.read_csv(pathToStubFileDir+\"DStub.csv\")\n",
    "IStub = pd.read_csv(pathToStubFileDir+\"IStub.csv\")\n",
    "IntStub = pd.read_csv(pathToStubFileDir+\"IntStub.csv\")\n",
    "\n",
    "# removing the index from the stufile\n",
    "DStub = DStub.drop(DStub.columns[0], axis=1)\n",
    "IStub = IStub.drop(IStub.columns[0], axis=1)\n",
    "IntStub = IntStub.drop(IntStub.columns[0], axis=1)\n",
    "\n",
    "# replacing * with 0 in the level columns\n",
    "DStub.loc[DStub.level == \"*\", 'level'] = 0\n",
    "IStub.loc[IStub.level == \"*\", 'level'] = 0\n",
    "IntStub.loc[IntStub.level == \"*\", 'level'] = 0"
   ]
  },
  {
   "cell_type": "markdown",
   "metadata": {},
   "source": [
    "# Starting the Plynty calculations"
   ]
  },
  {
   "cell_type": "markdown",
   "metadata": {},
   "source": [
    "### Creating the UCC roll ups for Plynty\n",
    "##### What is a UCC?\n",
    "- Universial Classification Code\n",
    "- Used to classify different expenditure sub categories"
   ]
  },
  {
   "cell_type": "markdown",
   "metadata": {},
   "source": [
    "### Adding and Rolling up the MTBI Categories into mtbiRolledUp\n",
    "##### What is the MTBI file?\n",
    "- Monthly expenditure file classified by UCC\n",
    "- Used to populate expenditures in each category for each CU"
   ]
  },
  {
   "cell_type": "code",
   "execution_count": 7,
   "metadata": {
    "collapsed": false
   },
   "outputs": [],
   "source": [
    "monthlyHousing = [\"220311\",\"220313\",\"880110\",\"210110\",\"800710\",\"210901\",\"220312\",\"220314\",\"880310\",\"210902\"]\n",
    "monthlyHousing.extend(categoricalUCCRollUp(IStub, [\"UTILS\"]))\n",
    "\n",
    "rollupDict = {\"iTotalExp\":(categoricalUCCRollUp(IStub,[\"TOTALE\"])),\n",
    "\"iFoodAtHome\":(categoricalUCCRollUp(IStub, [\"FOODHO\", \"ALCHOM\"])),\n",
    "\"iFoodAway\":(categoricalUCCRollUp(IStub, [\"FOODAW\", \"ALCAWA\"])),\n",
    "\"iHousing\":([\"220311\",\"220313\",\"880110\",\"210110\",\"800710\",\"210901\",\"220312\",\"220314\",\"880310\",\"210902\"]),\n",
    "\"otherHousing\":(categoricalUCCRollUp(IStub, [\"HOUSIN\"], ignoreUCCs = monthlyHousing)),\n",
    "\"iUtilites\":(categoricalUCCRollUp(IStub, [\"UTILS\"])),\n",
    "\"iClothingAndBeauty\":(categoricalUCCRollUp(IStub, [\"APPARE\",\"PERSCA\"])),\n",
    "\"iTransportation\":(categoricalUCCRollUp(IStub, [\"TRANS\"])),\n",
    "\"iHealthcare\":(categoricalUCCRollUp(IStub, [\"HEALTH\"])),\n",
    "\"iEntertainment\":(categoricalUCCRollUp(IStub, [\"ENTRTA\",\"READIN\"])),\n",
    "\"iMiscellaneous\":(categoricalUCCRollUp(IStub, [\"MISC\",\"TOBACC\"])),\n",
    "\"iCharitableAndFamilyGiving\":(categoricalUCCRollUp(IStub, [\"CASHCO\"])),\n",
    "\"iInsurance\":(categoricalUCCRollUp(IStub, [\"LIFEIN\"])),\n",
    "\"iEducation\":(categoricalUCCRollUp(IStub, [\"EDUCAT\"])),\n",
    "\"iHousingPrinciple\":(categoricalUCCRollUp(IStub,[\"MRTPRI\"]))}\n",
    "\n",
    "# there is a multiple of 4 because each survey lasts for 3 months \n",
    "# multiplying by 4 gives a estimate for each year (3 * 4 = 12)\n",
    "mtbiRolledUp = rollUpDataframeDict(mtbi, rollupDict, negativeColumns=[\"iHousingPrinciple\"], multiple=4)\n",
    "\n",
    "mtbiTrimmed = mtbiRolledUp.loc[: , ['NEWID','iTotalExp','iFoodAtHome','iFoodAway','iHousing','otherHousing','iUtilites','iClothingAndBeauty','iTransportation','iHealthcare','iEntertainment','iMiscellaneous','iCharitableAndFamilyGiving','iInsurance','iEducation','iHousingPrinciple']]"
   ]
  },
  {
   "cell_type": "markdown",
   "metadata": {},
   "source": [
    "### Creating the Sum for all expenditure category columns for each NEWID\n",
    "- nonZeroColumns is an array that contains the names of columns that should not be Zero\n",
    "\n",
    "outputs from cell:\n",
    "- iExpensesByNewID: total expenses for each category for each NewID"
   ]
  },
  {
   "cell_type": "code",
   "execution_count": 8,
   "metadata": {
    "collapsed": false
   },
   "outputs": [],
   "source": [
    "# adding up all columns for each new id\n",
    "iExpensesByNewID = mtbiTrimmed.groupby(['NEWID'],as_index=False).sum()\n",
    "# removing rows with zero values in key categories\n",
    "nonZeroColumns = ['iFoodAtHome','iFoodAway','iHousing','iUtilites']\n",
    "for column in nonZeroColumns:\n",
    "    iExpensesByNewID = iExpensesByNewID[iExpensesByNewID[column] != 0]\n",
    "iExpensesByNewID['iHousing'] = iExpensesByNewID['iHousing']+iExpensesByNewID['iHousingPrinciple']\n",
    "iExpensesByNewID['iTotalExp'] += iExpensesByNewID['iHousingPrinciple']"
   ]
  },
  {
   "cell_type": "markdown",
   "metadata": {},
   "source": [
    "### Subsetting FMLI for age and recoding the incomebrackets\n",
    "##### What is the fmli file?\n",
    "- File with entries for each CU, characteristics, and summary level expenditures"
   ]
  },
  {
   "cell_type": "code",
   "execution_count": 9,
   "metadata": {
    "collapsed": false,
    "scrolled": true
   },
   "outputs": [],
   "source": [
    "# subsetting for the age bracket\n",
    "fmliAge = subsetDataframe(dataframe=fmli, columnName=\"AGE_REF\", minValue=minAge, maxValue=maxAge)\n",
    "fmliAge = fmliAge.reset_index()\n",
    "\n",
    "fmliFamilyAge = subsetDataframe(dataframe=fmliAge, columnName=\"FAM_SIZE\", minValue = 2, maxValue = 100)\n",
    "fmliSingleAge = subsetDataframe(dataframe=fmliAge, columnName=\"FAM_SIZE\", minValue = 1)"
   ]
  },
  {
   "cell_type": "code",
   "execution_count": 10,
   "metadata": {
    "collapsed": false
   },
   "outputs": [
    {
     "name": "stdout",
     "output_type": "stream",
     "text": [
      "        NEWID  INCLASS  FINCBTXM  iTotalExp  iFoodAtHome  iFoodAway  iHousing  \\\n",
      "0     2792295        5   62979.0    51170.8       7800.0     2600.0   11020.0   \n",
      "1     2792645        5   63254.0   238725.6       6540.0     3132.0   12492.0   \n",
      "2     2792825        9  211240.8   101121.0       3200.0     2360.0   16800.0   \n",
      "3     2795165        7   82014.0   182693.6       5200.0     4420.0    6156.0   \n",
      "4     2796055        8  145100.0    41987.8       4060.0      520.0     960.0   \n",
      "5     2796245        8  116500.0    57564.0       5200.0     3120.0    8700.0   \n",
      "6     2796625        3   42000.0    53940.0       8440.0     1040.0   11220.0   \n",
      "7     2796735        2   26506.0    30822.8       4980.0     1040.0    9900.0   \n",
      "8     2796765        3   43067.0    36526.8       1300.0      312.0    1488.0   \n",
      "9     2797585        2   28954.4    43793.6       3240.0     1560.0    2376.0   \n",
      "10    2797675        9  206724.2    64146.8       6440.0     1328.0   14400.0   \n",
      "11    2798665        2   15819.0   169782.8       3740.0     3120.0   13800.0   \n",
      "12    2798755        6   78757.6    38868.0       5980.0     4800.0    6876.0   \n",
      "13    2799905        2   16110.4    46370.8       5980.0     6240.0   13200.0   \n",
      "14    2800175        7   86109.8    97997.6       5600.0     6500.0   54800.0   \n",
      "15    2800265        3   48486.0    74505.6       4716.0    15500.0    6872.0   \n",
      "16    2800545        7   88993.8    67156.0       9132.0     1792.0   10800.0   \n",
      "17    2801045        5   69800.0   105648.0      13100.0     9492.0    6600.0   \n",
      "18    2801685        8  123305.6   100962.8      20800.0     5200.0   12156.0   \n",
      "19    2801765        9  195097.0   135492.0      12096.0     2728.0   16720.0   \n",
      "20    2803205        1    6249.0    36314.8       3840.0     2160.0   12400.0   \n",
      "21    2803415        7   85000.0    51332.0       4840.0     4960.0   10224.0   \n",
      "22    2803665        3   40912.0    33524.0       4360.0     1520.0    4944.0   \n",
      "23    2803745        9  157051.0   100209.6      13492.0     2568.0   11244.0   \n",
      "24    2804255        3   33751.0    43533.6       5380.0     1040.0   10416.0   \n",
      "25    2804615        1    8875.4    27136.0       5356.0     2956.0   11808.0   \n",
      "26    2805185        6   76913.0    72518.8      10200.0     7580.0    5316.0   \n",
      "27    2806385        2   21655.4    45304.0       5200.0     2600.0   20400.0   \n",
      "28    2808025        5   67000.0    47337.6       2080.0     2600.0   15624.0   \n",
      "29    2808385        2   27560.0    45741.6       5380.0     3960.0    3900.0   \n",
      "...       ...      ...       ...        ...          ...        ...       ...   \n",
      "1992  3347921        8  105554.4    82110.0       7080.0     2480.0   11796.0   \n",
      "1993  3348261        2   24524.0   198468.0       1300.0     1560.0   20052.0   \n",
      "1994  3348371        6   78834.0    40794.0       3420.0     1120.0    7140.0   \n",
      "1995  3348491        4   56000.0    39152.0       3016.0     1820.0   12528.0   \n",
      "1996  3348631        2   29574.0    24270.0       6240.0     4160.0    3864.0   \n",
      "1997  3349091        3   31262.0    30284.0       1900.0     1620.0    9120.0   \n",
      "1998  3349321        6   70404.0    57240.0      11000.0     1480.0    5256.0   \n",
      "1999  3349331        3   43942.0    29524.0       4940.0     1560.0   16800.0   \n",
      "2000  3349551        8  150000.0   148937.0      10980.0     1820.0   67048.0   \n",
      "2001  3349681        4   58375.4    36326.0       5372.0      260.0   13324.0   \n",
      "2002  3349711        4   58109.1    71548.0       5200.0      600.0   14400.0   \n",
      "2003  3349931        1    8482.0    14076.0       3380.0      240.0    3780.0   \n",
      "2004  3350501        7   83526.0   142336.0       4576.0      780.0    6072.0   \n",
      "2005  3350611        9  154866.4    50584.0       9900.0      396.0    8640.0   \n",
      "2006  3350671        1    8593.0    65976.0      13000.0     1820.0   30300.0   \n",
      "2007  3351321        7   99794.2    60722.0       5440.0      520.0   10212.0   \n",
      "2008  3351431        3   41995.0   176409.0       5700.0     2600.0   19644.0   \n",
      "2009  3352021        9  232653.8   144580.0       2600.0    11600.0   55200.0   \n",
      "2010  3352261        3   34654.0    25476.0       4160.0     1040.0    3864.0   \n",
      "2011  3352361        4   58438.0   185574.0       7920.0    15120.0   10020.0   \n",
      "2012  3352621        9  212148.8    93028.0       4340.0    13240.0    9600.0   \n",
      "2013  3352691        8  118800.0    37332.0       3280.0      400.0   11928.0   \n",
      "2014  3352781        2   23288.2    46200.0       5260.0     2280.0    2268.0   \n",
      "2015  3352871        9  173597.8    70534.0       6640.0    15040.0    5184.0   \n",
      "2016  3352901        8  104858.4   105032.0      10400.0     8088.0   26400.0   \n",
      "2017  3353771        5   66276.0    56548.0       7280.0     2600.0   17340.0   \n",
      "2018  3354211        7   95073.8    37216.0       4940.0     2080.0   10308.0   \n",
      "2019  3354331        3   34624.0    52724.0       5680.0     4160.0   18600.0   \n",
      "2020  3354721        3   47794.2    72552.0       7800.0     2600.0   16800.0   \n",
      "2021  3355931        3   30924.0    25902.0       5744.0       24.0   12000.0   \n",
      "\n",
      "      otherHousing  iUtilites  iClothingAndBeauty  iTransportation  \\\n",
      "0            420.0      720.0              1840.0           1440.0   \n",
      "1          13884.0     4032.0              2796.0         179332.0   \n",
      "2          23473.0     8248.0              2232.0          16808.0   \n",
      "3          12532.0     5604.0              2544.0         133088.0   \n",
      "4          16141.0     4380.0               520.0           8028.0   \n",
      "5           7584.0     5288.0              1360.0           9112.0   \n",
      "6           5404.0     6228.0              3440.0           2952.0   \n",
      "7              0.0     1452.0                 0.0           2300.0   \n",
      "8           3088.0     4364.0              2216.0           5312.0   \n",
      "9           3540.0     2608.0              1204.0          13976.0   \n",
      "10           216.0     2148.0              5080.0          27732.0   \n",
      "11         33968.0     5068.0              1480.0          56372.0   \n",
      "12          5496.0     7080.0              1656.0           1864.0   \n",
      "13          3544.0     2572.0               352.0           4160.0   \n",
      "14          6588.0     4956.0              6928.0           2748.0   \n",
      "15         13464.0     9528.0              5512.0           9312.0   \n",
      "16          1240.0     7396.0              1020.0           6540.0   \n",
      "17         10944.0     6560.0              3760.0          34396.0   \n",
      "18         14712.0     9848.0              4364.0           5048.0   \n",
      "19         24748.0     6376.0              8172.0          20904.0   \n",
      "20           540.0     3136.0              2776.0           1452.0   \n",
      "21          6192.0     4948.0              4096.0           8452.0   \n",
      "22          5712.0     4192.0              1400.0           2212.0   \n",
      "23         13640.0     5872.0               764.0          30888.0   \n",
      "24          3820.0     5776.0               508.0           1604.0   \n",
      "25             0.0     2016.0                 0.0           2400.0   \n",
      "26          5608.0     5848.0               104.0          11456.0   \n",
      "27          1420.0     2580.0                 0.0           2156.0   \n",
      "28           620.0     5400.0              4680.0           9108.0   \n",
      "29          1300.0     1968.0              3480.0           5928.0   \n",
      "...            ...        ...                 ...              ...   \n",
      "1992       22168.0     7632.0              5132.0          10116.0   \n",
      "1993        3200.0     5572.0                 0.0         161360.0   \n",
      "1994        5972.0     4508.0               872.0           3080.0   \n",
      "1995        7892.0     4540.0                80.0           5188.0   \n",
      "1996        2820.0     2504.0               120.0           1860.0   \n",
      "1997        2716.0     3016.0               492.0           2840.0   \n",
      "1998        5860.0     3788.0              3524.0           2020.0   \n",
      "1999         148.0     4044.0               332.0           1700.0   \n",
      "2000       39661.0     9016.0              3980.0           4272.0   \n",
      "2001        8900.0     2900.0                64.0           3272.0   \n",
      "2002        3472.0     3936.0               108.0           5564.0   \n",
      "2003          90.0     3608.0                 0.0              0.0   \n",
      "2004        4520.0     3804.0               260.0         118016.0   \n",
      "2005        9816.0     6760.0              1380.0           6180.0   \n",
      "2006        6124.0     4960.0               536.0           3660.0   \n",
      "2007       11620.0    13720.0               640.0           2920.0   \n",
      "2008       20605.0     3896.0               800.0         118268.0   \n",
      "2009       19316.0     4736.0              3124.0           2120.0   \n",
      "2010        2500.0     2596.0               760.0           1600.0   \n",
      "2011       23004.0    13088.0             59508.0          33152.0   \n",
      "2012        8680.0     5044.0              2800.0          27720.0   \n",
      "2013        8628.0     4400.0               820.0           3076.0   \n",
      "2014        4456.0     3472.0                 0.0           8952.0   \n",
      "2015        7242.0     5688.0              5588.0           3168.0   \n",
      "2016       14724.0     6804.0             11080.0           6800.0   \n",
      "2017        5432.0     2412.0               400.0           4184.0   \n",
      "2018        3284.0     4336.0               344.0           2844.0   \n",
      "2019        8572.0     4908.0              1040.0           2900.0   \n",
      "2020       19480.0     6388.0                 0.0           8232.0   \n",
      "2021         320.0     3260.0                 0.0           2560.0   \n",
      "\n",
      "      iHealthcare  iEntertainment  iMiscellaneous  iCharitableAndFamilyGiving  \\\n",
      "0          9330.8             0.0             0.0                     16000.0   \n",
      "1         10229.6          4156.0             0.0                      2040.0   \n",
      "2         17000.0          7400.0             0.0                      2000.0   \n",
      "3          4225.6          2360.0          2704.0                      3860.0   \n",
      "4          4378.8             0.0             0.0                      3000.0   \n",
      "5          7940.0          3452.0           180.0                      5000.0   \n",
      "6          7368.0          7848.0             0.0                         0.0   \n",
      "7          6794.8          1860.0          1456.0                      1040.0   \n",
      "8         12766.8           976.0             0.0                      4240.0   \n",
      "9          9529.6          1520.0             0.0                      4240.0   \n",
      "10         1258.8           864.0           480.0                      4200.0   \n",
      "11        44494.8          6640.0             0.0                      1100.0   \n",
      "12         1744.0          3372.0             0.0                         0.0   \n",
      "13         5686.8          4396.0             0.0                       240.0   \n",
      "14         3217.6          2196.0             0.0                      4260.0   \n",
      "15         5929.6          3412.0             0.0                       260.0   \n",
      "16        22624.0          1772.0             0.0                      4200.0   \n",
      "17         5640.0         13160.0             0.0                      1200.0   \n",
      "18         6110.8         19620.0             0.0                       120.0   \n",
      "19         4220.0         13456.0          1140.0                     18624.0   \n",
      "20         6578.8          2136.0          1296.0                         0.0   \n",
      "21         3516.0          2240.0          1744.0                       120.0   \n",
      "22         3284.0          1740.0             0.0                      1800.0   \n",
      "23         9933.6          8304.0           704.0                      2800.0   \n",
      "24         5329.6          2276.0             0.0                      4624.0   \n",
      "25         2600.0             0.0             0.0                         0.0   \n",
      "26         6474.8          7216.0           380.0                     12336.0   \n",
      "27         9120.0          1828.0             0.0                         0.0   \n",
      "28         4425.6           800.0           800.0                       600.0   \n",
      "29        13113.6          3496.0            16.0                      3200.0   \n",
      "...           ...             ...             ...                         ...   \n",
      "1992       5894.0          5692.0           300.0                      2020.0   \n",
      "1993       3068.0          1920.0             0.0                         0.0   \n",
      "1994       7982.0           960.0          3820.0                      1920.0   \n",
      "1995       1392.0          2696.0             0.0                         0.0   \n",
      "1996       2594.0           108.0             0.0                         0.0   \n",
      "1997       5780.0          1420.0             0.0                       900.0   \n",
      "1998      11720.0          2592.0          1040.0                      8280.0   \n",
      "1999          0.0             0.0             0.0                         0.0   \n",
      "2000        480.0          2880.0             0.0                         0.0   \n",
      "2001       1394.0           400.0           440.0                         0.0   \n",
      "2002          0.0          2268.0             0.0                     36000.0   \n",
      "2003       1394.0           876.0             0.0                       708.0   \n",
      "2004       2788.0          1520.0             0.0                         0.0   \n",
      "2005       4968.0          2144.0             0.0                       240.0   \n",
      "2006       2788.0          1600.0             0.0                      1188.0   \n",
      "2007      11802.0          2208.0          1440.0                       200.0   \n",
      "2008       2412.0           844.0          1040.0                       600.0   \n",
      "2009      10428.0         12336.0            40.0                     22200.0   \n",
      "2010       7948.0          1008.0             0.0                         0.0   \n",
      "2011       8094.0          8668.0             0.0                      4000.0   \n",
      "2012       4036.0          6780.0         10028.0                       760.0   \n",
      "2013       2484.0          1360.0           824.0                         0.0   \n",
      "2014      16904.0          2320.0           288.0                         0.0   \n",
      "2015      11320.0          9344.0           120.0                      1200.0   \n",
      "2016       5044.0          6264.0           628.0                      8800.0   \n",
      "2017       9788.0          3112.0             0.0                      4000.0   \n",
      "2018       4920.0             0.0          4160.0                         0.0   \n",
      "2019       6220.0           644.0             0.0                         0.0   \n",
      "2020       7548.0          3664.0             0.0                        40.0   \n",
      "2021       1634.0           360.0             0.0                         0.0   \n",
      "\n",
      "      iInsurance  iEducation  iHousingPrinciple  \n",
      "0            0.0         0.0                0.0  \n",
      "1           92.0         0.0             4492.0  \n",
      "2            0.0      1600.0             1896.0  \n",
      "3            0.0         0.0             3156.0  \n",
      "4            0.0         0.0              416.0  \n",
      "5          628.0         0.0             2524.0  \n",
      "6            0.0         0.0             3288.0  \n",
      "7            0.0         0.0                0.0  \n",
      "8          464.0         0.0             1228.0  \n",
      "9            0.0         0.0             1908.0  \n",
      "10           0.0         0.0                0.0  \n",
      "11           0.0         0.0             8016.0  \n",
      "12           0.0         0.0             4868.0  \n",
      "13           0.0         0.0                0.0  \n",
      "14         204.0         0.0            45328.0  \n",
      "15           0.0         0.0             2076.0  \n",
      "16         640.0         0.0                0.0  \n",
      "17         796.0         0.0             4184.0  \n",
      "18        1024.0      1960.0             3156.0  \n",
      "19        6168.0       140.0             9228.0  \n",
      "20           0.0         0.0                0.0  \n",
      "21           0.0         0.0             2940.0  \n",
      "22        2360.0         0.0             1592.0  \n",
      "23           0.0         0.0             1244.0  \n",
      "24        2760.0         0.0             2568.0  \n",
      "25           0.0         0.0                0.0  \n",
      "26           0.0         0.0             1356.0  \n",
      "27           0.0         0.0            10676.0  \n",
      "28           0.0       600.0                0.0  \n",
      "29           0.0         0.0                0.0  \n",
      "...          ...         ...                ...  \n",
      "1992      1800.0         0.0             3640.0  \n",
      "1993       436.0         0.0             6936.0  \n",
      "1994         0.0         0.0             2616.0  \n",
      "1995         0.0         0.0             1388.0  \n",
      "1996         0.0         0.0             1572.0  \n",
      "1997       480.0         0.0                0.0  \n",
      "1998       680.0         0.0             1364.0  \n",
      "1999         0.0         0.0                0.0  \n",
      "2000         0.0      8800.0            41520.0  \n",
      "2001         0.0         0.0            13252.0  \n",
      "2002         0.0         0.0             6164.0  \n",
      "2003         0.0         0.0                0.0  \n",
      "2004         0.0         0.0             3072.0  \n",
      "2005       160.0         0.0             4032.0  \n",
      "2006         0.0         0.0            19876.0  \n",
      "2007         0.0         0.0             3744.0  \n",
      "2008         0.0         0.0             7576.0  \n",
      "2009       880.0         0.0            14064.0  \n",
      "2010         0.0         0.0             1624.0  \n",
      "2011      3000.0         0.0             3144.0  \n",
      "2012         0.0         0.0                0.0  \n",
      "2013       132.0         0.0             8108.0  \n",
      "2014         0.0         0.0             1608.0  \n",
      "2015         0.0         0.0             1808.0  \n",
      "2016         0.0         0.0            19876.0  \n",
      "2017         0.0         0.0             2284.0  \n",
      "2018         0.0         0.0             6976.0  \n",
      "2019         0.0         0.0             3084.0  \n",
      "2020         0.0         0.0             1788.0  \n",
      "2021         0.0         0.0             8148.0  \n",
      "\n",
      "[2022 rows x 18 columns]\n"
     ]
    },
    {
     "name": "stderr",
     "output_type": "stream",
     "text": [
      "/Users/adyke/Vizuri/BLS_Python_Analysis/blsFunctions.py:96: SettingWithCopyWarning: \n",
      "A value is trying to be set on a copy of a slice from a DataFrame.\n",
      "Try using .loc[row_indexer,col_indexer] = value instead\n",
      "\n",
      "See the caveats in the documentation: http://pandas.pydata.org/pandas-docs/stable/indexing.html#indexing-view-versus-copy\n",
      "  dataframe[binnedColumnName] = pd.cut(dataframe[toBinColumnName], bins=binValues, labels=labels)\n"
     ]
    }
   ],
   "source": [
    "fmliFamilyRecoded = binColumn(dataframe=fmliFamilyAge, toBinColumnName=\"FINCBTXM\", binValues=familyIncomeBrackets, binnedColumnName=\"INCLASS\", labels=range(1,len(familyIncomeBrackets)))\n",
    "inclassExpensesFamily = pd.merge(left=fmliFamilyRecoded[['NEWID','INCLASS','FINCBTXM']],right=iExpensesByNewID, on=['NEWID'])\n",
    "print(inclassExpensesFamily)\n",
    "inclassAveragesFamily = round(inclassExpensesFamily.ix[: ,inclassExpensesFamily.columns != 'NEWID'].groupby(['INCLASS'],as_index=False).mean(),2)\n",
    "percentagesFamily = inclassAveragesFamily.loc[:,rollupDict.keys()]\n",
    "for column in rollupDict.keys():\n",
    "    percentagesFamily[column] = inclassAveragesFamily[column]/inclassAveragesFamily.iTotalExp\n",
    "percentagesFamily['ExpInc'] = inclassAveragesFamily['iTotalExp']/inclassAveragesFamily['FINCBTXM']\n",
    "percentagesFamily.ExpInc.ix[percentagesFamily['ExpInc']>1] = 1\n",
    "outliersFamily = inclassExpensesFamily.copy()\n",
    "outerFenceFamily = []\n",
    "for column in outliersFamily.columns[4:len(outliersFamily.columns)-1]:\n",
    "    Q1 = outliersFamily[column].quantile(0.25)\n",
    "    Q3 = outliersFamily[column].quantile(0.75)\n",
    "    IQR = Q3 - Q1\n",
    "    outerFenceFamily.extend(outliersFamily[outliersFamily[column] < (Q1 - (3 * IQR))].index.tolist())\n",
    "    outerFenceFamily.extend(outliersFamily[outliersFamily[column] > (Q3 + (3 * IQR))].index.tolist())\n",
    "cleanFamily = outliersFamily.drop(outliersFamily.index[outerFenceFamily])\n",
    "inclassCleanAveragesFamily = round(cleanFamily.ix[: ,cleanFamily.columns != 'NEWID'].groupby(['INCLASS'],as_index=False).mean(),2)\n",
    "# creating new dataframe for the percentages that only includes the plynty categories\n",
    "cleanPercentagesFamily = inclassCleanAveragesFamily.loc[:,rollupDict.keys()]\n",
    "for column in rollupDict.keys():\n",
    "    cleanPercentagesFamily[column] = inclassCleanAveragesFamily[column]/inclassCleanAveragesFamily.iTotalExp\n",
    "cleanPercentagesFamily['ExpInc'] = inclassCleanAveragesFamily['iTotalExp']/inclassCleanAveragesFamily['FINCBTXM']\n",
    "# truncate the max ExpInc\n",
    "cleanPercentagesNonTruncatedFamily = cleanPercentagesFamily.copy()\n",
    "cleanPercentagesFamily.ExpInc.ix[cleanPercentagesFamily['ExpInc']>1] = 1"
   ]
  },
  {
   "cell_type": "code",
   "execution_count": 11,
   "metadata": {
    "collapsed": false
   },
   "outputs": [
    {
     "name": "stderr",
     "output_type": "stream",
     "text": [
      "/Users/adyke/Vizuri/BLS_Python_Analysis/blsFunctions.py:96: SettingWithCopyWarning: \n",
      "A value is trying to be set on a copy of a slice from a DataFrame.\n",
      "Try using .loc[row_indexer,col_indexer] = value instead\n",
      "\n",
      "See the caveats in the documentation: http://pandas.pydata.org/pandas-docs/stable/indexing.html#indexing-view-versus-copy\n",
      "  dataframe[binnedColumnName] = pd.cut(dataframe[toBinColumnName], bins=binValues, labels=labels)\n"
     ]
    }
   ],
   "source": [
    "fmliSingleRecoded = binColumn(dataframe=fmliSingleAge, toBinColumnName=\"FINCBTXM\", binValues=singleIncomeBrackets, binnedColumnName=\"INCLASS\", labels=range(1,len(singleIncomeBrackets)))\n",
    "inclassExpensesSingle = pd.merge(left=fmliSingleRecoded[['NEWID','INCLASS','FINCBTXM']],right=iExpensesByNewID, on=['NEWID'])\n",
    "inclassAveragesSingle = round(inclassExpensesSingle.ix[: ,inclassExpensesSingle.columns != 'NEWID'].groupby(['INCLASS'],as_index=False).mean(),2)\n",
    "percentagesSingle = inclassAveragesSingle.loc[:,rollupDict.keys()]\n",
    "for column in rollupDict.keys():\n",
    "    percentagesSingle[column] = inclassAveragesSingle[column]/inclassAveragesSingle.iTotalExp\n",
    "percentagesSingle['ExpInc'] = inclassAveragesSingle['iTotalExp']/inclassAveragesSingle['FINCBTXM']\n",
    "percentagesSingle.ExpInc.ix[percentagesSingle['ExpInc']>1] = 1\n",
    "outliersSingle = inclassExpensesSingle.copy()\n",
    "outerFenceSingle = []\n",
    "for column in outliersSingle.columns[4:len(outliersSingle.columns)-1]:\n",
    "    Q1 = outliersSingle[column].quantile(0.25)\n",
    "    Q3 = outliersSingle[column].quantile(0.75)\n",
    "    IQR = Q3 - Q1\n",
    "    outerFenceSingle.extend(outliersSingle[outliersSingle[column] < (Q1 - (3 * IQR))].index.tolist())\n",
    "    outerFenceSingle.extend(outliersSingle[outliersSingle[column] > (Q3 + (3 * IQR))].index.tolist())\n",
    "cleanSingle = outliersSingle.drop(outliersSingle.index[outerFenceSingle])\n",
    "inclassCleanAveragesSingle = round(cleanSingle.ix[: ,cleanSingle.columns != 'NEWID'].groupby(['INCLASS'],as_index=False).mean(),2)\n",
    "# creating new dataframe for the percentages that only includes the plynty categories\n",
    "cleanPercentagesSingle = inclassCleanAveragesSingle.loc[:,rollupDict.keys()]\n",
    "for column in rollupDict.keys():\n",
    "    cleanPercentagesSingle[column] = inclassCleanAveragesSingle[column]/inclassCleanAveragesSingle.iTotalExp\n",
    "cleanPercentagesSingle['ExpInc'] = inclassCleanAveragesSingle['iTotalExp']/inclassCleanAveragesSingle['FINCBTXM']\n",
    "# truncate the max ExpInc\n",
    "cleanPercentagesNonTruncatedSingle = cleanPercentagesSingle.copy()\n",
    "cleanPercentagesSingle.ExpInc.ix[cleanPercentagesSingle['ExpInc']>1] = 1"
   ]
  },
  {
   "cell_type": "code",
   "execution_count": 12,
   "metadata": {
    "collapsed": false
   },
   "outputs": [
    {
     "data": {
      "text/html": [
       "<div>\n",
       "<table border=\"1\" class=\"dataframe\">\n",
       "  <thead>\n",
       "    <tr style=\"text-align: right;\">\n",
       "      <th></th>\n",
       "      <th>iTotalExp</th>\n",
       "      <th>iFoodAtHome</th>\n",
       "      <th>iFoodAway</th>\n",
       "      <th>iHousing</th>\n",
       "      <th>otherHousing</th>\n",
       "      <th>iUtilites</th>\n",
       "      <th>iClothingAndBeauty</th>\n",
       "      <th>iTransportation</th>\n",
       "      <th>iHealthcare</th>\n",
       "      <th>iEntertainment</th>\n",
       "      <th>iMiscellaneous</th>\n",
       "      <th>iCharitableAndFamilyGiving</th>\n",
       "      <th>iInsurance</th>\n",
       "      <th>iEducation</th>\n",
       "      <th>iHousingPrinciple</th>\n",
       "      <th>ExpInc</th>\n",
       "    </tr>\n",
       "  </thead>\n",
       "  <tbody>\n",
       "    <tr>\n",
       "      <th>0</th>\n",
       "      <td>1.0</td>\n",
       "      <td>0.157198</td>\n",
       "      <td>0.072090</td>\n",
       "      <td>0.308538</td>\n",
       "      <td>0.088447</td>\n",
       "      <td>0.097987</td>\n",
       "      <td>0.029561</td>\n",
       "      <td>0.102380</td>\n",
       "      <td>0.082963</td>\n",
       "      <td>0.038593</td>\n",
       "      <td>0.009679</td>\n",
       "      <td>0.012565</td>\n",
       "      <td>0.0</td>\n",
       "      <td>0.0</td>\n",
       "      <td>0.051634</td>\n",
       "      <td>1.000000</td>\n",
       "    </tr>\n",
       "    <tr>\n",
       "      <th>1</th>\n",
       "      <td>1.0</td>\n",
       "      <td>0.145997</td>\n",
       "      <td>0.060421</td>\n",
       "      <td>0.320281</td>\n",
       "      <td>0.082924</td>\n",
       "      <td>0.100973</td>\n",
       "      <td>0.022560</td>\n",
       "      <td>0.091800</td>\n",
       "      <td>0.099484</td>\n",
       "      <td>0.047385</td>\n",
       "      <td>0.009759</td>\n",
       "      <td>0.018415</td>\n",
       "      <td>0.0</td>\n",
       "      <td>0.0</td>\n",
       "      <td>0.042022</td>\n",
       "      <td>1.000000</td>\n",
       "    </tr>\n",
       "    <tr>\n",
       "      <th>2</th>\n",
       "      <td>1.0</td>\n",
       "      <td>0.115336</td>\n",
       "      <td>0.054450</td>\n",
       "      <td>0.309978</td>\n",
       "      <td>0.097011</td>\n",
       "      <td>0.090336</td>\n",
       "      <td>0.022526</td>\n",
       "      <td>0.109667</td>\n",
       "      <td>0.124713</td>\n",
       "      <td>0.045144</td>\n",
       "      <td>0.007469</td>\n",
       "      <td>0.023370</td>\n",
       "      <td>0.0</td>\n",
       "      <td>0.0</td>\n",
       "      <td>0.061888</td>\n",
       "      <td>0.776985</td>\n",
       "    </tr>\n",
       "    <tr>\n",
       "      <th>3</th>\n",
       "      <td>1.0</td>\n",
       "      <td>0.110730</td>\n",
       "      <td>0.053688</td>\n",
       "      <td>0.309394</td>\n",
       "      <td>0.134732</td>\n",
       "      <td>0.079767</td>\n",
       "      <td>0.024348</td>\n",
       "      <td>0.117754</td>\n",
       "      <td>0.092647</td>\n",
       "      <td>0.062035</td>\n",
       "      <td>0.003050</td>\n",
       "      <td>0.011854</td>\n",
       "      <td>0.0</td>\n",
       "      <td>0.0</td>\n",
       "      <td>0.088332</td>\n",
       "      <td>0.623910</td>\n",
       "    </tr>\n",
       "    <tr>\n",
       "      <th>4</th>\n",
       "      <td>1.0</td>\n",
       "      <td>0.102696</td>\n",
       "      <td>0.067483</td>\n",
       "      <td>0.342504</td>\n",
       "      <td>0.140093</td>\n",
       "      <td>0.109659</td>\n",
       "      <td>0.021394</td>\n",
       "      <td>0.079025</td>\n",
       "      <td>0.065158</td>\n",
       "      <td>0.048089</td>\n",
       "      <td>0.006525</td>\n",
       "      <td>0.017374</td>\n",
       "      <td>0.0</td>\n",
       "      <td>0.0</td>\n",
       "      <td>0.060829</td>\n",
       "      <td>0.530938</td>\n",
       "    </tr>\n",
       "    <tr>\n",
       "      <th>5</th>\n",
       "      <td>1.0</td>\n",
       "      <td>0.097972</td>\n",
       "      <td>0.073634</td>\n",
       "      <td>0.320493</td>\n",
       "      <td>0.132546</td>\n",
       "      <td>0.093261</td>\n",
       "      <td>0.021687</td>\n",
       "      <td>0.114004</td>\n",
       "      <td>0.074430</td>\n",
       "      <td>0.049835</td>\n",
       "      <td>0.002409</td>\n",
       "      <td>0.019728</td>\n",
       "      <td>0.0</td>\n",
       "      <td>0.0</td>\n",
       "      <td>0.062253</td>\n",
       "      <td>0.429707</td>\n",
       "    </tr>\n",
       "    <tr>\n",
       "      <th>6</th>\n",
       "      <td>1.0</td>\n",
       "      <td>0.095020</td>\n",
       "      <td>0.080923</td>\n",
       "      <td>0.315176</td>\n",
       "      <td>0.093782</td>\n",
       "      <td>0.078530</td>\n",
       "      <td>0.045657</td>\n",
       "      <td>0.112236</td>\n",
       "      <td>0.106409</td>\n",
       "      <td>0.042772</td>\n",
       "      <td>0.004609</td>\n",
       "      <td>0.024887</td>\n",
       "      <td>0.0</td>\n",
       "      <td>0.0</td>\n",
       "      <td>0.082787</td>\n",
       "      <td>0.424833</td>\n",
       "    </tr>\n",
       "    <tr>\n",
       "      <th>7</th>\n",
       "      <td>1.0</td>\n",
       "      <td>0.077687</td>\n",
       "      <td>0.074455</td>\n",
       "      <td>0.317558</td>\n",
       "      <td>0.144078</td>\n",
       "      <td>0.084362</td>\n",
       "      <td>0.027439</td>\n",
       "      <td>0.099291</td>\n",
       "      <td>0.103164</td>\n",
       "      <td>0.050193</td>\n",
       "      <td>0.004474</td>\n",
       "      <td>0.017299</td>\n",
       "      <td>0.0</td>\n",
       "      <td>0.0</td>\n",
       "      <td>0.108244</td>\n",
       "      <td>0.337080</td>\n",
       "    </tr>\n",
       "    <tr>\n",
       "      <th>8</th>\n",
       "      <td>1.0</td>\n",
       "      <td>0.055579</td>\n",
       "      <td>0.085258</td>\n",
       "      <td>0.368749</td>\n",
       "      <td>0.128244</td>\n",
       "      <td>0.069056</td>\n",
       "      <td>0.045661</td>\n",
       "      <td>0.105879</td>\n",
       "      <td>0.050964</td>\n",
       "      <td>0.077084</td>\n",
       "      <td>0.002111</td>\n",
       "      <td>0.011415</td>\n",
       "      <td>0.0</td>\n",
       "      <td>0.0</td>\n",
       "      <td>0.156475</td>\n",
       "      <td>0.210954</td>\n",
       "    </tr>\n",
       "  </tbody>\n",
       "</table>\n",
       "</div>"
      ],
      "text/plain": [
       "   iTotalExp  iFoodAtHome  iFoodAway  iHousing  otherHousing  iUtilites  \\\n",
       "0        1.0     0.157198   0.072090  0.308538      0.088447   0.097987   \n",
       "1        1.0     0.145997   0.060421  0.320281      0.082924   0.100973   \n",
       "2        1.0     0.115336   0.054450  0.309978      0.097011   0.090336   \n",
       "3        1.0     0.110730   0.053688  0.309394      0.134732   0.079767   \n",
       "4        1.0     0.102696   0.067483  0.342504      0.140093   0.109659   \n",
       "5        1.0     0.097972   0.073634  0.320493      0.132546   0.093261   \n",
       "6        1.0     0.095020   0.080923  0.315176      0.093782   0.078530   \n",
       "7        1.0     0.077687   0.074455  0.317558      0.144078   0.084362   \n",
       "8        1.0     0.055579   0.085258  0.368749      0.128244   0.069056   \n",
       "\n",
       "   iClothingAndBeauty  iTransportation  iHealthcare  iEntertainment  \\\n",
       "0            0.029561         0.102380     0.082963        0.038593   \n",
       "1            0.022560         0.091800     0.099484        0.047385   \n",
       "2            0.022526         0.109667     0.124713        0.045144   \n",
       "3            0.024348         0.117754     0.092647        0.062035   \n",
       "4            0.021394         0.079025     0.065158        0.048089   \n",
       "5            0.021687         0.114004     0.074430        0.049835   \n",
       "6            0.045657         0.112236     0.106409        0.042772   \n",
       "7            0.027439         0.099291     0.103164        0.050193   \n",
       "8            0.045661         0.105879     0.050964        0.077084   \n",
       "\n",
       "   iMiscellaneous  iCharitableAndFamilyGiving  iInsurance  iEducation  \\\n",
       "0        0.009679                    0.012565         0.0         0.0   \n",
       "1        0.009759                    0.018415         0.0         0.0   \n",
       "2        0.007469                    0.023370         0.0         0.0   \n",
       "3        0.003050                    0.011854         0.0         0.0   \n",
       "4        0.006525                    0.017374         0.0         0.0   \n",
       "5        0.002409                    0.019728         0.0         0.0   \n",
       "6        0.004609                    0.024887         0.0         0.0   \n",
       "7        0.004474                    0.017299         0.0         0.0   \n",
       "8        0.002111                    0.011415         0.0         0.0   \n",
       "\n",
       "   iHousingPrinciple    ExpInc  \n",
       "0           0.051634  1.000000  \n",
       "1           0.042022  1.000000  \n",
       "2           0.061888  0.776985  \n",
       "3           0.088332  0.623910  \n",
       "4           0.060829  0.530938  \n",
       "5           0.062253  0.429707  \n",
       "6           0.082787  0.424833  \n",
       "7           0.108244  0.337080  \n",
       "8           0.156475  0.210954  "
      ]
     },
     "execution_count": 12,
     "metadata": {},
     "output_type": "execute_result"
    }
   ],
   "source": [
    "cleanPercentagesSingle"
   ]
  },
  {
   "cell_type": "code",
   "execution_count": 13,
   "metadata": {
    "collapsed": false
   },
   "outputs": [
    {
     "data": {
      "text/html": [
       "<div>\n",
       "<table border=\"1\" class=\"dataframe\">\n",
       "  <thead>\n",
       "    <tr style=\"text-align: right;\">\n",
       "      <th></th>\n",
       "      <th>iTotalExp</th>\n",
       "      <th>iFoodAtHome</th>\n",
       "      <th>iFoodAway</th>\n",
       "      <th>iHousing</th>\n",
       "      <th>otherHousing</th>\n",
       "      <th>iUtilites</th>\n",
       "      <th>iClothingAndBeauty</th>\n",
       "      <th>iTransportation</th>\n",
       "      <th>iHealthcare</th>\n",
       "      <th>iEntertainment</th>\n",
       "      <th>iMiscellaneous</th>\n",
       "      <th>iCharitableAndFamilyGiving</th>\n",
       "      <th>iInsurance</th>\n",
       "      <th>iEducation</th>\n",
       "      <th>iHousingPrinciple</th>\n",
       "      <th>ExpInc</th>\n",
       "    </tr>\n",
       "  </thead>\n",
       "  <tbody>\n",
       "    <tr>\n",
       "      <th>0</th>\n",
       "      <td>1.0</td>\n",
       "      <td>0.143982</td>\n",
       "      <td>0.051760</td>\n",
       "      <td>0.239631</td>\n",
       "      <td>0.137913</td>\n",
       "      <td>0.100992</td>\n",
       "      <td>0.021448</td>\n",
       "      <td>0.102635</td>\n",
       "      <td>0.122152</td>\n",
       "      <td>0.046759</td>\n",
       "      <td>0.008464</td>\n",
       "      <td>0.022193</td>\n",
       "      <td>0.002070</td>\n",
       "      <td>0.0</td>\n",
       "      <td>0.074093</td>\n",
       "      <td>1.000000</td>\n",
       "    </tr>\n",
       "    <tr>\n",
       "      <th>1</th>\n",
       "      <td>1.0</td>\n",
       "      <td>0.149723</td>\n",
       "      <td>0.058038</td>\n",
       "      <td>0.241721</td>\n",
       "      <td>0.104785</td>\n",
       "      <td>0.105938</td>\n",
       "      <td>0.025751</td>\n",
       "      <td>0.104198</td>\n",
       "      <td>0.121105</td>\n",
       "      <td>0.050503</td>\n",
       "      <td>0.010035</td>\n",
       "      <td>0.023022</td>\n",
       "      <td>0.005183</td>\n",
       "      <td>0.0</td>\n",
       "      <td>0.061673</td>\n",
       "      <td>1.000000</td>\n",
       "    </tr>\n",
       "    <tr>\n",
       "      <th>2</th>\n",
       "      <td>1.0</td>\n",
       "      <td>0.133246</td>\n",
       "      <td>0.056037</td>\n",
       "      <td>0.241773</td>\n",
       "      <td>0.119990</td>\n",
       "      <td>0.102830</td>\n",
       "      <td>0.023154</td>\n",
       "      <td>0.111385</td>\n",
       "      <td>0.123542</td>\n",
       "      <td>0.043856</td>\n",
       "      <td>0.014043</td>\n",
       "      <td>0.024477</td>\n",
       "      <td>0.005668</td>\n",
       "      <td>0.0</td>\n",
       "      <td>0.070234</td>\n",
       "      <td>0.974456</td>\n",
       "    </tr>\n",
       "    <tr>\n",
       "      <th>3</th>\n",
       "      <td>1.0</td>\n",
       "      <td>0.133057</td>\n",
       "      <td>0.054645</td>\n",
       "      <td>0.215030</td>\n",
       "      <td>0.130447</td>\n",
       "      <td>0.104668</td>\n",
       "      <td>0.027224</td>\n",
       "      <td>0.122241</td>\n",
       "      <td>0.126817</td>\n",
       "      <td>0.047103</td>\n",
       "      <td>0.013748</td>\n",
       "      <td>0.019621</td>\n",
       "      <td>0.005399</td>\n",
       "      <td>0.0</td>\n",
       "      <td>0.068321</td>\n",
       "      <td>0.759277</td>\n",
       "    </tr>\n",
       "    <tr>\n",
       "      <th>4</th>\n",
       "      <td>1.0</td>\n",
       "      <td>0.124630</td>\n",
       "      <td>0.060734</td>\n",
       "      <td>0.206044</td>\n",
       "      <td>0.143875</td>\n",
       "      <td>0.098088</td>\n",
       "      <td>0.028241</td>\n",
       "      <td>0.128367</td>\n",
       "      <td>0.120181</td>\n",
       "      <td>0.048696</td>\n",
       "      <td>0.008797</td>\n",
       "      <td>0.028155</td>\n",
       "      <td>0.004192</td>\n",
       "      <td>0.0</td>\n",
       "      <td>0.066135</td>\n",
       "      <td>0.704116</td>\n",
       "    </tr>\n",
       "    <tr>\n",
       "      <th>5</th>\n",
       "      <td>1.0</td>\n",
       "      <td>0.132708</td>\n",
       "      <td>0.060125</td>\n",
       "      <td>0.214994</td>\n",
       "      <td>0.151092</td>\n",
       "      <td>0.087205</td>\n",
       "      <td>0.028218</td>\n",
       "      <td>0.106962</td>\n",
       "      <td>0.123831</td>\n",
       "      <td>0.053823</td>\n",
       "      <td>0.010503</td>\n",
       "      <td>0.024478</td>\n",
       "      <td>0.006061</td>\n",
       "      <td>0.0</td>\n",
       "      <td>0.063211</td>\n",
       "      <td>0.694756</td>\n",
       "    </tr>\n",
       "    <tr>\n",
       "      <th>6</th>\n",
       "      <td>1.0</td>\n",
       "      <td>0.121390</td>\n",
       "      <td>0.053041</td>\n",
       "      <td>0.202784</td>\n",
       "      <td>0.158540</td>\n",
       "      <td>0.097044</td>\n",
       "      <td>0.026956</td>\n",
       "      <td>0.110181</td>\n",
       "      <td>0.133563</td>\n",
       "      <td>0.050734</td>\n",
       "      <td>0.012024</td>\n",
       "      <td>0.027921</td>\n",
       "      <td>0.005822</td>\n",
       "      <td>0.0</td>\n",
       "      <td>0.081345</td>\n",
       "      <td>0.594793</td>\n",
       "    </tr>\n",
       "    <tr>\n",
       "      <th>7</th>\n",
       "      <td>1.0</td>\n",
       "      <td>0.116824</td>\n",
       "      <td>0.065721</td>\n",
       "      <td>0.219731</td>\n",
       "      <td>0.167594</td>\n",
       "      <td>0.098056</td>\n",
       "      <td>0.031637</td>\n",
       "      <td>0.113029</td>\n",
       "      <td>0.107325</td>\n",
       "      <td>0.042680</td>\n",
       "      <td>0.007112</td>\n",
       "      <td>0.025732</td>\n",
       "      <td>0.004559</td>\n",
       "      <td>0.0</td>\n",
       "      <td>0.092330</td>\n",
       "      <td>0.484401</td>\n",
       "    </tr>\n",
       "    <tr>\n",
       "      <th>8</th>\n",
       "      <td>1.0</td>\n",
       "      <td>0.110140</td>\n",
       "      <td>0.066165</td>\n",
       "      <td>0.248875</td>\n",
       "      <td>0.180252</td>\n",
       "      <td>0.087449</td>\n",
       "      <td>0.031623</td>\n",
       "      <td>0.124336</td>\n",
       "      <td>0.074577</td>\n",
       "      <td>0.041903</td>\n",
       "      <td>0.007775</td>\n",
       "      <td>0.023777</td>\n",
       "      <td>0.003128</td>\n",
       "      <td>0.0</td>\n",
       "      <td>0.078288</td>\n",
       "      <td>0.339772</td>\n",
       "    </tr>\n",
       "  </tbody>\n",
       "</table>\n",
       "</div>"
      ],
      "text/plain": [
       "   iTotalExp  iFoodAtHome  iFoodAway  iHousing  otherHousing  iUtilites  \\\n",
       "0        1.0     0.143982   0.051760  0.239631      0.137913   0.100992   \n",
       "1        1.0     0.149723   0.058038  0.241721      0.104785   0.105938   \n",
       "2        1.0     0.133246   0.056037  0.241773      0.119990   0.102830   \n",
       "3        1.0     0.133057   0.054645  0.215030      0.130447   0.104668   \n",
       "4        1.0     0.124630   0.060734  0.206044      0.143875   0.098088   \n",
       "5        1.0     0.132708   0.060125  0.214994      0.151092   0.087205   \n",
       "6        1.0     0.121390   0.053041  0.202784      0.158540   0.097044   \n",
       "7        1.0     0.116824   0.065721  0.219731      0.167594   0.098056   \n",
       "8        1.0     0.110140   0.066165  0.248875      0.180252   0.087449   \n",
       "\n",
       "   iClothingAndBeauty  iTransportation  iHealthcare  iEntertainment  \\\n",
       "0            0.021448         0.102635     0.122152        0.046759   \n",
       "1            0.025751         0.104198     0.121105        0.050503   \n",
       "2            0.023154         0.111385     0.123542        0.043856   \n",
       "3            0.027224         0.122241     0.126817        0.047103   \n",
       "4            0.028241         0.128367     0.120181        0.048696   \n",
       "5            0.028218         0.106962     0.123831        0.053823   \n",
       "6            0.026956         0.110181     0.133563        0.050734   \n",
       "7            0.031637         0.113029     0.107325        0.042680   \n",
       "8            0.031623         0.124336     0.074577        0.041903   \n",
       "\n",
       "   iMiscellaneous  iCharitableAndFamilyGiving  iInsurance  iEducation  \\\n",
       "0        0.008464                    0.022193    0.002070         0.0   \n",
       "1        0.010035                    0.023022    0.005183         0.0   \n",
       "2        0.014043                    0.024477    0.005668         0.0   \n",
       "3        0.013748                    0.019621    0.005399         0.0   \n",
       "4        0.008797                    0.028155    0.004192         0.0   \n",
       "5        0.010503                    0.024478    0.006061         0.0   \n",
       "6        0.012024                    0.027921    0.005822         0.0   \n",
       "7        0.007112                    0.025732    0.004559         0.0   \n",
       "8        0.007775                    0.023777    0.003128         0.0   \n",
       "\n",
       "   iHousingPrinciple    ExpInc  \n",
       "0           0.074093  1.000000  \n",
       "1           0.061673  1.000000  \n",
       "2           0.070234  0.974456  \n",
       "3           0.068321  0.759277  \n",
       "4           0.066135  0.704116  \n",
       "5           0.063211  0.694756  \n",
       "6           0.081345  0.594793  \n",
       "7           0.092330  0.484401  \n",
       "8           0.078288  0.339772  "
      ]
     },
     "execution_count": 13,
     "metadata": {},
     "output_type": "execute_result"
    }
   ],
   "source": [
    "cleanPercentagesFamily"
   ]
  },
  {
   "cell_type": "code",
   "execution_count": 14,
   "metadata": {
    "collapsed": true
   },
   "outputs": [],
   "source": [
    "cleanPercentagesFamily.to_csv(\"cleanPercentFamily1.csv\",index=False, encoding='utf-8')\n",
    "cleanPercentagesSingle.to_csv(\"cleanPercentSingle1.csv\",index=False, encoding='utf-8')"
   ]
  },
  {
   "cell_type": "code",
   "execution_count": 15,
   "metadata": {
    "collapsed": false
   },
   "outputs": [
    {
     "data": {
      "text/plain": [
       "14979"
      ]
     },
     "execution_count": 15,
     "metadata": {},
     "output_type": "execute_result"
    }
   ],
   "source": [
    "len(fmli.CUID.unique())"
   ]
  },
  {
   "cell_type": "markdown",
   "metadata": {},
   "source": [
    "### Adding the Income class colum to the ExpensesByNewID dataframe"
   ]
  },
  {
   "cell_type": "code",
   "execution_count": 16,
   "metadata": {
    "collapsed": false
   },
   "outputs": [
    {
     "ename": "NameError",
     "evalue": "name 'fmliRecoded' is not defined",
     "output_type": "error",
     "traceback": [
      "\u001b[0;31m---------------------------------------------------------------------------\u001b[0m",
      "\u001b[0;31mNameError\u001b[0m                                 Traceback (most recent call last)",
      "\u001b[0;32m<ipython-input-16-c4d12d0730cb>\u001b[0m in \u001b[0;36m<module>\u001b[0;34m()\u001b[0m\n\u001b[1;32m      1\u001b[0m \u001b[0;31m# combining the fmli and iExpensesByNewID\u001b[0m\u001b[0;34m\u001b[0m\u001b[0;34m\u001b[0m\u001b[0m\n\u001b[0;32m----> 2\u001b[0;31m \u001b[0minclassExpenses\u001b[0m \u001b[0;34m=\u001b[0m \u001b[0mpd\u001b[0m\u001b[0;34m.\u001b[0m\u001b[0mmerge\u001b[0m\u001b[0;34m(\u001b[0m\u001b[0mleft\u001b[0m\u001b[0;34m=\u001b[0m\u001b[0mfmliRecoded\u001b[0m\u001b[0;34m[\u001b[0m\u001b[0;34m[\u001b[0m\u001b[0;34m'NEWID'\u001b[0m\u001b[0;34m,\u001b[0m\u001b[0;34m'INCLASS'\u001b[0m\u001b[0;34m,\u001b[0m\u001b[0;34m'FINCBTXM'\u001b[0m\u001b[0;34m]\u001b[0m\u001b[0;34m]\u001b[0m\u001b[0;34m,\u001b[0m\u001b[0mright\u001b[0m\u001b[0;34m=\u001b[0m\u001b[0miExpensesByNewID\u001b[0m\u001b[0;34m,\u001b[0m \u001b[0mon\u001b[0m\u001b[0;34m=\u001b[0m\u001b[0;34m[\u001b[0m\u001b[0;34m'NEWID'\u001b[0m\u001b[0;34m]\u001b[0m\u001b[0;34m)\u001b[0m\u001b[0;34m\u001b[0m\u001b[0m\n\u001b[0m\u001b[1;32m      3\u001b[0m \u001b[0;31m# inclassExpenses\u001b[0m\u001b[0;34m\u001b[0m\u001b[0;34m\u001b[0m\u001b[0m\n",
      "\u001b[0;31mNameError\u001b[0m: name 'fmliRecoded' is not defined"
     ]
    }
   ],
   "source": [
    "# combining the fmli and iExpensesByNewID\n",
    "inclassExpenses = pd.merge(left=fmliRecoded[['NEWID','INCLASS','FINCBTXM']],right=iExpensesByNewID, on=['NEWID'])\n",
    "# inclassExpenses"
   ]
  },
  {
   "cell_type": "markdown",
   "metadata": {},
   "source": [
    "### Averaging the expenditures based on incomebrackets\n",
    "inclassAverages is average money spent for each incomeclass"
   ]
  },
  {
   "cell_type": "code",
   "execution_count": null,
   "metadata": {
    "collapsed": false,
    "scrolled": false
   },
   "outputs": [],
   "source": [
    "# getting mean for all columns with the same income class besides newId and creating new dataframe\n",
    "inclassAverages = round(inclassExpenses.ix[: ,inclassExpenses.columns != 'NEWID'].groupby(['INCLASS'],as_index=False).mean(),2)\n",
    "# inclassAverages"
   ]
  },
  {
   "cell_type": "markdown",
   "metadata": {},
   "source": [
    "### Converting the Average expenditures for income classes into percentages of expenditures\n",
    "percentages is the percent of total expenditure for each category for each incomeclass "
   ]
  },
  {
   "cell_type": "code",
   "execution_count": null,
   "metadata": {
    "collapsed": false
   },
   "outputs": [],
   "source": [
    "# creating new dataframe for the percentages that only includes the plynty categories\n",
    "percentages = inclassAverages.loc[:,rollupDict.keys()]\n",
    "for column in rollupDict.keys():\n",
    "    percentages[column] = inclassAverages[column]/inclassAverages.iTotalExp\n",
    "percentages['ExpInc'] = inclassAverages['iTotalExp']/inclassAverages['FINCBTXM']\n",
    "\n",
    "# truncate the max ExpInc\n",
    "percentages.ExpInc.ix[percentages['ExpInc']>1] = 1\n",
    "\n",
    "# percentages"
   ]
  },
  {
   "cell_type": "markdown",
   "metadata": {},
   "source": [
    "# Exploring Issues in the data"
   ]
  },
  {
   "cell_type": "markdown",
   "metadata": {},
   "source": [
    "### Getting Description of the inclassExpenses dataframe\n",
    "Description includes:\n",
    "- count\n",
    "- mean\n",
    "- standard deviation\n",
    "- min\n",
    "- max\n",
    "- quartiles"
   ]
  },
  {
   "cell_type": "code",
   "execution_count": null,
   "metadata": {
    "collapsed": false
   },
   "outputs": [],
   "source": [
    "# max and min of housing per income class\n",
    "rowDescription = []\n",
    "for inclass in range(1,len(incomeBrackets)):\n",
    "    rowDescription.append(inclassExpenses.iHousing.loc[inclassExpenses.INCLASS == inclass].describe())\n",
    "descriptions = pd.concat(rowDescription, axis=1)\n",
    "descriptions.columns = range(0,len(incomeBrackets)-1)\n",
    "descriptions = descriptions.transpose()\n",
    "# descriptions"
   ]
  },
  {
   "cell_type": "markdown",
   "metadata": {},
   "source": [
    "### Removing outliers in iHousing\n",
    " - For each income class\n",
    "    - Find Q1 and Q3\n",
    "    - Calculate IQR\n",
    "    - Find rows outside of \n",
    "     - Inner Fence: Q3/Q2 +/- (1.5 x IQR)\n",
    "     - Outer Fence: Q3/Q2 +/- (3 x IQR)\n",
    " - Remove Rows from Dataframe\n",
    " - Clean1: Inner Fence\n",
    " - Clean2: Outer Fence"
   ]
  },
  {
   "cell_type": "code",
   "execution_count": null,
   "metadata": {
    "collapsed": false,
    "scrolled": true
   },
   "outputs": [],
   "source": [
    "# cleaning the inclassExpenses dataframe of outliers\n",
    "outliers1 = inclassExpenses.copy()\n",
    "\n",
    "\n",
    "outliers1\n",
    "innerFence = []\n",
    "outerFence = []\n",
    "\n",
    "\n",
    "print(\"There are \"+str(len(inclassExpenses))+\" rows before removal of outliers\")\n",
    "\n",
    "for inclass in range(1,len(incomeBrackets)):\n",
    "    outliers1InClass = outliers1.where(outliers1['INCLASS']==inclass)\n",
    "    Q1 = outliers1InClass['iHousing'].quantile(0.25)\n",
    "    Q3 = outliers1InClass['iHousing'].quantile(0.75)\n",
    "    IQR = Q3 - Q1\n",
    "    innerFence.extend(outliers1InClass[outliers1InClass['iHousing'] < (Q1 - (1.5 * IQR))].index.tolist())\n",
    "    innerFence.extend(outliers1InClass[outliers1InClass['iHousing'] > (Q3 + (1.5 * IQR))].index.tolist())    \n",
    "    outerFence.extend(outliers1InClass[outliers1InClass['iHousing'] < (Q1 - (3 * IQR))].index.tolist())\n",
    "    outerFence.extend(outliers1InClass[outliers1InClass['iHousing'] > (Q3 + (3 * IQR))].index.tolist())\n",
    "#     Removing transportation outliers\n",
    "#     Q1 = outliers1InClass['iTransportation'].quantile(0.25)\n",
    "#     Q3 = outliers1InClass['iTransportation'].quantile(0.75)\n",
    "#     IQR = Q3 - Q1\n",
    "#     innerFence.extend(outliers1InClass[outliers1InClass['iTransportation'] < (Q1 - (1.5 * IQR))].index.tolist())\n",
    "#     innerFence.extend(outliers1InClass[outliers1InClass['iTransportation'] > (Q3 + (1.5 * IQR))].index.tolist())    \n",
    "#     outerFence.extend(outliers1InClass[outliers1InClass['iTransportation'] < (Q1 - (3 * IQR))].index.tolist())\n",
    "#     outerFence.extend(outliers1InClass[outliers1InClass['iTransportation'] > (Q3 + (3 * IQR))].index.tolist())\n",
    "\n",
    "\n",
    "clean1 = outliers1.drop(outliers1.index[innerFence])\n",
    "clean1\n",
    "clean2 = outliers1.drop(outliers1.index[outerFence])\n",
    "clean2\n",
    "\n",
    "print(\"Removed \"+str(len(innerFence))+ \" rows deemed to be out of inner fence\")\n",
    "print(\"Removed \"+str(round(len(innerFence)/len(inclassExpenses)*100,2))+ \"% of the CUs\")\n",
    "\n",
    "print(\"Removed \"+str(len(outerFence))+ \" rows deemed to be out of outer fence\")\n",
    "print(\"Removed \"+str(round(len(outerFence)/len(inclassExpenses)*100,2))+ \"% of the CUs\")\n",
    "\n",
    "# creating the descriptions for the cleaned outlier dataframe\n",
    "rowDescription1 = []\n",
    "for inclass in range(1,len(incomeBrackets)):\n",
    "    rowDescription1.append(clean1.iHousing.loc[clean1.INCLASS == inclass].describe())\n",
    "descriptions1 = pd.concat(rowDescription1, axis=1)\n",
    "descriptions1.columns = range(0,len(incomeBrackets)-1)\n",
    "descriptions1 = descriptions1.transpose()\n",
    "# descriptions1"
   ]
  },
  {
   "cell_type": "markdown",
   "metadata": {},
   "source": [
    "### Looking at the outliers that were removed"
   ]
  },
  {
   "cell_type": "code",
   "execution_count": null,
   "metadata": {
    "collapsed": false
   },
   "outputs": [],
   "source": [
    "innerOutliers = inclassExpenses.copy()\n",
    "innerOutliers = innerOutliers.ix[innerFence,:]\n",
    "print(\"Number of outliers in each income class: \"+str(innerOutliers.INCLASS.value_counts().values))\n",
    "# innerOutliers.head()"
   ]
  },
  {
   "cell_type": "code",
   "execution_count": null,
   "metadata": {
    "collapsed": false
   },
   "outputs": [],
   "source": [
    "outerOutliers = inclassExpenses.copy()\n",
    "outerOutliers = outerOutliers.ix[outerFence,:]\n",
    "print(\"Number of outliers in each income class: \"+str(outerOutliers.INCLASS.value_counts().values))\n",
    "# outerOutliers.head()"
   ]
  },
  {
   "cell_type": "markdown",
   "metadata": {},
   "source": [
    "### Creating the percentage output for cleaned dataframe\n",
    "##### What is the percentage dataframe?\n",
    "- Dataframe where each row is a different income class and each column is a different plynty expenditure category\n",
    "- These are percents of total expenditure (not of total income)"
   ]
  },
  {
   "cell_type": "code",
   "execution_count": null,
   "metadata": {
    "collapsed": false
   },
   "outputs": [],
   "source": [
    "# creating percentage outputs for cleaned dataframe\n",
    "inclassCleanAverages1 = round(clean1.ix[: ,clean1.columns != 'NEWID'].groupby(['INCLASS'],as_index=False).mean(),2)\n",
    "# creating new dataframe for the percentages that only includes the plynty categories\n",
    "cleanPercentages1 = inclassCleanAverages1.loc[:,rollupDict.keys()]\n",
    "for column in rollupDict.keys():\n",
    "    cleanPercentages1[column] = inclassCleanAverages1[column]/inclassCleanAverages1.iTotalExp\n",
    "cleanPercentages1['ExpInc'] = inclassCleanAverages1['iTotalExp']/inclassCleanAverages1['FINCBTXM']\n",
    "# truncate the max ExpInc\n",
    "cleanPercentages1.ExpInc.ix[cleanPercentages1['ExpInc']>1] = 1\n",
    "cleanPercentages1 = cleanPercentages1.ix[:, cleanPercentages1.columns != 'iHousingPrinciple']\n",
    "cleanPercentages1"
   ]
  },
  {
   "cell_type": "code",
   "execution_count": null,
   "metadata": {
    "collapsed": false,
    "scrolled": true
   },
   "outputs": [],
   "source": [
    "# creating percentage outputs for cleaned dataframe\n",
    "inclassCleanAverages2 = round(clean2.ix[: ,clean2.columns != 'NEWID'].groupby(['INCLASS'],as_index=False).mean(),2)\n",
    "# creating new dataframe for the percentages that only includes the plynty categories\n",
    "cleanPercentages2 = inclassCleanAverages2.loc[:,rollupDict.keys()]\n",
    "for column in rollupDict.keys():\n",
    "    cleanPercentages2[column] = inclassCleanAverages2[column]/inclassCleanAverages2.iTotalExp\n",
    "cleanPercentages2['ExpInc'] = inclassCleanAverages2['iTotalExp']/inclassCleanAverages2['FINCBTXM']\n",
    "# truncate the max ExpInc\n",
    "cleanPercentages2nonTruncated = cleanPercentages2.copy()\n",
    "cleanPercentages2.ExpInc.ix[cleanPercentages2['ExpInc']>1] = 1\n",
    "cleanPercentages2 = cleanPercentages2.ix[:, cleanPercentages2.columns != 'iHousingPrinciple']\n",
    "cleanPercentages2"
   ]
  },
  {
   "cell_type": "code",
   "execution_count": null,
   "metadata": {
    "collapsed": false
   },
   "outputs": [],
   "source": [
    "plt.bar(cleanPercentages2.index, cleanPercentages2.ExpInc, color = 'b')\n",
    "plt.title(\"Percent of Income Expended per Income Class (outer fence)\")\n",
    "plt.xlabel(\"Income Class\")\n",
    "plt.ylabel(\"Percentage\")\n",
    "plt.show()"
   ]
  },
  {
   "cell_type": "code",
   "execution_count": null,
   "metadata": {
    "collapsed": false
   },
   "outputs": [],
   "source": [
    "plt.bar(cleanPercentages2.index, cleanPercentages2.iHousing, color = 'b')\n",
    "plt.title(\"Percent spent on Housing per Income Class (outer fence)\")\n",
    "plt.xlabel(\"Income class\")\n",
    "plt.ylabel(\"Percent spent on housing\")\n",
    "plt.show()"
   ]
  },
  {
   "cell_type": "markdown",
   "metadata": {},
   "source": [
    "# Plots"
   ]
  },
  {
   "cell_type": "code",
   "execution_count": null,
   "metadata": {
    "collapsed": false,
    "scrolled": true
   },
   "outputs": [],
   "source": [
    "# ploting the number of people in each bracket\n",
    "print(inclassExpenses.INCLASS.value_counts().values)\n",
    "plt.bar(list(inclassExpenses.INCLASS.value_counts().index.tolist()), inclassExpenses.INCLASS.value_counts().values, align='center', color = \"r\")\n",
    "plt.title(\"Number of CUs in Income classes (with outliers)\")\n",
    "plt.xlabel(\"Income Class\")\n",
    "plt.ylabel(\"Count\")\n",
    "# plt.show()"
   ]
  },
  {
   "cell_type": "code",
   "execution_count": null,
   "metadata": {
    "collapsed": false
   },
   "outputs": [],
   "source": [
    "# creating the plot of percent of income expended per income class\n",
    "plt.bar(percentages.index, percentages.ExpInc, color = 'r')\n",
    "plt.title(\"Percent of Income Expended per Income Class (with outliers)\")\n",
    "plt.xlabel(\"Income Class\")\n",
    "plt.ylabel(\"Percentage\")\n",
    "# plt.show()"
   ]
  },
  {
   "cell_type": "code",
   "execution_count": null,
   "metadata": {
    "collapsed": false,
    "scrolled": true
   },
   "outputs": [],
   "source": [
    "# creating plot of Percent spent on Housing per income class\n",
    "plt.bar(percentages.index, percentages.iHousing, color = 'r')\n",
    "plt.ylim(0,.4)\n",
    "plt.title(\"Percent spent on Housing per Income Class (with outliers)\")\n",
    "plt.xlabel(\"Income class\")\n",
    "plt.ylabel(\"Percent spent on housing\")\n",
    "# plt.show()"
   ]
  },
  {
   "cell_type": "code",
   "execution_count": null,
   "metadata": {
    "collapsed": false,
    "scrolled": false
   },
   "outputs": [],
   "source": [
    "inclassSD = inclassExpenses.groupby(['INCLASS'],as_index=False).std()\n",
    "inclassSD.iHousing\n",
    "plt.bar(inclassSD.iHousing.index, inclassSD.iHousing, color = 'r')\n",
    "plt.title(\"Standard deviations in Income Classes (with outliers)\")\n",
    "# plt.ylim(0,60000)\n",
    "plt.xlabel(\"Income Class\")\n",
    "plt.ylabel(\"Standard Deviation\")\n",
    "# plt.show()"
   ]
  },
  {
   "cell_type": "code",
   "execution_count": null,
   "metadata": {
    "collapsed": false
   },
   "outputs": [],
   "source": [
    "# ploting the number of people in each bracket\n",
    "print(clean1.INCLASS.value_counts().values)\n",
    "plt.bar(list(clean1.INCLASS.value_counts().index.tolist()), clean1.INCLASS.value_counts().values, align='center', color=\"g\")\n",
    "plt.title(\"Number of CUs in Income classes (outer fence)\")\n",
    "plt.xlabel(\"Income Class\")\n",
    "plt.ylabel(\"Count\")\n",
    "# plt.show()"
   ]
  },
  {
   "cell_type": "code",
   "execution_count": null,
   "metadata": {
    "collapsed": false,
    "scrolled": true
   },
   "outputs": [],
   "source": [
    "inclassClean1SD = clean1.groupby(['INCLASS'],as_index=False).std()\n",
    "inclassClean1SD.iHousing\n",
    "plt.bar(inclassClean1SD.iHousing.index, inclassClean1SD.iHousing,color = 'g')\n",
    "plt.ylim(0,60000)\n",
    "plt.title(\"Standard deviations in Income Classes (inner fence)\")\n",
    "plt.xlabel(\"Income Class\")\n",
    "plt.ylabel(\"Standard Deviation\")\n",
    "# plt.show()"
   ]
  },
  {
   "cell_type": "code",
   "execution_count": null,
   "metadata": {
    "collapsed": false,
    "scrolled": true
   },
   "outputs": [],
   "source": [
    "# ploting the number of people in each bracket\n",
    "print(clean2.INCLASS.value_counts().values)\n",
    "plt.bar(list(clean2.INCLASS.value_counts().index.tolist()), clean2.INCLASS.value_counts().values, align='center', color=\"b\")\n",
    "plt.title(\"Number of CUs in Income classes (outer fence)\")\n",
    "plt.xlabel(\"Income Class\")\n",
    "plt.ylabel(\"Count\")\n",
    "# plt.show()"
   ]
  },
  {
   "cell_type": "code",
   "execution_count": null,
   "metadata": {
    "collapsed": false
   },
   "outputs": [],
   "source": [
    "inclassClean2SD = clean2.groupby(['INCLASS'],as_index=False).std()\n",
    "inclassClean2SD.iHousing\n",
    "plt.bar(inclassClean2SD.iHousing.index, inclassClean2SD.iHousing,color = 'b')\n",
    "plt.ylim(0,60000)\n",
    "plt.title(\"Standard deviations in Income Classes (outer fence)\")\n",
    "plt.xlabel(\"Income Class\")\n",
    "plt.ylabel(\"Standard Deviation\")\n",
    "# plt.show()"
   ]
  },
  {
   "cell_type": "code",
   "execution_count": null,
   "metadata": {
    "collapsed": false
   },
   "outputs": [],
   "source": [
    "plt.close()\n",
    "n_groups = 4\n",
    "values1 = inclassExpenses.INCLASS.value_counts().values\n",
    "values2 = clean1.INCLASS.value_counts().values\n",
    "values3 = clean2.INCLASS.value_counts().values\n",
    "\n",
    "fig, ax = plt.subplots()\n",
    "index = np.arange(n_groups)\n",
    "bar_width = 0.25\n",
    "opacity = 1\n",
    " \n",
    "rects1 = plt.bar(inclassExpenses.INCLASS.value_counts().index -1, values1, bar_width,\n",
    "                 alpha=opacity,\n",
    "                 color='r',\n",
    "                 label='With')\n",
    " \n",
    "rects2 = plt.bar(clean1.INCLASS.value_counts().index -1 + bar_width, values2, bar_width,\n",
    "                 alpha=opacity,\n",
    "                 color='g',\n",
    "                 label='Inner')\n",
    "\n",
    "rects3 = plt.bar(clean2.INCLASS.value_counts().index - 1 + bar_width*2, values3, bar_width,\n",
    "                 alpha=opacity,\n",
    "                 color='b',\n",
    "                 label='Outer')\n",
    "\n",
    "plt.xlabel('Income Class')\n",
    "plt.ylabel('Number of CUs')\n",
    "plt.title('Number of CUs per Income Class')\n",
    "plt.legend()\n",
    "plt.show()\n",
    "clean2.INCLASS.value_counts().values"
   ]
  },
  {
   "cell_type": "code",
   "execution_count": null,
   "metadata": {
    "collapsed": false,
    "scrolled": false
   },
   "outputs": [],
   "source": [
    "n_groups = 3\n",
    "values1 = percentages.iHousing\n",
    "values2 = cleanPercentages1.iHousing\n",
    "values3 = cleanPercentages2.iHousing\n",
    "\n",
    "print(\"The average percent change between with and without outliers: \"+str(round((values1-values3).mean()*100,2))+\"%\")\n",
    "\n",
    "fig, ax = plt.subplots()\n",
    "index = np.arange(n_groups)\n",
    "bar_width = 0.25\n",
    "opacity = 1\n",
    " \n",
    "rects1 = plt.bar(percentages.index, values1, bar_width,\n",
    "                 alpha=opacity,\n",
    "                 color='r',\n",
    "                 label='With')\n",
    " \n",
    "rects2 = plt.bar(cleanPercentages1.index + bar_width, values2, bar_width,\n",
    "                 alpha=opacity,\n",
    "                 color='g',\n",
    "                 label='Inner')\n",
    "\n",
    "rects3 = plt.bar(cleanPercentages2.index + bar_width*2, values3, bar_width,\n",
    "                 alpha=opacity,\n",
    "                 color='b',\n",
    "                 label='Outer')\n",
    "\n",
    "plt.xlabel('Income Class')\n",
    "plt.ylabel('Percent of Total Expenditures')\n",
    "plt.title('Percent Spent on Housing per Income Class')\n",
    "plt.ylim(0,.4)\n",
    "plt.legend()\n",
    "plt.show()"
   ]
  },
  {
   "cell_type": "code",
   "execution_count": null,
   "metadata": {
    "collapsed": false
   },
   "outputs": [],
   "source": [
    "n_groups = 3\n",
    "values1 = inclassSD.iHousing\n",
    "values2 = inclassClean1SD.iHousing\n",
    "values3 = inclassClean2SD.iHousing\n",
    "\n",
    "fig, ax = plt.subplots()\n",
    "index = np.arange(n_groups)\n",
    "bar_width = 0.25\n",
    "opacity = 1\n",
    " \n",
    "rects1 = plt.bar(percentages.index, values1, bar_width,\n",
    "                 alpha=opacity,\n",
    "                 color='r',\n",
    "                 label='With')\n",
    " \n",
    "rects2 = plt.bar(cleanPercentages1.index + bar_width, values2, bar_width,\n",
    "                 alpha=opacity,\n",
    "                 color='g',\n",
    "                 label='Inner')\n",
    "\n",
    "rects3 = plt.bar(cleanPercentages2.index + bar_width*2, values3, bar_width,\n",
    "                 alpha=opacity,\n",
    "                 color='b',\n",
    "                 label='Outer')\n",
    "\n",
    "plt.xlabel('Income Class')\n",
    "plt.ylabel('Standard Deviation (Dollars)')\n",
    "plt.title('Standard Deviation of money spent on Housing per Income Class')\n",
    "plt.legend()\n",
    "plt.show()"
   ]
  },
  {
   "cell_type": "code",
   "execution_count": null,
   "metadata": {
    "collapsed": false
   },
   "outputs": [],
   "source": [
    "n_groups = 2\n",
    "values1 = inclassSD.iHousing\n",
    "values2 = inclassClean2SD.iHousing\n",
    "\n",
    "fig, ax = plt.subplots()\n",
    "index = np.arange(n_groups)\n",
    "bar_width = 0.35\n",
    "opacity = 1\n",
    " \n",
    "rects1 = plt.bar(percentages.index, values1, bar_width,\n",
    "                 alpha=opacity,\n",
    "                 color='r',\n",
    "                 label='With')\n",
    " \n",
    "rects2 = plt.bar(cleanPercentages2.index + bar_width, values2, bar_width,\n",
    "                 alpha=opacity,\n",
    "                 color='b',\n",
    "                 label='Without')\n",
    "\n",
    "plt.xlabel('Income Class')\n",
    "plt.ylabel('Standard Deviation (Dollars)')\n",
    "plt.suptitle('Standard Deviation of money spent on Housing per Income Class')\n",
    "plt.title('(With and without outliers)')\n",
    "plt.legend()\n",
    "plt.show()"
   ]
  },
  {
   "cell_type": "code",
   "execution_count": null,
   "metadata": {
    "collapsed": false
   },
   "outputs": [],
   "source": [
    "n_groups = 2\n",
    "values1 = percentages.iHousing\n",
    "values2 = cleanPercentages2.iHousing\n",
    "\n",
    "fig, ax = plt.subplots()\n",
    "index = np.arange(n_groups)\n",
    "bar_width = 0.35\n",
    "opacity = 1\n",
    " \n",
    "rects1 = plt.bar(percentages.index, values1, bar_width,\n",
    "                 alpha=opacity,\n",
    "                 color='r',\n",
    "                 label='With')\n",
    " \n",
    "rects2 = plt.bar(cleanPercentages2.index + bar_width, values2, bar_width,\n",
    "                 alpha=opacity,\n",
    "                 color='b',\n",
    "                 label='Without')\n",
    "\n",
    "plt.xlabel('Income Class')\n",
    "plt.ylabel('Percent of Total Expenditures')\n",
    "plt.suptitle('Percent Expended on Housing per Income Class')\n",
    "plt.title('(With and without outliers)')\n",
    "plt.legend()\n",
    "plt.ylim(0,0.4)\n",
    "plt.show()"
   ]
  },
  {
   "cell_type": "code",
   "execution_count": null,
   "metadata": {
    "collapsed": false,
    "scrolled": true
   },
   "outputs": [],
   "source": [
    "n_groups = 3\n",
    "values1 = percentages.ExpInc\n",
    "values2 = cleanPercentages1.ExpInc\n",
    "values3 = cleanPercentages2.ExpInc\n",
    "\n",
    "fig, ax = plt.subplots()\n",
    "index = np.arange(n_groups)\n",
    "bar_width = 0.25\n",
    "opacity = 1\n",
    " \n",
    "rects1 = plt.bar(percentages.index, values1, bar_width,\n",
    "                 alpha=opacity,\n",
    "                 color='r',\n",
    "                 label='With')\n",
    " \n",
    "rects2 = plt.bar(cleanPercentages1.index + bar_width, values2, bar_width,\n",
    "                 alpha=opacity,\n",
    "                 color='g',\n",
    "                 label='Inner Fence')\n",
    "\n",
    "rects3 = plt.bar(cleanPercentages2.index + bar_width*2, values3, bar_width,\n",
    "                 alpha=opacity,\n",
    "                 color='b',\n",
    "                 label='Outer Fence')\n",
    " \n",
    "plt.xlabel('Income Class')\n",
    "plt.ylabel('Percent of Income Expended')\n",
    "plt.title('Percent of Income Expent per Income Class')\n",
    "plt.legend()\n",
    "plt.show()"
   ]
  },
  {
   "cell_type": "markdown",
   "metadata": {},
   "source": [
    "# Least squares polynomial fit\n",
    "any value that would cause a person to expend over 100% of their income is truncated to 100%"
   ]
  },
  {
   "cell_type": "code",
   "execution_count": null,
   "metadata": {
    "collapsed": false,
    "slideshow": "-"
   },
   "outputs": [],
   "source": [
    "# cleanPercentages2.ExpInc[3:]\n",
    "cleanReg = clean2[[\"FINCBTXM\",\"iTotalExp\"]]\n",
    "cleanReg = cleanReg.loc[clean2.FINCBTXM > 0]\n",
    "cleanReg = cleanReg.loc[cleanReg.iTotalExp > 0]\n",
    "cleanReg\n",
    "def getExpendPercent(income):\n",
    "    if income <= 0:\n",
    "        return(1)\n",
    "    coefficients = np.polyfit(cleanReg.FINCBTXM, cleanReg.iTotalExp, deg = 3)\n",
    "    p = np.poly1d(coefficients)\n",
    "    np.seterr(divide='ignore')\n",
    "    percent = p(income)/income\n",
    "    if percent > 1:\n",
    "        percent = 1\n",
    "    return(percent)\n",
    "\n",
    "def printRegression():\n",
    "    coefficients = np.polyfit(cleanReg.FINCBTXM, cleanReg.iTotalExp, deg = 3)\n",
    "    p = np.poly1d(coefficients)\n",
    "    print(p)\n",
    "    \n",
    "    \n",
    "printRegression()\n",
    "    \n",
    "x = range(0,360000,1000)\n",
    "x2 = range(0,360000,1000)\n",
    "y =[]\n",
    "y2 =[]\n",
    "def oldRegression(income):\n",
    "    if income > 53000:\n",
    "        output = ((-7.6108*(10**(-17)))*(income**3))+((4.2009*(10**(-11)))*(income**2))+((-7.90256*(10**-6))*income)+1.21112\n",
    "    else:\n",
    "        output = 1\n",
    "    return(output)\n",
    "\n",
    "\n",
    "for bracket in range(0,360000,1000):\n",
    "    y.append(getExpendPercent(bracket))\n",
    "    y2.append(oldRegression(bracket))\n",
    "# plt.plot(inclassCleanAverages2.FINCBTXM,cleanPercentages2.ExpInc)\n",
    "plt.plot(x,y, color = \"r\", label=\"Regression\")\n",
    "# plt.plot(x2,y2, color = \"b\", label = \"Old\")\n",
    "x3 = range(0,incomeBrackets[len(incomeBrackets)-2])\n",
    "\n",
    "# creating the repeatArray for income Bracket plotting\n",
    "lastvalue = 0\n",
    "repeatArray = []\n",
    "for x in range(0,len(incomeBrackets[1:len(incomeBrackets)-1])):\n",
    "    repeatArray.append(incomeBrackets[1:len(incomeBrackets)-1][x] - lastvalue)\n",
    "    lastvalue = incomeBrackets[1:len(incomeBrackets)-1][x]\n",
    "\n",
    "y3 = np.repeat(cleanPercentages2.ExpInc[0:len(cleanPercentages2)-1], repeatArray)\n",
    "print(x3)\n",
    "print(len(y3))\n",
    "plt.plot(x3,y3, color = \"g\", label = \"Brackets\")\n",
    "plt.title(\"Percent of Income Expended Regression\")\n",
    "plt.xlabel(\"Income Before Taxes\")\n",
    "plt.ylabel(\"Percent of Income Expended\")\n",
    "plt.xlim(0,350000)\n",
    "plt.ylim(0,1.2)\n",
    "plt.legend()\n",
    "plt.show()"
   ]
  },
  {
   "cell_type": "code",
   "execution_count": null,
   "metadata": {
    "collapsed": false
   },
   "outputs": [],
   "source": [
    "plt.scatter(cleanReg.FINCBTXM, cleanReg.iTotalExp, s=1.5)\n",
    "coefficients = np.polyfit(cleanReg.FINCBTXM, cleanReg.iTotalExp, deg = 3)\n",
    "p = np.poly1d(coefficients)\n",
    "np.seterr(divide='ignore')\n",
    "regX = range(0,600000,1000)\n",
    "plt.plot(regX, p(regX), color=\"black\")\n",
    "plt.xlabel(\"Income before Taxes (Dollars)\")\n",
    "plt.ylabel(\"Dollars Expent\")\n",
    "plt.title(\"Regression of Income to Expenditure\")\n",
    "plt.show()"
   ]
  },
  {
   "cell_type": "markdown",
   "metadata": {},
   "source": [
    "### Plot of number of CUs for clean2 only"
   ]
  },
  {
   "cell_type": "code",
   "execution_count": null,
   "metadata": {
    "collapsed": false
   },
   "outputs": [],
   "source": [
    "plt.bar(clean2.INCLASS.value_counts().index - 1, (clean2.INCLASS.value_counts().values)/(len(clean2)), alpha=opacity, color='g')\n",
    "plt.suptitle(\"Percent of CUs in each Income class\")\n",
    "plt.title(\"Ages: 60-75\")\n",
    "plt.xlabel(\"Income Class\")\n",
    "plt.ylabel(\"Percent of CUs\")\n",
    "plt.show()"
   ]
  },
  {
   "cell_type": "markdown",
   "metadata": {},
   "source": [
    "# Examples of Users"
   ]
  },
  {
   "cell_type": "code",
   "execution_count": null,
   "metadata": {
    "collapsed": false
   },
   "outputs": [],
   "source": [
    "usersIncome = [30000, 60000, 90000, 120000, 250000]\n",
    "def getIncomeBracket(income):\n",
    "    for bracket in range(len(incomeBrackets)-2,0,-1):\n",
    "        if income > incomeBrackets[bracket]:\n",
    "            return bracket\n",
    "            \n",
    "\n",
    "exampleExpenses = pd.DataFrame(columns = cleanPercentages2.columns, index = range(len(usersIncome)))\n",
    "for user in usersIncome:\n",
    "    userBracket = getIncomeBracket(user)\n",
    "    userExpendAmount = getExpendPercent(user) * user\n",
    "    userBaseExpenses = (cleanPercentages2.loc[userBracket]*userExpendAmount)/12\n",
    "    exampleExpenses.loc[usersIncome.index(user)] = userBaseExpenses\n",
    "\n",
    "exampleExpenses.index = usersIncome\n",
    "\n",
    "exampleExpenses = exampleExpenses.ix[:, exampleExpenses.columns != \"ExpInc\"]\n",
    "exampleExpenses"
   ]
  },
  {
   "cell_type": "markdown",
   "metadata": {},
   "source": [
    "# Creating CSV fo percentages"
   ]
  },
  {
   "cell_type": "code",
   "execution_count": null,
   "metadata": {
    "collapsed": true
   },
   "outputs": [],
   "source": [
    "cleanPercentages2.to_csv(\"percentage\"+str(minAge)+\"to\"+str(maxAge)+\".csv\")"
   ]
  },
  {
   "cell_type": "markdown",
   "metadata": {},
   "source": [
    "# Importing CSVs of pre-Subset Percentages CSVs"
   ]
  },
  {
   "cell_type": "code",
   "execution_count": null,
   "metadata": {
    "collapsed": true
   },
   "outputs": [],
   "source": [
    "ageRange1 = pd.read_csv(\"percentage55to64.csv\", index_col=0)\n",
    "ageRange2 = pd.read_csv(\"percentage60to75.csv\", index_col=0)\n",
    "ageRange3 = pd.read_csv(\"percentage65to130.csv\", index_col=0)"
   ]
  },
  {
   "cell_type": "markdown",
   "metadata": {},
   "source": [
    "### Plotting the differences between Age brackets"
   ]
  },
  {
   "cell_type": "code",
   "execution_count": null,
   "metadata": {
    "collapsed": false
   },
   "outputs": [],
   "source": [
    "n_groups = 3\n",
    "values1 = ageRange1.ExpInc\n",
    "values2 = ageRange2.ExpInc\n",
    "values3 = ageRange3.ExpInc\n",
    "\n",
    "fig, ax = plt.subplots()\n",
    "index = np.arange(n_groups)\n",
    "bar_width = 0.25\n",
    "opacity = 1\n",
    " \n",
    "rects1 = plt.bar(ageRange1.index, values1, bar_width,\n",
    "                 alpha=opacity,\n",
    "                 color='r',\n",
    "                 label='55-64')\n",
    " \n",
    "rects2 = plt.bar(ageRange2.index + bar_width, values2, bar_width,\n",
    "                 alpha=opacity,\n",
    "                 color='g',\n",
    "                 label='60-75')\n",
    "\n",
    "rects3 = plt.bar(ageRange3.index + (bar_width * 2), values3, bar_width,\n",
    "                 alpha=opacity,\n",
    "                 color='b',\n",
    "                 label='65+')\n",
    "\n",
    "plt.xlabel('Income Class')\n",
    "plt.ylabel('Percent of Income Expended')\n",
    "plt.title('Percent of Income Expent per Income Class')\n",
    "plt.legend()\n",
    "plt.show()"
   ]
  },
  {
   "cell_type": "code",
   "execution_count": null,
   "metadata": {
    "collapsed": false
   },
   "outputs": [],
   "source": [
    "n_groups = 3\n",
    "values1 = ageRange1.iHousing\n",
    "values2 = ageRange2.iHousing\n",
    "values3 = ageRange3.iHousing\n",
    "\n",
    "fig, ax = plt.subplots()\n",
    "index = np.arange(n_groups)\n",
    "bar_width = 0.25\n",
    "opacity = 1\n",
    " \n",
    "rects1 = plt.bar(ageRange1.index, values1, bar_width,\n",
    "                 alpha=opacity,\n",
    "                 color='r',\n",
    "                 label='55-64')\n",
    " \n",
    "rects2 = plt.bar(ageRange2.index + bar_width, values2, bar_width,\n",
    "                 alpha=opacity,\n",
    "                 color='g',\n",
    "                 label='60-75')\n",
    "\n",
    "rects3 = plt.bar(ageRange3.index + (bar_width * 2), values3, bar_width,\n",
    "                 alpha=opacity,\n",
    "                 color='b',\n",
    "                 label='65+')\n",
    "\n",
    "plt.xlabel('Income Class')\n",
    "plt.ylabel('Percent of Total Expenditures')\n",
    "plt.title('Percent Spent on Housing per Income Class')\n",
    "plt.legend()\n",
    "plt.ylim(0,.4)\n",
    "plt.show()"
   ]
  },
  {
   "cell_type": "code",
   "execution_count": null,
   "metadata": {
    "collapsed": false
   },
   "outputs": [],
   "source": [
    "n_groups = 3\n",
    "values1 = ageRange1.iHealthcare\n",
    "values2 = ageRange2.iHealthcare\n",
    "values3 = ageRange3.iHealthcare\n",
    "\n",
    "fig, ax = plt.subplots()\n",
    "index = np.arange(n_groups)\n",
    "bar_width = 0.25\n",
    "opacity = 1\n",
    " \n",
    "rects1 = plt.bar(ageRange1.index, values1, bar_width,\n",
    "                 alpha=opacity,\n",
    "                 color='r',\n",
    "                 label='55-64')\n",
    " \n",
    "rects2 = plt.bar(ageRange2.index + bar_width, values2, bar_width,\n",
    "                 alpha=opacity,\n",
    "                 color='g',\n",
    "                 label='60-75')\n",
    "\n",
    "rects3 = plt.bar(ageRange3.index + (bar_width * 2), values3, bar_width,\n",
    "                 alpha=opacity,\n",
    "                 color='b',\n",
    "                 label='65+')\n",
    "\n",
    "plt.xlabel('Income Class')\n",
    "plt.ylabel('Percent of Total Expenditures')\n",
    "plt.title('Percent Spent on Healthcare per Income Class')\n",
    "plt.legend()\n",
    "plt.show()"
   ]
  },
  {
   "cell_type": "code",
   "execution_count": null,
   "metadata": {
    "collapsed": false
   },
   "outputs": [],
   "source": [
    "n_groups = 2\n",
    "values1 = ageRange1.iTransportation\n",
    "values2 = ageRange2.iTransportation\n",
    "values3 = ageRange3.iTransportation\n",
    "\n",
    "fig, ax = plt.subplots()\n",
    "index = np.arange(n_groups)\n",
    "bar_width = 0.25\n",
    "opacity = 1\n",
    " \n",
    "rects1 = plt.bar(ageRange1.index, values1, bar_width,\n",
    "                 alpha=opacity,\n",
    "                 color='r',\n",
    "                 label='55-64')\n",
    " \n",
    "rects2 = plt.bar(ageRange2.index + bar_width, values2, bar_width,\n",
    "                 alpha=opacity,\n",
    "                 color='g',\n",
    "                 label='60-75')\n",
    "\n",
    "rects3 = plt.bar(ageRange3.index + (bar_width * 2), values3, bar_width,\n",
    "                 alpha=opacity,\n",
    "                 color='b',\n",
    "                 label='65+')\n",
    "\n",
    "plt.xlabel('Income Class')\n",
    "plt.ylabel('Percent of Total Expenditures')\n",
    "plt.title('Percent Spent on Transportation per Income Class')\n",
    "plt.legend()\n",
    "plt.show()"
   ]
  },
  {
   "cell_type": "markdown",
   "metadata": {},
   "source": [
    "# Thoughts on the difference between 55-64, 60-75, and 65+\n",
    "- On average: 55-64 < 60-75 < 65+ in terms of expenditure percentage\n",
    "\n",
    "## What each bracket represents\n",
    "- 55-64 simulates that specific time right before and right at the begining of retirment\n",
    "- 60-75 simulates the time during retirement with some non-retired CUs\n",
    "- 65+ is a higher potential to show people who have actually retired"
   ]
  }
 ],
 "metadata": {
  "kernelspec": {
   "display_name": "Python 3",
   "language": "python",
   "name": "python3"
  },
  "language_info": {
   "codemirror_mode": {
    "name": "ipython",
    "version": 3
   },
   "file_extension": ".py",
   "mimetype": "text/x-python",
   "name": "python",
   "nbconvert_exporter": "python",
   "pygments_lexer": "ipython3",
   "version": "3.6.0"
  }
 },
 "nbformat": 4,
 "nbformat_minor": 2
}
