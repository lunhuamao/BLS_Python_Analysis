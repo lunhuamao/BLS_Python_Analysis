{
 "cells": [
  {
   "cell_type": "markdown",
   "metadata": {
    "slideshow": {
     "slide_type": "slide"
    }
   },
   "source": [
    "# Plynty Bureau of Labor Statistics Consumer Expenditure Analysis\n",
    "\n",
    "[BLS Comsumer Expenditure Survey](https://www.bls.gov/cex/home.htm)\n",
    "\n",
    "[Interview Data Dictionary](https://www.bls.gov/cex/2015/csxintvwdata.pdf)\n",
    "\n",
    "[Diary Data Dictionary](https://www.bls.gov/cex/2015/csxdiarydata.pdf)\n",
    "\n",
    "### Where to download the BLS CE PUMD\n",
    "- The zip files download automatically\n",
    "- To download the Stub files open the links then right click and choose \"Save As...\"\n",
    "\n",
    "[2015 interview zip file](https://www.bls.gov/cex/pumd/data/comma/intrvw15.zip)\n",
    "\n",
    "[2015 diary zip file](https://www.bls.gov/cex/pumd/data/comma/diary15.zip)\n",
    "\n",
    "[2015 IntStub file](https://www.bls.gov/cex/pumd/2014/csxintstub.txt)\n",
    "\n",
    "[2015 IStub file](https://www.bls.gov/cex/pumd/2014/csxistub.txt)\n",
    "\n",
    "[2015 DStub file](https://www.bls.gov/cex/pumd/2014/csxdstub.txt)\n",
    "\n",
    "### This Scripts Goals for Plynty\n",
    "- Create an easy to use analysis script for the BLS CE PUMD \n",
    "- Create a csv files that has average percentages spent on plynty categories for certain income classes\n",
    "- Create incomeclasses that are stastically significant"
   ]
  },
  {
   "cell_type": "markdown",
   "metadata": {
    "slideshow": {
     "slide_type": "slide"
    }
   },
   "source": [
    "##### Importing Libraries "
   ]
  },
  {
   "cell_type": "code",
   "execution_count": 1,
   "metadata": {
    "collapsed": false,
    "slideshow": {
     "slide_type": "subslide"
    }
   },
   "outputs": [
    {
     "name": "stdout",
     "output_type": "stream",
     "text": [
      "Dependencies Loaded...\n"
     ]
    }
   ],
   "source": [
    "import pandas as pd\n",
    "import numpy as np\n",
    "import os\n",
    "import subprocess\n",
    "import math\n",
    "import matplotlib.pyplot as plt\n",
    "from scipy.interpolate import *\n",
    "from plyntywidgets import *\n",
    "from blsFunctions import *\n",
    "print(\"Dependencies Loaded...\")"
   ]
  },
  {
   "cell_type": "markdown",
   "metadata": {},
   "source": [
    "### Setting Parameters\n",
    "- year: the last two number associated with the year of the data\n",
    "    for example for data from 2015: year = \"15\"\n",
    "- minAge: the low bound (inclusive) of the age range you wish to subset by\n",
    "- maxAge: the high bound (inclusive) of the age range you wish to subset by\n",
    "- incomeBrackets: array of numbers that you wish to create the new income classes\n",
    "    the bracketing works as follows (1,2], (2,3], (3,4]\n",
    "- filesToRead: the strings of the abbreviations associated with the files you wish to read\n",
    "    options are: \"all\", \"diary\", \"interview\", \"dtbd\", \"expd\", \"fmld\", \"memd\", \"fmli\", \"itbi\", \"memi\", \"mtbi\", \"ntaxi\""
   ]
  },
  {
   "cell_type": "code",
   "execution_count": 2,
   "metadata": {
    "collapsed": false
   },
   "outputs": [],
   "source": [
    "year = \"15\"\n",
    "# filesToRead = [\"fmli\", \"mtbi\"]\n",
    "incomeBrackets = [-math.inf,11000,20000,30000,43000,55000,69000,80000,100000,120000,150000,200000,250000,300000,math.inf]\n",
    "\n",
    "# Display Cool widgets\n",
    "# display(ageRange, readFiles)"
   ]
  },
  {
   "cell_type": "markdown",
   "metadata": {},
   "source": [
    "### Using the widgets to set values"
   ]
  },
  {
   "cell_type": "code",
   "execution_count": 3,
   "metadata": {
    "collapsed": false
   },
   "outputs": [],
   "source": [
    "# setting age range using the cool widget\n",
    "# minAge = ageRange.value[0]\n",
    "# maxAge = ageRange.value[1]\n",
    "minAge = 55\n",
    "maxAge = 64\n",
    "# setting the filesToRead using the cool widget\n",
    "# filesToRead = readFiles.value\n",
    "filesToRead = [\"fmli\",\"mtbi\"]"
   ]
  },
  {
   "cell_type": "markdown",
   "metadata": {},
   "source": [
    "### Setting Directory locations and FileNames on your Local Machine"
   ]
  },
  {
   "cell_type": "code",
   "execution_count": 4,
   "metadata": {
    "collapsed": false
   },
   "outputs": [],
   "source": [
    "# directory in which the diary and interview folders are held is located\n",
    "diaryDir = \"/Users/adyke/Vizuri/CE_PUMD/diary15/\"\n",
    "interviewDir = \"/Users/adyke/Vizuri/CE_PUMD/intrvw15/\"\n",
    "\n",
    "# Directory where stubfiles are located\n",
    "pathToStubFileDir = \"/Users/adyke/Vizuri/Stubfiles/\"\n",
    "rScriptStubfilePathAndName = \"/Users/adyke/Vizuri/BLS_Python_Analysis/creatingStubCsvs.R\"\n",
    "\n",
    "# Filenames of the Stubfiles\n",
    "IStubFileName = \"IStub2015.txt\"\n",
    "DStubFileName = \"DStub2015.txt\"\n",
    "IntStubFileName = \"IntStub2015.txt\"\n",
    "\n",
    "# name of interview dir within the interview dir\n",
    "insideIntrvwDirName = \"intrvw\"\n",
    "\n",
    "# name of the directory where you want the output percentages csv\n",
    "outputDir = \"/Users/adyke/Vizuri/outputFiles/\""
   ]
  },
  {
   "cell_type": "markdown",
   "metadata": {},
   "source": [
    "### Reading in the files specified by FilesToRead"
   ]
  },
  {
   "cell_type": "code",
   "execution_count": 5,
   "metadata": {
    "collapsed": false
   },
   "outputs": [],
   "source": [
    "if(len(filesToRead)==0):\n",
    "    print(\"The files to read variable is empty.\")\n",
    "\n",
    "# looping through each file to read\n",
    "for file in filesToRead:\n",
    "    if file == \"dtbd\" or file == \"all\" or file == \"diary\":\n",
    "        dtbd = readFileSet(\"dtbd\", diaryDir)\n",
    "    if file == \"expd\" or file == \"all\" or file == \"diary\":\n",
    "        expd = readFileSet(\"expd\", diaryDir)\n",
    "    if file == \"fmld\" or file == \"all\" or file == \"diary\":\n",
    "        fmld = readFileSet(\"fmld\", diaryDir)\n",
    "    if file == \"memd\" or file == \"all\" or file == \"diary\":\n",
    "        memd = readFileSet(\"memd\", diaryDir)\n",
    "    if file == \"fmli\" or file == \"all\" or file == \"interview\":\n",
    "        fmli = readFileSet(\"fmli\", interviewDir+insideIntrvwDirName+year+\"/\")\n",
    "    if file == \"itbi\" or file == \"all\" or file == \"interview\":\n",
    "        itbi = readFileSet(\"itbi\", interviewDir+insideIntrvwDirName+year+\"/\")\n",
    "    if file == \"itii\" or file == \"all\" or file == \"interview\":\n",
    "        itii = readFileSet(\"itii\", interviewDir+insideIntrvwDirName+year+\"/\")\n",
    "    if file == \"memi\" or file == \"all\" or file == \"interview\":\n",
    "        memi = readFileSet(\"memi\", interviewDir+insideIntrvwDirName+year+\"/\")\n",
    "    if file == \"mtbi\" or file == \"all\" or file == \"interview\":\n",
    "        mtbi = readFileSet(\"mtbi\", interviewDir+insideIntrvwDirName+year+\"/\")\n",
    "        mtbi.UCC = mtbi.UCC.astype(str)\n",
    "    if file == \"ntaxi\" or file == \"all\" or file == \"interview\":\n",
    "        ntaxi = readFileSet(\"ntaxi\", interviewDir+insideIntrvwDirName+year+\"/\")\n",
    "# does not read form the expn or para subdirectories\n"
   ]
  },
  {
   "cell_type": "markdown",
   "metadata": {},
   "source": [
    "### Using R to convert the Stub files into csv files"
   ]
  },
  {
   "cell_type": "code",
   "execution_count": 6,
   "metadata": {
    "collapsed": false
   },
   "outputs": [
    {
     "name": "stdout",
     "output_type": "stream",
     "text": [
      "Stubfiles Exist\n"
     ]
    }
   ],
   "source": [
    "if os.path.isfile(pathToStubFileDir+\"DStub.csv\") and os.path.isfile(pathToStubFileDir+\"IStub.csv\") and os.path.isfile(pathToStubFileDir+\"IntStub.csv\"):\n",
    "    print(\"Stubfiles Exist\")\n",
    "else:\n",
    "    # converting the stub files via R \n",
    "    subprocess.call(\"Rscript \"+rScriptStubfilePathAndName+\" \"+pathToStubFileDir+\" \"+IStubFileName+\" \"+DStubFileName+\" \"+IntStubFileName, shell=True)\n",
    "    print(\"Stubfile Csvs created in \"+pathToStubFileDir)"
   ]
  },
  {
   "cell_type": "markdown",
   "metadata": {},
   "source": [
    "### Reading and Cleaning the stubfile CSVs into pandas dataframes"
   ]
  },
  {
   "cell_type": "code",
   "execution_count": 7,
   "metadata": {
    "collapsed": false
   },
   "outputs": [],
   "source": [
    "# reading in the stubfiles\n",
    "DStub = pd.read_csv(pathToStubFileDir+\"DStub.csv\")\n",
    "IStub = pd.read_csv(pathToStubFileDir+\"IStub.csv\")\n",
    "IntStub = pd.read_csv(pathToStubFileDir+\"IntStub.csv\")\n",
    "\n",
    "# removing the index from the stufile\n",
    "DStub = DStub.drop(DStub.columns[0], axis=1)\n",
    "IStub = IStub.drop(IStub.columns[0], axis=1)\n",
    "IntStub = IntStub.drop(IntStub.columns[0], axis=1)\n",
    "\n",
    "# replacing * with 0 in the level columns\n",
    "DStub.loc[DStub.level == \"*\", 'level'] = 0\n",
    "IStub.loc[IStub.level == \"*\", 'level'] = 0\n",
    "IntStub.loc[IntStub.level == \"*\", 'level'] = 0"
   ]
  },
  {
   "cell_type": "markdown",
   "metadata": {},
   "source": [
    "# Starting the Plynty calculations"
   ]
  },
  {
   "cell_type": "markdown",
   "metadata": {},
   "source": [
    "### Creating the UCC roll ups for Plynty"
   ]
  },
  {
   "cell_type": "code",
   "execution_count": 8,
   "metadata": {
    "collapsed": false
   },
   "outputs": [],
   "source": [
    "# creating UCC rollups for the interview files for plynty categories\n",
    "iTotalExp = categoricalUCCRollUp(IStub,[\"TOTALE\"])\n",
    "iFoodAtHome = categoricalUCCRollUp(IStub, [\"FOODHO\", \"ALCHOM\"])\n",
    "iFoodAway = categoricalUCCRollUp(IStub, [\"FOODAW\", \"ALCAWA\"])\n",
    "iHousing = categoricalUCCRollUp(IStub, [\"HOUSIN\"], ignoreUCCs = categoricalUCCRollUp(IStub, [\"UTILS\"]))\n",
    "iUtilites = categoricalUCCRollUp(IStub, [\"UTILS\"])\n",
    "iClothingAndBeauty = categoricalUCCRollUp(IStub, [\"APPARE\",\"PERSCA\"])\n",
    "iTransportation = categoricalUCCRollUp(IStub, [\"TRANS\"])\n",
    "iHealthcare = categoricalUCCRollUp(IStub, [\"HEALTH\"])\n",
    "iEntertainment = categoricalUCCRollUp(IStub, [\"ENTRTA\",\"READIN\"])\n",
    "iMiscellaneous = categoricalUCCRollUp(IStub, [\"MISC\",\"TOBACC\"])\n",
    "iCharitableAndFamilyGiving = categoricalUCCRollUp(IStub, [\"CASHCO\"])\n",
    "iInsurance = categoricalUCCRollUp(IStub, [\"LIFEIN\"])\n",
    "iEducation = categoricalUCCRollUp(IStub, [\"EDUCAT\"])\n",
    "iHousingPrinciple = categoricalUCCRollUp(IStub,[\"MRTPRI\"])"
   ]
  },
  {
   "cell_type": "markdown",
   "metadata": {},
   "source": [
    "### Adding and Rolling up the MTBI Categories into mtbiRolledUp\n",
    "\n",
    "outputs from cell:\n",
    "- mtbiTrimmed: Dataframe with NewID, TotatlExp and each entry of cost."
   ]
  },
  {
   "cell_type": "code",
   "execution_count": 9,
   "metadata": {
    "collapsed": false
   },
   "outputs": [],
   "source": [
    "rollupNames = [\"iTotalExp\",\"iFoodAtHome\",\"iFoodAway\",\"iHousing\",\"iUtilites\",\"iClothingAndBeauty\",\"iTransportation\",\"iHealthcare\",\"iEntertainment\",\"iMiscellaneous\",\"iCharitableAndFamilyGiving\",\"iInsurance\",\"iEducation\",\"iHousingPrinciple\"]\n",
    "rollups = [iTotalExp,iFoodAtHome,iFoodAway,iHousing,iUtilites,iClothingAndBeauty,iTransportation,iHealthcare,iEntertainment,iMiscellaneous,iCharitableAndFamilyGiving,iInsurance,iEducation,iHousingPrinciple]\n",
    "\n",
    "mtbiRolledUp = rollUpDataframe(mtbi, rollupNames, rollups, negativeColumns=[\"iHousingPrinciple\"], multiple=4)\n",
    "\n",
    "mtbiTrimmed = mtbiRolledUp.loc[: , ['NEWID','iTotalExp','iFoodAtHome','iFoodAway','iHousing','iUtilites','iClothingAndBeauty','iTransportation','iHealthcare','iEntertainment','iMiscellaneous','iCharitableAndFamilyGiving','iInsurance','iEducation','iHousingPrinciple']]"
   ]
  },
  {
   "cell_type": "markdown",
   "metadata": {},
   "source": [
    "### Creating the Sum for all expenditure category columns for each NEWID\n",
    "nonZeroColumns is an array that contains the names of columns that should not be Zero\n",
    "\n",
    "outputs from cell:\n",
    "- iExpensesByNewID: total expenses for each category for each NewID"
   ]
  },
  {
   "cell_type": "code",
   "execution_count": 10,
   "metadata": {
    "collapsed": false
   },
   "outputs": [],
   "source": [
    "# adding up all columns for each new id\n",
    "iExpensesByNewID = mtbiTrimmed.groupby(['NEWID'],as_index=False).sum()\n",
    "# removing rows with zero values in key categories\n",
    "nonZeroColumns = ['iFoodAtHome','iFoodAway','iHousing','iUtilites']\n",
    "for column in nonZeroColumns:\n",
    "    iExpensesByNewID = iExpensesByNewID[iExpensesByNewID[column] != 0]\n",
    "iExpensesByNewID['iHousing'] = iExpensesByNewID['iHousing']+iExpensesByNewID['iHousingPrinciple']"
   ]
  },
  {
   "cell_type": "markdown",
   "metadata": {},
   "source": [
    "### Subestting FMLI for age and recoding the incomebrackets"
   ]
  },
  {
   "cell_type": "code",
   "execution_count": 11,
   "metadata": {
    "collapsed": false,
    "scrolled": true
   },
   "outputs": [],
   "source": [
    "# subsetting for the age bracket\n",
    "fmliAge = subsetDataframe(dataframe=fmli, columnName=\"AGE_REF\", minValue=minAge, maxValue=maxAge)\n",
    "fmliAge = fmliAge.reset_index()\n",
    "\n",
    "# recoding the income brackets\n",
    "fmliRecoded = binColumn(dataframe=fmliAge, toBinColumnName=\"FINCBTXM\", binValues=incomeBrackets, binnedColumnName=\"INCLASS\", labels=range(1,len(incomeBrackets)))"
   ]
  },
  {
   "cell_type": "markdown",
   "metadata": {},
   "source": [
    "### Adding the Income class colum to the ExpensesByNewID dataframe"
   ]
  },
  {
   "cell_type": "code",
   "execution_count": 12,
   "metadata": {
    "collapsed": false
   },
   "outputs": [],
   "source": [
    "# combining the fmli and iExpensesByNewID\n",
    "inclassExpenses = pd.merge(left=fmliRecoded[['NEWID','INCLASS','FINCBTXM']],right=iExpensesByNewID, on=['NEWID'])\n",
    "# inclassExpenses"
   ]
  },
  {
   "cell_type": "markdown",
   "metadata": {},
   "source": [
    "### Averaging the expenditures based on incomebrackets\n",
    "inclassAverages is average money spent for each incomeclass"
   ]
  },
  {
   "cell_type": "code",
   "execution_count": 13,
   "metadata": {
    "collapsed": false,
    "scrolled": false
   },
   "outputs": [],
   "source": [
    "# getting mean for all columns with the same income class besides newId and creating new dataframe\n",
    "inclassAverages = round(inclassExpenses.ix[: ,inclassExpenses.columns != 'NEWID'].groupby(['INCLASS'],as_index=False).mean(),2)\n",
    "# inclassAverages"
   ]
  },
  {
   "cell_type": "markdown",
   "metadata": {},
   "source": [
    "### Converting the Average expenditures for income classes into percentages of expenditures\n",
    "percentages is the percent of total expenditure for each category for each incomeclass "
   ]
  },
  {
   "cell_type": "code",
   "execution_count": 14,
   "metadata": {
    "collapsed": false
   },
   "outputs": [],
   "source": [
    "# creating new dataframe for the percentages that only includes the plynty categories\n",
    "percentages = inclassAverages.loc[:,rollupNames[1:]]\n",
    "for column in rollupNames[1:]:\n",
    "    percentages[column] = inclassAverages[column]/inclassAverages.iTotalExp\n",
    "percentages['ExpInc'] = inclassAverages['iTotalExp']/inclassAverages['FINCBTXM']\n",
    "# truncate the max ExpInc\n",
    "percentages.ExpInc.ix[percentages['ExpInc']>1] = 1\n",
    "# percentages"
   ]
  },
  {
   "cell_type": "markdown",
   "metadata": {},
   "source": [
    "# Exploring Issues in the data"
   ]
  },
  {
   "cell_type": "markdown",
   "metadata": {},
   "source": [
    "### Getting Description of the inclassExpenses dataframe"
   ]
  },
  {
   "cell_type": "code",
   "execution_count": 15,
   "metadata": {
    "collapsed": false
   },
   "outputs": [
    {
     "data": {
      "text/html": [
       "<div>\n",
       "<table border=\"1\" class=\"dataframe\">\n",
       "  <thead>\n",
       "    <tr style=\"text-align: right;\">\n",
       "      <th></th>\n",
       "      <th>count</th>\n",
       "      <th>mean</th>\n",
       "      <th>std</th>\n",
       "      <th>min</th>\n",
       "      <th>25%</th>\n",
       "      <th>50%</th>\n",
       "      <th>75%</th>\n",
       "      <th>max</th>\n",
       "    </tr>\n",
       "  </thead>\n",
       "  <tbody>\n",
       "    <tr>\n",
       "      <th>0</th>\n",
       "      <td>285.0</td>\n",
       "      <td>8885.719298</td>\n",
       "      <td>9908.802726</td>\n",
       "      <td>190.0</td>\n",
       "      <td>3000.0</td>\n",
       "      <td>6396.0</td>\n",
       "      <td>10870.00</td>\n",
       "      <td>100452.0</td>\n",
       "    </tr>\n",
       "    <tr>\n",
       "      <th>1</th>\n",
       "      <td>314.0</td>\n",
       "      <td>7802.646497</td>\n",
       "      <td>8773.711443</td>\n",
       "      <td>30.0</td>\n",
       "      <td>2927.0</td>\n",
       "      <td>5396.0</td>\n",
       "      <td>9550.00</td>\n",
       "      <td>79576.0</td>\n",
       "    </tr>\n",
       "    <tr>\n",
       "      <th>2</th>\n",
       "      <td>392.0</td>\n",
       "      <td>9205.979592</td>\n",
       "      <td>11119.163524</td>\n",
       "      <td>-12980.0</td>\n",
       "      <td>3409.0</td>\n",
       "      <td>6792.0</td>\n",
       "      <td>10880.00</td>\n",
       "      <td>100556.0</td>\n",
       "    </tr>\n",
       "    <tr>\n",
       "      <th>3</th>\n",
       "      <td>436.0</td>\n",
       "      <td>10321.944954</td>\n",
       "      <td>8396.444117</td>\n",
       "      <td>120.0</td>\n",
       "      <td>4645.0</td>\n",
       "      <td>8938.0</td>\n",
       "      <td>13660.00</td>\n",
       "      <td>69796.0</td>\n",
       "    </tr>\n",
       "    <tr>\n",
       "      <th>4</th>\n",
       "      <td>419.0</td>\n",
       "      <td>11029.474940</td>\n",
       "      <td>8603.639679</td>\n",
       "      <td>-10180.0</td>\n",
       "      <td>4398.0</td>\n",
       "      <td>9552.0</td>\n",
       "      <td>15008.00</td>\n",
       "      <td>52912.0</td>\n",
       "    </tr>\n",
       "    <tr>\n",
       "      <th>5</th>\n",
       "      <td>498.0</td>\n",
       "      <td>13139.455823</td>\n",
       "      <td>10877.852585</td>\n",
       "      <td>40.0</td>\n",
       "      <td>6131.0</td>\n",
       "      <td>11228.0</td>\n",
       "      <td>17225.00</td>\n",
       "      <td>109400.0</td>\n",
       "    </tr>\n",
       "    <tr>\n",
       "      <th>6</th>\n",
       "      <td>300.0</td>\n",
       "      <td>15388.730000</td>\n",
       "      <td>13008.621235</td>\n",
       "      <td>400.0</td>\n",
       "      <td>7107.5</td>\n",
       "      <td>13332.0</td>\n",
       "      <td>20266.00</td>\n",
       "      <td>146416.0</td>\n",
       "    </tr>\n",
       "    <tr>\n",
       "      <th>7</th>\n",
       "      <td>448.0</td>\n",
       "      <td>17174.352679</td>\n",
       "      <td>12672.424747</td>\n",
       "      <td>610.0</td>\n",
       "      <td>8773.0</td>\n",
       "      <td>14308.0</td>\n",
       "      <td>21668.25</td>\n",
       "      <td>90984.0</td>\n",
       "    </tr>\n",
       "    <tr>\n",
       "      <th>8</th>\n",
       "      <td>346.0</td>\n",
       "      <td>19365.393064</td>\n",
       "      <td>14323.270206</td>\n",
       "      <td>988.0</td>\n",
       "      <td>9038.5</td>\n",
       "      <td>16158.0</td>\n",
       "      <td>25212.00</td>\n",
       "      <td>108044.0</td>\n",
       "    </tr>\n",
       "    <tr>\n",
       "      <th>9</th>\n",
       "      <td>304.0</td>\n",
       "      <td>24082.756579</td>\n",
       "      <td>20630.981091</td>\n",
       "      <td>910.0</td>\n",
       "      <td>12263.0</td>\n",
       "      <td>20848.0</td>\n",
       "      <td>30238.50</td>\n",
       "      <td>227912.0</td>\n",
       "    </tr>\n",
       "    <tr>\n",
       "      <th>10</th>\n",
       "      <td>256.0</td>\n",
       "      <td>26025.679688</td>\n",
       "      <td>19607.976365</td>\n",
       "      <td>1920.0</td>\n",
       "      <td>11129.5</td>\n",
       "      <td>21494.0</td>\n",
       "      <td>34337.00</td>\n",
       "      <td>108828.0</td>\n",
       "    </tr>\n",
       "    <tr>\n",
       "      <th>11</th>\n",
       "      <td>204.0</td>\n",
       "      <td>34839.686275</td>\n",
       "      <td>52955.148395</td>\n",
       "      <td>1040.0</td>\n",
       "      <td>13799.0</td>\n",
       "      <td>26586.0</td>\n",
       "      <td>42765.75</td>\n",
       "      <td>700492.0</td>\n",
       "    </tr>\n",
       "    <tr>\n",
       "      <th>12</th>\n",
       "      <td>124.0</td>\n",
       "      <td>33766.951613</td>\n",
       "      <td>25615.277584</td>\n",
       "      <td>3208.0</td>\n",
       "      <td>17519.0</td>\n",
       "      <td>28972.5</td>\n",
       "      <td>43805.00</td>\n",
       "      <td>187720.0</td>\n",
       "    </tr>\n",
       "    <tr>\n",
       "      <th>13</th>\n",
       "      <td>87.0</td>\n",
       "      <td>44857.528736</td>\n",
       "      <td>31770.883224</td>\n",
       "      <td>1720.0</td>\n",
       "      <td>22982.0</td>\n",
       "      <td>38760.0</td>\n",
       "      <td>57923.00</td>\n",
       "      <td>209257.0</td>\n",
       "    </tr>\n",
       "  </tbody>\n",
       "</table>\n",
       "</div>"
      ],
      "text/plain": [
       "    count          mean           std      min      25%      50%       75%  \\\n",
       "0   285.0   8885.719298   9908.802726    190.0   3000.0   6396.0  10870.00   \n",
       "1   314.0   7802.646497   8773.711443     30.0   2927.0   5396.0   9550.00   \n",
       "2   392.0   9205.979592  11119.163524 -12980.0   3409.0   6792.0  10880.00   \n",
       "3   436.0  10321.944954   8396.444117    120.0   4645.0   8938.0  13660.00   \n",
       "4   419.0  11029.474940   8603.639679 -10180.0   4398.0   9552.0  15008.00   \n",
       "5   498.0  13139.455823  10877.852585     40.0   6131.0  11228.0  17225.00   \n",
       "6   300.0  15388.730000  13008.621235    400.0   7107.5  13332.0  20266.00   \n",
       "7   448.0  17174.352679  12672.424747    610.0   8773.0  14308.0  21668.25   \n",
       "8   346.0  19365.393064  14323.270206    988.0   9038.5  16158.0  25212.00   \n",
       "9   304.0  24082.756579  20630.981091    910.0  12263.0  20848.0  30238.50   \n",
       "10  256.0  26025.679688  19607.976365   1920.0  11129.5  21494.0  34337.00   \n",
       "11  204.0  34839.686275  52955.148395   1040.0  13799.0  26586.0  42765.75   \n",
       "12  124.0  33766.951613  25615.277584   3208.0  17519.0  28972.5  43805.00   \n",
       "13   87.0  44857.528736  31770.883224   1720.0  22982.0  38760.0  57923.00   \n",
       "\n",
       "         max  \n",
       "0   100452.0  \n",
       "1    79576.0  \n",
       "2   100556.0  \n",
       "3    69796.0  \n",
       "4    52912.0  \n",
       "5   109400.0  \n",
       "6   146416.0  \n",
       "7    90984.0  \n",
       "8   108044.0  \n",
       "9   227912.0  \n",
       "10  108828.0  \n",
       "11  700492.0  \n",
       "12  187720.0  \n",
       "13  209257.0  "
      ]
     },
     "execution_count": 15,
     "metadata": {},
     "output_type": "execute_result"
    }
   ],
   "source": [
    "# max and min of housing per income class\n",
    "rowDescription = []\n",
    "for inclass in range(1,len(incomeBrackets)):\n",
    "    rowDescription.append(inclassExpenses.iHousing.loc[inclassExpenses.INCLASS == inclass].describe())\n",
    "descriptions = pd.concat(rowDescription, axis=1)\n",
    "descriptions.columns = range(0,len(incomeBrackets)-1)\n",
    "descriptions = descriptions.transpose()\n",
    "descriptions"
   ]
  },
  {
   "cell_type": "markdown",
   "metadata": {},
   "source": [
    "### Removing outliers in iHousing\n",
    " - For each income class\n",
    "    - Find Q1 and Q3\n",
    "    - Calculate IQR\n",
    "    - Find rows outside of Q3/Q2 +/- (1.5 x IQR) and Q3/Q2 +/- (3 x IQR)\n",
    " - Remove Rows from Dataframe\n",
    " - Clean1: Inner Fence\n",
    " - Clean2: Outer Fence"
   ]
  },
  {
   "cell_type": "code",
   "execution_count": 16,
   "metadata": {
    "collapsed": false,
    "scrolled": true
   },
   "outputs": [
    {
     "name": "stdout",
     "output_type": "stream",
     "text": [
      "There are 4413 rows before removal of outliers\n",
      "Removed 197 rows deemed to be out of inner fence\n",
      "Removed 4.46% of the CUs\n",
      "Removed 60 rows deemed to be out of inner fence\n",
      "Removed 1.36% of the CUs\n"
     ]
    }
   ],
   "source": [
    "# cleaning the inclassExpenses dataframe of outliers\n",
    "outliers1 = inclassExpenses.copy()\n",
    "outliers1\n",
    "innerFence = []\n",
    "outerFence = []\n",
    "\n",
    "\n",
    "print(\"There are \"+str(len(inclassExpenses))+\" rows before removal of outliers\")\n",
    "\n",
    "for inclass in range(1,len(incomeBrackets)):\n",
    "    outliers1InClass = outliers1.where(outliers1['INCLASS']==inclass)\n",
    "    Q1 = outliers1InClass['iHousing'].quantile(0.25)\n",
    "    Q3 = outliers1InClass['iHousing'].quantile(0.75)\n",
    "    IQR = Q3 - Q1\n",
    "    innerFence.extend(outliers1InClass[outliers1InClass['iHousing'] < (Q1 - (1.5 * IQR))].index.tolist())\n",
    "    innerFence.extend(outliers1InClass[outliers1InClass['iHousing'] > (Q3 + (1.5 * IQR))].index.tolist())    \n",
    "    outerFence.extend(outliers1InClass[outliers1InClass['iHousing'] < (Q1 - (3 * IQR))].index.tolist())\n",
    "    outerFence.extend(outliers1InClass[outliers1InClass['iHousing'] > (Q3 + (3 * IQR))].index.tolist())\n",
    "clean1 = outliers1.drop(outliers1.index[innerFence])\n",
    "clean1\n",
    "clean2 = outliers1.drop(outliers1.index[outerFence])\n",
    "clean2\n",
    "\n",
    "print(\"Removed \"+str(len(innerFence))+ \" rows deemed to be out of inner fence\")\n",
    "print(\"Removed \"+str(round(len(innerFence)/len(inclassExpenses)*100,2))+ \"% of the CUs\")\n",
    "\n",
    "print(\"Removed \"+str(len(outerFence))+ \" rows deemed to be out of inner fence\")\n",
    "print(\"Removed \"+str(round(len(outerFence)/len(inclassExpenses)*100,2))+ \"% of the CUs\")\n",
    "\n",
    "# creating the descriptions for the cleaned outlier dataframe\n",
    "rowDescription1 = []\n",
    "for inclass in range(1,len(incomeBrackets)):\n",
    "    rowDescription1.append(clean1.iHousing.loc[clean1.INCLASS == inclass].describe())\n",
    "descriptions1 = pd.concat(rowDescription1, axis=1)\n",
    "descriptions1.columns = range(0,len(incomeBrackets)-1)\n",
    "descriptions1 = descriptions1.transpose()\n",
    "# descriptions1"
   ]
  },
  {
   "cell_type": "markdown",
   "metadata": {},
   "source": [
    "### Looking at the outliers that were removed"
   ]
  },
  {
   "cell_type": "code",
   "execution_count": 17,
   "metadata": {
    "collapsed": false
   },
   "outputs": [
    {
     "name": "stdout",
     "output_type": "stream",
     "text": [
      "Number of outliers in each income class: [24 23 22 21 20 16 13 12 12 10  9  7  5  3]\n"
     ]
    },
    {
     "data": {
      "text/html": [
       "<div>\n",
       "<table border=\"1\" class=\"dataframe\">\n",
       "  <thead>\n",
       "    <tr style=\"text-align: right;\">\n",
       "      <th></th>\n",
       "      <th>NEWID</th>\n",
       "      <th>INCLASS</th>\n",
       "      <th>FINCBTXM</th>\n",
       "      <th>iTotalExp</th>\n",
       "      <th>iFoodAtHome</th>\n",
       "      <th>iFoodAway</th>\n",
       "      <th>iHousing</th>\n",
       "      <th>iUtilites</th>\n",
       "      <th>iClothingAndBeauty</th>\n",
       "      <th>iTransportation</th>\n",
       "      <th>iHealthcare</th>\n",
       "      <th>iEntertainment</th>\n",
       "      <th>iMiscellaneous</th>\n",
       "      <th>iCharitableAndFamilyGiving</th>\n",
       "      <th>iInsurance</th>\n",
       "      <th>iEducation</th>\n",
       "      <th>iHousingPrinciple</th>\n",
       "    </tr>\n",
       "  </thead>\n",
       "  <tbody>\n",
       "    <tr>\n",
       "      <th>1412</th>\n",
       "      <td>3148751</td>\n",
       "      <td>1</td>\n",
       "      <td>7559.0</td>\n",
       "      <td>44454.8</td>\n",
       "      <td>6240.0</td>\n",
       "      <td>780.0</td>\n",
       "      <td>24072.0</td>\n",
       "      <td>2400.0</td>\n",
       "      <td>660.0</td>\n",
       "      <td>6684.0</td>\n",
       "      <td>4278.8</td>\n",
       "      <td>720.0</td>\n",
       "      <td>0.0</td>\n",
       "      <td>180.0</td>\n",
       "      <td>0.0</td>\n",
       "      <td>0.0</td>\n",
       "      <td>1560.0</td>\n",
       "    </tr>\n",
       "    <tr>\n",
       "      <th>1459</th>\n",
       "      <td>3164541</td>\n",
       "      <td>1</td>\n",
       "      <td>5047.4</td>\n",
       "      <td>146820.0</td>\n",
       "      <td>10400.0</td>\n",
       "      <td>2600.0</td>\n",
       "      <td>100452.0</td>\n",
       "      <td>2948.0</td>\n",
       "      <td>508.0</td>\n",
       "      <td>15040.0</td>\n",
       "      <td>11800.0</td>\n",
       "      <td>360.0</td>\n",
       "      <td>0.0</td>\n",
       "      <td>6000.0</td>\n",
       "      <td>0.0</td>\n",
       "      <td>0.0</td>\n",
       "      <td>3288.0</td>\n",
       "    </tr>\n",
       "    <tr>\n",
       "      <th>1499</th>\n",
       "      <td>3169971</td>\n",
       "      <td>1</td>\n",
       "      <td>1500.0</td>\n",
       "      <td>69248.0</td>\n",
       "      <td>9100.0</td>\n",
       "      <td>4080.0</td>\n",
       "      <td>28400.0</td>\n",
       "      <td>7280.0</td>\n",
       "      <td>4500.0</td>\n",
       "      <td>9680.0</td>\n",
       "      <td>1920.0</td>\n",
       "      <td>3028.0</td>\n",
       "      <td>780.0</td>\n",
       "      <td>480.0</td>\n",
       "      <td>0.0</td>\n",
       "      <td>0.0</td>\n",
       "      <td>0.0</td>\n",
       "    </tr>\n",
       "    <tr>\n",
       "      <th>1871</th>\n",
       "      <td>3067413</td>\n",
       "      <td>1</td>\n",
       "      <td>9416.0</td>\n",
       "      <td>104468.0</td>\n",
       "      <td>3060.0</td>\n",
       "      <td>1636.0</td>\n",
       "      <td>23908.0</td>\n",
       "      <td>3736.0</td>\n",
       "      <td>1200.0</td>\n",
       "      <td>3544.0</td>\n",
       "      <td>26500.0</td>\n",
       "      <td>9164.0</td>\n",
       "      <td>36316.0</td>\n",
       "      <td>2460.0</td>\n",
       "      <td>0.0</td>\n",
       "      <td>0.0</td>\n",
       "      <td>7056.0</td>\n",
       "    </tr>\n",
       "    <tr>\n",
       "      <th>2057</th>\n",
       "      <td>3110532</td>\n",
       "      <td>1</td>\n",
       "      <td>4000.0</td>\n",
       "      <td>62074.0</td>\n",
       "      <td>3756.0</td>\n",
       "      <td>5320.0</td>\n",
       "      <td>31830.0</td>\n",
       "      <td>2460.0</td>\n",
       "      <td>760.0</td>\n",
       "      <td>5648.0</td>\n",
       "      <td>7140.0</td>\n",
       "      <td>3864.0</td>\n",
       "      <td>96.0</td>\n",
       "      <td>1200.0</td>\n",
       "      <td>0.0</td>\n",
       "      <td>0.0</td>\n",
       "      <td>0.0</td>\n",
       "    </tr>\n",
       "  </tbody>\n",
       "</table>\n",
       "</div>"
      ],
      "text/plain": [
       "        NEWID  INCLASS  FINCBTXM  iTotalExp  iFoodAtHome  iFoodAway  iHousing  \\\n",
       "1412  3148751        1    7559.0    44454.8       6240.0      780.0   24072.0   \n",
       "1459  3164541        1    5047.4   146820.0      10400.0     2600.0  100452.0   \n",
       "1499  3169971        1    1500.0    69248.0       9100.0     4080.0   28400.0   \n",
       "1871  3067413        1    9416.0   104468.0       3060.0     1636.0   23908.0   \n",
       "2057  3110532        1    4000.0    62074.0       3756.0     5320.0   31830.0   \n",
       "\n",
       "      iUtilites  iClothingAndBeauty  iTransportation  iHealthcare  \\\n",
       "1412     2400.0               660.0           6684.0       4278.8   \n",
       "1459     2948.0               508.0          15040.0      11800.0   \n",
       "1499     7280.0              4500.0           9680.0       1920.0   \n",
       "1871     3736.0              1200.0           3544.0      26500.0   \n",
       "2057     2460.0               760.0           5648.0       7140.0   \n",
       "\n",
       "      iEntertainment  iMiscellaneous  iCharitableAndFamilyGiving  iInsurance  \\\n",
       "1412           720.0             0.0                       180.0         0.0   \n",
       "1459           360.0             0.0                      6000.0         0.0   \n",
       "1499          3028.0           780.0                       480.0         0.0   \n",
       "1871          9164.0         36316.0                      2460.0         0.0   \n",
       "2057          3864.0            96.0                      1200.0         0.0   \n",
       "\n",
       "      iEducation  iHousingPrinciple  \n",
       "1412         0.0             1560.0  \n",
       "1459         0.0             3288.0  \n",
       "1499         0.0                0.0  \n",
       "1871         0.0             7056.0  \n",
       "2057         0.0                0.0  "
      ]
     },
     "execution_count": 17,
     "metadata": {},
     "output_type": "execute_result"
    }
   ],
   "source": [
    "innerOutliers = inclassExpenses.copy()\n",
    "innerOutliers = innerOutliers.ix[innerFence,:]\n",
    "print(\"Number of outliers in each income class: \"+str(innerOutliers.INCLASS.value_counts().values))\n",
    "innerOutliers.head()"
   ]
  },
  {
   "cell_type": "code",
   "execution_count": 18,
   "metadata": {
    "collapsed": false
   },
   "outputs": [
    {
     "name": "stdout",
     "output_type": "stream",
     "text": [
      "Number of outliers in each income class: [10  8  6  6  6  6  4  4  3  2  2  1  1  1]\n"
     ]
    },
    {
     "data": {
      "text/html": [
       "<div>\n",
       "<table border=\"1\" class=\"dataframe\">\n",
       "  <thead>\n",
       "    <tr style=\"text-align: right;\">\n",
       "      <th></th>\n",
       "      <th>NEWID</th>\n",
       "      <th>INCLASS</th>\n",
       "      <th>FINCBTXM</th>\n",
       "      <th>iTotalExp</th>\n",
       "      <th>iFoodAtHome</th>\n",
       "      <th>iFoodAway</th>\n",
       "      <th>iHousing</th>\n",
       "      <th>iUtilites</th>\n",
       "      <th>iClothingAndBeauty</th>\n",
       "      <th>iTransportation</th>\n",
       "      <th>iHealthcare</th>\n",
       "      <th>iEntertainment</th>\n",
       "      <th>iMiscellaneous</th>\n",
       "      <th>iCharitableAndFamilyGiving</th>\n",
       "      <th>iInsurance</th>\n",
       "      <th>iEducation</th>\n",
       "      <th>iHousingPrinciple</th>\n",
       "    </tr>\n",
       "  </thead>\n",
       "  <tbody>\n",
       "    <tr>\n",
       "      <th>1459</th>\n",
       "      <td>3164541</td>\n",
       "      <td>1</td>\n",
       "      <td>5047.4</td>\n",
       "      <td>146820.0</td>\n",
       "      <td>10400.0</td>\n",
       "      <td>2600.0</td>\n",
       "      <td>100452.0</td>\n",
       "      <td>2948.0</td>\n",
       "      <td>508.0</td>\n",
       "      <td>15040.0</td>\n",
       "      <td>11800.0</td>\n",
       "      <td>360.0</td>\n",
       "      <td>0.0</td>\n",
       "      <td>6000.0</td>\n",
       "      <td>0.0</td>\n",
       "      <td>0.0</td>\n",
       "      <td>3288.0</td>\n",
       "    </tr>\n",
       "    <tr>\n",
       "      <th>2154</th>\n",
       "      <td>3164542</td>\n",
       "      <td>1</td>\n",
       "      <td>5205.2</td>\n",
       "      <td>84044.0</td>\n",
       "      <td>10400.0</td>\n",
       "      <td>1300.0</td>\n",
       "      <td>39424.0</td>\n",
       "      <td>3920.0</td>\n",
       "      <td>2560.0</td>\n",
       "      <td>11064.0</td>\n",
       "      <td>18600.0</td>\n",
       "      <td>1784.0</td>\n",
       "      <td>0.0</td>\n",
       "      <td>1440.0</td>\n",
       "      <td>0.0</td>\n",
       "      <td>0.0</td>\n",
       "      <td>6448.0</td>\n",
       "    </tr>\n",
       "    <tr>\n",
       "      <th>2484</th>\n",
       "      <td>3235361</td>\n",
       "      <td>1</td>\n",
       "      <td>2959.0</td>\n",
       "      <td>181308.0</td>\n",
       "      <td>6040.0</td>\n",
       "      <td>2360.0</td>\n",
       "      <td>67380.0</td>\n",
       "      <td>2880.0</td>\n",
       "      <td>1360.0</td>\n",
       "      <td>8636.0</td>\n",
       "      <td>13868.0</td>\n",
       "      <td>77136.0</td>\n",
       "      <td>124.0</td>\n",
       "      <td>700.0</td>\n",
       "      <td>824.0</td>\n",
       "      <td>0.0</td>\n",
       "      <td>0.0</td>\n",
       "    </tr>\n",
       "    <tr>\n",
       "      <th>2672</th>\n",
       "      <td>3067414</td>\n",
       "      <td>1</td>\n",
       "      <td>4806.0</td>\n",
       "      <td>76758.8</td>\n",
       "      <td>4524.0</td>\n",
       "      <td>3108.0</td>\n",
       "      <td>35216.0</td>\n",
       "      <td>7272.0</td>\n",
       "      <td>3732.0</td>\n",
       "      <td>4852.0</td>\n",
       "      <td>9898.8</td>\n",
       "      <td>7300.0</td>\n",
       "      <td>1580.0</td>\n",
       "      <td>552.0</td>\n",
       "      <td>0.0</td>\n",
       "      <td>0.0</td>\n",
       "      <td>1276.0</td>\n",
       "    </tr>\n",
       "    <tr>\n",
       "      <th>3565</th>\n",
       "      <td>3149414</td>\n",
       "      <td>1</td>\n",
       "      <td>3441.0</td>\n",
       "      <td>150880.0</td>\n",
       "      <td>8800.0</td>\n",
       "      <td>32000.0</td>\n",
       "      <td>35128.0</td>\n",
       "      <td>5700.0</td>\n",
       "      <td>2720.0</td>\n",
       "      <td>3000.0</td>\n",
       "      <td>55400.0</td>\n",
       "      <td>3332.0</td>\n",
       "      <td>0.0</td>\n",
       "      <td>800.0</td>\n",
       "      <td>4000.0</td>\n",
       "      <td>0.0</td>\n",
       "      <td>0.0</td>\n",
       "    </tr>\n",
       "  </tbody>\n",
       "</table>\n",
       "</div>"
      ],
      "text/plain": [
       "        NEWID  INCLASS  FINCBTXM  iTotalExp  iFoodAtHome  iFoodAway  iHousing  \\\n",
       "1459  3164541        1    5047.4   146820.0      10400.0     2600.0  100452.0   \n",
       "2154  3164542        1    5205.2    84044.0      10400.0     1300.0   39424.0   \n",
       "2484  3235361        1    2959.0   181308.0       6040.0     2360.0   67380.0   \n",
       "2672  3067414        1    4806.0    76758.8       4524.0     3108.0   35216.0   \n",
       "3565  3149414        1    3441.0   150880.0       8800.0    32000.0   35128.0   \n",
       "\n",
       "      iUtilites  iClothingAndBeauty  iTransportation  iHealthcare  \\\n",
       "1459     2948.0               508.0          15040.0      11800.0   \n",
       "2154     3920.0              2560.0          11064.0      18600.0   \n",
       "2484     2880.0              1360.0           8636.0      13868.0   \n",
       "2672     7272.0              3732.0           4852.0       9898.8   \n",
       "3565     5700.0              2720.0           3000.0      55400.0   \n",
       "\n",
       "      iEntertainment  iMiscellaneous  iCharitableAndFamilyGiving  iInsurance  \\\n",
       "1459           360.0             0.0                      6000.0         0.0   \n",
       "2154          1784.0             0.0                      1440.0         0.0   \n",
       "2484         77136.0           124.0                       700.0       824.0   \n",
       "2672          7300.0          1580.0                       552.0         0.0   \n",
       "3565          3332.0             0.0                       800.0      4000.0   \n",
       "\n",
       "      iEducation  iHousingPrinciple  \n",
       "1459         0.0             3288.0  \n",
       "2154         0.0             6448.0  \n",
       "2484         0.0                0.0  \n",
       "2672         0.0             1276.0  \n",
       "3565         0.0                0.0  "
      ]
     },
     "execution_count": 18,
     "metadata": {},
     "output_type": "execute_result"
    }
   ],
   "source": [
    "outerOutliers = inclassExpenses.copy()\n",
    "outerOutliers = outerOutliers.ix[outerFence,:]\n",
    "print(\"Number of outliers in each income class: \"+str(outerOutliers.INCLASS.value_counts().values))\n",
    "outerOutliers.head()"
   ]
  },
  {
   "cell_type": "markdown",
   "metadata": {
    "slideshow": {
     "slide_type": "-"
    }
   },
   "source": [
    "### Things learned from removing outliers\n",
    "- Removing outliers helped some of the standard deviation crazyness\n",
    "- Higher incomebrackets have greater standard deviation even without outliers"
   ]
  },
  {
   "cell_type": "markdown",
   "metadata": {},
   "source": [
    "### Creating the percentage output for cleaned dataframe"
   ]
  },
  {
   "cell_type": "code",
   "execution_count": 19,
   "metadata": {
    "collapsed": false
   },
   "outputs": [
    {
     "data": {
      "text/html": [
       "<div>\n",
       "<table border=\"1\" class=\"dataframe\">\n",
       "  <thead>\n",
       "    <tr style=\"text-align: right;\">\n",
       "      <th></th>\n",
       "      <th>iFoodAtHome</th>\n",
       "      <th>iFoodAway</th>\n",
       "      <th>iHousing</th>\n",
       "      <th>iUtilites</th>\n",
       "      <th>iClothingAndBeauty</th>\n",
       "      <th>iTransportation</th>\n",
       "      <th>iHealthcare</th>\n",
       "      <th>iEntertainment</th>\n",
       "      <th>iMiscellaneous</th>\n",
       "      <th>iCharitableAndFamilyGiving</th>\n",
       "      <th>iInsurance</th>\n",
       "      <th>iEducation</th>\n",
       "      <th>iHousingPrinciple</th>\n",
       "      <th>ExpInc</th>\n",
       "    </tr>\n",
       "  </thead>\n",
       "  <tbody>\n",
       "    <tr>\n",
       "      <th>0</th>\n",
       "      <td>0.143153</td>\n",
       "      <td>0.069182</td>\n",
       "      <td>0.256804</td>\n",
       "      <td>0.110264</td>\n",
       "      <td>0.024893</td>\n",
       "      <td>0.187239</td>\n",
       "      <td>0.100931</td>\n",
       "      <td>0.049310</td>\n",
       "      <td>0.021146</td>\n",
       "      <td>0.054009</td>\n",
       "      <td>0.002750</td>\n",
       "      <td>0.001006</td>\n",
       "      <td>0.020686</td>\n",
       "      <td>1.000000</td>\n",
       "    </tr>\n",
       "    <tr>\n",
       "      <th>1</th>\n",
       "      <td>0.153483</td>\n",
       "      <td>0.062595</td>\n",
       "      <td>0.267757</td>\n",
       "      <td>0.125779</td>\n",
       "      <td>0.027027</td>\n",
       "      <td>0.164728</td>\n",
       "      <td>0.092728</td>\n",
       "      <td>0.053621</td>\n",
       "      <td>0.019365</td>\n",
       "      <td>0.030868</td>\n",
       "      <td>0.004515</td>\n",
       "      <td>0.013085</td>\n",
       "      <td>0.015551</td>\n",
       "      <td>1.000000</td>\n",
       "    </tr>\n",
       "    <tr>\n",
       "      <th>2</th>\n",
       "      <td>0.148606</td>\n",
       "      <td>0.062147</td>\n",
       "      <td>0.236694</td>\n",
       "      <td>0.109940</td>\n",
       "      <td>0.023583</td>\n",
       "      <td>0.198583</td>\n",
       "      <td>0.115255</td>\n",
       "      <td>0.061817</td>\n",
       "      <td>0.028709</td>\n",
       "      <td>0.025866</td>\n",
       "      <td>0.004742</td>\n",
       "      <td>0.005466</td>\n",
       "      <td>0.021406</td>\n",
       "      <td>1.000000</td>\n",
       "    </tr>\n",
       "    <tr>\n",
       "      <th>3</th>\n",
       "      <td>0.134865</td>\n",
       "      <td>0.064804</td>\n",
       "      <td>0.260607</td>\n",
       "      <td>0.098345</td>\n",
       "      <td>0.028434</td>\n",
       "      <td>0.175389</td>\n",
       "      <td>0.112610</td>\n",
       "      <td>0.066170</td>\n",
       "      <td>0.029496</td>\n",
       "      <td>0.045737</td>\n",
       "      <td>0.005712</td>\n",
       "      <td>0.003071</td>\n",
       "      <td>0.025240</td>\n",
       "      <td>0.936733</td>\n",
       "    </tr>\n",
       "    <tr>\n",
       "      <th>4</th>\n",
       "      <td>0.128674</td>\n",
       "      <td>0.064546</td>\n",
       "      <td>0.254878</td>\n",
       "      <td>0.099356</td>\n",
       "      <td>0.026990</td>\n",
       "      <td>0.218615</td>\n",
       "      <td>0.106389</td>\n",
       "      <td>0.058407</td>\n",
       "      <td>0.018433</td>\n",
       "      <td>0.040300</td>\n",
       "      <td>0.006487</td>\n",
       "      <td>0.006102</td>\n",
       "      <td>0.029177</td>\n",
       "      <td>0.814476</td>\n",
       "    </tr>\n",
       "    <tr>\n",
       "      <th>5</th>\n",
       "      <td>0.120934</td>\n",
       "      <td>0.061817</td>\n",
       "      <td>0.269803</td>\n",
       "      <td>0.097682</td>\n",
       "      <td>0.031396</td>\n",
       "      <td>0.193738</td>\n",
       "      <td>0.123868</td>\n",
       "      <td>0.052955</td>\n",
       "      <td>0.025261</td>\n",
       "      <td>0.039144</td>\n",
       "      <td>0.007060</td>\n",
       "      <td>0.018490</td>\n",
       "      <td>0.042149</td>\n",
       "      <td>0.708528</td>\n",
       "    </tr>\n",
       "    <tr>\n",
       "      <th>6</th>\n",
       "      <td>0.122026</td>\n",
       "      <td>0.060859</td>\n",
       "      <td>0.280476</td>\n",
       "      <td>0.089600</td>\n",
       "      <td>0.030806</td>\n",
       "      <td>0.202858</td>\n",
       "      <td>0.128762</td>\n",
       "      <td>0.058220</td>\n",
       "      <td>0.014002</td>\n",
       "      <td>0.031426</td>\n",
       "      <td>0.009598</td>\n",
       "      <td>0.011716</td>\n",
       "      <td>0.040348</td>\n",
       "      <td>0.663879</td>\n",
       "    </tr>\n",
       "    <tr>\n",
       "      <th>7</th>\n",
       "      <td>0.111910</td>\n",
       "      <td>0.062346</td>\n",
       "      <td>0.278634</td>\n",
       "      <td>0.088775</td>\n",
       "      <td>0.028617</td>\n",
       "      <td>0.216512</td>\n",
       "      <td>0.109742</td>\n",
       "      <td>0.064538</td>\n",
       "      <td>0.016230</td>\n",
       "      <td>0.048517</td>\n",
       "      <td>0.010194</td>\n",
       "      <td>0.011668</td>\n",
       "      <td>0.047683</td>\n",
       "      <td>0.602830</td>\n",
       "    </tr>\n",
       "    <tr>\n",
       "      <th>8</th>\n",
       "      <td>0.110234</td>\n",
       "      <td>0.067775</td>\n",
       "      <td>0.297634</td>\n",
       "      <td>0.087854</td>\n",
       "      <td>0.031368</td>\n",
       "      <td>0.203069</td>\n",
       "      <td>0.109221</td>\n",
       "      <td>0.065089</td>\n",
       "      <td>0.018653</td>\n",
       "      <td>0.043860</td>\n",
       "      <td>0.010755</td>\n",
       "      <td>0.015197</td>\n",
       "      <td>0.060710</td>\n",
       "      <td>0.545520</td>\n",
       "    </tr>\n",
       "    <tr>\n",
       "      <th>9</th>\n",
       "      <td>0.103833</td>\n",
       "      <td>0.068246</td>\n",
       "      <td>0.314355</td>\n",
       "      <td>0.082093</td>\n",
       "      <td>0.033907</td>\n",
       "      <td>0.195876</td>\n",
       "      <td>0.096032</td>\n",
       "      <td>0.066415</td>\n",
       "      <td>0.016211</td>\n",
       "      <td>0.050051</td>\n",
       "      <td>0.007422</td>\n",
       "      <td>0.026456</td>\n",
       "      <td>0.060896</td>\n",
       "      <td>0.501684</td>\n",
       "    </tr>\n",
       "    <tr>\n",
       "      <th>10</th>\n",
       "      <td>0.103586</td>\n",
       "      <td>0.066035</td>\n",
       "      <td>0.294517</td>\n",
       "      <td>0.075720</td>\n",
       "      <td>0.033023</td>\n",
       "      <td>0.193018</td>\n",
       "      <td>0.104514</td>\n",
       "      <td>0.062400</td>\n",
       "      <td>0.016881</td>\n",
       "      <td>0.029895</td>\n",
       "      <td>0.030729</td>\n",
       "      <td>0.037253</td>\n",
       "      <td>0.047572</td>\n",
       "      <td>0.459913</td>\n",
       "    </tr>\n",
       "    <tr>\n",
       "      <th>11</th>\n",
       "      <td>0.084539</td>\n",
       "      <td>0.068021</td>\n",
       "      <td>0.298771</td>\n",
       "      <td>0.064120</td>\n",
       "      <td>0.033043</td>\n",
       "      <td>0.200948</td>\n",
       "      <td>0.078554</td>\n",
       "      <td>0.055552</td>\n",
       "      <td>0.008725</td>\n",
       "      <td>0.079497</td>\n",
       "      <td>0.007625</td>\n",
       "      <td>0.078889</td>\n",
       "      <td>0.058285</td>\n",
       "      <td>0.428614</td>\n",
       "    </tr>\n",
       "    <tr>\n",
       "      <th>12</th>\n",
       "      <td>0.086278</td>\n",
       "      <td>0.067394</td>\n",
       "      <td>0.294779</td>\n",
       "      <td>0.066335</td>\n",
       "      <td>0.036897</td>\n",
       "      <td>0.188408</td>\n",
       "      <td>0.087304</td>\n",
       "      <td>0.097166</td>\n",
       "      <td>0.011593</td>\n",
       "      <td>0.061664</td>\n",
       "      <td>0.008982</td>\n",
       "      <td>0.040191</td>\n",
       "      <td>0.046991</td>\n",
       "      <td>0.371882</td>\n",
       "    </tr>\n",
       "    <tr>\n",
       "      <th>13</th>\n",
       "      <td>0.066992</td>\n",
       "      <td>0.068341</td>\n",
       "      <td>0.280788</td>\n",
       "      <td>0.050101</td>\n",
       "      <td>0.040565</td>\n",
       "      <td>0.210720</td>\n",
       "      <td>0.079489</td>\n",
       "      <td>0.070690</td>\n",
       "      <td>0.024180</td>\n",
       "      <td>0.093466</td>\n",
       "      <td>0.007686</td>\n",
       "      <td>0.042250</td>\n",
       "      <td>0.035270</td>\n",
       "      <td>0.392255</td>\n",
       "    </tr>\n",
       "  </tbody>\n",
       "</table>\n",
       "</div>"
      ],
      "text/plain": [
       "    iFoodAtHome  iFoodAway  iHousing  iUtilites  iClothingAndBeauty  \\\n",
       "0      0.143153   0.069182  0.256804   0.110264            0.024893   \n",
       "1      0.153483   0.062595  0.267757   0.125779            0.027027   \n",
       "2      0.148606   0.062147  0.236694   0.109940            0.023583   \n",
       "3      0.134865   0.064804  0.260607   0.098345            0.028434   \n",
       "4      0.128674   0.064546  0.254878   0.099356            0.026990   \n",
       "5      0.120934   0.061817  0.269803   0.097682            0.031396   \n",
       "6      0.122026   0.060859  0.280476   0.089600            0.030806   \n",
       "7      0.111910   0.062346  0.278634   0.088775            0.028617   \n",
       "8      0.110234   0.067775  0.297634   0.087854            0.031368   \n",
       "9      0.103833   0.068246  0.314355   0.082093            0.033907   \n",
       "10     0.103586   0.066035  0.294517   0.075720            0.033023   \n",
       "11     0.084539   0.068021  0.298771   0.064120            0.033043   \n",
       "12     0.086278   0.067394  0.294779   0.066335            0.036897   \n",
       "13     0.066992   0.068341  0.280788   0.050101            0.040565   \n",
       "\n",
       "    iTransportation  iHealthcare  iEntertainment  iMiscellaneous  \\\n",
       "0          0.187239     0.100931        0.049310        0.021146   \n",
       "1          0.164728     0.092728        0.053621        0.019365   \n",
       "2          0.198583     0.115255        0.061817        0.028709   \n",
       "3          0.175389     0.112610        0.066170        0.029496   \n",
       "4          0.218615     0.106389        0.058407        0.018433   \n",
       "5          0.193738     0.123868        0.052955        0.025261   \n",
       "6          0.202858     0.128762        0.058220        0.014002   \n",
       "7          0.216512     0.109742        0.064538        0.016230   \n",
       "8          0.203069     0.109221        0.065089        0.018653   \n",
       "9          0.195876     0.096032        0.066415        0.016211   \n",
       "10         0.193018     0.104514        0.062400        0.016881   \n",
       "11         0.200948     0.078554        0.055552        0.008725   \n",
       "12         0.188408     0.087304        0.097166        0.011593   \n",
       "13         0.210720     0.079489        0.070690        0.024180   \n",
       "\n",
       "    iCharitableAndFamilyGiving  iInsurance  iEducation  iHousingPrinciple  \\\n",
       "0                     0.054009    0.002750    0.001006           0.020686   \n",
       "1                     0.030868    0.004515    0.013085           0.015551   \n",
       "2                     0.025866    0.004742    0.005466           0.021406   \n",
       "3                     0.045737    0.005712    0.003071           0.025240   \n",
       "4                     0.040300    0.006487    0.006102           0.029177   \n",
       "5                     0.039144    0.007060    0.018490           0.042149   \n",
       "6                     0.031426    0.009598    0.011716           0.040348   \n",
       "7                     0.048517    0.010194    0.011668           0.047683   \n",
       "8                     0.043860    0.010755    0.015197           0.060710   \n",
       "9                     0.050051    0.007422    0.026456           0.060896   \n",
       "10                    0.029895    0.030729    0.037253           0.047572   \n",
       "11                    0.079497    0.007625    0.078889           0.058285   \n",
       "12                    0.061664    0.008982    0.040191           0.046991   \n",
       "13                    0.093466    0.007686    0.042250           0.035270   \n",
       "\n",
       "      ExpInc  \n",
       "0   1.000000  \n",
       "1   1.000000  \n",
       "2   1.000000  \n",
       "3   0.936733  \n",
       "4   0.814476  \n",
       "5   0.708528  \n",
       "6   0.663879  \n",
       "7   0.602830  \n",
       "8   0.545520  \n",
       "9   0.501684  \n",
       "10  0.459913  \n",
       "11  0.428614  \n",
       "12  0.371882  \n",
       "13  0.392255  "
      ]
     },
     "execution_count": 19,
     "metadata": {},
     "output_type": "execute_result"
    }
   ],
   "source": [
    "# creating percentage outputs for cleaned dataframe\n",
    "inclassCleanAverages1 = round(clean1.ix[: ,clean1.columns != 'NEWID'].groupby(['INCLASS'],as_index=False).mean(),2)\n",
    "# creating new dataframe for the percentages that only includes the plynty categories\n",
    "cleanPercentages1 = inclassCleanAverages1.loc[:,rollupNames[1:]]\n",
    "for column in rollupNames[1:]:\n",
    "    cleanPercentages1[column] = inclassCleanAverages1[column]/inclassCleanAverages1.iTotalExp\n",
    "cleanPercentages1['ExpInc'] = inclassCleanAverages1['iTotalExp']/inclassCleanAverages1['FINCBTXM']\n",
    "# truncate the max ExpInc\n",
    "cleanPercentages1.ExpInc.ix[cleanPercentages1['ExpInc']>1] = 1\n",
    "cleanPercentages1"
   ]
  },
  {
   "cell_type": "code",
   "execution_count": 20,
   "metadata": {
    "collapsed": false,
    "scrolled": true
   },
   "outputs": [
    {
     "data": {
      "text/html": [
       "<div>\n",
       "<table border=\"1\" class=\"dataframe\">\n",
       "  <thead>\n",
       "    <tr style=\"text-align: right;\">\n",
       "      <th></th>\n",
       "      <th>iFoodAtHome</th>\n",
       "      <th>iFoodAway</th>\n",
       "      <th>iHousing</th>\n",
       "      <th>iUtilites</th>\n",
       "      <th>iClothingAndBeauty</th>\n",
       "      <th>iTransportation</th>\n",
       "      <th>iHealthcare</th>\n",
       "      <th>iEntertainment</th>\n",
       "      <th>iMiscellaneous</th>\n",
       "      <th>iCharitableAndFamilyGiving</th>\n",
       "      <th>iInsurance</th>\n",
       "      <th>iEducation</th>\n",
       "      <th>iHousingPrinciple</th>\n",
       "      <th>ExpInc</th>\n",
       "    </tr>\n",
       "  </thead>\n",
       "  <tbody>\n",
       "    <tr>\n",
       "      <th>0</th>\n",
       "      <td>0.137847</td>\n",
       "      <td>0.066968</td>\n",
       "      <td>0.276387</td>\n",
       "      <td>0.107229</td>\n",
       "      <td>0.027682</td>\n",
       "      <td>0.177297</td>\n",
       "      <td>0.101695</td>\n",
       "      <td>0.050737</td>\n",
       "      <td>0.023554</td>\n",
       "      <td>0.049145</td>\n",
       "      <td>0.002444</td>\n",
       "      <td>0.001209</td>\n",
       "      <td>0.022194</td>\n",
       "      <td>1.000000</td>\n",
       "    </tr>\n",
       "    <tr>\n",
       "      <th>1</th>\n",
       "      <td>0.149448</td>\n",
       "      <td>0.061776</td>\n",
       "      <td>0.288698</td>\n",
       "      <td>0.121895</td>\n",
       "      <td>0.027753</td>\n",
       "      <td>0.159725</td>\n",
       "      <td>0.095006</td>\n",
       "      <td>0.051949</td>\n",
       "      <td>0.018098</td>\n",
       "      <td>0.034124</td>\n",
       "      <td>0.004610</td>\n",
       "      <td>0.012133</td>\n",
       "      <td>0.025215</td>\n",
       "      <td>1.000000</td>\n",
       "    </tr>\n",
       "    <tr>\n",
       "      <th>2</th>\n",
       "      <td>0.147389</td>\n",
       "      <td>0.062105</td>\n",
       "      <td>0.250115</td>\n",
       "      <td>0.108444</td>\n",
       "      <td>0.024420</td>\n",
       "      <td>0.192547</td>\n",
       "      <td>0.112425</td>\n",
       "      <td>0.060529</td>\n",
       "      <td>0.027801</td>\n",
       "      <td>0.026050</td>\n",
       "      <td>0.004490</td>\n",
       "      <td>0.005545</td>\n",
       "      <td>0.021861</td>\n",
       "      <td>1.000000</td>\n",
       "    </tr>\n",
       "    <tr>\n",
       "      <th>3</th>\n",
       "      <td>0.130992</td>\n",
       "      <td>0.064366</td>\n",
       "      <td>0.272763</td>\n",
       "      <td>0.094862</td>\n",
       "      <td>0.029684</td>\n",
       "      <td>0.178178</td>\n",
       "      <td>0.111230</td>\n",
       "      <td>0.063574</td>\n",
       "      <td>0.027958</td>\n",
       "      <td>0.044266</td>\n",
       "      <td>0.006088</td>\n",
       "      <td>0.002776</td>\n",
       "      <td>0.026737</td>\n",
       "      <td>0.990767</td>\n",
       "    </tr>\n",
       "    <tr>\n",
       "      <th>4</th>\n",
       "      <td>0.126552</td>\n",
       "      <td>0.063132</td>\n",
       "      <td>0.268219</td>\n",
       "      <td>0.098135</td>\n",
       "      <td>0.026844</td>\n",
       "      <td>0.213726</td>\n",
       "      <td>0.107388</td>\n",
       "      <td>0.058568</td>\n",
       "      <td>0.017890</td>\n",
       "      <td>0.038960</td>\n",
       "      <td>0.006274</td>\n",
       "      <td>0.005930</td>\n",
       "      <td>0.031616</td>\n",
       "      <td>0.830212</td>\n",
       "    </tr>\n",
       "    <tr>\n",
       "      <th>5</th>\n",
       "      <td>0.118417</td>\n",
       "      <td>0.061024</td>\n",
       "      <td>0.276427</td>\n",
       "      <td>0.095681</td>\n",
       "      <td>0.030849</td>\n",
       "      <td>0.199000</td>\n",
       "      <td>0.121484</td>\n",
       "      <td>0.051415</td>\n",
       "      <td>0.024273</td>\n",
       "      <td>0.038339</td>\n",
       "      <td>0.007310</td>\n",
       "      <td>0.017760</td>\n",
       "      <td>0.041978</td>\n",
       "      <td>0.724700</td>\n",
       "    </tr>\n",
       "    <tr>\n",
       "      <th>6</th>\n",
       "      <td>0.119196</td>\n",
       "      <td>0.061112</td>\n",
       "      <td>0.285578</td>\n",
       "      <td>0.087276</td>\n",
       "      <td>0.031432</td>\n",
       "      <td>0.196594</td>\n",
       "      <td>0.124267</td>\n",
       "      <td>0.058102</td>\n",
       "      <td>0.013485</td>\n",
       "      <td>0.037540</td>\n",
       "      <td>0.009905</td>\n",
       "      <td>0.016387</td>\n",
       "      <td>0.040875</td>\n",
       "      <td>0.684651</td>\n",
       "    </tr>\n",
       "    <tr>\n",
       "      <th>7</th>\n",
       "      <td>0.110053</td>\n",
       "      <td>0.060667</td>\n",
       "      <td>0.294570</td>\n",
       "      <td>0.087431</td>\n",
       "      <td>0.027800</td>\n",
       "      <td>0.213138</td>\n",
       "      <td>0.107668</td>\n",
       "      <td>0.062686</td>\n",
       "      <td>0.016390</td>\n",
       "      <td>0.047377</td>\n",
       "      <td>0.010468</td>\n",
       "      <td>0.011019</td>\n",
       "      <td>0.049267</td>\n",
       "      <td>0.617479</td>\n",
       "    </tr>\n",
       "    <tr>\n",
       "      <th>8</th>\n",
       "      <td>0.108940</td>\n",
       "      <td>0.067427</td>\n",
       "      <td>0.303507</td>\n",
       "      <td>0.086330</td>\n",
       "      <td>0.030795</td>\n",
       "      <td>0.201346</td>\n",
       "      <td>0.107760</td>\n",
       "      <td>0.064835</td>\n",
       "      <td>0.017993</td>\n",
       "      <td>0.046603</td>\n",
       "      <td>0.010369</td>\n",
       "      <td>0.014651</td>\n",
       "      <td>0.060556</td>\n",
       "      <td>0.555813</td>\n",
       "    </tr>\n",
       "    <tr>\n",
       "      <th>9</th>\n",
       "      <td>0.103386</td>\n",
       "      <td>0.071009</td>\n",
       "      <td>0.323910</td>\n",
       "      <td>0.081324</td>\n",
       "      <td>0.033482</td>\n",
       "      <td>0.191560</td>\n",
       "      <td>0.094151</td>\n",
       "      <td>0.065417</td>\n",
       "      <td>0.015678</td>\n",
       "      <td>0.048546</td>\n",
       "      <td>0.007194</td>\n",
       "      <td>0.025606</td>\n",
       "      <td>0.061264</td>\n",
       "      <td>0.508380</td>\n",
       "    </tr>\n",
       "    <tr>\n",
       "      <th>10</th>\n",
       "      <td>0.101594</td>\n",
       "      <td>0.067310</td>\n",
       "      <td>0.316553</td>\n",
       "      <td>0.073962</td>\n",
       "      <td>0.036928</td>\n",
       "      <td>0.187362</td>\n",
       "      <td>0.101721</td>\n",
       "      <td>0.062078</td>\n",
       "      <td>0.015957</td>\n",
       "      <td>0.029905</td>\n",
       "      <td>0.030348</td>\n",
       "      <td>0.035177</td>\n",
       "      <td>0.058896</td>\n",
       "      <td>0.472940</td>\n",
       "    </tr>\n",
       "    <tr>\n",
       "      <th>11</th>\n",
       "      <td>0.081551</td>\n",
       "      <td>0.066352</td>\n",
       "      <td>0.312264</td>\n",
       "      <td>0.062025</td>\n",
       "      <td>0.031950</td>\n",
       "      <td>0.193929</td>\n",
       "      <td>0.078332</td>\n",
       "      <td>0.060840</td>\n",
       "      <td>0.008516</td>\n",
       "      <td>0.077599</td>\n",
       "      <td>0.007337</td>\n",
       "      <td>0.084199</td>\n",
       "      <td>0.064894</td>\n",
       "      <td>0.442671</td>\n",
       "    </tr>\n",
       "    <tr>\n",
       "      <th>12</th>\n",
       "      <td>0.084668</td>\n",
       "      <td>0.065292</td>\n",
       "      <td>0.310995</td>\n",
       "      <td>0.065023</td>\n",
       "      <td>0.036132</td>\n",
       "      <td>0.181058</td>\n",
       "      <td>0.085909</td>\n",
       "      <td>0.093627</td>\n",
       "      <td>0.012095</td>\n",
       "      <td>0.061809</td>\n",
       "      <td>0.008669</td>\n",
       "      <td>0.050676</td>\n",
       "      <td>0.055955</td>\n",
       "      <td>0.381767</td>\n",
       "    </tr>\n",
       "    <tr>\n",
       "      <th>13</th>\n",
       "      <td>0.067134</td>\n",
       "      <td>0.067098</td>\n",
       "      <td>0.293190</td>\n",
       "      <td>0.049779</td>\n",
       "      <td>0.040170</td>\n",
       "      <td>0.207088</td>\n",
       "      <td>0.078176</td>\n",
       "      <td>0.070166</td>\n",
       "      <td>0.023579</td>\n",
       "      <td>0.091725</td>\n",
       "      <td>0.010061</td>\n",
       "      <td>0.041201</td>\n",
       "      <td>0.039368</td>\n",
       "      <td>0.391354</td>\n",
       "    </tr>\n",
       "  </tbody>\n",
       "</table>\n",
       "</div>"
      ],
      "text/plain": [
       "    iFoodAtHome  iFoodAway  iHousing  iUtilites  iClothingAndBeauty  \\\n",
       "0      0.137847   0.066968  0.276387   0.107229            0.027682   \n",
       "1      0.149448   0.061776  0.288698   0.121895            0.027753   \n",
       "2      0.147389   0.062105  0.250115   0.108444            0.024420   \n",
       "3      0.130992   0.064366  0.272763   0.094862            0.029684   \n",
       "4      0.126552   0.063132  0.268219   0.098135            0.026844   \n",
       "5      0.118417   0.061024  0.276427   0.095681            0.030849   \n",
       "6      0.119196   0.061112  0.285578   0.087276            0.031432   \n",
       "7      0.110053   0.060667  0.294570   0.087431            0.027800   \n",
       "8      0.108940   0.067427  0.303507   0.086330            0.030795   \n",
       "9      0.103386   0.071009  0.323910   0.081324            0.033482   \n",
       "10     0.101594   0.067310  0.316553   0.073962            0.036928   \n",
       "11     0.081551   0.066352  0.312264   0.062025            0.031950   \n",
       "12     0.084668   0.065292  0.310995   0.065023            0.036132   \n",
       "13     0.067134   0.067098  0.293190   0.049779            0.040170   \n",
       "\n",
       "    iTransportation  iHealthcare  iEntertainment  iMiscellaneous  \\\n",
       "0          0.177297     0.101695        0.050737        0.023554   \n",
       "1          0.159725     0.095006        0.051949        0.018098   \n",
       "2          0.192547     0.112425        0.060529        0.027801   \n",
       "3          0.178178     0.111230        0.063574        0.027958   \n",
       "4          0.213726     0.107388        0.058568        0.017890   \n",
       "5          0.199000     0.121484        0.051415        0.024273   \n",
       "6          0.196594     0.124267        0.058102        0.013485   \n",
       "7          0.213138     0.107668        0.062686        0.016390   \n",
       "8          0.201346     0.107760        0.064835        0.017993   \n",
       "9          0.191560     0.094151        0.065417        0.015678   \n",
       "10         0.187362     0.101721        0.062078        0.015957   \n",
       "11         0.193929     0.078332        0.060840        0.008516   \n",
       "12         0.181058     0.085909        0.093627        0.012095   \n",
       "13         0.207088     0.078176        0.070166        0.023579   \n",
       "\n",
       "    iCharitableAndFamilyGiving  iInsurance  iEducation  iHousingPrinciple  \\\n",
       "0                     0.049145    0.002444    0.001209           0.022194   \n",
       "1                     0.034124    0.004610    0.012133           0.025215   \n",
       "2                     0.026050    0.004490    0.005545           0.021861   \n",
       "3                     0.044266    0.006088    0.002776           0.026737   \n",
       "4                     0.038960    0.006274    0.005930           0.031616   \n",
       "5                     0.038339    0.007310    0.017760           0.041978   \n",
       "6                     0.037540    0.009905    0.016387           0.040875   \n",
       "7                     0.047377    0.010468    0.011019           0.049267   \n",
       "8                     0.046603    0.010369    0.014651           0.060556   \n",
       "9                     0.048546    0.007194    0.025606           0.061264   \n",
       "10                    0.029905    0.030348    0.035177           0.058896   \n",
       "11                    0.077599    0.007337    0.084199           0.064894   \n",
       "12                    0.061809    0.008669    0.050676           0.055955   \n",
       "13                    0.091725    0.010061    0.041201           0.039368   \n",
       "\n",
       "      ExpInc  \n",
       "0   1.000000  \n",
       "1   1.000000  \n",
       "2   1.000000  \n",
       "3   0.990767  \n",
       "4   0.830212  \n",
       "5   0.724700  \n",
       "6   0.684651  \n",
       "7   0.617479  \n",
       "8   0.555813  \n",
       "9   0.508380  \n",
       "10  0.472940  \n",
       "11  0.442671  \n",
       "12  0.381767  \n",
       "13  0.391354  "
      ]
     },
     "execution_count": 20,
     "metadata": {},
     "output_type": "execute_result"
    }
   ],
   "source": [
    "# creating percentage outputs for cleaned dataframe\n",
    "inclassCleanAverages2 = round(clean2.ix[: ,clean2.columns != 'NEWID'].groupby(['INCLASS'],as_index=False).mean(),2)\n",
    "# creating new dataframe for the percentages that only includes the plynty categories\n",
    "cleanPercentages2 = inclassCleanAverages2.loc[:,rollupNames[1:]]\n",
    "for column in rollupNames[1:]:\n",
    "    cleanPercentages2[column] = inclassCleanAverages2[column]/inclassCleanAverages2.iTotalExp\n",
    "cleanPercentages2['ExpInc'] = inclassCleanAverages2['iTotalExp']/inclassCleanAverages2['FINCBTXM']\n",
    "# truncate the max ExpInc\n",
    "cleanPercentages2nonTruncated = cleanPercentages2.copy()\n",
    "cleanPercentages2.ExpInc.ix[cleanPercentages2['ExpInc']>1] = 1\n",
    "cleanPercentages2"
   ]
  },
  {
   "cell_type": "code",
   "execution_count": 21,
   "metadata": {
    "collapsed": false
   },
   "outputs": [
    {
     "data": {
      "text/plain": [
       "<matplotlib.text.Text at 0x114e4e828>"
      ]
     },
     "execution_count": 21,
     "metadata": {},
     "output_type": "execute_result"
    }
   ],
   "source": [
    "plt.bar(cleanPercentages1.index, cleanPercentages1.ExpInc, color = 'b')\n",
    "plt.title(\"Percent of Income Expended per Income Class\")\n",
    "plt.xlabel(\"Income Class\")\n",
    "plt.ylabel(\"Percentage\")\n",
    "# plt.show()"
   ]
  },
  {
   "cell_type": "code",
   "execution_count": 22,
   "metadata": {
    "collapsed": false
   },
   "outputs": [
    {
     "data": {
      "text/plain": [
       "<matplotlib.text.Text at 0x114e4e828>"
      ]
     },
     "execution_count": 22,
     "metadata": {},
     "output_type": "execute_result"
    }
   ],
   "source": [
    "plt.bar(cleanPercentages1.index, cleanPercentages1.iHousing, color = 'b')\n",
    "plt.ylim(0,.4)\n",
    "plt.title(\"Percent spent on Housing per Income Class (without outliers)\")\n",
    "plt.xlabel(\"Income class\")\n",
    "plt.ylabel(\"Percent spent on housing\")\n",
    "# plt.show()"
   ]
  },
  {
   "cell_type": "markdown",
   "metadata": {},
   "source": [
    "### Cell that determines how similar the neighbor rows are\n",
    "Potentially use this to combine similar rows.\n",
    "Can't figure out the correct statistical test to determine if rows are statistically similar\n",
    "\n",
    "###### The higher the difference value the more different the rows are. (low values mean similar rows)"
   ]
  },
  {
   "cell_type": "code",
   "execution_count": 23,
   "metadata": {
    "collapsed": false
   },
   "outputs": [
    {
     "name": "stdout",
     "output_type": "stream",
     "text": [
      "Income Bracket Range 1: $-inf - $11000\n",
      "Income Bracket Range 2: $11000 - $20000\n",
      "Number of CUs in Income Bracket 1: 498\n",
      "Number of CUs in Income Bracket 2: 448\n",
      "Rows in Percentage Dataframe: Row 0 and Row 1\n",
      "Column: iClothingAndBeauty\n",
      "Column: iEntertainment\n",
      "Column: iInsurance\n",
      "Column: iHousingPrinciple\n",
      "Column: ExpInc\n",
      "The difference value is: 13.86\n",
      "\n",
      "Income Bracket Range 1: $11000 - $20000\n",
      "Income Bracket Range 2: $20000 - $30000\n",
      "Number of CUs in Income Bracket 1: 448\n",
      "Number of CUs in Income Bracket 2: 436\n",
      "Rows in Percentage Dataframe: Row 1 and Row 2\n",
      "Column: iFoodAtHome\n",
      "Column: iFoodAway\n",
      "Column: iClothingAndBeauty\n",
      "Column: iInsurance\n",
      "Column: iHousingPrinciple\n",
      "Column: ExpInc\n",
      "The difference value is: 19.1\n",
      "\n",
      "Income Bracket Range 1: $20000 - $30000\n",
      "Income Bracket Range 2: $30000 - $43000\n",
      "Number of CUs in Income Bracket 1: 436\n",
      "Number of CUs in Income Bracket 2: 419\n",
      "Rows in Percentage Dataframe: Row 2 and Row 3\n",
      "Column: iFoodAway\n",
      "Column: iHealthcare\n",
      "Column: iEntertainment\n",
      "Column: iMiscellaneous\n",
      "Column: iInsurance\n",
      "Column: iEducation\n",
      "Column: iHousingPrinciple\n",
      "The difference value is: 15.23\n",
      "\n",
      "Income Bracket Range 1: $30000 - $43000\n",
      "Income Bracket Range 2: $43000 - $55000\n",
      "Number of CUs in Income Bracket 1: 419\n",
      "Number of CUs in Income Bracket 2: 392\n",
      "Rows in Percentage Dataframe: Row 3 and Row 4\n",
      "Column: iFoodAtHome\n",
      "Column: iFoodAway\n",
      "Column: iHousing\n",
      "Column: iUtilites\n",
      "Column: iClothingAndBeauty\n",
      "Column: iHealthcare\n",
      "Column: iInsurance\n",
      "Column: iEducation\n",
      "Column: iHousingPrinciple\n",
      "The difference value is: 27.62\n",
      "\n",
      "Income Bracket Range 1: $43000 - $55000\n",
      "Income Bracket Range 2: $55000 - $69000\n",
      "Number of CUs in Income Bracket 1: 392\n",
      "Number of CUs in Income Bracket 2: 346\n",
      "Rows in Percentage Dataframe: Row 4 and Row 5\n",
      "Column: iFoodAway\n",
      "Column: iUtilites\n",
      "Column: iClothingAndBeauty\n",
      "Column: iCharitableAndFamilyGiving\n",
      "Column: iInsurance\n",
      "The difference value is: 22.62\n",
      "\n",
      "Income Bracket Range 1: $55000 - $69000\n",
      "Income Bracket Range 2: $69000 - $80000\n",
      "Number of CUs in Income Bracket 1: 346\n",
      "Number of CUs in Income Bracket 2: 314\n",
      "Rows in Percentage Dataframe: Row 5 and Row 6\n",
      "Column: iFoodAtHome\n",
      "Column: iFoodAway\n",
      "Column: iClothingAndBeauty\n",
      "Column: iTransportation\n",
      "Column: iHealthcare\n",
      "Column: iCharitableAndFamilyGiving\n",
      "Column: iInsurance\n",
      "Column: iEducation\n",
      "Column: iHousingPrinciple\n",
      "The difference value is: 10.41\n",
      "\n",
      "Income Bracket Range 1: $69000 - $80000\n",
      "Income Bracket Range 2: $80000 - $100000\n",
      "Number of CUs in Income Bracket 1: 314\n",
      "Number of CUs in Income Bracket 2: 304\n",
      "Rows in Percentage Dataframe: Row 6 and Row 7\n",
      "Column: iFoodAway\n",
      "Column: iUtilites\n",
      "Column: iClothingAndBeauty\n",
      "Column: iEntertainment\n",
      "Column: iMiscellaneous\n",
      "Column: iInsurance\n",
      "The difference value is: 18.13\n",
      "\n",
      "Income Bracket Range 1: $80000 - $100000\n",
      "Income Bracket Range 2: $100000 - $120000\n",
      "Number of CUs in Income Bracket 1: 304\n",
      "Number of CUs in Income Bracket 2: 300\n",
      "Rows in Percentage Dataframe: Row 7 and Row 8\n",
      "Column: iFoodAtHome\n",
      "Column: iUtilites\n",
      "Column: iClothingAndBeauty\n",
      "Column: iHealthcare\n",
      "Column: iEntertainment\n",
      "Column: iMiscellaneous\n",
      "Column: iCharitableAndFamilyGiving\n",
      "Column: iInsurance\n",
      "Column: iEducation\n",
      "The difference value is: 13.2\n",
      "\n",
      "Income Bracket Range 1: $100000 - $120000\n",
      "Income Bracket Range 2: $120000 - $150000\n",
      "Number of CUs in Income Bracket 1: 300\n",
      "Number of CUs in Income Bracket 2: 285\n",
      "Rows in Percentage Dataframe: Row 8 and Row 9\n",
      "Column: iFoodAway\n",
      "Column: iClothingAndBeauty\n",
      "Column: iEntertainment\n",
      "Column: iMiscellaneous\n",
      "Column: iCharitableAndFamilyGiving\n",
      "Column: iInsurance\n",
      "Column: iHousingPrinciple\n",
      "The difference value is: 15.61\n",
      "\n",
      "Income Bracket Range 1: $120000 - $150000\n",
      "Income Bracket Range 2: $150000 - $200000\n",
      "Number of CUs in Income Bracket 1: 285\n",
      "Number of CUs in Income Bracket 2: 256\n",
      "Rows in Percentage Dataframe: Row 9 and Row 10\n",
      "Column: iFoodAtHome\n",
      "Column: iFoodAway\n",
      "Column: iClothingAndBeauty\n",
      "Column: iTransportation\n",
      "Column: iEntertainment\n",
      "Column: iMiscellaneous\n",
      "Column: iHousingPrinciple\n",
      "The difference value is: 15.21\n",
      "\n",
      "Income Bracket Range 1: $150000 - $200000\n",
      "Income Bracket Range 2: $200000 - $250000\n",
      "Number of CUs in Income Bracket 1: 256\n",
      "Number of CUs in Income Bracket 2: 204\n",
      "Rows in Percentage Dataframe: Row 10 and Row 11\n",
      "Column: iFoodAway\n",
      "Column: iHousing\n",
      "Column: iClothingAndBeauty\n",
      "Column: iEntertainment\n",
      "The difference value is: 28.45\n",
      "\n",
      "Income Bracket Range 1: $200000 - $250000\n",
      "Income Bracket Range 2: $250000 - $300000\n",
      "Number of CUs in Income Bracket 1: 204\n",
      "Number of CUs in Income Bracket 2: 124\n",
      "Rows in Percentage Dataframe: Row 11 and Row 12\n",
      "Column: iFoodAtHome\n",
      "Column: iFoodAway\n",
      "Column: iHousing\n",
      "Column: iUtilites\n",
      "Column: iClothingAndBeauty\n",
      "Column: iMiscellaneous\n",
      "Column: iInsurance\n",
      "The difference value is: 21.97\n",
      "\n",
      "Income Bracket Range 1: $250000 - $300000\n",
      "Income Bracket Range 2: $300000 - $inf\n",
      "Number of CUs in Income Bracket 1: 124\n",
      "Number of CUs in Income Bracket 2: 87\n",
      "Rows in Percentage Dataframe: Row 12 and Row 13\n",
      "Column: iFoodAway\n",
      "Column: iClothingAndBeauty\n",
      "Column: iInsurance\n",
      "The difference value is: 24.27\n",
      "\n"
     ]
    }
   ],
   "source": [
    "significance = 0.005\n",
    "for row in range(len(cleanPercentages2)-1):\n",
    "    print(\"Income Bracket Range 1: $\"+str(incomeBrackets[row])+\" - \"+\"$\"+str(incomeBrackets[row+1]))\n",
    "    print(\"Income Bracket Range 2: $\"+str(incomeBrackets[row+1])+\" - \"+\"$\"+str(incomeBrackets[row+2]))\n",
    "    print(\"Number of CUs in Income Bracket 1: \"+str(inclassExpenses.INCLASS.value_counts().values[row]))\n",
    "    print(\"Number of CUs in Income Bracket 2: \"+str(inclassExpenses.INCLASS.value_counts().values[row+1]))\n",
    "    print(\"Rows in Percentage Dataframe: Row \"+str(row)+\" and Row \"+str(row+1))\n",
    "    difference = 0\n",
    "    for column in range(len(cleanPercentages2.columns)):\n",
    "        difference += (cleanPercentages2.loc[column].mean() * abs(cleanPercentages2.ix[row,column] - cleanPercentages2.ix[row+1,column]))\n",
    "        if abs(cleanPercentages2.ix[row,column] - cleanPercentages2.ix[row+1,column]) < significance:\n",
    "            print(\"Column: \"+str(cleanPercentages2.columns[column]))\n",
    "    print(\"The difference value is: \"+str(round(difference*1000,2)))\n",
    "    print()"
   ]
  },
  {
   "cell_type": "markdown",
   "metadata": {},
   "source": [
    "# Plots"
   ]
  },
  {
   "cell_type": "code",
   "execution_count": 24,
   "metadata": {
    "collapsed": false,
    "scrolled": true
   },
   "outputs": [
    {
     "name": "stdout",
     "output_type": "stream",
     "text": [
      "[498 448 436 419 392 346 314 304 300 285 256 204 124  87]\n"
     ]
    },
    {
     "data": {
      "text/plain": [
       "<matplotlib.text.Text at 0x114e4e828>"
      ]
     },
     "execution_count": 24,
     "metadata": {},
     "output_type": "execute_result"
    }
   ],
   "source": [
    "# ploting the number of people in each bracket\n",
    "print(inclassExpenses.INCLASS.value_counts().values)\n",
    "plt.bar(list(inclassExpenses.INCLASS.value_counts().index.tolist()), inclassExpenses.INCLASS.value_counts().values, align='center', color = \"r\")\n",
    "plt.title(\"Number of CUs in Income classes (with outliers)\")\n",
    "plt.xlabel(\"Income Class\")\n",
    "plt.ylabel(\"Count\")\n",
    "# plt.show()"
   ]
  },
  {
   "cell_type": "code",
   "execution_count": 25,
   "metadata": {
    "collapsed": false
   },
   "outputs": [
    {
     "data": {
      "text/plain": [
       "<matplotlib.text.Text at 0x114e4e828>"
      ]
     },
     "execution_count": 25,
     "metadata": {},
     "output_type": "execute_result"
    }
   ],
   "source": [
    "# creating the plot of percent of income expended per income class\n",
    "plt.bar(percentages.index, percentages.ExpInc, color = 'r')\n",
    "plt.title(\"Percent of Income Expended per Income Class (with outliers)\")\n",
    "plt.xlabel(\"Income Class\")\n",
    "plt.ylabel(\"Percentage\")\n",
    "# plt.show()"
   ]
  },
  {
   "cell_type": "code",
   "execution_count": 26,
   "metadata": {
    "collapsed": false,
    "scrolled": true
   },
   "outputs": [
    {
     "data": {
      "text/plain": [
       "<matplotlib.text.Text at 0x114e4e828>"
      ]
     },
     "execution_count": 26,
     "metadata": {},
     "output_type": "execute_result"
    }
   ],
   "source": [
    "# creating plot of Percent spent on Housing per income class\n",
    "plt.bar(percentages.index, percentages.iHousing, color = 'r')\n",
    "plt.ylim(0,.4)\n",
    "plt.title(\"Percent spent on Housing per Income Class (with outliers)\")\n",
    "plt.xlabel(\"Income class\")\n",
    "plt.ylabel(\"Percent spent on housing\")\n",
    "# plt.show()"
   ]
  },
  {
   "cell_type": "code",
   "execution_count": 27,
   "metadata": {
    "collapsed": false,
    "scrolled": false
   },
   "outputs": [
    {
     "data": {
      "text/plain": [
       "<matplotlib.text.Text at 0x114e4e828>"
      ]
     },
     "execution_count": 27,
     "metadata": {},
     "output_type": "execute_result"
    }
   ],
   "source": [
    "inclassSD = inclassExpenses.groupby(['INCLASS'],as_index=False).std()\n",
    "inclassSD.iHousing\n",
    "plt.bar(inclassSD.iHousing.index, inclassSD.iHousing, color = 'r')\n",
    "plt.title(\"Standard deviations in Income Classes (with outliers)\")\n",
    "plt.ylim(0,60000)\n",
    "plt.xlabel(\"Income Class\")\n",
    "plt.ylabel(\"Standard Deviation\")\n",
    "# plt.show()"
   ]
  },
  {
   "cell_type": "code",
   "execution_count": 28,
   "metadata": {
    "collapsed": false
   },
   "outputs": [
    {
     "name": "stdout",
     "output_type": "stream",
     "text": [
      "[482 425 414 406 368 336 293 292 291 265 244 197 119  84]\n"
     ]
    },
    {
     "data": {
      "text/plain": [
       "<matplotlib.text.Text at 0x114e4e828>"
      ]
     },
     "execution_count": 28,
     "metadata": {},
     "output_type": "execute_result"
    }
   ],
   "source": [
    "# ploting the number of people in each bracket\n",
    "print(clean1.INCLASS.value_counts().values)\n",
    "plt.bar(list(clean1.INCLASS.value_counts().index.tolist()), clean1.INCLASS.value_counts().values, align='center', color=\"g\")\n",
    "plt.title(\"Number of CUs in Income classes (outer fence)\")\n",
    "plt.xlabel(\"Income Class\")\n",
    "plt.ylabel(\"Count\")\n",
    "# plt.show()"
   ]
  },
  {
   "cell_type": "code",
   "execution_count": 29,
   "metadata": {
    "collapsed": false,
    "scrolled": true
   },
   "outputs": [
    {
     "data": {
      "text/plain": [
       "<matplotlib.text.Text at 0x114e4e828>"
      ]
     },
     "execution_count": 29,
     "metadata": {},
     "output_type": "execute_result"
    }
   ],
   "source": [
    "inclassClean1SD = clean1.groupby(['INCLASS'],as_index=False).std()\n",
    "inclassClean1SD.iHousing\n",
    "plt.bar(inclassClean1SD.iHousing.index, inclassClean1SD.iHousing,color = 'g')\n",
    "plt.ylim(0,60000)\n",
    "plt.title(\"Standard deviations in Income Classes (inner fence)\")\n",
    "plt.xlabel(\"Income Class\")\n",
    "plt.ylabel(\"Standard Deviation\")\n",
    "# plt.show()"
   ]
  },
  {
   "cell_type": "code",
   "execution_count": 30,
   "metadata": {
    "collapsed": false,
    "scrolled": true
   },
   "outputs": [
    {
     "name": "stdout",
     "output_type": "stream",
     "text": [
      "[492 442 432 417 382 342 306 298 297 279 255 202 123  86]\n"
     ]
    },
    {
     "data": {
      "text/plain": [
       "<matplotlib.text.Text at 0x114e4e828>"
      ]
     },
     "execution_count": 30,
     "metadata": {},
     "output_type": "execute_result"
    }
   ],
   "source": [
    "# ploting the number of people in each bracket\n",
    "print(clean2.INCLASS.value_counts().values)\n",
    "plt.bar(list(clean2.INCLASS.value_counts().index.tolist()), clean2.INCLASS.value_counts().values, align='center', color=\"b\")\n",
    "plt.title(\"Number of CUs in Income classes (outer fence)\")\n",
    "plt.xlabel(\"Income Class\")\n",
    "plt.ylabel(\"Count\")\n",
    "# plt.show()"
   ]
  },
  {
   "cell_type": "code",
   "execution_count": 31,
   "metadata": {
    "collapsed": false
   },
   "outputs": [
    {
     "data": {
      "text/plain": [
       "<matplotlib.text.Text at 0x114e4e828>"
      ]
     },
     "execution_count": 31,
     "metadata": {},
     "output_type": "execute_result"
    }
   ],
   "source": [
    "inclassClean2SD = clean2.groupby(['INCLASS'],as_index=False).std()\n",
    "inclassClean2SD.iHousing\n",
    "plt.bar(inclassClean2SD.iHousing.index, inclassClean2SD.iHousing,color = 'b')\n",
    "plt.ylim(0,60000)\n",
    "plt.title(\"Standard deviations in Income Classes (outer fence)\")\n",
    "plt.xlabel(\"Income Class\")\n",
    "plt.ylabel(\"Standard Deviation\")\n",
    "# plt.show()"
   ]
  },
  {
   "cell_type": "code",
   "execution_count": 32,
   "metadata": {
    "collapsed": false
   },
   "outputs": [
    {
     "name": "stdout",
     "output_type": "stream",
     "text": [
      "The average percent change between with and without outliers: 1407.14%\n"
     ]
    },
    {
     "data": {
      "image/png": "[encoded data removed]",
      "text/plain": [
       "<matplotlib.figure.Figure at 0x1050dda20>"
      ]
     },
     "metadata": {},
     "output_type": "display_data"
    }
   ],
   "source": [
    "plt.close()\n",
    "n_groups = 4\n",
    "values1 = inclassExpenses.INCLASS.value_counts().values\n",
    "values2 = clean1.INCLASS.value_counts().values\n",
    "values3 = clean2.INCLASS.value_counts().values\n",
    "\n",
    "print(\"The average percent change between with and without outliers: \"+str(round((values1-values2).mean()*100,2))+\"%\")\n",
    "\n",
    "fig, ax = plt.subplots()\n",
    "index = np.arange(n_groups)\n",
    "bar_width = 0.25\n",
    "opacity = 1\n",
    " \n",
    "rects1 = plt.bar(inclassExpenses.INCLASS.value_counts().index -1, values1, bar_width,\n",
    "                 alpha=opacity,\n",
    "                 color='r',\n",
    "                 label='With')\n",
    " \n",
    "rects2 = plt.bar(clean1.INCLASS.value_counts().index -1 + bar_width, values2, bar_width,\n",
    "                 alpha=opacity,\n",
    "                 color='g',\n",
    "                 label='Inner')\n",
    "\n",
    "rects3 = plt.bar(clean2.INCLASS.value_counts().index - 1 + bar_width*2, values3, bar_width,\n",
    "                 alpha=opacity,\n",
    "                 color='b',\n",
    "                 label='Outer')\n",
    "\n",
    "plt.xlabel('Income Class')\n",
    "plt.ylabel('Number of CUs')\n",
    "plt.title('Number of CUs per Income Class')\n",
    "plt.legend()\n",
    "plt.show()"
   ]
  },
  {
   "cell_type": "code",
   "execution_count": 33,
   "metadata": {
    "collapsed": false,
    "scrolled": false
   },
   "outputs": [
    {
     "name": "stdout",
     "output_type": "stream",
     "text": [
      "The average percent change between with and without outliers: 2.59%\n"
     ]
    },
    {
     "data": {
      "image/png": "[encoded data removed]",
      "text/plain": [
       "<matplotlib.figure.Figure at 0x1119f17b8>"
      ]
     },
     "metadata": {},
     "output_type": "display_data"
    }
   ],
   "source": [
    "n_groups = 4\n",
    "values1 = percentages.iHousing\n",
    "values2 = cleanPercentages1.iHousing\n",
    "values3 = cleanPercentages2.iHousing\n",
    "\n",
    "print(\"The average percent change between with and without outliers: \"+str(round((values1-values2).mean()*100,2))+\"%\")\n",
    "\n",
    "fig, ax = plt.subplots()\n",
    "index = np.arange(n_groups)\n",
    "bar_width = 0.25\n",
    "opacity = 1\n",
    " \n",
    "rects1 = plt.bar(percentages.index, values1, bar_width,\n",
    "                 alpha=opacity,\n",
    "                 color='r',\n",
    "                 label='With')\n",
    " \n",
    "rects2 = plt.bar(cleanPercentages1.index + bar_width, values2, bar_width,\n",
    "                 alpha=opacity,\n",
    "                 color='g',\n",
    "                 label='Inner')\n",
    "\n",
    "rects3 = plt.bar(cleanPercentages2.index + bar_width*2, values3, bar_width,\n",
    "                 alpha=opacity,\n",
    "                 color='b',\n",
    "                 label='Outer')\n",
    "\n",
    "plt.xlabel('Income Class')\n",
    "plt.ylabel('Percent of income')\n",
    "plt.title('Percent Spent on Housing per Income Class')\n",
    "plt.ylim(0,.4)\n",
    "plt.legend()\n",
    "plt.show()"
   ]
  },
  {
   "cell_type": "code",
   "execution_count": 34,
   "metadata": {
    "collapsed": false
   },
   "outputs": [
    {
     "data": {
      "image/png": "[encoded data removed]",
      "text/plain": [
       "<matplotlib.figure.Figure at 0x112ebff60>"
      ]
     },
     "metadata": {},
     "output_type": "display_data"
    }
   ],
   "source": [
    "n_groups = 4\n",
    "values1 = inclassSD.iHousing\n",
    "values2 = inclassClean1SD.iHousing\n",
    "values3 = inclassClean2SD.iHousing\n",
    "\n",
    "fig, ax = plt.subplots()\n",
    "index = np.arange(n_groups)\n",
    "bar_width = 0.25\n",
    "opacity = 1\n",
    " \n",
    "rects1 = plt.bar(percentages.index, values1, bar_width,\n",
    "                 alpha=opacity,\n",
    "                 color='r',\n",
    "                 label='With')\n",
    " \n",
    "rects2 = plt.bar(cleanPercentages1.index + bar_width, values2, bar_width,\n",
    "                 alpha=opacity,\n",
    "                 color='g',\n",
    "                 label='Inner')\n",
    "\n",
    "rects3 = plt.bar(cleanPercentages2.index + bar_width*2, values3, bar_width,\n",
    "                 alpha=opacity,\n",
    "                 color='b',\n",
    "                 label='Outer')\n",
    "\n",
    "plt.xlabel('Income Class')\n",
    "plt.ylabel('Standard Deviation (Dollars)')\n",
    "plt.title('Standard Deviation of money spent on Housing per Income Class')\n",
    "plt.legend()\n",
    "plt.show()"
   ]
  },
  {
   "cell_type": "code",
   "execution_count": 35,
   "metadata": {
    "collapsed": false,
    "scrolled": true
   },
   "outputs": [
    {
     "data": {
      "image/png": "[encoded data removed]",
      "text/plain": [
       "<matplotlib.figure.Figure at 0x113002780>"
      ]
     },
     "metadata": {},
     "output_type": "display_data"
    }
   ],
   "source": [
    "n_groups = 3\n",
    "values1 = percentages.ExpInc\n",
    "values2 = cleanPercentages1.ExpInc\n",
    "values3 = cleanPercentages2.ExpInc\n",
    "\n",
    "fig, ax = plt.subplots()\n",
    "index = np.arange(n_groups)\n",
    "bar_width = 0.25\n",
    "opacity = 1\n",
    " \n",
    "rects1 = plt.bar(percentages.index, values1, bar_width,\n",
    "                 alpha=opacity,\n",
    "                 color='r',\n",
    "                 label='With')\n",
    " \n",
    "rects2 = plt.bar(cleanPercentages1.index + bar_width, values2, bar_width,\n",
    "                 alpha=opacity,\n",
    "                 color='g',\n",
    "                 label='Outer Fence')\n",
    "\n",
    "rects3 = plt.bar(cleanPercentages2.index + bar_width*2, values3, bar_width,\n",
    "                 alpha=opacity,\n",
    "                 color='b',\n",
    "                 label='Inner Fence')\n",
    " \n",
    "plt.xlabel('Income Class')\n",
    "plt.ylabel('Percent of Income Expended')\n",
    "plt.title('Percent of Income Expent per Income Class')\n",
    "plt.legend()\n",
    "plt.show()"
   ]
  },
  {
   "cell_type": "markdown",
   "metadata": {},
   "source": [
    "# Least squares polynomial fit\n",
    "any value that would cause a person to expend over 100% of their income is truncated to 100%"
   ]
  },
  {
   "cell_type": "code",
   "execution_count": 36,
   "metadata": {
    "slideshow": "-"
   },
   "outputs": [
    {
     "data": {
      "image/png": "[encoded data removed]",
      "text/plain": [
       "<matplotlib.figure.Figure at 0x112e50908>"
      ]
     },
     "metadata": {},
     "output_type": "display_data"
    },
    {
     "data": {
      "text/plain": [
       "0.45236436369460559"
      ]
     },
     "execution_count": 36,
     "metadata": {},
     "output_type": "execute_result"
    }
   ],
   "source": [
    "# cleanPercentages2.ExpInc[3:]\n",
    "cleanReg = clean2[[\"FINCBTXM\",\"iTotalExp\"]]\n",
    "cleanReg = cleanReg.loc[clean2.FINCBTXM > 0]\n",
    "cleanReg = cleanReg.loc[cleanReg.iTotalExp > 0]\n",
    "cleanReg\n",
    "def getExpendPercent(income):\n",
    "    if income <= 0:\n",
    "        return(1)\n",
    "    coefficients = np.polyfit(cleanReg.FINCBTXM, cleanReg.iTotalExp, deg = 3)\n",
    "    p = np.poly1d(coefficients)\n",
    "    np.seterr(divide='ignore')\n",
    "    percent = p(income)/income\n",
    "    if percent > 1:\n",
    "        percent = 1\n",
    "    return(percent)\n",
    "\n",
    "x = range(0,360000,1000)\n",
    "y =[]\n",
    "for bracket in range(0,360000,1000):\n",
    "    y.append(getExpendPercent(bracket))\n",
    "# plt.plot(inclassCleanAverages2.FINCBTXM,cleanPercentages2.ExpInc)\n",
    "plt.plot(x,y, color = \"r\")\n",
    "plt.title(\"Percent of Income Expended Regression\")\n",
    "plt.xlabel(\"Income Before Taxes\")\n",
    "plt.ylabel(\"Percent of Income Expended\")\n",
    "plt.xlim(0,350000)\n",
    "plt.ylim(0,1.2)\n",
    "plt.show()"
   ]
  },
  {
   "cell_type": "markdown",
   "metadata": {},
   "source": [
    "# Examples of Users"
   ]
  },
  {
   "cell_type": "code",
   "execution_count": 70,
   "metadata": {},
   "outputs": [
    {
     "data": {
      "text/html": [
       "<div>\n",
       "<table border=\"1\" class=\"dataframe\">\n",
       "  <thead>\n",
       "    <tr style=\"text-align: right;\">\n",
       "      <th></th>\n",
       "      <th>iFoodAtHome</th>\n",
       "      <th>iFoodAway</th>\n",
       "      <th>iHousing</th>\n",
       "      <th>iUtilites</th>\n",
       "      <th>iClothingAndBeauty</th>\n",
       "      <th>iTransportation</th>\n",
       "      <th>iHealthcare</th>\n",
       "      <th>iEntertainment</th>\n",
       "      <th>iMiscellaneous</th>\n",
       "      <th>iCharitableAndFamilyGiving</th>\n",
       "      <th>iInsurance</th>\n",
       "      <th>iEducation</th>\n",
       "      <th>iHousingPrinciple</th>\n",
       "      <th>ExpInc</th>\n",
       "    </tr>\n",
       "  </thead>\n",
       "  <tbody>\n",
       "    <tr>\n",
       "      <th>30000</th>\n",
       "      <td>368.472</td>\n",
       "      <td>155.263</td>\n",
       "      <td>625.286</td>\n",
       "      <td>271.11</td>\n",
       "      <td>61.0504</td>\n",
       "      <td>481.367</td>\n",
       "      <td>281.064</td>\n",
       "      <td>151.323</td>\n",
       "      <td>69.5026</td>\n",
       "      <td>65.1252</td>\n",
       "      <td>11.2247</td>\n",
       "      <td>13.8623</td>\n",
       "      <td>54.6516</td>\n",
       "      <td>2500</td>\n",
       "    </tr>\n",
       "    <tr>\n",
       "      <th>60000</th>\n",
       "      <td>435.366</td>\n",
       "      <td>224.357</td>\n",
       "      <td>1016.3</td>\n",
       "      <td>351.776</td>\n",
       "      <td>113.419</td>\n",
       "      <td>731.636</td>\n",
       "      <td>446.642</td>\n",
       "      <td>189.031</td>\n",
       "      <td>89.2411</td>\n",
       "      <td>140.954</td>\n",
       "      <td>26.8773</td>\n",
       "      <td>65.2973</td>\n",
       "      <td>154.335</td>\n",
       "      <td>2664.4</td>\n",
       "    </tr>\n",
       "    <tr>\n",
       "      <th>90000</th>\n",
       "      <td>498.53</td>\n",
       "      <td>274.817</td>\n",
       "      <td>1334.38</td>\n",
       "      <td>396.053</td>\n",
       "      <td>125.933</td>\n",
       "      <td>965.497</td>\n",
       "      <td>487.727</td>\n",
       "      <td>283.962</td>\n",
       "      <td>74.2435</td>\n",
       "      <td>214.612</td>\n",
       "      <td>47.419</td>\n",
       "      <td>49.9139</td>\n",
       "      <td>223.177</td>\n",
       "      <td>2797.12</td>\n",
       "    </tr>\n",
       "    <tr>\n",
       "      <th>120000</th>\n",
       "      <td>585.186</td>\n",
       "      <td>362.193</td>\n",
       "      <td>1630.33</td>\n",
       "      <td>463.735</td>\n",
       "      <td>165.418</td>\n",
       "      <td>1081.56</td>\n",
       "      <td>578.847</td>\n",
       "      <td>348.269</td>\n",
       "      <td>96.6542</td>\n",
       "      <td>250.337</td>\n",
       "      <td>55.6988</td>\n",
       "      <td>78.7017</td>\n",
       "      <td>325.287</td>\n",
       "      <td>2985.62</td>\n",
       "    </tr>\n",
       "    <tr>\n",
       "      <th>250000</th>\n",
       "      <td>719.322</td>\n",
       "      <td>585.263</td>\n",
       "      <td>2754.34</td>\n",
       "      <td>547.098</td>\n",
       "      <td>281.815</td>\n",
       "      <td>1710.56</td>\n",
       "      <td>690.933</td>\n",
       "      <td>536.642</td>\n",
       "      <td>75.1189</td>\n",
       "      <td>684.467</td>\n",
       "      <td>64.7164</td>\n",
       "      <td>742.678</td>\n",
       "      <td>572.4</td>\n",
       "      <td>3904.6</td>\n",
       "    </tr>\n",
       "  </tbody>\n",
       "</table>\n",
       "</div>"
      ],
      "text/plain": [
       "       iFoodAtHome iFoodAway iHousing iUtilites iClothingAndBeauty  \\\n",
       "30000      368.472   155.263  625.286    271.11            61.0504   \n",
       "60000      435.366   224.357   1016.3   351.776            113.419   \n",
       "90000       498.53   274.817  1334.38   396.053            125.933   \n",
       "120000     585.186   362.193  1630.33   463.735            165.418   \n",
       "250000     719.322   585.263  2754.34   547.098            281.815   \n",
       "\n",
       "       iTransportation iHealthcare iEntertainment iMiscellaneous  \\\n",
       "30000          481.367     281.064        151.323        69.5026   \n",
       "60000          731.636     446.642        189.031        89.2411   \n",
       "90000          965.497     487.727        283.962        74.2435   \n",
       "120000         1081.56     578.847        348.269        96.6542   \n",
       "250000         1710.56     690.933        536.642        75.1189   \n",
       "\n",
       "       iCharitableAndFamilyGiving iInsurance iEducation iHousingPrinciple  \\\n",
       "30000                     65.1252    11.2247    13.8623           54.6516   \n",
       "60000                     140.954    26.8773    65.2973           154.335   \n",
       "90000                     214.612     47.419    49.9139           223.177   \n",
       "120000                    250.337    55.6988    78.7017           325.287   \n",
       "250000                    684.467    64.7164    742.678             572.4   \n",
       "\n",
       "         ExpInc  \n",
       "30000      2500  \n",
       "60000    2664.4  \n",
       "90000   2797.12  \n",
       "120000  2985.62  \n",
       "250000   3904.6  "
      ]
     },
     "execution_count": 70,
     "metadata": {},
     "output_type": "execute_result"
    }
   ],
   "source": [
    "usersIncome = [30000, 60000, 90000, 120000, 250000]\n",
    "def getIncomeBracket(income):\n",
    "    for bracket in range(len(incomeBrackets)-2,0,-1):\n",
    "        if income > incomeBrackets[bracket]:\n",
    "            return bracket\n",
    "            \n",
    "\n",
    "exampleExpenses = pd.DataFrame(columns = cleanPercentages2.columns, index = range(len(usersIncome)))\n",
    "for user in usersIncome:\n",
    "    userBracket = getIncomeBracket(user)\n",
    "    userExpendAmount = getExpendPercent(user) * user\n",
    "    userBaseExpenses = (cleanPercentages2.loc[userBracket]*userExpendAmount)/12\n",
    "    exampleExpenses.loc[usersIncome.index(user)] = userBaseExpenses\n",
    "\n",
    "exampleExpenses.index = usersIncome\n",
    "\n",
    "\n",
    "exampleExpenses"
   ]
  }
 ],
 "metadata": {
  "kernelspec": {
   "display_name": "Python 3",
   "language": "python",
   "name": "python3"
  },
  "language_info": {
   "codemirror_mode": {
    "name": "ipython",
    "version": 3
   },
   "file_extension": ".py",
   "mimetype": "text/x-python",
   "name": "python",
   "nbconvert_exporter": "python",
   "pygments_lexer": "ipython3",
   "version": "3.6.0"
  },
  "widgets": {
   "state": {
    "0068692ac0bc411882a87b1a14dcfe10": {
     "views": [
      {
       "cell_index": 4
      }
     ]
    },
    "0bb2a8ec3efd4b92929860f0bd5905e0": {
     "views": [
      {
       "cell_index": 4
      }
     ]
    },
    "100206eef84d4173abc40ab8904f8ad5": {
     "views": [
      {
       "cell_index": 4
      }
     ]
    },
    "1b9d1660c8c64ec9952ea8a110d1f45b": {
     "views": [
      {
       "cell_index": 4
      }
     ]
    },
    "206b339cc5fa431eb2bfdf4a002fbee4": {
     "views": [
      {
       "cell_index": 4
      }
     ]
    },
    "27544fcbcde6482ab4785aca6aad69f9": {
     "views": [
      {
       "cell_index": 4
      }
     ]
    },
    "2c4068db76574349ba22032b0e0389bf": {
     "views": [
      {
       "cell_index": 4
      }
     ]
    },
    "385321efd2764b82add0b60833dab624": {
     "views": [
      {
       "cell_index": 4
      }
     ]
    },
    "48f62472d15647e9b82c65dcdbdc25b1": {
     "views": [
      {
       "cell_index": 4
      }
     ]
    },
    "516d2b0274bb45bfaec4433d691dc6ec": {
     "views": [
      {
       "cell_index": 4
      }
     ]
    },
    "522fbf9e096342859c5801ecb6e99658": {
     "views": [
      {
       "cell_index": 4
      }
     ]
    },
    "6fdc0a4cf68b438fac80ab3e4b83d19f": {
     "views": [
      {
       "cell_index": 4
      }
     ]
    },
    "91413111d50544c48166272bb0472126": {
     "views": [
      {
       "cell_index": 4
      }
     ]
    },
    "a89892d026274481bc6291f33d61d7e5": {
     "views": [
      {
       "cell_index": 4
      }
     ]
    },
    "ba65bfee910c4112af5658a6e6a2ef70": {
     "views": [
      {
       "cell_index": 4
      }
     ]
    },
    "c5763faee881469485888bfe55e988d1": {
     "views": [
      {
       "cell_index": 4
      }
     ]
    },
    "ca4f506cd0b14565b07e8899cf82befe": {
     "views": [
      {
       "cell_index": 4
      }
     ]
    },
    "d3b4abc7c62c4b0aa661a9f52260198b": {
     "views": [
      {
       "cell_index": 4
      }
     ]
    },
    "dfcd57085b0c46b6ac49e9f39fb3ffb5": {
     "views": [
      {
       "cell_index": 4
      }
     ]
    },
    "ed7c8b262ece470aafa8df3c2730a563": {
     "views": [
      {
       "cell_index": 4
      }
     ]
    },
    "f31852a1231145c08bf5cf8b6a3e888c": {
     "views": [
      {
       "cell_index": 4
      }
     ]
    },
    "fc7c33a10615450991993c8d4d270f86": {
     "views": [
      {
       "cell_index": 4
      }
     ]
    }
   },
   "version": "1.2.0"
  }
 },
 "nbformat": 4,
 "nbformat_minor": 2
}
