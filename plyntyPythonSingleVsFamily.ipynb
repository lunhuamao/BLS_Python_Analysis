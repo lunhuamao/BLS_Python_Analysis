{
 "cells": [
  {
   "cell_type": "markdown",
   "metadata": {
    "slideshow": {
     "slide_type": "slide"
    }
   },
   "source": [
    "# Plynty Bureau of Labor Statistics Consumer Expenditure Analysis\n",
    "\n",
    "[BLS Comsumer Expenditure Survey](https://www.bls.gov/cex/home.htm)\n",
    "\n",
    "[Interview Data Dictionary](https://www.bls.gov/cex/2015/csxintvwdata.pdf)\n",
    "\n",
    "[Diary Data Dictionary](https://www.bls.gov/cex/2015/csxdiarydata.pdf)\n",
    "\n",
    "### Where to download the BLS CE PUMD\n",
    "- The zip files download automatically\n",
    "- To download the Stub files open the links then right click and choose \"Save As...\"\n",
    "\n",
    "[2015 interview zip file](https://www.bls.gov/cex/pumd/data/comma/intrvw15.zip)\n",
    "\n",
    "[2015 diary zip file](https://www.bls.gov/cex/pumd/data/comma/diary15.zip)\n",
    "\n",
    "[2015 IntStub file](https://www.bls.gov/cex/pumd/2014/csxintstub.txt)\n",
    "\n",
    "[2015 IStub file](https://www.bls.gov/cex/pumd/2014/csxistub.txt)\n",
    "\n",
    "[2015 DStub file](https://www.bls.gov/cex/pumd/2014/csxdstub.txt)\n",
    "\n",
    "### This Scripts Goals for Plynty\n",
    "- Create an easy to use analysis script for the BLS CE PUMD \n",
    "- Create a csv files that has average percentages spent on plynty categories for certain income classes\n",
    "- Compare the Family CUs vs the Single person CUs"
   ]
  },
  {
   "cell_type": "markdown",
   "metadata": {
    "slideshow": {
     "slide_type": "slide"
    }
   },
   "source": [
    "##### Importing Libraries "
   ]
  },
  {
   "cell_type": "code",
   "execution_count": 1,
   "metadata": {
    "collapsed": false,
    "slideshow": {
     "slide_type": "subslide"
    }
   },
   "outputs": [
    {
     "name": "stdout",
     "output_type": "stream",
     "text": [
      "Dependencies Loaded...\n"
     ]
    }
   ],
   "source": [
    "import pandas as pd\n",
    "import numpy as np\n",
    "import os\n",
    "import subprocess\n",
    "import math\n",
    "import matplotlib.pyplot as plt\n",
    "from scipy.interpolate import *\n",
    "from plyntywidgets import *\n",
    "from blsFunctions import *\n",
    "\n",
    "import plotly\n",
    "import plotly.plotly as py\n",
    "import plotly.graph_objs as go\n",
    "plotly.tools.set_credentials_file(username='adyke', api_key='wSGAvFQyxDbbXm8etral')\n",
    "\n",
    "print(\"Dependencies Loaded...\")"
   ]
  },
  {
   "cell_type": "markdown",
   "metadata": {},
   "source": [
    "### Setting Parameters\n",
    "- year: the last two number associated with the year of the data\n",
    "    for example for data from 2015: year = \"15\"\n",
    "- minAge: the low bound (inclusive) of the age range you wish to subset by\n",
    "- maxAge: the high bound (inclusive) of the age range you wish to subset by\n",
    "- incomeBrackets: array of numbers that you wish to create the new income classes\n",
    "    the bracketing works as follows (1,2], (2,3], (3,4]\n",
    "- filesToRead: the strings of the abbreviations associated with the files you wish to read\n",
    "    options are: \"all\", \"diary\", \"interview\", \"dtbd\", \"expd\", \"fmld\", \"memd\", \"fmli\", \"itbi\", \"memi\", \"mtbi\", \"ntaxi\""
   ]
  },
  {
   "cell_type": "code",
   "execution_count": 2,
   "metadata": {
    "collapsed": false
   },
   "outputs": [],
   "source": [
    "year = \"15\"\n",
    "filesToRead = [\"fmli\", \"mtbi\"]\n",
    "incomeBrackets = [-10000000, 10000, 20000, 40000, 60000, 80000, 90000, 130000, 160000, 240000, 9990000]\n",
    "minAge = 60\n",
    "maxAge = 75"
   ]
  },
  {
   "cell_type": "markdown",
   "metadata": {},
   "source": [
    "### Setting Directory locations and FileNames on your Local Machine"
   ]
  },
  {
   "cell_type": "code",
   "execution_count": 3,
   "metadata": {
    "collapsed": false
   },
   "outputs": [],
   "source": [
    "# directory in which the diary and interview folders are held is located\n",
    "diaryDir = \"/Users/adyke/Vizuri/CE_PUMD/diary15/\"\n",
    "interviewDir = \"/Users/adyke/Vizuri/CE_PUMD/intrvw15/\"\n",
    "\n",
    "# Directory where stubfiles are located\n",
    "pathToStubFileDir = \"/Users/adyke/Vizuri/Stubfiles/\"\n",
    "rScriptStubfilePathAndName = \"/Users/adyke/Vizuri/BLS_Python_Analysis/creatingStubCsvs.R\"\n",
    "\n",
    "# Filenames of the Stubfiles\n",
    "IStubFileName = \"IStub2015.txt\"\n",
    "DStubFileName = \"DStub2015.txt\"\n",
    "IntStubFileName = \"IntStub2015.txt\"\n",
    "\n",
    "# name of interview dir within the interview dir\n",
    "insideIntrvwDirName = \"intrvw\"\n",
    "\n",
    "# name of the directory where you want the output percentages csv\n",
    "outputDir = \"/Users/adyke/Vizuri/outputFiles/\""
   ]
  },
  {
   "cell_type": "markdown",
   "metadata": {},
   "source": [
    "### Reading in the files specified by FilesToRead"
   ]
  },
  {
   "cell_type": "code",
   "execution_count": 4,
   "metadata": {
    "collapsed": false
   },
   "outputs": [],
   "source": [
    "if(len(filesToRead)==0):\n",
    "    print(\"The files to read variable is empty.\")\n",
    "\n",
    "# looping through each file to read\n",
    "for file in filesToRead:\n",
    "    if file == \"dtbd\" or file == \"all\" or file == \"diary\":\n",
    "        dtbd = readFileSet(\"dtbd\", diaryDir)\n",
    "    if file == \"expd\" or file == \"all\" or file == \"diary\":\n",
    "        expd = readFileSet(\"expd\", diaryDir)\n",
    "    if file == \"fmld\" or file == \"all\" or file == \"diary\":\n",
    "        fmld = readFileSet(\"fmld\", diaryDir)\n",
    "    if file == \"memd\" or file == \"all\" or file == \"diary\":\n",
    "        memd = readFileSet(\"memd\", diaryDir)\n",
    "    if file == \"fmli\" or file == \"all\" or file == \"interview\":\n",
    "        fmli = readFileSet(\"fmli\", interviewDir+insideIntrvwDirName+year+\"/\")\n",
    "    if file == \"itbi\" or file == \"all\" or file == \"interview\":\n",
    "        itbi = readFileSet(\"itbi\", interviewDir+insideIntrvwDirName+year+\"/\")\n",
    "    if file == \"itii\" or file == \"all\" or file == \"interview\":\n",
    "        itii = readFileSet(\"itii\", interviewDir+insideIntrvwDirName+year+\"/\")\n",
    "    if file == \"memi\" or file == \"all\" or file == \"interview\":\n",
    "        memi = readFileSet(\"memi\", interviewDir+insideIntrvwDirName+year+\"/\")\n",
    "    if file == \"mtbi\" or file == \"all\" or file == \"interview\":\n",
    "        mtbi = readFileSet(\"mtbi\", interviewDir+insideIntrvwDirName+year+\"/\")\n",
    "        mtbi.UCC = mtbi.UCC.astype(str)\n",
    "    if file == \"ntaxi\" or file == \"all\" or file == \"interview\":\n",
    "        ntaxi = readFileSet(\"ntaxi\", interviewDir+insideIntrvwDirName+year+\"/\")\n",
    "# does not read form the expn or para subdirectories\n"
   ]
  },
  {
   "cell_type": "markdown",
   "metadata": {},
   "source": [
    "### Using R to convert the Stub files into csv files"
   ]
  },
  {
   "cell_type": "code",
   "execution_count": 5,
   "metadata": {
    "collapsed": false
   },
   "outputs": [
    {
     "name": "stdout",
     "output_type": "stream",
     "text": [
      "Stubfiles Exist\n"
     ]
    }
   ],
   "source": [
    "if os.path.isfile(pathToStubFileDir+\"DStub.csv\") and os.path.isfile(pathToStubFileDir+\"IStub.csv\") and os.path.isfile(pathToStubFileDir+\"IntStub.csv\"):\n",
    "    print(\"Stubfiles Exist\")\n",
    "else:\n",
    "    # converting the stub files via R \n",
    "    subprocess.call(\"Rscript \"+rScriptStubfilePathAndName+\" \"+pathToStubFileDir+\" \"+IStubFileName+\" \"+DStubFileName+\" \"+IntStubFileName, shell=True)\n",
    "    print(\"Stubfile Csvs created in \"+pathToStubFileDir)"
   ]
  },
  {
   "cell_type": "markdown",
   "metadata": {},
   "source": [
    "### Reading and Cleaning the stubfile CSVs into pandas dataframes"
   ]
  },
  {
   "cell_type": "code",
   "execution_count": 6,
   "metadata": {
    "collapsed": false
   },
   "outputs": [],
   "source": [
    "# reading in the stubfiles\n",
    "DStub = pd.read_csv(pathToStubFileDir+\"DStub.csv\")\n",
    "IStub = pd.read_csv(pathToStubFileDir+\"IStub.csv\")\n",
    "IntStub = pd.read_csv(pathToStubFileDir+\"IntStub.csv\")\n",
    "\n",
    "# removing the index from the stufile\n",
    "DStub = DStub.drop(DStub.columns[0], axis=1)\n",
    "IStub = IStub.drop(IStub.columns[0], axis=1)\n",
    "IntStub = IntStub.drop(IntStub.columns[0], axis=1)\n",
    "\n",
    "# replacing * with 0 in the level columns\n",
    "DStub.loc[DStub.level == \"*\", 'level'] = 0\n",
    "IStub.loc[IStub.level == \"*\", 'level'] = 0\n",
    "IntStub.loc[IntStub.level == \"*\", 'level'] = 0"
   ]
  },
  {
   "cell_type": "markdown",
   "metadata": {},
   "source": [
    "# Starting the Plynty calculations"
   ]
  },
  {
   "cell_type": "markdown",
   "metadata": {},
   "source": [
    "### Creating the UCC roll ups for Plynty"
   ]
  },
  {
   "cell_type": "code",
   "execution_count": 7,
   "metadata": {
    "collapsed": false
   },
   "outputs": [],
   "source": [
    "# creating UCC rollups for the interview files for plynty categories\n",
    "iTotalExp = categoricalUCCRollUp(IStub,[\"TOTALE\"])\n",
    "iFoodAtHome = categoricalUCCRollUp(IStub, [\"FOODHO\", \"ALCHOM\"])\n",
    "iFoodAway = categoricalUCCRollUp(IStub, [\"FOODAW\", \"ALCAWA\"])\n",
    "iHousing = categoricalUCCRollUp(IStub, [\"HOUSIN\"], ignoreUCCs = categoricalUCCRollUp(IStub, [\"UTILS\"]))\n",
    "iUtilites = categoricalUCCRollUp(IStub, [\"UTILS\"])\n",
    "iClothingAndBeauty = categoricalUCCRollUp(IStub, [\"APPARE\",\"PERSCA\"])\n",
    "iTransportation = categoricalUCCRollUp(IStub, [\"TRANS\"])\n",
    "iHealthcare = categoricalUCCRollUp(IStub, [\"HEALTH\"])\n",
    "iEntertainment = categoricalUCCRollUp(IStub, [\"ENTRTA\",\"READIN\"])\n",
    "iMiscellaneous = categoricalUCCRollUp(IStub, [\"MISC\",\"TOBACC\"])\n",
    "iCharitableAndFamilyGiving = categoricalUCCRollUp(IStub, [\"CASHCO\"])\n",
    "iInsurance = categoricalUCCRollUp(IStub, [\"LIFEIN\"])\n",
    "iEducation = categoricalUCCRollUp(IStub, [\"EDUCAT\"])\n",
    "iHousingPrinciple = categoricalUCCRollUp(IStub,[\"MRTPRI\"])"
   ]
  },
  {
   "cell_type": "markdown",
   "metadata": {},
   "source": [
    "### Adding and Rolling up the MTBI Categories into mtbiRolledUp\n",
    "\n",
    "outputs from cell:\n",
    "- mtbiTrimmed: Dataframe with NewID, TotatlExp and each entry of cost."
   ]
  },
  {
   "cell_type": "code",
   "execution_count": 8,
   "metadata": {
    "collapsed": false
   },
   "outputs": [],
   "source": [
    "rollupNames = [\"iTotalExp\",\"iFoodAtHome\",\"iFoodAway\",\"iHousing\",\"iUtilites\",\"iClothingAndBeauty\",\"iTransportation\",\"iHealthcare\",\"iEntertainment\",\"iMiscellaneous\",\"iCharitableAndFamilyGiving\",\"iInsurance\",\"iEducation\",\"iHousingPrinciple\"]\n",
    "rollups = [iTotalExp,iFoodAtHome,iFoodAway,iHousing,iUtilites,iClothingAndBeauty,iTransportation,iHealthcare,iEntertainment,iMiscellaneous,iCharitableAndFamilyGiving,iInsurance,iEducation,iHousingPrinciple]\n",
    "\n",
    "mtbiRolledUp = rollUpDataframe(mtbi, rollupNames, rollups, negativeColumns=[\"iHousingPrinciple\"], multiple=4)\n",
    "\n",
    "mtbiTrimmed = mtbiRolledUp.loc[: , ['NEWID','iTotalExp','iFoodAtHome','iFoodAway','iHousing','iUtilites','iClothingAndBeauty','iTransportation','iHealthcare','iEntertainment','iMiscellaneous','iCharitableAndFamilyGiving','iInsurance','iEducation','iHousingPrinciple']]"
   ]
  },
  {
   "cell_type": "markdown",
   "metadata": {},
   "source": [
    "### Creating the Sum for all expenditure category columns for each NEWID\n",
    "nonZeroColumns is an array that contains the names of columns that should not be Zero\n",
    "\n",
    "outputs from cell:\n",
    "- iExpensesByNewID: total expenses for each category for each NewID"
   ]
  },
  {
   "cell_type": "code",
   "execution_count": 9,
   "metadata": {
    "collapsed": false
   },
   "outputs": [],
   "source": [
    "# adding up all columns for each new id\n",
    "iExpensesByNewID = mtbiTrimmed.groupby(['NEWID'],as_index=False).sum()\n",
    "# removing rows with zero values in key categories\n",
    "nonZeroColumns = ['iFoodAtHome','iFoodAway','iHousing','iUtilites']\n",
    "for column in nonZeroColumns:\n",
    "    iExpensesByNewID = iExpensesByNewID[iExpensesByNewID[column] != 0]\n",
    "iExpensesByNewID['iHousing'] = iExpensesByNewID['iHousing']+iExpensesByNewID['iHousingPrinciple']"
   ]
  },
  {
   "cell_type": "markdown",
   "metadata": {},
   "source": [
    "### Subestting FMLI for age and recoding the incomebrackets"
   ]
  },
  {
   "cell_type": "code",
   "execution_count": 10,
   "metadata": {
    "collapsed": false,
    "scrolled": true
   },
   "outputs": [],
   "source": [
    "# subsetting for the age bracket\n",
    "fmliAge = subsetDataframe(dataframe=fmli, columnName=\"AGE_REF\", minValue=minAge, maxValue=maxAge)\n",
    "fmliAge = fmliAge.reset_index()\n",
    "\n",
    "# recoding the income brackets\n",
    "fmliRecoded = binColumn(dataframe=fmliAge, toBinColumnName=\"FINCBTXM\", binValues=incomeBrackets, binnedColumnName=\"INCLASS\", labels=range(1,len(incomeBrackets)))"
   ]
  },
  {
   "cell_type": "markdown",
   "metadata": {},
   "source": [
    "### Subsetting for Single person CU and Family CU\n",
    "- should the subsetting be for family size or should it be for single parents?"
   ]
  },
  {
   "cell_type": "code",
   "execution_count": 11,
   "metadata": {},
   "outputs": [],
   "source": [
    "# Family\n",
    "fmliRecodedFamily = fmliRecoded.loc[fmliRecoded.FAM_SIZE > 1]\n",
    "# Single\n",
    "fmliRecodedSingle = fmliRecoded.loc[fmliRecoded.FAM_SIZE == 1]"
   ]
  },
  {
   "cell_type": "markdown",
   "metadata": {},
   "source": [
    "### Adding the Income class colum to the ExpensesByNewID dataframe"
   ]
  },
  {
   "cell_type": "code",
   "execution_count": 12,
   "metadata": {
    "collapsed": false
   },
   "outputs": [],
   "source": [
    "# Family\n",
    "inclassExpensesFamily = pd.merge(left=fmliRecodedFamily[['NEWID','INCLASS','FINCBTXM']],right=iExpensesByNewID, on=['NEWID'])\n",
    "# Single\n",
    "inclassExpensesSingle = pd.merge(left=fmliRecodedSingle[['NEWID','INCLASS','FINCBTXM']],right=iExpensesByNewID, on=['NEWID'])"
   ]
  },
  {
   "cell_type": "markdown",
   "metadata": {},
   "source": [
    "### Averaging the expenditures based on incomebrackets\n",
    "inclassAverages is average money spent for each incomeclass"
   ]
  },
  {
   "cell_type": "code",
   "execution_count": 13,
   "metadata": {
    "collapsed": false,
    "scrolled": false
   },
   "outputs": [],
   "source": [
    "# Family\n",
    "inclassAveragesFamily = round(inclassExpensesFamily.ix[: ,inclassExpensesFamily.columns != 'NEWID'].groupby(['INCLASS'],as_index=False).mean(),2)\n",
    "# Single\n",
    "inclassAveragesSingle = round(inclassExpensesSingle.ix[: ,inclassExpensesSingle.columns != 'NEWID'].groupby(['INCLASS'],as_index=False).mean(),2)"
   ]
  },
  {
   "cell_type": "markdown",
   "metadata": {},
   "source": [
    "### Converting the Average expenditures for income classes into percentages of expenditures\n",
    "percentages is the percent of total expenditure for each category for each incomeclass "
   ]
  },
  {
   "cell_type": "code",
   "execution_count": 14,
   "metadata": {
    "collapsed": false
   },
   "outputs": [],
   "source": [
    "# creating new dataframe for the percentages that only includes the plynty categories\n",
    "percentagesFamily = inclassAveragesFamily.loc[:,rollupNames[1:]]\n",
    "percentagesSingle = inclassAveragesSingle.loc[:,rollupNames[1:]]\n",
    "for column in rollupNames[1:]:\n",
    "    percentagesFamily[column] = inclassAveragesFamily[column]/inclassAveragesFamily.iTotalExp\n",
    "    percentagesSingle[column] = inclassAveragesSingle[column]/inclassAveragesSingle.iTotalExp\n",
    "\n",
    "# Family\n",
    "percentagesFamily['ExpInc'] = inclassAveragesFamily['iTotalExp']/inclassAveragesFamily['FINCBTXM']\n",
    "# Single\n",
    "percentagesSingle['ExpInc'] = inclassAveragesSingle['iTotalExp']/inclassAveragesSingle['FINCBTXM']\n",
    "\n",
    "# Family\n",
    "percentagesFamily.ExpInc.ix[percentagesFamily['ExpInc']>1] = 1\n",
    "# Single\n",
    "percentagesSingle.ExpInc.ix[percentagesSingle['ExpInc']>1] = 1"
   ]
  },
  {
   "cell_type": "markdown",
   "metadata": {},
   "source": [
    "### Removing outliers in iHousing\n",
    " - For each income class\n",
    "    - Find Q1 and Q3\n",
    "    - Calculate IQR\n",
    "    - Find rows outside of Q3/Q2 +/- (1.5 x IQR) and Q3/Q2 +/- (3 x IQR)\n",
    " - Remove Rows from Dataframe\n",
    " - Clean1: Inner Fence\n",
    " - Clean2: Outer Fence"
   ]
  },
  {
   "cell_type": "code",
   "execution_count": 15,
   "metadata": {
    "collapsed": false,
    "scrolled": true
   },
   "outputs": [],
   "source": [
    "# # Family or Single\n",
    "# outliersFamily = inclassExpensesFamily.copy()\n",
    "# outliersSingle = inclassExpensesSingle.copy()\n",
    "\n",
    "# # Family or Single\n",
    "# outerFenceFamily = []\n",
    "# outerFenceSingle = []\n",
    "\n",
    "# for inclass in range(1,len(incomeBrackets)):\n",
    "#     # Family or Single\n",
    "#     outliersInClassFamily = outliersFamily.where(outliersFamily['INCLASS']==inclass)\n",
    "#     Q1 = outliersInClassFamily['iHousing'].quantile(0.25)\n",
    "#     Q3 = outliersInClassFamily['iHousing'].quantile(0.75)\n",
    "#     IQR = Q3 - Q1\n",
    "#     outerFenceFamily.extend(outliersInClassFamily[outliersInClassFamily['iHousing'] < (Q1 - (3 * IQR))].index.tolist())\n",
    "#     outerFenceFamily.extend(outliersInClassFamily[outliersInClassFamily['iHousing'] > (Q3 + (3 * IQR))].index.tolist())\n",
    "    \n",
    "#     outliersInClassSingle = outliersSingle.where(outliersSingle['INCLASS']==inclass)\n",
    "#     Q1 = outliersInClassSingle['iHousing'].quantile(0.25)\n",
    "#     Q3 = outliersInClassSingle['iHousing'].quantile(0.75)\n",
    "#     IQR = Q3 - Q1\n",
    "#     outerFenceSingle.extend(outliersInClassSingle[outliersInClassSingle['iHousing'] < (Q1 - (3 * IQR))].index.tolist())\n",
    "#     outerFenceSingle.extend(outliersInClassSingle[outliersInClassSingle['iHousing'] > (Q3 + (3 * IQR))].index.tolist())\n",
    "\n",
    "\n",
    "# # Family or Single\n",
    "# cleanFamily = outliersFamily.drop(outliersFamily.index[outerFenceFamily])\n",
    "# cleanSingle = outliersSingle.drop(outliersSingle.index[outerFenceSingle])"
   ]
  },
  {
   "cell_type": "code",
   "execution_count": 16,
   "metadata": {},
   "outputs": [],
   "source": [
    "# Family or Single\n",
    "outliersFamily = inclassExpensesFamily.copy()\n",
    "outliersSingle = inclassExpensesSingle.copy()\n",
    "\n",
    "# Family or Single\n",
    "outerFenceFamily = []\n",
    "outerFenceSingle = []\n",
    "\n",
    "for column in outliersFamily.columns[4:len(outliersFamily.columns)-1]:\n",
    "    # Family or Single\n",
    "    Q1 = outliersFamily[column].quantile(0.25)\n",
    "    Q3 = outliersFamily[column].quantile(0.75)\n",
    "    IQR = Q3 - Q1\n",
    "    outerFenceFamily.extend(outliersFamily[outliersFamily[column] < (Q1 - (3 * IQR))].index.tolist())\n",
    "    outerFenceFamily.extend(outliersFamily[outliersFamily[column] > (Q3 + (3 * IQR))].index.tolist())\n",
    "    \n",
    "    Q1 = outliersSingle[column].quantile(0.25)\n",
    "    Q3 = outliersSingle[column].quantile(0.75)\n",
    "    IQR = Q3 - Q1\n",
    "    outerFenceSingle.extend(outliersSingle[outliersSingle[column] < (Q1 - (3 * IQR))].index.tolist())\n",
    "    outerFenceSingle.extend(outliersSingle[outliersSingle[column] > (Q3 + (3 * IQR))].index.tolist())\n",
    "    \n",
    "# Family or Single\n",
    "cleanFamily = outliersFamily.drop(outliersFamily.index[outerFenceFamily])\n",
    "cleanSingle = outliersSingle.drop(outliersSingle.index[outerFenceSingle])"
   ]
  },
  {
   "cell_type": "markdown",
   "metadata": {},
   "source": [
    "### Creating the percentage output for cleaned dataframe"
   ]
  },
  {
   "cell_type": "code",
   "execution_count": 17,
   "metadata": {
    "collapsed": false,
    "scrolled": true
   },
   "outputs": [],
   "source": [
    "# Family\n",
    "inclassCleanAveragesFamily = round(cleanFamily.ix[: ,cleanFamily.columns != 'NEWID'].groupby(['INCLASS'],as_index=False).mean(),2)\n",
    "# creating new dataframe for the percentages that only includes the plynty categories\n",
    "cleanPercentagesFamily = inclassCleanAveragesFamily.loc[:,rollupNames[1:]]\n",
    "for column in rollupNames[1:]:\n",
    "    cleanPercentagesFamily[column] = inclassCleanAveragesFamily[column]/inclassCleanAveragesFamily.iTotalExp\n",
    "cleanPercentagesFamily['ExpInc'] = inclassCleanAveragesFamily['iTotalExp']/inclassCleanAveragesFamily['FINCBTXM']\n",
    "# truncate the max ExpInc\n",
    "cleanPercentagesNonTruncatedFamily = cleanPercentagesFamily.copy()\n",
    "cleanPercentagesFamily.ExpInc.ix[cleanPercentagesFamily['ExpInc']>1] = 1\n",
    "# cleanPercentagesFamily\n",
    "\n",
    "# Single\n",
    "inclassCleanAveragesSingle = round(cleanSingle.ix[: ,cleanSingle.columns != 'NEWID'].groupby(['INCLASS'],as_index=False).mean(),2)\n",
    "# creating new dataframe for the percentages that only includes the plynty categories\n",
    "cleanPercentagesSingle = inclassCleanAveragesSingle.loc[:,rollupNames[1:]]\n",
    "for column in rollupNames[1:]:\n",
    "    cleanPercentagesSingle[column] = inclassCleanAveragesSingle[column]/inclassCleanAveragesSingle.iTotalExp\n",
    "cleanPercentagesSingle['ExpInc'] = inclassCleanAveragesSingle['iTotalExp']/inclassCleanAveragesSingle['FINCBTXM']\n",
    "# truncate the max ExpInc\n",
    "cleanPercentagesNonTruncatedSingle = cleanPercentagesSingle.copy()\n",
    "cleanPercentagesSingle.ExpInc.ix[cleanPercentagesSingle['ExpInc']>1] = 1\n",
    "# cleanPercentagesSingle"
   ]
  },
  {
   "cell_type": "markdown",
   "metadata": {},
   "source": [
    "### Cell that determines how similar the neighbor rows are\n",
    "Potentially use this to combine similar rows.\n",
    "Can't figure out the correct statistical test to determine if rows are statistically similar\n",
    "\n",
    "###### The higher the difference value the more different the rows are. (low values mean similar rows)"
   ]
  },
  {
   "cell_type": "markdown",
   "metadata": {},
   "source": [
    "# Plots"
   ]
  },
  {
   "cell_type": "code",
   "execution_count": 18,
   "metadata": {},
   "outputs": [
    {
     "data": {
      "image/png": "[encoded data removed]",
      "text/plain": [
       "<matplotlib.figure.Figure at 0x10e3a6be0>"
      ]
     },
     "metadata": {},
     "output_type": "display_data"
    },
    {
     "name": "stdout",
     "output_type": "stream",
     "text": [
      "[690 583 355 311 156 136  86  83  76  36]\n",
      "[331 319 136 114  58  21   9   7   6   3]\n"
     ]
    }
   ],
   "source": [
    "plt.close()\n",
    "n_groups = 3\n",
    "values1 = cleanFamily.INCLASS.value_counts().values\n",
    "values2 = cleanSingle.INCLASS.value_counts().values\n",
    "\n",
    "fig, ax = plt.subplots()\n",
    "index = np.arange(n_groups)\n",
    "bar_width = 0.35\n",
    "opacity = 1\n",
    "\n",
    " \n",
    "rects1 = plt.bar(cleanFamily.INCLASS.value_counts().index -1, values1, bar_width,\n",
    "                 alpha=opacity,\n",
    "                 color='r',\n",
    "                 label='Family')\n",
    "\n",
    "rects2 = plt.bar(cleanSingle.INCLASS.value_counts().index - 1 + bar_width, values2, bar_width,\n",
    "                 alpha=opacity,\n",
    "                 color='b',\n",
    "                 label='Single')\n",
    "\n",
    "plt.xlabel('Income Class')\n",
    "plt.ylabel('Number of CUs')\n",
    "plt.title('Number of CUs per Income Class')\n",
    "plt.legend()\n",
    "plt.show()\n",
    "print(cleanFamily.INCLASS.value_counts().values)\n",
    "print(cleanSingle.INCLASS.value_counts().values)"
   ]
  },
  {
   "cell_type": "code",
   "execution_count": 19,
   "metadata": {},
   "outputs": [
    {
     "data": {
      "image/png": "[encoded data removed]",
      "text/plain": [
       "<matplotlib.figure.Figure at 0x11b2cecf8>"
      ]
     },
     "metadata": {},
     "output_type": "display_data"
    }
   ],
   "source": [
    "n_groups = 3\n",
    "values1 = cleanPercentagesFamily.ExpInc\n",
    "values2 = cleanPercentagesSingle.ExpInc\n",
    "\n",
    "fig, ax = plt.subplots()\n",
    "index = np.arange(n_groups)\n",
    "bar_width = 0.35\n",
    "opacity = 1\n",
    " \n",
    "rects1 = plt.bar(cleanPercentagesFamily.index, values1, bar_width,\n",
    "                 alpha=opacity,\n",
    "                 color='r',\n",
    "                 label='Family')\n",
    " \n",
    "rects2 = plt.bar(cleanPercentagesSingle.index + bar_width, values2, bar_width,\n",
    "                 alpha=opacity,\n",
    "                 color='b',\n",
    "                 label='Single')\n",
    "\n",
    " \n",
    "plt.xlabel('Income Class')\n",
    "plt.ylabel('Percent of Income Expended')\n",
    "plt.title('Percent of Income Expent per Income Class')\n",
    "plt.legend()\n",
    "plt.show()"
   ]
  },
  {
   "cell_type": "markdown",
   "metadata": {},
   "source": [
    "### Looking at the Family vs Single Healthcare costs\n",
    "Note: The higher income brackets are not statistically significant for the Single people because there are so few observations (<50)"
   ]
  },
  {
   "cell_type": "code",
   "execution_count": 20,
   "metadata": {},
   "outputs": [
    {
     "name": "stdout",
     "output_type": "stream",
     "text": [
      "0.13504256404815956\n",
      "0.1178643559905537\n"
     ]
    },
    {
     "data": {
      "image/png": "[encoded data removed]",
      "text/plain": [
       "<matplotlib.figure.Figure at 0x113e15b70>"
      ]
     },
     "metadata": {},
     "output_type": "display_data"
    }
   ],
   "source": [
    "print(cleanPercentagesFamily.iHealthcare.mean())\n",
    "print(cleanPercentagesSingle.iHealthcare.mean())\n",
    "\n",
    "n_groups = 3\n",
    "values1 = cleanPercentagesFamily.iHealthcare\n",
    "values2 = cleanPercentagesSingle.iHealthcare\n",
    "\n",
    "fig, ax = plt.subplots()\n",
    "index = np.arange(n_groups)\n",
    "bar_width = 0.35\n",
    "opacity = 1\n",
    " \n",
    "rects1 = plt.bar(cleanPercentagesFamily.index, values1, bar_width,\n",
    "                 alpha=opacity,\n",
    "                 color='r',\n",
    "                 label='Family')\n",
    " \n",
    "rects2 = plt.bar(cleanPercentagesSingle.index + bar_width, values2, bar_width,\n",
    "                 alpha=opacity,\n",
    "                 color='b',\n",
    "                 label='Single')\n",
    "\n",
    " \n",
    "plt.xlabel('Income Class')\n",
    "plt.ylabel('Percent of Expenditure spent')\n",
    "plt.title('Percent Expent on Healthcare per Income Class')\n",
    "plt.legend()\n",
    "plt.show()"
   ]
  },
  {
   "cell_type": "markdown",
   "metadata": {},
   "source": [
    "### Looking at the Family vs Single Transportation costs\n",
    "Note: The higher income brackets are not statistically significant for the Single people because there are so few observations (<50)"
   ]
  },
  {
   "cell_type": "code",
   "execution_count": 21,
   "metadata": {},
   "outputs": [
    {
     "name": "stdout",
     "output_type": "stream",
     "text": [
      "0.12496255439659536\n",
      "0.10724402219295588\n"
     ]
    },
    {
     "data": {
      "image/png": "[encoded data removed]",
      "text/plain": [
       "<matplotlib.figure.Figure at 0x1141d26d8>"
      ]
     },
     "metadata": {},
     "output_type": "display_data"
    }
   ],
   "source": [
    "print(cleanPercentagesFamily.iTransportation.mean())\n",
    "print(cleanPercentagesSingle.iTransportation.mean())\n",
    "\n",
    "n_groups = 3\n",
    "values1 = cleanPercentagesFamily.iTransportation\n",
    "values2 = cleanPercentagesSingle.iTransportation\n",
    "\n",
    "fig, ax = plt.subplots()\n",
    "index = np.arange(n_groups)\n",
    "bar_width = 0.35\n",
    "opacity = 1\n",
    " \n",
    "rects1 = plt.bar(cleanPercentagesFamily.index, values1, bar_width,\n",
    "                 alpha=opacity,\n",
    "                 color='r',\n",
    "                 label='Family')\n",
    " \n",
    "rects2 = plt.bar(cleanPercentagesSingle.index + bar_width, values2, bar_width,\n",
    "                 alpha=opacity,\n",
    "                 color='b',\n",
    "                 label='Single')\n",
    "\n",
    " \n",
    "plt.xlabel('Income Class')\n",
    "plt.ylabel('Percent of Expenditure spent')\n",
    "plt.title('Percent Expent on Transportation per Income Class')\n",
    "plt.legend()\n",
    "plt.show()"
   ]
  },
  {
   "cell_type": "markdown",
   "metadata": {},
   "source": [
    "### Looking at Single vs Family housing costs"
   ]
  },
  {
   "cell_type": "code",
   "execution_count": 22,
   "metadata": {},
   "outputs": [
    {
     "name": "stdout",
     "output_type": "stream",
     "text": [
      "0.3443828338102582\n",
      "0.4124653416522002\n"
     ]
    },
    {
     "data": {
      "image/png": "[encoded data removed]",
      "text/plain": [
       "<matplotlib.figure.Figure at 0x1149de160>"
      ]
     },
     "metadata": {},
     "output_type": "display_data"
    }
   ],
   "source": [
    "print(cleanPercentagesFamily.iHousing.mean())\n",
    "print(cleanPercentagesSingle.iHousing.mean())\n",
    "\n",
    "n_groups = 3\n",
    "values1 = cleanPercentagesFamily.iHousing\n",
    "values2 = cleanPercentagesSingle.iHousing\n",
    "\n",
    "fig, ax = plt.subplots()\n",
    "index = np.arange(n_groups)\n",
    "bar_width = 0.35\n",
    "opacity = 1\n",
    " \n",
    "rects1 = plt.bar(cleanPercentagesFamily.index, values1, bar_width,\n",
    "                 alpha=opacity,\n",
    "                 color='r',\n",
    "                 label='Family')\n",
    " \n",
    "rects2 = plt.bar(cleanPercentagesSingle.index + bar_width, values2, bar_width,\n",
    "                 alpha=opacity,\n",
    "                 color='b',\n",
    "                 label='Single')\n",
    "\n",
    " \n",
    "plt.xlabel('Income Class')\n",
    "plt.ylabel('Percent of Expenditure spent')\n",
    "plt.title('Percent Expent on Housing per Income Class')\n",
    "plt.legend()\n",
    "plt.show()"
   ]
  },
  {
   "cell_type": "code",
   "execution_count": 23,
   "metadata": {},
   "outputs": [
    {
     "name": "stdout",
     "output_type": "stream",
     "text": [
      "0.13504256404815956\n",
      "0.1178643559905537\n"
     ]
    },
    {
     "data": {
      "image/png": "[encoded data removed]",
      "text/plain": [
       "<matplotlib.figure.Figure at 0x113bb99e8>"
      ]
     },
     "metadata": {},
     "output_type": "display_data"
    }
   ],
   "source": [
    "print(cleanPercentagesFamily.iHealthcare.mean())\n",
    "print(cleanPercentagesSingle.iHealthcare.mean())\n",
    "\n",
    "n_groups = 3\n",
    "values1 = cleanPercentagesFamily.iHealthcare\n",
    "values2 = cleanPercentagesSingle.iHealthcare\n",
    "\n",
    "fig, ax = plt.subplots()\n",
    "index = np.arange(n_groups)\n",
    "bar_width = 0.35\n",
    "opacity = 1\n",
    " \n",
    "rects1 = plt.bar(cleanPercentagesFamily.index, values1, bar_width,\n",
    "                 alpha=opacity,\n",
    "                 color='r',\n",
    "                 label='Family')\n",
    " \n",
    "rects2 = plt.bar(cleanPercentagesSingle.index + bar_width, values2, bar_width,\n",
    "                 alpha=opacity,\n",
    "                 color='b',\n",
    "                 label='Single')\n",
    "\n",
    " \n",
    "plt.xlabel('Income Class')\n",
    "plt.ylabel('Percent of Expenditure spent')\n",
    "plt.title('Percent Expent on Healthcare per Income Class')\n",
    "plt.legend()\n",
    "plt.show()"
   ]
  },
  {
   "cell_type": "code",
   "execution_count": 24,
   "metadata": {},
   "outputs": [],
   "source": [
    "# valueFam = cleanFamily.iTotalExp\n",
    "# valueSingle = cleanSingle.iTotalExp\n",
    "\n",
    "# incomeFam = cleanFamily.FINCBTXM\n",
    "# incomeSingle = cleanSingle.FINCBTXM\n",
    "\n",
    "# famCoefficients = np.polyfit(incomeFam, valueFam, deg = 3)\n",
    "# singleCoefficients = np.polyfit(incomeSingle, valueSingle, deg = 3)\n",
    "\n",
    "# famP = np.poly1d(famCoefficients)\n",
    "# singleP = np.poly1d(singleCoefficients)\n",
    "\n",
    "# x = range(0,int(incomeFam.max()),1000)\n",
    "# plt.scatter(incomeFam, valueFam, color='orange', s=.5, label=\"Family\")\n",
    "# plt.scatter(incomeSingle, valueSingle, color='cyan', s=0.5, label=\"Single\")\n",
    "# plt.plot(x,famP(x), color='r',label=\"Family\")\n",
    "# plt.plot(x,singleP(x), color='b', label=\"Single\")\n",
    "# plt.plot(x,x, color=\"black\")\n",
    "# plt.xlabel(\"Income Before Taxes\")\n",
    "# plt.ylabel(\"Aggregate Expenditures\")\n",
    "# plt.xlim(0,incomeFam.max())\n",
    "# plt.ylim(0,valueFam.max())\n",
    "# plt.suptitle(\"Regression of Income to Aggregate Expenditure\")\n",
    "# plt.title(\"Family vs Single\")\n",
    "# plt.legend()\n",
    "# plt.show()"
   ]
  },
  {
   "cell_type": "code",
   "execution_count": 25,
   "metadata": {},
   "outputs": [
    {
     "data": {
      "text/html": [
       "<iframe id=\"igraph\" scrolling=\"no\" style=\"border:none;\" seamless=\"seamless\" src=\"https://plot.ly/~adyke/23.embed\" height=\"525px\" width=\"100%\"></iframe>"
      ],
      "text/plain": [
       "<plotly.tools.PlotlyDisplay object>"
      ]
     },
     "execution_count": 25,
     "metadata": {},
     "output_type": "execute_result"
    }
   ],
   "source": [
    "valueFam = cleanFamily.iTotalExp\n",
    "valueSingle = cleanSingle.iTotalExp\n",
    "\n",
    "incomeFam = cleanFamily.FINCBTXM\n",
    "incomeSingle = cleanSingle.FINCBTXM\n",
    "\n",
    "x = list(range(0,int(incomeFam.max()),1000))\n",
    "\n",
    "famCoefficients = np.polyfit(incomeFam, valueFam, deg = 3)\n",
    "singleCoefficients = np.polyfit(incomeSingle, valueSingle, deg = 3)\n",
    "\n",
    "famP = np.poly1d(famCoefficients)\n",
    "singleP = np.poly1d(singleCoefficients)\n",
    "\n",
    "breakEvenLine = list(range(0,294000,1000))\n",
    "\n",
    "trace0 = go.Scatter(x = incomeFam,\n",
    "                    y = valueFam, \n",
    "                    mode = 'markers',\n",
    "                    name = \"Family Points\",\n",
    "                    marker = dict(\n",
    "                        size = 3,\n",
    "                        color = 'rgba(255, 125, 5, 1)'))\n",
    "trace1 = go.Scatter(x = x, \n",
    "                    y = famP(x),\n",
    "                    name = \"Family Regression\",\n",
    "                    mode = \"lines\", \n",
    "                   line = dict(color = 'rgba(255,5,9,1)'))\n",
    "\n",
    "trace2 = go.Scatter(x = incomeSingle,\n",
    "                    y = valueSingle, \n",
    "                    mode = 'markers',\n",
    "                    name = \"Single Points\",\n",
    "                    marker = dict(\n",
    "                        size = 3,\n",
    "                        color = 'rgba(5, 255, 250, 1)'))\n",
    "trace3 = go.Scatter(x = x, \n",
    "                    y = singleP(x),\n",
    "                    name = \"Single Regression\",\n",
    "                    mode = \"lines\",\n",
    "                    line = dict(\n",
    "                       color = 'rgba(5, 9, 255,1)'))\n",
    "\n",
    "\n",
    "trace4 = go.Scatter(x=breakEvenLine,\n",
    "                   y=breakEvenLine,\n",
    "                   mode = \"lines\",\n",
    "                    name = \"Income = Expenditure\",\n",
    "                   line = dict(color = 'rgba(0,0,0,1)'))\n",
    "\n",
    "layout = dict(title = 'Family Vs Single Aggregate Expenses',\n",
    "              xaxis = dict(title = 'Income Before Taxes'),\n",
    "              yaxis = dict(title = 'Aggregate Expenses'),\n",
    "              )\n",
    "\n",
    "data = [trace0,trace1, trace2, trace3, trace4]\n",
    "fig = dict(data=data, layout=layout)\n",
    "py.iplot(fig, filename=\"Family Vs Single Aggregate Expenses\")"
   ]
  },
  {
   "cell_type": "code",
   "execution_count": 26,
   "metadata": {},
   "outputs": [
    {
     "data": {
      "text/html": [
       "<iframe id=\"igraph\" scrolling=\"no\" style=\"border:none;\" seamless=\"seamless\" src=\"https://plot.ly/~adyke/17.embed\" height=\"525px\" width=\"100%\"></iframe>"
      ],
      "text/plain": [
       "<plotly.tools.PlotlyDisplay object>"
      ]
     },
     "execution_count": 26,
     "metadata": {},
     "output_type": "execute_result"
    }
   ],
   "source": [
    "valueFam = cleanFamily.iHousing\n",
    "valueSingle = cleanSingle.iHousing\n",
    "\n",
    "incomeFam = cleanFamily.FINCBTXM\n",
    "incomeSingle = cleanSingle.FINCBTXM\n",
    "\n",
    "famCoefficients = np.polyfit(incomeFam, valueFam, deg = 3)\n",
    "singleCoefficients = np.polyfit(incomeSingle, valueSingle, deg = 3)\n",
    "\n",
    "famP = np.poly1d(famCoefficients)\n",
    "singleP = np.poly1d(singleCoefficients)\n",
    "\n",
    "trace0 = go.Scatter(x = incomeFam,\n",
    "                    y = valueFam, \n",
    "                    mode = 'markers',\n",
    "                    name = \"Family Points\",\n",
    "                    marker = dict(\n",
    "                        size = 3,\n",
    "                        color = 'rgba(255, 125, 5, 1)'))\n",
    "trace1 = go.Scatter(x = x, \n",
    "                    y = famP(x),\n",
    "                    name = \"Family Regression\",\n",
    "                    mode = \"lines\", \n",
    "                   line = dict(color = 'rgba(255,5,9,1)'))\n",
    "\n",
    "trace2 = go.Scatter(x = incomeSingle,\n",
    "                    y = valueSingle, \n",
    "                    mode = 'markers',\n",
    "                    name = \"Single Points\",\n",
    "                    marker = dict(\n",
    "                        size = 3,\n",
    "                        color = 'rgba(5, 255, 250, 1)'))\n",
    "trace3 = go.Scatter(x = x, \n",
    "                    y = singleP(x),\n",
    "                    name = \"Single Regression\",\n",
    "                    mode = \"lines\", \n",
    "                   line = dict(color = 'rgba(5, 9, 255,1)'))\n",
    "\n",
    "layout = dict(title = 'Family Vs Single Housing Expenses',\n",
    "              xaxis = dict(title = 'Income Before Taxes'),\n",
    "              yaxis = dict(title = 'Amount Spent on Housing'),\n",
    "              )\n",
    "\n",
    "data = [trace0,trace1, trace2, trace3]\n",
    "fig = dict(data=data, layout=layout)\n",
    "py.iplot(fig, filename=\"Family Vs Single Housing\")"
   ]
  },
  {
   "cell_type": "code",
   "execution_count": 27,
   "metadata": {},
   "outputs": [
    {
     "data": {
      "text/html": [
       "<iframe id=\"igraph\" scrolling=\"no\" style=\"border:none;\" seamless=\"seamless\" src=\"https://plot.ly/~adyke/19.embed\" height=\"525px\" width=\"100%\"></iframe>"
      ],
      "text/plain": [
       "<plotly.tools.PlotlyDisplay object>"
      ]
     },
     "execution_count": 27,
     "metadata": {},
     "output_type": "execute_result"
    }
   ],
   "source": [
    "valueFam = cleanFamily.iTransportation\n",
    "valueSingle = cleanSingle.iTransportation\n",
    "\n",
    "incomeFam = cleanFamily.FINCBTXM\n",
    "incomeSingle = cleanSingle.FINCBTXM\n",
    "\n",
    "famCoefficients = np.polyfit(incomeFam, valueFam, deg = 3)\n",
    "singleCoefficients = np.polyfit(incomeSingle, valueSingle, deg = 3)\n",
    "\n",
    "famP = np.poly1d(famCoefficients)\n",
    "singleP = np.poly1d(singleCoefficients)\n",
    "\n",
    "trace0 = go.Scatter(x = incomeFam,\n",
    "                    y = valueFam, \n",
    "                    mode = 'markers',\n",
    "                    name = \"Family Points\",\n",
    "                    marker = dict(\n",
    "                        size = 3,\n",
    "                        color = 'rgba(255, 125, 5, 1)'))\n",
    "trace1 = go.Scatter(x = x, \n",
    "                    y = famP(x),\n",
    "                    name = \"Family Regression\",\n",
    "                    mode = \"lines\", \n",
    "                   line = dict(color = 'rgba(255,5,9,1)'))\n",
    "\n",
    "trace2 = go.Scatter(x = incomeSingle,\n",
    "                    y = valueSingle, \n",
    "                    mode = 'markers',\n",
    "                    name = \"Single Points\",\n",
    "                    marker = dict(\n",
    "                        size = 3,\n",
    "                        color = 'rgba(5, 255, 250, 1)'))\n",
    "trace3 = go.Scatter(x = x, \n",
    "                    y = singleP(x),\n",
    "                    name = \"Single Regression\",\n",
    "                    mode = \"lines\", \n",
    "                   line = dict(color = 'rgba(5, 9, 255,1)'))\n",
    "\n",
    "layout = dict(title = 'Family Vs Single Transportation Expenses',\n",
    "              xaxis = dict(title = 'Income Before Taxes'),\n",
    "              yaxis = dict(title = 'Amount Spent on Transportation'),\n",
    "              )\n",
    "\n",
    "data = [trace0,trace1, trace2, trace3]\n",
    "fig = dict(data=data, layout=layout)\n",
    "py.iplot(fig, filename=\"Family Vs Single Transportation\")"
   ]
  },
  {
   "cell_type": "code",
   "execution_count": 28,
   "metadata": {},
   "outputs": [
    {
     "data": {
      "text/html": [
       "<iframe id=\"igraph\" scrolling=\"no\" style=\"border:none;\" seamless=\"seamless\" src=\"https://plot.ly/~adyke/21.embed\" height=\"525px\" width=\"100%\"></iframe>"
      ],
      "text/plain": [
       "<plotly.tools.PlotlyDisplay object>"
      ]
     },
     "execution_count": 28,
     "metadata": {},
     "output_type": "execute_result"
    }
   ],
   "source": [
    "valueFam = cleanFamily.iHealthcare\n",
    "valueSingle = cleanSingle.iHealthcare\n",
    "\n",
    "incomeFam = cleanFamily.FINCBTXM\n",
    "incomeSingle = cleanSingle.FINCBTXM\n",
    "\n",
    "famCoefficients = np.polyfit(incomeFam, valueFam, deg = 3)\n",
    "singleCoefficients = np.polyfit(incomeSingle, valueSingle, deg = 3)\n",
    "\n",
    "famP = np.poly1d(famCoefficients)\n",
    "singleP = np.poly1d(singleCoefficients)\n",
    "\n",
    "trace0 = go.Scatter(x = incomeFam,\n",
    "                    y = valueFam, \n",
    "                    mode = 'markers',\n",
    "                    name = \"Family Points\",\n",
    "                    marker = dict(\n",
    "                        size = 3,\n",
    "                        color = 'rgba(255, 125, 5, 1)'))\n",
    "trace1 = go.Scatter(x = x, \n",
    "                    y = famP(x),\n",
    "                    name = \"Family Regression\",\n",
    "                    mode = \"lines\", \n",
    "                   line = dict(color = 'rgba(255,5,9,1)'))\n",
    "\n",
    "trace2 = go.Scatter(x = incomeSingle,\n",
    "                    y = valueSingle, \n",
    "                    mode = 'markers',\n",
    "                    name = \"Single Points\",\n",
    "                    marker = dict(\n",
    "                        size = 3,\n",
    "                        color = 'rgba(5, 255, 250, 1)'))\n",
    "trace3 = go.Scatter(x = x, \n",
    "                    y = singleP(x),\n",
    "                    name = \"Single Regression\",\n",
    "                    mode = \"lines\", \n",
    "                   line = dict(color = 'rgba(5, 9, 255,1)'))\n",
    "\n",
    "layout = dict(title = 'Family Vs Single Healthcare Expenses',\n",
    "              xaxis = dict(title = 'Income Before Taxes'),\n",
    "              yaxis = dict(title = 'Amount Spent on Healthcare'),\n",
    "              )\n",
    "\n",
    "data = [trace0,trace1, trace2, trace3]\n",
    "fig = dict(data=data, layout=layout)\n",
    "py.iplot(fig, filename=\"Family Vs Single Healthcare\")"
   ]
  },
  {
   "cell_type": "code",
   "execution_count": 29,
   "metadata": {},
   "outputs": [],
   "source": [
    "# cleanPercentagesFamily"
   ]
  },
  {
   "cell_type": "code",
   "execution_count": 30,
   "metadata": {},
   "outputs": [],
   "source": [
    "# cleanPercentagesSingle"
   ]
  },
  {
   "cell_type": "code",
   "execution_count": 31,
   "metadata": {},
   "outputs": [
    {
     "data": {
      "text/html": [
       "<div>\n",
       "<table border=\"1\" class=\"dataframe\">\n",
       "  <thead>\n",
       "    <tr style=\"text-align: right;\">\n",
       "      <th></th>\n",
       "      <th>iFoodAtHome</th>\n",
       "      <th>iFoodAway</th>\n",
       "      <th>iHousing</th>\n",
       "      <th>iUtilites</th>\n",
       "      <th>iClothingAndBeauty</th>\n",
       "      <th>iTransportation</th>\n",
       "      <th>iHealthcare</th>\n",
       "      <th>iEntertainment</th>\n",
       "      <th>iMiscellaneous</th>\n",
       "      <th>iCharitableAndFamilyGiving</th>\n",
       "      <th>iInsurance</th>\n",
       "      <th>iEducation</th>\n",
       "      <th>iHousingPrinciple</th>\n",
       "      <th>ExpInc</th>\n",
       "    </tr>\n",
       "  </thead>\n",
       "  <tbody>\n",
       "    <tr>\n",
       "      <th>0</th>\n",
       "      <td>-0.007849</td>\n",
       "      <td>0.020395</td>\n",
       "      <td>0.011288</td>\n",
       "      <td>-0.005051</td>\n",
       "      <td>0.002215</td>\n",
       "      <td>0.002263</td>\n",
       "      <td>-0.034382</td>\n",
       "      <td>-0.004846</td>\n",
       "      <td>-0.000823</td>\n",
       "      <td>-0.007990</td>\n",
       "      <td>-0.001076</td>\n",
       "      <td>0.0</td>\n",
       "      <td>-0.025856</td>\n",
       "      <td>0.000000</td>\n",
       "    </tr>\n",
       "    <tr>\n",
       "      <th>1</th>\n",
       "      <td>-0.014361</td>\n",
       "      <td>0.002365</td>\n",
       "      <td>0.035769</td>\n",
       "      <td>0.011647</td>\n",
       "      <td>0.000789</td>\n",
       "      <td>-0.012227</td>\n",
       "      <td>-0.023995</td>\n",
       "      <td>-0.001570</td>\n",
       "      <td>0.002165</td>\n",
       "      <td>-0.005844</td>\n",
       "      <td>-0.004000</td>\n",
       "      <td>0.0</td>\n",
       "      <td>-0.009262</td>\n",
       "      <td>0.000000</td>\n",
       "    </tr>\n",
       "    <tr>\n",
       "      <th>2</th>\n",
       "      <td>-0.013826</td>\n",
       "      <td>-0.004079</td>\n",
       "      <td>0.056713</td>\n",
       "      <td>-0.006676</td>\n",
       "      <td>-0.001973</td>\n",
       "      <td>-0.006061</td>\n",
       "      <td>-0.024634</td>\n",
       "      <td>0.006612</td>\n",
       "      <td>-0.002937</td>\n",
       "      <td>-0.002058</td>\n",
       "      <td>-0.003930</td>\n",
       "      <td>0.0</td>\n",
       "      <td>-0.002849</td>\n",
       "      <td>-0.141711</td>\n",
       "    </tr>\n",
       "    <tr>\n",
       "      <th>3</th>\n",
       "      <td>-0.020220</td>\n",
       "      <td>-0.004231</td>\n",
       "      <td>0.119189</td>\n",
       "      <td>-0.017679</td>\n",
       "      <td>0.001736</td>\n",
       "      <td>-0.003276</td>\n",
       "      <td>-0.037606</td>\n",
       "      <td>0.005856</td>\n",
       "      <td>-0.007343</td>\n",
       "      <td>-0.005804</td>\n",
       "      <td>-0.004884</td>\n",
       "      <td>0.0</td>\n",
       "      <td>0.025739</td>\n",
       "      <td>-0.145516</td>\n",
       "    </tr>\n",
       "    <tr>\n",
       "      <th>4</th>\n",
       "      <td>-0.025106</td>\n",
       "      <td>0.007428</td>\n",
       "      <td>0.132794</td>\n",
       "      <td>0.003465</td>\n",
       "      <td>-0.004893</td>\n",
       "      <td>-0.015218</td>\n",
       "      <td>-0.072259</td>\n",
       "      <td>0.004124</td>\n",
       "      <td>-0.004670</td>\n",
       "      <td>-0.011890</td>\n",
       "      <td>-0.004706</td>\n",
       "      <td>0.0</td>\n",
       "      <td>0.009070</td>\n",
       "      <td>-0.168351</td>\n",
       "    </tr>\n",
       "    <tr>\n",
       "      <th>5</th>\n",
       "      <td>-0.023443</td>\n",
       "      <td>0.030304</td>\n",
       "      <td>0.145086</td>\n",
       "      <td>-0.024140</td>\n",
       "      <td>0.014343</td>\n",
       "      <td>-0.004217</td>\n",
       "      <td>-0.085188</td>\n",
       "      <td>-0.009191</td>\n",
       "      <td>-0.010937</td>\n",
       "      <td>-0.019229</td>\n",
       "      <td>-0.004575</td>\n",
       "      <td>0.0</td>\n",
       "      <td>0.008814</td>\n",
       "      <td>-0.158182</td>\n",
       "    </tr>\n",
       "    <tr>\n",
       "      <th>6</th>\n",
       "      <td>-0.044564</td>\n",
       "      <td>0.006644</td>\n",
       "      <td>0.081492</td>\n",
       "      <td>-0.008756</td>\n",
       "      <td>0.004349</td>\n",
       "      <td>-0.007171</td>\n",
       "      <td>-0.021902</td>\n",
       "      <td>0.013392</td>\n",
       "      <td>-0.001402</td>\n",
       "      <td>-0.008412</td>\n",
       "      <td>-0.003101</td>\n",
       "      <td>0.0</td>\n",
       "      <td>0.010570</td>\n",
       "      <td>-0.097001</td>\n",
       "    </tr>\n",
       "  </tbody>\n",
       "</table>\n",
       "</div>"
      ],
      "text/plain": [
       "   iFoodAtHome  iFoodAway  iHousing  iUtilites  iClothingAndBeauty  \\\n",
       "0    -0.007849   0.020395  0.011288  -0.005051            0.002215   \n",
       "1    -0.014361   0.002365  0.035769   0.011647            0.000789   \n",
       "2    -0.013826  -0.004079  0.056713  -0.006676           -0.001973   \n",
       "3    -0.020220  -0.004231  0.119189  -0.017679            0.001736   \n",
       "4    -0.025106   0.007428  0.132794   0.003465           -0.004893   \n",
       "5    -0.023443   0.030304  0.145086  -0.024140            0.014343   \n",
       "6    -0.044564   0.006644  0.081492  -0.008756            0.004349   \n",
       "\n",
       "   iTransportation  iHealthcare  iEntertainment  iMiscellaneous  \\\n",
       "0         0.002263    -0.034382       -0.004846       -0.000823   \n",
       "1        -0.012227    -0.023995       -0.001570        0.002165   \n",
       "2        -0.006061    -0.024634        0.006612       -0.002937   \n",
       "3        -0.003276    -0.037606        0.005856       -0.007343   \n",
       "4        -0.015218    -0.072259        0.004124       -0.004670   \n",
       "5        -0.004217    -0.085188       -0.009191       -0.010937   \n",
       "6        -0.007171    -0.021902        0.013392       -0.001402   \n",
       "\n",
       "   iCharitableAndFamilyGiving  iInsurance  iEducation  iHousingPrinciple  \\\n",
       "0                   -0.007990   -0.001076         0.0          -0.025856   \n",
       "1                   -0.005844   -0.004000         0.0          -0.009262   \n",
       "2                   -0.002058   -0.003930         0.0          -0.002849   \n",
       "3                   -0.005804   -0.004884         0.0           0.025739   \n",
       "4                   -0.011890   -0.004706         0.0           0.009070   \n",
       "5                   -0.019229   -0.004575         0.0           0.008814   \n",
       "6                   -0.008412   -0.003101         0.0           0.010570   \n",
       "\n",
       "     ExpInc  \n",
       "0  0.000000  \n",
       "1  0.000000  \n",
       "2 -0.141711  \n",
       "3 -0.145516  \n",
       "4 -0.168351  \n",
       "5 -0.158182  \n",
       "6 -0.097001  "
      ]
     },
     "execution_count": 31,
     "metadata": {},
     "output_type": "execute_result"
    }
   ],
   "source": [
    "(cleanPercentagesSingle.ix[:6] - cleanPercentagesFamily.ix[:6])"
   ]
  }
 ],
 "metadata": {
  "kernelspec": {
   "display_name": "Python 3",
   "language": "python",
   "name": "python3"
  },
  "language_info": {
   "codemirror_mode": {
    "name": "ipython",
    "version": 3
   },
   "file_extension": ".py",
   "mimetype": "text/x-python",
   "name": "python",
   "nbconvert_exporter": "python",
   "pygments_lexer": "ipython3",
   "version": "3.6.0"
  },
  "widgets": {
   "state": {
    "0068692ac0bc411882a87b1a14dcfe10": {
     "views": [
      {
       "cell_index": 4
      }
     ]
    },
    "0bb2a8ec3efd4b92929860f0bd5905e0": {
     "views": [
      {
       "cell_index": 4
      }
     ]
    },
    "100206eef84d4173abc40ab8904f8ad5": {
     "views": [
      {
       "cell_index": 4
      }
     ]
    },
    "1b9d1660c8c64ec9952ea8a110d1f45b": {
     "views": [
      {
       "cell_index": 4
      }
     ]
    },
    "206b339cc5fa431eb2bfdf4a002fbee4": {
     "views": [
      {
       "cell_index": 4
      }
     ]
    },
    "27544fcbcde6482ab4785aca6aad69f9": {
     "views": [
      {
       "cell_index": 4
      }
     ]
    },
    "2c4068db76574349ba22032b0e0389bf": {
     "views": [
      {
       "cell_index": 4
      }
     ]
    },
    "385321efd2764b82add0b60833dab624": {
     "views": [
      {
       "cell_index": 4
      }
     ]
    },
    "48f62472d15647e9b82c65dcdbdc25b1": {
     "views": [
      {
       "cell_index": 4
      }
     ]
    },
    "516d2b0274bb45bfaec4433d691dc6ec": {
     "views": [
      {
       "cell_index": 4
      }
     ]
    },
    "522fbf9e096342859c5801ecb6e99658": {
     "views": [
      {
       "cell_index": 4
      }
     ]
    },
    "6fdc0a4cf68b438fac80ab3e4b83d19f": {
     "views": [
      {
       "cell_index": 4
      }
     ]
    },
    "91413111d50544c48166272bb0472126": {
     "views": [
      {
       "cell_index": 4
      }
     ]
    },
    "a89892d026274481bc6291f33d61d7e5": {
     "views": [
      {
       "cell_index": 4
      }
     ]
    },
    "ba65bfee910c4112af5658a6e6a2ef70": {
     "views": [
      {
       "cell_index": 4
      }
     ]
    },
    "c5763faee881469485888bfe55e988d1": {
     "views": [
      {
       "cell_index": 4
      }
     ]
    },
    "ca4f506cd0b14565b07e8899cf82befe": {
     "views": [
      {
       "cell_index": 4
      }
     ]
    },
    "d3b4abc7c62c4b0aa661a9f52260198b": {
     "views": [
      {
       "cell_index": 4
      }
     ]
    },
    "dfcd57085b0c46b6ac49e9f39fb3ffb5": {
     "views": [
      {
       "cell_index": 4
      }
     ]
    },
    "ed7c8b262ece470aafa8df3c2730a563": {
     "views": [
      {
       "cell_index": 4
      }
     ]
    },
    "f31852a1231145c08bf5cf8b6a3e888c": {
     "views": [
      {
       "cell_index": 4
      }
     ]
    },
    "fc7c33a10615450991993c8d4d270f86": {
     "views": [
      {
       "cell_index": 4
      }
     ]
    }
   },
   "version": "1.2.0"
  }
 },
 "nbformat": 4,
 "nbformat_minor": 2
}
