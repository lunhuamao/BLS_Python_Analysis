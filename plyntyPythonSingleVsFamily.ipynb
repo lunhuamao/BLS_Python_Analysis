{
 "cells": [
  {
   "cell_type": "markdown",
   "metadata": {
    "slideshow": {
     "slide_type": "slide"
    }
   },
   "source": [
    "# Plynty Bureau of Labor Statistics Consumer Expenditure Analysis\n",
    "\n",
    "[BLS Comsumer Expenditure Survey](https://www.bls.gov/cex/home.htm)\n",
    "\n",
    "[Interview Data Dictionary](https://www.bls.gov/cex/2015/csxintvwdata.pdf)\n",
    "\n",
    "[Diary Data Dictionary](https://www.bls.gov/cex/2015/csxdiarydata.pdf)\n",
    "\n",
    "### Where to download the BLS CE PUMD\n",
    "- The zip files download automatically\n",
    "- To download the Stub files open the links then right click and choose \"Save As...\"\n",
    "\n",
    "[2015 interview zip file](https://www.bls.gov/cex/pumd/data/comma/intrvw15.zip)\n",
    "\n",
    "[2015 diary zip file](https://www.bls.gov/cex/pumd/data/comma/diary15.zip)\n",
    "\n",
    "[2015 IntStub file](https://www.bls.gov/cex/pumd/2014/csxintstub.txt)\n",
    "\n",
    "[2015 IStub file](https://www.bls.gov/cex/pumd/2014/csxistub.txt)\n",
    "\n",
    "[2015 DStub file](https://www.bls.gov/cex/pumd/2014/csxdstub.txt)\n",
    "\n",
    "### This Scripts Goals for Plynty\n",
    "- Create an easy to use analysis script for the BLS CE PUMD \n",
    "- Create a csv files that has average percentages spent on plynty categories for certain income classes\n",
    "- Compare the Family CUs vs the Single person CUs"
   ]
  },
  {
   "cell_type": "markdown",
   "metadata": {
    "slideshow": {
     "slide_type": "slide"
    }
   },
   "source": [
    "##### Importing Libraries "
   ]
  },
  {
   "cell_type": "code",
   "execution_count": 1,
   "metadata": {
    "collapsed": false,
    "slideshow": {
     "slide_type": "subslide"
    }
   },
   "outputs": [
    {
     "name": "stdout",
     "output_type": "stream",
     "text": [
      "Dependencies Loaded...\n"
     ]
    }
   ],
   "source": [
    "import pandas as pd\n",
    "import numpy as np\n",
    "import os\n",
    "import subprocess\n",
    "import math\n",
    "import matplotlib.pyplot as plt\n",
    "from scipy.interpolate import *\n",
    "from plyntywidgets import *\n",
    "from blsFunctions import *\n",
    "\n",
    "import plotly\n",
    "import plotly.plotly as py\n",
    "import plotly.graph_objs as go\n",
    "plotly.tools.set_credentials_file(username='adyke', api_key='wSGAvFQyxDbbXm8etral')\n",
    "\n",
    "print(\"Dependencies Loaded...\")"
   ]
  },
  {
   "cell_type": "markdown",
   "metadata": {},
   "source": [
    "### Setting Parameters\n",
    "- year: the last two number associated with the year of the data\n",
    "    for example for data from 2015: year = \"15\"\n",
    "- minAge: the low bound (inclusive) of the age range you wish to subset by\n",
    "- maxAge: the high bound (inclusive) of the age range you wish to subset by\n",
    "- incomeBrackets: array of numbers that you wish to create the new income classes\n",
    "    the bracketing works as follows (1,2], (2,3], (3,4]\n",
    "- filesToRead: the strings of the abbreviations associated with the files you wish to read\n",
    "    options are: \"all\", \"diary\", \"interview\", \"dtbd\", \"expd\", \"fmld\", \"memd\", \"fmli\", \"itbi\", \"memi\", \"mtbi\", \"ntaxi\""
   ]
  },
  {
   "cell_type": "code",
   "execution_count": 2,
   "metadata": {
    "collapsed": false
   },
   "outputs": [],
   "source": [
    "year = \"15\"\n",
    "filesToRead = [\"fmli\", \"mtbi\"]\n",
    "incomeBrackets = [-10000000, 10000, 20000, 40000, 60000, 80000, 90000, 130000, 160000, 240000, 9990000]\n",
    "minAge = 60\n",
    "maxAge = 75"
   ]
  },
  {
   "cell_type": "markdown",
   "metadata": {},
   "source": [
    "### Setting Directory locations and FileNames on your Local Machine"
   ]
  },
  {
   "cell_type": "code",
   "execution_count": 3,
   "metadata": {
    "collapsed": false
   },
   "outputs": [],
   "source": [
    "# directory in which the diary and interview folders are held is located\n",
    "diaryDir = \"/Users/adyke/Vizuri/CE_PUMD/diary15/\"\n",
    "interviewDir = \"/Users/adyke/Vizuri/CE_PUMD/intrvw15/\"\n",
    "\n",
    "# Directory where stubfiles are located\n",
    "pathToStubFileDir = \"/Users/adyke/Vizuri/Stubfiles/\"\n",
    "rScriptStubfilePathAndName = \"/Users/adyke/Vizuri/BLS_Python_Analysis/creatingStubCsvs.R\"\n",
    "\n",
    "# Filenames of the Stubfiles\n",
    "IStubFileName = \"IStub2015.txt\"\n",
    "DStubFileName = \"DStub2015.txt\"\n",
    "IntStubFileName = \"IntStub2015.txt\"\n",
    "\n",
    "# name of interview dir within the interview dir\n",
    "insideIntrvwDirName = \"intrvw\"\n",
    "\n",
    "# name of the directory where you want the output percentages csv\n",
    "outputDir = \"/Users/adyke/Vizuri/outputFiles/\""
   ]
  },
  {
   "cell_type": "markdown",
   "metadata": {},
   "source": [
    "### Reading in the files specified by FilesToRead"
   ]
  },
  {
   "cell_type": "code",
   "execution_count": 4,
   "metadata": {
    "collapsed": false
   },
   "outputs": [],
   "source": [
    "if(len(filesToRead)==0):\n",
    "    print(\"The files to read variable is empty.\")\n",
    "\n",
    "# looping through each file to read\n",
    "for file in filesToRead:\n",
    "    if file == \"dtbd\" or file == \"all\" or file == \"diary\":\n",
    "        dtbd = readFileSet(\"dtbd\", diaryDir)\n",
    "    if file == \"expd\" or file == \"all\" or file == \"diary\":\n",
    "        expd = readFileSet(\"expd\", diaryDir)\n",
    "    if file == \"fmld\" or file == \"all\" or file == \"diary\":\n",
    "        fmld = readFileSet(\"fmld\", diaryDir)\n",
    "    if file == \"memd\" or file == \"all\" or file == \"diary\":\n",
    "        memd = readFileSet(\"memd\", diaryDir)\n",
    "    if file == \"fmli\" or file == \"all\" or file == \"interview\":\n",
    "        fmli = readFileSet(\"fmli\", interviewDir+insideIntrvwDirName+year+\"/\")\n",
    "    if file == \"itbi\" or file == \"all\" or file == \"interview\":\n",
    "        itbi = readFileSet(\"itbi\", interviewDir+insideIntrvwDirName+year+\"/\")\n",
    "    if file == \"itii\" or file == \"all\" or file == \"interview\":\n",
    "        itii = readFileSet(\"itii\", interviewDir+insideIntrvwDirName+year+\"/\")\n",
    "    if file == \"memi\" or file == \"all\" or file == \"interview\":\n",
    "        memi = readFileSet(\"memi\", interviewDir+insideIntrvwDirName+year+\"/\")\n",
    "    if file == \"mtbi\" or file == \"all\" or file == \"interview\":\n",
    "        mtbi = readFileSet(\"mtbi\", interviewDir+insideIntrvwDirName+year+\"/\")\n",
    "        mtbi.UCC = mtbi.UCC.astype(str)\n",
    "    if file == \"ntaxi\" or file == \"all\" or file == \"interview\":\n",
    "        ntaxi = readFileSet(\"ntaxi\", interviewDir+insideIntrvwDirName+year+\"/\")\n",
    "# does not read form the expn or para subdirectories\n"
   ]
  },
  {
   "cell_type": "markdown",
   "metadata": {},
   "source": [
    "### Using R to convert the Stub files into csv files"
   ]
  },
  {
   "cell_type": "code",
   "execution_count": 5,
   "metadata": {
    "collapsed": false
   },
   "outputs": [
    {
     "name": "stdout",
     "output_type": "stream",
     "text": [
      "Stubfiles Exist\n"
     ]
    }
   ],
   "source": [
    "if os.path.isfile(pathToStubFileDir+\"DStub.csv\") and os.path.isfile(pathToStubFileDir+\"IStub.csv\") and os.path.isfile(pathToStubFileDir+\"IntStub.csv\"):\n",
    "    print(\"Stubfiles Exist\")\n",
    "else:\n",
    "    # converting the stub files via R \n",
    "    subprocess.call(\"Rscript \"+rScriptStubfilePathAndName+\" \"+pathToStubFileDir+\" \"+IStubFileName+\" \"+DStubFileName+\" \"+IntStubFileName, shell=True)\n",
    "    print(\"Stubfile Csvs created in \"+pathToStubFileDir)"
   ]
  },
  {
   "cell_type": "markdown",
   "metadata": {},
   "source": [
    "### Reading and Cleaning the stubfile CSVs into pandas dataframes"
   ]
  },
  {
   "cell_type": "code",
   "execution_count": 6,
   "metadata": {
    "collapsed": false
   },
   "outputs": [],
   "source": [
    "# reading in the stubfiles\n",
    "DStub = pd.read_csv(pathToStubFileDir+\"DStub.csv\")\n",
    "IStub = pd.read_csv(pathToStubFileDir+\"IStub.csv\")\n",
    "IntStub = pd.read_csv(pathToStubFileDir+\"IntStub.csv\")\n",
    "\n",
    "# removing the index from the stufile\n",
    "DStub = DStub.drop(DStub.columns[0], axis=1)\n",
    "IStub = IStub.drop(IStub.columns[0], axis=1)\n",
    "IntStub = IntStub.drop(IntStub.columns[0], axis=1)\n",
    "\n",
    "# replacing * with 0 in the level columns\n",
    "DStub.loc[DStub.level == \"*\", 'level'] = 0\n",
    "IStub.loc[IStub.level == \"*\", 'level'] = 0\n",
    "IntStub.loc[IntStub.level == \"*\", 'level'] = 0"
   ]
  },
  {
   "cell_type": "markdown",
   "metadata": {},
   "source": [
    "# Starting the Plynty calculations"
   ]
  },
  {
   "cell_type": "markdown",
   "metadata": {},
   "source": [
    "### Creating the UCC roll ups for Plynty"
   ]
  },
  {
   "cell_type": "code",
   "execution_count": 7,
   "metadata": {
    "collapsed": false
   },
   "outputs": [],
   "source": [
    "# creating UCC rollups for the interview files for plynty categories\n",
    "iTotalExp = categoricalUCCRollUp(IStub,[\"TOTALE\"])\n",
    "iFoodAtHome = categoricalUCCRollUp(IStub, [\"FOODHO\", \"ALCHOM\"])\n",
    "iFoodAway = categoricalUCCRollUp(IStub, [\"FOODAW\", \"ALCAWA\"])\n",
    "iHousing = categoricalUCCRollUp(IStub, [\"HOUSIN\"], ignoreUCCs = categoricalUCCRollUp(IStub, [\"UTILS\"]))\n",
    "iUtilites = categoricalUCCRollUp(IStub, [\"UTILS\"])\n",
    "iClothingAndBeauty = categoricalUCCRollUp(IStub, [\"APPARE\",\"PERSCA\"])\n",
    "iTransportation = categoricalUCCRollUp(IStub, [\"TRANS\"])\n",
    "iHealthcare = categoricalUCCRollUp(IStub, [\"HEALTH\"])\n",
    "iEntertainment = categoricalUCCRollUp(IStub, [\"ENTRTA\",\"READIN\"])\n",
    "iMiscellaneous = categoricalUCCRollUp(IStub, [\"MISC\",\"TOBACC\"])\n",
    "iCharitableAndFamilyGiving = categoricalUCCRollUp(IStub, [\"CASHCO\"])\n",
    "iInsurance = categoricalUCCRollUp(IStub, [\"LIFEIN\"])\n",
    "iEducation = categoricalUCCRollUp(IStub, [\"EDUCAT\"])\n",
    "iHousingPrinciple = categoricalUCCRollUp(IStub,[\"MRTPRI\"])"
   ]
  },
  {
   "cell_type": "markdown",
   "metadata": {},
   "source": [
    "### Adding and Rolling up the MTBI Categories into mtbiRolledUp\n",
    "\n",
    "outputs from cell:\n",
    "- mtbiTrimmed: Dataframe with NewID, TotatlExp and each entry of cost."
   ]
  },
  {
   "cell_type": "code",
   "execution_count": 8,
   "metadata": {
    "collapsed": false
   },
   "outputs": [],
   "source": [
    "rollupNames = [\"iTotalExp\",\"iFoodAtHome\",\"iFoodAway\",\"iHousing\",\"iUtilites\",\"iClothingAndBeauty\",\"iTransportation\",\"iHealthcare\",\"iEntertainment\",\"iMiscellaneous\",\"iCharitableAndFamilyGiving\",\"iInsurance\",\"iEducation\",\"iHousingPrinciple\"]\n",
    "rollups = [iTotalExp,iFoodAtHome,iFoodAway,iHousing,iUtilites,iClothingAndBeauty,iTransportation,iHealthcare,iEntertainment,iMiscellaneous,iCharitableAndFamilyGiving,iInsurance,iEducation,iHousingPrinciple]\n",
    "\n",
    "mtbiRolledUp = rollUpDataframe(mtbi, rollupNames, rollups, negativeColumns=[\"iHousingPrinciple\"], multiple=4)\n",
    "\n",
    "mtbiTrimmed = mtbiRolledUp.loc[: , ['NEWID','iTotalExp','iFoodAtHome','iFoodAway','iHousing','iUtilites','iClothingAndBeauty','iTransportation','iHealthcare','iEntertainment','iMiscellaneous','iCharitableAndFamilyGiving','iInsurance','iEducation','iHousingPrinciple']]"
   ]
  },
  {
   "cell_type": "markdown",
   "metadata": {},
   "source": [
    "### Creating the Sum for all expenditure category columns for each NEWID\n",
    "nonZeroColumns is an array that contains the names of columns that should not be Zero\n",
    "\n",
    "outputs from cell:\n",
    "- iExpensesByNewID: total expenses for each category for each NewID"
   ]
  },
  {
   "cell_type": "code",
   "execution_count": 9,
   "metadata": {
    "collapsed": false
   },
   "outputs": [],
   "source": [
    "# adding up all columns for each new id\n",
    "iExpensesByNewID = mtbiTrimmed.groupby(['NEWID'],as_index=False).sum()\n",
    "# removing rows with zero values in key categories\n",
    "nonZeroColumns = ['iFoodAtHome','iFoodAway','iHousing','iUtilites']\n",
    "for column in nonZeroColumns:\n",
    "    iExpensesByNewID = iExpensesByNewID[iExpensesByNewID[column] != 0]\n",
    "iExpensesByNewID['iHousing'] = iExpensesByNewID['iHousing']+iExpensesByNewID['iHousingPrinciple']"
   ]
  },
  {
   "cell_type": "markdown",
   "metadata": {},
   "source": [
    "### Subestting FMLI for age and recoding the incomebrackets"
   ]
  },
  {
   "cell_type": "code",
   "execution_count": 10,
   "metadata": {
    "collapsed": false,
    "scrolled": true
   },
   "outputs": [],
   "source": [
    "# subsetting for the age bracket\n",
    "fmliAge = subsetDataframe(dataframe=fmli, columnName=\"AGE_REF\", minValue=minAge, maxValue=maxAge)\n",
    "fmliAge = fmliAge.reset_index()\n",
    "\n",
    "# recoding the income brackets\n",
    "fmliRecoded = binColumn(dataframe=fmliAge, toBinColumnName=\"FINCBTXM\", binValues=incomeBrackets, binnedColumnName=\"INCLASS\", labels=range(1,len(incomeBrackets)))"
   ]
  },
  {
   "cell_type": "markdown",
   "metadata": {},
   "source": [
    "### Subsetting for Single person CU and Family CU\n",
    "- should the subsetting be for family size or should it be for single parents?"
   ]
  },
  {
   "cell_type": "code",
   "execution_count": 11,
   "metadata": {},
   "outputs": [],
   "source": [
    "# Family\n",
    "fmliRecodedFamily = fmliRecoded.loc[fmliRecoded.FAM_SIZE > 1]\n",
    "# Single\n",
    "fmliRecodedSingle = fmliRecoded.loc[fmliRecoded.FAM_SIZE == 1]"
   ]
  },
  {
   "cell_type": "markdown",
   "metadata": {},
   "source": [
    "### Adding the Income class colum to the ExpensesByNewID dataframe"
   ]
  },
  {
   "cell_type": "code",
   "execution_count": 12,
   "metadata": {
    "collapsed": false
   },
   "outputs": [],
   "source": [
    "# Family\n",
    "inclassExpensesFamily = pd.merge(left=fmliRecodedFamily[['NEWID','INCLASS','FINCBTXM']],right=iExpensesByNewID, on=['NEWID'])\n",
    "# Single\n",
    "inclassExpensesSingle = pd.merge(left=fmliRecodedSingle[['NEWID','INCLASS','FINCBTXM']],right=iExpensesByNewID, on=['NEWID'])"
   ]
  },
  {
   "cell_type": "markdown",
   "metadata": {},
   "source": [
    "### Averaging the expenditures based on incomebrackets\n",
    "inclassAverages is average money spent for each incomeclass"
   ]
  },
  {
   "cell_type": "code",
   "execution_count": 13,
   "metadata": {
    "collapsed": false,
    "scrolled": false
   },
   "outputs": [],
   "source": [
    "# Family\n",
    "inclassAveragesFamily = round(inclassExpensesFamily.ix[: ,inclassExpensesFamily.columns != 'NEWID'].groupby(['INCLASS'],as_index=False).mean(),2)\n",
    "# Single\n",
    "inclassAveragesSingle = round(inclassExpensesSingle.ix[: ,inclassExpensesSingle.columns != 'NEWID'].groupby(['INCLASS'],as_index=False).mean(),2)"
   ]
  },
  {
   "cell_type": "markdown",
   "metadata": {},
   "source": [
    "### Converting the Average expenditures for income classes into percentages of expenditures\n",
    "percentages is the percent of total expenditure for each category for each incomeclass "
   ]
  },
  {
   "cell_type": "code",
   "execution_count": 14,
   "metadata": {
    "collapsed": false
   },
   "outputs": [],
   "source": [
    "# creating new dataframe for the percentages that only includes the plynty categories\n",
    "percentagesFamily = inclassAveragesFamily.loc[:,rollupNames[1:]]\n",
    "percentagesSingle = inclassAveragesSingle.loc[:,rollupNames[1:]]\n",
    "for column in rollupNames[1:]:\n",
    "    percentagesFamily[column] = inclassAveragesFamily[column]/inclassAveragesFamily.iTotalExp\n",
    "    percentagesSingle[column] = inclassAveragesSingle[column]/inclassAveragesSingle.iTotalExp\n",
    "\n",
    "# Family\n",
    "percentagesFamily['ExpInc'] = inclassAveragesFamily['iTotalExp']/inclassAveragesFamily['FINCBTXM']\n",
    "# Single\n",
    "percentagesSingle['ExpInc'] = inclassAveragesSingle['iTotalExp']/inclassAveragesSingle['FINCBTXM']\n",
    "\n",
    "# Family\n",
    "percentagesFamily.ExpInc.ix[percentagesFamily['ExpInc']>1] = 1\n",
    "# Single\n",
    "percentagesSingle.ExpInc.ix[percentagesSingle['ExpInc']>1] = 1"
   ]
  },
  {
   "cell_type": "markdown",
   "metadata": {},
   "source": [
    "### Removing outliers in iHousing\n",
    " - For each income class\n",
    "    - Find Q1 and Q3\n",
    "    - Calculate IQR\n",
    "    - Find rows outside of Q3/Q2 +/- (1.5 x IQR) and Q3/Q2 +/- (3 x IQR)\n",
    " - Remove Rows from Dataframe\n",
    " - Clean1: Inner Fence\n",
    " - Clean2: Outer Fence"
   ]
  },
  {
   "cell_type": "code",
   "execution_count": 15,
   "metadata": {
    "collapsed": false,
    "scrolled": true
   },
   "outputs": [],
   "source": [
    "# # Family or Single\n",
    "# outliersFamily = inclassExpensesFamily.copy()\n",
    "# outliersSingle = inclassExpensesSingle.copy()\n",
    "\n",
    "# # Family or Single\n",
    "# outerFenceFamily = []\n",
    "# outerFenceSingle = []\n",
    "\n",
    "# for inclass in range(1,len(incomeBrackets)):\n",
    "#     # Family or Single\n",
    "#     outliersInClassFamily = outliersFamily.where(outliersFamily['INCLASS']==inclass)\n",
    "#     Q1 = outliersInClassFamily['iHousing'].quantile(0.25)\n",
    "#     Q3 = outliersInClassFamily['iHousing'].quantile(0.75)\n",
    "#     IQR = Q3 - Q1\n",
    "#     outerFenceFamily.extend(outliersInClassFamily[outliersInClassFamily['iHousing'] < (Q1 - (3 * IQR))].index.tolist())\n",
    "#     outerFenceFamily.extend(outliersInClassFamily[outliersInClassFamily['iHousing'] > (Q3 + (3 * IQR))].index.tolist())\n",
    "    \n",
    "#     outliersInClassSingle = outliersSingle.where(outliersSingle['INCLASS']==inclass)\n",
    "#     Q1 = outliersInClassSingle['iHousing'].quantile(0.25)\n",
    "#     Q3 = outliersInClassSingle['iHousing'].quantile(0.75)\n",
    "#     IQR = Q3 - Q1\n",
    "#     outerFenceSingle.extend(outliersInClassSingle[outliersInClassSingle['iHousing'] < (Q1 - (3 * IQR))].index.tolist())\n",
    "#     outerFenceSingle.extend(outliersInClassSingle[outliersInClassSingle['iHousing'] > (Q3 + (3 * IQR))].index.tolist())\n",
    "\n",
    "\n",
    "# # Family or Single\n",
    "# cleanFamily = outliersFamily.drop(outliersFamily.index[outerFenceFamily])\n",
    "# cleanSingle = outliersSingle.drop(outliersSingle.index[outerFenceSingle])"
   ]
  },
  {
   "cell_type": "code",
   "execution_count": 16,
   "metadata": {},
   "outputs": [],
   "source": [
    "# Family or Single\n",
    "outliersFamily = inclassExpensesFamily.copy()\n",
    "outliersSingle = inclassExpensesSingle.copy()\n",
    "\n",
    "# Family or Single\n",
    "outerFenceFamily = []\n",
    "outerFenceSingle = []\n",
    "\n",
    "for column in outliersFamily.columns[4:len(outliersFamily.columns)-1]:\n",
    "    # Family or Single\n",
    "    Q1 = outliersFamily[column].quantile(0.25)\n",
    "    Q3 = outliersFamily[column].quantile(0.75)\n",
    "    IQR = Q3 - Q1\n",
    "    outerFenceFamily.extend(outliersFamily[outliersFamily[column] < (Q1 - (3 * IQR))].index.tolist())\n",
    "    outerFenceFamily.extend(outliersFamily[outliersFamily[column] > (Q3 + (3 * IQR))].index.tolist())\n",
    "    \n",
    "    Q1 = outliersSingle[column].quantile(0.25)\n",
    "    Q3 = outliersSingle[column].quantile(0.75)\n",
    "    IQR = Q3 - Q1\n",
    "    outerFenceSingle.extend(outliersSingle[outliersSingle[column] < (Q1 - (3 * IQR))].index.tolist())\n",
    "    outerFenceSingle.extend(outliersSingle[outliersSingle[column] > (Q3 + (3 * IQR))].index.tolist())\n",
    "    \n",
    "# Family or Single\n",
    "cleanFamily = outliersFamily.drop(outliersFamily.index[outerFenceFamily])\n",
    "cleanSingle = outliersSingle.drop(outliersSingle.index[outerFenceSingle])"
   ]
  },
  {
   "cell_type": "markdown",
   "metadata": {},
   "source": [
    "### Creating the percentage output for cleaned dataframe"
   ]
  },
  {
   "cell_type": "code",
   "execution_count": 17,
   "metadata": {
    "collapsed": false,
    "scrolled": true
   },
   "outputs": [],
   "source": [
    "# Family\n",
    "inclassCleanAveragesFamily = round(cleanFamily.ix[: ,cleanFamily.columns != 'NEWID'].groupby(['INCLASS'],as_index=False).mean(),2)\n",
    "# creating new dataframe for the percentages that only includes the plynty categories\n",
    "cleanPercentagesFamily = inclassCleanAveragesFamily.loc[:,rollupNames[1:]]\n",
    "for column in rollupNames[1:]:\n",
    "    cleanPercentagesFamily[column] = inclassCleanAveragesFamily[column]/inclassCleanAveragesFamily.iTotalExp\n",
    "cleanPercentagesFamily['ExpInc'] = inclassCleanAveragesFamily['iTotalExp']/inclassCleanAveragesFamily['FINCBTXM']\n",
    "# truncate the max ExpInc\n",
    "cleanPercentagesNonTruncatedFamily = cleanPercentagesFamily.copy()\n",
    "cleanPercentagesFamily.ExpInc.ix[cleanPercentagesFamily['ExpInc']>1] = 1\n",
    "# cleanPercentagesFamily\n",
    "\n",
    "# Single\n",
    "inclassCleanAveragesSingle = round(cleanSingle.ix[: ,cleanSingle.columns != 'NEWID'].groupby(['INCLASS'],as_index=False).mean(),2)\n",
    "# creating new dataframe for the percentages that only includes the plynty categories\n",
    "cleanPercentagesSingle = inclassCleanAveragesSingle.loc[:,rollupNames[1:]]\n",
    "for column in rollupNames[1:]:\n",
    "    cleanPercentagesSingle[column] = inclassCleanAveragesSingle[column]/inclassCleanAveragesSingle.iTotalExp\n",
    "cleanPercentagesSingle['ExpInc'] = inclassCleanAveragesSingle['iTotalExp']/inclassCleanAveragesSingle['FINCBTXM']\n",
    "# truncate the max ExpInc\n",
    "cleanPercentagesNonTruncatedSingle = cleanPercentagesSingle.copy()\n",
    "cleanPercentagesSingle.ExpInc.ix[cleanPercentagesSingle['ExpInc']>1] = 1\n",
    "# cleanPercentagesSingle"
   ]
  },
  {
   "cell_type": "code",
   "execution_count": 18,
   "metadata": {},
   "outputs": [
    {
     "data": {
      "text/html": [
       "<div>\n",
       "<table border=\"1\" class=\"dataframe\">\n",
       "  <thead>\n",
       "    <tr style=\"text-align: right;\">\n",
       "      <th></th>\n",
       "      <th>iFoodAtHome</th>\n",
       "      <th>iFoodAway</th>\n",
       "      <th>iHousing</th>\n",
       "      <th>iUtilites</th>\n",
       "      <th>iClothingAndBeauty</th>\n",
       "      <th>iTransportation</th>\n",
       "      <th>iHealthcare</th>\n",
       "      <th>iEntertainment</th>\n",
       "      <th>iMiscellaneous</th>\n",
       "      <th>iCharitableAndFamilyGiving</th>\n",
       "      <th>iInsurance</th>\n",
       "      <th>iEducation</th>\n",
       "      <th>iHousingPrinciple</th>\n",
       "      <th>ExpInc</th>\n",
       "    </tr>\n",
       "  </thead>\n",
       "  <tbody>\n",
       "    <tr>\n",
       "      <th>0</th>\n",
       "      <td>0.159669</td>\n",
       "      <td>0.059295</td>\n",
       "      <td>0.344118</td>\n",
       "      <td>0.120144</td>\n",
       "      <td>0.025205</td>\n",
       "      <td>0.116789</td>\n",
       "      <td>0.145258</td>\n",
       "      <td>0.048830</td>\n",
       "      <td>0.010756</td>\n",
       "      <td>0.028960</td>\n",
       "      <td>0.001076</td>\n",
       "      <td>0.0</td>\n",
       "      <td>0.060101</td>\n",
       "      <td>1.000000</td>\n",
       "    </tr>\n",
       "    <tr>\n",
       "      <th>1</th>\n",
       "      <td>0.167739</td>\n",
       "      <td>0.068461</td>\n",
       "      <td>0.292980</td>\n",
       "      <td>0.124457</td>\n",
       "      <td>0.023041</td>\n",
       "      <td>0.116604</td>\n",
       "      <td>0.138189</td>\n",
       "      <td>0.055086</td>\n",
       "      <td>0.008055</td>\n",
       "      <td>0.031833</td>\n",
       "      <td>0.004000</td>\n",
       "      <td>0.0</td>\n",
       "      <td>0.030446</td>\n",
       "      <td>1.000000</td>\n",
       "    </tr>\n",
       "    <tr>\n",
       "      <th>2</th>\n",
       "      <td>0.158044</td>\n",
       "      <td>0.071533</td>\n",
       "      <td>0.281357</td>\n",
       "      <td>0.122716</td>\n",
       "      <td>0.024302</td>\n",
       "      <td>0.119596</td>\n",
       "      <td>0.159655</td>\n",
       "      <td>0.048516</td>\n",
       "      <td>0.011985</td>\n",
       "      <td>0.030585</td>\n",
       "      <td>0.003930</td>\n",
       "      <td>0.0</td>\n",
       "      <td>0.032218</td>\n",
       "      <td>1.000000</td>\n",
       "    </tr>\n",
       "    <tr>\n",
       "      <th>3</th>\n",
       "      <td>0.145379</td>\n",
       "      <td>0.068653</td>\n",
       "      <td>0.284509</td>\n",
       "      <td>0.120121</td>\n",
       "      <td>0.025801</td>\n",
       "      <td>0.129358</td>\n",
       "      <td>0.160616</td>\n",
       "      <td>0.053296</td>\n",
       "      <td>0.013607</td>\n",
       "      <td>0.031785</td>\n",
       "      <td>0.004884</td>\n",
       "      <td>0.0</td>\n",
       "      <td>0.038010</td>\n",
       "      <td>0.732101</td>\n",
       "    </tr>\n",
       "    <tr>\n",
       "      <th>4</th>\n",
       "      <td>0.137264</td>\n",
       "      <td>0.068145</td>\n",
       "      <td>0.320006</td>\n",
       "      <td>0.103722</td>\n",
       "      <td>0.029736</td>\n",
       "      <td>0.123512</td>\n",
       "      <td>0.155642</td>\n",
       "      <td>0.053048</td>\n",
       "      <td>0.009405</td>\n",
       "      <td>0.035651</td>\n",
       "      <td>0.004706</td>\n",
       "      <td>0.0</td>\n",
       "      <td>0.040836</td>\n",
       "      <td>0.617853</td>\n",
       "    </tr>\n",
       "    <tr>\n",
       "      <th>5</th>\n",
       "      <td>0.135488</td>\n",
       "      <td>0.060681</td>\n",
       "      <td>0.350332</td>\n",
       "      <td>0.106843</td>\n",
       "      <td>0.025688</td>\n",
       "      <td>0.121201</td>\n",
       "      <td>0.159855</td>\n",
       "      <td>0.048920</td>\n",
       "      <td>0.011102</td>\n",
       "      <td>0.040358</td>\n",
       "      <td>0.004575</td>\n",
       "      <td>0.0</td>\n",
       "      <td>0.065044</td>\n",
       "      <td>0.547367</td>\n",
       "    </tr>\n",
       "    <tr>\n",
       "      <th>6</th>\n",
       "      <td>0.136872</td>\n",
       "      <td>0.073941</td>\n",
       "      <td>0.353080</td>\n",
       "      <td>0.109734</td>\n",
       "      <td>0.032681</td>\n",
       "      <td>0.138061</td>\n",
       "      <td>0.127792</td>\n",
       "      <td>0.049828</td>\n",
       "      <td>0.008867</td>\n",
       "      <td>0.033172</td>\n",
       "      <td>0.003101</td>\n",
       "      <td>0.0</td>\n",
       "      <td>0.067129</td>\n",
       "      <td>0.450219</td>\n",
       "    </tr>\n",
       "    <tr>\n",
       "      <th>7</th>\n",
       "      <td>0.119386</td>\n",
       "      <td>0.065671</td>\n",
       "      <td>0.409393</td>\n",
       "      <td>0.104050</td>\n",
       "      <td>0.032733</td>\n",
       "      <td>0.120023</td>\n",
       "      <td>0.115897</td>\n",
       "      <td>0.049831</td>\n",
       "      <td>0.006080</td>\n",
       "      <td>0.035320</td>\n",
       "      <td>0.003859</td>\n",
       "      <td>0.0</td>\n",
       "      <td>0.062242</td>\n",
       "      <td>0.383585</td>\n",
       "    </tr>\n",
       "    <tr>\n",
       "      <th>8</th>\n",
       "      <td>0.129583</td>\n",
       "      <td>0.077775</td>\n",
       "      <td>0.383510</td>\n",
       "      <td>0.102270</td>\n",
       "      <td>0.031619</td>\n",
       "      <td>0.146652</td>\n",
       "      <td>0.106498</td>\n",
       "      <td>0.049254</td>\n",
       "      <td>0.009097</td>\n",
       "      <td>0.026374</td>\n",
       "      <td>0.002236</td>\n",
       "      <td>0.0</td>\n",
       "      <td>0.064868</td>\n",
       "      <td>0.297602</td>\n",
       "    </tr>\n",
       "    <tr>\n",
       "      <th>9</th>\n",
       "      <td>0.131719</td>\n",
       "      <td>0.084789</td>\n",
       "      <td>0.424544</td>\n",
       "      <td>0.096478</td>\n",
       "      <td>0.041086</td>\n",
       "      <td>0.117829</td>\n",
       "      <td>0.081025</td>\n",
       "      <td>0.043343</td>\n",
       "      <td>0.006484</td>\n",
       "      <td>0.018586</td>\n",
       "      <td>0.002684</td>\n",
       "      <td>0.0</td>\n",
       "      <td>0.048566</td>\n",
       "      <td>0.209945</td>\n",
       "    </tr>\n",
       "  </tbody>\n",
       "</table>\n",
       "</div>"
      ],
      "text/plain": [
       "   iFoodAtHome  iFoodAway  iHousing  iUtilites  iClothingAndBeauty  \\\n",
       "0     0.159669   0.059295  0.344118   0.120144            0.025205   \n",
       "1     0.167739   0.068461  0.292980   0.124457            0.023041   \n",
       "2     0.158044   0.071533  0.281357   0.122716            0.024302   \n",
       "3     0.145379   0.068653  0.284509   0.120121            0.025801   \n",
       "4     0.137264   0.068145  0.320006   0.103722            0.029736   \n",
       "5     0.135488   0.060681  0.350332   0.106843            0.025688   \n",
       "6     0.136872   0.073941  0.353080   0.109734            0.032681   \n",
       "7     0.119386   0.065671  0.409393   0.104050            0.032733   \n",
       "8     0.129583   0.077775  0.383510   0.102270            0.031619   \n",
       "9     0.131719   0.084789  0.424544   0.096478            0.041086   \n",
       "\n",
       "   iTransportation  iHealthcare  iEntertainment  iMiscellaneous  \\\n",
       "0         0.116789     0.145258        0.048830        0.010756   \n",
       "1         0.116604     0.138189        0.055086        0.008055   \n",
       "2         0.119596     0.159655        0.048516        0.011985   \n",
       "3         0.129358     0.160616        0.053296        0.013607   \n",
       "4         0.123512     0.155642        0.053048        0.009405   \n",
       "5         0.121201     0.159855        0.048920        0.011102   \n",
       "6         0.138061     0.127792        0.049828        0.008867   \n",
       "7         0.120023     0.115897        0.049831        0.006080   \n",
       "8         0.146652     0.106498        0.049254        0.009097   \n",
       "9         0.117829     0.081025        0.043343        0.006484   \n",
       "\n",
       "   iCharitableAndFamilyGiving  iInsurance  iEducation  iHousingPrinciple  \\\n",
       "0                    0.028960    0.001076         0.0           0.060101   \n",
       "1                    0.031833    0.004000         0.0           0.030446   \n",
       "2                    0.030585    0.003930         0.0           0.032218   \n",
       "3                    0.031785    0.004884         0.0           0.038010   \n",
       "4                    0.035651    0.004706         0.0           0.040836   \n",
       "5                    0.040358    0.004575         0.0           0.065044   \n",
       "6                    0.033172    0.003101         0.0           0.067129   \n",
       "7                    0.035320    0.003859         0.0           0.062242   \n",
       "8                    0.026374    0.002236         0.0           0.064868   \n",
       "9                    0.018586    0.002684         0.0           0.048566   \n",
       "\n",
       "     ExpInc  \n",
       "0  1.000000  \n",
       "1  1.000000  \n",
       "2  1.000000  \n",
       "3  0.732101  \n",
       "4  0.617853  \n",
       "5  0.547367  \n",
       "6  0.450219  \n",
       "7  0.383585  \n",
       "8  0.297602  \n",
       "9  0.209945  "
      ]
     },
     "execution_count": 18,
     "metadata": {},
     "output_type": "execute_result"
    }
   ],
   "source": [
    "cleanPercentagesFamily"
   ]
  },
  {
   "cell_type": "code",
   "execution_count": 19,
   "metadata": {},
   "outputs": [
    {
     "data": {
      "text/html": [
       "<div>\n",
       "<table border=\"1\" class=\"dataframe\">\n",
       "  <thead>\n",
       "    <tr style=\"text-align: right;\">\n",
       "      <th></th>\n",
       "      <th>iFoodAtHome</th>\n",
       "      <th>iFoodAway</th>\n",
       "      <th>iHousing</th>\n",
       "      <th>iUtilites</th>\n",
       "      <th>iClothingAndBeauty</th>\n",
       "      <th>iTransportation</th>\n",
       "      <th>iHealthcare</th>\n",
       "      <th>iEntertainment</th>\n",
       "      <th>iMiscellaneous</th>\n",
       "      <th>iCharitableAndFamilyGiving</th>\n",
       "      <th>iInsurance</th>\n",
       "      <th>iEducation</th>\n",
       "      <th>iHousingPrinciple</th>\n",
       "      <th>ExpInc</th>\n",
       "    </tr>\n",
       "  </thead>\n",
       "  <tbody>\n",
       "    <tr>\n",
       "      <th>0</th>\n",
       "      <td>0.151820</td>\n",
       "      <td>0.079690</td>\n",
       "      <td>0.355406</td>\n",
       "      <td>0.115094</td>\n",
       "      <td>0.027420</td>\n",
       "      <td>0.119052</td>\n",
       "      <td>0.110876</td>\n",
       "      <td>0.043984</td>\n",
       "      <td>0.009933</td>\n",
       "      <td>0.020970</td>\n",
       "      <td>0.0</td>\n",
       "      <td>0.0</td>\n",
       "      <td>0.034245</td>\n",
       "      <td>1.000000</td>\n",
       "    </tr>\n",
       "    <tr>\n",
       "      <th>1</th>\n",
       "      <td>0.153379</td>\n",
       "      <td>0.070826</td>\n",
       "      <td>0.328748</td>\n",
       "      <td>0.136104</td>\n",
       "      <td>0.023830</td>\n",
       "      <td>0.104377</td>\n",
       "      <td>0.114194</td>\n",
       "      <td>0.053516</td>\n",
       "      <td>0.010220</td>\n",
       "      <td>0.025990</td>\n",
       "      <td>0.0</td>\n",
       "      <td>0.0</td>\n",
       "      <td>0.021184</td>\n",
       "      <td>1.000000</td>\n",
       "    </tr>\n",
       "    <tr>\n",
       "      <th>2</th>\n",
       "      <td>0.144218</td>\n",
       "      <td>0.067454</td>\n",
       "      <td>0.338070</td>\n",
       "      <td>0.116040</td>\n",
       "      <td>0.022329</td>\n",
       "      <td>0.113535</td>\n",
       "      <td>0.135020</td>\n",
       "      <td>0.055128</td>\n",
       "      <td>0.009048</td>\n",
       "      <td>0.028526</td>\n",
       "      <td>0.0</td>\n",
       "      <td>0.0</td>\n",
       "      <td>0.029369</td>\n",
       "      <td>0.858289</td>\n",
       "    </tr>\n",
       "    <tr>\n",
       "      <th>3</th>\n",
       "      <td>0.125159</td>\n",
       "      <td>0.064422</td>\n",
       "      <td>0.403698</td>\n",
       "      <td>0.102442</td>\n",
       "      <td>0.027537</td>\n",
       "      <td>0.126083</td>\n",
       "      <td>0.123010</td>\n",
       "      <td>0.059152</td>\n",
       "      <td>0.006264</td>\n",
       "      <td>0.025981</td>\n",
       "      <td>0.0</td>\n",
       "      <td>0.0</td>\n",
       "      <td>0.063749</td>\n",
       "      <td>0.586586</td>\n",
       "    </tr>\n",
       "    <tr>\n",
       "      <th>4</th>\n",
       "      <td>0.112158</td>\n",
       "      <td>0.075572</td>\n",
       "      <td>0.452800</td>\n",
       "      <td>0.107187</td>\n",
       "      <td>0.024844</td>\n",
       "      <td>0.108294</td>\n",
       "      <td>0.083383</td>\n",
       "      <td>0.057173</td>\n",
       "      <td>0.004735</td>\n",
       "      <td>0.023761</td>\n",
       "      <td>0.0</td>\n",
       "      <td>0.0</td>\n",
       "      <td>0.049906</td>\n",
       "      <td>0.449502</td>\n",
       "    </tr>\n",
       "    <tr>\n",
       "      <th>5</th>\n",
       "      <td>0.112046</td>\n",
       "      <td>0.090985</td>\n",
       "      <td>0.495419</td>\n",
       "      <td>0.082703</td>\n",
       "      <td>0.040031</td>\n",
       "      <td>0.116984</td>\n",
       "      <td>0.074667</td>\n",
       "      <td>0.039729</td>\n",
       "      <td>0.000165</td>\n",
       "      <td>0.021130</td>\n",
       "      <td>0.0</td>\n",
       "      <td>0.0</td>\n",
       "      <td>0.073858</td>\n",
       "      <td>0.389185</td>\n",
       "    </tr>\n",
       "    <tr>\n",
       "      <th>6</th>\n",
       "      <td>0.092308</td>\n",
       "      <td>0.080586</td>\n",
       "      <td>0.434572</td>\n",
       "      <td>0.100978</td>\n",
       "      <td>0.037030</td>\n",
       "      <td>0.130889</td>\n",
       "      <td>0.105891</td>\n",
       "      <td>0.063221</td>\n",
       "      <td>0.007465</td>\n",
       "      <td>0.024760</td>\n",
       "      <td>0.0</td>\n",
       "      <td>0.0</td>\n",
       "      <td>0.077699</td>\n",
       "      <td>0.353218</td>\n",
       "    </tr>\n",
       "    <tr>\n",
       "      <th>7</th>\n",
       "      <td>0.098953</td>\n",
       "      <td>0.076006</td>\n",
       "      <td>0.573249</td>\n",
       "      <td>0.093628</td>\n",
       "      <td>0.010166</td>\n",
       "      <td>0.070371</td>\n",
       "      <td>0.178168</td>\n",
       "      <td>0.057338</td>\n",
       "      <td>0.007881</td>\n",
       "      <td>0.022657</td>\n",
       "      <td>0.0</td>\n",
       "      <td>0.0</td>\n",
       "      <td>0.188417</td>\n",
       "      <td>0.204792</td>\n",
       "    </tr>\n",
       "    <tr>\n",
       "      <th>8</th>\n",
       "      <td>0.146118</td>\n",
       "      <td>0.119004</td>\n",
       "      <td>0.351787</td>\n",
       "      <td>0.093810</td>\n",
       "      <td>0.041621</td>\n",
       "      <td>0.117975</td>\n",
       "      <td>0.081217</td>\n",
       "      <td>0.099648</td>\n",
       "      <td>0.007046</td>\n",
       "      <td>0.007521</td>\n",
       "      <td>0.0</td>\n",
       "      <td>0.0</td>\n",
       "      <td>0.065746</td>\n",
       "      <td>0.161291</td>\n",
       "    </tr>\n",
       "    <tr>\n",
       "      <th>9</th>\n",
       "      <td>0.108617</td>\n",
       "      <td>0.047193</td>\n",
       "      <td>0.390904</td>\n",
       "      <td>0.080301</td>\n",
       "      <td>0.034560</td>\n",
       "      <td>0.064880</td>\n",
       "      <td>0.172219</td>\n",
       "      <td>0.086806</td>\n",
       "      <td>0.007260</td>\n",
       "      <td>0.007260</td>\n",
       "      <td>0.0</td>\n",
       "      <td>0.0</td>\n",
       "      <td>0.000000</td>\n",
       "      <td>0.153110</td>\n",
       "    </tr>\n",
       "  </tbody>\n",
       "</table>\n",
       "</div>"
      ],
      "text/plain": [
       "   iFoodAtHome  iFoodAway  iHousing  iUtilites  iClothingAndBeauty  \\\n",
       "0     0.151820   0.079690  0.355406   0.115094            0.027420   \n",
       "1     0.153379   0.070826  0.328748   0.136104            0.023830   \n",
       "2     0.144218   0.067454  0.338070   0.116040            0.022329   \n",
       "3     0.125159   0.064422  0.403698   0.102442            0.027537   \n",
       "4     0.112158   0.075572  0.452800   0.107187            0.024844   \n",
       "5     0.112046   0.090985  0.495419   0.082703            0.040031   \n",
       "6     0.092308   0.080586  0.434572   0.100978            0.037030   \n",
       "7     0.098953   0.076006  0.573249   0.093628            0.010166   \n",
       "8     0.146118   0.119004  0.351787   0.093810            0.041621   \n",
       "9     0.108617   0.047193  0.390904   0.080301            0.034560   \n",
       "\n",
       "   iTransportation  iHealthcare  iEntertainment  iMiscellaneous  \\\n",
       "0         0.119052     0.110876        0.043984        0.009933   \n",
       "1         0.104377     0.114194        0.053516        0.010220   \n",
       "2         0.113535     0.135020        0.055128        0.009048   \n",
       "3         0.126083     0.123010        0.059152        0.006264   \n",
       "4         0.108294     0.083383        0.057173        0.004735   \n",
       "5         0.116984     0.074667        0.039729        0.000165   \n",
       "6         0.130889     0.105891        0.063221        0.007465   \n",
       "7         0.070371     0.178168        0.057338        0.007881   \n",
       "8         0.117975     0.081217        0.099648        0.007046   \n",
       "9         0.064880     0.172219        0.086806        0.007260   \n",
       "\n",
       "   iCharitableAndFamilyGiving  iInsurance  iEducation  iHousingPrinciple  \\\n",
       "0                    0.020970         0.0         0.0           0.034245   \n",
       "1                    0.025990         0.0         0.0           0.021184   \n",
       "2                    0.028526         0.0         0.0           0.029369   \n",
       "3                    0.025981         0.0         0.0           0.063749   \n",
       "4                    0.023761         0.0         0.0           0.049906   \n",
       "5                    0.021130         0.0         0.0           0.073858   \n",
       "6                    0.024760         0.0         0.0           0.077699   \n",
       "7                    0.022657         0.0         0.0           0.188417   \n",
       "8                    0.007521         0.0         0.0           0.065746   \n",
       "9                    0.007260         0.0         0.0           0.000000   \n",
       "\n",
       "     ExpInc  \n",
       "0  1.000000  \n",
       "1  1.000000  \n",
       "2  0.858289  \n",
       "3  0.586586  \n",
       "4  0.449502  \n",
       "5  0.389185  \n",
       "6  0.353218  \n",
       "7  0.204792  \n",
       "8  0.161291  \n",
       "9  0.153110  "
      ]
     },
     "execution_count": 19,
     "metadata": {},
     "output_type": "execute_result"
    }
   ],
   "source": [
    "cleanPercentagesSingle"
   ]
  },
  {
   "cell_type": "markdown",
   "metadata": {},
   "source": [
    "### Cell that determines how similar the neighbor rows are\n",
    "Potentially use this to combine similar rows.\n",
    "Can't figure out the correct statistical test to determine if rows are statistically similar\n",
    "\n",
    "###### The higher the difference value the more different the rows are. (low values mean similar rows)"
   ]
  },
  {
   "cell_type": "markdown",
   "metadata": {},
   "source": [
    "# Plots"
   ]
  },
  {
   "cell_type": "code",
   "execution_count": 20,
   "metadata": {},
   "outputs": [
    {
     "data": {
      "image/png": "[encoded data removed]",
      "text/plain": [
       "<matplotlib.figure.Figure at 0x1176b73c8>"
      ]
     },
     "metadata": {},
     "output_type": "display_data"
    },
    {
     "name": "stdout",
     "output_type": "stream",
     "text": [
      "[690 583 355 311 156 136  86  83  76  36]\n",
      "[331 319 136 114  58  21   9   7   6   3]\n"
     ]
    }
   ],
   "source": [
    "plt.close()\n",
    "n_groups = 3\n",
    "values1 = cleanFamily.INCLASS.value_counts().values\n",
    "values2 = cleanSingle.INCLASS.value_counts().values\n",
    "\n",
    "fig, ax = plt.subplots()\n",
    "index = np.arange(n_groups)\n",
    "bar_width = 0.35\n",
    "opacity = 1\n",
    "\n",
    " \n",
    "rects1 = plt.bar(cleanFamily.INCLASS.value_counts().index -1, values1, bar_width,\n",
    "                 alpha=opacity,\n",
    "                 color='r',\n",
    "                 label='Family')\n",
    "\n",
    "rects2 = plt.bar(cleanSingle.INCLASS.value_counts().index - 1 + bar_width, values2, bar_width,\n",
    "                 alpha=opacity,\n",
    "                 color='b',\n",
    "                 label='Single')\n",
    "\n",
    "plt.xlabel('Income Class')\n",
    "plt.ylabel('Number of CUs')\n",
    "plt.title('Number of CUs per Income Class')\n",
    "plt.legend()\n",
    "plt.show()\n",
    "print(cleanFamily.INCLASS.value_counts().values)\n",
    "print(cleanSingle.INCLASS.value_counts().values)"
   ]
  },
  {
   "cell_type": "code",
   "execution_count": 21,
   "metadata": {},
   "outputs": [
    {
     "data": {
      "image/png": "[encoded data removed]",
      "text/plain": [
       "<matplotlib.figure.Figure at 0x117860b38>"
      ]
     },
     "metadata": {},
     "output_type": "display_data"
    }
   ],
   "source": [
    "n_groups = 3\n",
    "values1 = cleanPercentagesFamily.ExpInc\n",
    "values2 = cleanPercentagesSingle.ExpInc\n",
    "\n",
    "fig, ax = plt.subplots()\n",
    "index = np.arange(n_groups)\n",
    "bar_width = 0.35\n",
    "opacity = 1\n",
    " \n",
    "rects1 = plt.bar(cleanPercentagesFamily.index, values1, bar_width,\n",
    "                 alpha=opacity,\n",
    "                 color='r',\n",
    "                 label='Family')\n",
    " \n",
    "rects2 = plt.bar(cleanPercentagesSingle.index + bar_width, values2, bar_width,\n",
    "                 alpha=opacity,\n",
    "                 color='b',\n",
    "                 label='Single')\n",
    "\n",
    " \n",
    "plt.xlabel('Income Class')\n",
    "plt.ylabel('Percent of Income Expended')\n",
    "plt.title('Percent of Income Expent per Income Class')\n",
    "plt.legend()\n",
    "plt.show()"
   ]
  },
  {
   "cell_type": "markdown",
   "metadata": {},
   "source": [
    "### Looking at the Family vs Single Healthcare costs\n",
    "Note: The higher income brackets are not statistically significant for the Single people because there are so few observations (<50)"
   ]
  },
  {
   "cell_type": "code",
   "execution_count": 22,
   "metadata": {},
   "outputs": [
    {
     "name": "stdout",
     "output_type": "stream",
     "text": [
      "0.13504256404815956\n",
      "0.1178643559905537\n"
     ]
    },
    {
     "data": {
      "image/png": "[encoded data removed]",
      "text/plain": [
       "<matplotlib.figure.Figure at 0x117ac3eb8>"
      ]
     },
     "metadata": {},
     "output_type": "display_data"
    }
   ],
   "source": [
    "print(cleanPercentagesFamily.iHealthcare.mean())\n",
    "print(cleanPercentagesSingle.iHealthcare.mean())\n",
    "\n",
    "n_groups = 3\n",
    "values1 = cleanPercentagesFamily.iHealthcare\n",
    "values2 = cleanPercentagesSingle.iHealthcare\n",
    "\n",
    "fig, ax = plt.subplots()\n",
    "index = np.arange(n_groups)\n",
    "bar_width = 0.35\n",
    "opacity = 1\n",
    " \n",
    "rects1 = plt.bar(cleanPercentagesFamily.index, values1, bar_width,\n",
    "                 alpha=opacity,\n",
    "                 color='r',\n",
    "                 label='Family')\n",
    " \n",
    "rects2 = plt.bar(cleanPercentagesSingle.index + bar_width, values2, bar_width,\n",
    "                 alpha=opacity,\n",
    "                 color='b',\n",
    "                 label='Single')\n",
    "\n",
    " \n",
    "plt.xlabel('Income Class')\n",
    "plt.ylabel('Percent of Expenditure spent')\n",
    "plt.title('Percent Expent on Healthcare per Income Class')\n",
    "plt.legend()\n",
    "plt.show()"
   ]
  },
  {
   "cell_type": "markdown",
   "metadata": {},
   "source": [
    "### Looking at the Family vs Single Transportation costs\n",
    "Note: The higher income brackets are not statistically significant for the Single people because there are so few observations (<50)"
   ]
  },
  {
   "cell_type": "code",
   "execution_count": 23,
   "metadata": {},
   "outputs": [
    {
     "name": "stdout",
     "output_type": "stream",
     "text": [
      "0.12496255439659536\n",
      "0.10724402219295588\n"
     ]
    },
    {
     "data": {
      "image/png": "[encoded data removed]",
      "text/plain": [
       "<matplotlib.figure.Figure at 0x117e7e6d8>"
      ]
     },
     "metadata": {},
     "output_type": "display_data"
    }
   ],
   "source": [
    "print(cleanPercentagesFamily.iTransportation.mean())\n",
    "print(cleanPercentagesSingle.iTransportation.mean())\n",
    "\n",
    "n_groups = 3\n",
    "values1 = cleanPercentagesFamily.iTransportation\n",
    "values2 = cleanPercentagesSingle.iTransportation\n",
    "\n",
    "fig, ax = plt.subplots()\n",
    "index = np.arange(n_groups)\n",
    "bar_width = 0.35\n",
    "opacity = 1\n",
    " \n",
    "rects1 = plt.bar(cleanPercentagesFamily.index, values1, bar_width,\n",
    "                 alpha=opacity,\n",
    "                 color='r',\n",
    "                 label='Family')\n",
    " \n",
    "rects2 = plt.bar(cleanPercentagesSingle.index + bar_width, values2, bar_width,\n",
    "                 alpha=opacity,\n",
    "                 color='b',\n",
    "                 label='Single')\n",
    "\n",
    " \n",
    "plt.xlabel('Income Class')\n",
    "plt.ylabel('Percent of Expenditure spent')\n",
    "plt.title('Percent Expent on Transportation per Income Class')\n",
    "plt.legend()\n",
    "plt.show()"
   ]
  },
  {
   "cell_type": "markdown",
   "metadata": {},
   "source": [
    "### Looking at Single vs Family housing costs"
   ]
  },
  {
   "cell_type": "code",
   "execution_count": 24,
   "metadata": {},
   "outputs": [
    {
     "name": "stdout",
     "output_type": "stream",
     "text": [
      "0.3443828338102582\n",
      "0.4124653416522002\n"
     ]
    },
    {
     "data": {
      "image/png": "[encoded data removed]",
      "text/plain": [
       "<matplotlib.figure.Figure at 0x1186759b0>"
      ]
     },
     "metadata": {},
     "output_type": "display_data"
    }
   ],
   "source": [
    "print(cleanPercentagesFamily.iHousing.mean())\n",
    "print(cleanPercentagesSingle.iHousing.mean())\n",
    "\n",
    "n_groups = 3\n",
    "values1 = cleanPercentagesFamily.iHousing\n",
    "values2 = cleanPercentagesSingle.iHousing\n",
    "\n",
    "fig, ax = plt.subplots()\n",
    "index = np.arange(n_groups)\n",
    "bar_width = 0.35\n",
    "opacity = 1\n",
    " \n",
    "rects1 = plt.bar(cleanPercentagesFamily.index, values1, bar_width,\n",
    "                 alpha=opacity,\n",
    "                 color='r',\n",
    "                 label='Family')\n",
    " \n",
    "rects2 = plt.bar(cleanPercentagesSingle.index + bar_width, values2, bar_width,\n",
    "                 alpha=opacity,\n",
    "                 color='b',\n",
    "                 label='Single')\n",
    "\n",
    " \n",
    "plt.xlabel('Income Class')\n",
    "plt.ylabel('Percent of Expenditure spent')\n",
    "plt.title('Percent Expent on Housing per Income Class')\n",
    "plt.legend()\n",
    "plt.show()"
   ]
  },
  {
   "cell_type": "code",
   "execution_count": 25,
   "metadata": {},
   "outputs": [
    {
     "name": "stdout",
     "output_type": "stream",
     "text": [
      "0.13504256404815956\n",
      "0.1178643559905537\n"
     ]
    },
    {
     "data": {
      "image/png": "[encoded data removed]",
      "text/plain": [
       "<matplotlib.figure.Figure at 0x118658a90>"
      ]
     },
     "metadata": {},
     "output_type": "display_data"
    }
   ],
   "source": [
    "print(cleanPercentagesFamily.iHealthcare.mean())\n",
    "print(cleanPercentagesSingle.iHealthcare.mean())\n",
    "\n",
    "n_groups = 3\n",
    "values1 = cleanPercentagesFamily.iHealthcare\n",
    "values2 = cleanPercentagesSingle.iHealthcare\n",
    "\n",
    "fig, ax = plt.subplots()\n",
    "index = np.arange(n_groups)\n",
    "bar_width = 0.35\n",
    "opacity = 1\n",
    " \n",
    "rects1 = plt.bar(cleanPercentagesFamily.index, values1, bar_width,\n",
    "                 alpha=opacity,\n",
    "                 color='r',\n",
    "                 label='Family')\n",
    " \n",
    "rects2 = plt.bar(cleanPercentagesSingle.index + bar_width, values2, bar_width,\n",
    "                 alpha=opacity,\n",
    "                 color='b',\n",
    "                 label='Single')\n",
    "\n",
    " \n",
    "plt.xlabel('Income Class')\n",
    "plt.ylabel('Percent of Expenditure spent')\n",
    "plt.title('Percent Expent on Healthcare per Income Class')\n",
    "plt.legend()\n",
    "plt.show()"
   ]
  },
  {
   "cell_type": "code",
   "execution_count": 38,
   "metadata": {},
   "outputs": [
    {
     "name": "stdout",
     "output_type": "stream",
     "text": [
      "0.003505038489813575\n",
      "0.0\n"
     ]
    },
    {
     "data": {
      "image/png": "[encoded data removed]",
      "text/plain": [
       "<matplotlib.figure.Figure at 0x117e7eac8>"
      ]
     },
     "metadata": {},
     "output_type": "display_data"
    }
   ],
   "source": [
    "print(cleanPercentagesFamily.iInsurance.mean())\n",
    "print(cleanPercentagesSingle.iInsurance.mean())\n",
    "\n",
    "n_groups = 3\n",
    "values1 = cleanPercentagesFamily.iInsurance\n",
    "values2 = cleanPercentagesSingle.iInsurance\n",
    "\n",
    "fig, ax = plt.subplots()\n",
    "index = np.arange(n_groups)\n",
    "bar_width = 0.35\n",
    "opacity = 1\n",
    " \n",
    "rects1 = plt.bar(cleanPercentagesFamily.index, values1, bar_width,\n",
    "                 alpha=opacity,\n",
    "                 color='r',\n",
    "                 label='Family')\n",
    " \n",
    "rects2 = plt.bar(cleanPercentagesSingle.index + bar_width, values2, bar_width,\n",
    "                 alpha=opacity,\n",
    "                 color='b',\n",
    "                 label='Single')\n",
    "\n",
    " \n",
    "plt.xlabel('Income Class')\n",
    "plt.ylabel('Percent of Expenditure spent')\n",
    "plt.title('Percent Expent on Insurance per Income Class')\n",
    "plt.legend()\n",
    "plt.show()"
   ]
  },
  {
   "cell_type": "code",
   "execution_count": 26,
   "metadata": {},
   "outputs": [],
   "source": [
    "# valueFam = cleanFamily.iTotalExp\n",
    "# valueSingle = cleanSingle.iTotalExp\n",
    "\n",
    "# incomeFam = cleanFamily.FINCBTXM\n",
    "# incomeSingle = cleanSingle.FINCBTXM\n",
    "\n",
    "# famCoefficients = np.polyfit(incomeFam, valueFam, deg = 3)\n",
    "# singleCoefficients = np.polyfit(incomeSingle, valueSingle, deg = 3)\n",
    "\n",
    "# famP = np.poly1d(famCoefficients)\n",
    "# singleP = np.poly1d(singleCoefficients)\n",
    "\n",
    "# x = range(0,int(incomeFam.max()),1000)\n",
    "# plt.scatter(incomeFam, valueFam, color='orange', s=.5, label=\"Family\")\n",
    "# plt.scatter(incomeSingle, valueSingle, color='cyan', s=0.5, label=\"Single\")\n",
    "# plt.plot(x,famP(x), color='r',label=\"Family\")\n",
    "# plt.plot(x,singleP(x), color='b', label=\"Single\")\n",
    "# plt.plot(x,x, color=\"black\")\n",
    "# plt.xlabel(\"Income Before Taxes\")\n",
    "# plt.ylabel(\"Aggregate Expenditures\")\n",
    "# plt.xlim(0,incomeFam.max())\n",
    "# plt.ylim(0,valueFam.max())\n",
    "# plt.suptitle(\"Regression of Income to Aggregate Expenditure\")\n",
    "# plt.title(\"Family vs Single\")\n",
    "# plt.legend()\n",
    "# plt.show()"
   ]
  },
  {
   "cell_type": "code",
   "execution_count": 27,
   "metadata": {},
   "outputs": [
    {
     "data": {
      "text/html": [
       "<iframe id=\"igraph\" scrolling=\"no\" style=\"border:none;\" seamless=\"seamless\" src=\"https://plot.ly/~adyke/23.embed\" height=\"525px\" width=\"100%\"></iframe>"
      ],
      "text/plain": [
       "<plotly.tools.PlotlyDisplay object>"
      ]
     },
     "execution_count": 27,
     "metadata": {},
     "output_type": "execute_result"
    }
   ],
   "source": [
    "valueFam = cleanFamily.iTotalExp\n",
    "valueSingle = cleanSingle.iTotalExp\n",
    "\n",
    "incomeFam = cleanFamily.FINCBTXM\n",
    "incomeSingle = cleanSingle.FINCBTXM\n",
    "\n",
    "x = list(range(0,int(incomeFam.max()),1000))\n",
    "\n",
    "famCoefficients = np.polyfit(incomeFam, valueFam, deg = 3)\n",
    "singleCoefficients = np.polyfit(incomeSingle, valueSingle, deg = 3)\n",
    "\n",
    "famP = np.poly1d(famCoefficients)\n",
    "singleP = np.poly1d(singleCoefficients)\n",
    "\n",
    "breakEvenLine = list(range(0,294000,1000))\n",
    "\n",
    "trace0 = go.Scatter(x = incomeFam,\n",
    "                    y = valueFam, \n",
    "                    mode = 'markers',\n",
    "                    name = \"Family Points\",\n",
    "                    marker = dict(\n",
    "                        size = 3,\n",
    "                        color = 'rgba(255, 125, 5, 1)'))\n",
    "trace1 = go.Scatter(x = x, \n",
    "                    y = famP(x),\n",
    "                    name = \"Family Regression\",\n",
    "                    mode = \"lines\", \n",
    "                   line = dict(color = 'rgba(255,5,9,1)'))\n",
    "\n",
    "trace2 = go.Scatter(x = incomeSingle,\n",
    "                    y = valueSingle, \n",
    "                    mode = 'markers',\n",
    "                    name = \"Single Points\",\n",
    "                    marker = dict(\n",
    "                        size = 3,\n",
    "                        color = 'rgba(5, 255, 250, 1)'))\n",
    "trace3 = go.Scatter(x = x, \n",
    "                    y = singleP(x),\n",
    "                    name = \"Single Regression\",\n",
    "                    mode = \"lines\",\n",
    "                    line = dict(\n",
    "                       color = 'rgba(5, 9, 255,1)'))\n",
    "\n",
    "\n",
    "trace4 = go.Scatter(x=breakEvenLine,\n",
    "                   y=breakEvenLine,\n",
    "                   mode = \"lines\",\n",
    "                    name = \"Income = Expenditure\",\n",
    "                   line = dict(color = 'rgba(0,0,0,1)'))\n",
    "\n",
    "layout = dict(title = 'Family Vs Single Aggregate Expenses',\n",
    "              xaxis = dict(title = 'Income Before Taxes'),\n",
    "              yaxis = dict(title = 'Aggregate Expenses'),\n",
    "              )\n",
    "\n",
    "data = [trace0,trace1, trace2, trace3, trace4]\n",
    "fig = dict(data=data, layout=layout)\n",
    "py.iplot(fig, filename=\"Family Vs Single Aggregate Expenses\")"
   ]
  },
  {
   "cell_type": "code",
   "execution_count": 28,
   "metadata": {},
   "outputs": [
    {
     "data": {
      "text/html": [
       "<iframe id=\"igraph\" scrolling=\"no\" style=\"border:none;\" seamless=\"seamless\" src=\"https://plot.ly/~adyke/17.embed\" height=\"525px\" width=\"100%\"></iframe>"
      ],
      "text/plain": [
       "<plotly.tools.PlotlyDisplay object>"
      ]
     },
     "execution_count": 28,
     "metadata": {},
     "output_type": "execute_result"
    }
   ],
   "source": [
    "valueFam = cleanFamily.iHousing\n",
    "valueSingle = cleanSingle.iHousing\n",
    "\n",
    "incomeFam = cleanFamily.FINCBTXM\n",
    "incomeSingle = cleanSingle.FINCBTXM\n",
    "\n",
    "famCoefficients = np.polyfit(incomeFam, valueFam, deg = 3)\n",
    "singleCoefficients = np.polyfit(incomeSingle, valueSingle, deg = 3)\n",
    "\n",
    "famP = np.poly1d(famCoefficients)\n",
    "singleP = np.poly1d(singleCoefficients)\n",
    "\n",
    "trace0 = go.Scatter(x = incomeFam,\n",
    "                    y = valueFam, \n",
    "                    mode = 'markers',\n",
    "                    name = \"Family Points\",\n",
    "                    marker = dict(\n",
    "                        size = 3,\n",
    "                        color = 'rgba(255, 125, 5, 1)'))\n",
    "trace1 = go.Scatter(x = x, \n",
    "                    y = famP(x),\n",
    "                    name = \"Family Regression\",\n",
    "                    mode = \"lines\", \n",
    "                   line = dict(color = 'rgba(255,5,9,1)'))\n",
    "\n",
    "trace2 = go.Scatter(x = incomeSingle,\n",
    "                    y = valueSingle, \n",
    "                    mode = 'markers',\n",
    "                    name = \"Single Points\",\n",
    "                    marker = dict(\n",
    "                        size = 3,\n",
    "                        color = 'rgba(5, 255, 250, 1)'))\n",
    "trace3 = go.Scatter(x = x, \n",
    "                    y = singleP(x),\n",
    "                    name = \"Single Regression\",\n",
    "                    mode = \"lines\", \n",
    "                   line = dict(color = 'rgba(5, 9, 255,1)'))\n",
    "\n",
    "layout = dict(title = 'Family Vs Single Housing Expenses',\n",
    "              xaxis = dict(title = 'Income Before Taxes'),\n",
    "              yaxis = dict(title = 'Amount Spent on Housing'),\n",
    "              )\n",
    "\n",
    "data = [trace0,trace1, trace2, trace3]\n",
    "fig = dict(data=data, layout=layout)\n",
    "py.iplot(fig, filename=\"Family Vs Single Housing\")"
   ]
  },
  {
   "cell_type": "code",
   "execution_count": 29,
   "metadata": {},
   "outputs": [
    {
     "data": {
      "text/html": [
       "<iframe id=\"igraph\" scrolling=\"no\" style=\"border:none;\" seamless=\"seamless\" src=\"https://plot.ly/~adyke/19.embed\" height=\"525px\" width=\"100%\"></iframe>"
      ],
      "text/plain": [
       "<plotly.tools.PlotlyDisplay object>"
      ]
     },
     "execution_count": 29,
     "metadata": {},
     "output_type": "execute_result"
    }
   ],
   "source": [
    "valueFam = cleanFamily.iTransportation\n",
    "valueSingle = cleanSingle.iTransportation\n",
    "\n",
    "incomeFam = cleanFamily.FINCBTXM\n",
    "incomeSingle = cleanSingle.FINCBTXM\n",
    "\n",
    "famCoefficients = np.polyfit(incomeFam, valueFam, deg = 3)\n",
    "singleCoefficients = np.polyfit(incomeSingle, valueSingle, deg = 3)\n",
    "\n",
    "famP = np.poly1d(famCoefficients)\n",
    "singleP = np.poly1d(singleCoefficients)\n",
    "\n",
    "trace0 = go.Scatter(x = incomeFam,\n",
    "                    y = valueFam, \n",
    "                    mode = 'markers',\n",
    "                    name = \"Family Points\",\n",
    "                    marker = dict(\n",
    "                        size = 3,\n",
    "                        color = 'rgba(255, 125, 5, 1)'))\n",
    "trace1 = go.Scatter(x = x, \n",
    "                    y = famP(x),\n",
    "                    name = \"Family Regression\",\n",
    "                    mode = \"lines\", \n",
    "                   line = dict(color = 'rgba(255,5,9,1)'))\n",
    "\n",
    "trace2 = go.Scatter(x = incomeSingle,\n",
    "                    y = valueSingle, \n",
    "                    mode = 'markers',\n",
    "                    name = \"Single Points\",\n",
    "                    marker = dict(\n",
    "                        size = 3,\n",
    "                        color = 'rgba(5, 255, 250, 1)'))\n",
    "trace3 = go.Scatter(x = x, \n",
    "                    y = singleP(x),\n",
    "                    name = \"Single Regression\",\n",
    "                    mode = \"lines\", \n",
    "                   line = dict(color = 'rgba(5, 9, 255,1)'))\n",
    "\n",
    "layout = dict(title = 'Family Vs Single Transportation Expenses',\n",
    "              xaxis = dict(title = 'Income Before Taxes'),\n",
    "              yaxis = dict(title = 'Amount Spent on Transportation'),\n",
    "              )\n",
    "\n",
    "data = [trace0,trace1, trace2, trace3]\n",
    "fig = dict(data=data, layout=layout)\n",
    "py.iplot(fig, filename=\"Family Vs Single Transportation\")"
   ]
  },
  {
   "cell_type": "code",
   "execution_count": 30,
   "metadata": {},
   "outputs": [
    {
     "data": {
      "text/html": [
       "<iframe id=\"igraph\" scrolling=\"no\" style=\"border:none;\" seamless=\"seamless\" src=\"https://plot.ly/~adyke/21.embed\" height=\"525px\" width=\"100%\"></iframe>"
      ],
      "text/plain": [
       "<plotly.tools.PlotlyDisplay object>"
      ]
     },
     "execution_count": 30,
     "metadata": {},
     "output_type": "execute_result"
    }
   ],
   "source": [
    "valueFam = cleanFamily.iHealthcare\n",
    "valueSingle = cleanSingle.iHealthcare\n",
    "\n",
    "incomeFam = cleanFamily.FINCBTXM\n",
    "incomeSingle = cleanSingle.FINCBTXM\n",
    "\n",
    "famCoefficients = np.polyfit(incomeFam, valueFam, deg = 3)\n",
    "singleCoefficients = np.polyfit(incomeSingle, valueSingle, deg = 3)\n",
    "\n",
    "famP = np.poly1d(famCoefficients)\n",
    "singleP = np.poly1d(singleCoefficients)\n",
    "\n",
    "trace0 = go.Scatter(x = incomeFam,\n",
    "                    y = valueFam, \n",
    "                    mode = 'markers',\n",
    "                    name = \"Family Points\",\n",
    "                    marker = dict(\n",
    "                        size = 3,\n",
    "                        color = 'rgba(255, 125, 5, 1)'))\n",
    "trace1 = go.Scatter(x = x, \n",
    "                    y = famP(x),\n",
    "                    name = \"Family Regression\",\n",
    "                    mode = \"lines\", \n",
    "                   line = dict(color = 'rgba(255,5,9,1)'))\n",
    "\n",
    "trace2 = go.Scatter(x = incomeSingle,\n",
    "                    y = valueSingle, \n",
    "                    mode = 'markers',\n",
    "                    name = \"Single Points\",\n",
    "                    marker = dict(\n",
    "                        size = 3,\n",
    "                        color = 'rgba(5, 255, 250, 1)'))\n",
    "trace3 = go.Scatter(x = x, \n",
    "                    y = singleP(x),\n",
    "                    name = \"Single Regression\",\n",
    "                    mode = \"lines\", \n",
    "                   line = dict(color = 'rgba(5, 9, 255,1)'))\n",
    "\n",
    "layout = dict(title = 'Family Vs Single Healthcare Expenses',\n",
    "              xaxis = dict(title = 'Income Before Taxes'),\n",
    "              yaxis = dict(title = 'Amount Spent on Healthcare'),\n",
    "              )\n",
    "\n",
    "data = [trace0,trace1, trace2, trace3]\n",
    "fig = dict(data=data, layout=layout)\n",
    "py.iplot(fig, filename=\"Family Vs Single Healthcare\")"
   ]
  },
  {
   "cell_type": "code",
   "execution_count": 31,
   "metadata": {},
   "outputs": [],
   "source": [
    "# cleanPercentagesFamily"
   ]
  },
  {
   "cell_type": "code",
   "execution_count": 32,
   "metadata": {},
   "outputs": [],
   "source": [
    "# cleanPercentagesSingle"
   ]
  },
  {
   "cell_type": "code",
   "execution_count": 33,
   "metadata": {},
   "outputs": [],
   "source": [
    "single = pd.read_csv(\"singlePercentages.csv\")\n",
    "# derived income brackets from incomeBrackets.py\n",
    "singleIncomeBrackets = [-10000000, 15000, 20000, 25000, 30000, 40000, 50000, 65000, 9995000]\n",
    "family = pd.read_csv(\"familyPercentages.csv\")\n",
    "# derived income brackets from incomeBrackets.py\n",
    "familyIncomeBrackets = [-10000000, 5000, 15000, 20000, 25000, 30000, 120000, 145000, 190000, 9995000]"
   ]
  },
  {
   "cell_type": "code",
   "execution_count": 34,
   "metadata": {},
   "outputs": [
    {
     "name": "stdout",
     "output_type": "stream",
     "text": [
      "0\n",
      "-10000000 - 15000\n",
      "1\n",
      "15000 - 20000\n",
      "2\n",
      "20000 - 25000\n",
      "3\n",
      "25000 - 30000\n",
      "4\n",
      "30000 - 40000\n",
      "5\n",
      "40000 - 50000\n",
      "6\n",
      "50000 - 65000\n",
      "7\n",
      "65000 - 9995000\n"
     ]
    },
    {
     "data": {
      "text/html": [
       "<div>\n",
       "<table border=\"1\" class=\"dataframe\">\n",
       "  <thead>\n",
       "    <tr style=\"text-align: right;\">\n",
       "      <th></th>\n",
       "      <th>iFoodAtHome</th>\n",
       "      <th>iFoodAway</th>\n",
       "      <th>iHousing</th>\n",
       "      <th>iUtilites</th>\n",
       "      <th>iClothingAndBeauty</th>\n",
       "      <th>iTransportation</th>\n",
       "      <th>iHealthcare</th>\n",
       "      <th>iEntertainment</th>\n",
       "      <th>iMiscellaneous</th>\n",
       "      <th>iCharitableAndFamilyGiving</th>\n",
       "      <th>iInsurance</th>\n",
       "      <th>iEducation</th>\n",
       "      <th>iHousingPrinciple</th>\n",
       "      <th>ExpInc</th>\n",
       "    </tr>\n",
       "  </thead>\n",
       "  <tbody>\n",
       "    <tr>\n",
       "      <th>0</th>\n",
       "      <td>0.155</td>\n",
       "      <td>0.069</td>\n",
       "      <td>0.360</td>\n",
       "      <td>0.125</td>\n",
       "      <td>0.025</td>\n",
       "      <td>0.108</td>\n",
       "      <td>0.106</td>\n",
       "      <td>0.047</td>\n",
       "      <td>0.010</td>\n",
       "      <td>0.022</td>\n",
       "      <td>0.0</td>\n",
       "      <td>0.0</td>\n",
       "      <td>0.027</td>\n",
       "      <td>1.000</td>\n",
       "    </tr>\n",
       "    <tr>\n",
       "      <th>1</th>\n",
       "      <td>0.150</td>\n",
       "      <td>0.081</td>\n",
       "      <td>0.297</td>\n",
       "      <td>0.139</td>\n",
       "      <td>0.025</td>\n",
       "      <td>0.109</td>\n",
       "      <td>0.125</td>\n",
       "      <td>0.057</td>\n",
       "      <td>0.011</td>\n",
       "      <td>0.029</td>\n",
       "      <td>0.0</td>\n",
       "      <td>0.0</td>\n",
       "      <td>0.022</td>\n",
       "      <td>1.000</td>\n",
       "    </tr>\n",
       "    <tr>\n",
       "      <th>2</th>\n",
       "      <td>0.154</td>\n",
       "      <td>0.067</td>\n",
       "      <td>0.315</td>\n",
       "      <td>0.125</td>\n",
       "      <td>0.023</td>\n",
       "      <td>0.108</td>\n",
       "      <td>0.141</td>\n",
       "      <td>0.059</td>\n",
       "      <td>0.011</td>\n",
       "      <td>0.028</td>\n",
       "      <td>0.0</td>\n",
       "      <td>0.0</td>\n",
       "      <td>0.031</td>\n",
       "      <td>1.000</td>\n",
       "    </tr>\n",
       "    <tr>\n",
       "      <th>3</th>\n",
       "      <td>0.137</td>\n",
       "      <td>0.069</td>\n",
       "      <td>0.376</td>\n",
       "      <td>0.109</td>\n",
       "      <td>0.023</td>\n",
       "      <td>0.117</td>\n",
       "      <td>0.114</td>\n",
       "      <td>0.052</td>\n",
       "      <td>0.007</td>\n",
       "      <td>0.028</td>\n",
       "      <td>0.0</td>\n",
       "      <td>0.0</td>\n",
       "      <td>0.032</td>\n",
       "      <td>0.849</td>\n",
       "    </tr>\n",
       "    <tr>\n",
       "      <th>4</th>\n",
       "      <td>0.138</td>\n",
       "      <td>0.067</td>\n",
       "      <td>0.335</td>\n",
       "      <td>0.112</td>\n",
       "      <td>0.021</td>\n",
       "      <td>0.116</td>\n",
       "      <td>0.145</td>\n",
       "      <td>0.052</td>\n",
       "      <td>0.008</td>\n",
       "      <td>0.030</td>\n",
       "      <td>0.0</td>\n",
       "      <td>0.0</td>\n",
       "      <td>0.026</td>\n",
       "      <td>0.735</td>\n",
       "    </tr>\n",
       "    <tr>\n",
       "      <th>5</th>\n",
       "      <td>0.128</td>\n",
       "      <td>0.063</td>\n",
       "      <td>0.397</td>\n",
       "      <td>0.106</td>\n",
       "      <td>0.028</td>\n",
       "      <td>0.123</td>\n",
       "      <td>0.125</td>\n",
       "      <td>0.056</td>\n",
       "      <td>0.006</td>\n",
       "      <td>0.027</td>\n",
       "      <td>0.0</td>\n",
       "      <td>0.0</td>\n",
       "      <td>0.060</td>\n",
       "      <td>0.639</td>\n",
       "    </tr>\n",
       "    <tr>\n",
       "      <th>6</th>\n",
       "      <td>0.117</td>\n",
       "      <td>0.069</td>\n",
       "      <td>0.431</td>\n",
       "      <td>0.102</td>\n",
       "      <td>0.024</td>\n",
       "      <td>0.115</td>\n",
       "      <td>0.111</td>\n",
       "      <td>0.066</td>\n",
       "      <td>0.006</td>\n",
       "      <td>0.025</td>\n",
       "      <td>0.0</td>\n",
       "      <td>0.0</td>\n",
       "      <td>0.065</td>\n",
       "      <td>0.514</td>\n",
       "    </tr>\n",
       "    <tr>\n",
       "      <th>7</th>\n",
       "      <td>0.109</td>\n",
       "      <td>0.081</td>\n",
       "      <td>0.447</td>\n",
       "      <td>0.098</td>\n",
       "      <td>0.031</td>\n",
       "      <td>0.118</td>\n",
       "      <td>0.099</td>\n",
       "      <td>0.060</td>\n",
       "      <td>0.006</td>\n",
       "      <td>0.021</td>\n",
       "      <td>0.0</td>\n",
       "      <td>0.0</td>\n",
       "      <td>0.068</td>\n",
       "      <td>0.319</td>\n",
       "    </tr>\n",
       "  </tbody>\n",
       "</table>\n",
       "</div>"
      ],
      "text/plain": [
       "   iFoodAtHome  iFoodAway  iHousing  iUtilites  iClothingAndBeauty  \\\n",
       "0        0.155      0.069     0.360      0.125               0.025   \n",
       "1        0.150      0.081     0.297      0.139               0.025   \n",
       "2        0.154      0.067     0.315      0.125               0.023   \n",
       "3        0.137      0.069     0.376      0.109               0.023   \n",
       "4        0.138      0.067     0.335      0.112               0.021   \n",
       "5        0.128      0.063     0.397      0.106               0.028   \n",
       "6        0.117      0.069     0.431      0.102               0.024   \n",
       "7        0.109      0.081     0.447      0.098               0.031   \n",
       "\n",
       "   iTransportation  iHealthcare  iEntertainment  iMiscellaneous  \\\n",
       "0            0.108        0.106           0.047           0.010   \n",
       "1            0.109        0.125           0.057           0.011   \n",
       "2            0.108        0.141           0.059           0.011   \n",
       "3            0.117        0.114           0.052           0.007   \n",
       "4            0.116        0.145           0.052           0.008   \n",
       "5            0.123        0.125           0.056           0.006   \n",
       "6            0.115        0.111           0.066           0.006   \n",
       "7            0.118        0.099           0.060           0.006   \n",
       "\n",
       "   iCharitableAndFamilyGiving  iInsurance  iEducation  iHousingPrinciple  \\\n",
       "0                       0.022         0.0         0.0              0.027   \n",
       "1                       0.029         0.0         0.0              0.022   \n",
       "2                       0.028         0.0         0.0              0.031   \n",
       "3                       0.028         0.0         0.0              0.032   \n",
       "4                       0.030         0.0         0.0              0.026   \n",
       "5                       0.027         0.0         0.0              0.060   \n",
       "6                       0.025         0.0         0.0              0.065   \n",
       "7                       0.021         0.0         0.0              0.068   \n",
       "\n",
       "   ExpInc  \n",
       "0   1.000  \n",
       "1   1.000  \n",
       "2   1.000  \n",
       "3   0.849  \n",
       "4   0.735  \n",
       "5   0.639  \n",
       "6   0.514  \n",
       "7   0.319  "
      ]
     },
     "execution_count": 34,
     "metadata": {},
     "output_type": "execute_result"
    }
   ],
   "source": [
    "single = single.iloc[:,1:]\n",
    "printIncomeBrackets(singleIncomeBrackets)\n",
    "single"
   ]
  },
  {
   "cell_type": "code",
   "execution_count": 35,
   "metadata": {},
   "outputs": [
    {
     "name": "stdout",
     "output_type": "stream",
     "text": [
      "0\n",
      "-10000000 - 5000\n",
      "1\n",
      "5000 - 15000\n",
      "2\n",
      "15000 - 20000\n",
      "3\n",
      "20000 - 25000\n",
      "4\n",
      "25000 - 30000\n",
      "5\n",
      "30000 - 120000\n",
      "6\n",
      "120000 - 145000\n",
      "7\n",
      "145000 - 190000\n",
      "8\n",
      "190000 - 9995000\n"
     ]
    },
    {
     "data": {
      "text/html": [
       "<div>\n",
       "<table border=\"1\" class=\"dataframe\">\n",
       "  <thead>\n",
       "    <tr style=\"text-align: right;\">\n",
       "      <th></th>\n",
       "      <th>iFoodAtHome</th>\n",
       "      <th>iFoodAway</th>\n",
       "      <th>iHousing</th>\n",
       "      <th>iUtilites</th>\n",
       "      <th>iClothingAndBeauty</th>\n",
       "      <th>iTransportation</th>\n",
       "      <th>iHealthcare</th>\n",
       "      <th>iEntertainment</th>\n",
       "      <th>iMiscellaneous</th>\n",
       "      <th>iCharitableAndFamilyGiving</th>\n",
       "      <th>iInsurance</th>\n",
       "      <th>iEducation</th>\n",
       "      <th>iHousingPrinciple</th>\n",
       "      <th>ExpInc</th>\n",
       "    </tr>\n",
       "  </thead>\n",
       "  <tbody>\n",
       "    <tr>\n",
       "      <th>0</th>\n",
       "      <td>0.160</td>\n",
       "      <td>0.052</td>\n",
       "      <td>0.328</td>\n",
       "      <td>0.133</td>\n",
       "      <td>0.025</td>\n",
       "      <td>0.111</td>\n",
       "      <td>0.170</td>\n",
       "      <td>0.045</td>\n",
       "      <td>0.018</td>\n",
       "      <td>0.016</td>\n",
       "      <td>0.001</td>\n",
       "      <td>0.0</td>\n",
       "      <td>0.059</td>\n",
       "      <td>1.000</td>\n",
       "    </tr>\n",
       "    <tr>\n",
       "      <th>1</th>\n",
       "      <td>0.172</td>\n",
       "      <td>0.064</td>\n",
       "      <td>0.303</td>\n",
       "      <td>0.124</td>\n",
       "      <td>0.024</td>\n",
       "      <td>0.114</td>\n",
       "      <td>0.146</td>\n",
       "      <td>0.050</td>\n",
       "      <td>0.009</td>\n",
       "      <td>0.035</td>\n",
       "      <td>0.003</td>\n",
       "      <td>0.0</td>\n",
       "      <td>0.044</td>\n",
       "      <td>1.000</td>\n",
       "    </tr>\n",
       "    <tr>\n",
       "      <th>2</th>\n",
       "      <td>0.159</td>\n",
       "      <td>0.072</td>\n",
       "      <td>0.315</td>\n",
       "      <td>0.118</td>\n",
       "      <td>0.023</td>\n",
       "      <td>0.122</td>\n",
       "      <td>0.124</td>\n",
       "      <td>0.059</td>\n",
       "      <td>0.006</td>\n",
       "      <td>0.032</td>\n",
       "      <td>0.003</td>\n",
       "      <td>0.0</td>\n",
       "      <td>0.032</td>\n",
       "      <td>1.000</td>\n",
       "    </tr>\n",
       "    <tr>\n",
       "      <th>3</th>\n",
       "      <td>0.166</td>\n",
       "      <td>0.071</td>\n",
       "      <td>0.286</td>\n",
       "      <td>0.122</td>\n",
       "      <td>0.029</td>\n",
       "      <td>0.116</td>\n",
       "      <td>0.156</td>\n",
       "      <td>0.055</td>\n",
       "      <td>0.012</td>\n",
       "      <td>0.024</td>\n",
       "      <td>0.002</td>\n",
       "      <td>0.0</td>\n",
       "      <td>0.038</td>\n",
       "      <td>1.000</td>\n",
       "    </tr>\n",
       "    <tr>\n",
       "      <th>4</th>\n",
       "      <td>0.167</td>\n",
       "      <td>0.075</td>\n",
       "      <td>0.229</td>\n",
       "      <td>0.133</td>\n",
       "      <td>0.023</td>\n",
       "      <td>0.121</td>\n",
       "      <td>0.168</td>\n",
       "      <td>0.049</td>\n",
       "      <td>0.011</td>\n",
       "      <td>0.038</td>\n",
       "      <td>0.006</td>\n",
       "      <td>0.0</td>\n",
       "      <td>0.019</td>\n",
       "      <td>1.000</td>\n",
       "    </tr>\n",
       "    <tr>\n",
       "      <th>5</th>\n",
       "      <td>0.143</td>\n",
       "      <td>0.069</td>\n",
       "      <td>0.314</td>\n",
       "      <td>0.113</td>\n",
       "      <td>0.027</td>\n",
       "      <td>0.127</td>\n",
       "      <td>0.153</td>\n",
       "      <td>0.051</td>\n",
       "      <td>0.011</td>\n",
       "      <td>0.034</td>\n",
       "      <td>0.004</td>\n",
       "      <td>0.0</td>\n",
       "      <td>0.046</td>\n",
       "      <td>0.645</td>\n",
       "    </tr>\n",
       "    <tr>\n",
       "      <th>6</th>\n",
       "      <td>0.126</td>\n",
       "      <td>0.071</td>\n",
       "      <td>0.385</td>\n",
       "      <td>0.113</td>\n",
       "      <td>0.034</td>\n",
       "      <td>0.127</td>\n",
       "      <td>0.129</td>\n",
       "      <td>0.050</td>\n",
       "      <td>0.007</td>\n",
       "      <td>0.026</td>\n",
       "      <td>0.003</td>\n",
       "      <td>0.0</td>\n",
       "      <td>0.071</td>\n",
       "      <td>0.387</td>\n",
       "    </tr>\n",
       "    <tr>\n",
       "      <th>7</th>\n",
       "      <td>0.126</td>\n",
       "      <td>0.067</td>\n",
       "      <td>0.419</td>\n",
       "      <td>0.099</td>\n",
       "      <td>0.031</td>\n",
       "      <td>0.136</td>\n",
       "      <td>0.101</td>\n",
       "      <td>0.047</td>\n",
       "      <td>0.007</td>\n",
       "      <td>0.029</td>\n",
       "      <td>0.003</td>\n",
       "      <td>0.0</td>\n",
       "      <td>0.066</td>\n",
       "      <td>0.352</td>\n",
       "    </tr>\n",
       "    <tr>\n",
       "      <th>8</th>\n",
       "      <td>0.128</td>\n",
       "      <td>0.086</td>\n",
       "      <td>0.390</td>\n",
       "      <td>0.099</td>\n",
       "      <td>0.039</td>\n",
       "      <td>0.139</td>\n",
       "      <td>0.093</td>\n",
       "      <td>0.046</td>\n",
       "      <td>0.008</td>\n",
       "      <td>0.024</td>\n",
       "      <td>0.002</td>\n",
       "      <td>0.0</td>\n",
       "      <td>0.054</td>\n",
       "      <td>0.237</td>\n",
       "    </tr>\n",
       "  </tbody>\n",
       "</table>\n",
       "</div>"
      ],
      "text/plain": [
       "   iFoodAtHome  iFoodAway  iHousing  iUtilites  iClothingAndBeauty  \\\n",
       "0        0.160      0.052     0.328      0.133               0.025   \n",
       "1        0.172      0.064     0.303      0.124               0.024   \n",
       "2        0.159      0.072     0.315      0.118               0.023   \n",
       "3        0.166      0.071     0.286      0.122               0.029   \n",
       "4        0.167      0.075     0.229      0.133               0.023   \n",
       "5        0.143      0.069     0.314      0.113               0.027   \n",
       "6        0.126      0.071     0.385      0.113               0.034   \n",
       "7        0.126      0.067     0.419      0.099               0.031   \n",
       "8        0.128      0.086     0.390      0.099               0.039   \n",
       "\n",
       "   iTransportation  iHealthcare  iEntertainment  iMiscellaneous  \\\n",
       "0            0.111        0.170           0.045           0.018   \n",
       "1            0.114        0.146           0.050           0.009   \n",
       "2            0.122        0.124           0.059           0.006   \n",
       "3            0.116        0.156           0.055           0.012   \n",
       "4            0.121        0.168           0.049           0.011   \n",
       "5            0.127        0.153           0.051           0.011   \n",
       "6            0.127        0.129           0.050           0.007   \n",
       "7            0.136        0.101           0.047           0.007   \n",
       "8            0.139        0.093           0.046           0.008   \n",
       "\n",
       "   iCharitableAndFamilyGiving  iInsurance  iEducation  iHousingPrinciple  \\\n",
       "0                       0.016       0.001         0.0              0.059   \n",
       "1                       0.035       0.003         0.0              0.044   \n",
       "2                       0.032       0.003         0.0              0.032   \n",
       "3                       0.024       0.002         0.0              0.038   \n",
       "4                       0.038       0.006         0.0              0.019   \n",
       "5                       0.034       0.004         0.0              0.046   \n",
       "6                       0.026       0.003         0.0              0.071   \n",
       "7                       0.029       0.003         0.0              0.066   \n",
       "8                       0.024       0.002         0.0              0.054   \n",
       "\n",
       "   ExpInc  \n",
       "0   1.000  \n",
       "1   1.000  \n",
       "2   1.000  \n",
       "3   1.000  \n",
       "4   1.000  \n",
       "5   0.645  \n",
       "6   0.387  \n",
       "7   0.352  \n",
       "8   0.237  "
      ]
     },
     "execution_count": 35,
     "metadata": {},
     "output_type": "execute_result"
    }
   ],
   "source": [
    "family = family.iloc[:,1:]\n",
    "printIncomeBrackets(familyIncomeBrackets)\n",
    "family"
   ]
  },
  {
   "cell_type": "code",
   "execution_count": 36,
   "metadata": {},
   "outputs": [
    {
     "data": {
      "image/png": "[encoded data removed]",
      "text/plain": [
       "<matplotlib.figure.Figure at 0x11a1e1c88>"
      ]
     },
     "metadata": {},
     "output_type": "display_data"
    },
    {
     "data": {
      "image/png": "[encoded data removed]",
      "text/plain": [
       "<matplotlib.figure.Figure at 0x11ade94a8>"
      ]
     },
     "metadata": {},
     "output_type": "display_data"
    },
    {
     "data": {
      "image/png": "[encoded data removed]",
      "text/plain": [
       "<matplotlib.figure.Figure at 0x11a2117b8>"
      ]
     },
     "metadata": {},
     "output_type": "display_data"
    },
    {
     "data": {
      "image/png": "[encoded data removed]",
      "text/plain": [
       "<matplotlib.figure.Figure at 0x117ab5c88>"
      ]
     },
     "metadata": {},
     "output_type": "display_data"
    },
    {
     "data": {
      "image/png": "[encoded data removed]",
      "text/plain": [
       "<matplotlib.figure.Figure at 0x118729128>"
      ]
     },
     "metadata": {},
     "output_type": "display_data"
    },
    {
     "data": {
      "image/png": "[encoded data removed]",
      "text/plain": [
       "<matplotlib.figure.Figure at 0x117768f28>"
      ]
     },
     "metadata": {},
     "output_type": "display_data"
    },
    {
     "data": {
      "image/png": "[encoded data removed]",
      "text/plain": [
       "<matplotlib.figure.Figure at 0x118631f28>"
      ]
     },
     "metadata": {},
     "output_type": "display_data"
    },
    {
     "data": {
      "image/png": "[encoded data removed]",
      "text/plain": [
       "<matplotlib.figure.Figure at 0x117c9abe0>"
      ]
     },
     "metadata": {},
     "output_type": "display_data"
    },
    {
     "data": {
      "image/png": "[encoded data removed]",
      "text/plain": [
       "<matplotlib.figure.Figure at 0x117a18cf8>"
      ]
     },
     "metadata": {},
     "output_type": "display_data"
    },
    {
     "data": {
      "image/png": "[encoded data removed]",
      "text/plain": [
       "<matplotlib.figure.Figure at 0x117a18160>"
      ]
     },
     "metadata": {},
     "output_type": "display_data"
    },
    {
     "data": {
      "image/png": "[encoded data removed]",
      "text/plain": [
       "<matplotlib.figure.Figure at 0x1240d8278>"
      ]
     },
     "metadata": {},
     "output_type": "display_data"
    },
    {
     "data": {
      "image/png": "[encoded data removed]",
      "text/plain": [
       "<matplotlib.figure.Figure at 0x1179f6e48>"
      ]
     },
     "metadata": {},
     "output_type": "display_data"
    },
    {
     "data": {
      "image/png": "[encoded data removed]",
      "text/plain": [
       "<matplotlib.figure.Figure at 0x1178b77b8>"
      ]
     },
     "metadata": {},
     "output_type": "display_data"
    },
    {
     "data": {
      "image/png": "[encoded data removed]",
      "text/plain": [
       "<matplotlib.figure.Figure at 0x1178b7438>"
      ]
     },
     "metadata": {},
     "output_type": "display_data"
    },
    {
     "data": {
      "image/png": "[encoded data removed]",
      "text/plain": [
       "<matplotlib.figure.Figure at 0x1177f44e0>"
      ]
     },
     "metadata": {},
     "output_type": "display_data"
    },
    {
     "data": {
      "image/png": "[encoded data removed]",
      "text/plain": [
       "<matplotlib.figure.Figure at 0x1240faf60>"
      ]
     },
     "metadata": {},
     "output_type": "display_data"
    },
    {
     "data": {
      "image/png": "[encoded data removed]",
      "text/plain": [
       "<matplotlib.figure.Figure at 0x117ba69b0>"
      ]
     },
     "metadata": {},
     "output_type": "display_data"
    },
    {
     "data": {
      "image/png": "[encoded data removed]",
      "text/plain": [
       "<matplotlib.figure.Figure at 0x117c93e10>"
      ]
     },
     "metadata": {},
     "output_type": "display_data"
    },
    {
     "data": {
      "image/png": "[encoded data removed]",
      "text/plain": [
       "<matplotlib.figure.Figure at 0x11a3af828>"
      ]
     },
     "metadata": {},
     "output_type": "display_data"
    },
    {
     "data": {
      "image/png": "[encoded data removed]",
      "text/plain": [
       "<matplotlib.figure.Figure at 0x124230f98>"
      ]
     },
     "metadata": {},
     "output_type": "display_data"
    },
    {
     "data": {
      "image/png": "[encoded data removed]",
      "text/plain": [
       "<matplotlib.figure.Figure at 0x12439bac8>"
      ]
     },
     "metadata": {},
     "output_type": "display_data"
    },
    {
     "data": {
      "image/png": "[encoded data removed]",
      "text/plain": [
       "<matplotlib.figure.Figure at 0x118627a58>"
      ]
     },
     "metadata": {},
     "output_type": "display_data"
    },
    {
     "data": {
      "image/png": "[encoded data removed]",
      "text/plain": [
       "<matplotlib.figure.Figure at 0x11adc30b8>"
      ]
     },
     "metadata": {},
     "output_type": "display_data"
    },
    {
     "data": {
      "image/png": "[encoded data removed]",
      "text/plain": [
       "<matplotlib.figure.Figure at 0x10b178748>"
      ]
     },
     "metadata": {},
     "output_type": "display_data"
    }
   ],
   "source": [
    "plt.close()\n",
    "for x in range(len(family.columns)-2):\n",
    "    # family\n",
    "    familyCol = list(family.iloc[:,x])\n",
    "    colName = family.columns[x]\n",
    "    colName = colName[1:]\n",
    "    plt.bar(family.index,familyCol,color='b')\n",
    "    plt.title(\"Family \"+colName)\n",
    "    plt.xlabel(\"IncomeBrackets\")\n",
    "    plt.ylabel(\"Percent Expent on \"+colName)\n",
    "    plt.show()\n",
    "    \n",
    "    # single\n",
    "    singleCol = list(single.iloc[:,x])\n",
    "    colName = single.columns[x]\n",
    "    colName = colName[1:]\n",
    "    plt.bar(single.index,singleCol,color='r')\n",
    "    plt.title(\"Single person \"+colName)\n",
    "    plt.xlabel(\"IncomeBrackets\")\n",
    "    plt.ylabel(\"Percent Expent on \"+colName)\n",
    "    plt.show()\n",
    "    "
   ]
  }
 ],
 "metadata": {
  "kernelspec": {
   "display_name": "Python 3",
   "language": "python",
   "name": "python3"
  },
  "language_info": {
   "codemirror_mode": {
    "name": "ipython",
    "version": 3
   },
   "file_extension": ".py",
   "mimetype": "text/x-python",
   "name": "python",
   "nbconvert_exporter": "python",
   "pygments_lexer": "ipython3",
   "version": "3.6.0"
  },
  "widgets": {
   "state": {
    "0068692ac0bc411882a87b1a14dcfe10": {
     "views": [
      {
       "cell_index": 4
      }
     ]
    },
    "0bb2a8ec3efd4b92929860f0bd5905e0": {
     "views": [
      {
       "cell_index": 4
      }
     ]
    },
    "100206eef84d4173abc40ab8904f8ad5": {
     "views": [
      {
       "cell_index": 4
      }
     ]
    },
    "1b9d1660c8c64ec9952ea8a110d1f45b": {
     "views": [
      {
       "cell_index": 4
      }
     ]
    },
    "206b339cc5fa431eb2bfdf4a002fbee4": {
     "views": [
      {
       "cell_index": 4
      }
     ]
    },
    "27544fcbcde6482ab4785aca6aad69f9": {
     "views": [
      {
       "cell_index": 4
      }
     ]
    },
    "2c4068db76574349ba22032b0e0389bf": {
     "views": [
      {
       "cell_index": 4
      }
     ]
    },
    "385321efd2764b82add0b60833dab624": {
     "views": [
      {
       "cell_index": 4
      }
     ]
    },
    "48f62472d15647e9b82c65dcdbdc25b1": {
     "views": [
      {
       "cell_index": 4
      }
     ]
    },
    "516d2b0274bb45bfaec4433d691dc6ec": {
     "views": [
      {
       "cell_index": 4
      }
     ]
    },
    "522fbf9e096342859c5801ecb6e99658": {
     "views": [
      {
       "cell_index": 4
      }
     ]
    },
    "6fdc0a4cf68b438fac80ab3e4b83d19f": {
     "views": [
      {
       "cell_index": 4
      }
     ]
    },
    "91413111d50544c48166272bb0472126": {
     "views": [
      {
       "cell_index": 4
      }
     ]
    },
    "a89892d026274481bc6291f33d61d7e5": {
     "views": [
      {
       "cell_index": 4
      }
     ]
    },
    "ba65bfee910c4112af5658a6e6a2ef70": {
     "views": [
      {
       "cell_index": 4
      }
     ]
    },
    "c5763faee881469485888bfe55e988d1": {
     "views": [
      {
       "cell_index": 4
      }
     ]
    },
    "ca4f506cd0b14565b07e8899cf82befe": {
     "views": [
      {
       "cell_index": 4
      }
     ]
    },
    "d3b4abc7c62c4b0aa661a9f52260198b": {
     "views": [
      {
       "cell_index": 4
      }
     ]
    },
    "dfcd57085b0c46b6ac49e9f39fb3ffb5": {
     "views": [
      {
       "cell_index": 4
      }
     ]
    },
    "ed7c8b262ece470aafa8df3c2730a563": {
     "views": [
      {
       "cell_index": 4
      }
     ]
    },
    "f31852a1231145c08bf5cf8b6a3e888c": {
     "views": [
      {
       "cell_index": 4
      }
     ]
    },
    "fc7c33a10615450991993c8d4d270f86": {
     "views": [
      {
       "cell_index": 4
      }
     ]
    }
   },
   "version": "1.2.0"
  }
 },
 "nbformat": 4,
 "nbformat_minor": 2
}
