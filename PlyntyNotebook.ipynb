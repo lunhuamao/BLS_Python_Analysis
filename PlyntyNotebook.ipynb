{
 "cells": [
  {
   "cell_type": "markdown",
   "metadata": {},
   "source": [
    "# Plynty Bureau of Labor Statistics Consumer Expenditure Analysis\n",
    "\n",
    "[BLS Comsumer Expenditure Survey](https://www.bls.gov/cex/home.htm)\n",
    "\n",
    "[Interview Data Dictionary](https://www.bls.gov/cex/2015/csxintvwdata.pdf)\n",
    "\n",
    "### Where to download the BLS CE PUMD\n",
    "- The zip files download automatically\n",
    "- To download the Stub files open the links then right click and choose \"Save As...\"\n",
    "\n",
    "[2015 interview zip file](https://www.bls.gov/cex/pumd/data/comma/intrvw15.zip)\n",
    "\n",
    "[2014 interview zip file](https://www.bls.gov/cex/pumd/data/comma/intrvw14.zip)\n",
    "\n",
    "[2013 interview zip file](https://www.bls.gov/cex/pumd/data/comma/intrvw13.zip)\n",
    "\n",
    "[2015 IntStub file](https://www.bls.gov/cex/pumd/2014/csxintstub.txt)\n",
    "\n",
    "[2015 IStub file](https://www.bls.gov/cex/pumd/2014/csxistub.txt)\n",
    "\n",
    "[2015 DStub file](https://www.bls.gov/cex/pumd/2014/csxdstub.txt)\n",
    "\n",
    "### This Scripts Goals for Plynty\n",
    "- Create an easy to use analysis script for the BLS CE PUMD \n",
    "- Create csv files that has average percentages spent on plynty categories for certain income classes\n",
    "- Compare the Family CUs vs the Single person CUs"
   ]
  },
  {
   "cell_type": "markdown",
   "metadata": {},
   "source": [
    "#### Importing Dependencies"
   ]
  },
  {
   "cell_type": "code",
   "execution_count": 1,
   "metadata": {
    "collapsed": false
   },
   "outputs": [
    {
     "name": "stdout",
     "output_type": "stream",
     "text": [
      "Importing Dependencies\n"
     ]
    }
   ],
   "source": [
    "print(\"Importing Dependencies\")\n",
    "\n",
    "import pandas as pd\n",
    "import numpy as np\n",
    "import os\n",
    "import subprocess\n",
    "from copy import deepcopy\n",
    "import matplotlib.pyplot as plt\n",
    "from BLSFunctions import *"
   ]
  },
  {
   "cell_type": "markdown",
   "metadata": {},
   "source": [
    "# Setting Variables"
   ]
  },
  {
   "cell_type": "code",
   "execution_count": 2,
   "metadata": {
    "collapsed": false
   },
   "outputs": [
    {
     "name": "stdout",
     "output_type": "stream",
     "text": [
      "Setting Variables\n"
     ]
    }
   ],
   "source": [
    "print(\"Setting Variables\")\n",
    "\n",
    "years = [\"13\",\"14\",\"15\"]\n",
    "filesToRead = [\"fmli\", \"mtbi\"]\n",
    "\n",
    "minAge = 60\n",
    "maxAge = 75\n",
    "\n",
    "familyIncomeBrackets = [-10000000, 10000, 20000, 30000, 40000, 50000, 60000, 70000, 80000, 90000, 100000, 110000, 120000, 130000, 140000, 160000, 180000, 210000, 240000, 290000, 9980000]\n",
    "singleIncomeBrackets = [-10000000, 10000, 20000, 30000, 40000, 50000, 60000, 70000, 90000, 120000, 9980000]\n",
    "\n",
    "pumdDir = \"./CE_PUMD/\""
   ]
  },
  {
   "cell_type": "markdown",
   "metadata": {},
   "source": [
    "# Reading in Stubfiles"
   ]
  },
  {
   "cell_type": "code",
   "execution_count": 3,
   "metadata": {
    "collapsed": false
   },
   "outputs": [
    {
     "name": "stdout",
     "output_type": "stream",
     "text": [
      "Reading in Stubfiles\n",
      "Stubfiles Exist\n"
     ]
    }
   ],
   "source": [
    "print(\"Reading in Stubfiles\")\n",
    "\n",
    "# Directory where stubfiles are located\n",
    "pathToStubFileDir = \"./Stubfiles/\"\n",
    "rScriptStubfilePathAndName = \"./creatingStubCsvs.R\"\n",
    "\n",
    "stubFileDict = {}\n",
    "stubFileDict[\"IStub\"] =  \"IStub2015.txt\"\n",
    "stubFileDict[\"DStub\"] =  \"DStub2015.txt\"\n",
    "stubFileDict[\"IntStub\"] =  \"IntStub2015.txt\"\n",
    "\n",
    "if os.path.isfile(pathToStubFileDir+\"DStub.csv\") and os.path.isfile(pathToStubFileDir+\"IStub.csv\") and os.path.isfile(pathToStubFileDir+\"IntStub.csv\"):\n",
    "    print(\"Stubfiles Exist\")\n",
    "else:\n",
    "    # converting the stub files via R \n",
    "    subprocess.call(\"Rscript \"+rScriptStubfilePathAndName+\" \"+pathToStubFileDir+\" \"+stubFileDict[\"IStub\"]+\" \"+stubFileDict[\"DStub\"]+\" \"+stubFileDict[\"IntStub\"], shell=True)\n",
    "    print(\"Stubfile Csvs created in \"+pathToStubFileDir)\n",
    "    \n",
    "# reading and cleaning the stubfiles    \n",
    "for key in stubFileDict.keys():\n",
    "    stubFileDict[key] = pd.read_csv(pathToStubFileDir+key+\".csv\")\n",
    "    stubFileDict[key] = stubFileDict[key].drop(stubFileDict[key].columns[0], axis=1)\n",
    "    stubFileDict[key].loc[stubFileDict[key].level == \"*\", 'level'] = 0"
   ]
  },
  {
   "cell_type": "markdown",
   "metadata": {},
   "source": [
    "# Creating the Data dictionary\n",
    "output:\n",
    "   - data (dictionary)\n",
    "      - key: filenameYear\n",
    "      - value: dataframe"
   ]
  },
  {
   "cell_type": "code",
   "execution_count": 4,
   "metadata": {
    "collapsed": false,
    "scrolled": true
   },
   "outputs": [
    {
     "name": "stdout",
     "output_type": "stream",
     "text": [
      "Creating the Data dictionary\n",
      "Reading fmli13\n",
      "Reading mtbi13\n",
      "Reading fmli14\n",
      "Reading mtbi14\n",
      "Reading fmli15\n",
      "Reading mtbi15\n"
     ]
    }
   ],
   "source": [
    "print(\"Creating the Data dictionary\")\n",
    "\n",
    "data = {}\n",
    "for year in years:\n",
    "    yearDir = pumdDir+\"intrvw\"+year+\"/intrvw\"+year+\"/\"\n",
    "    for file in filesToRead:\n",
    "        print(\"Reading \"+file+year)\n",
    "        dataframe = readFileSet(file,yearDir)\n",
    "        data[file+year] = dataframe\n",
    "        \n",
    "fmli = pd.concat([value for key,value in data.items() if 'fmli' in key.lower()], ignore_index=True)"
   ]
  },
  {
   "cell_type": "markdown",
   "metadata": {},
   "source": [
    "# Creating Subset NEWID dictionary\n",
    "output:\n",
    "- subsetNEWIDs\n",
    " - key: Subset Category\n",
    " - value: dictionary or list of NEWIDs associated with the subset"
   ]
  },
  {
   "cell_type": "code",
   "execution_count": 5,
   "metadata": {
    "collapsed": false
   },
   "outputs": [
    {
     "name": "stdout",
     "output_type": "stream",
     "text": [
      "Creating Subset NEWID dictionary\n"
     ]
    }
   ],
   "source": [
    "print(\"Creating Subset NEWID dictionary\")\n",
    "\n",
    "subsetNEWIDs = {}\n",
    "subsetNEWIDs[\"Age\"] = []\n",
    "subsetNEWIDs[\"Family\"] = []\n",
    "subsetNEWIDs[\"Single\"] = []\n",
    "subsetNEWIDs[\"Year\"] = {}\n",
    "subsetNEWIDs[\"Month\"] = {}\n",
    "subsetNEWIDs[\"FamilyIncome\"] = {}\n",
    "subsetNEWIDs[\"SingleIncome\"] = {}\n",
    "\n",
    "# creating empty lists within dictionaries\n",
    "for bracket in range(1,len(familyIncomeBrackets)):\n",
    "    subsetNEWIDs[\"FamilyIncome\"][bracket] = []\n",
    "for bracket in range(1,len(singleIncomeBrackets)):\n",
    "    subsetNEWIDs[\"SingleIncome\"][bracket] = []\n",
    "for month in range(1,13):\n",
    "    subsetNEWIDs[\"Month\"][month] = []\n",
    "for year in years:\n",
    "    subsetNEWIDs[\"Year\"][2000+int(year)] = []\n",
    "    \n",
    "# filling in lists\n",
    "for year in years:\n",
    "    fmliYear = \"fmli\"+year\n",
    "    subsetNEWIDs[\"Age\"].extend(getSubsetNEWIDs(dataframe=data[fmliYear], columnName=\"AGE_REF\", minValue=minAge, maxValue=maxAge))\n",
    "    subsetNEWIDs[\"Family\"].extend(getSubsetNEWIDs(dataframe=data[fmliYear], columnName=\"FAM_SIZE\", minValue = 2, maxValue = 100))\n",
    "    subsetNEWIDs[\"Single\"].extend(getSubsetNEWIDs(dataframe=data[fmliYear], columnName=\"FAM_SIZE\", minValue = 1))\n",
    "    for year1 in years:\n",
    "        subsetNEWIDs[\"Year\"][2000+int(year1)].extend(getSubsetNEWIDs(dataframe=data[fmliYear], columnName = \"QINTRVYR\", minValue = 2000+int(year1)))\n",
    "    for month in subsetNEWIDs[\"Month\"].keys():\n",
    "        subsetNEWIDs[\"Month\"][month].extend(getSubsetNEWIDs(dataframe=data[fmliYear], columnName = \"QINTRVMO\",  minValue = month))\n",
    "    for bracket in subsetNEWIDs[\"FamilyIncome\"].keys():\n",
    "        subsetNEWIDs[\"FamilyIncome\"][bracket].extend(getSubsetNEWIDs(dataframe=data[fmliYear], columnName=\"FINCBTXM\",minValue = familyIncomeBrackets[bracket-1], maxValue = familyIncomeBrackets[bracket]-1))\n",
    "    for bracket in subsetNEWIDs[\"SingleIncome\"].keys():\n",
    "        subsetNEWIDs[\"SingleIncome\"][bracket].extend(getSubsetNEWIDs(dataframe=data[fmliYear], columnName=\"FINCBTXM\",minValue = singleIncomeBrackets[bracket-1], maxValue = singleIncomeBrackets[bracket]-1))"
   ]
  },
  {
   "cell_type": "markdown",
   "metadata": {},
   "source": [
    "### Creating Human Readable Income bracket dictionaries"
   ]
  },
  {
   "cell_type": "code",
   "execution_count": 6,
   "metadata": {
    "collapsed": false
   },
   "outputs": [],
   "source": [
    "getSingleIncomeBracket = {}\n",
    "for bracket in subsetNEWIDs[\"SingleIncome\"].keys():\n",
    "    getSingleIncomeBracket[bracket] = str(singleIncomeBrackets[bracket-1])+\"-\"+str(singleIncomeBrackets[bracket])\n",
    "\n",
    "getFamilyIncomeBracket = {}\n",
    "for bracket in subsetNEWIDs[\"FamilyIncome\"].keys():\n",
    "    getFamilyIncomeBracket[bracket] = str(familyIncomeBrackets[bracket-1])+\"-\"+str(familyIncomeBrackets[bracket])"
   ]
  },
  {
   "cell_type": "markdown",
   "metadata": {},
   "source": [
    "# Subsetting NEWIDs based on SubsetNEWIDs dictionary\n",
    "outputs:\n",
    "- Single (dictionary)\n",
    " - key: tuple of subset category\n",
    " - value: set of NEWIDs assocaiated with tuple\n",
    "- Family (dictionary)\n",
    " - key: tuple of subset category\n",
    " - value: set of NEWIDs assocaiated with tuple"
   ]
  },
  {
   "cell_type": "code",
   "execution_count": 7,
   "metadata": {
    "collapsed": false
   },
   "outputs": [
    {
     "name": "stdout",
     "output_type": "stream",
     "text": [
      "Subsetting NEWIDs\n"
     ]
    }
   ],
   "source": [
    "print(\"Subsetting NEWIDs\")\n",
    "\n",
    "Single = subsetDictionary(subsetNEWIDs, [\"Age\",\"Single\",\"Year\",\"Month\",\"SingleIncome\"])\n",
    "Family = subsetDictionary(subsetNEWIDs, [\"Age\",\"Family\",\"Year\",\"Month\",\"FamilyIncome\"])"
   ]
  },
  {
   "cell_type": "markdown",
   "metadata": {},
   "source": [
    "## Medical Emergencies"
   ]
  },
  {
   "cell_type": "code",
   "execution_count": 8,
   "metadata": {
    "collapsed": false,
    "scrolled": true
   },
   "outputs": [
    {
     "name": "stdout",
     "output_type": "stream",
     "text": [
      "Medical Emergency analysis\n",
      "The Hospital expense max value is: 7750.0\n",
      "The Hospital expense mean value is: 1655.31\n"
     ]
    }
   ],
   "source": [
    "print(\"Medical Emergency analysis\")\n",
    "\n",
    "allSingleNEWIDs = set()\n",
    "for newIDset in Single.values():\n",
    "    allSingleNEWIDs = allSingleNEWIDs.union(newIDset)\n",
    "allFamilyNEWIDs = set()\n",
    "for newIDset in Family.values():\n",
    "    allFamilyNEWIDs = allFamilyNEWIDs.union(newIDset)\n",
    "\n",
    "allNEWIDs = allFamilyNEWIDs.union(allSingleNEWIDs)\n",
    "\n",
    "# UCC of Hospital\n",
    "emergencyUCCs = [570111]\n",
    "\n",
    "mtbi = pd.concat([value for key,value in data.items() if 'mtbi' in key.lower()], ignore_index=True)\n",
    "subsetMtbi = mtbi[mtbi.NEWID.isin(allNEWIDs)]\n",
    "subsetMtbi = subsetMtbi[subsetMtbi.UCC.isin(emergencyUCCs)]\n",
    "subsetMtbi = subsetMtbi.groupby(['NEWID'],as_index=False).sum()\n",
    "subsetMtbi = subsetMtbi[subsetMtbi.COST > 300]\n",
    "oneTimeSubsetMtbi = subsetMtbi[subsetMtbi.REF_YR < 3000]\n",
    "print(\"The Hospital expense max value is: \"+str(round(oneTimeSubsetMtbi.COST.max(),2)))\n",
    "print(\"The Hospital expense mean value is: \"+str(round(oneTimeSubsetMtbi.COST.mean(),2)))"
   ]
  },
  {
   "cell_type": "markdown",
   "metadata": {},
   "source": [
    "# Creating Categorical UCC rollups\n",
    "outputs:\n",
    "- rollupDict (dictionary)\n",
    " - key: Rollup category name\n",
    " - value: list of NEWIDs associated with rollup"
   ]
  },
  {
   "cell_type": "code",
   "execution_count": 9,
   "metadata": {
    "collapsed": false
   },
   "outputs": [
    {
     "name": "stdout",
     "output_type": "stream",
     "text": [
      "Creating Categorical UCC rollups\n"
     ]
    }
   ],
   "source": [
    "print(\"Creating Categorical UCC rollups\")\n",
    "\n",
    "MonthlyHousing = [\"220311\",\"220313\",\"880110\",\"210110\",\"800710\",\"210901\",\"220312\",\"220314\",\"880310\",\"210902\",\"220211\",\"230901\",\"340911\",\"220901\",\"220212\",\"230902\",\"340912\",\"220902\",\"210310\"]\n",
    "MonthlyHousing.extend(categoricalUCCRollUp(stubFileDict[\"IStub\"], [\"UTILS\"]))\n",
    "\n",
    "rollupDict = {\"TotalExp\":(categoricalUCCRollUp(stubFileDict[\"IStub\"],[\"TOTALE\"])),\n",
    "\"FoodAtHome\":(categoricalUCCRollUp(stubFileDict[\"IStub\"], [\"FOODHO\", \"ALCHOM\"])),\n",
    "\"FoodAway\":(categoricalUCCRollUp(stubFileDict[\"IStub\"], [\"FOODAW\", \"ALCAWA\"])),\n",
    "\"Housing\":([\"220311\",\"220313\",\"880110\",\"210110\",\"800710\",\"210901\",\"220312\",\"220314\",\"880310\",\"210902\",\"220211\",\"230901\",\"340911\",\"220901\",\"220212\",\"230902\",\"340912\",\"220902\",\"210310\"]),\n",
    "\"OtherHousing\":(categoricalUCCRollUp(stubFileDict[\"IStub\"], [\"HOUSIN\"], ignoreUCCs = MonthlyHousing)),\n",
    "\"Utilities\":(categoricalUCCRollUp(stubFileDict[\"IStub\"], [\"UTILS\"])),\n",
    "\"ClothingAndBeauty\":(categoricalUCCRollUp(stubFileDict[\"IStub\"], [\"APPARE\",\"PERSCA\"])),\n",
    "\"Transportation\":(categoricalUCCRollUp(stubFileDict[\"IStub\"], [\"TRANS\"])),\n",
    "\"Healthcare\":(categoricalUCCRollUp(stubFileDict[\"IStub\"], [\"HEALTH\"])),\n",
    "\"Entertainment\":(categoricalUCCRollUp(stubFileDict[\"IStub\"], [\"ENTRTA\",\"READIN\"])),\n",
    "\"Miscellaneous\":(categoricalUCCRollUp(stubFileDict[\"IStub\"], [\"MISC\",\"TOBACC\"])),\n",
    "\"CharitableAndFamilyGiving\":(categoricalUCCRollUp(stubFileDict[\"IStub\"], [\"CASHCO\"])),\n",
    "\"Insurance\":(categoricalUCCRollUp(stubFileDict[\"IStub\"], [\"LIFEIN\"])),\n",
    "\"Education\":(categoricalUCCRollUp(stubFileDict[\"IStub\"], [\"EDUCAT\"])),\n",
    "\"HousingPrinciple\":(categoricalUCCRollUp(stubFileDict[\"IStub\"],[\"MRTPRI\"]))}\n",
    "\n",
    "# converting rollupDict to ints\n",
    "for key,value in rollupDict.items():\n",
    "    rollupDict[key] = list(map(int, value))"
   ]
  },
  {
   "cell_type": "markdown",
   "metadata": {},
   "source": [
    "# Rolling up MTBI files into plynty categories\n",
    "- creates columns in the mtbi files that correspond with the rollup categories\n",
    "- fills new rollup columns based on mtbi observations"
   ]
  },
  {
   "cell_type": "code",
   "execution_count": 10,
   "metadata": {
    "collapsed": false
   },
   "outputs": [
    {
     "name": "stdout",
     "output_type": "stream",
     "text": [
      "Rolling up MTBI files into Plynty Categories\n"
     ]
    }
   ],
   "source": [
    "print(\"Rolling up MTBI files into Plynty Categories\")\n",
    "\n",
    "negativeColumns = [\"HousingPrinciple\"]\n",
    "multiple = 1\n",
    "for dataframe in [key for key in data.keys() if 'mtbi' in key.lower()]:\n",
    "    for key,value in rollupDict.items():\n",
    "        if(key in negativeColumns):\n",
    "            multiple *= -1\n",
    "        data[dataframe][key] = np.where(data[dataframe].UCC.isin(rollupDict[key]), data[dataframe].COST * multiple, 0)\n",
    "        multiple = abs(multiple)"
   ]
  },
  {
   "cell_type": "markdown",
   "metadata": {},
   "source": [
    "#### Cleaning the MTBI dataframes"
   ]
  },
  {
   "cell_type": "code",
   "execution_count": 11,
   "metadata": {
    "collapsed": false
   },
   "outputs": [],
   "source": [
    "keepColumns = list(rollupDict.keys())\n",
    "keepColumns.append(\"NEWID\")\n",
    "\n",
    "for dataframe in [key for key in data.keys() if 'mtbi' in key.lower()]:\n",
    "    data[dataframe] = data[dataframe][keepColumns]"
   ]
  },
  {
   "cell_type": "markdown",
   "metadata": {},
   "source": [
    "# Adding up all the expenses by each NEWID\n",
    "- Sums for each NEWID\n",
    "- Adds HousingPrinciple into Housing\n",
    "- Adds HousingPrinciple into TotalExp\n",
    "- Drops the HousingPrinciple column"
   ]
  },
  {
   "cell_type": "code",
   "execution_count": 12,
   "metadata": {
    "collapsed": false
   },
   "outputs": [
    {
     "name": "stdout",
     "output_type": "stream",
     "text": [
      "Adding up all the expenses by NEWIDs\n"
     ]
    }
   ],
   "source": [
    "print(\"Adding up all the expenses by NEWIDs\")\n",
    "\n",
    "for dataframe in [key for key in data.keys() if 'mtbi' in key.lower()]:\n",
    "    data[dataframe] = data[dataframe].groupby(['NEWID'],as_index=False).sum()\n",
    "    data[dataframe]['Housing'] += data[dataframe]['HousingPrinciple']\n",
    "    data[dataframe]['TotalExp'] += data[dataframe]['HousingPrinciple']\n",
    "    data[dataframe] = data[dataframe].drop('HousingPrinciple',axis=1)"
   ]
  },
  {
   "cell_type": "markdown",
   "metadata": {},
   "source": [
    "### Subsetting MTBI files with subset NEWIDs"
   ]
  },
  {
   "cell_type": "code",
   "execution_count": 13,
   "metadata": {
    "collapsed": false
   },
   "outputs": [
    {
     "name": "stdout",
     "output_type": "stream",
     "text": [
      "Subsetting MTBI files\n"
     ]
    }
   ],
   "source": [
    "print(\"Subsetting MTBI files\")\n",
    "\n",
    "expensesByNEWIDSingle = expensesSumByNEWID(Single, data)\n",
    "expensesByNEWIDFamily = expensesSumByNEWID(Family, data)"
   ]
  },
  {
   "cell_type": "markdown",
   "metadata": {},
   "source": [
    "### Saving the pre-weight expenses by NEWID for the regression"
   ]
  },
  {
   "cell_type": "code",
   "execution_count": 14,
   "metadata": {
    "collapsed": false
   },
   "outputs": [],
   "source": [
    "nonWeightedExpensesByNEWIDSingle = deepcopy(expensesByNEWIDSingle)\n",
    "nonWeightedExpensesByNEWIDFamily = deepcopy(expensesByNEWIDFamily)"
   ]
  },
  {
   "cell_type": "markdown",
   "metadata": {},
   "source": [
    "## Weighting the Samples"
   ]
  },
  {
   "cell_type": "code",
   "execution_count": 15,
   "metadata": {
    "collapsed": false
   },
   "outputs": [
    {
     "name": "stdout",
     "output_type": "stream",
     "text": [
      "Weighting the Samples... This may take a while.\n"
     ]
    }
   ],
   "source": [
    "print(\"Weighting the Samples... This may take a while.\")\n",
    "\n",
    "weightSeries = fmli[\"FINLWT21\"]/12\n",
    "weightSeries.index = fmli[\"NEWID\"]\n",
    "\n",
    "expensesesByNEWIDSingle = weightExpensesByNEWID(expensesByNEWIDSingle, weightSeries)\n",
    "expensesByNEWIDFamily = weightExpensesByNEWID(expensesByNEWIDFamily, weightSeries)"
   ]
  },
  {
   "cell_type": "markdown",
   "metadata": {},
   "source": [
    "## Combining Data frames by Income Class"
   ]
  },
  {
   "cell_type": "code",
   "execution_count": 16,
   "metadata": {
    "collapsed": false
   },
   "outputs": [],
   "source": [
    "IncomeClassesSingle = {}\n",
    "for income in subsetNEWIDs[\"SingleIncome\"]:\n",
    "    incomeClass = pd.DataFrame()\n",
    "    for year in subsetNEWIDs[\"Year\"]:\n",
    "        for month in subsetNEWIDs[\"Month\"]:\n",
    "            incomeClass = incomeClass.append(expensesByNEWIDSingle[(year,month,income)], ignore_index=True)\n",
    "    IncomeClassesSingle[income] = incomeClass\n",
    "    \n",
    "IncomeClassesFamily = {}\n",
    "for income in subsetNEWIDs[\"FamilyIncome\"]:\n",
    "    incomeClass = pd.DataFrame()\n",
    "    for year in subsetNEWIDs[\"Year\"]:\n",
    "        for month in subsetNEWIDs[\"Month\"]:\n",
    "            incomeClass = incomeClass.append(expensesByNEWIDFamily[(year,month,income)], ignore_index=True)\n",
    "    IncomeClassesFamily[income] = incomeClass"
   ]
  },
  {
   "cell_type": "markdown",
   "metadata": {},
   "source": [
    "### Sum of all the columns\n",
    "- Adding up all the columns of a dataframe into totals contained in a dictionary "
   ]
  },
  {
   "cell_type": "code",
   "execution_count": 17,
   "metadata": {
    "collapsed": false
   },
   "outputs": [],
   "source": [
    "plyntySingleSumDict = dictionarySum(IncomeClassesSingle)\n",
    "plyntyFamilySumDict = dictionarySum(IncomeClassesFamily)"
   ]
  },
  {
   "cell_type": "markdown",
   "metadata": {},
   "source": [
    "### Creating the Percentage dictionaries"
   ]
  },
  {
   "cell_type": "code",
   "execution_count": 18,
   "metadata": {
    "collapsed": false
   },
   "outputs": [
    {
     "name": "stdout",
     "output_type": "stream",
     "text": [
      "Creating the percentage dictionaries\n"
     ]
    }
   ],
   "source": [
    "print(\"Creating the percentage dictionaries\")\n",
    "\n",
    "# fixing the TotalExp\n",
    "for income in plyntySingleSumDict.keys():\n",
    "    total = 0\n",
    "    for key,value in plyntySingleSumDict[income].items():\n",
    "        if not key == 'TotalExp':\n",
    "            total += value\n",
    "    plyntySingleSumDict[income]['TotalExp'] = total\n",
    "\n",
    "for income in plyntyFamilySumDict.keys():\n",
    "    total = 0\n",
    "    for key,value in plyntyFamilySumDict[income].items():\n",
    "        if not key == 'TotalExp':\n",
    "            total += value\n",
    "    plyntyFamilySumDict[income]['TotalExp'] = total"
   ]
  },
  {
   "cell_type": "code",
   "execution_count": 19,
   "metadata": {
    "collapsed": false
   },
   "outputs": [],
   "source": [
    "plyntySingleDict = incomeSumToPercent(plyntySingleSumDict, \"TotalExp\")\n",
    "plyntyFamilyDict = incomeSumToPercent(plyntyFamilySumDict, \"TotalExp\")"
   ]
  },
  {
   "cell_type": "markdown",
   "metadata": {},
   "source": [
    "### Deleting the TotalExp Column\n",
    "This column at this point will be all 1s"
   ]
  },
  {
   "cell_type": "code",
   "execution_count": 20,
   "metadata": {
    "collapsed": false
   },
   "outputs": [],
   "source": [
    "for key in plyntySingleDict.keys():\n",
    "    del plyntySingleDict[key]['TotalExp']\n",
    "for key in plyntyFamilyDict.keys():\n",
    "    del plyntyFamilyDict[key]['TotalExp']"
   ]
  },
  {
   "cell_type": "markdown",
   "metadata": {},
   "source": [
    "# Creating and printing out the plynty Dataframes"
   ]
  },
  {
   "cell_type": "code",
   "execution_count": 21,
   "metadata": {
    "collapsed": false,
    "scrolled": true
   },
   "outputs": [],
   "source": [
    "plyntySingle = pd.DataFrame.from_dict(plyntySingleDict,orient='index')\n",
    "plyntyFamily = pd.DataFrame.from_dict(plyntyFamilyDict,orient='index')"
   ]
  },
  {
   "cell_type": "code",
   "execution_count": 22,
   "metadata": {
    "collapsed": false
   },
   "outputs": [
    {
     "data": {
      "text/html": [
       "<div>\n",
       "<table border=\"1\" class=\"dataframe\">\n",
       "  <thead>\n",
       "    <tr style=\"text-align: right;\">\n",
       "      <th></th>\n",
       "      <th>FoodAtHome</th>\n",
       "      <th>FoodAway</th>\n",
       "      <th>Housing</th>\n",
       "      <th>OtherHousing</th>\n",
       "      <th>Utilities</th>\n",
       "      <th>ClothingAndBeauty</th>\n",
       "      <th>Transportation</th>\n",
       "      <th>Healthcare</th>\n",
       "      <th>Entertainment</th>\n",
       "      <th>Miscellaneous</th>\n",
       "      <th>CharitableAndFamilyGiving</th>\n",
       "      <th>Insurance</th>\n",
       "      <th>Education</th>\n",
       "    </tr>\n",
       "  </thead>\n",
       "  <tbody>\n",
       "    <tr>\n",
       "      <th>1</th>\n",
       "      <td>0.144968</td>\n",
       "      <td>0.041180</td>\n",
       "      <td>0.255569</td>\n",
       "      <td>0.074899</td>\n",
       "      <td>0.111117</td>\n",
       "      <td>0.028041</td>\n",
       "      <td>0.131482</td>\n",
       "      <td>0.092845</td>\n",
       "      <td>0.047901</td>\n",
       "      <td>0.034574</td>\n",
       "      <td>0.032537</td>\n",
       "      <td>0.003779</td>\n",
       "      <td>0.001109</td>\n",
       "    </tr>\n",
       "    <tr>\n",
       "      <th>2</th>\n",
       "      <td>0.138343</td>\n",
       "      <td>0.038763</td>\n",
       "      <td>0.236894</td>\n",
       "      <td>0.073696</td>\n",
       "      <td>0.114046</td>\n",
       "      <td>0.023202</td>\n",
       "      <td>0.127704</td>\n",
       "      <td>0.119656</td>\n",
       "      <td>0.057335</td>\n",
       "      <td>0.025724</td>\n",
       "      <td>0.034457</td>\n",
       "      <td>0.006320</td>\n",
       "      <td>0.003860</td>\n",
       "    </tr>\n",
       "    <tr>\n",
       "      <th>3</th>\n",
       "      <td>0.116440</td>\n",
       "      <td>0.046556</td>\n",
       "      <td>0.203704</td>\n",
       "      <td>0.103485</td>\n",
       "      <td>0.097636</td>\n",
       "      <td>0.024873</td>\n",
       "      <td>0.145077</td>\n",
       "      <td>0.120315</td>\n",
       "      <td>0.055728</td>\n",
       "      <td>0.026706</td>\n",
       "      <td>0.046485</td>\n",
       "      <td>0.009870</td>\n",
       "      <td>0.003126</td>\n",
       "    </tr>\n",
       "    <tr>\n",
       "      <th>4</th>\n",
       "      <td>0.113555</td>\n",
       "      <td>0.050756</td>\n",
       "      <td>0.227561</td>\n",
       "      <td>0.082620</td>\n",
       "      <td>0.098248</td>\n",
       "      <td>0.023462</td>\n",
       "      <td>0.160067</td>\n",
       "      <td>0.105184</td>\n",
       "      <td>0.050852</td>\n",
       "      <td>0.023811</td>\n",
       "      <td>0.048252</td>\n",
       "      <td>0.010842</td>\n",
       "      <td>0.004789</td>\n",
       "    </tr>\n",
       "    <tr>\n",
       "      <th>5</th>\n",
       "      <td>0.096612</td>\n",
       "      <td>0.045226</td>\n",
       "      <td>0.212776</td>\n",
       "      <td>0.098512</td>\n",
       "      <td>0.086324</td>\n",
       "      <td>0.026879</td>\n",
       "      <td>0.174344</td>\n",
       "      <td>0.094752</td>\n",
       "      <td>0.052332</td>\n",
       "      <td>0.017710</td>\n",
       "      <td>0.081132</td>\n",
       "      <td>0.008534</td>\n",
       "      <td>0.004867</td>\n",
       "    </tr>\n",
       "    <tr>\n",
       "      <th>6</th>\n",
       "      <td>0.094673</td>\n",
       "      <td>0.045727</td>\n",
       "      <td>0.218522</td>\n",
       "      <td>0.100702</td>\n",
       "      <td>0.079677</td>\n",
       "      <td>0.026235</td>\n",
       "      <td>0.176905</td>\n",
       "      <td>0.096877</td>\n",
       "      <td>0.049719</td>\n",
       "      <td>0.019603</td>\n",
       "      <td>0.079253</td>\n",
       "      <td>0.004740</td>\n",
       "      <td>0.007368</td>\n",
       "    </tr>\n",
       "    <tr>\n",
       "      <th>7</th>\n",
       "      <td>0.095387</td>\n",
       "      <td>0.053584</td>\n",
       "      <td>0.237669</td>\n",
       "      <td>0.107179</td>\n",
       "      <td>0.086007</td>\n",
       "      <td>0.030898</td>\n",
       "      <td>0.126315</td>\n",
       "      <td>0.106377</td>\n",
       "      <td>0.053534</td>\n",
       "      <td>0.012140</td>\n",
       "      <td>0.079809</td>\n",
       "      <td>0.008608</td>\n",
       "      <td>0.002492</td>\n",
       "    </tr>\n",
       "    <tr>\n",
       "      <th>8</th>\n",
       "      <td>0.078929</td>\n",
       "      <td>0.048673</td>\n",
       "      <td>0.213010</td>\n",
       "      <td>0.143337</td>\n",
       "      <td>0.070660</td>\n",
       "      <td>0.030997</td>\n",
       "      <td>0.156511</td>\n",
       "      <td>0.085095</td>\n",
       "      <td>0.064092</td>\n",
       "      <td>0.021689</td>\n",
       "      <td>0.072129</td>\n",
       "      <td>0.006318</td>\n",
       "      <td>0.008561</td>\n",
       "    </tr>\n",
       "    <tr>\n",
       "      <th>9</th>\n",
       "      <td>0.068695</td>\n",
       "      <td>0.056582</td>\n",
       "      <td>0.221753</td>\n",
       "      <td>0.105857</td>\n",
       "      <td>0.061006</td>\n",
       "      <td>0.038643</td>\n",
       "      <td>0.183283</td>\n",
       "      <td>0.100507</td>\n",
       "      <td>0.059922</td>\n",
       "      <td>0.026416</td>\n",
       "      <td>0.060945</td>\n",
       "      <td>0.010898</td>\n",
       "      <td>0.005494</td>\n",
       "    </tr>\n",
       "    <tr>\n",
       "      <th>10</th>\n",
       "      <td>0.058633</td>\n",
       "      <td>0.063511</td>\n",
       "      <td>0.258097</td>\n",
       "      <td>0.132136</td>\n",
       "      <td>0.053825</td>\n",
       "      <td>0.032816</td>\n",
       "      <td>0.111208</td>\n",
       "      <td>0.071465</td>\n",
       "      <td>0.068613</td>\n",
       "      <td>0.015408</td>\n",
       "      <td>0.100403</td>\n",
       "      <td>0.009340</td>\n",
       "      <td>0.024544</td>\n",
       "    </tr>\n",
       "  </tbody>\n",
       "</table>\n",
       "</div>"
      ],
      "text/plain": [
       "    FoodAtHome  FoodAway   Housing  OtherHousing  Utilities  \\\n",
       "1     0.144968  0.041180  0.255569      0.074899   0.111117   \n",
       "2     0.138343  0.038763  0.236894      0.073696   0.114046   \n",
       "3     0.116440  0.046556  0.203704      0.103485   0.097636   \n",
       "4     0.113555  0.050756  0.227561      0.082620   0.098248   \n",
       "5     0.096612  0.045226  0.212776      0.098512   0.086324   \n",
       "6     0.094673  0.045727  0.218522      0.100702   0.079677   \n",
       "7     0.095387  0.053584  0.237669      0.107179   0.086007   \n",
       "8     0.078929  0.048673  0.213010      0.143337   0.070660   \n",
       "9     0.068695  0.056582  0.221753      0.105857   0.061006   \n",
       "10    0.058633  0.063511  0.258097      0.132136   0.053825   \n",
       "\n",
       "    ClothingAndBeauty  Transportation  Healthcare  Entertainment  \\\n",
       "1            0.028041        0.131482    0.092845       0.047901   \n",
       "2            0.023202        0.127704    0.119656       0.057335   \n",
       "3            0.024873        0.145077    0.120315       0.055728   \n",
       "4            0.023462        0.160067    0.105184       0.050852   \n",
       "5            0.026879        0.174344    0.094752       0.052332   \n",
       "6            0.026235        0.176905    0.096877       0.049719   \n",
       "7            0.030898        0.126315    0.106377       0.053534   \n",
       "8            0.030997        0.156511    0.085095       0.064092   \n",
       "9            0.038643        0.183283    0.100507       0.059922   \n",
       "10           0.032816        0.111208    0.071465       0.068613   \n",
       "\n",
       "    Miscellaneous  CharitableAndFamilyGiving  Insurance  Education  \n",
       "1        0.034574                   0.032537   0.003779   0.001109  \n",
       "2        0.025724                   0.034457   0.006320   0.003860  \n",
       "3        0.026706                   0.046485   0.009870   0.003126  \n",
       "4        0.023811                   0.048252   0.010842   0.004789  \n",
       "5        0.017710                   0.081132   0.008534   0.004867  \n",
       "6        0.019603                   0.079253   0.004740   0.007368  \n",
       "7        0.012140                   0.079809   0.008608   0.002492  \n",
       "8        0.021689                   0.072129   0.006318   0.008561  \n",
       "9        0.026416                   0.060945   0.010898   0.005494  \n",
       "10       0.015408                   0.100403   0.009340   0.024544  "
      ]
     },
     "execution_count": 22,
     "metadata": {},
     "output_type": "execute_result"
    }
   ],
   "source": [
    "plyntySingle"
   ]
  },
  {
   "cell_type": "code",
   "execution_count": 23,
   "metadata": {
    "collapsed": false
   },
   "outputs": [
    {
     "data": {
      "text/html": [
       "<div>\n",
       "<table border=\"1\" class=\"dataframe\">\n",
       "  <thead>\n",
       "    <tr style=\"text-align: right;\">\n",
       "      <th></th>\n",
       "      <th>FoodAtHome</th>\n",
       "      <th>FoodAway</th>\n",
       "      <th>Housing</th>\n",
       "      <th>OtherHousing</th>\n",
       "      <th>Utilities</th>\n",
       "      <th>ClothingAndBeauty</th>\n",
       "      <th>Transportation</th>\n",
       "      <th>Healthcare</th>\n",
       "      <th>Entertainment</th>\n",
       "      <th>Miscellaneous</th>\n",
       "      <th>CharitableAndFamilyGiving</th>\n",
       "      <th>Insurance</th>\n",
       "      <th>Education</th>\n",
       "    </tr>\n",
       "  </thead>\n",
       "  <tbody>\n",
       "    <tr>\n",
       "      <th>1</th>\n",
       "      <td>0.142340</td>\n",
       "      <td>0.046926</td>\n",
       "      <td>0.206687</td>\n",
       "      <td>0.075096</td>\n",
       "      <td>0.106467</td>\n",
       "      <td>0.022046</td>\n",
       "      <td>0.143821</td>\n",
       "      <td>0.124984</td>\n",
       "      <td>0.053301</td>\n",
       "      <td>0.029582</td>\n",
       "      <td>0.035278</td>\n",
       "      <td>0.009298</td>\n",
       "      <td>0.004175</td>\n",
       "    </tr>\n",
       "    <tr>\n",
       "      <th>2</th>\n",
       "      <td>0.143017</td>\n",
       "      <td>0.044233</td>\n",
       "      <td>0.190325</td>\n",
       "      <td>0.090783</td>\n",
       "      <td>0.109151</td>\n",
       "      <td>0.021109</td>\n",
       "      <td>0.152100</td>\n",
       "      <td>0.123267</td>\n",
       "      <td>0.045610</td>\n",
       "      <td>0.021985</td>\n",
       "      <td>0.047688</td>\n",
       "      <td>0.007347</td>\n",
       "      <td>0.003384</td>\n",
       "    </tr>\n",
       "    <tr>\n",
       "      <th>3</th>\n",
       "      <td>0.138881</td>\n",
       "      <td>0.043263</td>\n",
       "      <td>0.175688</td>\n",
       "      <td>0.078104</td>\n",
       "      <td>0.107333</td>\n",
       "      <td>0.021178</td>\n",
       "      <td>0.183448</td>\n",
       "      <td>0.142657</td>\n",
       "      <td>0.040089</td>\n",
       "      <td>0.017535</td>\n",
       "      <td>0.040780</td>\n",
       "      <td>0.008060</td>\n",
       "      <td>0.002984</td>\n",
       "    </tr>\n",
       "    <tr>\n",
       "      <th>4</th>\n",
       "      <td>0.129998</td>\n",
       "      <td>0.050127</td>\n",
       "      <td>0.165368</td>\n",
       "      <td>0.084631</td>\n",
       "      <td>0.102173</td>\n",
       "      <td>0.021030</td>\n",
       "      <td>0.173383</td>\n",
       "      <td>0.138064</td>\n",
       "      <td>0.052207</td>\n",
       "      <td>0.018490</td>\n",
       "      <td>0.050667</td>\n",
       "      <td>0.009305</td>\n",
       "      <td>0.004556</td>\n",
       "    </tr>\n",
       "    <tr>\n",
       "      <th>5</th>\n",
       "      <td>0.121872</td>\n",
       "      <td>0.050603</td>\n",
       "      <td>0.158397</td>\n",
       "      <td>0.092994</td>\n",
       "      <td>0.097275</td>\n",
       "      <td>0.024983</td>\n",
       "      <td>0.197281</td>\n",
       "      <td>0.130532</td>\n",
       "      <td>0.048652</td>\n",
       "      <td>0.016000</td>\n",
       "      <td>0.043733</td>\n",
       "      <td>0.010335</td>\n",
       "      <td>0.007343</td>\n",
       "    </tr>\n",
       "    <tr>\n",
       "      <th>6</th>\n",
       "      <td>0.123916</td>\n",
       "      <td>0.049716</td>\n",
       "      <td>0.171096</td>\n",
       "      <td>0.088040</td>\n",
       "      <td>0.098039</td>\n",
       "      <td>0.023364</td>\n",
       "      <td>0.174918</td>\n",
       "      <td>0.138746</td>\n",
       "      <td>0.056153</td>\n",
       "      <td>0.016589</td>\n",
       "      <td>0.046618</td>\n",
       "      <td>0.009107</td>\n",
       "      <td>0.003700</td>\n",
       "    </tr>\n",
       "    <tr>\n",
       "      <th>7</th>\n",
       "      <td>0.112865</td>\n",
       "      <td>0.046941</td>\n",
       "      <td>0.182040</td>\n",
       "      <td>0.092423</td>\n",
       "      <td>0.090905</td>\n",
       "      <td>0.025636</td>\n",
       "      <td>0.192004</td>\n",
       "      <td>0.138174</td>\n",
       "      <td>0.046081</td>\n",
       "      <td>0.015405</td>\n",
       "      <td>0.044760</td>\n",
       "      <td>0.007305</td>\n",
       "      <td>0.005463</td>\n",
       "    </tr>\n",
       "    <tr>\n",
       "      <th>8</th>\n",
       "      <td>0.114235</td>\n",
       "      <td>0.053160</td>\n",
       "      <td>0.174345</td>\n",
       "      <td>0.089556</td>\n",
       "      <td>0.088815</td>\n",
       "      <td>0.028193</td>\n",
       "      <td>0.191002</td>\n",
       "      <td>0.125588</td>\n",
       "      <td>0.048222</td>\n",
       "      <td>0.016712</td>\n",
       "      <td>0.048434</td>\n",
       "      <td>0.012471</td>\n",
       "      <td>0.009266</td>\n",
       "    </tr>\n",
       "    <tr>\n",
       "      <th>9</th>\n",
       "      <td>0.097990</td>\n",
       "      <td>0.045907</td>\n",
       "      <td>0.175170</td>\n",
       "      <td>0.088881</td>\n",
       "      <td>0.083755</td>\n",
       "      <td>0.024613</td>\n",
       "      <td>0.221095</td>\n",
       "      <td>0.119006</td>\n",
       "      <td>0.061623</td>\n",
       "      <td>0.017003</td>\n",
       "      <td>0.047053</td>\n",
       "      <td>0.009510</td>\n",
       "      <td>0.008394</td>\n",
       "    </tr>\n",
       "    <tr>\n",
       "      <th>10</th>\n",
       "      <td>0.102941</td>\n",
       "      <td>0.055978</td>\n",
       "      <td>0.162950</td>\n",
       "      <td>0.102294</td>\n",
       "      <td>0.079688</td>\n",
       "      <td>0.028848</td>\n",
       "      <td>0.198718</td>\n",
       "      <td>0.111254</td>\n",
       "      <td>0.064090</td>\n",
       "      <td>0.018069</td>\n",
       "      <td>0.050778</td>\n",
       "      <td>0.011160</td>\n",
       "      <td>0.013232</td>\n",
       "    </tr>\n",
       "    <tr>\n",
       "      <th>11</th>\n",
       "      <td>0.094366</td>\n",
       "      <td>0.054122</td>\n",
       "      <td>0.167629</td>\n",
       "      <td>0.094892</td>\n",
       "      <td>0.075757</td>\n",
       "      <td>0.026018</td>\n",
       "      <td>0.219863</td>\n",
       "      <td>0.105959</td>\n",
       "      <td>0.059962</td>\n",
       "      <td>0.017298</td>\n",
       "      <td>0.063002</td>\n",
       "      <td>0.008907</td>\n",
       "      <td>0.012226</td>\n",
       "    </tr>\n",
       "    <tr>\n",
       "      <th>12</th>\n",
       "      <td>0.094530</td>\n",
       "      <td>0.056483</td>\n",
       "      <td>0.184976</td>\n",
       "      <td>0.088855</td>\n",
       "      <td>0.072862</td>\n",
       "      <td>0.029783</td>\n",
       "      <td>0.226869</td>\n",
       "      <td>0.100973</td>\n",
       "      <td>0.061357</td>\n",
       "      <td>0.012881</td>\n",
       "      <td>0.051209</td>\n",
       "      <td>0.008702</td>\n",
       "      <td>0.010521</td>\n",
       "    </tr>\n",
       "    <tr>\n",
       "      <th>13</th>\n",
       "      <td>0.088837</td>\n",
       "      <td>0.058576</td>\n",
       "      <td>0.193148</td>\n",
       "      <td>0.100035</td>\n",
       "      <td>0.081006</td>\n",
       "      <td>0.031150</td>\n",
       "      <td>0.209502</td>\n",
       "      <td>0.103870</td>\n",
       "      <td>0.049208</td>\n",
       "      <td>0.018297</td>\n",
       "      <td>0.046168</td>\n",
       "      <td>0.010579</td>\n",
       "      <td>0.009623</td>\n",
       "    </tr>\n",
       "    <tr>\n",
       "      <th>14</th>\n",
       "      <td>0.081105</td>\n",
       "      <td>0.052613</td>\n",
       "      <td>0.163871</td>\n",
       "      <td>0.125963</td>\n",
       "      <td>0.068362</td>\n",
       "      <td>0.026724</td>\n",
       "      <td>0.231179</td>\n",
       "      <td>0.088062</td>\n",
       "      <td>0.060570</td>\n",
       "      <td>0.011941</td>\n",
       "      <td>0.052629</td>\n",
       "      <td>0.016386</td>\n",
       "      <td>0.020595</td>\n",
       "    </tr>\n",
       "    <tr>\n",
       "      <th>15</th>\n",
       "      <td>0.092661</td>\n",
       "      <td>0.054943</td>\n",
       "      <td>0.202152</td>\n",
       "      <td>0.112422</td>\n",
       "      <td>0.077023</td>\n",
       "      <td>0.034398</td>\n",
       "      <td>0.178657</td>\n",
       "      <td>0.087386</td>\n",
       "      <td>0.054356</td>\n",
       "      <td>0.026561</td>\n",
       "      <td>0.054252</td>\n",
       "      <td>0.014400</td>\n",
       "      <td>0.010791</td>\n",
       "    </tr>\n",
       "    <tr>\n",
       "      <th>16</th>\n",
       "      <td>0.098608</td>\n",
       "      <td>0.056581</td>\n",
       "      <td>0.204414</td>\n",
       "      <td>0.102124</td>\n",
       "      <td>0.075509</td>\n",
       "      <td>0.031566</td>\n",
       "      <td>0.186082</td>\n",
       "      <td>0.090783</td>\n",
       "      <td>0.058938</td>\n",
       "      <td>0.016980</td>\n",
       "      <td>0.038508</td>\n",
       "      <td>0.022998</td>\n",
       "      <td>0.016908</td>\n",
       "    </tr>\n",
       "    <tr>\n",
       "      <th>17</th>\n",
       "      <td>0.082181</td>\n",
       "      <td>0.059931</td>\n",
       "      <td>0.182296</td>\n",
       "      <td>0.122328</td>\n",
       "      <td>0.063512</td>\n",
       "      <td>0.029166</td>\n",
       "      <td>0.173409</td>\n",
       "      <td>0.077043</td>\n",
       "      <td>0.076261</td>\n",
       "      <td>0.027159</td>\n",
       "      <td>0.074280</td>\n",
       "      <td>0.014368</td>\n",
       "      <td>0.018066</td>\n",
       "    </tr>\n",
       "    <tr>\n",
       "      <th>18</th>\n",
       "      <td>0.072782</td>\n",
       "      <td>0.054987</td>\n",
       "      <td>0.225871</td>\n",
       "      <td>0.133243</td>\n",
       "      <td>0.059463</td>\n",
       "      <td>0.032236</td>\n",
       "      <td>0.147165</td>\n",
       "      <td>0.079878</td>\n",
       "      <td>0.059581</td>\n",
       "      <td>0.012749</td>\n",
       "      <td>0.097010</td>\n",
       "      <td>0.006939</td>\n",
       "      <td>0.018096</td>\n",
       "    </tr>\n",
       "    <tr>\n",
       "      <th>19</th>\n",
       "      <td>0.083527</td>\n",
       "      <td>0.057930</td>\n",
       "      <td>0.228923</td>\n",
       "      <td>0.108802</td>\n",
       "      <td>0.064050</td>\n",
       "      <td>0.034184</td>\n",
       "      <td>0.187775</td>\n",
       "      <td>0.083039</td>\n",
       "      <td>0.053728</td>\n",
       "      <td>0.022084</td>\n",
       "      <td>0.043395</td>\n",
       "      <td>0.009937</td>\n",
       "      <td>0.022626</td>\n",
       "    </tr>\n",
       "    <tr>\n",
       "      <th>20</th>\n",
       "      <td>0.057388</td>\n",
       "      <td>0.055698</td>\n",
       "      <td>0.193286</td>\n",
       "      <td>0.146206</td>\n",
       "      <td>0.055197</td>\n",
       "      <td>0.038543</td>\n",
       "      <td>0.139779</td>\n",
       "      <td>0.067618</td>\n",
       "      <td>0.063861</td>\n",
       "      <td>0.021177</td>\n",
       "      <td>0.099927</td>\n",
       "      <td>0.024788</td>\n",
       "      <td>0.036531</td>\n",
       "    </tr>\n",
       "  </tbody>\n",
       "</table>\n",
       "</div>"
      ],
      "text/plain": [
       "    FoodAtHome  FoodAway   Housing  OtherHousing  Utilities  \\\n",
       "1     0.142340  0.046926  0.206687      0.075096   0.106467   \n",
       "2     0.143017  0.044233  0.190325      0.090783   0.109151   \n",
       "3     0.138881  0.043263  0.175688      0.078104   0.107333   \n",
       "4     0.129998  0.050127  0.165368      0.084631   0.102173   \n",
       "5     0.121872  0.050603  0.158397      0.092994   0.097275   \n",
       "6     0.123916  0.049716  0.171096      0.088040   0.098039   \n",
       "7     0.112865  0.046941  0.182040      0.092423   0.090905   \n",
       "8     0.114235  0.053160  0.174345      0.089556   0.088815   \n",
       "9     0.097990  0.045907  0.175170      0.088881   0.083755   \n",
       "10    0.102941  0.055978  0.162950      0.102294   0.079688   \n",
       "11    0.094366  0.054122  0.167629      0.094892   0.075757   \n",
       "12    0.094530  0.056483  0.184976      0.088855   0.072862   \n",
       "13    0.088837  0.058576  0.193148      0.100035   0.081006   \n",
       "14    0.081105  0.052613  0.163871      0.125963   0.068362   \n",
       "15    0.092661  0.054943  0.202152      0.112422   0.077023   \n",
       "16    0.098608  0.056581  0.204414      0.102124   0.075509   \n",
       "17    0.082181  0.059931  0.182296      0.122328   0.063512   \n",
       "18    0.072782  0.054987  0.225871      0.133243   0.059463   \n",
       "19    0.083527  0.057930  0.228923      0.108802   0.064050   \n",
       "20    0.057388  0.055698  0.193286      0.146206   0.055197   \n",
       "\n",
       "    ClothingAndBeauty  Transportation  Healthcare  Entertainment  \\\n",
       "1            0.022046        0.143821    0.124984       0.053301   \n",
       "2            0.021109        0.152100    0.123267       0.045610   \n",
       "3            0.021178        0.183448    0.142657       0.040089   \n",
       "4            0.021030        0.173383    0.138064       0.052207   \n",
       "5            0.024983        0.197281    0.130532       0.048652   \n",
       "6            0.023364        0.174918    0.138746       0.056153   \n",
       "7            0.025636        0.192004    0.138174       0.046081   \n",
       "8            0.028193        0.191002    0.125588       0.048222   \n",
       "9            0.024613        0.221095    0.119006       0.061623   \n",
       "10           0.028848        0.198718    0.111254       0.064090   \n",
       "11           0.026018        0.219863    0.105959       0.059962   \n",
       "12           0.029783        0.226869    0.100973       0.061357   \n",
       "13           0.031150        0.209502    0.103870       0.049208   \n",
       "14           0.026724        0.231179    0.088062       0.060570   \n",
       "15           0.034398        0.178657    0.087386       0.054356   \n",
       "16           0.031566        0.186082    0.090783       0.058938   \n",
       "17           0.029166        0.173409    0.077043       0.076261   \n",
       "18           0.032236        0.147165    0.079878       0.059581   \n",
       "19           0.034184        0.187775    0.083039       0.053728   \n",
       "20           0.038543        0.139779    0.067618       0.063861   \n",
       "\n",
       "    Miscellaneous  CharitableAndFamilyGiving  Insurance  Education  \n",
       "1        0.029582                   0.035278   0.009298   0.004175  \n",
       "2        0.021985                   0.047688   0.007347   0.003384  \n",
       "3        0.017535                   0.040780   0.008060   0.002984  \n",
       "4        0.018490                   0.050667   0.009305   0.004556  \n",
       "5        0.016000                   0.043733   0.010335   0.007343  \n",
       "6        0.016589                   0.046618   0.009107   0.003700  \n",
       "7        0.015405                   0.044760   0.007305   0.005463  \n",
       "8        0.016712                   0.048434   0.012471   0.009266  \n",
       "9        0.017003                   0.047053   0.009510   0.008394  \n",
       "10       0.018069                   0.050778   0.011160   0.013232  \n",
       "11       0.017298                   0.063002   0.008907   0.012226  \n",
       "12       0.012881                   0.051209   0.008702   0.010521  \n",
       "13       0.018297                   0.046168   0.010579   0.009623  \n",
       "14       0.011941                   0.052629   0.016386   0.020595  \n",
       "15       0.026561                   0.054252   0.014400   0.010791  \n",
       "16       0.016980                   0.038508   0.022998   0.016908  \n",
       "17       0.027159                   0.074280   0.014368   0.018066  \n",
       "18       0.012749                   0.097010   0.006939   0.018096  \n",
       "19       0.022084                   0.043395   0.009937   0.022626  \n",
       "20       0.021177                   0.099927   0.024788   0.036531  "
      ]
     },
     "execution_count": 23,
     "metadata": {},
     "output_type": "execute_result"
    }
   ],
   "source": [
    "plyntyFamily"
   ]
  },
  {
   "cell_type": "markdown",
   "metadata": {},
   "source": [
    "# Outputing Dataframes to Csv"
   ]
  },
  {
   "cell_type": "code",
   "execution_count": 24,
   "metadata": {
    "collapsed": false
   },
   "outputs": [
    {
     "name": "stdout",
     "output_type": "stream",
     "text": [
      "Creating the csvs filled with plynty categories percentages\n"
     ]
    }
   ],
   "source": [
    "print(\"Creating the csvs filled with plynty categories percentages\")\n",
    "\n",
    "plyntySingle.to_csv(\"plyntySinglePercentages.csv\")\n",
    "plyntyFamily.to_csv(\"plyntyFamilyPercentages.csv\")"
   ]
  },
  {
   "cell_type": "markdown",
   "metadata": {},
   "source": [
    "# Income Spent Regression\n",
    "### Making Dataframe of NEWID,TotalExp, and income before taxes\n",
    "outputs:\n",
    "- incomeRegressionSingle (dataframe)\n",
    " - contains NEWID, TotalExp, and IncomeBeforeTaxes for each NEWID in single subset\n",
    "- incomeRegressionFamily (dataframe)\n",
    " - contains NEWID, TotalExp, and IncomeBeforeTaxes for each NEWID in family subset"
   ]
  },
  {
   "cell_type": "code",
   "execution_count": 25,
   "metadata": {
    "collapsed": false
   },
   "outputs": [
    {
     "name": "stdout",
     "output_type": "stream",
     "text": [
      "Creating the Income Spent Regression\n"
     ]
    }
   ],
   "source": [
    "print(\"Creating the Income Spent Regression\")\n",
    "\n",
    "incomeRegressionSingle = pd.DataFrame()\n",
    "for value in nonWeightedExpensesByNEWIDSingle.values():\n",
    "    incomeRegressionSingle = incomeRegressionSingle.append(value[[\"NEWID\",\"TotalExp\"]], ignore_index=True)\n",
    "\n",
    "incomeRegressionFamily = pd.DataFrame()\n",
    "for value in nonWeightedExpensesByNEWIDFamily.values():\n",
    "    incomeRegressionFamily = incomeRegressionFamily.append(value[[\"NEWID\",\"TotalExp\"]], ignore_index=True)\n",
    "\n",
    "fmli = pd.concat([value for key,value in data.items() if 'fmli' in key.lower()], ignore_index=True)[[\"NEWID\",\"FINCBTXM\"]]    \n",
    "\n",
    "incomeRegressionSingle = pd.merge(incomeRegressionSingle, fmli, on='NEWID', how='inner')\n",
    "incomeRegressionSingle['TotalExp'] = incomeRegressionSingle['TotalExp'] * 4\n",
    "incomeRegressionSingle = incomeRegressionSingle[incomeRegressionSingle > 0].dropna()\n",
    "\n",
    "incomeRegressionFamily = pd.merge(incomeRegressionFamily, fmli, on='NEWID', how='inner')\n",
    "incomeRegressionFamily['TotalExp'] = incomeRegressionFamily['TotalExp'] * 4\n",
    "incomeRegressionFamily = incomeRegressionFamily[incomeRegressionFamily > 0].dropna()"
   ]
  },
  {
   "cell_type": "code",
   "execution_count": 26,
   "metadata": {
    "collapsed": false
   },
   "outputs": [],
   "source": [
    "def getExpendPercent(income, regressionDf, truncation = None):\n",
    "    if income <= 0:\n",
    "        return(1)\n",
    "    coefficients = np.polyfit(regressionDf.FINCBTXM, regressionDf.TotalExp, deg = 3)\n",
    "    p = np.poly1d(coefficients)\n",
    "#     print(p)\n",
    "    np.seterr(divide='ignore')\n",
    "    percent = p(income)/income\n",
    "    if percent > 1:\n",
    "        percent = 1\n",
    "    if (not truncation == None) and len(truncation) == 2:\n",
    "        truncationIncome = truncation[0]\n",
    "        truncationPercent = truncation[1]\n",
    "        if income > truncationIncome:\n",
    "            return(truncationPercent)\n",
    "    elif not truncation == None:\n",
    "        print(\"Truncation is not correct\")\n",
    "    return(percent)\n",
    "\n",
    "def oldRegression(income):\n",
    "    if income > 53000:\n",
    "        output = ((-7.6108*(10**(-17)))*(income**3))+((4.2009*(10**(-11)))*(income**2))+((-7.90256*(10**-6))*income)+1.21112\n",
    "    else:\n",
    "        output = 1\n",
    "    return(output)"
   ]
  },
  {
   "cell_type": "markdown",
   "metadata": {},
   "source": [
    "# Plotting"
   ]
  },
  {
   "cell_type": "code",
   "execution_count": 27,
   "metadata": {
    "collapsed": false
   },
   "outputs": [
    {
     "name": "stdout",
     "output_type": "stream",
     "text": [
      "Plotting\n"
     ]
    }
   ],
   "source": [
    "print(\"Plotting\")"
   ]
  },
  {
   "cell_type": "markdown",
   "metadata": {},
   "source": [
    "### Creating the Percent of Income Spent Graph"
   ]
  },
  {
   "cell_type": "code",
   "execution_count": 28,
   "metadata": {
    "collapsed": false
   },
   "outputs": [],
   "source": [
    "xSingleRegression = range(0,400000,1000)\n",
    "xFamilyRegression = range(0,400000,1000)\n",
    "xOldRegression = range(0,350000,1000)\n",
    "ySingleRegression = []\n",
    "yFamilyRegression = []\n",
    "yOldRegression = []\n",
    "for income in xSingleRegression:\n",
    "    ySingleRegression.append(getExpendPercent(income, incomeRegressionSingle))\n",
    "for income in xFamilyRegression:\n",
    "    yFamilyRegression.append(getExpendPercent(income, incomeRegressionFamily))\n",
    "for income in xOldRegression:\n",
    "    yOldRegression.append(oldRegression(income))"
   ]
  },
  {
   "cell_type": "markdown",
   "metadata": {},
   "source": [
    "### Trucation point for regressions"
   ]
  },
  {
   "cell_type": "code",
   "execution_count": 29,
   "metadata": {
    "collapsed": false
   },
   "outputs": [],
   "source": [
    "SingleTruncation = [ySingleRegression.index(min(ySingleRegression)) * 1000, round(min(ySingleRegression),2)]\n",
    "FamilyTruncation = [yFamilyRegression.index(min(yFamilyRegression)) * 1000, round(min(yFamilyRegression),2)]\n",
    "ySingleRegression = []\n",
    "yFamilyRegression = []\n",
    "for income in xSingleRegression:\n",
    "    ySingleRegression.append(getExpendPercent(income, incomeRegressionSingle, SingleTruncation))\n",
    "for income in xFamilyRegression:\n",
    "    yFamilyRegression.append(getExpendPercent(income, incomeRegressionFamily, FamilyTruncation))"
   ]
  },
  {
   "cell_type": "code",
   "execution_count": 30,
   "metadata": {
    "collapsed": false,
    "scrolled": false
   },
   "outputs": [
    {
     "data": {
      "image/png": "[encoded data removed]",
      "text/plain": [
       "<matplotlib.figure.Figure at 0x14ab8e080>"
      ]
     },
     "metadata": {},
     "output_type": "display_data"
    }
   ],
   "source": [
    "plt.plot(xOldRegression,yOldRegression, color = \"g\", label = \"Old Regression\")\n",
    "plt.plot(xSingleRegression,ySingleRegression, color = \"b\", label = \"Single Regression\")\n",
    "plt.plot(xFamilyRegression,yFamilyRegression, color = \"r\", label = \"Family Regression\")\n",
    "plt.title(\"Income Spent Regressions\")\n",
    "plt.xlabel(\"Income\")\n",
    "plt.ylabel(\"Percent of Income Spent\")\n",
    "plt.legend()\n",
    "plt.show()"
   ]
  },
  {
   "cell_type": "markdown",
   "metadata": {},
   "source": [
    "### Income vs Expenditure plots"
   ]
  },
  {
   "cell_type": "code",
   "execution_count": 31,
   "metadata": {
    "collapsed": false
   },
   "outputs": [],
   "source": [
    "sortedIncomeSingleRegression = sorted(list(set(incomeRegressionSingle.FINCBTXM)))\n",
    "singleIncomeRegressionExamples = []\n",
    "for income in sortedIncomeSingleRegression:\n",
    "    singleIncomeRegressionExamples.append(income * getExpendPercent(income, incomeRegressionSingle))\n",
    "    \n",
    "sortedIncomeFamilyRegression = sorted(list(set(incomeRegressionFamily.FINCBTXM)))\n",
    "familyIncomeRegressionExamples = []\n",
    "for income in sortedIncomeFamilyRegression:\n",
    "    familyIncomeRegressionExamples.append(income * getExpendPercent(income, incomeRegressionFamily))"
   ]
  },
  {
   "cell_type": "code",
   "execution_count": 32,
   "metadata": {
    "collapsed": false
   },
   "outputs": [
    {
     "data": {
      "image/png": "[encoded data removed]",
      "text/plain": [
       "<matplotlib.figure.Figure at 0x10f548780>"
      ]
     },
     "metadata": {},
     "output_type": "display_data"
    }
   ],
   "source": [
    "plt.scatter(incomeRegressionSingle.FINCBTXM, incomeRegressionSingle.TotalExp, color='b', s=3)\n",
    "plt.plot(sortedIncomeSingleRegression, singleIncomeRegressionExamples, color = \"black\")\n",
    "plt.xlabel(\"Income before Taxes\")\n",
    "plt.ylabel(\"Dollars Spent on Plynty categories\")\n",
    "plt.title(\"Single person CUs Income vs Expenditure\")\n",
    "plt.xlim(0,700000)\n",
    "plt.ylim(0,1000000)\n",
    "plt.show()"
   ]
  },
  {
   "cell_type": "code",
   "execution_count": 33,
   "metadata": {
    "collapsed": false
   },
   "outputs": [
    {
     "data": {
      "image/png": "[encoded data removed]",
      "text/plain": [
       "<matplotlib.figure.Figure at 0x14abd2390>"
      ]
     },
     "metadata": {},
     "output_type": "display_data"
    }
   ],
   "source": [
    "plt.scatter(incomeRegressionFamily.FINCBTXM, incomeRegressionFamily.TotalExp, color='r', s=3)\n",
    "plt.plot(sortedIncomeFamilyRegression, familyIncomeRegressionExamples, color = \"black\")\n",
    "plt.xlabel(\"Income before Taxes\")\n",
    "plt.ylabel(\"Dollars Spent on Plynty categories\")\n",
    "plt.title(\"Multiple person CUs Income vs Expenditure\")\n",
    "plt.xlim(0,700000)\n",
    "plt.ylim(0,1000000)\n",
    "plt.show()"
   ]
  },
  {
   "cell_type": "markdown",
   "metadata": {},
   "source": [
    "## Income vs Expenditure Plots using FLMI Columns\n",
    "- fmli columns: pre-made columns totals from the bls that deal with total expenditure"
   ]
  },
  {
   "cell_type": "code",
   "execution_count": 34,
   "metadata": {
    "collapsed": false
   },
   "outputs": [
    {
     "data": {
      "image/png": "[encoded data removed]",
      "text/plain": [
       "<matplotlib.figure.Figure at 0x14a7ae748>"
      ]
     },
     "metadata": {},
     "output_type": "display_data"
    }
   ],
   "source": [
    "fmli = pd.concat([value for key,value in data.items() if 'fmli' in key.lower()], ignore_index=True)\n",
    "\n",
    "SingleFlat = set()\n",
    "for value in Single.values():\n",
    "    SingleFlat = SingleFlat.union(value)\n",
    "\n",
    "totalYearlyExpenditure = (fmli[fmli.NEWID.isin(SingleFlat)].TOTEXPCQ + fmli[fmli.NEWID.isin(SingleFlat)].TOTEXPPQ) * 4\n",
    "totalYearlyIncome = fmli[fmli.NEWID.isin(SingleFlat)].FINCBTXM\n",
    "testRegressionDF = pd.concat([totalYearlyIncome,totalYearlyExpenditure], axis=1, keys=['FINCBTXM', 'TotalExp'])\n",
    "# testRegressionDF[\"FINCBTXM\"] = totalYearlyIncome\n",
    "# testRegressionDF[\"TotalExp\"] = totalYearlyExpenditure\n",
    "sortedtestRegression = sorted(list(set(testRegressionDF.FINCBTXM)))\n",
    "testRegressionExamples = []\n",
    "for income in sortedtestRegression:\n",
    "    testRegressionExamples.append(income * getExpendPercent(income, testRegressionDF))\n",
    "plt.plot(sortedtestRegression, testRegressionExamples, color = \"black\")\n",
    "plt.scatter(totalYearlyIncome, totalYearlyExpenditure, color='r', s=3)\n",
    "# plt.plot(sortedIncomeFamilyRegression, familyIncomeRegressionExamples, color = \"black\")\n",
    "plt.xlabel(\"Income before Taxes\")\n",
    "plt.ylabel(\"Dollars Spent on Plynty categories\")\n",
    "plt.title(\"Single FMLI CUs Income vs Expenditure\")\n",
    "plt.xlim(0,700000)\n",
    "plt.ylim(0,1000000)\n",
    "plt.show()"
   ]
  },
  {
   "cell_type": "code",
   "execution_count": 35,
   "metadata": {
    "collapsed": false
   },
   "outputs": [
    {
     "data": {
      "image/png": "[encoded data removed]",
      "text/plain": [
       "<matplotlib.figure.Figure at 0x10f4c8b38>"
      ]
     },
     "metadata": {},
     "output_type": "display_data"
    }
   ],
   "source": [
    "xTestRegression = range(0,400000,1000)\n",
    "\n",
    "yTestRegression = []\n",
    "\n",
    "for income in xTestRegression:\n",
    "    yTestRegression.append(getExpendPercent(income, testRegressionDF))\n",
    "\n",
    "TestTruncation = [yTestRegression.index(min(yTestRegression)) * 1000, round(min(yTestRegression),2)]\n",
    "yTestRegression = []\n",
    "for income in xTestRegression:\n",
    "    yTestRegression.append(getExpendPercent(income, testRegressionDF, TestTruncation))\n",
    "    \n",
    "plt.plot(xTestRegression,yTestRegression, color = \"b\", label = \"Single FMLI\")\n",
    "plt.title(\"Income Spent Regressions\")\n",
    "plt.xlabel(\"Income\")\n",
    "plt.ylabel(\"Percent of Income Spent\")\n",
    "plt.ylim(0.25,1.05)\n",
    "plt.legend()\n",
    "plt.show()"
   ]
  },
  {
   "cell_type": "markdown",
   "metadata": {},
   "source": [
    "### Number of Users"
   ]
  },
  {
   "cell_type": "code",
   "execution_count": 36,
   "metadata": {
    "collapsed": true
   },
   "outputs": [],
   "source": [
    "singleCountNEWIDs = {}\n",
    "for income in subsetNEWIDs[\"SingleIncome\"]:\n",
    "    newidSet = set()\n",
    "    for year in subsetNEWIDs[\"Year\"]:\n",
    "        for month in subsetNEWIDs[\"Month\"]:\n",
    "            newidSet = newidSet.union(Single[(year,month,income)])\n",
    "    singleCountNEWIDs[income] = len(newidSet)\n",
    "    \n",
    "familyCountNEWIDs = {}\n",
    "for income in subsetNEWIDs[\"FamilyIncome\"]:\n",
    "    newidSet = set()\n",
    "    for year in subsetNEWIDs[\"Year\"]:\n",
    "        for month in subsetNEWIDs[\"Month\"]:\n",
    "            newidSet = newidSet.union(Family[(year,month,income)])\n",
    "    familyCountNEWIDs[income] = len(newidSet)"
   ]
  },
  {
   "cell_type": "code",
   "execution_count": 37,
   "metadata": {
    "collapsed": false
   },
   "outputs": [
    {
     "data": {
      "image/png": "[encoded data removed]",
      "text/plain": [
       "<matplotlib.figure.Figure at 0x1469cc2b0>"
      ]
     },
     "metadata": {},
     "output_type": "display_data"
    }
   ],
   "source": [
    "plt.bar(range(len(singleCountNEWIDs)), singleCountNEWIDs.values(), align='center', color='b')\n",
    "plt.xticks(range(len(singleCountNEWIDs)), singleCountNEWIDs.keys())\n",
    "plt.xlabel(\"Income Class\")\n",
    "plt.ylabel(\"Count of CUs\")\n",
    "plt.title(\"Count of Single Person CUs\")\n",
    "plt.show()"
   ]
  },
  {
   "cell_type": "code",
   "execution_count": 38,
   "metadata": {
    "collapsed": false
   },
   "outputs": [
    {
     "data": {
      "image/png": "[encoded data removed]",
      "text/plain": [
       "<matplotlib.figure.Figure at 0x146645eb8>"
      ]
     },
     "metadata": {},
     "output_type": "display_data"
    }
   ],
   "source": [
    "plt.bar(range(len(familyCountNEWIDs)), familyCountNEWIDs.values(), align='center', color='r')\n",
    "plt.xticks(range(len(familyCountNEWIDs)), familyCountNEWIDs.keys())\n",
    "plt.xlabel(\"Income Class\")\n",
    "plt.ylabel(\"Count of CUs\")\n",
    "plt.title(\"Count of Family CUs\")\n",
    "plt.show()"
   ]
  },
  {
   "cell_type": "markdown",
   "metadata": {},
   "source": [
    "# Get Example Expenditures"
   ]
  },
  {
   "cell_type": "code",
   "execution_count": 39,
   "metadata": {
    "collapsed": false
   },
   "outputs": [
    {
     "data": {
      "text/plain": [
       "FoodAtHome                   321.04\n",
       "FoodAway                     150.28\n",
       "Housing                      707.04\n",
       "OtherHousing                 327.35\n",
       "Utilities                    286.85\n",
       "ClothingAndBeauty             89.32\n",
       "Transportation               579.34\n",
       "Healthcare                   314.86\n",
       "Entertainment                173.90\n",
       "Miscellaneous                 58.85\n",
       "CharitableAndFamilyGiving    269.60\n",
       "Insurance                     28.36\n",
       "Education                     16.17\n",
       "Name: 5, dtype: float64"
      ]
     },
     "execution_count": 39,
     "metadata": {},
     "output_type": "execute_result"
    }
   ],
   "source": [
    "income = 50000\n",
    "single = True\n",
    "\n",
    "if single:\n",
    "    regressionDf = incomeRegressionSingle\n",
    "    theIncomeBrackets = singleIncomeBrackets\n",
    "    plyntyDf = plyntySingle\n",
    "    truncation = SingleTruncation\n",
    "else:\n",
    "    regressionDf = incomeRegressionFamily\n",
    "    theIncomeBrackets = familyIncomeBrackets\n",
    "    plyntyDf = plyntyFamily\n",
    "    truncation = FamilyTruncation\n",
    "\n",
    "def getIncomeBracketIndex(income, theIncomeBrackets):\n",
    "    incomebracket = 0\n",
    "    for i in range(0,len(theIncomeBrackets)):\n",
    "        if income <= theIncomeBrackets[i]:\n",
    "            return(i-1)\n",
    "    return(len(theIncomeBrackets)-1)\n",
    "\n",
    "round((plyntyDf.iloc[getIncomeBracketIndex(income, theIncomeBrackets),:] * getExpendPercent(income, regressionDf, truncation) * income)/ 12, 2)"
   ]
  },
  {
   "cell_type": "markdown",
   "metadata": {},
   "source": [
    "## Hospital room and services"
   ]
  },
  {
   "cell_type": "code",
   "execution_count": 40,
   "metadata": {
    "collapsed": false,
    "scrolled": true
   },
   "outputs": [
    {
     "data": {
      "image/png": "[encoded data removed]",
      "text/plain": [
       "<matplotlib.figure.Figure at 0x1189817b8>"
      ]
     },
     "metadata": {},
     "output_type": "display_data"
    }
   ],
   "source": [
    "plt.boxplot(list(oneTimeSubsetMtbi.COST))\n",
    "plt.title(\"Boxplot of Hospital Costs\")\n",
    "plt.ylabel(\"Dollars\")\n",
    "plt.show()"
   ]
  }
 ],
 "metadata": {
  "kernelspec": {
   "display_name": "Python 3",
   "language": "python",
   "name": "python3"
  },
  "language_info": {
   "codemirror_mode": {
    "name": "ipython",
    "version": 3
   },
   "file_extension": ".py",
   "mimetype": "text/x-python",
   "name": "python",
   "nbconvert_exporter": "python",
   "pygments_lexer": "ipython3",
   "version": "3.6.0"
  }
 },
 "nbformat": 4,
 "nbformat_minor": 2
}
