{
 "cells": [
  {
   "cell_type": "markdown",
   "metadata": {},
   "source": [
    "# Plynty Bureau of Labor Statistics Consumer Expenditure Analysis\n",
    "\n",
    "[BLS Comsumer Expenditure Survey](https://www.bls.gov/cex/home.htm)\n",
    "\n",
    "[Interview Data Dictionary](https://www.bls.gov/cex/2015/csxintvwdata.pdf)\n",
    "\n",
    "### Where to download the BLS CE PUMD\n",
    "- The zip files download automatically\n",
    "- To download the Stub files open the links then right click and choose \"Save As...\"\n",
    "\n",
    "[2015 interview zip file](https://www.bls.gov/cex/pumd/data/comma/intrvw15.zip)\n",
    "\n",
    "[2014 interview zip file](https://www.bls.gov/cex/pumd/data/comma/intrvw14.zip)\n",
    "\n",
    "[2013 interview zip file](https://www.bls.gov/cex/pumd/data/comma/intrvw13.zip)\n",
    "\n",
    "[2015 IntStub file](https://www.bls.gov/cex/pumd/2014/csxintstub.txt)\n",
    "\n",
    "[2015 IStub file](https://www.bls.gov/cex/pumd/2014/csxistub.txt)\n",
    "\n",
    "[2015 DStub file](https://www.bls.gov/cex/pumd/2014/csxdstub.txt)\n",
    "\n",
    "### This Scripts Goals for Plynty\n",
    "- Create an easy to use analysis script for the BLS CE PUMD \n",
    "- Create csv files that has average percentages spent on plynty categories for certain income classes\n",
    "- Compare the Family CUs vs the Single person CUs"
   ]
  },
  {
   "cell_type": "markdown",
   "metadata": {},
   "source": [
    "#### Importing Dependencies"
   ]
  },
  {
   "cell_type": "code",
   "execution_count": 1,
   "metadata": {
    "collapsed": false
   },
   "outputs": [],
   "source": [
    "import pandas as pd\n",
    "import numpy as np\n",
    "import os\n",
    "import subprocess\n",
    "from copy import deepcopy\n",
    "from BLSFunctions import *"
   ]
  },
  {
   "cell_type": "markdown",
   "metadata": {},
   "source": [
    "# Setting Variables"
   ]
  },
  {
   "cell_type": "code",
   "execution_count": 2,
   "metadata": {
    "collapsed": false
   },
   "outputs": [],
   "source": [
    "years = [\"13\",\"14\",\"15\"]\n",
    "filesToRead = [\"fmli\", \"mtbi\"]\n",
    "\n",
    "minAge = 60\n",
    "maxAge = 75\n",
    "\n",
    "familyIncomeBrackets = [-10000000, 10000, 20000, 30000, 40000, 50000, 60000, 70000, 80000, 90000, 100000, 110000, 120000, 130000, 140000, 160000, 180000, 210000, 240000, 290000, 9980000]\n",
    "singleIncomeBrackets = [-10000000, 10000, 20000, 30000, 40000, 50000, 60000, 70000, 90000, 120000, 9980000]\n",
    "# familyIncomeBrackets = [-10000000, 20000, 30000, 40000, 50000, 60000, 75000, 90000, 110000, 140000, 200000, 9990000]\n",
    "# singleIncomeBrackets = [-10000000, 15000, 30000, 40000, 50000, 60000, 75000, 100000, 9990000]\n",
    "\n",
    "pumdDir = \".../BLS_Python_Analysis/CE_PUMD/\""
   ]
  },
  {
   "cell_type": "markdown",
   "metadata": {},
   "source": [
    "# Reading in Stubfiles"
   ]
  },
  {
   "cell_type": "code",
   "execution_count": 3,
   "metadata": {
    "collapsed": false
   },
   "outputs": [
    {
     "name": "stdout",
     "output_type": "stream",
     "text": [
      "Stubfiles Exist\n"
     ]
    }
   ],
   "source": [
    "# Directory where stubfiles are located\n",
    "pathToStubFileDir = \".../BLS_Python_Analysis/Stubfiles/\"\n",
    "rScriptStubfilePathAndName = \".../BLS_Python_Analysis/creatingStubCsvs.R\"\n",
    "\n",
    "stubFileDict = {}\n",
    "stubFileDict[\"IStub\"] =  \"IStub2015.txt\"\n",
    "stubFileDict[\"DStub\"] =  \"DStub2015.txt\"\n",
    "stubFileDict[\"IntStub\"] =  \"IntStub2015.txt\"\n",
    "\n",
    "if os.path.isfile(pathToStubFileDir+\"DStub.csv\") and os.path.isfile(pathToStubFileDir+\"IStub.csv\") and os.path.isfile(pathToStubFileDir+\"IntStub.csv\"):\n",
    "    print(\"Stubfiles Exist\")\n",
    "else:\n",
    "    # converting the stub files via R \n",
    "    subprocess.call(\"Rscript \"+rScriptStubfilePathAndName+\" \"+pathToStubFileDir+\" \"+stubFileDict[\"IStub\"]+\" \"+stubFileDict[\"DStub\"]+\" \"+stubFileDict[\"IntStub\"], shell=True)\n",
    "    print(\"Stubfile Csvs created in \"+pathToStubFileDir)\n",
    "    \n",
    "# reading and cleaning the stubfiles    \n",
    "for key in stubFileDict.keys():\n",
    "    stubFileDict[key] = pd.read_csv(pathToStubFileDir+key+\".csv\")\n",
    "    stubFileDict[key] = stubFileDict[key].drop(stubFileDict[key].columns[0], axis=1)\n",
    "    stubFileDict[key].loc[stubFileDict[key].level == \"*\", 'level'] = 0"
   ]
  },
  {
   "cell_type": "markdown",
   "metadata": {},
   "source": [
    "# Creating the Data dictionary\n",
    "output:\n",
    "   - data (dictionary)\n",
    "      - key: filenameYear\n",
    "      - value: dataframe"
   ]
  },
  {
   "cell_type": "code",
   "execution_count": 4,
   "metadata": {
    "collapsed": false,
    "scrolled": true
   },
   "outputs": [
    {
     "name": "stdout",
     "output_type": "stream",
     "text": [
      "Reading fmli13\n",
      "Reading mtbi13\n",
      "Reading fmli14\n",
      "Reading mtbi14\n",
      "Reading fmli15\n",
      "Reading mtbi15\n"
     ]
    }
   ],
   "source": [
    "data = {}\n",
    "for year in years:\n",
    "    yearDir = pumdDir+\"intrvw\"+year+\"/intrvw\"+year+\"/\"\n",
    "    for file in filesToRead:\n",
    "        print(\"Reading \"+file+year)\n",
    "        dataframe = readFileSet(file,yearDir)\n",
    "        data[file+year] = dataframe\n",
    "        \n",
    "fmli = pd.concat([value for key,value in data.items() if 'fmli' in key.lower()], ignore_index=True)"
   ]
  },
  {
   "cell_type": "markdown",
   "metadata": {},
   "source": [
    "# Creating Subset NEWID dictionary\n",
    "output:\n",
    "- subsetNEWIDs\n",
    " - key: Subset Category\n",
    " - value: dictionary or list of NEWIDs associated with the subset"
   ]
  },
  {
   "cell_type": "code",
   "execution_count": 5,
   "metadata": {
    "collapsed": false
   },
   "outputs": [],
   "source": [
    "subsetNEWIDs = {}\n",
    "subsetNEWIDs[\"Age\"] = []\n",
    "subsetNEWIDs[\"Family\"] = []\n",
    "subsetNEWIDs[\"Single\"] = []\n",
    "subsetNEWIDs[\"Year\"] = {}\n",
    "subsetNEWIDs[\"Month\"] = {}\n",
    "subsetNEWIDs[\"FamilyIncome\"] = {}\n",
    "subsetNEWIDs[\"SingleIncome\"] = {}\n",
    "\n",
    "# creating empty lists within dictionaries\n",
    "for bracket in range(1,len(familyIncomeBrackets)):\n",
    "    subsetNEWIDs[\"FamilyIncome\"][bracket] = []\n",
    "for bracket in range(1,len(singleIncomeBrackets)):\n",
    "    subsetNEWIDs[\"SingleIncome\"][bracket] = []\n",
    "for month in range(1,13):\n",
    "    subsetNEWIDs[\"Month\"][month] = []\n",
    "for year in years:\n",
    "    subsetNEWIDs[\"Year\"][2000+int(year)] = []\n",
    "    \n",
    "# filling in lists\n",
    "for year in years:\n",
    "    fmliYear = \"fmli\"+year\n",
    "    subsetNEWIDs[\"Age\"].extend(getSubsetNEWIDs(dataframe=data[fmliYear], columnName=\"AGE_REF\", minValue=minAge, maxValue=maxAge))\n",
    "    subsetNEWIDs[\"Family\"].extend(getSubsetNEWIDs(dataframe=data[fmliYear], columnName=\"FAM_SIZE\", minValue = 2, maxValue = 100))\n",
    "    subsetNEWIDs[\"Single\"].extend(getSubsetNEWIDs(dataframe=data[fmliYear], columnName=\"FAM_SIZE\", minValue = 1))\n",
    "    for year1 in years:\n",
    "        subsetNEWIDs[\"Year\"][2000+int(year1)].extend(getSubsetNEWIDs(dataframe=data[fmliYear], columnName = \"QINTRVYR\", minValue = 2000+int(year1)))\n",
    "    for month in subsetNEWIDs[\"Month\"].keys():\n",
    "        subsetNEWIDs[\"Month\"][month].extend(getSubsetNEWIDs(dataframe=data[fmliYear], columnName = \"QINTRVMO\",  minValue = month))\n",
    "    for bracket in subsetNEWIDs[\"FamilyIncome\"].keys():\n",
    "        subsetNEWIDs[\"FamilyIncome\"][bracket].extend(getSubsetNEWIDs(dataframe=data[fmliYear], columnName=\"FINCBTXM\",minValue = familyIncomeBrackets[bracket-1], maxValue = familyIncomeBrackets[bracket]-1))\n",
    "    for bracket in subsetNEWIDs[\"SingleIncome\"].keys():\n",
    "        subsetNEWIDs[\"SingleIncome\"][bracket].extend(getSubsetNEWIDs(dataframe=data[fmliYear], columnName=\"FINCBTXM\",minValue = singleIncomeBrackets[bracket-1], maxValue = singleIncomeBrackets[bracket]-1))"
   ]
  },
  {
   "cell_type": "markdown",
   "metadata": {},
   "source": [
    "### Creating Human Readable Income bracket dictionaries"
   ]
  },
  {
   "cell_type": "code",
   "execution_count": 6,
   "metadata": {
    "collapsed": false
   },
   "outputs": [],
   "source": [
    "getSingleIncomeBracket = {}\n",
    "for bracket in subsetNEWIDs[\"SingleIncome\"].keys():\n",
    "    getSingleIncomeBracket[bracket] = str(singleIncomeBrackets[bracket-1])+\"-\"+str(singleIncomeBrackets[bracket])\n",
    "\n",
    "getFamilyIncomeBracket = {}\n",
    "for bracket in subsetNEWIDs[\"FamilyIncome\"].keys():\n",
    "    getFamilyIncomeBracket[bracket] = str(familyIncomeBrackets[bracket-1])+\"-\"+str(familyIncomeBrackets[bracket])"
   ]
  },
  {
   "cell_type": "markdown",
   "metadata": {},
   "source": [
    "# Subsetting NEWIDs based on SubsetNEWIDs dictionary\n",
    "outputs:\n",
    "- Single (dictionary)\n",
    " - key: tuple of subset category\n",
    " - value: set of NEWIDs assocaiated with tuple\n",
    "- Family (dictionary)\n",
    " - key: tuple of subset category\n",
    " - value: set of NEWIDs assocaiated with tuple"
   ]
  },
  {
   "cell_type": "code",
   "execution_count": 7,
   "metadata": {
    "collapsed": false
   },
   "outputs": [],
   "source": [
    "Single = subsetDictionary(subsetNEWIDs, [\"Age\",\"Single\",\"Year\",\"Month\",\"SingleIncome\"])\n",
    "Family = subsetDictionary(subsetNEWIDs, [\"Age\",\"Family\",\"Year\",\"Month\",\"FamilyIncome\"])"
   ]
  },
  {
   "cell_type": "markdown",
   "metadata": {},
   "source": [
    "## Medical Emergencies"
   ]
  },
  {
   "cell_type": "code",
   "execution_count": 8,
   "metadata": {
    "collapsed": false,
    "scrolled": true
   },
   "outputs": [
    {
     "name": "stdout",
     "output_type": "stream",
     "text": [
      "The Hospital expense max value is: 7750.0\n",
      "The Hospital expense mean value is: 1655.31\n"
     ]
    }
   ],
   "source": [
    "allSingleNEWIDs = set()\n",
    "for newIDset in Single.values():\n",
    "    allSingleNEWIDs = allSingleNEWIDs.union(newIDset)\n",
    "allFamilyNEWIDs = set()\n",
    "for newIDset in Family.values():\n",
    "    allFamilyNEWIDs = allFamilyNEWIDs.union(newIDset)\n",
    "\n",
    "allNEWIDs = allFamilyNEWIDs.union(allSingleNEWIDs)\n",
    "\n",
    "# UCC of Hospital\n",
    "emergencyUCCs = [570111]\n",
    "\n",
    "mtbi = pd.concat([value for key,value in data.items() if 'mtbi' in key.lower()], ignore_index=True)\n",
    "subsetMtbi = mtbi[mtbi.NEWID.isin(allNEWIDs)]\n",
    "subsetMtbi = subsetMtbi[subsetMtbi.UCC.isin(emergencyUCCs)]\n",
    "subsetMtbi = subsetMtbi.groupby(['NEWID'],as_index=False).sum()\n",
    "subsetMtbi = subsetMtbi[subsetMtbi.COST > 300]\n",
    "oneTimeSubsetMtbi = subsetMtbi[subsetMtbi.REF_YR < 3000]\n",
    "print(\"The Hospital expense max value is: \"+str(round(oneTimeSubsetMtbi.COST.max(),2)))\n",
    "print(\"The Hospital expense mean value is: \"+str(round(oneTimeSubsetMtbi.COST.mean(),2)))"
   ]
  },
  {
   "cell_type": "markdown",
   "metadata": {},
   "source": [
    "# Creating Categorical UCC rollups\n",
    "outputs:\n",
    "- rollupDict (dictionary)\n",
    " - key: Rollup category name\n",
    " - value: list of NEWIDs associated with rollup"
   ]
  },
  {
   "cell_type": "code",
   "execution_count": 9,
   "metadata": {
    "collapsed": false
   },
   "outputs": [],
   "source": [
    "MonthlyHousing = [\"220311\",\"220313\",\"880110\",\"210110\",\"800710\",\"210901\",\"220312\",\"220314\",\"880310\",\"210902\",\"220211\",\"230901\",\"340911\",\"220901\",\"220212\",\"230902\",\"340912\",\"220902\",\"210310\"]\n",
    "# MonthlyHousing = [\"220311\",\"220313\",\"880110\",\"210110\",\"800710\",\"210901\",\"220312\",\"220314\",\"880310\",\"210902\"]\n",
    "MonthlyHousing.extend(categoricalUCCRollUp(stubFileDict[\"IStub\"], [\"UTILS\"]))\n",
    "\n",
    "rollupDict = {\"TotalExp\":(categoricalUCCRollUp(stubFileDict[\"IStub\"],[\"TOTALE\"])),\n",
    "\"FoodAtHome\":(categoricalUCCRollUp(stubFileDict[\"IStub\"], [\"FOODHO\", \"ALCHOM\"])),\n",
    "\"FoodAway\":(categoricalUCCRollUp(stubFileDict[\"IStub\"], [\"FOODAW\", \"ALCAWA\"])),\n",
    "\"Housing\":([\"220311\",\"220313\",\"880110\",\"210110\",\"800710\",\"210901\",\"220312\",\"220314\",\"880310\",\"210902\"]),\n",
    "\"OtherHousing\":(categoricalUCCRollUp(stubFileDict[\"IStub\"], [\"HOUSIN\"], ignoreUCCs = MonthlyHousing)),\n",
    "\"Utilities\":(categoricalUCCRollUp(stubFileDict[\"IStub\"], [\"UTILS\"])),\n",
    "\"ClothingAndBeauty\":(categoricalUCCRollUp(stubFileDict[\"IStub\"], [\"APPARE\",\"PERSCA\"])),\n",
    "\"Transportation\":(categoricalUCCRollUp(stubFileDict[\"IStub\"], [\"TRANS\"])),\n",
    "\"Healthcare\":(categoricalUCCRollUp(stubFileDict[\"IStub\"], [\"HEALTH\"])),\n",
    "\"Entertainment\":(categoricalUCCRollUp(stubFileDict[\"IStub\"], [\"ENTRTA\",\"READIN\"])),\n",
    "\"Miscellaneous\":(categoricalUCCRollUp(stubFileDict[\"IStub\"], [\"MISC\",\"TOBACC\"])),\n",
    "\"CharitableAndFamilyGiving\":(categoricalUCCRollUp(stubFileDict[\"IStub\"], [\"CASHCO\"])),\n",
    "\"Insurance\":(categoricalUCCRollUp(stubFileDict[\"IStub\"], [\"LIFEIN\"])),\n",
    "\"Education\":(categoricalUCCRollUp(stubFileDict[\"IStub\"], [\"EDUCAT\"])),\n",
    "\"HousingPrinciple\":(categoricalUCCRollUp(stubFileDict[\"IStub\"],[\"MRTPRI\"]))}\n",
    "\n",
    "# converting rollupDict to ints\n",
    "for key,value in rollupDict.items():\n",
    "    rollupDict[key] = list(map(int, value))"
   ]
  },
  {
   "cell_type": "markdown",
   "metadata": {},
   "source": [
    "# Rolling up MTBI files into plynty categories\n",
    "- creates columns in the mtbi files that correspond with the rollup categories\n",
    "- fills new rollup columns based on mtbi observations"
   ]
  },
  {
   "cell_type": "code",
   "execution_count": 10,
   "metadata": {
    "collapsed": false
   },
   "outputs": [],
   "source": [
    "negativeColumns = [\"HousingPrinciple\"]\n",
    "multiple = 1\n",
    "for dataframe in [key for key in data.keys() if 'mtbi' in key.lower()]:\n",
    "    for key,value in rollupDict.items():\n",
    "        if(key in negativeColumns):\n",
    "            multiple *= -1\n",
    "        data[dataframe][key] = np.where(data[dataframe].UCC.isin(rollupDict[key]), data[dataframe].COST * multiple, 0)\n",
    "        multiple = abs(multiple)"
   ]
  },
  {
   "cell_type": "markdown",
   "metadata": {},
   "source": [
    "#### Cleaning the MTBI dataframes"
   ]
  },
  {
   "cell_type": "code",
   "execution_count": 11,
   "metadata": {
    "collapsed": false
   },
   "outputs": [],
   "source": [
    "keepColumns = list(rollupDict.keys())\n",
    "keepColumns.append(\"NEWID\")\n",
    "\n",
    "for dataframe in [key for key in data.keys() if 'mtbi' in key.lower()]:\n",
    "    data[dataframe] = data[dataframe][keepColumns]"
   ]
  },
  {
   "cell_type": "markdown",
   "metadata": {},
   "source": [
    "# Adding up all the expenses by each NEWID\n",
    "- Sums for each NEWID\n",
    "- Adds HousingPrinciple into Housing\n",
    "- Adds HousingPrinciple into TotalExp\n",
    "- Drops the HousingPrinciple column"
   ]
  },
  {
   "cell_type": "code",
   "execution_count": 12,
   "metadata": {
    "collapsed": false
   },
   "outputs": [],
   "source": [
    "for dataframe in [key for key in data.keys() if 'mtbi' in key.lower()]:\n",
    "    data[dataframe] = data[dataframe].groupby(['NEWID'],as_index=False).sum()\n",
    "    data[dataframe]['Housing'] += data[dataframe]['HousingPrinciple']\n",
    "    data[dataframe]['TotalExp'] += data[dataframe]['HousingPrinciple']\n",
    "    data[dataframe] = data[dataframe].drop('HousingPrinciple',axis=1)"
   ]
  },
  {
   "cell_type": "markdown",
   "metadata": {},
   "source": [
    "### Subsetting MTBI files with subset NEWIDs"
   ]
  },
  {
   "cell_type": "code",
   "execution_count": 13,
   "metadata": {
    "collapsed": false
   },
   "outputs": [],
   "source": [
    "expensesByNEWIDSingle = expensesSumByNEWID(Single, data)\n",
    "expensesByNEWIDFamily = expensesSumByNEWID(Family, data)"
   ]
  },
  {
   "cell_type": "markdown",
   "metadata": {},
   "source": [
    "### Saving the pre-weight expenses by NEWID for the regression"
   ]
  },
  {
   "cell_type": "code",
   "execution_count": 14,
   "metadata": {
    "collapsed": false
   },
   "outputs": [],
   "source": [
    "nonWeightedExpensesByNEWIDSingle = deepcopy(expensesByNEWIDSingle)\n",
    "nonWeightedExpensesByNEWIDFamily = deepcopy(expensesByNEWIDFamily)"
   ]
  },
  {
   "cell_type": "markdown",
   "metadata": {},
   "source": [
    "## Weighting the Samples"
   ]
  },
  {
   "cell_type": "code",
   "execution_count": 15,
   "metadata": {
    "collapsed": false
   },
   "outputs": [],
   "source": [
    "weightSeries = fmli[\"FINLWT21\"]/12\n",
    "weightSeries.index = fmli[\"NEWID\"]\n",
    "\n",
    "expensesesByNEWIDSingle = weightExpensesByNEWID(expensesByNEWIDSingle, weightSeries)\n",
    "expensesByNEWIDFamily = weightExpensesByNEWID(expensesByNEWIDFamily, weightSeries)"
   ]
  },
  {
   "cell_type": "markdown",
   "metadata": {},
   "source": [
    "## Combining Data frames by Income Class"
   ]
  },
  {
   "cell_type": "code",
   "execution_count": 16,
   "metadata": {
    "collapsed": false
   },
   "outputs": [],
   "source": [
    "IncomeClassesSingle = {}\n",
    "for income in subsetNEWIDs[\"SingleIncome\"]:\n",
    "    incomeClass = pd.DataFrame()\n",
    "    for year in subsetNEWIDs[\"Year\"]:\n",
    "        for month in subsetNEWIDs[\"Month\"]:\n",
    "            incomeClass = incomeClass.append(expensesByNEWIDSingle[(year,month,income)], ignore_index=True)\n",
    "    IncomeClassesSingle[income] = incomeClass\n",
    "    \n",
    "IncomeClassesFamily = {}\n",
    "for income in subsetNEWIDs[\"FamilyIncome\"]:\n",
    "    incomeClass = pd.DataFrame()\n",
    "    for year in subsetNEWIDs[\"Year\"]:\n",
    "        for month in subsetNEWIDs[\"Month\"]:\n",
    "            incomeClass = incomeClass.append(expensesByNEWIDFamily[(year,month,income)], ignore_index=True)\n",
    "    IncomeClassesFamily[income] = incomeClass"
   ]
  },
  {
   "cell_type": "markdown",
   "metadata": {},
   "source": [
    "### Sum of all the columns\n",
    "- Adding up all the columns of a dataframe into totals contained in a dictionary "
   ]
  },
  {
   "cell_type": "code",
   "execution_count": 17,
   "metadata": {
    "collapsed": false
   },
   "outputs": [],
   "source": [
    "plyntySingleSumDict = dictionarySum(IncomeClassesSingle)\n",
    "plyntyFamilySumDict = dictionarySum(IncomeClassesFamily)"
   ]
  },
  {
   "cell_type": "markdown",
   "metadata": {},
   "source": [
    "### Creating the Percentage dictionaries"
   ]
  },
  {
   "cell_type": "code",
   "execution_count": 18,
   "metadata": {
    "collapsed": false
   },
   "outputs": [],
   "source": [
    "# fixing the TotalExp\n",
    "for income in plyntySingleSumDict.keys():\n",
    "    total = 0\n",
    "    for key,value in plyntySingleSumDict[income].items():\n",
    "        if not key == 'TotalExp':\n",
    "            total += value\n",
    "    plyntySingleSumDict[income]['TotalExp'] = total\n",
    "\n",
    "for income in plyntyFamilySumDict.keys():\n",
    "    total = 0\n",
    "    for key,value in plyntyFamilySumDict[income].items():\n",
    "        if not key == 'TotalExp':\n",
    "            total += value\n",
    "    plyntyFamilySumDict[income]['TotalExp'] = total"
   ]
  },
  {
   "cell_type": "code",
   "execution_count": 19,
   "metadata": {
    "collapsed": false
   },
   "outputs": [],
   "source": [
    "plyntySingleDict = incomeSumToPercent(plyntySingleSumDict, \"TotalExp\")\n",
    "plyntyFamilyDict = incomeSumToPercent(plyntyFamilySumDict, \"TotalExp\")"
   ]
  },
  {
   "cell_type": "markdown",
   "metadata": {},
   "source": [
    "### Deleting the TotalExp Column\n",
    "This column at this point will be all 1s"
   ]
  },
  {
   "cell_type": "code",
   "execution_count": 20,
   "metadata": {
    "collapsed": false
   },
   "outputs": [],
   "source": [
    "for key in plyntySingleDict.keys():\n",
    "    del plyntySingleDict[key]['TotalExp']\n",
    "for key in plyntyFamilyDict.keys():\n",
    "    del plyntyFamilyDict[key]['TotalExp']"
   ]
  },
  {
   "cell_type": "markdown",
   "metadata": {},
   "source": [
    "# Creating and printing out the plynty Dataframes"
   ]
  },
  {
   "cell_type": "code",
   "execution_count": 21,
   "metadata": {
    "collapsed": false,
    "scrolled": true
   },
   "outputs": [],
   "source": [
    "plyntySingle = pd.DataFrame.from_dict(plyntySingleDict,orient='index')\n",
    "plyntyFamily = pd.DataFrame.from_dict(plyntyFamilyDict,orient='index')"
   ]
  },
  {
   "cell_type": "code",
   "execution_count": 22,
   "metadata": {
    "collapsed": false
   },
   "outputs": [
    {
     "data": {
      "text/html": [
       "<div>\n",
       "<table border=\"1\" class=\"dataframe\">\n",
       "  <thead>\n",
       "    <tr style=\"text-align: right;\">\n",
       "      <th></th>\n",
       "      <th>FoodAtHome</th>\n",
       "      <th>FoodAway</th>\n",
       "      <th>Housing</th>\n",
       "      <th>OtherHousing</th>\n",
       "      <th>Utilities</th>\n",
       "      <th>ClothingAndBeauty</th>\n",
       "      <th>Transportation</th>\n",
       "      <th>Healthcare</th>\n",
       "      <th>Entertainment</th>\n",
       "      <th>Miscellaneous</th>\n",
       "      <th>CharitableAndFamilyGiving</th>\n",
       "      <th>Insurance</th>\n",
       "      <th>Education</th>\n",
       "    </tr>\n",
       "  </thead>\n",
       "  <tbody>\n",
       "    <tr>\n",
       "      <th>1</th>\n",
       "      <td>0.151733</td>\n",
       "      <td>0.043102</td>\n",
       "      <td>0.220826</td>\n",
       "      <td>0.078395</td>\n",
       "      <td>0.116302</td>\n",
       "      <td>0.029350</td>\n",
       "      <td>0.137618</td>\n",
       "      <td>0.097178</td>\n",
       "      <td>0.050136</td>\n",
       "      <td>0.036188</td>\n",
       "      <td>0.034056</td>\n",
       "      <td>0.003955</td>\n",
       "      <td>0.001160</td>\n",
       "    </tr>\n",
       "    <tr>\n",
       "      <th>2</th>\n",
       "      <td>0.145579</td>\n",
       "      <td>0.040791</td>\n",
       "      <td>0.196977</td>\n",
       "      <td>0.077551</td>\n",
       "      <td>0.120011</td>\n",
       "      <td>0.024416</td>\n",
       "      <td>0.134384</td>\n",
       "      <td>0.125915</td>\n",
       "      <td>0.060334</td>\n",
       "      <td>0.027070</td>\n",
       "      <td>0.036260</td>\n",
       "      <td>0.006651</td>\n",
       "      <td>0.004061</td>\n",
       "    </tr>\n",
       "    <tr>\n",
       "      <th>3</th>\n",
       "      <td>0.123539</td>\n",
       "      <td>0.049394</td>\n",
       "      <td>0.155155</td>\n",
       "      <td>0.109795</td>\n",
       "      <td>0.103588</td>\n",
       "      <td>0.026389</td>\n",
       "      <td>0.153922</td>\n",
       "      <td>0.127650</td>\n",
       "      <td>0.059126</td>\n",
       "      <td>0.028334</td>\n",
       "      <td>0.049319</td>\n",
       "      <td>0.010472</td>\n",
       "      <td>0.003317</td>\n",
       "    </tr>\n",
       "    <tr>\n",
       "      <th>4</th>\n",
       "      <td>0.121232</td>\n",
       "      <td>0.054188</td>\n",
       "      <td>0.175342</td>\n",
       "      <td>0.088205</td>\n",
       "      <td>0.104889</td>\n",
       "      <td>0.025048</td>\n",
       "      <td>0.170888</td>\n",
       "      <td>0.112294</td>\n",
       "      <td>0.054290</td>\n",
       "      <td>0.025421</td>\n",
       "      <td>0.051514</td>\n",
       "      <td>0.011575</td>\n",
       "      <td>0.005112</td>\n",
       "    </tr>\n",
       "    <tr>\n",
       "      <th>5</th>\n",
       "      <td>0.102517</td>\n",
       "      <td>0.047990</td>\n",
       "      <td>0.164662</td>\n",
       "      <td>0.104533</td>\n",
       "      <td>0.091601</td>\n",
       "      <td>0.028521</td>\n",
       "      <td>0.185000</td>\n",
       "      <td>0.100543</td>\n",
       "      <td>0.055531</td>\n",
       "      <td>0.018793</td>\n",
       "      <td>0.086090</td>\n",
       "      <td>0.009056</td>\n",
       "      <td>0.005164</td>\n",
       "    </tr>\n",
       "    <tr>\n",
       "      <th>6</th>\n",
       "      <td>0.101487</td>\n",
       "      <td>0.049018</td>\n",
       "      <td>0.162269</td>\n",
       "      <td>0.107950</td>\n",
       "      <td>0.085412</td>\n",
       "      <td>0.028123</td>\n",
       "      <td>0.189640</td>\n",
       "      <td>0.103850</td>\n",
       "      <td>0.053297</td>\n",
       "      <td>0.021015</td>\n",
       "      <td>0.084958</td>\n",
       "      <td>0.005081</td>\n",
       "      <td>0.007899</td>\n",
       "    </tr>\n",
       "    <tr>\n",
       "      <th>7</th>\n",
       "      <td>0.102570</td>\n",
       "      <td>0.057620</td>\n",
       "      <td>0.180263</td>\n",
       "      <td>0.115250</td>\n",
       "      <td>0.092484</td>\n",
       "      <td>0.033225</td>\n",
       "      <td>0.135827</td>\n",
       "      <td>0.114387</td>\n",
       "      <td>0.057565</td>\n",
       "      <td>0.013054</td>\n",
       "      <td>0.085819</td>\n",
       "      <td>0.009256</td>\n",
       "      <td>0.002679</td>\n",
       "    </tr>\n",
       "    <tr>\n",
       "      <th>8</th>\n",
       "      <td>0.084397</td>\n",
       "      <td>0.052045</td>\n",
       "      <td>0.158487</td>\n",
       "      <td>0.153268</td>\n",
       "      <td>0.075555</td>\n",
       "      <td>0.033144</td>\n",
       "      <td>0.167354</td>\n",
       "      <td>0.090990</td>\n",
       "      <td>0.068532</td>\n",
       "      <td>0.023191</td>\n",
       "      <td>0.077126</td>\n",
       "      <td>0.006755</td>\n",
       "      <td>0.009154</td>\n",
       "    </tr>\n",
       "    <tr>\n",
       "      <th>9</th>\n",
       "      <td>0.072612</td>\n",
       "      <td>0.059808</td>\n",
       "      <td>0.177385</td>\n",
       "      <td>0.111892</td>\n",
       "      <td>0.064484</td>\n",
       "      <td>0.040846</td>\n",
       "      <td>0.193732</td>\n",
       "      <td>0.106236</td>\n",
       "      <td>0.063338</td>\n",
       "      <td>0.027922</td>\n",
       "      <td>0.064419</td>\n",
       "      <td>0.011519</td>\n",
       "      <td>0.005808</td>\n",
       "    </tr>\n",
       "    <tr>\n",
       "      <th>10</th>\n",
       "      <td>0.063753</td>\n",
       "      <td>0.069058</td>\n",
       "      <td>0.193303</td>\n",
       "      <td>0.143676</td>\n",
       "      <td>0.058526</td>\n",
       "      <td>0.035682</td>\n",
       "      <td>0.120921</td>\n",
       "      <td>0.077707</td>\n",
       "      <td>0.074606</td>\n",
       "      <td>0.016754</td>\n",
       "      <td>0.109172</td>\n",
       "      <td>0.010156</td>\n",
       "      <td>0.026687</td>\n",
       "    </tr>\n",
       "  </tbody>\n",
       "</table>\n",
       "</div>"
      ],
      "text/plain": [
       "    FoodAtHome  FoodAway   Housing  OtherHousing  Utilities  \\\n",
       "1     0.151733  0.043102  0.220826      0.078395   0.116302   \n",
       "2     0.145579  0.040791  0.196977      0.077551   0.120011   \n",
       "3     0.123539  0.049394  0.155155      0.109795   0.103588   \n",
       "4     0.121232  0.054188  0.175342      0.088205   0.104889   \n",
       "5     0.102517  0.047990  0.164662      0.104533   0.091601   \n",
       "6     0.101487  0.049018  0.162269      0.107950   0.085412   \n",
       "7     0.102570  0.057620  0.180263      0.115250   0.092484   \n",
       "8     0.084397  0.052045  0.158487      0.153268   0.075555   \n",
       "9     0.072612  0.059808  0.177385      0.111892   0.064484   \n",
       "10    0.063753  0.069058  0.193303      0.143676   0.058526   \n",
       "\n",
       "    ClothingAndBeauty  Transportation  Healthcare  Entertainment  \\\n",
       "1            0.029350        0.137618    0.097178       0.050136   \n",
       "2            0.024416        0.134384    0.125915       0.060334   \n",
       "3            0.026389        0.153922    0.127650       0.059126   \n",
       "4            0.025048        0.170888    0.112294       0.054290   \n",
       "5            0.028521        0.185000    0.100543       0.055531   \n",
       "6            0.028123        0.189640    0.103850       0.053297   \n",
       "7            0.033225        0.135827    0.114387       0.057565   \n",
       "8            0.033144        0.167354    0.090990       0.068532   \n",
       "9            0.040846        0.193732    0.106236       0.063338   \n",
       "10           0.035682        0.120921    0.077707       0.074606   \n",
       "\n",
       "    Miscellaneous  CharitableAndFamilyGiving  Insurance  Education  \n",
       "1        0.036188                   0.034056   0.003955   0.001160  \n",
       "2        0.027070                   0.036260   0.006651   0.004061  \n",
       "3        0.028334                   0.049319   0.010472   0.003317  \n",
       "4        0.025421                   0.051514   0.011575   0.005112  \n",
       "5        0.018793                   0.086090   0.009056   0.005164  \n",
       "6        0.021015                   0.084958   0.005081   0.007899  \n",
       "7        0.013054                   0.085819   0.009256   0.002679  \n",
       "8        0.023191                   0.077126   0.006755   0.009154  \n",
       "9        0.027922                   0.064419   0.011519   0.005808  \n",
       "10       0.016754                   0.109172   0.010156   0.026687  "
      ]
     },
     "execution_count": 22,
     "metadata": {},
     "output_type": "execute_result"
    }
   ],
   "source": [
    "plyntySingle"
   ]
  },
  {
   "cell_type": "code",
   "execution_count": 23,
   "metadata": {
    "collapsed": false
   },
   "outputs": [
    {
     "data": {
      "text/html": [
       "<div>\n",
       "<table border=\"1\" class=\"dataframe\">\n",
       "  <thead>\n",
       "    <tr style=\"text-align: right;\">\n",
       "      <th></th>\n",
       "      <th>FoodAtHome</th>\n",
       "      <th>FoodAway</th>\n",
       "      <th>Housing</th>\n",
       "      <th>OtherHousing</th>\n",
       "      <th>Utilities</th>\n",
       "      <th>ClothingAndBeauty</th>\n",
       "      <th>Transportation</th>\n",
       "      <th>Healthcare</th>\n",
       "      <th>Entertainment</th>\n",
       "      <th>Miscellaneous</th>\n",
       "      <th>CharitableAndFamilyGiving</th>\n",
       "      <th>Insurance</th>\n",
       "      <th>Education</th>\n",
       "    </tr>\n",
       "  </thead>\n",
       "  <tbody>\n",
       "    <tr>\n",
       "      <th>1</th>\n",
       "      <td>0.148705</td>\n",
       "      <td>0.049024</td>\n",
       "      <td>0.171210</td>\n",
       "      <td>0.078454</td>\n",
       "      <td>0.111228</td>\n",
       "      <td>0.023032</td>\n",
       "      <td>0.150253</td>\n",
       "      <td>0.130573</td>\n",
       "      <td>0.055685</td>\n",
       "      <td>0.030905</td>\n",
       "      <td>0.036855</td>\n",
       "      <td>0.009714</td>\n",
       "      <td>0.004361</td>\n",
       "    </tr>\n",
       "    <tr>\n",
       "      <th>2</th>\n",
       "      <td>0.150604</td>\n",
       "      <td>0.046580</td>\n",
       "      <td>0.147371</td>\n",
       "      <td>0.095600</td>\n",
       "      <td>0.114941</td>\n",
       "      <td>0.022229</td>\n",
       "      <td>0.160169</td>\n",
       "      <td>0.129806</td>\n",
       "      <td>0.048030</td>\n",
       "      <td>0.023152</td>\n",
       "      <td>0.050218</td>\n",
       "      <td>0.007737</td>\n",
       "      <td>0.003564</td>\n",
       "    </tr>\n",
       "    <tr>\n",
       "      <th>3</th>\n",
       "      <td>0.146657</td>\n",
       "      <td>0.045685</td>\n",
       "      <td>0.129532</td>\n",
       "      <td>0.082477</td>\n",
       "      <td>0.113343</td>\n",
       "      <td>0.022364</td>\n",
       "      <td>0.193720</td>\n",
       "      <td>0.150645</td>\n",
       "      <td>0.042334</td>\n",
       "      <td>0.018517</td>\n",
       "      <td>0.043063</td>\n",
       "      <td>0.008512</td>\n",
       "      <td>0.003151</td>\n",
       "    </tr>\n",
       "    <tr>\n",
       "      <th>4</th>\n",
       "      <td>0.136999</td>\n",
       "      <td>0.052827</td>\n",
       "      <td>0.120418</td>\n",
       "      <td>0.089189</td>\n",
       "      <td>0.107676</td>\n",
       "      <td>0.022162</td>\n",
       "      <td>0.182721</td>\n",
       "      <td>0.145500</td>\n",
       "      <td>0.055019</td>\n",
       "      <td>0.019486</td>\n",
       "      <td>0.053396</td>\n",
       "      <td>0.009806</td>\n",
       "      <td>0.004802</td>\n",
       "    </tr>\n",
       "    <tr>\n",
       "      <th>5</th>\n",
       "      <td>0.128860</td>\n",
       "      <td>0.053504</td>\n",
       "      <td>0.110143</td>\n",
       "      <td>0.098326</td>\n",
       "      <td>0.102852</td>\n",
       "      <td>0.026415</td>\n",
       "      <td>0.208592</td>\n",
       "      <td>0.138016</td>\n",
       "      <td>0.051442</td>\n",
       "      <td>0.016917</td>\n",
       "      <td>0.046240</td>\n",
       "      <td>0.010928</td>\n",
       "      <td>0.007764</td>\n",
       "    </tr>\n",
       "    <tr>\n",
       "      <th>6</th>\n",
       "      <td>0.131199</td>\n",
       "      <td>0.052638</td>\n",
       "      <td>0.122378</td>\n",
       "      <td>0.093215</td>\n",
       "      <td>0.103801</td>\n",
       "      <td>0.024737</td>\n",
       "      <td>0.185199</td>\n",
       "      <td>0.146900</td>\n",
       "      <td>0.059453</td>\n",
       "      <td>0.017564</td>\n",
       "      <td>0.049358</td>\n",
       "      <td>0.009642</td>\n",
       "      <td>0.003917</td>\n",
       "    </tr>\n",
       "    <tr>\n",
       "      <th>7</th>\n",
       "      <td>0.119469</td>\n",
       "      <td>0.049687</td>\n",
       "      <td>0.134179</td>\n",
       "      <td>0.097830</td>\n",
       "      <td>0.096224</td>\n",
       "      <td>0.027136</td>\n",
       "      <td>0.203239</td>\n",
       "      <td>0.146259</td>\n",
       "      <td>0.048777</td>\n",
       "      <td>0.016306</td>\n",
       "      <td>0.047379</td>\n",
       "      <td>0.007732</td>\n",
       "      <td>0.005783</td>\n",
       "    </tr>\n",
       "    <tr>\n",
       "      <th>8</th>\n",
       "      <td>0.121463</td>\n",
       "      <td>0.056523</td>\n",
       "      <td>0.122102</td>\n",
       "      <td>0.095223</td>\n",
       "      <td>0.094435</td>\n",
       "      <td>0.029977</td>\n",
       "      <td>0.203088</td>\n",
       "      <td>0.133535</td>\n",
       "      <td>0.051273</td>\n",
       "      <td>0.017769</td>\n",
       "      <td>0.051499</td>\n",
       "      <td>0.013260</td>\n",
       "      <td>0.009852</td>\n",
       "    </tr>\n",
       "    <tr>\n",
       "      <th>9</th>\n",
       "      <td>0.103535</td>\n",
       "      <td>0.048505</td>\n",
       "      <td>0.128490</td>\n",
       "      <td>0.093911</td>\n",
       "      <td>0.088495</td>\n",
       "      <td>0.026006</td>\n",
       "      <td>0.233608</td>\n",
       "      <td>0.125741</td>\n",
       "      <td>0.065110</td>\n",
       "      <td>0.017966</td>\n",
       "      <td>0.049716</td>\n",
       "      <td>0.010048</td>\n",
       "      <td>0.008870</td>\n",
       "    </tr>\n",
       "    <tr>\n",
       "      <th>10</th>\n",
       "      <td>0.108923</td>\n",
       "      <td>0.059231</td>\n",
       "      <td>0.114307</td>\n",
       "      <td>0.108239</td>\n",
       "      <td>0.084319</td>\n",
       "      <td>0.030524</td>\n",
       "      <td>0.210266</td>\n",
       "      <td>0.117719</td>\n",
       "      <td>0.067814</td>\n",
       "      <td>0.019119</td>\n",
       "      <td>0.053729</td>\n",
       "      <td>0.011808</td>\n",
       "      <td>0.014001</td>\n",
       "    </tr>\n",
       "    <tr>\n",
       "      <th>11</th>\n",
       "      <td>0.100435</td>\n",
       "      <td>0.057603</td>\n",
       "      <td>0.114094</td>\n",
       "      <td>0.100995</td>\n",
       "      <td>0.080629</td>\n",
       "      <td>0.027691</td>\n",
       "      <td>0.234003</td>\n",
       "      <td>0.112774</td>\n",
       "      <td>0.063819</td>\n",
       "      <td>0.018411</td>\n",
       "      <td>0.067054</td>\n",
       "      <td>0.009480</td>\n",
       "      <td>0.013012</td>\n",
       "    </tr>\n",
       "    <tr>\n",
       "      <th>12</th>\n",
       "      <td>0.100128</td>\n",
       "      <td>0.059828</td>\n",
       "      <td>0.136706</td>\n",
       "      <td>0.094118</td>\n",
       "      <td>0.077178</td>\n",
       "      <td>0.031547</td>\n",
       "      <td>0.240305</td>\n",
       "      <td>0.106953</td>\n",
       "      <td>0.064990</td>\n",
       "      <td>0.013644</td>\n",
       "      <td>0.054242</td>\n",
       "      <td>0.009217</td>\n",
       "      <td>0.011144</td>\n",
       "    </tr>\n",
       "    <tr>\n",
       "      <th>13</th>\n",
       "      <td>0.094699</td>\n",
       "      <td>0.062442</td>\n",
       "      <td>0.139907</td>\n",
       "      <td>0.106636</td>\n",
       "      <td>0.086351</td>\n",
       "      <td>0.033206</td>\n",
       "      <td>0.223327</td>\n",
       "      <td>0.110724</td>\n",
       "      <td>0.052455</td>\n",
       "      <td>0.019504</td>\n",
       "      <td>0.049214</td>\n",
       "      <td>0.011277</td>\n",
       "      <td>0.010258</td>\n",
       "    </tr>\n",
       "    <tr>\n",
       "      <th>14</th>\n",
       "      <td>0.086317</td>\n",
       "      <td>0.055994</td>\n",
       "      <td>0.110138</td>\n",
       "      <td>0.134058</td>\n",
       "      <td>0.072755</td>\n",
       "      <td>0.028441</td>\n",
       "      <td>0.246036</td>\n",
       "      <td>0.093721</td>\n",
       "      <td>0.064462</td>\n",
       "      <td>0.012709</td>\n",
       "      <td>0.056011</td>\n",
       "      <td>0.017439</td>\n",
       "      <td>0.021919</td>\n",
       "    </tr>\n",
       "    <tr>\n",
       "      <th>15</th>\n",
       "      <td>0.099445</td>\n",
       "      <td>0.058965</td>\n",
       "      <td>0.143740</td>\n",
       "      <td>0.120652</td>\n",
       "      <td>0.082662</td>\n",
       "      <td>0.036916</td>\n",
       "      <td>0.191737</td>\n",
       "      <td>0.093783</td>\n",
       "      <td>0.058335</td>\n",
       "      <td>0.028505</td>\n",
       "      <td>0.058224</td>\n",
       "      <td>0.015454</td>\n",
       "      <td>0.011581</td>\n",
       "    </tr>\n",
       "    <tr>\n",
       "      <th>16</th>\n",
       "      <td>0.105067</td>\n",
       "      <td>0.060287</td>\n",
       "      <td>0.152307</td>\n",
       "      <td>0.108812</td>\n",
       "      <td>0.080455</td>\n",
       "      <td>0.033633</td>\n",
       "      <td>0.198270</td>\n",
       "      <td>0.096729</td>\n",
       "      <td>0.062798</td>\n",
       "      <td>0.018092</td>\n",
       "      <td>0.041030</td>\n",
       "      <td>0.024505</td>\n",
       "      <td>0.018016</td>\n",
       "    </tr>\n",
       "    <tr>\n",
       "      <th>17</th>\n",
       "      <td>0.087338</td>\n",
       "      <td>0.063692</td>\n",
       "      <td>0.130982</td>\n",
       "      <td>0.130005</td>\n",
       "      <td>0.067497</td>\n",
       "      <td>0.030996</td>\n",
       "      <td>0.184291</td>\n",
       "      <td>0.081878</td>\n",
       "      <td>0.081047</td>\n",
       "      <td>0.028863</td>\n",
       "      <td>0.078941</td>\n",
       "      <td>0.015269</td>\n",
       "      <td>0.019200</td>\n",
       "    </tr>\n",
       "    <tr>\n",
       "      <th>18</th>\n",
       "      <td>0.077939</td>\n",
       "      <td>0.058882</td>\n",
       "      <td>0.171030</td>\n",
       "      <td>0.142682</td>\n",
       "      <td>0.063675</td>\n",
       "      <td>0.034520</td>\n",
       "      <td>0.157590</td>\n",
       "      <td>0.085537</td>\n",
       "      <td>0.063802</td>\n",
       "      <td>0.013653</td>\n",
       "      <td>0.103882</td>\n",
       "      <td>0.007431</td>\n",
       "      <td>0.019378</td>\n",
       "    </tr>\n",
       "    <tr>\n",
       "      <th>19</th>\n",
       "      <td>0.090762</td>\n",
       "      <td>0.062948</td>\n",
       "      <td>0.162131</td>\n",
       "      <td>0.118226</td>\n",
       "      <td>0.069598</td>\n",
       "      <td>0.037145</td>\n",
       "      <td>0.204040</td>\n",
       "      <td>0.090232</td>\n",
       "      <td>0.058382</td>\n",
       "      <td>0.023997</td>\n",
       "      <td>0.047154</td>\n",
       "      <td>0.010798</td>\n",
       "      <td>0.024586</td>\n",
       "    </tr>\n",
       "    <tr>\n",
       "      <th>20</th>\n",
       "      <td>0.061823</td>\n",
       "      <td>0.060002</td>\n",
       "      <td>0.130943</td>\n",
       "      <td>0.157505</td>\n",
       "      <td>0.059462</td>\n",
       "      <td>0.041522</td>\n",
       "      <td>0.150581</td>\n",
       "      <td>0.072844</td>\n",
       "      <td>0.068796</td>\n",
       "      <td>0.022814</td>\n",
       "      <td>0.107650</td>\n",
       "      <td>0.026704</td>\n",
       "      <td>0.039354</td>\n",
       "    </tr>\n",
       "  </tbody>\n",
       "</table>\n",
       "</div>"
      ],
      "text/plain": [
       "    FoodAtHome  FoodAway   Housing  OtherHousing  Utilities  \\\n",
       "1     0.148705  0.049024  0.171210      0.078454   0.111228   \n",
       "2     0.150604  0.046580  0.147371      0.095600   0.114941   \n",
       "3     0.146657  0.045685  0.129532      0.082477   0.113343   \n",
       "4     0.136999  0.052827  0.120418      0.089189   0.107676   \n",
       "5     0.128860  0.053504  0.110143      0.098326   0.102852   \n",
       "6     0.131199  0.052638  0.122378      0.093215   0.103801   \n",
       "7     0.119469  0.049687  0.134179      0.097830   0.096224   \n",
       "8     0.121463  0.056523  0.122102      0.095223   0.094435   \n",
       "9     0.103535  0.048505  0.128490      0.093911   0.088495   \n",
       "10    0.108923  0.059231  0.114307      0.108239   0.084319   \n",
       "11    0.100435  0.057603  0.114094      0.100995   0.080629   \n",
       "12    0.100128  0.059828  0.136706      0.094118   0.077178   \n",
       "13    0.094699  0.062442  0.139907      0.106636   0.086351   \n",
       "14    0.086317  0.055994  0.110138      0.134058   0.072755   \n",
       "15    0.099445  0.058965  0.143740      0.120652   0.082662   \n",
       "16    0.105067  0.060287  0.152307      0.108812   0.080455   \n",
       "17    0.087338  0.063692  0.130982      0.130005   0.067497   \n",
       "18    0.077939  0.058882  0.171030      0.142682   0.063675   \n",
       "19    0.090762  0.062948  0.162131      0.118226   0.069598   \n",
       "20    0.061823  0.060002  0.130943      0.157505   0.059462   \n",
       "\n",
       "    ClothingAndBeauty  Transportation  Healthcare  Entertainment  \\\n",
       "1            0.023032        0.150253    0.130573       0.055685   \n",
       "2            0.022229        0.160169    0.129806       0.048030   \n",
       "3            0.022364        0.193720    0.150645       0.042334   \n",
       "4            0.022162        0.182721    0.145500       0.055019   \n",
       "5            0.026415        0.208592    0.138016       0.051442   \n",
       "6            0.024737        0.185199    0.146900       0.059453   \n",
       "7            0.027136        0.203239    0.146259       0.048777   \n",
       "8            0.029977        0.203088    0.133535       0.051273   \n",
       "9            0.026006        0.233608    0.125741       0.065110   \n",
       "10           0.030524        0.210266    0.117719       0.067814   \n",
       "11           0.027691        0.234003    0.112774       0.063819   \n",
       "12           0.031547        0.240305    0.106953       0.064990   \n",
       "13           0.033206        0.223327    0.110724       0.052455   \n",
       "14           0.028441        0.246036    0.093721       0.064462   \n",
       "15           0.036916        0.191737    0.093783       0.058335   \n",
       "16           0.033633        0.198270    0.096729       0.062798   \n",
       "17           0.030996        0.184291    0.081878       0.081047   \n",
       "18           0.034520        0.157590    0.085537       0.063802   \n",
       "19           0.037145        0.204040    0.090232       0.058382   \n",
       "20           0.041522        0.150581    0.072844       0.068796   \n",
       "\n",
       "    Miscellaneous  CharitableAndFamilyGiving  Insurance  Education  \n",
       "1        0.030905                   0.036855   0.009714   0.004361  \n",
       "2        0.023152                   0.050218   0.007737   0.003564  \n",
       "3        0.018517                   0.043063   0.008512   0.003151  \n",
       "4        0.019486                   0.053396   0.009806   0.004802  \n",
       "5        0.016917                   0.046240   0.010928   0.007764  \n",
       "6        0.017564                   0.049358   0.009642   0.003917  \n",
       "7        0.016306                   0.047379   0.007732   0.005783  \n",
       "8        0.017769                   0.051499   0.013260   0.009852  \n",
       "9        0.017966                   0.049716   0.010048   0.008870  \n",
       "10       0.019119                   0.053729   0.011808   0.014001  \n",
       "11       0.018411                   0.067054   0.009480   0.013012  \n",
       "12       0.013644                   0.054242   0.009217   0.011144  \n",
       "13       0.019504                   0.049214   0.011277   0.010258  \n",
       "14       0.012709                   0.056011   0.017439   0.021919  \n",
       "15       0.028505                   0.058224   0.015454   0.011581  \n",
       "16       0.018092                   0.041030   0.024505   0.018016  \n",
       "17       0.028863                   0.078941   0.015269   0.019200  \n",
       "18       0.013653                   0.103882   0.007431   0.019378  \n",
       "19       0.023997                   0.047154   0.010798   0.024586  \n",
       "20       0.022814                   0.107650   0.026704   0.039354  "
      ]
     },
     "execution_count": 23,
     "metadata": {},
     "output_type": "execute_result"
    }
   ],
   "source": [
    "plyntyFamily"
   ]
  },
  {
   "cell_type": "markdown",
   "metadata": {},
   "source": [
    "# Outputing Dataframes to Csv"
   ]
  },
  {
   "cell_type": "code",
   "execution_count": 24,
   "metadata": {
    "collapsed": true
   },
   "outputs": [],
   "source": [
    "# plyntySingle.to_csv(\"plyntySinglePercentages.csv\")\n",
    "# plyntyFamily.to_csv(\"plyntyFamilyPercentages.csv\")"
   ]
  },
  {
   "cell_type": "markdown",
   "metadata": {},
   "source": [
    "# Income Spent Regression\n",
    "### Making Dataframe of NEWID,TotalExp, and income before taxes\n",
    "outputs:\n",
    "- incomeRegressionSingle (dataframe)\n",
    " - contains NEWID, TotalExp, and IncomeBeforeTaxes for each NEWID in single subset\n",
    "- incomeRegressionFamily (dataframe)\n",
    " - contains NEWID, TotalExp, and IncomeBeforeTaxes for each NEWID in family subset"
   ]
  },
  {
   "cell_type": "code",
   "execution_count": 25,
   "metadata": {
    "collapsed": false
   },
   "outputs": [],
   "source": [
    "incomeRegressionSingle = pd.DataFrame()\n",
    "for value in nonWeightedExpensesByNEWIDSingle.values():\n",
    "    incomeRegressionSingle = incomeRegressionSingle.append(value[[\"NEWID\",\"TotalExp\"]], ignore_index=True)\n",
    "\n",
    "incomeRegressionFamily = pd.DataFrame()\n",
    "for value in nonWeightedExpensesByNEWIDFamily.values():\n",
    "    incomeRegressionFamily = incomeRegressionFamily.append(value[[\"NEWID\",\"TotalExp\"]], ignore_index=True)\n",
    "\n",
    "fmli = pd.concat([value for key,value in data.items() if 'fmli' in key.lower()], ignore_index=True)[[\"NEWID\",\"FINCBTXM\"]]    \n",
    "\n",
    "incomeRegressionSingle = pd.merge(incomeRegressionSingle, fmli, on='NEWID', how='inner')\n",
    "incomeRegressionSingle['TotalExp'] = incomeRegressionSingle['TotalExp'] * 4\n",
    "incomeRegressionSingle = incomeRegressionSingle[incomeRegressionSingle > 0].dropna()\n",
    "\n",
    "incomeRegressionFamily = pd.merge(incomeRegressionFamily, fmli, on='NEWID', how='inner')\n",
    "incomeRegressionFamily['TotalExp'] = incomeRegressionFamily['TotalExp'] * 4\n",
    "incomeRegressionFamily = incomeRegressionFamily[incomeRegressionFamily > 0].dropna()"
   ]
  },
  {
   "cell_type": "code",
   "execution_count": 26,
   "metadata": {
    "collapsed": false
   },
   "outputs": [],
   "source": [
    "def getExpendPercent(income, regressionDf, truncation = None):\n",
    "    if income <= 0:\n",
    "        return(1)\n",
    "    coefficients = np.polyfit(regressionDf.FINCBTXM, regressionDf.TotalExp, deg = 3)\n",
    "    p = np.poly1d(coefficients)\n",
    "#     print(p)\n",
    "    np.seterr(divide='ignore')\n",
    "    percent = p(income)/income\n",
    "    if percent > 1:\n",
    "        percent = 1\n",
    "    if (not truncation == None) and len(truncation) == 2:\n",
    "        truncationIncome = truncation[0]\n",
    "        truncationPercent = truncation[1]\n",
    "        if income > truncationIncome:\n",
    "            return(truncationPercent)\n",
    "    elif not truncation == None:\n",
    "        print(\"Truncation is not correct\")\n",
    "    return(percent)\n",
    "\n",
    "def oldRegression(income):\n",
    "    if income > 53000:\n",
    "        output = ((-7.6108*(10**(-17)))*(income**3))+((4.2009*(10**(-11)))*(income**2))+((-7.90256*(10**-6))*income)+1.21112\n",
    "    else:\n",
    "        output = 1\n",
    "    return(output)"
   ]
  },
  {
   "cell_type": "markdown",
   "metadata": {},
   "source": [
    "# Plotting"
   ]
  },
  {
   "cell_type": "code",
   "execution_count": 27,
   "metadata": {
    "collapsed": true
   },
   "outputs": [],
   "source": [
    "import matplotlib.pyplot as plt"
   ]
  },
  {
   "cell_type": "markdown",
   "metadata": {},
   "source": [
    "### Creating the Percent of Income Spent Graph"
   ]
  },
  {
   "cell_type": "code",
   "execution_count": 28,
   "metadata": {
    "collapsed": false
   },
   "outputs": [],
   "source": [
    "xSingleRegression = range(0,400000,1000)\n",
    "xFamilyRegression = range(0,400000,1000)\n",
    "xOldRegression = range(0,350000,1000)\n",
    "ySingleRegression = []\n",
    "yFamilyRegression = []\n",
    "yOldRegression = []\n",
    "for income in xSingleRegression:\n",
    "    ySingleRegression.append(getExpendPercent(income, incomeRegressionSingle))\n",
    "for income in xFamilyRegression:\n",
    "    yFamilyRegression.append(getExpendPercent(income, incomeRegressionFamily))\n",
    "for income in xOldRegression:\n",
    "    yOldRegression.append(oldRegression(income))"
   ]
  },
  {
   "cell_type": "markdown",
   "metadata": {},
   "source": [
    "### Trucation point for regressions"
   ]
  },
  {
   "cell_type": "code",
   "execution_count": 29,
   "metadata": {
    "collapsed": false
   },
   "outputs": [],
   "source": [
    "SingleTruncation = [ySingleRegression.index(min(ySingleRegression)) * 1000, round(min(ySingleRegression),2)]\n",
    "FamilyTruncation = [yFamilyRegression.index(min(yFamilyRegression)) * 1000, round(min(yFamilyRegression),2)]\n",
    "ySingleRegression = []\n",
    "yFamilyRegression = []\n",
    "for income in xSingleRegression:\n",
    "    ySingleRegression.append(getExpendPercent(income, incomeRegressionSingle, SingleTruncation))\n",
    "for income in xFamilyRegression:\n",
    "    yFamilyRegression.append(getExpendPercent(income, incomeRegressionFamily, FamilyTruncation))"
   ]
  },
  {
   "cell_type": "code",
   "execution_count": 30,
   "metadata": {
    "collapsed": false,
    "scrolled": true
   },
   "outputs": [
    {
     "data": {
      "image/png": "[encoded data removed]",
      "text/plain": [
       "<matplotlib.figure.Figure at 0x110f2e9e8>"
      ]
     },
     "metadata": {},
     "output_type": "display_data"
    }
   ],
   "source": [
    "plt.plot(xOldRegression,yOldRegression, color = \"g\", label = \"Old Regression\")\n",
    "plt.plot(xSingleRegression,ySingleRegression, color = \"b\", label = \"Single Regression\")\n",
    "plt.plot(xFamilyRegression,yFamilyRegression, color = \"r\", label = \"Family Regression\")\n",
    "plt.title(\"Income Spent Regressions\")\n",
    "plt.xlabel(\"Income\")\n",
    "plt.ylabel(\"Percent of Income Spent\")\n",
    "plt.legend()\n",
    "plt.show()"
   ]
  },
  {
   "cell_type": "markdown",
   "metadata": {},
   "source": [
    "### Number of Users"
   ]
  },
  {
   "cell_type": "code",
   "execution_count": 31,
   "metadata": {
    "collapsed": true
   },
   "outputs": [],
   "source": [
    "singleCountNEWIDs = {}\n",
    "for income in subsetNEWIDs[\"SingleIncome\"]:\n",
    "    newidSet = set()\n",
    "    for year in subsetNEWIDs[\"Year\"]:\n",
    "        for month in subsetNEWIDs[\"Month\"]:\n",
    "            newidSet = newidSet.union(Single[(year,month,income)])\n",
    "    singleCountNEWIDs[income] = len(newidSet)\n",
    "    \n",
    "familyCountNEWIDs = {}\n",
    "for income in subsetNEWIDs[\"FamilyIncome\"]:\n",
    "    newidSet = set()\n",
    "    for year in subsetNEWIDs[\"Year\"]:\n",
    "        for month in subsetNEWIDs[\"Month\"]:\n",
    "            newidSet = newidSet.union(Family[(year,month,income)])\n",
    "    familyCountNEWIDs[income] = len(newidSet)"
   ]
  },
  {
   "cell_type": "code",
   "execution_count": 32,
   "metadata": {
    "collapsed": false
   },
   "outputs": [
    {
     "data": {
      "image/png": "[encoded data removed]",
      "text/plain": [
       "<matplotlib.figure.Figure at 0x110fc7f98>"
      ]
     },
     "metadata": {},
     "output_type": "display_data"
    }
   ],
   "source": [
    "plt.bar(range(len(singleCountNEWIDs)), singleCountNEWIDs.values(), align='center', color='b')\n",
    "plt.xticks(range(len(singleCountNEWIDs)), singleCountNEWIDs.keys())\n",
    "plt.xlabel(\"Income Class\")\n",
    "plt.ylabel(\"Count of CUs\")\n",
    "plt.title(\"Count of Single Person CUs\")\n",
    "plt.show()"
   ]
  },
  {
   "cell_type": "code",
   "execution_count": 33,
   "metadata": {
    "collapsed": false
   },
   "outputs": [
    {
     "data": {
      "image/png": "[encoded data removed]",
      "text/plain": [
       "<matplotlib.figure.Figure at 0x111046668>"
      ]
     },
     "metadata": {},
     "output_type": "display_data"
    }
   ],
   "source": [
    "plt.bar(range(len(familyCountNEWIDs)), familyCountNEWIDs.values(), align='center', color='r')\n",
    "plt.xticks(range(len(familyCountNEWIDs)), familyCountNEWIDs.keys())\n",
    "plt.xlabel(\"Income Class\")\n",
    "plt.ylabel(\"Count of CUs\")\n",
    "plt.title(\"Count of Family CUs\")\n",
    "plt.show()"
   ]
  },
  {
   "cell_type": "markdown",
   "metadata": {},
   "source": [
    "# Get Example Expenditures"
   ]
  },
  {
   "cell_type": "code",
   "execution_count": 34,
   "metadata": {
    "collapsed": false
   },
   "outputs": [
    {
     "name": "stdout",
     "output_type": "stream",
     "text": [
      "It's a Family\n"
     ]
    },
    {
     "data": {
      "text/plain": [
       "FoodAtHome                    612.45\n",
       "FoodAway                      365.95\n",
       "Housing                       836.19\n",
       "OtherHousing                  575.69\n",
       "Utilities                     472.07\n",
       "ClothingAndBeauty             192.96\n",
       "Transportation               1469.87\n",
       "Healthcare                    654.20\n",
       "Entertainment                 397.53\n",
       "Miscellaneous                  83.46\n",
       "CharitableAndFamilyGiving     331.78\n",
       "Insurance                      56.38\n",
       "Education                      68.17\n",
       "Name: 12, dtype: float64"
      ]
     },
     "execution_count": 34,
     "metadata": {},
     "output_type": "execute_result"
    }
   ],
   "source": [
    "income = 120000\n",
    "single = False\n",
    "\n",
    "if single:\n",
    "    print(\"They are single!\")\n",
    "    regressionDf = incomeRegressionSingle\n",
    "    theIncomeBrackets = singleIncomeBrackets\n",
    "    plyntyDf = plyntySingle\n",
    "    truncation = SingleTruncation\n",
    "else:\n",
    "    print(\"It\\'s a Family\")\n",
    "    regressionDf = incomeRegressionFamily\n",
    "    theIncomeBrackets = familyIncomeBrackets\n",
    "    plyntyDf = plyntyFamily\n",
    "    truncation = FamilyTruncation\n",
    "\n",
    "def getIncomeBracketIndex(income, theIncomeBrackets):\n",
    "    incomebracket = 0\n",
    "    for i in range(0,len(theIncomeBrackets)):\n",
    "        if income <= theIncomeBrackets[i]:\n",
    "            return(i-1)\n",
    "    return(len(theIncomeBrackets)-1)\n",
    "\n",
    "round((plyntyDf.iloc[getIncomeBracketIndex(income, theIncomeBrackets),:] * getExpendPercent(income, regressionDf, truncation) * income)/ 12, 2)"
   ]
  },
  {
   "cell_type": "markdown",
   "metadata": {},
   "source": [
    "## Hospital room and services"
   ]
  },
  {
   "cell_type": "code",
   "execution_count": 35,
   "metadata": {
    "collapsed": false,
    "scrolled": true
   },
   "outputs": [
    {
     "data": {
      "image/png": "[encoded data removed]",
      "text/plain": [
       "<matplotlib.figure.Figure at 0x111224278>"
      ]
     },
     "metadata": {},
     "output_type": "display_data"
    }
   ],
   "source": [
    "plt.boxplot(list(oneTimeSubsetMtbi.COST))\n",
    "plt.title(\"Boxplot of Hospital Costs\")\n",
    "plt.ylabel(\"Dollars\")\n",
    "plt.show()"
   ]
  }
 ],
 "metadata": {
  "kernelspec": {
   "display_name": "Python 3",
   "language": "python",
   "name": "python3"
  },
  "language_info": {
   "codemirror_mode": {
    "name": "ipython",
    "version": 3
   },
   "file_extension": ".py",
   "mimetype": "text/x-python",
   "name": "python",
   "nbconvert_exporter": "python",
   "pygments_lexer": "ipython3",
   "version": "3.6.0"
  }
 },
 "nbformat": 4,
 "nbformat_minor": 2
}
